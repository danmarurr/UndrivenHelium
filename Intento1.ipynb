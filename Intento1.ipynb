{
 "cells": [
  {
   "cell_type": "code",
   "execution_count": 1,
   "metadata": {
    "collapsed": false
   },
   "outputs": [
    {
     "data": {
      "text/plain": [
       "Plots.PyPlotBackend()"
      ]
     },
     "execution_count": 1,
     "metadata": {},
     "output_type": "execute_result"
    }
   ],
   "source": [
    "using Plots, TaylorSeries\n",
    "pyplot(legend = :false)"
   ]
  },
  {
   "cell_type": "code",
   "execution_count": 2,
   "metadata": {
    "collapsed": false
   },
   "outputs": [
    {
     "data": {
      "text/plain": [
       "1.0e-20"
      ]
     },
     "execution_count": 2,
     "metadata": {},
     "output_type": "execute_result"
    }
   ],
   "source": [
    "const λ = 1.0\n",
    "const Z = 2.0\n",
    "const _ordenTaylor = 20\n",
    "const _epsAbs = 1.0e-20"
   ]
  },
  {
   "cell_type": "code",
   "execution_count": 3,
   "metadata": {
    "collapsed": false
   },
   "outputs": [
    {
     "data": {
      "text/plain": [
       "stepsize (generic function with 1 method)"
      ]
     },
     "execution_count": 3,
     "metadata": {},
     "output_type": "execute_result"
    }
   ],
   "source": [
    "# Returns stepsize of the integration and a vector with the updated values of the dependent\n",
    "# variables\n",
    "function taylorStepper{T<:Real}( jetEqs::Function, vec0::Array{T,1} )\n",
    "    \n",
    "    n = length( vec0 )\n",
    "\n",
    "    vec0T = Array(Taylor1{T},n)\n",
    "    @simd for i in eachindex(vec0)\n",
    "        @inbounds vec0T[i] = Taylor1([vec0[i]], _ordenTaylor)\n",
    "    end\n",
    "\n",
    "    # Jets\n",
    "    vec1T = jetEqs( vec0 )\n",
    "    \n",
    "    # Step-size\n",
    "    hh = Inf\n",
    "    for i in eachindex(vec1T)\n",
    "        @inbounds h1 = stepsize( vec1T[i], _epsAbs )\n",
    "        hh = min( hh, h1 )\n",
    "    end\n",
    "    \n",
    "    # Values at t0+h\n",
    "    @simd for i in eachindex(vec0)\n",
    "        @inbounds vec0[i] = evaluate( vec1T[i], hh )\n",
    "    end\n",
    "    \n",
    "    return hh, vec0\n",
    "end\n",
    "\n",
    "# Returns the maximum step size from epsilon and the last two coefficients of the x-Taylor series \n",
    "function stepsize{T<:Real}(x::Taylor1{T}, epsilon::Float64)\n",
    "    ord = x.order\n",
    "    h = Inf\n",
    "    for k in [ord-1, ord]\n",
    "        kinv = 1.0/k\n",
    "        aux = abs( x.coeffs[k+1] )\n",
    "        h = min(h, (epsilon/aux)^kinv)\n",
    "    end\n",
    "    return h\n",
    "end"
   ]
  },
  {
   "cell_type": "markdown",
   "metadata": {},
   "source": [
    "Aquí implementaremos el hamiltoniano regularizado, con $E = -1$, debe cumplirse que $H = 0 \\ \\forall t$, primero, tomaremos una función auxiliar:"
   ]
  },
  {
   "cell_type": "code",
   "execution_count": 4,
   "metadata": {
    "collapsed": false
   },
   "outputs": [
    {
     "data": {
      "text/plain": [
       "ks (generic function with 1 method)"
      ]
     },
     "execution_count": 4,
     "metadata": {},
     "output_type": "execute_result"
    }
   ],
   "source": [
    "function ks(Q)\n",
    "    Q₁, Q₂ = Q\n",
    "    x₁ = Q₁^2 - Q₂^2\n",
    "    x₂ = 2Q₁*Q₂\n",
    "    return Float64[Q₁, Q₂]\n",
    "end"
   ]
  },
  {
   "cell_type": "code",
   "execution_count": 5,
   "metadata": {
    "collapsed": false
   },
   "outputs": [
    {
     "data": {
      "text/plain": [
       "regHam (generic function with 2 methods)"
      ]
     },
     "execution_count": 5,
     "metadata": {},
     "output_type": "execute_result"
    }
   ],
   "source": [
    "function regHam(Q₁, Q₂, P₁, P₂)\n",
    "    #Cantidades auxiliares\n",
    "    P₁² = norm(P₁)^2\n",
    "    P₂² = norm(P₂)^2\n",
    "    Q₁² = norm(Q₁)^2\n",
    "    Q₂² = norm(Q₂)^2\n",
    "    nf = norm(ks(Q₁) - ks(Q₂))\n",
    "    \n",
    "    H = 0.125*(P₁²*Q₂² + P₂²*Q₁²) - Z*(Q₁² + Q₂²) + Q₁²*Q₂²*(1.0 + 1.0/nf)\n",
    "    return H\n",
    "end\n",
    "\n",
    "regHam(Q11, Q12, P11, P12, Q21, Q22, P21, P22) = regHam([Q11, Q12],[Q21, Q22],[P11, P12],[P21, P22])"
   ]
  },
  {
   "cell_type": "markdown",
   "metadata": {},
   "source": [
    "Implementaremos también la función para regresar las velocidades al espacio fase de la configuración original... "
   ]
  },
  {
   "cell_type": "code",
   "execution_count": 6,
   "metadata": {
    "collapsed": false
   },
   "outputs": [
    {
     "data": {
      "text/plain": [
       "ksv (generic function with 1 method)"
      ]
     },
     "execution_count": 6,
     "metadata": {},
     "output_type": "execute_result"
    }
   ],
   "source": [
    "function ksv(Q, P)\n",
    "    Q₁, Q₂ = Q\n",
    "    P₁, P₂ = P\n",
    "    v₁ = (Q₁*P₁ - Q₂*P₂)/(2*norm(Q)^2)\n",
    "    v₂ = (Q₂*P₁ + Q₁*P₂)/(2*norm(Q)^2)\n",
    "    return Float64[v₁, v₂]\n",
    "end"
   ]
  },
  {
   "cell_type": "code",
   "execution_count": 7,
   "metadata": {
    "collapsed": false
   },
   "outputs": [
    {
     "data": {
      "text/plain": [
       "jetundriven (generic function with 1 method)"
      ]
     },
     "execution_count": 7,
     "metadata": {},
     "output_type": "execute_result"
    }
   ],
   "source": [
    "function jetundriven{T<:Real}( vec::Array{T,1} )\n",
    "\n",
    "    tT = Taylor1(vec[1], _ordenTaylor)\n",
    "    Q11T = Taylor1(vec[2], _ordenTaylor)\n",
    "    Q12T = Taylor1(vec[3], _ordenTaylor)\n",
    "    P11T = Taylor1(vec[4], _ordenTaylor)\n",
    "    P12T = Taylor1(vec[5], _ordenTaylor)\n",
    "    Q21T = Taylor1(vec[6], _ordenTaylor)\n",
    "    Q22T = Taylor1(vec[7], _ordenTaylor)\n",
    "    P21T = Taylor1(vec[8], _ordenTaylor)\n",
    "    P22T = Taylor1(vec[9], _ordenTaylor)\n",
    "    # Auxiliary quantities\n",
    "    sQ11 = zeros( T, _ordenTaylor+1 )\n",
    "    sQ12 = zeros( T, _ordenTaylor+1 )\n",
    "    sP11 = zeros( T, _ordenTaylor+1 )\n",
    "    sP12 = zeros( T, _ordenTaylor+1 )\n",
    "    sQ21 = zeros( T, _ordenTaylor+1 )\n",
    "    sQ22 = zeros( T, _ordenTaylor+1 )\n",
    "    sP21 = zeros( T, _ordenTaylor+1 )\n",
    "    sP22 = zeros( T, _ordenTaylor+1 )\n",
    "    Q1112 = zeros( T, _ordenTaylor+1 )\n",
    "    Q2122 = zeros( T, _ordenTaylor+1 )\n",
    "    f1Q1Q2 = zeros( T, _ordenTaylor+1 )\n",
    "    f2Q1Q2 = zeros( T, _ordenTaylor+1 )\n",
    "    f12Q1Q2 = zeros( T, _ordenTaylor+1 )\n",
    "    f22Q1Q2 = zeros( T, _ordenTaylor+1 )\n",
    "    nfQ = zeros( T, _ordenTaylor+1 )\n",
    "    rnfQ = zeros( T, _ordenTaylor+1 )\n",
    "    n3fQ = zeros( T, _ordenTaylor+1 )\n",
    "    n2Q1 = zeros( T, _ordenTaylor+1 )\n",
    "    n2Q2 = zeros( T, _ordenTaylor+1 )\n",
    "    n2P1 = zeros( T, _ordenTaylor+1 )\n",
    "    n2P2 = zeros( T, _ordenTaylor+1 )\n",
    "    dotQ11 = zeros( T, _ordenTaylor+1 )\n",
    "    dotQ12 = zeros( T, _ordenTaylor+1 )\n",
    "    dotP11 = zeros( T, _ordenTaylor+1 )\n",
    "    dotP12 = zeros( T, _ordenTaylor+1 )\n",
    "    dotQ21 = zeros( T, _ordenTaylor+1 )\n",
    "    dotQ22 = zeros( T, _ordenTaylor+1 )\n",
    "    dotP21 = zeros( T, _ordenTaylor+1 )\n",
    "    dotP22 = zeros( T, _ordenTaylor+1 )\n",
    "    \n",
    "    s11P11 = zeros( T, _ordenTaylor+1 )\n",
    "    s1P11 = zeros( T, _ordenTaylor+1 )\n",
    "    P1d1 = zeros( T, _ordenTaylor+1 )\n",
    "    pP1 = zeros( T, _ordenTaylor+1 )\n",
    "    s2m21P11 = zeros( T, _ordenTaylor+1 )\n",
    "    s2m22P11 = zeros( T, _ordenTaylor+1 )\n",
    "    P1d2 = zeros( T, _ordenTaylor+1 )\n",
    "    P1d3 = zeros( T, _ordenTaylor+1 )\n",
    "    s2P11 = zeros( T, _ordenTaylor+1 )\n",
    "    \n",
    "    s11P12 = zeros( T, _ordenTaylor+1 )\n",
    "    s1P12 = zeros( T, _ordenTaylor+1 )\n",
    "    s2m21P12 = zeros( T, _ordenTaylor+1 )\n",
    "    s2m22P12 = zeros( T, _ordenTaylor+1 )\n",
    "    s2P12 = zeros( T, _ordenTaylor+1 )\n",
    "    \n",
    "    s11P21 = zeros( T, _ordenTaylor+1 )\n",
    "    P2d1 = zeros( T, _ordenTaylor+1 )\n",
    "    s1P21 = zeros( T, _ordenTaylor+1 )\n",
    "    ppP2 = zeros( T, _ordenTaylor+1 )\n",
    "    s2m21P21 = zeros( T, _ordenTaylor+1 )\n",
    "    s2m22P21 = zeros( T, _ordenTaylor+1 )\n",
    "    P2d2 = zeros( T, _ordenTaylor+1 )\n",
    "    P2d3 = zeros( T, _ordenTaylor+1 )\n",
    "    s2P21 = zeros( T, _ordenTaylor+1 )\n",
    "    \n",
    "    s11P22 = zeros( T, _ordenTaylor+1 )\n",
    "    s1P22 = zeros( T, _ordenTaylor+1 )\n",
    "    s2m2P22 = zeros( T, _ordenTaylor+1 )\n",
    "    s2m21P22 = zeros( T, _ordenTaylor+1 )\n",
    "    s2m22P22 = zeros( T, _ordenTaylor+1 )\n",
    "    s2P22 = zeros( T, _ordenTaylor+1 )\n",
    "    n2Qs = zeros(T, _ordenTaylor+1)\n",
    "    ppP1 = zeros(T, _ordenTaylor+1)\n",
    "    s2m2P21 = zeros(T, _ordenTaylor+1)\n",
    "    dott = zeros(T, _ordenTaylor+1)\n",
    "    \n",
    "    # Now the implementation\n",
    "    for k = 0:_ordenTaylor-1\n",
    "        knext = k+1\n",
    "        # The right-hand size of the eqs of motion\n",
    "        # This is more adpated for this problem, and avoids many superflous operations\n",
    "        #@show \"That's ok\"\n",
    "        sQ11[knext] = TaylorSeries.squareHomogCoef(k, Q11T.coeffs)\n",
    "        sQ12[knext] = TaylorSeries.squareHomogCoef(k, Q12T.coeffs)\n",
    "        sP11[knext] = TaylorSeries.squareHomogCoef(k, P11T.coeffs)\n",
    "        sP12[knext] = TaylorSeries.squareHomogCoef(k, P12T.coeffs)\n",
    "        sQ21[knext] = TaylorSeries.squareHomogCoef(k, Q21T.coeffs)\n",
    "        sQ22[knext] = TaylorSeries.squareHomogCoef(k, Q22T.coeffs)\n",
    "        sP21[knext] = TaylorSeries.squareHomogCoef(k, P21T.coeffs)\n",
    "        sP22[knext] = TaylorSeries.squareHomogCoef(k, P22T.coeffs)\n",
    "        Q1112[knext] = TaylorSeries.mulHomogCoef(k, Q11T.coeffs, Q12T.coeffs)\n",
    "        Q2122[knext] = TaylorSeries.mulHomogCoef(k, Q21T.coeffs, Q22T.coeffs)\n",
    "        f1Q1Q2[knext] = sQ11[knext] - sQ12[knext] - sQ21[knext] + sQ22[knext]  \n",
    "        f2Q1Q2[knext] =2*(Q1112[knext] - Q2122[knext])\n",
    "        f12Q1Q2[knext] = TaylorSeries.squareHomogCoef(k, f1Q1Q2)\n",
    "        f22Q1Q2[knext] = TaylorSeries.squareHomogCoef(k, f2Q1Q2)\n",
    "        rnfQ[knext] = f12Q1Q2[knext] + f22Q1Q2[knext]\n",
    "        nfQ[knext] = TaylorSeries.powHomogCoef(k, rnfQ, 0.5, nfQ, 0)\n",
    "        n3fQ[knext] = TaylorSeries.powHomogCoef(k, rnfQ, 1.5, n3fQ, 0)\n",
    "        n2Q1[knext] = sQ11[knext] + sQ12[knext]\n",
    "        n2Q2[knext] = sQ21[knext] + sQ22[knext]\n",
    "        n2P1[knext] = sP11[knext] + sP12[knext]\n",
    "        n2P2[knext] = sP21[knext] + sP22[knext]\n",
    "        n2Qs[knext] = TaylorSeries.mulHomogCoef(k, n2Q1, n2Q2)\n",
    "        \n",
    "        P1d1[knext] = TaylorSeries.divHomogCoef(k, n2Q2, nfQ, P1d1, 0)\n",
    "        s11P11[knext] = -0.125*n2P2[knext] + Z - P1d1[knext] - n2Q2[knext]\n",
    "        s1P11[knext] = 2.0*TaylorSeries.mulHomogCoef(k, Q11T.coeffs, s11P11)\n",
    "        P1d2[knext] = TaylorSeries.divHomogCoef(k, f1Q1Q2, n3fQ, P1d2, 0)\n",
    "        P1d3[knext] = TaylorSeries.divHomogCoef(k, f2Q1Q2, n3fQ, P1d3, 0)\n",
    "        s2m21P11[knext] = 2*TaylorSeries.mulHomogCoef(k, P1d2, Q11T.coeffs)\n",
    "        s2m22P11[knext] = 2*TaylorSeries.mulHomogCoef(k, P1d3, Q12T.coeffs)\n",
    "        ppP1[knext] = s2m21P11[knext] + s2m22P11[knext]\n",
    "        s2P11[knext] = TaylorSeries.mulHomogCoef(k, n2Qs, ppP1)\n",
    "        \n",
    "    \n",
    "        s11P12[knext] = -0.125*n2P2[knext] + Z - P1d1[knext] - n2Q2[knext]\n",
    "        s1P12[knext] = 2.0*TaylorSeries.mulHomogCoef(k, Q12T.coeffs, s11P12)\n",
    "        s2P12[knext] = TaylorSeries.mulHomogCoef(k, n2Qs, ppP1)\n",
    "        \n",
    "        \n",
    "        P2d1[knext] = TaylorSeries.divHomogCoef(k, n2Q1, nfQ, P2d1, 0)\n",
    "        s11P21[knext] = -0.125*n2P1[knext] + Z - P2d1[knext] - n2Q1[knext]\n",
    "        s1P21[knext] = 2.0*TaylorSeries.mulHomogCoef(k, Q21T.coeffs, s11P21)\n",
    "        s2m21P21[knext] = -2*TaylorSeries.mulHomogCoef(k, P1d2, Q21T.coeffs)\n",
    "        s2m22P21[knext] = -2*TaylorSeries.mulHomogCoef(k, P1d3, Q22T.coeffs)\n",
    "        s2m2P21[knext] = s2m21P21[knext] + s2m22P21[knext]\n",
    "        s2P21[knext] = TaylorSeries.mulHomogCoef(k, n2Qs, s2m2P21)\n",
    "        \n",
    "    \n",
    "        s11P22[knext] = -0.125*n2P1[knext] + Z - P2d1[knext] - n2Q2[knext]\n",
    "        s1P22[knext] = 2.0*TaylorSeries.mulHomogCoef(k, Q22T.coeffs, s11P22)\n",
    "        s2P22[knext] = TaylorSeries.mulHomogCoef(k, n2Qs, s2m2P21)\n",
    "        \n",
    "        \n",
    "\n",
    "        dotQ11[knext] = 0.25*TaylorSeries.mulHomogCoef(k,n2Q2, P11T.coeffs)\n",
    "        dotQ12[knext] = 0.25*TaylorSeries.mulHomogCoef(k,n2Q2, P12T.coeffs)\n",
    "        dotP11[knext] = s1P11[knext] + s2P11[knext]\n",
    "        dotP12[knext] = s1P12[knext] + s2P12[knext]\n",
    "        dotQ21[knext] = 0.25*TaylorSeries.mulHomogCoef(k,n2Q1, P21T.coeffs)\n",
    "        dotQ22[knext] = 0.25*TaylorSeries.mulHomogCoef(k,n2Q1, P22T.coeffs)\n",
    "        dotP21[knext] = s1P21[knext] + s2P21[knext]\n",
    "        dotP22[knext] = s1P22[knext] + s2P22[knext]     \n",
    "        dott[knext] = n2Qs[knext]\n",
    "        \n",
    "        #@show \"That's ok\"\n",
    "        Q11T.coeffs[knext + 1] = dotQ11[knext]/knext\n",
    "        Q12T.coeffs[knext + 1] = dotQ12[knext]/knext\n",
    "        P11T.coeffs[knext + 1] = dotP11[knext]/knext\n",
    "        P12T.coeffs[knext + 1] = dotP12[knext]/knext\n",
    "        Q21T.coeffs[knext + 1] = dotQ21[knext]/knext\n",
    "        Q22T.coeffs[knext + 1] = dotQ22[knext]/knext\n",
    "        P21T.coeffs[knext + 1] = dotP21[knext]/knext\n",
    "        P22T.coeffs[knext + 1] = dotP22[knext]/knext\n",
    "        tT.coeffs[knext + 1] = dott[knext]/knext\n",
    "    end\n",
    "    \n",
    "    return Taylor1[tT, Q11T, Q12T, P11T, P12T, Q21T, Q22T, P21T, P22T]\n",
    "end"
   ]
  },
  {
   "cell_type": "code",
   "execution_count": 8,
   "metadata": {
    "collapsed": false
   },
   "outputs": [
    {
     "data": {
      "text/plain": [
       "undrivenIntegration (generic function with 1 method)"
      ]
     },
     "execution_count": 8,
     "metadata": {},
     "output_type": "execute_result"
    }
   ],
   "source": [
    "function undrivenIntegration(x10::Float64, px10::Float64, time_max::Float64, jetEqs::Function )\n",
    "    \n",
    "    Q₁, Q₂, P₁, P₂ = condini(x10, px10)\n",
    "    τ₀ = 0.0\n",
    "    t0 = 0.0\n",
    "    Q11₀, Q12₀ = Q₁\n",
    "    P11₀, P12₀ = P₁\n",
    "    Q21₀, Q22₀ = Q₂\n",
    "    P21₀, P22₀ = P₂\n",
    "    \n",
    "    ene0 = regHam(Q₁, Q₂, P₁, P₂)\n",
    "        \n",
    "    Q11v, Q12v, P11v, P12v = Float64[], Float64[], Float64[], Float64[]\n",
    "    Q21v, Q22v, P21v, P22v = Float64[], Float64[], Float64[], Float64[]\n",
    "    tv, τv = Float64[], Float64[]\n",
    "    DeneV= Float64[]\n",
    "    push!(tv, t0)\n",
    "    push!(τv, τ₀)\n",
    "    push!(Q11v, Q11₀)\n",
    "    push!(Q12v, Q12₀)\n",
    "    push!(P11v, P11₀)\n",
    "    push!(P12v, P12₀)\n",
    "    push!(Q21v, Q21₀)\n",
    "    push!(Q22v, Q22₀)\n",
    "    push!(P21v, P21₀)\n",
    "    push!(P22v, P22₀)\n",
    "       \n",
    "    push!(DeneV, zero(Float64))\n",
    "    \n",
    "    # This is the main loop; we include a minimum step size for security\n",
    "    dτ = 1.0\n",
    "    while dτ < time_max && dτ>1.0e-8\n",
    "        #Preparamos el vector para integrar\n",
    "        temp1 = Float64[t0, Q11₀, Q12₀, P11₀, P12₀, Q21₀, Q22₀, P21₀, P22₀]\n",
    "        # Here we integrate\n",
    "        dτ, (t, Q11, Q12, P11, P12, Q21, Q22, P21, P22) = taylorStepper( jetEqs, temp1);\n",
    "        \n",
    "        Q11, Q12 = Q₁\n",
    "        P11, P12 = P₁\n",
    "        Q21, Q22 = Q₂\n",
    "        P21, P22 = P₂\n",
    "        τ₀ += dτ\n",
    "        push!(tv, t)\n",
    "        push!(τv, τ₀)\n",
    "        push!(Q11v, Q11)\n",
    "        push!(Q12v, Q12)\n",
    "        push!(P11v, P11)\n",
    "        push!(P12v, P12)\n",
    "        push!(Q21v, Q21)\n",
    "        push!(Q22v, Q22)\n",
    "        push!(P21v, P21)\n",
    "        push!(P22v, P22)\n",
    "        eneEnd = regHam(Q11, Q12, P11, P12, Q21, Q22, P21, P22)\n",
    "        \n",
    "        dEne = abs(eneEnd)\n",
    "        \n",
    "        push!(DeneV, dEne)\n",
    "        temp1 = Float64[t, Q11, Q12, P11, P12, Q21, Q22, P21, P22]\n",
    "    end\n",
    "\n",
    "    return tv, τv, Q11v, Q12v, P11v, P12v, Q21v, Q22v, P21v, P22v, DeneV\n",
    "end"
   ]
  },
  {
   "cell_type": "markdown",
   "metadata": {},
   "source": [
    "Para la configuración de $Zee$ en 1D necesitamos que $y_1, y_2 = 0$; $p_{y_1}, p_{y_2} = 0$, además, necesitamos la condición de que la partícula 2 colisione con el núcleo, por lo que $x_2 = 0$ sobre las coordenadas $(\\mathbf{P}, \\mathbf{Q})$ implican que:\n",
    "\n",
    "\\begin{align}\n",
    "    x_1 = x_{1_0} &\\Leftrightarrow Q_{11}^2 - Q_{12}^2 = x_{1_0}\\\\\n",
    "    y_1 = 0 &\\Leftrightarrow 2Q_{11}Q_{12} = 0\\\\\n",
    "    x_2 = 0 &\\Leftrightarrow Q_{21}^2 - Q_{22}^2 = x_{2_0}\\\\\n",
    "    y_2 = 0 &\\Leftrightarrow 2Q_{21}Q_{22} = 0 \\\\\n",
    "    p_{x_1} = px_{1_0} &\\Leftrightarrow \\frac{Q_{11}P_{11} - Q_{12}P_{12}}{2R_1^2} = px_{1_0}\\\\\n",
    "    p_{y_1} = 0 &\\Leftrightarrow \\frac{Q_{12}P_{11} + Q_{11}P_{12}}{2R_1^2} = 0\\\\\n",
    "    p_{x_2} = px_{2_0} &\\Leftrightarrow \\frac{Q_{21}P_{21} - Q_{22}P_{22}}{2R_2^2} = px_{2_0}\\\\\n",
    "    p_{y_2} = 0 &\\Leftrightarrow \\frac{Q_{22}P_{21} + Q_{21}P_{22}}{2R_2^2} = 0\n",
    "\\end{align}\n",
    "\n",
    "\n",
    "A partir de esto, podemos concluir que:\n",
    "\n",
    "\\begin{align}\n",
    "    Q_{11} &= \\sqrt{x_{1_0}}\\\\\n",
    "    Q_{12} &= 0\\\\\n",
    "    Q_{21} &= 0\\\\\n",
    "    Q_{22} &= 0\\\\\n",
    "    P_{11} &= \\frac{2R_1^2px_{1_0}}{Q_{11}}\\\\\n",
    "    P_{12} &= 0\\\\\n",
    "    P_{22} &= 0\n",
    "\\end{align}\n",
    "\n",
    "Para las condiciones sobre los momento $P_{21} = 0$ de la partícula 2, debemos considerar la condición sobre la energía del sistema (considerando el hamiltoniano regularizado $H^{SC}$), pues recordemos que se debe cumplir que $H = 0$. Usando las condiciones ya encontradas se halla que debe cumplirse que $|P_2|^2 = Z = 2$, entonces:\n",
    "\n",
    "\\begin{align}\n",
    "    Q_{11} &= \\sqrt{x_{1_0}}\\\\\n",
    "    Q_{12} &= 0\\\\\n",
    "    Q_{21} &= 0\\\\\n",
    "    Q_{22} &= 0\\\\\n",
    "    P_{11} &= \\frac{2x_{1_0}p_{x_{1}}}{\\sqrt{x_{1_0}}}\\\\\n",
    "    P_{12} &= 0\\\\\n",
    "    P_{21} &= \\sqrt{Z}\\\\\n",
    "    P_{22} &= 0\n",
    "\\end{align}\n"
   ]
  },
  {
   "cell_type": "code",
   "execution_count": 9,
   "metadata": {
    "collapsed": false
   },
   "outputs": [
    {
     "data": {
      "text/plain": [
       "condini (generic function with 1 method)"
      ]
     },
     "execution_count": 9,
     "metadata": {},
     "output_type": "execute_result"
    }
   ],
   "source": [
    "function condini(x10::Float64, px10::Float64)\n",
    "    @assert x10 != 0\n",
    "    Q11 = sqrt(x10)\n",
    "    Q12 = 0.0\n",
    "    Q21 = 0.0\n",
    "    Q22 = 0.0\n",
    "    P11 = 2*x10*px10/sqrt(x10)\n",
    "    P12 = 0.0\n",
    "    P21 = sqrt(Z)\n",
    "    P22 = 0.0\n",
    "    return Float64[Q11, Q12], Float64[Q21, Q22], Float64[P11, P12], Float64[P21, P22]\n",
    "end"
   ]
  },
  {
   "cell_type": "code",
   "execution_count": 10,
   "metadata": {
    "collapsed": false
   },
   "outputs": [
    {
     "data": {
      "text/plain": [
       "([0.83666,0.0],[0.0,0.0],[0.669328,0.0],[1.41421,0.0])"
      ]
     },
     "execution_count": 10,
     "metadata": {},
     "output_type": "execute_result"
    }
   ],
   "source": [
    "condini(0.7, 0.4)"
   ]
  },
  {
   "cell_type": "code",
   "execution_count": 11,
   "metadata": {
    "collapsed": false
   },
   "outputs": [
    {
     "ename": "LoadError",
     "evalue": "InterruptException:",
     "output_type": "error",
     "traceback": [
      "InterruptException:",
      "",
      " in vect(::Float64, ::Vararg{Float64,N}) at ./abstractarray.jl:21",
      " in macro expansion at ./In[3]:9 [inlined]",
      " in macro expansion at ./simdloop.jl:73 [inlined]",
      " in taylorStepper(::#jetundriven, ::Array{Float64,1}) at ./In[3]:8",
      " in undrivenIntegration(::Float64, ::Float64, ::Float64, ::Function) at ./In[8]:36"
     ]
    }
   ],
   "source": [
    "@time tv, τv, Q11v, Q12v, P11v, P12v, Q21v, Q22v, P21v, P22v, \n",
    "DeneV = undrivenIntegration(5.1, 1.4, 2.1, jetundriven)"
   ]
  }
 ],
 "metadata": {
  "kernelspec": {
   "display_name": "Julia 0.5.0",
   "language": "julia",
   "name": "julia-0.5"
  },
  "language_info": {
   "file_extension": ".jl",
   "mimetype": "application/julia",
   "name": "julia",
   "version": "0.5.0"
  }
 },
 "nbformat": 4,
 "nbformat_minor": 0
}
