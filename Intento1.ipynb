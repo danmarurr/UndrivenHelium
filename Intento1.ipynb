{
 "cells": [
  {
   "cell_type": "code",
   "execution_count": 1,
   "metadata": {
    "collapsed": false
   },
   "outputs": [
    {
     "data": {
      "text/plain": [
       "Plots.PyPlotBackend()"
      ]
     },
     "execution_count": 1,
     "metadata": {},
     "output_type": "execute_result"
    }
   ],
   "source": [
    "using Plots, TaylorSeries\n",
    "pyplot(legend = :false)"
   ]
  },
  {
   "cell_type": "markdown",
   "metadata": {},
   "source": [
    "Ok, primero hay que lidiar con las condiciones iniciales, establecemos las constantes necesarias:"
   ]
  },
  {
   "cell_type": "code",
   "execution_count": 2,
   "metadata": {
    "collapsed": false
   },
   "outputs": [
    {
     "data": {
      "text/plain": [
       "1.0e-20"
      ]
     },
     "execution_count": 2,
     "metadata": {},
     "output_type": "execute_result"
    }
   ],
   "source": [
    "const λ = 1.0\n",
    "const Z = 2.0\n",
    "const _ordenTaylor = 28\n",
    "const _epsAbs = 1.0e-20\n"
   ]
  },
  {
   "cell_type": "markdown",
   "metadata": {},
   "source": [
    "Para establecer condiciones iniciales, debemos tomar aquellas que cumplan con que $E = -1$, además de que los electrones deben estar en el eje $x$, además: $p_{\\theta} = 0$"
   ]
  },
  {
   "cell_type": "code",
   "execution_count": 3,
   "metadata": {
    "collapsed": false
   },
   "outputs": [
    {
     "data": {
      "text/plain": [
       "stepsize (generic function with 1 method)"
      ]
     },
     "execution_count": 3,
     "metadata": {},
     "output_type": "execute_result"
    }
   ],
   "source": [
    "# Returns stepsize of the integration and a vector with the updated values of the dependent\n",
    "# variables\n",
    "function taylorStepper{T<:Real}( jetEqs::Function, vec0::Array{T,1} )\n",
    "    \n",
    "    n = length( vec0 )\n",
    "\n",
    "    vec0T = Array(Taylor1{T},n)\n",
    "    @simd for i in eachindex(vec0)\n",
    "        @inbounds vec0T[i] = Taylor1([vec0[i]], _ordenTaylor)\n",
    "    end\n",
    "\n",
    "    # Jets\n",
    "    vec1T = jetEqs( vec0 )\n",
    "    \n",
    "    # Step-size\n",
    "    hh = Inf\n",
    "    for i in eachindex(vec1T)\n",
    "        @inbounds h1 = stepsize( vec1T[i], _epsAbs )\n",
    "        hh = min( hh, h1 )\n",
    "    end\n",
    "    \n",
    "    # Values at t0+h\n",
    "    @simd for i in eachindex(vec0)\n",
    "        @inbounds vec0[i] = evaluate( vec1T[i], hh )\n",
    "    end\n",
    "    \n",
    "    return hh, vec0\n",
    "end\n",
    "\n",
    "# Returns the maximum step size from epsilon and the last two coefficients of the x-Taylor series \n",
    "function stepsize{T<:Real}(x::Taylor1{T}, epsilon::Float64)\n",
    "    ord = x.order\n",
    "    h = Inf\n",
    "    for k in [ord-1, ord]\n",
    "        kinv = 1.0/k\n",
    "        aux = abs( x.coeffs[k+1] )\n",
    "        h = min(h, (epsilon/aux)^kinv)\n",
    "    end\n",
    "    return h\n",
    "end"
   ]
  },
  {
   "cell_type": "markdown",
   "metadata": {},
   "source": [
    "Aquí implementaremos el hamiltoniano regularizado, con $E = -1$, debe cumplirse que $H = 0 \\ \\forall t$, primero, tomaremos una función auxiliar:"
   ]
  },
  {
   "cell_type": "code",
   "execution_count": 9,
   "metadata": {
    "collapsed": false
   },
   "outputs": [
    {
     "name": "stderr",
     "output_type": "stream",
     "text": [
      "WARNING: Method definition ks(Any) in module Main at In[7]:2 overwritten at In[9]:2.\n"
     ]
    },
    {
     "data": {
      "text/plain": [
       "ks (generic function with 1 method)"
      ]
     },
     "execution_count": 9,
     "metadata": {},
     "output_type": "execute_result"
    }
   ],
   "source": [
    "function ks(Q)\n",
    "    Q₁, Q₂ = Q\n",
    "    x₁ = Q₁^2 - Q₂^2\n",
    "    x₂ = 2Q₁*Q₂\n",
    "    return Float64[Q₁, Q₂]\n",
    "end"
   ]
  },
  {
   "cell_type": "code",
   "execution_count": 16,
   "metadata": {
    "collapsed": false
   },
   "outputs": [
    {
     "name": "stderr",
     "output_type": "stream",
     "text": [
      "WARNING: Method definition regHam(Any, Any, Any, Any) in module Main at In[8]:3 overwritten at In[16]:3.\n"
     ]
    },
    {
     "data": {
      "text/plain": [
       "regHam (generic function with 2 methods)"
      ]
     },
     "execution_count": 16,
     "metadata": {},
     "output_type": "execute_result"
    }
   ],
   "source": [
    "function regHam(Q₁, Q₂, P₁, P₂)\n",
    "    #Cantidades auxiliares\n",
    "    P₁² = norm(P₁)^2\n",
    "    P₂² = norm(P₂)^2\n",
    "    Q₁² = norm(Q₁)^2\n",
    "    Q₂² = norm(Q₂)^2\n",
    "    nf = norm(ks(Q₁) - ks(Q₂))\n",
    "    \n",
    "    H = 0.125*(P₁²*Q₂² + P₂²*Q₁²) - Z*(Q₁² + Q₂²) + Q₁²*Q₂²*(1.0 + 1.0/nf)\n",
    "    return H\n",
    "end\n",
    "\n",
    "regHam(Q11, Q12, P11, P12, Q21, Q22, P21, P22) = regHam([Q11, Q12],[Q21, Q22],[P11, P12],[P21, P22])"
   ]
  },
  {
   "cell_type": "markdown",
   "metadata": {},
   "source": [
    "Implementaremos también la función para regresar las velocidades al espacio fase de la configuración original... "
   ]
  },
  {
   "cell_type": "code",
   "execution_count": 10,
   "metadata": {
    "collapsed": false
   },
   "outputs": [
    {
     "data": {
      "text/plain": [
       "ksv (generic function with 1 method)"
      ]
     },
     "execution_count": 10,
     "metadata": {},
     "output_type": "execute_result"
    }
   ],
   "source": [
    "function ksv(Q, P)\n",
    "    Q₁, Q₂ = Q\n",
    "    P₁, P₂ = P\n",
    "    v₁ = (Q₁*P₁ - Q₂*P₂)/(2*norm(Q)^2)\n",
    "    v₂ = (Q₂*P₁ + Q₁*P₂)/(2*norm(Q)^2)\n",
    "    return Float64[v₁, v₂]\n",
    "end"
   ]
  },
  {
   "cell_type": "code",
   "execution_count": null,
   "metadata": {
    "collapsed": true
   },
   "outputs": [],
   "source": [
    "function keplerIntegration(Q₁, Q₂, P₁, P₂, time_max::Float64, jetEqs::Function )\n",
    "    τ₀ = 0.0\n",
    "    t0 = 0.0\n",
    "    Q11₀, Q12₀ = Q₁\n",
    "    P11₀, P12₀ = P₁\n",
    "    Q21₀, Q22₀ = Q₂\n",
    "    P21₀, P22₀ = P₂\n",
    "    \n",
    "    ene0 = regHam(Q₁, Q₂, P₁, P₂)\n",
    "        \n",
    "    Q11v, Q12v, P11v, P12v = Float64[], Float64[], Float64[], Float64[]\n",
    "    Q21, Q22, P21v, P22v = Float64[], Float64[], Float64[], Float64[]\n",
    "    tv, τv = Float64[], Float64[]\n",
    "    DeneV= Float64[]\n",
    "    push!(tv, t0)\n",
    "    push!(Q11v, Q11₀)\n",
    "    push!(Q12v, Q12₀)\n",
    "    push!(P11v, P11₀)\n",
    "    push!(P12v, P12₀)\n",
    "    push!(Q21v, Q21₀)\n",
    "    push!(Q22v, Q22₀)\n",
    "    push!(P21v, P21₀)\n",
    "    push!(P22v, P22₀)\n",
    "       \n",
    "    push!(DeneV, zero(Float64))\n",
    "    \n",
    "    # This is the main loop; we include a minimum step size for security\n",
    "    dτ = 1.0\n",
    "    while dτ < time_max && dτ>1.0e-8\n",
    "        #Preparamos el vector para integrar\n",
    "        temp1 = Float64[t0, Q11₀, Q12₀, P11₀, P12₀, Q21₀, Q22₀, P21₀, P22₀]\n",
    "        # Here we integrate\n",
    "        dτ, (t, Q11, Q12, P11, P12, Q21, Q22, P21, P22) = taylorStepper( jetEqs, temp1);\n",
    "        \n",
    "        Q11, Q12 = Q₁\n",
    "        P11, P12 = P₁\n",
    "        Q21, Q22 = Q₂\n",
    "        P21, P22 = P₂\n",
    "        τ0 += dτ\n",
    "        push!(tv, t)\n",
    "        push!(τv, τ0)\n",
    "        push!(Q11v, Q11)\n",
    "        push!(Q12v, Q12)\n",
    "        push!(P11v, P11)\n",
    "        push!(P12v, P12)\n",
    "        push!(Q21v, Q21)\n",
    "        push!(Q22v, Q22)\n",
    "        push!(P21v, P21)\n",
    "        push!(P22v, P22)\n",
    "        eneEnd = regHam(Q11, Q12, P11, P12, Q21, Q22, P21, P22)\n",
    "        \n",
    "        dEne = abs(eneEnd)\n",
    "        \n",
    "        push!(DeneV, dEne)\n",
    "        temp1 = Float64[t, Q11, Q12, P11, P12, Q21, Q22, P21, P22]\n",
    "    end\n",
    "\n",
    "    return tv, τv, Q11v, Q12v, P11v, P12v, Q21v, Q22v, P21v, P22v, DeneV\n",
    "end"
   ]
  },
  {
   "cell_type": "code",
   "execution_count": null,
   "metadata": {
    "collapsed": true
   },
   "outputs": [],
   "source": [
    "function jetundriven{T<:Real}( vec::Array{T,1} )\n",
    "\n",
    "    tT = Taylor1(vec[1], _ordenTaylor)\n",
    "    Q11T = Taylor1(vec[2], _ordenTaylor)\n",
    "    Q12T = Taylor1(vec[3], _ordenTaylor)\n",
    "    P11T = Taylor1(vec[4], _ordenTaylor)\n",
    "    P12T = Taylor1(vec[5], _ordenTaylor)\n",
    "    Q21T = Taylor1(vec[6], _ordenTaylor)\n",
    "    Q22T = Taylor1(vec[7], _ordenTaylor)\n",
    "    P21T = Taylor1(vec[8], _ordenTaylor)\n",
    "    P22T = Taylor1(vec[9], _ordenTaylor)\n",
    "    # Auxiliary quantities\n",
    "    x2T = zeros( T, _ordenTaylor+1 )\n",
    "    y2T = zeros( T, _ordenTaylor+1 )\n",
    "    sT  = zeros( T, _ordenTaylor+1 )\n",
    "    rT3 = zeros( T, _ordenTaylor+1 )\n",
    "    nQ1 = zeros( T, _ordenTaylor+1 )\n",
    "    nQ2 = zeros( T, _ordenTaylor+1 )\n",
    "    nP1 = zeros( T, _ordenTaylor+1 )\n",
    "    nP2 = zeros( T, _ordenTaylor+1 )\n",
    "    n2Q1 = zeros( T, _ordenTaylor+1 )\n",
    "    n2Q2 = zeros( T, _ordenTaylor+1 )\n",
    "    n2P1 = zeros( T, _ordenTaylor+1 )\n",
    "    n2P2 = zeros( T, _ordenTaylor+1 )\n",
    "    dotQ11 = zeros( T, _ordenTaylor+1 )\n",
    "    dotQ12 = zeros( T, _ordenTaylor+1 )\n",
    "    dotP11 = zeros( T, _ordenTaylor+1 )\n",
    "    dotP12 = zeros( T, _ordenTaylor+1 )\n",
    "    dotQ21 = zeros( T, _ordenTaylor+1 )\n",
    "    dotQ22 = zeros( T, _ordenTaylor+1 )\n",
    "    dotP21 = zeros( T, _ordenTaylor+1 )\n",
    "    dotP22 = zeros( T, _ordenTaylor+1 )\n",
    "\n",
    "    # Now the implementation\n",
    "    for k = 0:_ordenTaylor-1\n",
    "        knext = k+1\n",
    "        # The right-hand size of the eqs of motion\n",
    "        # This is more adpated for this problem, and avoids many superflous operations\n",
    "        x2T[knext] = TaylorSeries.squareHomogCoef(k, xT.coeffs)\n",
    "        y2T[knext] = TaylorSeries.squareHomogCoef(k, yT.coeffs)\n",
    "        sT[knext]  = x2T[knext] + y2T[knext]\n",
    "        rT3[knext] = TaylorSeries.powHomogCoef(k, sT, 1.5, rT3, 0)\n",
    "        Fx[knext]  = TaylorSeries.divHomogCoef(k, xT.coeffs, rT3, Fx, 0)\n",
    "        Fy[knext]  = TaylorSeries.divHomogCoef(k, yT.coeffs, rT3, Fy, 0)\n",
    "        # The equations of motion define the recurrencies\n",
    "        xT.coeffs[knext+1]  = vxT.coeffs[knext] / knext\n",
    "        yT.coeffs[knext+1]  = vyT.coeffs[knext] / knext\n",
    "        vxT.coeffs[knext+1] = -GM * Fx[knext] / knext\n",
    "        vyT.coeffs[knext+1] = -GM * Fy[knext] / knext\n",
    "    end\n",
    "    \n",
    "    return Taylor1[ xT, yT, vxT, vyT ]\n",
    "end"
   ]
  }
 ],
 "metadata": {
  "kernelspec": {
   "display_name": "Julia 0.5.0",
   "language": "julia",
   "name": "julia-0.5"
  },
  "language_info": {
   "file_extension": ".jl",
   "mimetype": "application/julia",
   "name": "julia",
   "version": "0.5.0"
  }
 },
 "nbformat": 4,
 "nbformat_minor": 0
}
