{
 "cells": [
  {
   "cell_type": "code",
   "execution_count": 1,
   "metadata": {
    "collapsed": false
   },
   "outputs": [
    {
     "name": "stderr",
     "output_type": "stream",
     "text": [
      "WARNING: Method definition macroexpand(Module, Any) in module Compat at /home/daniel/.julia/v0.5/Compat/src/Compat.jl:1491 overwritten in module MacroTools at /home/daniel/.julia/v0.5/MacroTools/src/utils.jl:64.\n"
     ]
    },
    {
     "data": {
      "text/plain": [
       "500000"
      ]
     },
     "execution_count": 1,
     "metadata": {},
     "output_type": "execute_result"
    }
   ],
   "source": [
    "using TaylorSeries, TaylorIntegration\n",
    "using Plots, LaTeXStrings\n",
    "# plotly()\n",
    "pyplot(grid = :false, legend = :false, size=(600,600), color=:black, markersize = 0.3 )\n",
    "const Z = 2.0\n",
    "const order = 20\n",
    "const t0 = 0.0\n",
    "const t_max = 0.5 \n",
    "const abs_tol = 1.0E-20\n",
    "const steps = 500_000"
   ]
  },
  {
   "cell_type": "code",
   "execution_count": 2,
   "metadata": {
    "collapsed": false
   },
   "outputs": [
    {
     "data": {
      "text/plain": [
       "errHam (generic function with 1 method)"
      ]
     },
     "execution_count": 2,
     "metadata": {},
     "output_type": "execute_result"
    }
   ],
   "source": [
    "function undrivenHelium!(τ, q, dq)\n",
    "    tT, Q₁, Q₂, P₁, P₂ = q\n",
    "    \n",
    "    t1 = Q₁^2\n",
    "    t2 = Q₂^2\n",
    "    t = t1 * t2\n",
    "    dq[1] = t\n",
    "    R12 = t1 - t2\n",
    "    R122 = R12^2\n",
    "    RRR = (R122)^(3/2)\n",
    "   \n",
    "    dq[2] = 0.25*t2*P₁\n",
    "    dq[4] = 2Q₁*(-0.125P₂^2 + Z  - t2 - t2/sqrt(R122) + t*R12/RRR)\n",
    "    dq[3] = 0.25*t1*P₂\n",
    "    dq[5] = 2Q₂*(-0.125P₁^2 + Z  - t1 - t1/sqrt(R122) - t*R12/RRR)\n",
    "\n",
    "#    return [t, q₁, q₂, p₁, p₂] \n",
    "    nothing\n",
    "end\n",
    "#undrivenHelium(v) = undrivenHelium(zero(eltype(v)), v)\n",
    "\n",
    "\n",
    "var1 = set_variables(\"t q1 q2 p1 p2\", order = 1)\n",
    "\n",
    "\n",
    "function condini(x10::Float64, px10::Float64)\n",
    "    @assert x10 != 0\n",
    "    Q1 = sqrt(x10)\n",
    "    Q2 = 0.0\n",
    "    P1 = px10*sqrt(x10)    \n",
    "    P2 = sqrt(8Z)    \n",
    "    return [0, Q1, Q2, P1, P2]\n",
    "end\n",
    "\n",
    "function regHam(t, Q₁, Q₂, P₁, P₂)\n",
    "    #Cantidades auxiliares\n",
    "    P₁² = P₁^2\n",
    "    P₂² = P₂^2\n",
    "    Q₁² = Q₁^2\n",
    "    Q₂² = Q₂^2\n",
    "    nf = abs(Q₁² - Q₂²)\n",
    "    \n",
    "    H = 0.125*(P₁²*Q₂² + P₂²*Q₁²) - Z*(Q₁² + Q₂²) + Q₁²*Q₂²*(1.0 + 1.0/nf)\n",
    "    return H\n",
    "end\n",
    "\n",
    "\n",
    "regHam(v) = regHam(v...)\n",
    "\n",
    "function errHam(N::Int)\n",
    "    srand(487293456)\n",
    "    J = [0 0 0 0 0; 0 0 0 1 0; 0 0 0 0 1; 0 -1 0 0 0; 0 0 -1 0 0 ]\n",
    "    \n",
    "    dnorm = zeros(N)\n",
    "    als = typeof(zeros(5))[]\n",
    "    for j in 1:N\n",
    "        al = 10*rand(5)\n",
    "        #al = [BigFloat(x) for x in al1]\n",
    "        alt = al + var1\n",
    "        ene = J*∇(regHam(alt))\n",
    "        ene1 = [ene[k].coeffs[1].coeffs[1] for k in 1:5]\n",
    "        meq = undrivenHelium(al)\n",
    "        push!(als, al)\n",
    "        meq[1] = 0\n",
    "        dnorm[j] = norm(meq - ene1) \n",
    "    end\n",
    "    return dnorm, als \n",
    "end"
   ]
  },
  {
   "cell_type": "code",
   "execution_count": 3,
   "metadata": {
    "collapsed": false
   },
   "outputs": [
    {
     "data": {
      "text/plain": [
       "q2sign (generic function with 1 method)"
      ]
     },
     "execution_count": 3,
     "metadata": {},
     "output_type": "execute_result"
    }
   ],
   "source": [
    "function q2sign(xold, x0, tol)\n",
    "    if abs(xold[3]) < tol\n",
    "        sq2o = 0\n",
    "    else\n",
    "        sq2o = sign(xold[3])\n",
    "    end\n",
    "    \n",
    "    if abs(x0[3]) < tol\n",
    "        sq2 = 0\n",
    "    else\n",
    "        sq2 = sign(x0[3])\n",
    "    end\n",
    "    if abs(xold[5]) < tol\n",
    "        sp2o = 0\n",
    "    else\n",
    "        sp2o = sign(xold[5])\n",
    "    end\n",
    "    \n",
    "    if abs(x0[5]) < tol\n",
    "        sp2 = 0\n",
    "    else\n",
    "        sp2 = sign(x0[5])\n",
    "    end\n",
    "    return sq2o, sq2, sp2o, sp2\n",
    "end\n",
    "    "
   ]
  },
  {
   "cell_type": "code",
   "execution_count": 4,
   "metadata": {
    "collapsed": false
   },
   "outputs": [
    {
     "data": {
      "text/plain": [
       "5-element Array{Float64,1}:\n",
       " 0.0     \n",
       " 0.344379\n",
       " 0.0     \n",
       " 0.129793\n",
       " 4.0     "
      ]
     },
     "execution_count": 4,
     "metadata": {},
     "output_type": "execute_result"
    }
   ],
   "source": [
    "a1 = condini(rand(2)...)"
   ]
  },
  {
   "cell_type": "code",
   "execution_count": 10,
   "metadata": {
    "collapsed": false
   },
   "outputs": [
    {
     "data": {
      "text/plain": [
       "5-element Array{TaylorSeries.TaylorN{Float64},1}:\n",
       "                         1.0 t + 𝒪(‖x‖²)\n",
       "    0.344379282501321 + 1.0 q1 + 𝒪(‖x‖²)\n",
       "                        1.0 q2 + 𝒪(‖x‖²)\n",
       "  0.12979340486329646 + 1.0 p1 + 𝒪(‖x‖²)\n",
       "                  4.0 + 1.0 p2 + 𝒪(‖x‖²)"
      ]
     },
     "execution_count": 10,
     "metadata": {},
     "output_type": "execute_result"
    }
   ],
   "source": [
    "b1 = a1+var1"
   ]
  },
  {
   "cell_type": "code",
   "execution_count": 11,
   "metadata": {
    "collapsed": false
   },
   "outputs": [
    {
     "data": {
      "text/plain": [
       "5-element Array{TaylorSeries.Taylor1{TaylorSeries.TaylorN{Float64}},1}:\n",
       " #undef\n",
       " #undef\n",
       " #undef\n",
       " #undef\n",
       " #undef"
      ]
     },
     "execution_count": 11,
     "metadata": {},
     "output_type": "execute_result"
    }
   ],
   "source": [
    "x = Array{Taylor1{TaylorN{Float64}}}(5)"
   ]
  },
  {
   "cell_type": "code",
   "execution_count": 13,
   "metadata": {
    "collapsed": false
   },
   "outputs": [],
   "source": [
    "for i in eachindex(b1)\n",
    "        @inbounds x[i] = Taylor1( b1[i], order )\n",
    "    end"
   ]
  },
  {
   "cell_type": "code",
   "execution_count": 18,
   "metadata": {
    "collapsed": false
   },
   "outputs": [
    {
     "data": {
      "text/plain": [
       "20"
      ]
     },
     "execution_count": 18,
     "metadata": {},
     "output_type": "execute_result"
    }
   ],
   "source": [
    "ord = x[1].order"
   ]
  },
  {
   "cell_type": "code",
   "execution_count": 15,
   "metadata": {
    "collapsed": false
   },
   "outputs": [
    {
     "data": {
      "text/plain": [
       "5-element Array{TaylorSeries.Taylor1{TaylorSeries.TaylorN{Float64}},1}:\n",
       " #undef\n",
       " #undef\n",
       " #undef\n",
       " #undef\n",
       " #undef"
      ]
     },
     "execution_count": 15,
     "metadata": {},
     "output_type": "execute_result"
    }
   ],
   "source": [
    "xaux = Array{Taylor1{TaylorN{Float64}}}(5)"
   ]
  },
  {
   "cell_type": "code",
   "execution_count": 16,
   "metadata": {
    "collapsed": false
   },
   "outputs": [
    {
     "data": {
      "text/plain": [
       "5-element Array{TaylorSeries.Taylor1{TaylorSeries.TaylorN{Float64}},1}:\n",
       " #undef\n",
       " #undef\n",
       " #undef\n",
       " #undef\n",
       " #undef"
      ]
     },
     "execution_count": 16,
     "metadata": {},
     "output_type": "execute_result"
    }
   ],
   "source": [
    "dx = Array{Taylor1{TaylorN{Float64}}}(5)"
   ]
  },
  {
   "cell_type": "code",
   "execution_count": 25,
   "metadata": {
    "collapsed": false
   },
   "outputs": [
    {
     "data": {
      "text/plain": [
       "20-element Array{TaylorSeries.TaylorN{Float64},1}:\n",
       "  1.0 t + 𝒪(‖x‖²)\n",
       "    0.0 + 𝒪(‖x‖¹)\n",
       "    0.0 + 𝒪(‖x‖¹)\n",
       "    0.0 + 𝒪(‖x‖¹)\n",
       "    0.0 + 𝒪(‖x‖¹)\n",
       "    0.0 + 𝒪(‖x‖¹)\n",
       "    0.0 + 𝒪(‖x‖¹)\n",
       "    0.0 + 𝒪(‖x‖¹)\n",
       "    0.0 + 𝒪(‖x‖¹)\n",
       "    0.0 + 𝒪(‖x‖¹)\n",
       "    0.0 + 𝒪(‖x‖¹)\n",
       "    0.0 + 𝒪(‖x‖¹)\n",
       "    0.0 + 𝒪(‖x‖¹)\n",
       "    0.0 + 𝒪(‖x‖¹)\n",
       "    0.0 + 𝒪(‖x‖¹)\n",
       "    0.0 + 𝒪(‖x‖¹)\n",
       "    0.0 + 𝒪(‖x‖¹)\n",
       "    0.0 + 𝒪(‖x‖¹)\n",
       "    0.0 + 𝒪(‖x‖¹)\n",
       "    0.0 + 𝒪(‖x‖¹)"
      ]
     },
     "execution_count": 25,
     "metadata": {},
     "output_type": "execute_result"
    }
   ],
   "source": [
    "x[1].coeffs[1:ord] "
   ]
  },
  {
   "cell_type": "code",
   "execution_count": 19,
   "metadata": {
    "collapsed": false
   },
   "outputs": [],
   "source": [
    "        for j in eachindex(x)\n",
    "            @inbounds xaux[j] = Taylor1( x[j].coeffs[1:ord] )\n",
    "        end\n"
   ]
  },
  {
   "cell_type": "code",
   "execution_count": 20,
   "metadata": {
    "collapsed": false
   },
   "outputs": [
    {
     "data": {
      "text/plain": [
       "5-element Array{TaylorSeries.Taylor1{TaylorSeries.TaylorN{Float64}},1}:\n",
       "                          1.0 t + 𝒪(‖x‖²) + 𝒪(t²⁰)\n",
       "     0.344379282501321 + 1.0 q1 + 𝒪(‖x‖²) + 𝒪(t²⁰)\n",
       "                         1.0 q2 + 𝒪(‖x‖²) + 𝒪(t²⁰)\n",
       "   0.12979340486329646 + 1.0 p1 + 𝒪(‖x‖²) + 𝒪(t²⁰)\n",
       "                   4.0 + 1.0 p2 + 𝒪(‖x‖²) + 𝒪(t²⁰)"
      ]
     },
     "execution_count": 20,
     "metadata": {},
     "output_type": "execute_result"
    }
   ],
   "source": [
    "xaux"
   ]
  },
  {
   "cell_type": "code",
   "execution_count": 21,
   "metadata": {
    "collapsed": false
   },
   "outputs": [
    {
     "ename": "LoadError",
     "evalue": "InterruptException:",
     "output_type": "error",
     "traceback": [
      "InterruptException:",
      "",
      " in resize_coeffsHP!(::Array{Float64,1}, ::Int64) at /home/daniel/.julia/v0.5/TaylorSeries/src/auxiliary.jl:40",
      " in Type at /home/daniel/.julia/v0.5/TaylorSeries/src/constructors.jl:90 [inlined]",
      " in Type at /home/daniel/.julia/v0.5/TaylorSeries/src/constructors.jl:96 [inlined]",
      " in macro expansion at /home/daniel/.julia/v0.5/TaylorSeries/src/arithmetic.jl:47 [inlined]",
      " in macro expansion at ./simdloop.jl:73 [inlined]",
      " in zeros(::TaylorSeries.HomogeneousPolynomial{Float64}, ::Int64) at /home/daniel/.julia/v0.5/TaylorSeries/src/arithmetic.jl:46",
      " in TaylorSeries.TaylorN{Float64}(::Array{TaylorSeries.HomogeneousPolynomial{Float64},1}, ::Int64) at /home/daniel/.julia/v0.5/TaylorSeries/src/constructors.jl:148",
      " in +(::TaylorSeries.TaylorN{Float64}, ::TaylorSeries.TaylorN{Float64}) at /home/daniel/.julia/v0.5/TaylorSeries/src/arithmetic.jl:88",
      " in mul! at /home/daniel/.julia/v0.5/TaylorSeries/src/arithmetic.jl:266 [inlined]",
      " in *(::TaylorSeries.Taylor1{TaylorSeries.TaylorN{Float64}}, ::TaylorSeries.Taylor1{TaylorSeries.TaylorN{Float64}}) at /home/daniel/.julia/v0.5/TaylorSeries/src/arithmetic.jl:237",
      " in undrivenHelium!(::Float64, ::Array{TaylorSeries.Taylor1{TaylorSeries.TaylorN{Float64}},1}, ::Array{TaylorSeries.Taylor1{TaylorSeries.TaylorN{Float64}},1}) at ./In[2]:13"
     ]
    }
   ],
   "source": [
    "undrivenHelium!(0.0, xaux, dx)"
   ]
  },
  {
   "cell_type": "code",
   "execution_count": 24,
   "metadata": {
    "collapsed": false
   },
   "outputs": [
    {
     "ename": "LoadError",
     "evalue": "MethodError: no method matching *(::Array{TaylorSeries.Taylor1{TaylorSeries.TaylorN{Float64}},1}, ::Array{TaylorSeries.Taylor1{TaylorSeries.TaylorN{Float64}},1})\u001b[0m\nClosest candidates are:\n  *(::Any, ::Any, \u001b[1m\u001b[31m::Any\u001b[0m, \u001b[1m\u001b[31m::Any...\u001b[0m) at operators.jl:138\n  *(\u001b[1m\u001b[31m::PyCall.PyObject\u001b[0m, ::Any) at /home/daniel/.julia/v0.5/PyCall/src/PyCall.jl:702\n  *{T<:Union{Complex{Float32},Complex{Float64},Float32,Float64},S}(\u001b[1m\u001b[31m::Union{Base.ReshapedArray{T<:Union{Complex{Float32},Complex{Float64},Float32,Float64},2,A<:DenseArray,MI<:Tuple{Vararg{Base.MultiplicativeInverses.SignedMultiplicativeInverse{Int64},N}}},DenseArray{T<:Union{Complex{Float32},Complex{Float64},Float32,Float64},2},SubArray{T<:Union{Complex{Float32},Complex{Float64},Float32,Float64},2,A<:Union{Base.ReshapedArray{T,N,A<:DenseArray,MI<:Tuple{Vararg{Base.MultiplicativeInverses.SignedMultiplicativeInverse{Int64},N}}},DenseArray},I<:Tuple{Vararg{Union{Base.AbstractCartesianIndex,Colon,Int64,Range{Int64}},N}},L}}\u001b[0m, ::Union{Base.ReshapedArray{S,1,A<:DenseArray,MI<:Tuple{Vararg{Base.MultiplicativeInverses.SignedMultiplicativeInverse{Int64},N}}},DenseArray{S,1},SubArray{S,1,A<:Union{Base.ReshapedArray{T,N,A<:DenseArray,MI<:Tuple{Vararg{Base.MultiplicativeInverses.SignedMultiplicativeInverse{Int64},N}}},DenseArray},I<:Tuple{Vararg{Union{Base.AbstractCartesianIndex,Colon,Int64,Range{Int64}},N}},L}}) at linalg/matmul.jl:79\n  ...\u001b[0m",
     "output_type": "error",
     "traceback": [
      "MethodError: no method matching *(::Array{TaylorSeries.Taylor1{TaylorSeries.TaylorN{Float64}},1}, ::Array{TaylorSeries.Taylor1{TaylorSeries.TaylorN{Float64}},1})\u001b[0m\nClosest candidates are:\n  *(::Any, ::Any, \u001b[1m\u001b[31m::Any\u001b[0m, \u001b[1m\u001b[31m::Any...\u001b[0m) at operators.jl:138\n  *(\u001b[1m\u001b[31m::PyCall.PyObject\u001b[0m, ::Any) at /home/daniel/.julia/v0.5/PyCall/src/PyCall.jl:702\n  *{T<:Union{Complex{Float32},Complex{Float64},Float32,Float64},S}(\u001b[1m\u001b[31m::Union{Base.ReshapedArray{T<:Union{Complex{Float32},Complex{Float64},Float32,Float64},2,A<:DenseArray,MI<:Tuple{Vararg{Base.MultiplicativeInverses.SignedMultiplicativeInverse{Int64},N}}},DenseArray{T<:Union{Complex{Float32},Complex{Float64},Float32,Float64},2},SubArray{T<:Union{Complex{Float32},Complex{Float64},Float32,Float64},2,A<:Union{Base.ReshapedArray{T,N,A<:DenseArray,MI<:Tuple{Vararg{Base.MultiplicativeInverses.SignedMultiplicativeInverse{Int64},N}}},DenseArray},I<:Tuple{Vararg{Union{Base.AbstractCartesianIndex,Colon,Int64,Range{Int64}},N}},L}}\u001b[0m, ::Union{Base.ReshapedArray{S,1,A<:DenseArray,MI<:Tuple{Vararg{Base.MultiplicativeInverses.SignedMultiplicativeInverse{Int64},N}}},DenseArray{S,1},SubArray{S,1,A<:Union{Base.ReshapedArray{T,N,A<:DenseArray,MI<:Tuple{Vararg{Base.MultiplicativeInverses.SignedMultiplicativeInverse{Int64},N}}},DenseArray},I<:Tuple{Vararg{Union{Base.AbstractCartesianIndex,Colon,Int64,Range{Int64}},N}},L}}) at linalg/matmul.jl:79\n  ...\u001b[0m",
      ""
     ]
    }
   ],
   "source": [
    "xaux*xaux"
   ]
  },
  {
   "cell_type": "code",
   "execution_count": null,
   "metadata": {
    "collapsed": false
   },
   "outputs": [],
   "source": [
    "dx"
   ]
  },
  {
   "cell_type": "code",
   "execution_count": null,
   "metadata": {
    "collapsed": false
   },
   "outputs": [],
   "source": [
    "dx"
   ]
  },
  {
   "cell_type": "code",
   "execution_count": null,
   "metadata": {
    "collapsed": false
   },
   "outputs": [],
   "source": [
    "for j in eachindex(x)\n",
    "            @inbounds x[j].coeffs[2] = dx[j].coeffs[1]/1\n",
    "        end"
   ]
  },
  {
   "cell_type": "code",
   "execution_count": null,
   "metadata": {
    "collapsed": false
   },
   "outputs": [],
   "source": [
    "taylorinteg(undrivenHelium!, a1, 0.0, 10.0, order, abs_tol, maxsteps=5)"
   ]
  },
  {
   "cell_type": "code",
   "execution_count": null,
   "metadata": {
    "collapsed": true
   },
   "outputs": [],
   "source": []
  },
  {
   "cell_type": "code",
   "execution_count": null,
   "metadata": {
    "collapsed": false
   },
   "outputs": [],
   "source": [
    "taylorinteg(undrivenHelium!, x, 0.0, 10.0, order, abs_tol, maxsteps=1)"
   ]
  },
  {
   "cell_type": "code",
   "execution_count": null,
   "metadata": {
    "collapsed": false
   },
   "outputs": [],
   "source": [
    "taylorinteg()"
   ]
  },
  {
   "cell_type": "code",
   "execution_count": null,
   "metadata": {
    "collapsed": false
   },
   "outputs": [],
   "source": [
    "function vareqs(t, q, A)\n",
    "    qn = A * q\n",
    "    return qn\n",
    "end\n",
    "\n",
    "stabmat = eye(5)\n",
    "stabmat[1, 1] = 0.0\n",
    "\n",
    "varuh(t, q) = vareqs(t, q, stabmat)"
   ]
  },
  {
   "cell_type": "code",
   "execution_count": null,
   "metadata": {
    "collapsed": false
   },
   "outputs": [],
   "source": [
    "a1 = condini(rand(2)...)\n",
    "expe1 = var1 + a1"
   ]
  },
  {
   "cell_type": "code",
   "execution_count": null,
   "metadata": {
    "collapsed": false
   },
   "outputs": [],
   "source": [
    "varuh(0.0, var1)"
   ]
  },
  {
   "cell_type": "code",
   "execution_count": null,
   "metadata": {
    "collapsed": false
   },
   "outputs": [],
   "source": [
    "var1[2].coeffs[2].coeffs"
   ]
  },
  {
   "cell_type": "code",
   "execution_count": null,
   "metadata": {
    "collapsed": false
   },
   "outputs": [],
   "source": [
    "typeof(var1)"
   ]
  },
  {
   "cell_type": "code",
   "execution_count": null,
   "metadata": {
    "collapsed": false
   },
   "outputs": [],
   "source": [
    "###Implementamos nuevo código \n",
    "function taylorstep1!{T<:Number}(f, t0::T, t1::T, x0::Array{T,1},\n",
    "        order::Int, abstol::T)\n",
    "    @assert t1 > t0\n",
    "    # Initialize the vector of Taylor1 expansions\n",
    "    xT = Array{Taylor1{TaylorN{T}}}(length(x0))\n",
    "    for i in eachindex(x0)\n",
    "        @inbounds xT[i] = Taylor1( x0[i], order )\n",
    "    end\n",
    "    # Compute the Taylor coefficients\n",
    "    jetcoeffs!(f, t0, xT)\n",
    "    # Compute the step-size of the integration using `abstol`\n",
    "    δt = TaylorIntegration.stepsize(xT, abstol)\n",
    "    if δt ≥ t1-t0\n",
    "        δt = t1-t0\n",
    "    end\n",
    "    evaluate!(xT, δt, x0)\n",
    "    return δt, xT\n",
    "end\n",
    "\n",
    "\n",
    "function mytaylorinteg{T<:Number}(f, q0::Array{TaylorN{T},1}, t0::T, tmax::T, order::Int,\n",
    "    abstol::T; tsteps::Int = 1000, tol::Float64=1e-20, maxsteps::Int=5000)\n",
    "\n",
    "    # Allocation\n",
    "    tv = Array{T}(maxsteps)\n",
    "    dof = length(q0)\n",
    "    xv = Array{T}(dof, maxsteps)\n",
    "    δs = Array{TaylorN}(maxsteps)\n",
    "    sm0 = eye(dof)\n",
    "    \n",
    "    function vareqs(t, q, A)\n",
    "        qn = A * q\n",
    "        return qn\n",
    "    end\n",
    "    varuh(t, q) = vareqs(t, q, sm0)\n",
    "    \n",
    "    \n",
    "    # Initial conditions\n",
    "    @inbounds tv[1] = t0\n",
    "    @inbounds xv[:,1] = q0[:]\n",
    "    @inbounds δs[1] = var1\n",
    "    x0 = copy(q0)\n",
    "    δ0 = copy(δs[1])\n",
    "    sum1 = q0[3]/maxsteps\n",
    "\n",
    "    # Integration\n",
    "    nsteps = 1\n",
    "    δtn = Inf\n",
    "    while t0 < tmax\n",
    "        xold = copy(x0)\n",
    "        δold = copy(δ0)\n",
    "        δt, sT = taylorstep1!(f, t0, tmax, x0, δ0, order, abstol)\n",
    "        sq2o, sq2, sp2o, sp2 = q2sign(xold, x0, tol)\n",
    "        steps1 = 0\n",
    "        x00 = copy(x0)\n",
    "        δ00 = copy(δ0)\n",
    "        bool1 = false\n",
    "        \n",
    "        while sq2o*sq2 == -1 || (sp2o*sp2 == -1 && abs(xold[3]) < tol)\n",
    "            bool1 = true\n",
    "            q2T = sT[3]\n",
    "            dq2T = derivative(q2T)\n",
    "            δtn = copy(δt)\n",
    "            for nc in 1:20\n",
    "                δtn = δtn - evaluate(q2T, δtn)/evaluate(dq2T, δtn)\n",
    "            end\n",
    "            evaluate!()\n",
    "            evaluate!(sT, δtn, x0)\n",
    "            sq2o, sq2, sp2o, sp2 = q2sign(xold, x0, tol)\n",
    "            steps1 += 1\n",
    "            if steps1  ≥ tsteps\n",
    "                break\n",
    "            end\n",
    "        end\n",
    "                \n",
    "        if nsteps ≥ maxsteps \n",
    "            warn(\"\"\"\n",
    "            Maximum number of integration steps reached; exiting.\n",
    "            \"\"\")\n",
    "            break\n",
    "        end\n",
    "        \n",
    "                \n",
    "        nsteps += 1\n",
    "        \n",
    "        if bool1 == true\n",
    "            @inbounds tv[nsteps] = t0 + δtn\n",
    "            @inbounds xv[:,nsteps] = x0[:]\n",
    "            stabilitymatrix!(undrivenHelium, t0 + δtn, x0, sm0)\n",
    "            jjac0 = sm0 * arrjac[nsteps - 1]\n",
    "            arrjac[nsteps] = jjac0\n",
    "            x0 = x00\n",
    "            nsteps += 1\n",
    "            stabilitymatrix!(undrivenHelium, t0 + δt, x0, sm0)\n",
    "            jjac0 = sm0 * arrjac[nsteps - 2]\n",
    "            arrjac[nsteps] = jjac0\n",
    "        else\n",
    "            stabilitymatrix!(undrivenHelium, t0 + δt, x0, sm0)\n",
    "            jjac0 = sm0 * arrjac[nsteps - 1]\n",
    "            arrjac[nsteps] = jjac0            \n",
    "        end\n",
    "        t0 += δt\n",
    "        @inbounds tv[nsteps] = t0\n",
    "        @inbounds xv[:,nsteps] = x0[:]\n",
    "        sum1 += x0[3]/maxsteps\n",
    "            \n",
    "    end\n",
    "\n",
    "    return view(tv,1:nsteps), view(xv,:,1:nsteps)', arrjac[1:nsteps]\n",
    "end"
   ]
  },
  {
   "cell_type": "code",
   "execution_count": null,
   "metadata": {
    "collapsed": false
   },
   "outputs": [],
   "source": [
    "c1 = condini(2.0, 0.0) + var1"
   ]
  },
  {
   "cell_type": "code",
   "execution_count": null,
   "metadata": {
    "collapsed": false
   },
   "outputs": [],
   "source": [
    "@time t1, x1 = taylorinteg(undrivenHelium, c1, t0, 2.0, order, abs_tol, maxsteps=100_000);"
   ]
  },
  {
   "cell_type": "code",
   "execution_count": null,
   "metadata": {
    "collapsed": false
   },
   "outputs": [],
   "source": [
    "@time t2, x2, m1 = mytaylorinteg(undrivenHelium, c1, t0, 2.0, order, abs_tol, maxsteps=100)"
   ]
  },
  {
   "cell_type": "code",
   "execution_count": null,
   "metadata": {
    "collapsed": false
   },
   "outputs": [],
   "source": [
    "m1[64]"
   ]
  },
  {
   "cell_type": "code",
   "execution_count": null,
   "metadata": {
    "collapsed": false
   },
   "outputs": [],
   "source": [
    "for j in 1:64\n",
    "    a = (m1[j][2:end,2:end])\n",
    "    println(a)\n",
    "end"
   ]
  },
  {
   "cell_type": "code",
   "execution_count": null,
   "metadata": {
    "collapsed": true
   },
   "outputs": [],
   "source": []
  }
 ],
 "metadata": {
  "kernelspec": {
   "display_name": "Julia 0.5.0",
   "language": "julia",
   "name": "julia-0.5"
  },
  "language_info": {
   "file_extension": ".jl",
   "mimetype": "application/julia",
   "name": "julia",
   "version": "0.5.0"
  }
 },
 "nbformat": 4,
 "nbformat_minor": 0
}
