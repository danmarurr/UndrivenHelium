{
 "cells": [
  {
   "cell_type": "code",
   "execution_count": 1,
   "metadata": {
    "collapsed": false
   },
   "outputs": [
    {
     "data": {
      "text/plain": [
       "500000"
      ]
     },
     "execution_count": 1,
     "metadata": {},
     "output_type": "execute_result"
    }
   ],
   "source": [
    "using TaylorSeries, TaylorIntegration\n",
    "using Plots, LaTeXStrings\n",
    "# plotly()\n",
    "pyplot(grid = :false, legend = :false, size=(600,600), color=:black, markersize = 0.3 )\n",
    "const Z = 2.0\n",
    "const order = 20\n",
    "const t0 = 0.0\n",
    "const t_max = 0.5 \n",
    "const abs_tol = 1.0E-20\n",
    "const steps = 500_000"
   ]
  },
  {
   "cell_type": "code",
   "execution_count": 2,
   "metadata": {
    "collapsed": false
   },
   "outputs": [
    {
     "data": {
      "text/plain": [
       "errHam (generic function with 1 method)"
      ]
     },
     "execution_count": 2,
     "metadata": {},
     "output_type": "execute_result"
    }
   ],
   "source": [
    "function undrivenHelium!(τ, q, dq)\n",
    "    tT, Q₁, Q₂, P₁, P₂ = q\n",
    "    \n",
    "    t1 = Q₁^2\n",
    "    t2 = Q₂^2\n",
    "    t = t1 * t2\n",
    "    dq[1] = t\n",
    "    R12 = t1 - t2\n",
    "    aR12 = abs(R12)\n",
    "    RRR = aR12^3\n",
    "    c1 = R12/RRR\n",
    "   \n",
    "    dq[2] = 0.25*t2*P₁\n",
    "    dq[4] = 2*Q₁*(-0.125*P₂^2 + Z  - t2 - t2/aR12 + t*c1)\n",
    "    dq[3] = 0.25*t1*P₂\n",
    "    dq[5] = 2*Q₂*(-0.125*P₁^2 + Z  - t1 - t1/aR12 - t*c1)\n",
    "\n",
    "#    return [t, q₁, q₂, p₁, p₂] \n",
    "    nothing\n",
    "end\n",
    "#undrivenHelium(v) = undrivenHelium(zero(eltype(v)), v)\n",
    "\n",
    "\n",
    "var1 = set_variables(\"t q1 q2 p1 p2\", order = 1)\n",
    "\n",
    "\n",
    "function condini(x10::Float64, px10::Float64)\n",
    "    @assert x10 != 0\n",
    "    Q1 = sqrt(x10)\n",
    "    Q2 = 0.0\n",
    "    P1 = px10*sqrt(x10)    \n",
    "    P2 = sqrt(8Z)    \n",
    "    return [0, Q1, Q2, P1, P2]\n",
    "end\n",
    "\n",
    "function regHam(t, Q₁, Q₂, P₁, P₂)\n",
    "    #Cantidades auxiliares\n",
    "    P₁² = P₁^2\n",
    "    P₂² = P₂^2\n",
    "    Q₁² = Q₁^2\n",
    "    Q₂² = Q₂^2\n",
    "    nf = abs(Q₁² - Q₂²)\n",
    "    \n",
    "    H = 0.125*(P₁²*Q₂² + P₂²*Q₁²) - Z*(Q₁² + Q₂²) + Q₁²*Q₂²*(1.0 + 1.0/nf)\n",
    "    return H\n",
    "end\n",
    "\n",
    "\n",
    "regHam(v) = regHam(v...)\n",
    "\n",
    "function errHam(N::Int)\n",
    "    srand(487293456)\n",
    "    J = [0 0 0 0 0; 0 0 0 1 0; 0 0 0 0 1; 0 -1 0 0 0; 0 0 -1 0 0 ]\n",
    "    \n",
    "    dnorm = zeros(N)\n",
    "    als = typeof(zeros(5))[]\n",
    "    for j in 1:N\n",
    "        al = 10*rand(5)\n",
    "        #al = [BigFloat(x) for x in al1]\n",
    "        alt = al + var1\n",
    "        ene = J*∇(regHam(alt))\n",
    "        ene1 = [ene[k].coeffs[1].coeffs[1] for k in 1:5]\n",
    "        meq = undrivenHelium(al)\n",
    "        push!(als, al)\n",
    "        meq[1] = 0\n",
    "        dnorm[j] = norm(meq - ene1) \n",
    "    end\n",
    "    return dnorm, als \n",
    "end"
   ]
  },
  {
   "cell_type": "code",
   "execution_count": 3,
   "metadata": {
    "collapsed": false
   },
   "outputs": [
    {
     "name": "stdout",
     "output_type": "stream",
     "text": [
      "elapsed time: 0.279838932 seconds\n"
     ]
    },
    {
     "data": {
      "text/plain": [
       "0.279838932"
      ]
     },
     "execution_count": 3,
     "metadata": {},
     "output_type": "execute_result"
    }
   ],
   "source": [
    "tic()\n",
    "\n",
    "a1 = condini(rand(2)...)\n",
    "b1 = a1+var1\n",
    "x = Array{Taylor1{TaylorN{Float64}}}(5)\n",
    "for i in eachindex(b1)\n",
    "    @inbounds x[i] = Taylor1( b1[i], order )\n",
    "end\n",
    "\n",
    "ord = x[1].order\n",
    "#xaux = Array{Taylor1{TaylorN{Float64}}}(5)\n",
    "#dx = Array{Taylor1{TaylorN{Float64}}}(5)\n",
    "#for j in eachindex(x)\n",
    "#    @inbounds xaux[j] = Taylor1( x[j].coeffs[1:ord] )\n",
    "#end\n",
    "dx = similar(x)\n",
    "\n",
    "toc()"
   ]
  },
  {
   "cell_type": "code",
   "execution_count": 4,
   "metadata": {
    "collapsed": false
   },
   "outputs": [
    {
     "data": {
      "text/plain": [
       "5-element Array{TaylorSeries.TaylorN{Float64},1}:\n",
       "                        1.0 t + 𝒪(‖x‖²)\n",
       "  0.7164577190278739 + 1.0 q1 + 𝒪(‖x‖²)\n",
       "                       1.0 q2 + 𝒪(‖x‖²)\n",
       "  0.5309789956120552 + 1.0 p1 + 𝒪(‖x‖²)\n",
       "                 4.0 + 1.0 p2 + 𝒪(‖x‖²)"
      ]
     },
     "execution_count": 4,
     "metadata": {},
     "output_type": "execute_result"
    }
   ],
   "source": [
    "b1"
   ]
  },
  {
   "cell_type": "code",
   "execution_count": 5,
   "metadata": {
    "collapsed": false
   },
   "outputs": [
    {
     "data": {
      "text/plain": [
       "5-element Array{TaylorSeries.Taylor1{TaylorSeries.TaylorN{Float64}},1}:\n",
       "                         1.0 t + 𝒪(‖x‖²) + 𝒪(t²¹)\n",
       "   0.7164577190278739 + 1.0 q1 + 𝒪(‖x‖²) + 𝒪(t²¹)\n",
       "                        1.0 q2 + 𝒪(‖x‖²) + 𝒪(t²¹)\n",
       "   0.5309789956120552 + 1.0 p1 + 𝒪(‖x‖²) + 𝒪(t²¹)\n",
       "                  4.0 + 1.0 p2 + 𝒪(‖x‖²) + 𝒪(t²¹)"
      ]
     },
     "execution_count": 5,
     "metadata": {},
     "output_type": "execute_result"
    }
   ],
   "source": [
    "x .= Taylor1.( b1, order)"
   ]
  },
  {
   "cell_type": "code",
   "execution_count": 6,
   "metadata": {
    "collapsed": false
   },
   "outputs": [
    {
     "data": {
      "text/plain": [
       "5-element Array{TaylorSeries.Taylor1{TaylorSeries.TaylorN{Float64}},1}:\n",
       "                         1.0 t + 𝒪(‖x‖²) + 𝒪(t²¹)\n",
       "   0.7164577190278739 + 1.0 q1 + 𝒪(‖x‖²) + 𝒪(t²¹)\n",
       "                        1.0 q2 + 𝒪(‖x‖²) + 𝒪(t²¹)\n",
       "   0.5309789956120552 + 1.0 p1 + 𝒪(‖x‖²) + 𝒪(t²¹)\n",
       "                  4.0 + 1.0 p2 + 𝒪(‖x‖²) + 𝒪(t²¹)"
      ]
     },
     "execution_count": 6,
     "metadata": {},
     "output_type": "execute_result"
    }
   ],
   "source": [
    "x"
   ]
  },
  {
   "cell_type": "code",
   "execution_count": 7,
   "metadata": {
    "collapsed": false
   },
   "outputs": [
    {
     "name": "stdout",
     "output_type": "stream",
     "text": [
      "  0.913087 seconds (794.86 k allocations: 37.286 MB, 1.74% gc time)\n"
     ]
    }
   ],
   "source": [
    "@time undrivenHelium!(0.0, x, dx)"
   ]
  },
  {
   "cell_type": "code",
   "execution_count": 8,
   "metadata": {
    "collapsed": false
   },
   "outputs": [
    {
     "name": "stdout",
     "output_type": "stream",
     "text": [
      "Variables:\n",
      "  #self#::#undrivenHelium!\n",
      "  τ::Float64\n",
      "  q::Array{TaylorSeries.Taylor1{TaylorSeries.TaylorN{Float64}},1}\n",
      "  dq::Array{TaylorSeries.Taylor1{TaylorSeries.TaylorN{Float64}},1}\n",
      "  tT::TaylorSeries.Taylor1{TaylorSeries.TaylorN{Float64}}\n",
      "  Q₁::TaylorSeries.Taylor1{TaylorSeries.TaylorN{Float64}}\n",
      "  Q₂::TaylorSeries.Taylor1{TaylorSeries.TaylorN{Float64}}\n",
      "  P₁::TaylorSeries.Taylor1{TaylorSeries.TaylorN{Float64}}\n",
      "  P₂::TaylorSeries.Taylor1{TaylorSeries.TaylorN{Float64}}\n",
      "  #temp#::Int64\n",
      "  t1::TaylorSeries.Taylor1{TaylorSeries.TaylorN{Float64}}\n",
      "  t2::TaylorSeries.Taylor1{TaylorSeries.TaylorN{Float64}}\n",
      "  t::TaylorSeries.Taylor1{TaylorSeries.TaylorN{Float64}}\n",
      "  R12::TaylorSeries.Taylor1{TaylorSeries.TaylorN{Float64}}\n",
      "  aR12::TaylorSeries.Taylor1{TaylorSeries.TaylorN{Float64}}\n",
      "  RRR::TaylorSeries.Taylor1{TaylorSeries.TaylorN{Float64}}\n",
      "  c1::TaylorSeries.Taylor1{TaylorSeries.TaylorN{Float64}}\n",
      "\n",
      "Body:\n",
      "  begin \n",
      "      #temp#::Int64 = $(QuoteNode(1))\n",
      "      SSAValue(31) = (Base.arrayref)(q::Array{TaylorSeries.Taylor1{TaylorSeries.TaylorN{Float64}},1},1)::TaylorSeries.Taylor1{TaylorSeries.TaylorN{Float64}}\n",
      "      SSAValue(32) = (Base.box)(Int64,(Base.add_int)(1,1))\n",
      "      tT::TaylorSeries.Taylor1{TaylorSeries.TaylorN{Float64}} = SSAValue(31)\n",
      "      #temp#::Int64 = SSAValue(32)\n",
      "      SSAValue(33) = (Base.arrayref)(q::Array{TaylorSeries.Taylor1{TaylorSeries.TaylorN{Float64}},1},2)::TaylorSeries.Taylor1{TaylorSeries.TaylorN{Float64}}\n",
      "      SSAValue(34) = (Base.box)(Int64,(Base.add_int)(2,1))\n",
      "      Q₁::TaylorSeries.Taylor1{TaylorSeries.TaylorN{Float64}} = SSAValue(33)\n",
      "      #temp#::Int64 = SSAValue(34)\n",
      "      SSAValue(35) = (Base.arrayref)(q::Array{TaylorSeries.Taylor1{TaylorSeries.TaylorN{Float64}},1},3)::TaylorSeries.Taylor1{TaylorSeries.TaylorN{Float64}}\n",
      "      SSAValue(36) = (Base.box)(Int64,(Base.add_int)(3,1))\n",
      "      Q₂::TaylorSeries.Taylor1{TaylorSeries.TaylorN{Float64}} = SSAValue(35)\n",
      "      #temp#::Int64 = SSAValue(36)\n",
      "      SSAValue(37) = (Base.arrayref)(q::Array{TaylorSeries.Taylor1{TaylorSeries.TaylorN{Float64}},1},4)::TaylorSeries.Taylor1{TaylorSeries.TaylorN{Float64}}\n",
      "      SSAValue(38) = (Base.box)(Int64,(Base.add_int)(4,1))\n",
      "      P₁::TaylorSeries.Taylor1{TaylorSeries.TaylorN{Float64}} = SSAValue(37)\n",
      "      #temp#::Int64 = SSAValue(38)\n",
      "      SSAValue(39) = (Base.arrayref)(q::Array{TaylorSeries.Taylor1{TaylorSeries.TaylorN{Float64}},1},5)::TaylorSeries.Taylor1{TaylorSeries.TaylorN{Float64}}\n",
      "      SSAValue(40) = (Base.box)(Int64,(Base.add_int)(5,1))\n",
      "      P₂::TaylorSeries.Taylor1{TaylorSeries.TaylorN{Float64}} = SSAValue(39)\n",
      "      #temp#::Int64 = SSAValue(40) # line 4:\n",
      "      t1::TaylorSeries.Taylor1{TaylorSeries.TaylorN{Float64}} = $(Expr(:invoke, LambdaInfo for ^(::TaylorSeries.Taylor1{TaylorSeries.TaylorN{Float64}}, ::Int64), :(Main.^), :(Q₁), 2)) # line 5:\n",
      "      t2::TaylorSeries.Taylor1{TaylorSeries.TaylorN{Float64}} = $(Expr(:invoke, LambdaInfo for ^(::TaylorSeries.Taylor1{TaylorSeries.TaylorN{Float64}}, ::Int64), :(Main.^), :(Q₂), 2)) # line 6:\n",
      "      t::TaylorSeries.Taylor1{TaylorSeries.TaylorN{Float64}} = $(Expr(:invoke, LambdaInfo for *(::TaylorSeries.Taylor1{TaylorSeries.TaylorN{Float64}}, ::TaylorSeries.Taylor1{TaylorSeries.TaylorN{Float64}}), :(Main.*), :(t1), :(t2))) # line 7:\n",
      "      # meta: location array.jl setindex! 415\n",
      "      # meta: location /home/daniel/.julia/v0.5/TaylorSeries/src/conversion.jl convert 10\n",
      "      SSAValue(10) = (Core.getfield)(t::TaylorSeries.Taylor1{TaylorSeries.TaylorN{Float64}},:coeffs)::Array{TaylorSeries.TaylorN{Float64},1}\n",
      "      SSAValue(9) = (Core.getfield)(t::TaylorSeries.Taylor1{TaylorSeries.TaylorN{Float64}},:order)::Int64\n",
      "      # meta: location /home/daniel/.julia/v0.5/TaylorSeries/src/constructors.jl Type 45\n",
      "      # meta: location /home/daniel/.julia/v0.5/TaylorSeries/src/constructors.jl Type 38\n",
      "      $(Expr(:invoke, LambdaInfo for resize_coeffs1!(::Array{TaylorSeries.TaylorN{Float64},1}, ::Int64), :(TaylorSeries.resize_coeffs1!), SSAValue(10), SSAValue(9)))\n",
      "      # meta: pop location\n",
      "      # meta: pop location\n",
      "      # meta: pop location\n",
      "      # meta: pop location\n",
      "      (Base.arrayset)(dq::Array{TaylorSeries.Taylor1{TaylorSeries.TaylorN{Float64}},1},$(Expr(:new, TaylorSeries.Taylor1{TaylorSeries.TaylorN{Float64}}, SSAValue(10), SSAValue(9))),1)::Array{TaylorSeries.Taylor1{TaylorSeries.TaylorN{Float64}},1} # line 8:\n",
      "      R12::TaylorSeries.Taylor1{TaylorSeries.TaylorN{Float64}} = $(Expr(:invoke, LambdaInfo for -(::TaylorSeries.Taylor1{TaylorSeries.TaylorN{Float64}}, ::TaylorSeries.Taylor1{TaylorSeries.TaylorN{Float64}}), :(Main.-), :(t1), :(t2))) # line 9:\n",
      "      aR12::TaylorSeries.Taylor1{TaylorSeries.TaylorN{Float64}} = $(Expr(:invoke, LambdaInfo for abs(::TaylorSeries.Taylor1{TaylorSeries.TaylorN{Float64}}), :(Main.abs), :(R12))) # line 10:\n",
      "      RRR::TaylorSeries.Taylor1{TaylorSeries.TaylorN{Float64}} = $(Expr(:invoke, LambdaInfo for ^(::TaylorSeries.Taylor1{TaylorSeries.TaylorN{Float64}}, ::Int64), :(Main.^), :(aR12), 3)) # line 11:\n",
      "      c1::TaylorSeries.Taylor1{TaylorSeries.TaylorN{Float64}} = $(Expr(:invoke, LambdaInfo for /(::TaylorSeries.Taylor1{TaylorSeries.TaylorN{Float64}}, ::TaylorSeries.Taylor1{TaylorSeries.TaylorN{Float64}}), :(Main./), :(R12), :(RRR))) # line 13:\n",
      "      # meta: location operators.jl * 138\n",
      "      SSAValue(11) = $(Expr(:invoke, LambdaInfo for *(::TaylorSeries.Taylor1{TaylorSeries.TaylorN{Float64}}, ::TaylorSeries.Taylor1{TaylorSeries.TaylorN{Float64}}), :(Base.*), :($(Expr(:invoke, LambdaInfo for *(::Float64, ::TaylorSeries.Taylor1{TaylorSeries.TaylorN{Float64}}), :(Base.*), 0.25, :(t2)))), :(P₁)))\n",
      "      # meta: pop location\n",
      "      SSAValue(5) = SSAValue(11)\n",
      "      # meta: location array.jl setindex! 415\n",
      "      # meta: location /home/daniel/.julia/v0.5/TaylorSeries/src/conversion.jl convert 10\n",
      "      SSAValue(13) = (Core.getfield)(SSAValue(5),:coeffs)::Array{TaylorSeries.TaylorN{Float64},1}\n",
      "      SSAValue(12) = (Core.getfield)(SSAValue(5),:order)::Int64\n",
      "      # meta: location /home/daniel/.julia/v0.5/TaylorSeries/src/constructors.jl Type 45\n",
      "      # meta: location /home/daniel/.julia/v0.5/TaylorSeries/src/constructors.jl Type 38\n",
      "      $(Expr(:invoke, LambdaInfo for resize_coeffs1!(::Array{TaylorSeries.TaylorN{Float64},1}, ::Int64), :(TaylorSeries.resize_coeffs1!), SSAValue(13), SSAValue(12)))\n",
      "      # meta: pop location\n",
      "      # meta: pop location\n",
      "      # meta: pop location\n",
      "      # meta: pop location\n",
      "      (Base.arrayset)(dq::Array{TaylorSeries.Taylor1{TaylorSeries.TaylorN{Float64}},1},$(Expr(:new, TaylorSeries.Taylor1{TaylorSeries.TaylorN{Float64}}, SSAValue(13), SSAValue(12))),2)::Array{TaylorSeries.Taylor1{TaylorSeries.TaylorN{Float64}},1} # line 14:\n",
      "      SSAValue(14) = $(Expr(:invoke, LambdaInfo for *(::Float64, ::TaylorSeries.Taylor1{TaylorSeries.TaylorN{Float64}}), :(Main.*), -0.125, :($(Expr(:invoke, LambdaInfo for ^(::TaylorSeries.Taylor1{TaylorSeries.TaylorN{Float64}}, ::Int64), :(Main.^), :(P₂), 2)))))\n",
      "      # meta: location /home/daniel/.julia/v0.5/TaylorSeries/src/arithmetic.jl + 97\n",
      "      # meta: location promotion.jl promote 153\n",
      "      # meta: location /home/daniel/.julia/v0.5/TaylorSeries/src/conversion.jl convert 10\n",
      "      SSAValue(16) = (Core.getfield)(SSAValue(14),:coeffs)::Array{TaylorSeries.TaylorN{Float64},1}\n",
      "      SSAValue(15) = (Core.getfield)(SSAValue(14),:order)::Int64\n",
      "      # meta: location /home/daniel/.julia/v0.5/TaylorSeries/src/constructors.jl Type 45\n",
      "      # meta: location /home/daniel/.julia/v0.5/TaylorSeries/src/constructors.jl Type 38\n",
      "      $(Expr(:invoke, LambdaInfo for resize_coeffs1!(::Array{TaylorSeries.TaylorN{Float64},1}, ::Int64), :(TaylorSeries.resize_coeffs1!), SSAValue(16), SSAValue(15)))\n",
      "      # meta: pop location\n",
      "      # meta: pop location\n",
      "      # meta: pop location\n",
      "      # meta: pop location\n",
      "      # meta: pop location\n",
      "      SSAValue(17) = $(Expr(:invoke, LambdaInfo for +(::TaylorSeries.Taylor1{TaylorSeries.TaylorN{Float64}}, ::TaylorSeries.Taylor1{TaylorSeries.TaylorN{Float64}}), :(Main.+), :($(Expr(:invoke, LambdaInfo for -(::TaylorSeries.Taylor1{TaylorSeries.TaylorN{Float64}}, ::TaylorSeries.Taylor1{TaylorSeries.TaylorN{Float64}}), :(Main.-), :($(Expr(:invoke, LambdaInfo for -(::TaylorSeries.Taylor1{TaylorSeries.TaylorN{Float64}}, ::TaylorSeries.Taylor1{TaylorSeries.TaylorN{Float64}}), :(Main.-), :($(Expr(:invoke, LambdaInfo for +(::TaylorSeries.Taylor1{TaylorSeries.TaylorN{Float64}}, ::TaylorSeries.Taylor1{TaylorSeries.TaylorN{Float64}}), :(TaylorSeries.+), :($(Expr(:new, TaylorSeries.Taylor1{TaylorSeries.TaylorN{Float64}}, SSAValue(16), SSAValue(15)))), :($(Expr(:invoke, LambdaInfo for convert(::Type{TaylorSeries.Taylor1{TaylorSeries.TaylorN{Float64}}}, ::Float64), :(Base.convert), TaylorSeries.Taylor1{TaylorSeries.TaylorN{Float64}}, :(Main.Z))))))), :(t2)))), :($(Expr(:invoke, LambdaInfo for /(::TaylorSeries.Taylor1{TaylorSeries.TaylorN{Float64}}, ::TaylorSeries.Taylor1{TaylorSeries.TaylorN{Float64}}), :(Main./), :(t2), :(aR12))))))), :($(Expr(:invoke, LambdaInfo for *(::TaylorSeries.Taylor1{TaylorSeries.TaylorN{Float64}}, ::TaylorSeries.Taylor1{TaylorSeries.TaylorN{Float64}}), :(Main.*), :(t), :(c1))))))\n",
      "      # meta: location operators.jl * 138\n",
      "      SSAValue(18) = $(Expr(:invoke, LambdaInfo for *(::TaylorSeries.Taylor1{TaylorSeries.TaylorN{Float64}}, ::TaylorSeries.Taylor1{TaylorSeries.TaylorN{Float64}}), :(Base.*), :($(Expr(:invoke, LambdaInfo for *(::Int64, ::TaylorSeries.Taylor1{TaylorSeries.TaylorN{Float64}}), :(Base.*), 2, :(Q₁)))), SSAValue(17)))\n",
      "      # meta: pop location\n",
      "      SSAValue(6) = SSAValue(18)\n",
      "      # meta: location array.jl setindex! 415\n",
      "      # meta: location /home/daniel/.julia/v0.5/TaylorSeries/src/conversion.jl convert 10\n",
      "      SSAValue(20) = (Core.getfield)(SSAValue(6),:coeffs)::Array{TaylorSeries.TaylorN{Float64},1}\n",
      "      SSAValue(19) = (Core.getfield)(SSAValue(6),:order)::Int64\n",
      "      # meta: location /home/daniel/.julia/v0.5/TaylorSeries/src/constructors.jl Type 45\n",
      "      # meta: location /home/daniel/.julia/v0.5/TaylorSeries/src/constructors.jl Type 38\n",
      "      $(Expr(:invoke, LambdaInfo for resize_coeffs1!(::Array{TaylorSeries.TaylorN{Float64},1}, ::Int64), :(TaylorSeries.resize_coeffs1!), SSAValue(20), SSAValue(19)))\n",
      "      # meta: pop location\n",
      "      # meta: pop location\n",
      "      # meta: pop location\n",
      "      # meta: pop location\n",
      "      (Base.arrayset)(dq::Array{TaylorSeries.Taylor1{TaylorSeries.TaylorN{Float64}},1},$(Expr(:new, TaylorSeries.Taylor1{TaylorSeries.TaylorN{Float64}}, SSAValue(20), SSAValue(19))),4)::Array{TaylorSeries.Taylor1{TaylorSeries.TaylorN{Float64}},1} # line 15:\n",
      "      # meta: location operators.jl * 138\n",
      "      SSAValue(21) = $(Expr(:invoke, LambdaInfo for *(::TaylorSeries.Taylor1{TaylorSeries.TaylorN{Float64}}, ::TaylorSeries.Taylor1{TaylorSeries.TaylorN{Float64}}), :(Base.*), :($(Expr(:invoke, LambdaInfo for *(::Float64, ::TaylorSeries.Taylor1{TaylorSeries.TaylorN{Float64}}), :(Base.*), 0.25, :(t1)))), :(P₂)))\n",
      "      # meta: pop location\n",
      "      SSAValue(7) = SSAValue(21)\n",
      "      # meta: location array.jl setindex! 415\n",
      "      # meta: location /home/daniel/.julia/v0.5/TaylorSeries/src/conversion.jl convert 10\n",
      "      SSAValue(23) = (Core.getfield)(SSAValue(7),:coeffs)::Array{TaylorSeries.TaylorN{Float64},1}\n",
      "      SSAValue(22) = (Core.getfield)(SSAValue(7),:order)::Int64\n",
      "      # meta: location /home/daniel/.julia/v0.5/TaylorSeries/src/constructors.jl Type 45\n",
      "      # meta: location /home/daniel/.julia/v0.5/TaylorSeries/src/constructors.jl Type 38\n",
      "      $(Expr(:invoke, LambdaInfo for resize_coeffs1!(::Array{TaylorSeries.TaylorN{Float64},1}, ::Int64), :(TaylorSeries.resize_coeffs1!), SSAValue(23), SSAValue(22)))\n",
      "      # meta: pop location\n",
      "      # meta: pop location\n",
      "      # meta: pop location\n",
      "      # meta: pop location\n",
      "      (Base.arrayset)(dq::Array{TaylorSeries.Taylor1{TaylorSeries.TaylorN{Float64}},1},$(Expr(:new, TaylorSeries.Taylor1{TaylorSeries.TaylorN{Float64}}, SSAValue(23), SSAValue(22))),3)::Array{TaylorSeries.Taylor1{TaylorSeries.TaylorN{Float64}},1} # line 16:\n",
      "      SSAValue(24) = $(Expr(:invoke, LambdaInfo for *(::Float64, ::TaylorSeries.Taylor1{TaylorSeries.TaylorN{Float64}}), :(Main.*), -0.125, :($(Expr(:invoke, LambdaInfo for ^(::TaylorSeries.Taylor1{TaylorSeries.TaylorN{Float64}}, ::Int64), :(Main.^), :(P₁), 2)))))\n",
      "      # meta: location /home/daniel/.julia/v0.5/TaylorSeries/src/arithmetic.jl + 97\n",
      "      # meta: location promotion.jl promote 153\n",
      "      # meta: location /home/daniel/.julia/v0.5/TaylorSeries/src/conversion.jl convert 10\n",
      "      SSAValue(26) = (Core.getfield)(SSAValue(24),:coeffs)::Array{TaylorSeries.TaylorN{Float64},1}\n",
      "      SSAValue(25) = (Core.getfield)(SSAValue(24),:order)::Int64\n",
      "      # meta: location /home/daniel/.julia/v0.5/TaylorSeries/src/constructors.jl Type 45\n",
      "      # meta: location /home/daniel/.julia/v0.5/TaylorSeries/src/constructors.jl Type 38\n",
      "      $(Expr(:invoke, LambdaInfo for resize_coeffs1!(::Array{TaylorSeries.TaylorN{Float64},1}, ::Int64), :(TaylorSeries.resize_coeffs1!), SSAValue(26), SSAValue(25)))\n",
      "      # meta: pop location\n",
      "      # meta: pop location\n",
      "      # meta: pop location\n",
      "      # meta: pop location\n",
      "      # meta: pop location\n",
      "      SSAValue(27) = $(Expr(:invoke, LambdaInfo for -(::TaylorSeries.Taylor1{TaylorSeries.TaylorN{Float64}}, ::TaylorSeries.Taylor1{TaylorSeries.TaylorN{Float64}}), :(Main.-), :($(Expr(:invoke, LambdaInfo for -(::TaylorSeries.Taylor1{TaylorSeries.TaylorN{Float64}}, ::TaylorSeries.Taylor1{TaylorSeries.TaylorN{Float64}}), :(Main.-), :($(Expr(:invoke, LambdaInfo for -(::TaylorSeries.Taylor1{TaylorSeries.TaylorN{Float64}}, ::TaylorSeries.Taylor1{TaylorSeries.TaylorN{Float64}}), :(Main.-), :($(Expr(:invoke, LambdaInfo for +(::TaylorSeries.Taylor1{TaylorSeries.TaylorN{Float64}}, ::TaylorSeries.Taylor1{TaylorSeries.TaylorN{Float64}}), :(TaylorSeries.+), :($(Expr(:new, TaylorSeries.Taylor1{TaylorSeries.TaylorN{Float64}}, SSAValue(26), SSAValue(25)))), :($(Expr(:invoke, LambdaInfo for convert(::Type{TaylorSeries.Taylor1{TaylorSeries.TaylorN{Float64}}}, ::Float64), :(Base.convert), TaylorSeries.Taylor1{TaylorSeries.TaylorN{Float64}}, :(Main.Z))))))), :(t1)))), :($(Expr(:invoke, LambdaInfo for /(::TaylorSeries.Taylor1{TaylorSeries.TaylorN{Float64}}, ::TaylorSeries.Taylor1{TaylorSeries.TaylorN{Float64}}), :(Main./), :(t1), :(aR12))))))), :($(Expr(:invoke, LambdaInfo for *(::TaylorSeries.Taylor1{TaylorSeries.TaylorN{Float64}}, ::TaylorSeries.Taylor1{TaylorSeries.TaylorN{Float64}}), :(Main.*), :(t), :(c1))))))\n",
      "      # meta: location operators.jl * 138\n",
      "      SSAValue(28) = $(Expr(:invoke, LambdaInfo for *(::TaylorSeries.Taylor1{TaylorSeries.TaylorN{Float64}}, ::TaylorSeries.Taylor1{TaylorSeries.TaylorN{Float64}}), :(Base.*), :($(Expr(:invoke, LambdaInfo for *(::Int64, ::TaylorSeries.Taylor1{TaylorSeries.TaylorN{Float64}}), :(Base.*), 2, :(Q₂)))), SSAValue(27)))\n",
      "      # meta: pop location\n",
      "      SSAValue(8) = SSAValue(28)\n",
      "      # meta: location array.jl setindex! 415\n",
      "      # meta: location /home/daniel/.julia/v0.5/TaylorSeries/src/conversion.jl convert 10\n",
      "      SSAValue(30) = (Core.getfield)(SSAValue(8),:coeffs)::Array{TaylorSeries.TaylorN{Float64},1}\n",
      "      SSAValue(29) = (Core.getfield)(SSAValue(8),:order)::Int64\n",
      "      # meta: location /home/daniel/.julia/v0.5/TaylorSeries/src/constructors.jl Type 45\n",
      "      # meta: location /home/daniel/.julia/v0.5/TaylorSeries/src/constructors.jl Type 38\n",
      "      $(Expr(:invoke, LambdaInfo for resize_coeffs1!(::Array{TaylorSeries.TaylorN{Float64},1}, ::Int64), :(TaylorSeries.resize_coeffs1!), SSAValue(30), SSAValue(29)))\n",
      "      # meta: pop location\n",
      "      # meta: pop location\n",
      "      # meta: pop location\n",
      "      # meta: pop location\n",
      "      (Base.arrayset)(dq::Array{TaylorSeries.Taylor1{TaylorSeries.TaylorN{Float64}},1},$(Expr(:new, TaylorSeries.Taylor1{TaylorSeries.TaylorN{Float64}}, SSAValue(30), SSAValue(29))),5)::Array{TaylorSeries.Taylor1{TaylorSeries.TaylorN{Float64}},1} # line 19:\n",
      "      return Main.nothing\n",
      "  end::Void\n"
     ]
    }
   ],
   "source": [
    "@code_warntype undrivenHelium!(0.0, x, dx)"
   ]
  },
  {
   "cell_type": "code",
   "execution_count": 9,
   "metadata": {
    "collapsed": false
   },
   "outputs": [
    {
     "data": {
      "text/plain": [
       "16"
      ]
     },
     "execution_count": 9,
     "metadata": {},
     "output_type": "execute_result"
    }
   ],
   "source": [
    "sizeof(x[2])"
   ]
  },
  {
   "cell_type": "code",
   "execution_count": 10,
   "metadata": {
    "collapsed": false
   },
   "outputs": [
    {
     "name": "stdout",
     "output_type": "stream",
     "text": [
      "  0.035569 seconds (285.67 k allocations: 15.986 MB, 33.57% gc time)\n"
     ]
    }
   ],
   "source": [
    "@time undrivenHelium!(0.0, x, dx)"
   ]
  },
  {
   "cell_type": "code",
   "execution_count": null,
   "metadata": {
    "collapsed": true
   },
   "outputs": [],
   "source": []
  },
  {
   "cell_type": "code",
   "execution_count": null,
   "metadata": {
    "collapsed": false
   },
   "outputs": [],
   "source": [
    "x"
   ]
  },
  {
   "cell_type": "code",
   "execution_count": null,
   "metadata": {
    "collapsed": true
   },
   "outputs": [],
   "source": []
  }
 ],
 "metadata": {
  "kernelspec": {
   "display_name": "Julia 0.5.3-pre",
   "language": "julia",
   "name": "julia-0.5"
  },
  "language_info": {
   "file_extension": ".jl",
   "mimetype": "application/julia",
   "name": "julia",
   "version": "0.5.3"
  }
 },
 "nbformat": 4,
 "nbformat_minor": 0
}
