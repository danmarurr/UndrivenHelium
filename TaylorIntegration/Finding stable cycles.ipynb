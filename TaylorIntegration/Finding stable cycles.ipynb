{
 "cells": [
  {
   "cell_type": "code",
   "execution_count": 1,
   "metadata": {
    "collapsed": false
   },
   "outputs": [
    {
     "data": {
      "text/plain": [
       "500000"
      ]
     },
     "execution_count": 1,
     "metadata": {},
     "output_type": "execute_result"
    }
   ],
   "source": [
    "using TaylorSeries, TaylorIntegration\n",
    "using Plots, LaTeXStrings\n",
    "# plotly()\n",
    "pyplot(grid = :false, legend = :false, size=(600,600), color=:black, markersize = 0.3 )\n",
    "const Z = 2.0\n",
    "const order = 20\n",
    "const t0 = 0.0\n",
    "const t_max = 0.5 \n",
    "const abs_tol = 1.0E-20\n",
    "const steps = 500_000"
   ]
  },
  {
   "cell_type": "code",
   "execution_count": 2,
   "metadata": {
    "collapsed": false
   },
   "outputs": [
    {
     "data": {
      "text/plain": [
       "stabilitymatrix!"
      ]
     },
     "execution_count": 2,
     "metadata": {},
     "output_type": "execute_result"
    }
   ],
   "source": [
    "function undrivenHelium(τ, q)\n",
    "    tT, Q₁, Q₂, P₁, P₂ = q\n",
    "    \n",
    "    t1 = Q₁^2\n",
    "    t2 = Q₂^2\n",
    "    t = t1 * t2\n",
    "    R12 = t1 - t2\n",
    "    q₁ = 0.25*t2*P₁\n",
    "    p₁ = 2Q₁*(-0.125P₂^2 + Z  - t2 - t2/abs(R12) + t*R12/abs(R12)^3)\n",
    "    q₂ = 0.25*t1*P₂\n",
    "    p₂ = 2Q₂*(-0.125P₁^2 + Z  - t1 - t1/abs(R12) - t*R12/abs(R12)^3)\n",
    "\n",
    "    return [t, q₁, q₂, p₁, p₂] \n",
    "\n",
    "end\n",
    "undrivenHelium(v) = undrivenHelium(zero(eltype(v)), v)\n",
    "\n",
    "\n",
    "var1 = set_variables(\"t q1 q2 p1 p2\", order = 1)\n",
    "\n",
    "\n",
    "function condini(x10::Float64, px10::Float64)\n",
    "    @assert x10 != 0\n",
    "    Q1 = sqrt(x10)\n",
    "    Q2 = 0.0\n",
    "    P1 = px10*sqrt(x10)    \n",
    "    P2 = sqrt(8Z)    \n",
    "    return [0, Q1, Q2, P1, P2]\n",
    "end\n",
    "\n",
    "function regHam(t, Q₁, Q₂, P₁, P₂)\n",
    "    #Cantidades auxiliares\n",
    "    P₁² = P₁^2\n",
    "    P₂² = P₂^2\n",
    "    Q₁² = Q₁^2\n",
    "    Q₂² = Q₂^2\n",
    "    nf = abs(Q₁² - Q₂²)\n",
    "    \n",
    "    H = 0.125*(P₁²*Q₂² + P₂²*Q₁²) - Z*(Q₁² + Q₂²) + Q₁²*Q₂²*(1.0 + 1.0/nf)\n",
    "    return H\n",
    "end\n",
    "\n",
    "\n",
    "regHam(v) = regHam(v...)\n",
    "\n",
    "function errHam(N::Int)\n",
    "    srand(487293456)\n",
    "    J = [0 0 0 0 0; 0 0 0 1 0; 0 0 0 0 1; 0 -1 0 0 0; 0 0 -1 0 0 ]\n",
    "    \n",
    "    dnorm = zeros(N)\n",
    "    als = typeof(zeros(5))[]\n",
    "    for j in 1:N\n",
    "        al = 10*rand(5)\n",
    "        #al = [BigFloat(x) for x in al1]\n",
    "        alt = al + var1\n",
    "        ene = J*∇(regHam(alt))\n",
    "        ene1 = [ene[k].coeffs[1].coeffs[1] for k in 1:5]\n",
    "        meq = undrivenHelium(al)\n",
    "        push!(als, al)\n",
    "        meq[1] = 0\n",
    "        dnorm[j] = norm(meq - ene1) \n",
    "    end\n",
    "    return dnorm, als \n",
    "end\n",
    "\n",
    "\"\"\"\n",
    "    stabilitymatrix!{T<:Number, S<:Number}(eqsdiff, t0::T, x::Array{T,1},\n",
    "        jjac::Array{T,2})\n",
    "    stabilitymatrix!{T<:Number, S<:Number}(eqsdiff, t0::T, x::Array{Taylor1{T},1},\n",
    "        jjac::Array{Taylor1{T},2})\n",
    "Updates the matrix `jjac` (linearized equations of motion)\n",
    "computed from the equations of motion (`eqsdiff`), at time `t0`\n",
    "at `x0`.\n",
    "\"\"\"\n",
    "function stabilitymatrix!{T<:Number}(eqsdiff, t0::T, x::Array{T,1},\n",
    "        jjac::Array{T,2})\n",
    "    δx = Array{TaylorN{T}}( length(x) )\n",
    "    @inbounds for ind in eachindex(x)\n",
    "        δx[ind] = x[ind] + TaylorN(T,ind,order=1)\n",
    "    end\n",
    "    jjac[:] = jacobian( eqsdiff(t0, δx), x )\n",
    "    nothing\n",
    "end"
   ]
  },
  {
   "cell_type": "code",
   "execution_count": 3,
   "metadata": {
    "collapsed": false
   },
   "outputs": [
    {
     "data": {
      "text/plain": [
       "q2sign (generic function with 1 method)"
      ]
     },
     "execution_count": 3,
     "metadata": {},
     "output_type": "execute_result"
    }
   ],
   "source": [
    "function q2sign(xold, x0, tol)\n",
    "    if abs(xold[3]) < tol\n",
    "        sq2o = 0\n",
    "    else\n",
    "        sq2o = sign(xold[3])\n",
    "    end\n",
    "    \n",
    "    if abs(x0[3]) < tol\n",
    "        sq2 = 0\n",
    "    else\n",
    "        sq2 = sign(x0[3])\n",
    "    end\n",
    "    if abs(xold[5]) < tol\n",
    "        sp2o = 0\n",
    "    else\n",
    "        sp2o = sign(xold[5])\n",
    "    end\n",
    "    \n",
    "    if abs(x0[5]) < tol\n",
    "        sp2 = 0\n",
    "    else\n",
    "        sp2 = sign(x0[5])\n",
    "    end\n",
    "    return sq2o, sq2, sp2o, sp2\n",
    "end\n",
    "    "
   ]
  },
  {
   "cell_type": "code",
   "execution_count": 4,
   "metadata": {
    "collapsed": false
   },
   "outputs": [
    {
     "data": {
      "text/plain": [
       "mytaylorinteg (generic function with 1 method)"
      ]
     },
     "execution_count": 4,
     "metadata": {},
     "output_type": "execute_result"
    }
   ],
   "source": [
    "###Implementamos nuevo código \n",
    "function taylorstep1!{T<:Number}(f, t0::T, t1::T, x0::Array{T,1},\n",
    "        order::Int, abstol::T)\n",
    "    @assert t1 > t0\n",
    "    # Initialize the vector of Taylor1 expansions\n",
    "    xT = Array{Taylor1{T}}(length(x0))\n",
    "    for i in eachindex(x0)\n",
    "        @inbounds xT[i] = Taylor1( x0[i], order )\n",
    "    end\n",
    "\n",
    "    # Compute the Taylor coefficients\n",
    "    TaylorIntegration.jetcoeffs!(f, t0, xT)\n",
    "\n",
    "    # Compute the step-size of the integration using `abstol`\n",
    "    δt = TaylorIntegration.stepsize(xT, abstol)\n",
    "    δt = min(δt, t1-t0)\n",
    "\n",
    "    evaluate!(xT, δt, x0)\n",
    "    return δt, xT\n",
    "end\n",
    "\n",
    "\n",
    "function mytaylorinteg{T<:Number}(f, q0::Array{T,1}, t0::T, tmax::T, order::Int,\n",
    "    abstol::T; tsteps::Int = 1000, tol::Float64=1e-20, maxsteps::Int=5000)\n",
    "\n",
    "    # Allocation\n",
    "    tv = Array{T}(maxsteps)\n",
    "    dof = length(q0)\n",
    "    xv = Array{T}(dof, maxsteps)\n",
    "    jjac0 = eye(dof)\n",
    "    jjac0[1] = zero(T)\n",
    "    arrjac = Array{Array{T,2}}(maxsteps)\n",
    "    sm0 = eye(dof)\n",
    "    sm0[1] = zero(T)\n",
    "    stabilitymatrix!(undrivenHelium, t0, q0, sm0)\n",
    "    # Initial conditions\n",
    "    @inbounds tv[1] = t0\n",
    "    @inbounds xv[:,1] = q0[:]\n",
    "    arrjac[1] = jjac0\n",
    "    x0 = copy(q0)\n",
    "    sum1 = q0[3]/maxsteps\n",
    "\n",
    "    # Integration\n",
    "    nsteps = 1\n",
    "    δtn = Inf\n",
    "    while t0 < tmax\n",
    "        xold = copy(x0)\n",
    "        δt, sT = taylorstep1!(f, t0, tmax, x0, order, abstol)\n",
    "        sq2o, sq2, sp2o, sp2 = q2sign(xold, x0, tol)\n",
    "        steps1 = 0\n",
    "        x00 = copy(x0)\n",
    "        bool1 = false\n",
    "        \n",
    "        while sq2o*sq2 == -1 || (sp2o*sp2 == -1 && abs(xold[3]) < tol)\n",
    "            bool1 = true\n",
    "            q2T = sT[3]\n",
    "            dq2T = derivative(q2T)\n",
    "            δtn = copy(δt)\n",
    "            for nc in 1:20\n",
    "                δtn = δtn - evaluate(q2T, δtn)/evaluate(dq2T, δtn)\n",
    "            end\n",
    "            \n",
    "            evaluate!(sT, δtn, x0)  \n",
    "            sq2o, sq2, sp2o, sp2 = q2sign(xold, x0, tol)\n",
    "            steps1 += 1\n",
    "            if steps1  ≥ tsteps\n",
    "                break\n",
    "            end\n",
    "        end\n",
    "                \n",
    "        if nsteps ≥ maxsteps \n",
    "            warn(\"\"\"\n",
    "            Maximum number of integration steps reached; exiting.\n",
    "            \"\"\")\n",
    "            break\n",
    "        end\n",
    "        \n",
    "                \n",
    "        nsteps += 1\n",
    "        \n",
    "        if bool1 == true\n",
    "            @inbounds tv[nsteps] = t0 + δtn\n",
    "            @inbounds xv[:,nsteps] = x0[:]\n",
    "            stabilitymatrix!(undrivenHelium, t0 + δtn, x0, sm0)\n",
    "            jjac0 = sm0 * arrjac[nsteps - 1]\n",
    "            arrjac[nsteps] = jjac0\n",
    "            x0 = x00\n",
    "            nsteps += 1\n",
    "            stabilitymatrix!(undrivenHelium, t0 + δt, x0, sm0)\n",
    "            jjac0 = sm0 * arrjac[nsteps - 2]\n",
    "            arrjac[nsteps] = jjac0\n",
    "        else\n",
    "            stabilitymatrix!(undrivenHelium, t0 + δt, x0, sm0)\n",
    "            jjac0 = sm0 * arrjac[nsteps - 1]\n",
    "            arrjac[nsteps] = jjac0            \n",
    "        end\n",
    "        t0 += δt\n",
    "        @inbounds tv[nsteps] = t0\n",
    "        @inbounds xv[:,nsteps] = x0[:]\n",
    "        sum1 += x0[3]/maxsteps\n",
    "            \n",
    "    end\n",
    "\n",
    "    return view(tv,1:nsteps), view(xv,:,1:nsteps)', arrjac[1:nsteps]\n",
    "end"
   ]
  },
  {
   "cell_type": "code",
   "execution_count": 5,
   "metadata": {
    "collapsed": false
   },
   "outputs": [
    {
     "data": {
      "text/plain": [
       "5-element Array{Float64,1}:\n",
       " 0.0    \n",
       " 1.41421\n",
       " 0.0    \n",
       " 0.0    \n",
       " 4.0    "
      ]
     },
     "execution_count": 5,
     "metadata": {},
     "output_type": "execute_result"
    }
   ],
   "source": [
    "c1 = condini(2.0, 0.0)"
   ]
  },
  {
   "cell_type": "code",
   "execution_count": 6,
   "metadata": {
    "collapsed": false
   },
   "outputs": [
    {
     "name": "stdout",
     "output_type": "stream",
     "text": [
      "  0.486010 seconds (558.19 k allocations: 37.279 MB, 3.28% gc time)\n"
     ]
    }
   ],
   "source": [
    "@time t1, x1 = taylorinteg(undrivenHelium, c1, t0, 2.0, order, abs_tol, maxsteps=100_000);"
   ]
  },
  {
   "cell_type": "code",
   "execution_count": 7,
   "metadata": {
    "collapsed": false
   },
   "outputs": [
    {
     "name": "stdout",
     "output_type": "stream",
     "text": [
      "  1.529208 seconds (6.68 M allocations: 334.574 MB, 6.47% gc time)\n"
     ]
    },
    {
     "data": {
      "text/plain": [
       "([0.0,0.0688297,0.132565,0.190324,0.243784,0.297682,0.340833,0.379243,0.414926,0.45021  …  1.77388,1.80112,1.82789,1.85322,1.88136,1.90655,1.93201,1.95891,1.98522,2.0],\n",
       "[0.0 1.41421 … 0.0 4.0; 0.000868728 1.41421 … -0.000607237 3.99044; … ; 3.71783 2.12447 … 3.76379 1.15745; 3.813 2.14422 … 3.80081 1.38402],\n",
       "\n",
       "Array{Float64,2}[\n",
       "[0.0 0.0 … 0.0 0.0; 0.0 1.0 … 0.0 0.0; … ; 0.0 0.0 … 1.0 0.0; 0.0 0.0 … 0.0 1.0],\n",
       "\n",
       "[0.0 0.053514 … 0.0 0.0; 0.0 0.0 … 0.00473001 0.0; … ; 0.0 -0.0192936 … 0.0 -2.82167; 0.0 -0.770528 … 4.17628e-5 0.0],\n",
       "\n",
       "[0.0 2.98349 … 0.000934817 0.528675; 0.0 -0.00189827 … 0.0 -0.0495674; … ; 0.0 -1.89572 … -0.000474582 -0.718598; 0.0 -6.93677 … -0.00679796 -1.23076],\n",
       "\n",
       "[0.0 -0.583657 … 0.0200887 -0.0200581; 0.0 -0.0669536 … -4.63567e-5 -0.0257028; … ; 0.0 19.9893 … -0.00701735 3.42185; 0.0 1.1688 … -0.0402998 0.0949883],\n",
       "\n",
       "[0.0 -6.74583 … -0.00658821 -1.4694; 0.0 1.1818 … -0.000389637 0.20317; … ; 0.0 4.7063 … 0.11789 1.45645; 0.0 13.8437 … 0.0133574 3.02077],\n",
       "\n",
       "[0.0 2.08569 … -0.0478542 0.143682; 0.0 0.399127 … 0.0103213 0.125084; … ; 0.0 -38.7078 … 0.0113649 -8.15823; 0.0 -4.82052 … 0.11012 -0.33318],\n",
       "\n",
       "[0.0 27.3685 … 0.0279688 5.6294; 0.0 -4.45527 … 0.00117322 -0.93789; … ; 0.0 -7.83515 … -0.309769 -3.33768; 0.0 -72.7968 … -0.060236 -14.9187],\n",
       "\n",
       "[0.0 -10.8494 … 0.243358 -0.964695; 0.0 -1.03592 … -0.0436269 -0.455865; … ; 0.0 194.434 … 0.0501986 39.3407; 0.0 18.1608 … -0.777506 -0.415206],\n",
       "\n",
       "[0.0 -154.413 … -0.165519 -32.2879; 0.0 32.1098 … 0.00860122 6.50085; … ; 0.0 -46.957 … 2.02866 1.20764; 0.0 600.075 … 0.33523 123.734],\n",
       "\n",
       "[0.0 89.54 … -1.6866 9.01642; 0.0 -8.8048 … 0.384168 0.246959; … ; 0.0 -1538.58 … -2.01401 -323.152; 0.0 -34.5492 … 8.46486 38.1407]  …  \n",
       "[0.0 4.02299e29 … 4.29221e27 1.04477e29; 0.0 2.67789e27 … 5.19489e26 3.31257e27; … ; 0.0 9.9012e29 … -1.26419e27 1.94078e29; 0.0 4.34415e29 … 9.3226e27 1.37808e29],\n",
       "\n",
       "[0.0 -4.03396e30 … 4.57039e27 -7.93807e29; 0.0 -5.74372e29 … 5.66842e24 -1.16465e29; … ; 0.0 1.0785e30 … 1.19257e28 2.82318e29; 0.0 -9.73709e30 … 3.63076e27 -1.95553e30],\n",
       "\n",
       "[0.0 -6.4964e30 … -6.58043e28 -1.66841e30; 0.0 -3.60281e29 … -1.03967e28 -1.28498e29; … ; 0.0 -9.09547e30 … 8.55296e27 -1.79916e30; 0.0 -7.81825e30 … -1.65318e29 -2.46703e30],\n",
       "\n",
       "[0.0 7.41571e31 … -9.10089e28 1.45554e31; 0.0 1.34616e31 … -3.59867e27 2.71111e30; … ; 0.0 -1.04397e31 … -9.8428e28 -2.64212e30; 0.0 1.95292e32 … -7.52673e28 3.92081e31],\n",
       "\n",
       "[0.0 1.5093e32 … 1.41437e30 3.8152e31; 0.0 1.1105e31 … 2.76714e29 3.72751e30; … ; 0.0 3.09318e31 … -1.93406e29 5.24256e30; 0.0 1.78168e32 … 3.62961e30 5.54859e31],\n",
       "\n",
       "[0.0 -1.80931e33 … 2.46272e30 -3.53837e32; 0.0 -3.95475e32 … 8.35969e28 -7.97649e31; … ; 0.0 3.55825e32 … -7.85625e29 6.79805e31; 0.0 -4.62647e33 … 1.97688e30 -9.27806e32],\n",
       "\n",
       "[0.0 -4.38687e33 … -3.77854e31 -1.09119e33; 0.0 -2.66451e32 … -8.52043e30 -9.9465e31; … ; 0.0 3.17487e33 … 1.07654e31 7.01321e32; 0.0 -4.82508e33 … -9.03498e31 -1.46029e33],\n",
       "\n",
       "[0.0 5.17943e34 … -7.61216e31 1.00992e34; 0.0 1.25079e34 … -7.1772e29 2.53303e33; … ; 0.0 -1.80321e34 … 9.68869e31 -3.14078e33; 0.0 1.19065e35 … -6.13727e31 2.38217e34],\n",
       "\n",
       "[0.0 1.35617e35 … 1.13387e33 3.35508e34; 0.0 5.85844e33 … 2.72134e32 2.63898e33; … ; 0.0 -1.94013e35 … -5.16944e32 -4.21058e34; 0.0 1.44357e35 … 2.41575e33 4.21571e34],\n",
       "\n",
       "[0.0 -1.58666e36 … 2.37833e33 -3.09128e35; 0.0 -4.02395e35 … -2.22947e31 -8.1733e34; … ; 0.0 7.09354e35 … -4.29705e33 1.20964e35; 0.0 -3.39184e36 … 1.93483e33 -6.77622e35]])"
      ]
     },
     "execution_count": 7,
     "metadata": {},
     "output_type": "execute_result"
    }
   ],
   "source": [
    "@time t2, x2, m1 = mytaylorinteg(undrivenHelium, c1, t0, 2.0, order, abs_tol, maxsteps=100)"
   ]
  },
  {
   "cell_type": "code",
   "execution_count": 9,
   "metadata": {
    "collapsed": false
   },
   "outputs": [
    {
     "data": {
      "text/plain": [
       "64"
      ]
     },
     "execution_count": 9,
     "metadata": {},
     "output_type": "execute_result"
    }
   ],
   "source": [
    "length(t2)"
   ]
  },
  {
   "cell_type": "code",
   "execution_count": 8,
   "metadata": {
    "collapsed": false
   },
   "outputs": [
    {
     "name": "stdout",
     "output_type": "stream",
     "text": [
      "1.0\n",
      "-0.08100442033656961\n",
      "0.028655669337971985\n",
      "-0.02560521853874595\n",
      "0.04640566621783072\n",
      "-0.15613143052078104\n",
      "0.8142805931401355\n",
      "-6.002430335115989\n",
      "58.23313393803557\n",
      "-693.6131284110414\n",
      "8975.619875257966\n",
      "-108712.5107549136\n",
      "874833.711506469\n",
      "144272.61306276772\n",
      "2.3569688092897027e6\n",
      "8.729036467117582e7\n",
      "5.913834106171536e9\n",
      "5.879909861048324e11\n",
      "7.846330438449745e13\n",
      "1.2852132068627636e16\n",
      "2.3961227302494234e18\n",
      "4.725666594372071e20\n",
      "9.232224459341765e22\n",
      "2.177819811615518e25\n",
      "-4.77681682517409e27\n",
      "1.1582884326790177e30\n",
      "-1.7253999794781586e33\n",
      "0.0\n",
      "0.0\n",
      "-6.341483025069918e43\n",
      "0.0\n",
      "0.0\n",
      "6.893211899164909e51\n",
      "0.0\n",
      "2.766080291442872e56\n",
      "0.0\n",
      "2.8550586503483896e61\n",
      "-2.819145040454123e63\n",
      "1.2729570899348208e65\n",
      "0.0\n",
      "0.0\n",
      "2.1719402062858767e70\n",
      "-5.198930854193572e71\n",
      "0.0\n",
      "-4.746147566261835e72\n",
      "2.4545313267442286e74\n",
      "1.973401341722478e75\n",
      "-4.0941697490344044e75\n",
      "-6.773292827215702e75\n",
      "3.187449922372966e76\n",
      "-2.761135230230169e77\n",
      "2.354782644879866e77\n",
      "1.9373858585670792e80\n",
      "2.0258810841346995e82\n",
      "0.0\n",
      "-2.3070192031681256e86\n",
      "-7.546031490970765e87\n",
      "2.8885001724597564e91\n",
      "-1.0808891604358227e94\n",
      "0.0\n",
      "0.0\n",
      "0.0\n",
      "8.132103379073553e104\n",
      "-1.4712429644060118e108\n"
     ]
    },
    {
     "ename": "LoadError",
     "evalue": "BoundsError: attempt to access 64-element Array{Array{Float64,2},1} at index [65]",
     "output_type": "error",
     "traceback": [
      "BoundsError: attempt to access 64-element Array{Array{Float64,2},1} at index [65]",
      "",
      " in getindex(::Array{Array{Float64,2},1}, ::Int64) at ./array.jl:386",
      " in macro expansion; at ./In[8]:2 [inlined]",
      " in anonymous at ./<missing>:?"
     ]
    }
   ],
   "source": [
    "for j in 1:100\n",
    "    a = det(m1[j][2:end,2:end])\n",
    "    println(a)\n",
    "end"
   ]
  }
 ],
 "metadata": {
  "kernelspec": {
   "display_name": "Julia 0.5.0",
   "language": "julia",
   "name": "julia-0.5"
  },
  "language_info": {
   "file_extension": ".jl",
   "mimetype": "application/julia",
   "name": "julia",
   "version": "0.5.0"
  }
 },
 "nbformat": 4,
 "nbformat_minor": 0
}
