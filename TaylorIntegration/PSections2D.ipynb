{
 "cells": [
  {
   "cell_type": "code",
   "execution_count": 1,
   "metadata": {
    "collapsed": false,
    "scrolled": false
   },
   "outputs": [],
   "source": [
    "#using TaylorSeries\n",
    "include(\"UndrivenHelium.jl\")\n",
    "#include(\"Integ.jl\")\n",
    "using Plots, LaTeXStrings\n",
    "# plotly()\n",
    "pyplot(grid = :false, legend = :false, size=(600,600), color=:black, markersize = 0.3 )\n",
    "const Z = 2.0\n",
    "const order = 34\n",
    "const t0 = 0.0\n",
    "const t_max = 0.5 \n",
    "const abs_tol = 1.0E-20\n",
    "const steps = 500_000;"
   ]
  },
  {
   "cell_type": "code",
   "execution_count": 2,
   "metadata": {
    "collapsed": false
   },
   "outputs": [
    {
     "data": {
      "text/plain": [
       "taylorintegps (generic function with 2 methods)"
      ]
     },
     "execution_count": 2,
     "metadata": {},
     "output_type": "execute_result"
    }
   ],
   "source": [
    "include(\"Integ.jl\")"
   ]
  },
  {
   "cell_type": "code",
   "execution_count": 3,
   "metadata": {
    "collapsed": false
   },
   "outputs": [
    {
     "data": {
      "text/plain": [
       "8-element Array{Float64,1}:\n",
       " 2.23607\n",
       " 0.0    \n",
       " 0.0    \n",
       " 0.0    \n",
       " 0.0    \n",
       " 0.0    \n",
       " 4.0    \n",
       " 0.0    "
      ]
     },
     "execution_count": 3,
     "metadata": {},
     "output_type": "execute_result"
    }
   ],
   "source": [
    "c1 = condini2D(5.0, 0.0, 0.0, 0.0, 0.0)"
   ]
  },
  {
   "cell_type": "code",
   "execution_count": 4,
   "metadata": {
    "collapsed": false
   },
   "outputs": [
    {
     "name": "stdout",
     "output_type": "stream",
     "text": [
      "  1.256610 seconds (11.58 M allocations: 1.268 GiB, 16.88% gc time)\n"
     ]
    }
   ],
   "source": [
    "t1, x1 = taylorinteg(undrivenHelium2D!, c1, t0, 1.0, order, abs_tol, maxsteps=100)\n",
    "@time t1, x1 = taylorinteg(undrivenHelium2D!, c1, t0, 120.0, order, abs_tol, maxsteps=10_000);"
   ]
  },
  {
   "cell_type": "code",
   "execution_count": 5,
   "metadata": {
    "collapsed": false
   },
   "outputs": [
    {
     "data": {
      "text/plain": [
       "1572"
      ]
     },
     "execution_count": 5,
     "metadata": {},
     "output_type": "execute_result"
    }
   ],
   "source": [
    "length(t1)"
   ]
  },
  {
   "cell_type": "code",
   "execution_count": 6,
   "metadata": {
    "collapsed": false
   },
   "outputs": [
    {
     "ename": "LoadError",
     "evalue": "\u001b[91mUndefRefError: access to undefined reference\u001b[39m",
     "output_type": "error",
     "traceback": [
      "\u001b[91mUndefRefError: access to undefined reference\u001b[39m",
      "",
      "Stacktrace:",
      " [1] \u001b[1mjetcoeffs!\u001b[22m\u001b[22m\u001b[1m(\u001b[22m\u001b[22m::#undrivenHelium1D!, ::Float64, ::Array{TaylorSeries.Taylor1{Float64},1}, ::Array{TaylorSeries.Taylor1{Float64},1}, ::Array{TaylorSeries.Taylor1{Float64},1}, ::Array{Float64,1}\u001b[1m)\u001b[22m\u001b[22m at \u001b[1m/home/daniel/.julia/v0.6/TaylorIntegration/src/explicitode.jl:104\u001b[22m\u001b[22m",
      " [2] \u001b[1mtaylorstep!\u001b[22m\u001b[22m\u001b[1m(\u001b[22m\u001b[22m::Function, ::Array{TaylorSeries.Taylor1{Float64},1}, ::Array{TaylorSeries.Taylor1{Float64},1}, ::Array{TaylorSeries.Taylor1{Float64},1}, ::Float64, ::Float64, ::Array{Float64,1}, ::Int64, ::Float64, ::Array{Float64,1}\u001b[1m)\u001b[22m\u001b[22m at \u001b[1m/home/daniel/.julia/v0.6/TaylorIntegration/src/explicitode.jl:283\u001b[22m\u001b[22m",
      " [3] \u001b[1m#taylorintegps#4\u001b[22m\u001b[22m\u001b[1m(\u001b[22m\u001b[22m::Int64, ::Float64, ::Int64, ::Function, ::Function, ::Array{Float64,1}, ::Float64, ::Float64, ::Int64, ::Float64\u001b[1m)\u001b[22m\u001b[22m at \u001b[1m/home/daniel/Documents/2017-2/Tesis/UndrivenHelium/TaylorIntegration/Integ.jl:257\u001b[22m\u001b[22m",
      " [4] \u001b[1m(::#kw##taylorintegps)\u001b[22m\u001b[22m\u001b[1m(\u001b[22m\u001b[22m::Array{Any,1}, ::#taylorintegps, ::Function, ::Array{Float64,1}, ::Float64, ::Float64, ::Int64, ::Float64\u001b[1m)\u001b[22m\u001b[22m at \u001b[1m./<missing>:0\u001b[22m\u001b[22m",
      " [5] \u001b[1minclude_string\u001b[22m\u001b[22m\u001b[1m(\u001b[22m\u001b[22m::String, ::String\u001b[1m)\u001b[22m\u001b[22m at \u001b[1m./loading.jl:515\u001b[22m\u001b[22m"
     ]
    }
   ],
   "source": [
    "t2, x2 = taylorintegps(undrivenHelium1D!, c1, t0, 1.0, order, abs_tol, maxsteps=100)\n",
    "@time t2, x2 = taylorintegps(undrivenHelium1D!, c1, t0, 120.0, order, abs_tol, maxsteps=10_000);"
   ]
  },
  {
   "cell_type": "code",
   "execution_count": 7,
   "metadata": {
    "collapsed": false
   },
   "outputs": [
    {
     "ename": "LoadError",
     "evalue": "\u001b[91mUndefVarError: t2 not defined\u001b[39m",
     "output_type": "error",
     "traceback": [
      "\u001b[91mUndefVarError: t2 not defined\u001b[39m",
      "",
      "Stacktrace:",
      " [1] \u001b[1minclude_string\u001b[22m\u001b[22m\u001b[1m(\u001b[22m\u001b[22m::String, ::String\u001b[1m)\u001b[22m\u001b[22m at \u001b[1m./loading.jl:515\u001b[22m\u001b[22m"
     ]
    }
   ],
   "source": [
    "length(t1), length(t2)"
   ]
  },
  {
   "cell_type": "code",
   "execution_count": null,
   "metadata": {
    "collapsed": false
   },
   "outputs": [],
   "source": [
    "ene1 = zeros(t1)\n",
    "ene2 = zeros(t2)\n",
    "for j in eachindex(ene1)\n",
    "    ene1[j] = abs(regHam1D(x1[j,:]))/eps()\n",
    "end\n",
    "for j in eachindex(ene2)\n",
    "    ene2[j] = abs(regHam1D(x2[j,:]))/eps()\n",
    "end"
   ]
  },
  {
   "cell_type": "code",
   "execution_count": null,
   "metadata": {
    "collapsed": false
   },
   "outputs": [],
   "source": [
    "plot(t1, ene1, title =L\"Absolute Error of Energy $q_1=2$\", color = :black)\n",
    "plot!(t2, ene2, title =L\"Absolute Error of Energy $q_1=2$\",color=:red, label=L\"Cálculo con Sección de Poincaré\")\n",
    "xaxis!(L\"t\")\n",
    "yaxis!(L\"\\delta E\")\n"
   ]
  },
  {
   "cell_type": "code",
   "execution_count": null,
   "metadata": {
    "collapsed": false
   },
   "outputs": [],
   "source": [
    "plot(t2, ene2, title =L\"Absolute Error of Energy $q_1=2$\")\n",
    "xlabel!(L\"t\")\n",
    "ylabel!(L\"\\delta E\")"
   ]
  },
  {
   "cell_type": "code",
   "execution_count": null,
   "metadata": {
    "collapsed": false
   },
   "outputs": [],
   "source": [
    "maximum(ene1)"
   ]
  },
  {
   "cell_type": "markdown",
   "metadata": {},
   "source": [
    "# Implementamos funciones para obtener gráficas de las secciones de Poincaré"
   ]
  },
  {
   "cell_type": "code",
   "execution_count": null,
   "metadata": {
    "collapsed": false
   },
   "outputs": [],
   "source": [
    "function psundriven{T<:Number}(x10::T, px10::T; tol::Float64 = 1e-20, tmax = 100.0, maxsteps1 = 5_000 )\n",
    "    c1 = condini1D(x10, px10)\n",
    "    t, x, tp, xp = taylorintegps(undrivenHelium1D!, c1, t0, tmax, order, abs_tol; maxsteps = maxsteps1)\n",
    "    \n",
    "    xpm = similar(xp)\n",
    "    xpm[:,1] = map(ks, xp[:,1])\n",
    "    xpm[:,3] = Float64[ksv(xp[k,1], xp[k, 3]) for k in eachindex(tp)]\n",
    "    xpm[:,2] = map(ks, xp[:,2])\n",
    "    xpm[:,4] = Float64[ksv(xp[k,2], xp[k, 4]) for k in eachindex(tp)]\n",
    "\n",
    "    return xpm, t, x\n",
    "end"
   ]
  },
  {
   "cell_type": "code",
   "execution_count": null,
   "metadata": {
    "collapsed": false
   },
   "outputs": [],
   "source": [
    "#Haremos malavares con metaprogramming para ver varias órbitas\n",
    "nombret(n::Int) = Symbol( string(\"t\", n) )\n",
    "nombreps(n::Int) = Symbol( string(\"ps\", n) )\n",
    "nombreq(n::Int) = Symbol( string(\"q\", n) )\n",
    "nombrexs(n::Int) = Symbol( string(\"xs\", n) )\n",
    "nombrevxs(n::Int) = Symbol( string(\"vxs\", n) )\n",
    "nombreys(n::Int) = Symbol( string(\"ys\", n) )\n",
    "nombrevys(n::Int) = Symbol( string(\"vys\", n) )\n",
    "\n",
    "function orbits(nmin, rs = 2:10)\n",
    "    N = length(rs)\n",
    "    # Checo que `n` sea >= 1\n",
    "    @assert N >= 0  \n",
    "\n",
    "    for j = nmin:(N+nmin - 1)\n",
    "        ex1 = quote \n",
    "            $(nombreps(j)), $(nombret(j)), $(nombreq(j))  = \n",
    "                psundriven(Float64($(rs[j])), 0.0; tmax = 100.0, maxsteps1 = 5_000 )\n",
    "             end\n",
    "        ex2 = quote \n",
    "                $(nombrexs(j)) = $(nombreps(j))[:,1]\n",
    "             end\n",
    "        \n",
    "        ex3 = quote \n",
    "                 $(nombrevxs(j)) =  $(nombreps(j))[:,3]\n",
    "             end\n",
    "        ex4 = quote \n",
    "                $(nombreps(j))[:,2]\n",
    "             end\n",
    "        \n",
    "        ex5 = quote \n",
    "                $(nombreps(j))[:,4]\n",
    "             end\n",
    "        eval(ex1)\n",
    "        eval(ex2)\n",
    "        eval(ex3)\n",
    "        eval(ex4)\n",
    "        eval(ex5)\n",
    "    end\n",
    "end\n",
    "\n",
    "function plottingps(nmax,xmin::Float64=0.0, xmax::Float64=20.0, \n",
    "    ymin::Float64=-1.0, ymax::Float64=1.0)\n",
    "    scatter(xs1, vxs1, label = L\"q = 2\", title = L\"Poincaré Section $Z = 2$,  $r_{2_0} =0$\")\n",
    "    for j in 2:nmax\n",
    "        ex = quote\n",
    "            scatter!($(nombrexs(j)), $(nombrevxs(j)))\n",
    "        end\n",
    "        eval(ex)\n",
    "    end\n",
    "    xaxis!([0,20])\n",
    "    xlabel!(L\"x\")\n",
    "    ylabel!(L\"p_x\")\n",
    "    yaxis!([ymin, ymax])\n",
    "    xaxis!([xmin, xmax])\n",
    "end\n",
    "\n",
    "function ksv(Q, P)\n",
    "    v₁ = P/2Q\n",
    "    return v₁\n",
    "end\n",
    "ks(Q) = Q^2"
   ]
  },
  {
   "cell_type": "code",
   "execution_count": null,
   "metadata": {
    "collapsed": false
   },
   "outputs": [],
   "source": [
    "@time orbits(1,2:0.1:10)\n",
    "NM = length(2:0.1:10)"
   ]
  },
  {
   "cell_type": "code",
   "execution_count": null,
   "metadata": {
    "collapsed": false
   },
   "outputs": [],
   "source": [
    "@time plottingps(NM, 4.0, 10., -.5, .5)\n",
    "#@time plottingps(NM, 0., 4., -0.5, 0.5)"
   ]
  },
  {
   "cell_type": "code",
   "execution_count": null,
   "metadata": {
    "collapsed": false,
    "scrolled": true
   },
   "outputs": [],
   "source": [
    "tvSv = Array{Float64,1}[]\n",
    "xvSv = Array{Float64,2}[]\n",
    "gvSv = Array{Float64,1}[]\n",
    "x0 = Float64[6.5, 0.0]\n",
    "\n",
    "nconds2 = 1000 #number of initial conditions\n",
    "@time for i in 1:nconds2\n",
    "    rand1 = rand(); rand2 = rand()\n",
    "    x_ini = x0 + 0.005*[sqrt(rand1)*cos(2pi*rand2),sqrt(rand1)*sin(2pi*rand2)]\n",
    "    xtemp0 = condini1D(x_ini...)\n",
    "    xtemp = Float64[ks(xtemp0[1]),ks(xtemp0[2]), ksv(xtemp0[1], xtemp0[3]), ksv(xtemp0[2], xtemp0[4])]\n",
    "    xp, t, x = psundriven(x_ini[1], x_ini[2]; tmax = 120.0, maxsteps1 = 5_000 )\n",
    "    push!(xvSv, vcat(xtemp', xp))\n",
    "end"
   ]
  },
  {
   "cell_type": "code",
   "execution_count": null,
   "metadata": {
    "collapsed": false
   },
   "outputs": [],
   "source": [
    "pyplot()\n",
    "poincareuh = @animate for i=1:40\n",
    "    scatter(map(x->x[i,1], xvSv), map(x->x[i,3], xvSv), label=\"$(i-1)-th iterate\", m=(1,stroke(0)))\n",
    "    xlims!(5.0,6.6)\n",
    "    ylims!(-0.06,0.06)\n",
    "    xlabel!(\"x\")\n",
    "    ylabel!(\"pₓ\")\n",
    "    title!(\"Undriven Helium Poincaré map near at point (6.5,0)\")\n",
    "end\n",
    "gif(poincareuh, \"./poincareuh.gif\", fps = 2)"
   ]
  },
  {
   "cell_type": "code",
   "execution_count": null,
   "metadata": {
    "collapsed": false
   },
   "outputs": [],
   "source": [
    "@time plottingps(NM, 5.8, 5.8008, -0.00005, 0.00005)"
   ]
  },
  {
   "cell_type": "code",
   "execution_count": null,
   "metadata": {
    "collapsed": false
   },
   "outputs": [],
   "source": [
    "sqrt(5.8004025)^2"
   ]
  },
  {
   "cell_type": "code",
   "execution_count": null,
   "metadata": {
    "collapsed": false
   },
   "outputs": [],
   "source": [
    "scatter(pd[:,1], pd[:,3], label = L\"q = 5.80004\", title = L\"Poincaré Section $Z = 2$,  $r_{2_0} =0$\")\n",
    "xlabel!(L\"x\")\n",
    "ylabel!(L\"p_x\")"
   ]
  },
  {
   "cell_type": "code",
   "execution_count": null,
   "metadata": {
    "collapsed": true
   },
   "outputs": [],
   "source": [
    "tvSv = Array{Float64,1}[]\n",
    "xvSv = Array{Float64,2}[]\n",
    "gvSv = Array{Float64,1}[]\n",
    "x0 = Float64[6.5, 0.0]\n",
    "\n",
    "nconds2 = 1000 #number of initial conditions\n",
    "@time for i in 1:nconds2\n",
    "    rand1 = rand(); rand2 = rand()\n",
    "    x_ini = x0 + 0.005*[sqrt(rand1)*cos(2pi*rand2),sqrt(rand1)*sin(2pi*rand2)]\n",
    "    xtemp0 = condini1D(x_ini...)\n",
    "    xtemp = Float64[ks(xtemp0[1]),ks(xtemp0[2]), ksv(xtemp0[1], xtemp0[3]), ksv(xtemp0[2], xtemp0[4])]\n",
    "    xp, t, x = psundriven(x_ini[1], x_ini[2]; tmax = 120.0, maxsteps1 = 5_000 )\n",
    "    push!(xvSv, vcat(xtemp', xp))\n",
    "end"
   ]
  },
  {
   "cell_type": "code",
   "execution_count": null,
   "metadata": {
    "collapsed": true
   },
   "outputs": [],
   "source": []
  },
  {
   "cell_type": "code",
   "execution_count": null,
   "metadata": {
    "collapsed": true
   },
   "outputs": [],
   "source": []
  },
  {
   "cell_type": "markdown",
   "metadata": {
    "collapsed": true
   },
   "source": [
    "La aproximación a ojo es mala, por ello, se usará un Método de Newton modificado para calcular el ciclo estable, usando jet transport (necesitamos una precisión del orden $\\sim10^{-14}$)"
   ]
  }
 ],
 "metadata": {
  "kernelspec": {
   "display_name": "Julia 0.6.0",
   "language": "julia",
   "name": "julia-0.6"
  },
  "language_info": {
   "file_extension": ".jl",
   "mimetype": "application/julia",
   "name": "julia",
   "version": "0.6.0"
  }
 },
 "nbformat": 4,
 "nbformat_minor": 0
}
