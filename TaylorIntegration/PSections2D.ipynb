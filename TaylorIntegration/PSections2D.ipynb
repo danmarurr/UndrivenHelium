{
 "cells": [
  {
   "cell_type": "code",
   "execution_count": 1,
   "metadata": {
    "collapsed": false,
    "scrolled": false
   },
   "outputs": [],
   "source": [
    "#using TaylorSeries\n",
    "include(\"UndrivenHelium.jl\")\n",
    "#include(\"Integ.jl\")\n",
    "using Plots, LaTeXStrings\n",
    "# plotly()\n",
    "pyplot(grid = :false, legend = :false, size=(600,600), color=:black, markersize = 0.3 )\n",
    "const Z = 2.0\n",
    "const order = 34\n",
    "const t0 = 0.0\n",
    "const t_max = 0.5 \n",
    "const abs_tol = 1.0E-20\n",
    "const steps = 500_000;"
   ]
  },
  {
   "cell_type": "markdown",
   "metadata": {},
   "source": [
    "## Revisamos compatibilidad hamiltoniano vs ecs de movimiento"
   ]
  },
  {
   "cell_type": "code",
   "execution_count": 2,
   "metadata": {
    "collapsed": false
   },
   "outputs": [
    {
     "name": "stdout",
     "output_type": "stream",
     "text": [
      "  2.754705 seconds (1.45 M allocations: 77.488 MiB, 5.95% gc time)\n"
     ]
    },
    {
     "data": {
      "text/html": [
       "<img src=\"data:image/png;base64,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\" />"
      ]
     },
     "execution_count": 2,
     "metadata": {},
     "output_type": "execute_result"
    }
   ],
   "source": [
    "@time dnorm= errHam2D(10_000);\n",
    "plot(eachindex(dnorm), dnorm, title = \"Compatibility Hamiltonian vs Eqs of motion\")\n",
    "xaxis!(\"Machine epsilons\")"
   ]
  },
  {
   "cell_type": "markdown",
   "metadata": {},
   "source": [
    "# Incluimos funciones para obtener secciones de Poincaré"
   ]
  },
  {
   "cell_type": "code",
   "execution_count": 3,
   "metadata": {
    "collapsed": false
   },
   "outputs": [
    {
     "data": {
      "text/plain": [
       "taylorintegps (generic function with 1 method)"
      ]
     },
     "execution_count": 3,
     "metadata": {},
     "output_type": "execute_result"
    }
   ],
   "source": [
    "include(\"Integ.jl\")"
   ]
  },
  {
   "cell_type": "code",
   "execution_count": 4,
   "metadata": {
    "collapsed": false
   },
   "outputs": [
    {
     "data": {
      "text/plain": [
       "8-element Array{Float64,1}:\n",
       " 2.23607\n",
       " 0.0    \n",
       " 0.0    \n",
       " 0.0    \n",
       " 0.0    \n",
       " 0.0    \n",
       " 4.0    \n",
       " 0.0    "
      ]
     },
     "execution_count": 4,
     "metadata": {},
     "output_type": "execute_result"
    }
   ],
   "source": [
    "c1 = condini2D(5.0, 0.0, 0.0, 0.0, 0.0)"
   ]
  },
  {
   "cell_type": "code",
   "execution_count": null,
   "metadata": {
    "collapsed": false
   },
   "outputs": [],
   "source": [
    "t1, x1 = taylorinteg(undrivenHelium1D!, c1, t0, 1.0, order, abs_tol, maxsteps=100)\n",
    "@time t1, x1 = taylorinteg(undrivenHelium1D!, c1, t0, 120.0, order, abs_tol, maxsteps=10_000);"
   ]
  },
  {
   "cell_type": "code",
   "execution_count": null,
   "metadata": {
    "collapsed": false
   },
   "outputs": [],
   "source": [
    "t2, x2 = taylorintegps(undrivenHelium1D!, c1, t0, 1.0, order, abs_tol, maxsteps=100)\n",
    "@time t2, x2 = taylorintegps(undrivenHelium1D!, c1, t0, 120.0, order, abs_tol, maxsteps=10_000);"
   ]
  },
  {
   "cell_type": "code",
   "execution_count": null,
   "metadata": {
    "collapsed": false
   },
   "outputs": [],
   "source": [
    "length(t1), length(t2)"
   ]
  },
  {
   "cell_type": "code",
   "execution_count": null,
   "metadata": {
    "collapsed": false
   },
   "outputs": [],
   "source": [
    "ene1 = zeros(t1)\n",
    "ene2 = zeros(t2)\n",
    "for j in eachindex(ene1)\n",
    "    ene1[j] = abs(regHam1D(x1[j,:]))/eps()\n",
    "end\n",
    "for j in eachindex(ene2)\n",
    "    ene2[j] = abs(regHam1D(x2[j,:]))/eps()\n",
    "end"
   ]
  },
  {
   "cell_type": "code",
   "execution_count": null,
   "metadata": {
    "collapsed": false
   },
   "outputs": [],
   "source": [
    "plot(t1, ene1, title =L\"Absolute Error of Energy $q_1=2$\", color = :black)\n",
    "plot!(t2, ene2, title =L\"Absolute Error of Energy $q_1=2$\",color=:red, label=L\"Cálculo con Sección de Poincaré\")\n",
    "xaxis!(L\"t\")\n",
    "yaxis!(L\"\\delta E\")\n"
   ]
  },
  {
   "cell_type": "code",
   "execution_count": null,
   "metadata": {
    "collapsed": false
   },
   "outputs": [],
   "source": [
    "plot(t2, ene2, title =L\"Absolute Error of Energy $q_1=2$\")\n",
    "xlabel!(L\"t\")\n",
    "ylabel!(L\"\\delta E\")"
   ]
  },
  {
   "cell_type": "code",
   "execution_count": null,
   "metadata": {
    "collapsed": false
   },
   "outputs": [],
   "source": [
    "maximum(ene1)"
   ]
  },
  {
   "cell_type": "markdown",
   "metadata": {},
   "source": [
    "# Implementamos funciones para obtener gráficas de las secciones de Poincaré"
   ]
  },
  {
   "cell_type": "code",
   "execution_count": null,
   "metadata": {
    "collapsed": false
   },
   "outputs": [],
   "source": [
    "function psundriven{T<:Number}(x10::T, px10::T; tol::Float64 = 1e-20, tmax = 100.0, maxsteps1 = 5_000 )\n",
    "    c1 = condini1D(x10, px10)\n",
    "    t, x, tp, xp = taylorintegps(undrivenHelium1D!, c1, t0, tmax, order, abs_tol; maxsteps = maxsteps1)\n",
    "    \n",
    "    xpm = similar(xp)\n",
    "    xpm[:,1] = map(ks, xp[:,1])\n",
    "    xpm[:,3] = Float64[ksv(xp[k,1], xp[k, 3]) for k in eachindex(tp)]\n",
    "    xpm[:,2] = map(ks, xp[:,2])\n",
    "    xpm[:,4] = Float64[ksv(xp[k,2], xp[k, 4]) for k in eachindex(tp)]\n",
    "\n",
    "    return xpm, t, x\n",
    "end"
   ]
  },
  {
   "cell_type": "code",
   "execution_count": null,
   "metadata": {
    "collapsed": false
   },
   "outputs": [],
   "source": [
    "#Haremos malavares con metaprogramming para ver varias órbitas\n",
    "nombret(n::Int) = Symbol( string(\"t\", n) )\n",
    "nombreps(n::Int) = Symbol( string(\"ps\", n) )\n",
    "nombreq(n::Int) = Symbol( string(\"q\", n) )\n",
    "nombrexs(n::Int) = Symbol( string(\"xs\", n) )\n",
    "nombrevxs(n::Int) = Symbol( string(\"vxs\", n) )\n",
    "nombreys(n::Int) = Symbol( string(\"ys\", n) )\n",
    "nombrevys(n::Int) = Symbol( string(\"vys\", n) )\n",
    "\n",
    "function orbits(nmin, rs = 2:10)\n",
    "    N = length(rs)\n",
    "    # Checo que `n` sea >= 1\n",
    "    @assert N >= 0  \n",
    "\n",
    "    for j = nmin:(N+nmin - 1)\n",
    "        ex1 = quote \n",
    "            $(nombreps(j)), $(nombret(j)), $(nombreq(j))  = \n",
    "                psundriven(Float64($(rs[j])), 0.0; tmax = 100.0, maxsteps1 = 5_000 )\n",
    "             end\n",
    "        ex2 = quote \n",
    "                $(nombrexs(j)) = $(nombreps(j))[:,1]\n",
    "             end\n",
    "        \n",
    "        ex3 = quote \n",
    "                 $(nombrevxs(j)) =  $(nombreps(j))[:,3]\n",
    "             end\n",
    "        ex4 = quote \n",
    "                $(nombreps(j))[:,2]\n",
    "             end\n",
    "        \n",
    "        ex5 = quote \n",
    "                $(nombreps(j))[:,4]\n",
    "             end\n",
    "        eval(ex1)\n",
    "        eval(ex2)\n",
    "        eval(ex3)\n",
    "        eval(ex4)\n",
    "        eval(ex5)\n",
    "    end\n",
    "end\n",
    "\n",
    "function plottingps(nmax,xmin::Float64=0.0, xmax::Float64=20.0, \n",
    "    ymin::Float64=-1.0, ymax::Float64=1.0)\n",
    "    scatter(xs1, vxs1, label = L\"q = 2\", title = L\"Poincaré Section $Z = 2$,  $r_{2_0} =0$\")\n",
    "    for j in 2:nmax\n",
    "        ex = quote\n",
    "            scatter!($(nombrexs(j)), $(nombrevxs(j)))\n",
    "        end\n",
    "        eval(ex)\n",
    "    end\n",
    "    xaxis!([0,20])\n",
    "    xlabel!(L\"x\")\n",
    "    ylabel!(L\"p_x\")\n",
    "    yaxis!([ymin, ymax])\n",
    "    xaxis!([xmin, xmax])\n",
    "end\n",
    "\n",
    "function ksv(Q, P)\n",
    "    v₁ = P/2Q\n",
    "    return v₁\n",
    "end\n",
    "ks(Q) = Q^2"
   ]
  },
  {
   "cell_type": "code",
   "execution_count": null,
   "metadata": {
    "collapsed": false
   },
   "outputs": [],
   "source": [
    "@time orbits(1,2:0.1:10)\n",
    "NM = length(2:0.1:10)"
   ]
  },
  {
   "cell_type": "code",
   "execution_count": null,
   "metadata": {
    "collapsed": false
   },
   "outputs": [],
   "source": [
    "@time plottingps(NM, 4.0, 10., -.5, .5)\n",
    "#@time plottingps(NM, 0., 4., -0.5, 0.5)"
   ]
  },
  {
   "cell_type": "code",
   "execution_count": null,
   "metadata": {
    "collapsed": false,
    "scrolled": true
   },
   "outputs": [],
   "source": [
    "tvSv = Array{Float64,1}[]\n",
    "xvSv = Array{Float64,2}[]\n",
    "gvSv = Array{Float64,1}[]\n",
    "x0 = Float64[6.5, 0.0]\n",
    "\n",
    "nconds2 = 1000 #number of initial conditions\n",
    "@time for i in 1:nconds2\n",
    "    rand1 = rand(); rand2 = rand()\n",
    "    x_ini = x0 + 0.005*[sqrt(rand1)*cos(2pi*rand2),sqrt(rand1)*sin(2pi*rand2)]\n",
    "    xtemp0 = condini1D(x_ini...)\n",
    "    xtemp = Float64[ks(xtemp0[1]),ks(xtemp0[2]), ksv(xtemp0[1], xtemp0[3]), ksv(xtemp0[2], xtemp0[4])]\n",
    "    xp, t, x = psundriven(x_ini[1], x_ini[2]; tmax = 120.0, maxsteps1 = 5_000 )\n",
    "    push!(xvSv, vcat(xtemp', xp))\n",
    "end"
   ]
  },
  {
   "cell_type": "code",
   "execution_count": null,
   "metadata": {
    "collapsed": false
   },
   "outputs": [],
   "source": [
    "pyplot()\n",
    "poincareuh = @animate for i=1:40\n",
    "    scatter(map(x->x[i,1], xvSv), map(x->x[i,3], xvSv), label=\"$(i-1)-th iterate\", m=(1,stroke(0)))\n",
    "    xlims!(5.0,6.6)\n",
    "    ylims!(-0.06,0.06)\n",
    "    xlabel!(\"x\")\n",
    "    ylabel!(\"pₓ\")\n",
    "    title!(\"Undriven Helium Poincaré map near at point (6.5,0)\")\n",
    "end\n",
    "gif(poincareuh, \"./poincareuh.gif\", fps = 2)"
   ]
  },
  {
   "cell_type": "code",
   "execution_count": null,
   "metadata": {
    "collapsed": false
   },
   "outputs": [],
   "source": [
    "@time plottingps(NM, 5.8, 5.8008, -0.00005, 0.00005)"
   ]
  },
  {
   "cell_type": "code",
   "execution_count": null,
   "metadata": {
    "collapsed": false
   },
   "outputs": [],
   "source": [
    "sqrt(5.8004025)^2"
   ]
  },
  {
   "cell_type": "code",
   "execution_count": null,
   "metadata": {
    "collapsed": false
   },
   "outputs": [],
   "source": [
    "scatter(pd[:,1], pd[:,3], label = L\"q = 5.80004\", title = L\"Poincaré Section $Z = 2$,  $r_{2_0} =0$\")\n",
    "xlabel!(L\"x\")\n",
    "ylabel!(L\"p_x\")"
   ]
  },
  {
   "cell_type": "code",
   "execution_count": null,
   "metadata": {
    "collapsed": true
   },
   "outputs": [],
   "source": [
    "tvSv = Array{Float64,1}[]\n",
    "xvSv = Array{Float64,2}[]\n",
    "gvSv = Array{Float64,1}[]\n",
    "x0 = Float64[6.5, 0.0]\n",
    "\n",
    "nconds2 = 1000 #number of initial conditions\n",
    "@time for i in 1:nconds2\n",
    "    rand1 = rand(); rand2 = rand()\n",
    "    x_ini = x0 + 0.005*[sqrt(rand1)*cos(2pi*rand2),sqrt(rand1)*sin(2pi*rand2)]\n",
    "    xtemp0 = condini1D(x_ini...)\n",
    "    xtemp = Float64[ks(xtemp0[1]),ks(xtemp0[2]), ksv(xtemp0[1], xtemp0[3]), ksv(xtemp0[2], xtemp0[4])]\n",
    "    xp, t, x = psundriven(x_ini[1], x_ini[2]; tmax = 120.0, maxsteps1 = 5_000 )\n",
    "    push!(xvSv, vcat(xtemp', xp))\n",
    "end"
   ]
  },
  {
   "cell_type": "code",
   "execution_count": null,
   "metadata": {
    "collapsed": true
   },
   "outputs": [],
   "source": []
  },
  {
   "cell_type": "code",
   "execution_count": null,
   "metadata": {
    "collapsed": true
   },
   "outputs": [],
   "source": []
  },
  {
   "cell_type": "markdown",
   "metadata": {
    "collapsed": true
   },
   "source": [
    "La aproximación a ojo es mala, por ello, se usará un Método de Newton modificado para calcular el ciclo estable, usando jet transport (necesitamos una precisión del orden $\\sim10^{-14}$)"
   ]
  }
 ],
 "metadata": {
  "kernelspec": {
   "display_name": "Julia 0.6.0-rc3",
   "language": "julia",
   "name": "julia-0.6"
  },
  "language_info": {
   "file_extension": ".jl",
   "mimetype": "application/julia",
   "name": "julia",
   "version": "0.6.0"
  }
 },
 "nbformat": 4,
 "nbformat_minor": 0
}
