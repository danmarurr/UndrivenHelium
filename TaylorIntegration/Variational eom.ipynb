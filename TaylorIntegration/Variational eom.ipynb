{
 "cells": [
  {
   "cell_type": "code",
   "execution_count": 1,
   "metadata": {
    "collapsed": false
   },
   "outputs": [
    {
     "data": {
      "text/plain": [
       "500000"
      ]
     },
     "execution_count": 1,
     "metadata": {},
     "output_type": "execute_result"
    }
   ],
   "source": [
    "using TaylorSeries, TaylorIntegration\n",
    "using Plots, LaTeXStrings\n",
    "# plotly()\n",
    "pyplot(grid = :false, legend = :false, size=(600,600), color=:black, markersize = 0.3 )\n",
    "const Z = 2.0\n",
    "const order = 20\n",
    "const t0 = 0.0\n",
    "const t_max = 0.5 \n",
    "const abs_tol = 1.0E-20\n",
    "const steps = 500_000"
   ]
  },
  {
   "cell_type": "code",
   "execution_count": 17,
   "metadata": {
    "collapsed": false
   },
   "outputs": [
    {
     "name": "stderr",
     "output_type": "stream",
     "text": [
      "WARNING: Method definition jetcoeffs!(Any, #T<:Number, TaylorSeries.Taylor1{TaylorSeries.TaylorN{#T<:Number}}) in module Main at In[15]:15 overwritten at In[17]:15.\n",
      "WARNING: Method definition jetcoeffs!(Any, #T<:Number, Array{TaylorSeries.Taylor1{TaylorSeries.TaylorN{#T<:Number}}, 1}) in module Main at In[15]:33 overwritten at In[17]:33.\n",
      "WARNING: Method definition stepsize(TaylorSeries.Taylor1{TaylorSeries.TaylorN{#T<:Number}}, #T<:Number) in module Main at In[15]:66 overwritten at In[17]:66.\n",
      "WARNING: Method definition stepsize(Array{TaylorSeries.Taylor1{TaylorSeries.TaylorN{#T<:Number}}, 1}, #T<:Number) in module Main at In[15]:89 overwritten at In[17]:89.\n",
      "WARNING: Method definition taylorstep(Any, #T<:Number, TaylorSeries.TaylorN{#T<:Number}, Int64, #T<:Number) in module Main at In[15]:112 overwritten at In[17]:112.\n",
      "WARNING: Method definition taylorstep!(Any, #T<:Number, Array{TaylorSeries.TaylorN{#T<:Number}, 1}, Int64, #T<:Number) in module Main at In[15]:134 overwritten at In[17]:134.\n",
      "WARNING: Method definition taylorstep(Any, #T<:Number, #T<:Number, TaylorSeries.TaylorN{#T<:Number}, Int64, #T<:Number) in module Main at In[15]:160 overwritten at In[17]:160.\n",
      "WARNING: Method definition taylorstep!(Any, #T<:Number, #T<:Number, Array{TaylorSeries.TaylorN{#T<:Number}, 1}, Int64, #T<:Number) in module Main at In[15]:188 overwritten at In[17]:188.\n",
      "WARNING: Method definition taylorinteg(Any, TaylorSeries.TaylorN{#T<:Number}, #T<:Number, #T<:Number, Int64, #T<:Number) in module Main at In[15]:228 overwritten at In[17]:228.\n",
      "WARNING: Method definition #taylorinteg(Array{Any, 1}, Main.#taylorinteg, Any, TaylorSeries.TaylorN{#T<:Number}, #T<:Number, #T<:Number, Int64, #T<:Number) in module Main overwritten.\n",
      "WARNING: Method definition taylorinteg(Any, Array{TaylorSeries.TaylorN{#T<:Number}, 1}, #T<:Number, #T<:Number, Int64, #T<:Number) in module Main at In[15]:269 overwritten at In[17]:269.\n",
      "WARNING: Method definition #taylorinteg(Array{Any, 1}, Main.#taylorinteg, Any, Array{TaylorSeries.TaylorN{#T<:Number}, 1}, #T<:Number, #T<:Number, Int64, #T<:Number) in module Main overwritten.\n",
      "WARNING: Method definition taylorinteg(Any, TaylorSeries.TaylorN{#T<:Number}, Base.Range{#T<:Number}, Int64, #T<:Number) in module Main at In[15]:331 overwritten at In[17]:331.\n",
      "WARNING: Method definition #taylorinteg(Array{Any, 1}, Main.#taylorinteg, Any, TaylorSeries.TaylorN{#T<:Number}, Base.Range{#T<:Number}, Int64, #T<:Number) in module Main overwritten.\n",
      "WARNING: Method definition taylorinteg(Any, Array{TaylorSeries.TaylorN{#T<:Number}, 1}, Base.Range{#T<:Number}, Int64, #T<:Number) in module Main at In[15]:372 overwritten at In[17]:372.\n",
      "WARNING: Method definition #taylorinteg(Array{Any, 1}, Main.#taylorinteg, Any, Array{TaylorSeries.TaylorN{#T<:Number}, 1}, Base.Range{#T<:Number}, Int64, #T<:Number) in module Main overwritten.\n"
     ]
    },
    {
     "data": {
      "text/plain": [
       "taylorinteg (generic function with 4 methods)"
      ]
     },
     "execution_count": 17,
     "metadata": {},
     "output_type": "execute_result"
    }
   ],
   "source": [
    "doc\"\"\"\n",
    "    jetcoeffs!(f, t, x)\n",
    "Specialized method of `jetcoeffs!` for jet transport applications.\n",
    "Returns an updated `x` using the recursion relation of the\n",
    "derivatives from the ODE $\\dot{x}=dx/dt=f(t,x)$.\n",
    "`f` is the function defining the RHS of the ODE, `x` is a `Taylor1{TaylorN{T}}`\n",
    "or a vector of that type, containing the Taylor expansion\n",
    "of the dependent variables of the ODE and `t` is the independent\n",
    "variable of type `T`.\n",
    "Initially, `x` contains only the 0-th order Taylor coefficients of\n",
    "the current system state (the initial conditions), and `jetcoeffs!`\n",
    "computes recursively the high-order derivates back into `x`.\n",
    "\"\"\"\n",
    "function jetcoeffs!{T<:Number}(eqsdiff, t0::T, x::Taylor1{TaylorN{T}})\n",
    "    order = x.order\n",
    "    for ord in 1:order\n",
    "        ordnext = ord+1\n",
    "\n",
    "        # Set `xaux`, auxiliary Taylor1 variable to order `ord`\n",
    "        @inbounds xaux = Taylor1( x.coeffs[1:ord] )\n",
    "\n",
    "        # Equations of motion\n",
    "        # TODO! define a macro to optimize the eqsdiff\n",
    "        xdot = eqsdiff(t0, xaux)\n",
    "\n",
    "        # Recursion relation\n",
    "        @inbounds x.coeffs[ordnext] = xdot.coeffs[ord]/ord\n",
    "    end\n",
    "    nothing\n",
    "end\n",
    "\n",
    "function jetcoeffs!{T<:Number}(eqsdiff, t0::T, x::Vector{Taylor1{TaylorN{T}}})\n",
    "    order = x[1].order\n",
    "    xaux = similar(x)\n",
    "    for ord in 1:order\n",
    "        ordnext = ord+1\n",
    "        @show ord\n",
    "        # Set `xaux`, auxiliary vector of Taylor1 to order `ord`\n",
    "        @inbounds for j in eachindex(x)\n",
    "            a1 = Taylor1( x[j].coeffs[1:ord] )\n",
    "            @show a1\n",
    "            xaux[j] = a1\n",
    "        end\n",
    "        \n",
    "        @show xaux\n",
    "        # Equations of motion\n",
    "        # TODO! define a macro to optimize the eqsdiff\n",
    "        xdot = eqsdiff(t0, xaux)\n",
    "\n",
    "        # Recursion relations\n",
    "        @inbounds for j in eachindex(x)\n",
    "            x[j].coeffs[ordnext] = xdot[j].coeffs[ord]/ord\n",
    "        end\n",
    "    end\n",
    "    nothing\n",
    "end\n",
    "\n",
    "# stepsize\n",
    "doc\"\"\"\n",
    "    stepsize(x, epsilon)\n",
    "Specialized method of `stepsize` for jet transport applications. Returns a\n",
    "time-step for a `x::Taylor1{TaylorN{T}}` using a prescribed absolute tolerance\n",
    "`epsilon::T`, for `T<:Number`.\n",
    "\"\"\"\n",
    "function stepsize{T<:Number}(x::Taylor1{TaylorN{T}}, epsilon::T)\n",
    "    ord = x.order\n",
    "    h = T(Inf)\n",
    "    for k in (ord-1, ord)\n",
    "        @inbounds aux = Array{T}(x.coeffs[k+1].order)\n",
    "        for i in 1:x.coeffs[k+1].order\n",
    "            @inbounds aux[i] = norm(x.coeffs[k+1].coeffs[i].coeffs,Inf)\n",
    "        end\n",
    "        aux == zeros(T, length(aux)) && continue\n",
    "        aux = epsilon ./ aux\n",
    "        kinv = one(T)/k\n",
    "        aux = aux.^kinv\n",
    "        h = min(h, minimum(aux))\n",
    "    end\n",
    "    return h\n",
    "end\n",
    "\n",
    "doc\"\"\"\n",
    "    stepsize(q, epsilon)\n",
    "Specialized method of `stepsize` for jet transport applications. Returns the\n",
    "minimum time-step for `q::Array{Taylor1{TaylorN{T}},1}`, using a prescribed absolute\n",
    "tolerance `epsilon::T`, for `T<:Number`.\n",
    "\"\"\"\n",
    "function stepsize{T<:Number}(q::Array{Taylor1{TaylorN{T}},1}, epsilon::T)\n",
    "    h = T(Inf)\n",
    "    for i in eachindex(q)\n",
    "        @inbounds hi = stepsize( q[i], epsilon )\n",
    "        h = min( h, hi )\n",
    "    end\n",
    "    return h\n",
    "end\n",
    "\n",
    "# taylorstep and taylorstep!\n",
    "doc\"\"\"\n",
    "    taylorstep(f, t0, x0, order, abstol)\n",
    "Specialized method of `taylorstep` for jet transport applications.\n",
    "Compute one-step Taylor integration for the ODE $\\dot{x}=dx/dt=f(t, x)$\n",
    "with initial condition $x(t_0)=x0$, returning the\n",
    "time-step of the integration carried out and the updated value of `x0::TaylorN{T}`,\n",
    "for `T<:Number`.\n",
    "Here, `x0` is the initial (and returned) dependent variable, `order`\n",
    "is the degree used for the `Taylor1` polynomials during the integration\n",
    "and `abstol` is the absolute tolerance used to determine the time step\n",
    "of the integration.\n",
    "\"\"\"\n",
    "function taylorstep{T<:Number}(f, t0::T, x0::TaylorN{T}, order::Int, abstol::T)\n",
    "    # Initialize the Taylor1 expansions\n",
    "    xT = Taylor1( x0, order )\n",
    "    # Compute the Taylor coefficients\n",
    "    jetcoeffs!(f, t0, xT)\n",
    "    # Compute the step-size of the integration using `abstol`\n",
    "    δt = stepsize(xT, abstol)\n",
    "    x0 = evaluate(xT, δt)\n",
    "    return δt, x0\n",
    "end\n",
    "\n",
    "doc\"\"\"\n",
    "    taylorstep!(f, t0, x0, order, abstol)\n",
    "Specialized method of `taylorstep!` for jet transport applications.\n",
    "Compute one-step Taylor integration for the ODE $\\dot{x}=dx/dt=f(t, x)$\n",
    "with initial conditions $x(t_0)=x0$, a vector of type `TaylorN{T}`, returning the\n",
    "step-size of the integration; `x0` is updated.\n",
    "Here, `x0` is the initial (and updated) dependent variables, `order`\n",
    "is the degree used for the `Taylor1` polynomials during the integration\n",
    "and `abstol` is the absolute tolerance used to determine the time step\n",
    "of the integration.\n",
    "\"\"\"\n",
    "function taylorstep!{T<:Number}(f, t0::T, x0::Array{TaylorN{T},1}, order::Int, abstol::T)\n",
    "    # Initialize the vector of Taylor1 expansions\n",
    "    xT = Array{Taylor1{TaylorN{T}}}(length(x0))\n",
    "    for i in eachindex(x0)\n",
    "        @inbounds xT[i] = Taylor1( x0[i], order )\n",
    "    end\n",
    "    # Compute the Taylor coefficients\n",
    "    jetcoeffs!(f, t0, xT)\n",
    "    # Compute the step-size of the integration using `abstol`\n",
    "    δt = stepsize(xT, abstol)\n",
    "    evaluate!(xT, δt, x0)\n",
    "    return δt\n",
    "end\n",
    "\n",
    "doc\"\"\"\n",
    "    taylorstep(f, t0, t1, x0, order, abstol)\n",
    "Specialized method of `taylorstep` for jet transport applications.\n",
    "Compute one-step Taylor integration for the ODE $\\dot{x}=dx/dt=f(t, x)$\n",
    "with initial conditions $x(t_0)=x0$, returning the\n",
    "time-step of the integration carried out and the updated value of `x0::TaylorN{T}`,\n",
    "with `T<:Number`.\n",
    "Here, `x0` is the initial (and returned) dependent variables, `order`\n",
    "is the degree used for the `Taylor1` polynomials during the integration\n",
    "and `abstol` is the absolute tolerance used to determine the time step\n",
    "of the integration. If the time step is larger than `t1-t0`, that difference\n",
    "is used as the time step.\n",
    "\"\"\"\n",
    "function taylorstep{T<:Number}(f, t0::T, t1::T, x0::TaylorN{T}, order::Int, abstol::T)\n",
    "    @assert t1 > t0\n",
    "    # Initialize the Taylor1 expansions\n",
    "    xT = Taylor1( x0, order )\n",
    "    # Compute the Taylor coefficients\n",
    "    jetcoeffs!(f, t0, xT)\n",
    "    # Compute the step-size of the integration using `abstol`\n",
    "    δt = stepsize(xT, abstol)\n",
    "    if δt ≥ t1-t0\n",
    "        δt = t1-t0\n",
    "    end\n",
    "    x0 = evaluate(xT, δt)\n",
    "    return δt, x0\n",
    "end\n",
    "\n",
    "doc\"\"\"\n",
    "    taylorstep!(f, t0, t1, x0, order, abstol)\n",
    "Specialized method of `taylorstep!` for jet transport applications.\n",
    "Compute one-step Taylor integration for the ODE $\\dot{x}=dx/dt=f(t, x)$\n",
    "with initial conditions $x(t_0)=x0$, a vector of type `TaylorN{T}`, returning the\n",
    "step-size of the integration carried out and updating `x0`.\n",
    "Here, `x0` is the initial (and updated) dependent variables, `order`\n",
    "is the degree used for the `Taylor1` polynomials during the integration\n",
    "and `abstol` is the absolute tolerance used to determine the time step\n",
    "of the integration. If the time step is larger than `t1-t0`, that difference\n",
    "is used as the time step.\n",
    "\"\"\"\n",
    "function taylorstep!{T<:Number}(f, t0::T, t1::T, x0::Array{TaylorN{T},1},\n",
    "        order::Int, abstol::T)\n",
    "    @assert t1 > t0\n",
    "    # Initialize the vector of Taylor1 expansions\n",
    "    xT = Array{Taylor1{TaylorN{T}}}(length(x0))\n",
    "    for i in eachindex(x0)\n",
    "        @inbounds xT[i] = Taylor1( x0[i], order )\n",
    "    end\n",
    "    # Compute the Taylor coefficients\n",
    "    jetcoeffs!(f, t0, xT)\n",
    "    # Compute the step-size of the integration using `abstol`\n",
    "    δt = stepsize(xT, abstol)\n",
    "    if δt ≥ t1-t0\n",
    "        δt = t1-t0\n",
    "    end\n",
    "    evaluate!(xT, δt, x0)\n",
    "    return δt\n",
    "end\n",
    "\n",
    "# taylorinteg\n",
    "doc\"\"\"\n",
    "    taylorinteg(f, x0, t0, tmax, order, abstol; keyword... )\n",
    "Specialized method of `taylorinteg` for jet transport applications.\n",
    "This is a jet transport Taylor integrator for the explicit ODE\n",
    "$\\dot{x}=f(t,x)$ with initial condition specified by `x0` at time `t0::T`.\n",
    "Here, `x0` is either a `TaylorN{T}`, or an `Array{TaylorN{T},1}`.\n",
    "It returns a vector with the values of time (independent variable),\n",
    "and a vector (of type `typeof(x0)`) with the computed values of\n",
    "the dependent variable(s). The integration stops when time\n",
    "is larger than `tmax` (in which case the last returned values are\n",
    "`t_max`, `x(t_max)`), or else when the number of saved steps is larger\n",
    "than `maxsteps`.\n",
    "The integrator uses polynomial expansions on the independent variable\n",
    "of order `order`; the parameter `abstol` serves to define the\n",
    "time step using the last two Taylor coefficients of the expansions.\n",
    "The current keyword argument is `maxsteps=500`.\n",
    "---\n",
    "\"\"\"\n",
    "function taylorinteg{T<:Number}(f, x0::TaylorN{T}, t0::T, tmax::T, order::Int,\n",
    "        abstol::T; maxsteps::Int=500)\n",
    "\n",
    "    # Allocation\n",
    "    tv = Array{T}(maxsteps+1)\n",
    "    xv = Array{TaylorN{T}}(maxsteps+1)\n",
    "\n",
    "    # Initial conditions\n",
    "    nsteps = 1\n",
    "    @inbounds tv[1] = t0\n",
    "    @inbounds xv[1] = x0\n",
    "\n",
    "    # Integration\n",
    "    while t0 < tmax\n",
    "        xold = x0\n",
    "        δt, x0 = taylorstep(f, t0, x0, order, abstol)\n",
    "        if t0+δt ≥ tmax\n",
    "            x0 = xold\n",
    "            δt, x0 = taylorstep(f, t0, tmax, x0, order, abstol)\n",
    "            t0 = tmax\n",
    "            nsteps += 1\n",
    "            @inbounds tv[nsteps] = t0\n",
    "            @inbounds xv[nsteps] = x0\n",
    "            break\n",
    "        end\n",
    "        t0 += δt\n",
    "        nsteps += 1\n",
    "        @inbounds tv[nsteps] = t0\n",
    "        @inbounds xv[nsteps] = x0\n",
    "        if nsteps > maxsteps\n",
    "            warn(\"\"\"\n",
    "            Maximum number of integration steps reached; exiting.\n",
    "            \"\"\")\n",
    "            break\n",
    "        end\n",
    "    end\n",
    "\n",
    "    #return tv, xv\n",
    "    return view(tv,1:nsteps), view(xv,1:nsteps)\n",
    "end\n",
    "\n",
    "function taylorinteg{T<:Number}(f, q0::Array{TaylorN{T},1}, t0::T, tmax::T,\n",
    "        order::Int, abstol::T; maxsteps::Int=500)\n",
    "\n",
    "    # Allocation\n",
    "    tv = Array{T}(maxsteps+1)\n",
    "    dof = length(q0)\n",
    "    xv = Array{TaylorN{T}}(dof, maxsteps+1)\n",
    "\n",
    "    # Initial conditions\n",
    "    @inbounds tv[1] = t0\n",
    "    @inbounds xv[:,1] = q0[:]\n",
    "    x0 = copy(q0)\n",
    "\n",
    "    # Integration\n",
    "    nsteps = 1\n",
    "    while t0 < tmax\n",
    "        xold = copy(x0)\n",
    "        δt = taylorstep!(f, t0, x0, order, abstol)\n",
    "        if t0+δt ≥ tmax\n",
    "            x0 = xold\n",
    "            δt = taylorstep!(f, t0, tmax, x0, order, abstol)\n",
    "            t0 = tmax\n",
    "            nsteps += 1\n",
    "            @inbounds tv[nsteps] = t0\n",
    "            @inbounds xv[:,nsteps] = x0[:]\n",
    "            break\n",
    "        end\n",
    "        t0 += δt\n",
    "        nsteps += 1\n",
    "        @inbounds tv[nsteps] = t0\n",
    "        @inbounds xv[:,nsteps] = x0[:]\n",
    "        if nsteps > maxsteps\n",
    "            warn(\"\"\"\n",
    "            Maximum number of integration steps reached; exiting.\n",
    "            \"\"\")\n",
    "            break\n",
    "        end\n",
    "    end\n",
    "\n",
    "    return view(tv,1:nsteps), view(xv,:,1:nsteps)' #for xv, first do view, then transpose (otherwise it crashes)\n",
    "end\n",
    "\n",
    "# Integrate and return results evaluated at given time\n",
    "doc\"\"\"\n",
    "    taylorinteg(f, x0, t0, trange, order, abstol; keyword... )\n",
    "Specialized method of `taylorinteg` for jet transport applications.\n",
    "This is a jet transport Taylor integrator for the explicit ODE\n",
    "$\\dot{x}=f(t,x)$ with initial condition specified by `x0` at time `t0`.\n",
    "Here, `x0` is either a `TaylorN{T}`, or an `Array{TaylorN{T},1}`.\n",
    "It returns a vector with the values of time (independent variable),\n",
    "and a vector (of type `typeof(x0)`) with the computed values of\n",
    "the dependent variable(s), evaluated only at the times given by\n",
    "`trange`. The integration stops when time\n",
    "is larger than `tmax` (in which case the last returned values are\n",
    "`t_max`, `x(t_max)`), or else when the number of saved steps is larger\n",
    "than `maxsteps`.\n",
    "The integrator uses polynomial expansions on the independent variable\n",
    "of order `order`; the parameter `abstol` serves to define the\n",
    "time step using the last two Taylor coefficients of the expansions.\n",
    "The current keyword argument is `maxsteps=500`.\n",
    "---\n",
    "\"\"\"\n",
    "function taylorinteg{T<:Number}(f, x0::TaylorN{T}, trange::Range{T},\n",
    "        order::Int, abstol::T; maxsteps::Int=500)\n",
    "\n",
    "    # Allocation\n",
    "    nn = length(trange)\n",
    "    xv = Array{TaylorN{T}}(nn)\n",
    "    fill!(xv, TaylorN{T}(NaN))\n",
    "\n",
    "    # Initial conditions\n",
    "    @inbounds xv[1] = x0\n",
    "\n",
    "    # Integration\n",
    "    iter = 1\n",
    "    while iter < nn\n",
    "        t0, t1 = trange[iter], trange[iter+1]\n",
    "        nsteps = 0\n",
    "        while nsteps < maxsteps\n",
    "            xold = x0\n",
    "            δt, x0 = taylorstep(f, t0, x0, order, abstol)\n",
    "            if t0+δt ≥ t1\n",
    "                x0 = xold\n",
    "                δt, x0 = taylorstep(f, t0, t1, x0, order, abstol)\n",
    "                t0 = t1\n",
    "                break\n",
    "            end\n",
    "            t0 += δt\n",
    "            nsteps += 1\n",
    "        end\n",
    "        if nsteps ≥ maxsteps && t0 != t1\n",
    "            warn(\"\"\"\n",
    "            Maximum number of integration steps reached; exiting.\n",
    "            \"\"\")\n",
    "            break\n",
    "        end\n",
    "        iter += 1\n",
    "        @inbounds xv[iter] = x0\n",
    "    end\n",
    "\n",
    "    return xv\n",
    "end\n",
    "\n",
    "function taylorinteg{T<:Number}(f, q0::Array{TaylorN{T},1}, trange::Range{T},\n",
    "        order::Int, abstol::T; maxsteps::Int=500)\n",
    "\n",
    "    # Allocation\n",
    "    nn = length(trange)\n",
    "    dof = length(q0)\n",
    "    x0 = similar(q0, TaylorN{T}, dof)\n",
    "    fill!(x0, TaylorN{T}(NaN))\n",
    "    xv = Array{eltype(q0)}(dof, nn)\n",
    "    @inbounds for ind in 1:nn\n",
    "        xv[:,ind] = x0[:]\n",
    "    end\n",
    "\n",
    "    # Initial conditions\n",
    "    @inbounds x0[:] = q0[:]\n",
    "    @inbounds xv[:,1] = q0[:]\n",
    "\n",
    "    # Integration\n",
    "    iter = 1\n",
    "    while iter < nn\n",
    "        t0, t1 = trange[iter], trange[iter+1]\n",
    "        nsteps = 0\n",
    "        while nsteps < maxsteps\n",
    "            xold = copy(x0)\n",
    "            δt = taylorstep!(f, t0, x0, order, abstol)\n",
    "            if t0+δt ≥ t1\n",
    "                x0 = xold\n",
    "                δt = taylorstep!(f, t0, t1, x0, order, abstol)\n",
    "                t0 = t1\n",
    "                break\n",
    "            end\n",
    "            t0 += δt\n",
    "            nsteps += 1\n",
    "        end\n",
    "        if nsteps ≥ maxsteps && t0 != t1\n",
    "            warn(\"\"\"\n",
    "            Maximum number of integration steps reached; exiting.\n",
    "            \"\"\")\n",
    "            break\n",
    "        end\n",
    "        iter += 1\n",
    "        @inbounds xv[:,iter] = x0[:]\n",
    "    end\n",
    "\n",
    "    return xv'\n",
    "end"
   ]
  },
  {
   "cell_type": "code",
   "execution_count": 3,
   "metadata": {
    "collapsed": false
   },
   "outputs": [
    {
     "data": {
      "text/plain": [
       "stabilitymatrix!"
      ]
     },
     "execution_count": 3,
     "metadata": {},
     "output_type": "execute_result"
    }
   ],
   "source": [
    "function undrivenHelium(τ, q)\n",
    "    tT, Q₁, Q₂, P₁, P₂ = q\n",
    "    \n",
    "    t1 = Q₁^2\n",
    "    t2 = Q₂^2\n",
    "    t = t1 * t2\n",
    "    R12 = t1 - t2\n",
    "    @show 1/R12\n",
    "    q₁ = 0.25*t2*P₁\n",
    "    p₁ = 2Q₁*(-0.125P₂^2 + Z  - t2 - t2/((R12)^2)^(1/2) + t*R12/((R12)^2)^(3/2))\n",
    "    q₂ = 0.25*t1*P₂\n",
    "    p₂ = 2Q₂*(-0.125P₁^2 + Z  - t1 - t1/((R12)^2)^(1/2) - t*R12/((R12)^2)^(3/2))\n",
    "\n",
    "    return [t, q₁, q₂, p₁, p₂] \n",
    "\n",
    "end\n",
    "undrivenHelium(v) = undrivenHelium(zero(eltype(v)), v)\n",
    "\n",
    "\n",
    "var1 = set_variables(\"t q1 q2 p1 p2\", order = 1)\n",
    "\n",
    "\n",
    "function condini(x10::Float64, px10::Float64)\n",
    "    @assert x10 != 0\n",
    "    Q1 = sqrt(x10)\n",
    "    Q2 = 0.0\n",
    "    P1 = px10*sqrt(x10)    \n",
    "    P2 = sqrt(8Z)    \n",
    "    return [0, Q1, Q2, P1, P2]\n",
    "end\n",
    "\n",
    "function regHam(t, Q₁, Q₂, P₁, P₂)\n",
    "    #Cantidades auxiliares\n",
    "    P₁² = P₁^2\n",
    "    P₂² = P₂^2\n",
    "    Q₁² = Q₁^2\n",
    "    Q₂² = Q₂^2\n",
    "    nf = abs(Q₁² - Q₂²)\n",
    "    \n",
    "    H = 0.125*(P₁²*Q₂² + P₂²*Q₁²) - Z*(Q₁² + Q₂²) + Q₁²*Q₂²*(1.0 + 1.0/nf)\n",
    "    return H\n",
    "end\n",
    "\n",
    "\n",
    "regHam(v) = regHam(v...)\n",
    "\n",
    "function errHam(N::Int)\n",
    "    srand(487293456)\n",
    "    J = [0 0 0 0 0; 0 0 0 1 0; 0 0 0 0 1; 0 -1 0 0 0; 0 0 -1 0 0 ]\n",
    "    \n",
    "    dnorm = zeros(N)\n",
    "    als = typeof(zeros(5))[]\n",
    "    for j in 1:N\n",
    "        al = 10*rand(5)\n",
    "        #al = [BigFloat(x) for x in al1]\n",
    "        alt = al + var1\n",
    "        ene = J*∇(regHam(alt))\n",
    "        ene1 = [ene[k].coeffs[1].coeffs[1] for k in 1:5]\n",
    "        meq = undrivenHelium(al)\n",
    "        push!(als, al)\n",
    "        meq[1] = 0\n",
    "        dnorm[j] = norm(meq - ene1) \n",
    "    end\n",
    "    return dnorm, als \n",
    "end\n",
    "\n",
    "\"\"\"\n",
    "    stabilitymatrix!{T<:Number, S<:Number}(eqsdiff, t0::T, x::Array{T,1},\n",
    "        jjac::Array{T,2})\n",
    "    stabilitymatrix!{T<:Number, S<:Number}(eqsdiff, t0::T, x::Array{Taylor1{T},1},\n",
    "        jjac::Array{Taylor1{T},2})\n",
    "Updates the matrix `jjac` (linearized equations of motion)\n",
    "computed from the equations of motion (`eqsdiff`), at time `t0`\n",
    "at `x0`.\n",
    "\"\"\"\n",
    "function stabilitymatrix!{T<:Number}(eqsdiff, t0::T, x::Array{T,1},\n",
    "        jjac::Array{T,2})\n",
    "    δx = Array{TaylorN{T}}( length(x) )\n",
    "    @inbounds for ind in eachindex(x)\n",
    "        δx[ind] = x[ind] + TaylorN(T,ind,order=1)\n",
    "    end\n",
    "    jjac[:] = jacobian( eqsdiff(t0, δx), x )\n",
    "    nothing\n",
    "end"
   ]
  },
  {
   "cell_type": "code",
   "execution_count": 4,
   "metadata": {
    "collapsed": false
   },
   "outputs": [
    {
     "data": {
      "text/plain": [
       "q2sign (generic function with 1 method)"
      ]
     },
     "execution_count": 4,
     "metadata": {},
     "output_type": "execute_result"
    }
   ],
   "source": [
    "function q2sign(xold, x0, tol)\n",
    "    if abs(xold[3]) < tol\n",
    "        sq2o = 0\n",
    "    else\n",
    "        sq2o = sign(xold[3])\n",
    "    end\n",
    "    \n",
    "    if abs(x0[3]) < tol\n",
    "        sq2 = 0\n",
    "    else\n",
    "        sq2 = sign(x0[3])\n",
    "    end\n",
    "    if abs(xold[5]) < tol\n",
    "        sp2o = 0\n",
    "    else\n",
    "        sp2o = sign(xold[5])\n",
    "    end\n",
    "    \n",
    "    if abs(x0[5]) < tol\n",
    "        sp2 = 0\n",
    "    else\n",
    "        sp2 = sign(x0[5])\n",
    "    end\n",
    "    return sq2o, sq2, sp2o, sp2\n",
    "end\n",
    "    "
   ]
  },
  {
   "cell_type": "code",
   "execution_count": 5,
   "metadata": {
    "collapsed": false
   },
   "outputs": [
    {
     "data": {
      "text/plain": [
       "5-element Array{Float64,1}:\n",
       " 0.0    \n",
       " 0.84598\n",
       " 0.0    \n",
       " 0.78209\n",
       " 4.0    "
      ]
     },
     "execution_count": 5,
     "metadata": {},
     "output_type": "execute_result"
    }
   ],
   "source": [
    "a1 = condini(rand(2)...)"
   ]
  },
  {
   "cell_type": "code",
   "execution_count": 6,
   "metadata": {
    "collapsed": false
   },
   "outputs": [
    {
     "data": {
      "text/plain": [
       "5-element Array{TaylorSeries.TaylorN{Float64},1}:\n",
       "                        1.0 t + 𝒪(‖x‖²)\n",
       "  0.8459797304085561 + 1.0 q1 + 𝒪(‖x‖²)\n",
       "                       1.0 q2 + 𝒪(‖x‖²)\n",
       "  0.7820902133103941 + 1.0 p1 + 𝒪(‖x‖²)\n",
       "                 4.0 + 1.0 p2 + 𝒪(‖x‖²)"
      ]
     },
     "execution_count": 6,
     "metadata": {},
     "output_type": "execute_result"
    }
   ],
   "source": [
    "expe1 = a1 + var1"
   ]
  },
  {
   "cell_type": "code",
   "execution_count": 21,
   "metadata": {
    "collapsed": false
   },
   "outputs": [
    {
     "data": {
      "text/plain": [
       "  0.0 + 𝒪(t¹)"
      ]
     },
     "execution_count": 21,
     "metadata": {},
     "output_type": "execute_result"
    }
   ],
   "source": [
    "Taylor1(expe1[3].coeffs[1:1])"
   ]
  },
  {
   "cell_type": "code",
   "execution_count": 25,
   "metadata": {
    "collapsed": false
   },
   "outputs": [
    {
     "ename": "LoadError",
     "evalue": "MethodError: Cannot `convert` an object of type TaylorSeries.Taylor1{TaylorSeries.HomogeneousPolynomial{Float64}} to an object of type Array{TaylorSeries.TaylorN{Float64},1}\nThis may have arisen from a call to the constructor Array{TaylorSeries.TaylorN{Float64},1}(...),\nsince type constructors fall back to convert methods.",
     "output_type": "error",
     "traceback": [
      "MethodError: Cannot `convert` an object of type TaylorSeries.Taylor1{TaylorSeries.HomogeneousPolynomial{Float64}} to an object of type Array{TaylorSeries.TaylorN{Float64},1}\nThis may have arisen from a call to the constructor Array{TaylorSeries.TaylorN{Float64},1}(...),\nsince type constructors fall back to convert methods.",
      "",
      " in getindex(::Type{Array{TaylorSeries.TaylorN{Float64},1}}, ::TaylorSeries.Taylor1{TaylorSeries.HomogeneousPolynomial{Float64}}, ::TaylorSeries.Taylor1{TaylorSeries.HomogeneousPolynomial{Float64}}, ::TaylorSeries.Taylor1{TaylorSeries.HomogeneousPolynomial{Float64}}, ::TaylorSeries.Taylor1{TaylorSeries.HomogeneousPolynomial{Float64}}, ::Vararg{TaylorSeries.Taylor1{TaylorSeries.HomogeneousPolynomial{Float64}},N}) at ./array.jl:132"
     ]
    }
   ],
   "source": [
    "eT1 = (typeof(similar(expe1)))[Taylor1(expe1[1].coeffs[1:1]), Taylor1(expe1[2].coeffs[1:1]), \n",
    "    Taylor1(expe1[3].coeffs[1:1]), Taylor1(expe1[4].coeffs[1:1]), Taylor1(expe1[5].coeffs[1:1])]\n",
    "undrivenHelium(0.0, eT1)"
   ]
  },
  {
   "cell_type": "code",
   "execution_count": 18,
   "metadata": {
    "collapsed": false
   },
   "outputs": [
    {
     "name": "stdout",
     "output_type": "stream",
     "text": [
      "ord = 1\n",
      "a1 =   1.0 t + 𝒪(‖x‖²) + 𝒪(t¹)\n",
      "a1 =   0.8459797304085561 + 1.0 q1 + 𝒪(‖x‖²) + 𝒪(t¹)\n",
      "a1 =   1.0 q2 + 𝒪(‖x‖²) + 𝒪(t¹)\n",
      "a1 =   0.7820902133103941 + 1.0 p1 + 𝒪(‖x‖²) + 𝒪(t¹)\n",
      "a1 =   4.0 + 1.0 p2 + 𝒪(‖x‖²) + 𝒪(t¹)\n",
      "xaux = TaylorSeries.Taylor1{TaylorSeries.TaylorN{Float64}}[  1.0 t + 𝒪(‖x‖²) + 𝒪(t¹),  0.8459797304085561 + 1.0 q1 + 𝒪(‖x‖²) + 𝒪(t¹),  1.0 q2 + 𝒪(‖x‖²) + 𝒪(t¹),  0.7820902133103941 + 1.0 p1 + 𝒪(‖x‖²) + 𝒪(t¹),  4.0 + 1.0 p2 + 𝒪(‖x‖²) + 𝒪(t¹)]\n"
     ]
    },
    {
     "ename": "LoadError",
     "evalue": "MethodError: no method matching isinf(::TaylorSeries.TaylorN{Float64})\u001b[0m\nClosest candidates are:\n  isinf(\u001b[1m\u001b[31m::BigFloat\u001b[0m) at mpfr.jl:792\n  isinf(\u001b[1m\u001b[31m::Float16\u001b[0m) at float16.jl:118\n  isinf(\u001b[1m\u001b[31m::FixedPointNumbers.Normed{T<:Unsigned,f}\u001b[0m) at /home/daniel/.julia/v0.5/FixedPointNumbers/src/normed.jl:113\n  ...\u001b[0m",
     "output_type": "error",
     "traceback": [
      "MethodError: no method matching isinf(::TaylorSeries.TaylorN{Float64})\u001b[0m\nClosest candidates are:\n  isinf(\u001b[1m\u001b[31m::BigFloat\u001b[0m) at mpfr.jl:792\n  isinf(\u001b[1m\u001b[31m::Float16\u001b[0m) at float16.jl:118\n  isinf(\u001b[1m\u001b[31m::FixedPointNumbers.Normed{T<:Unsigned,f}\u001b[0m) at /home/daniel/.julia/v0.5/FixedPointNumbers/src/normed.jl:113\n  ...\u001b[0m",
      "",
      " in divfactorization(::TaylorSeries.Taylor1{TaylorSeries.TaylorN{Float64}}, ::TaylorSeries.Taylor1{TaylorSeries.TaylorN{Float64}}) at /home/daniel/.julia/v0.5/TaylorSeries/src/Taylor1.jl:317",
      " in /(::TaylorSeries.Taylor1{TaylorSeries.TaylorN{Float64}}, ::TaylorSeries.Taylor1{TaylorSeries.TaylorN{Float64}}) at /home/daniel/.julia/v0.5/TaylorSeries/src/Taylor1.jl:294",
      " in macro expansion at ./show.jl:218 [inlined]",
      " in undrivenHelium(::Float64, ::Array{TaylorSeries.Taylor1{TaylorSeries.TaylorN{Float64}},1}) at ./In[3]:8",
      " in jetcoeffs!(::#undrivenHelium, ::Float64, ::Array{TaylorSeries.Taylor1{TaylorSeries.TaylorN{Float64}},1}) at ./In[17]:48",
      " in taylorstep!(::Function, ::Float64, ::Float64, ::Array{TaylorSeries.TaylorN{Float64},1}, ::Int64, ::Float64) at ./In[17]:195"
     ]
    }
   ],
   "source": [
    "taylorstep!(undrivenHelium, 0.0, 10.0, expe1, order, abs_tol)"
   ]
  },
  {
   "cell_type": "code",
   "execution_count": null,
   "metadata": {
    "collapsed": false
   },
   "outputs": [],
   "source": [
    "function vareqs(t, q, A)\n",
    "    qn = A * q\n",
    "    return qn\n",
    "end\n",
    "\n",
    "stabmat = eye(5)\n",
    "stabmat[1, 1] = 0.0\n",
    "\n",
    "varuh(t, q) = vareqs(t, q, stabmat)"
   ]
  },
  {
   "cell_type": "code",
   "execution_count": null,
   "metadata": {
    "collapsed": false
   },
   "outputs": [],
   "source": [
    "a1 = condini(rand(2)...)\n",
    "expe1 = var1 + a1"
   ]
  },
  {
   "cell_type": "code",
   "execution_count": null,
   "metadata": {
    "collapsed": false
   },
   "outputs": [],
   "source": [
    "varuh(0.0, var1)"
   ]
  },
  {
   "cell_type": "code",
   "execution_count": null,
   "metadata": {
    "collapsed": false
   },
   "outputs": [],
   "source": [
    "var1[2].coeffs[2].coeffs"
   ]
  },
  {
   "cell_type": "code",
   "execution_count": null,
   "metadata": {
    "collapsed": false
   },
   "outputs": [],
   "source": [
    "typeof(var1)"
   ]
  },
  {
   "cell_type": "code",
   "execution_count": null,
   "metadata": {
    "collapsed": false
   },
   "outputs": [],
   "source": [
    "###Implementamos nuevo código \n",
    "function taylorstep1!{T<:Number}(f, t0::T, t1::T, x0::Array{T,1},\n",
    "        order::Int, abstol::T)\n",
    "    @assert t1 > t0\n",
    "    # Initialize the vector of Taylor1 expansions\n",
    "    xT = Array{Taylor1{TaylorN{T}}}(length(x0))\n",
    "    for i in eachindex(x0)\n",
    "        @inbounds xT[i] = Taylor1( x0[i], order )\n",
    "    end\n",
    "    # Compute the Taylor coefficients\n",
    "    jetcoeffs!(f, t0, xT)\n",
    "    # Compute the step-size of the integration using `abstol`\n",
    "    δt = TaylorIntegration.stepsize(xT, abstol)\n",
    "    if δt ≥ t1-t0\n",
    "        δt = t1-t0\n",
    "    end\n",
    "    evaluate!(xT, δt, x0)\n",
    "    return δt, xT\n",
    "end\n",
    "\n",
    "\n",
    "function mytaylorinteg{T<:Number}(f, q0::Array{TaylorN{T},1}, t0::T, tmax::T, order::Int,\n",
    "    abstol::T; tsteps::Int = 1000, tol::Float64=1e-20, maxsteps::Int=5000)\n",
    "\n",
    "    # Allocation\n",
    "    tv = Array{T}(maxsteps)\n",
    "    dof = length(q0)\n",
    "    xv = Array{T}(dof, maxsteps)\n",
    "    δs = Array{TaylorN}(maxsteps)\n",
    "    sm0 = eye(dof)\n",
    "    \n",
    "    function vareqs(t, q, A)\n",
    "        qn = A * q\n",
    "        return qn\n",
    "    end\n",
    "    varuh(t, q) = vareqs(t, q, sm0)\n",
    "    \n",
    "    \n",
    "    # Initial conditions\n",
    "    @inbounds tv[1] = t0\n",
    "    @inbounds xv[:,1] = q0[:]\n",
    "    @inbounds δs[1] = var1\n",
    "    x0 = copy(q0)\n",
    "    δ0 = copy(δs[1])\n",
    "    sum1 = q0[3]/maxsteps\n",
    "\n",
    "    # Integration\n",
    "    nsteps = 1\n",
    "    δtn = Inf\n",
    "    while t0 < tmax\n",
    "        xold = copy(x0)\n",
    "        δold = copy(δ0)\n",
    "        δt, sT = taylorstep1!(f, t0, tmax, x0, δ0, order, abstol)\n",
    "        sq2o, sq2, sp2o, sp2 = q2sign(xold, x0, tol)\n",
    "        steps1 = 0\n",
    "        x00 = copy(x0)\n",
    "        δ00 = copy(δ0)\n",
    "        bool1 = false\n",
    "        \n",
    "        while sq2o*sq2 == -1 || (sp2o*sp2 == -1 && abs(xold[3]) < tol)\n",
    "            bool1 = true\n",
    "            q2T = sT[3]\n",
    "            dq2T = derivative(q2T)\n",
    "            δtn = copy(δt)\n",
    "            for nc in 1:20\n",
    "                δtn = δtn - evaluate(q2T, δtn)/evaluate(dq2T, δtn)\n",
    "            end\n",
    "            evaluate!()\n",
    "            evaluate!(sT, δtn, x0)\n",
    "            sq2o, sq2, sp2o, sp2 = q2sign(xold, x0, tol)\n",
    "            steps1 += 1\n",
    "            if steps1  ≥ tsteps\n",
    "                break\n",
    "            end\n",
    "        end\n",
    "                \n",
    "        if nsteps ≥ maxsteps \n",
    "            warn(\"\"\"\n",
    "            Maximum number of integration steps reached; exiting.\n",
    "            \"\"\")\n",
    "            break\n",
    "        end\n",
    "        \n",
    "                \n",
    "        nsteps += 1\n",
    "        \n",
    "        if bool1 == true\n",
    "            @inbounds tv[nsteps] = t0 + δtn\n",
    "            @inbounds xv[:,nsteps] = x0[:]\n",
    "            stabilitymatrix!(undrivenHelium, t0 + δtn, x0, sm0)\n",
    "            jjac0 = sm0 * arrjac[nsteps - 1]\n",
    "            arrjac[nsteps] = jjac0\n",
    "            x0 = x00\n",
    "            nsteps += 1\n",
    "            stabilitymatrix!(undrivenHelium, t0 + δt, x0, sm0)\n",
    "            jjac0 = sm0 * arrjac[nsteps - 2]\n",
    "            arrjac[nsteps] = jjac0\n",
    "        else\n",
    "            stabilitymatrix!(undrivenHelium, t0 + δt, x0, sm0)\n",
    "            jjac0 = sm0 * arrjac[nsteps - 1]\n",
    "            arrjac[nsteps] = jjac0            \n",
    "        end\n",
    "        t0 += δt\n",
    "        @inbounds tv[nsteps] = t0\n",
    "        @inbounds xv[:,nsteps] = x0[:]\n",
    "        sum1 += x0[3]/maxsteps\n",
    "            \n",
    "    end\n",
    "\n",
    "    return view(tv,1:nsteps), view(xv,:,1:nsteps)', arrjac[1:nsteps]\n",
    "end"
   ]
  },
  {
   "cell_type": "code",
   "execution_count": null,
   "metadata": {
    "collapsed": false
   },
   "outputs": [],
   "source": [
    "c1 = condini(2.0, 0.0) + var1"
   ]
  },
  {
   "cell_type": "code",
   "execution_count": null,
   "metadata": {
    "collapsed": false
   },
   "outputs": [],
   "source": [
    "@time t1, x1 = taylorinteg(undrivenHelium, c1, t0, 2.0, order, abs_tol, maxsteps=100_000);"
   ]
  },
  {
   "cell_type": "code",
   "execution_count": null,
   "metadata": {
    "collapsed": false
   },
   "outputs": [],
   "source": [
    "@time t2, x2, m1 = mytaylorinteg(undrivenHelium, c1, t0, 2.0, order, abs_tol, maxsteps=100)"
   ]
  },
  {
   "cell_type": "code",
   "execution_count": null,
   "metadata": {
    "collapsed": false
   },
   "outputs": [],
   "source": [
    "m1[64]"
   ]
  },
  {
   "cell_type": "code",
   "execution_count": null,
   "metadata": {
    "collapsed": false
   },
   "outputs": [],
   "source": [
    "for j in 1:64\n",
    "    a = (m1[j][2:end,2:end])\n",
    "    println(a)\n",
    "end"
   ]
  },
  {
   "cell_type": "code",
   "execution_count": null,
   "metadata": {
    "collapsed": true
   },
   "outputs": [],
   "source": []
  }
 ],
 "metadata": {
  "kernelspec": {
   "display_name": "Julia 0.5.0",
   "language": "julia",
   "name": "julia-0.5"
  },
  "language_info": {
   "file_extension": ".jl",
   "mimetype": "application/julia",
   "name": "julia",
   "version": "0.5.0"
  }
 },
 "nbformat": 4,
 "nbformat_minor": 0
}
