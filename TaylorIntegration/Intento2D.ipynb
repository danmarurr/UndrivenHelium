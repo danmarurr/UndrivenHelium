{
 "cells": [
  {
   "cell_type": "code",
   "execution_count": 1,
   "metadata": {
    "collapsed": false
   },
   "outputs": [
    {
     "data": {
      "text/plain": [
       "500000"
      ]
     },
     "execution_count": 1,
     "metadata": {},
     "output_type": "execute_result"
    }
   ],
   "source": [
    "#Archivo con las funciones para calcular soluciones numéricas\n",
    "include(\"UndrivenHelium.jl\")\n",
    "using Plots, LaTeXStrings\n",
    "# plotly()\n",
    "pyplot(grid = :false, legend = :false)\n",
    "\n",
    "const Z = 2.0\n",
    "const order = 30\n",
    "const t0 = 0.0\n",
    "const t_max = 0.5 \n",
    "const abs_tol = 1.0E-20\n",
    "const steps = 500000"
   ]
  },
  {
   "cell_type": "code",
   "execution_count": 2,
   "metadata": {
    "collapsed": false
   },
   "outputs": [
    {
     "name": "stdout",
     "output_type": "stream",
     "text": [
      "  5.794949 seconds (71.05 M allocations: 4.044 GiB, 22.46% gc time)\n"
     ]
    },
    {
     "data": {
      "text/html": [
       "<img src=\"data:image/png;base64,iVBORw0KGgoAAAANSUhEUgAAAlgAAAGQCAYAAAByNR6YAAAABHNCSVQICAgIfAhkiAAAAAlwSFlzAAAPYQAAD2EBqD+naQAAIABJREFUeJzs3Xd8FMX/P/DXhVRKEukgJJEOH5ogTelFFBQQ+CDw/SBIEUFFFESwUATkgz8BFT82egchEBCkCqFJ7y0gkISEhCRAKqTd7fz+CHfk7vbu9u623r2fj0ce4t3e7dzuzOx7ZmdnwAjxQB06dGAAzF5btmwZA8CWLVsm+HvCw8NZeHi4oO/h25bYxneODhw4wACwadOmKZMoG+jcep6CggI2bdo0VqtWLebv788AsC1btiidLJe4UrcR6fmAaMqZM2cwYsQI1K5dG6VKlUJQUBBq1qyJIUOGYO/evUonTzbTp0+HTqdDdHS00kmxS6506nQ61KtXz+b7cXFx0Ol0eOWVVyRNh1QiIiIQERGhdDK8kjHv2PvT4rmZN28eZsyYgapVq2LixImYNm2a3TKkJOM5GDZsmNJJIU7wVToBRBiO4zBx4kQsWLAAvr6+6Ny5M3r16gU/Pz/cvn0bO3bswOrVq/HVV1/hyy+/VDq5ilu5ciUeP37s9vf89ddfkmxLxDtHcqBzC9SsWRP/+c9/eN8LDQ2VOTXu2759O0qXLo29e/fC399f6eS45Y033kDr1q1RpUoVpZNCiqEASyO++OILLFiwAE2bNsWmTZtQs2ZNs/dzc3Px448/4sGDBwqlUF3CwsJE+R7L4yzWtkS8cyQHOrdArVq1MH36dKWTIZqkpCSUK1dO88EVAISEhCAkJETpZBALdItQA27evIlvvvkG5cqVw65du3gr+6CgIHzyySeYMWOG2ev379/H+PHj8dxzzyEgIAAVK1bEgAEDcPnyZavvGDZsGHQ6HW7fvo1vv/0WderUQVBQEBo0aID169cDAAoKCvD5558jIiICgYGBaNy4MXbu3Gn1XR07doROp0NeXh4mT56MsLAwBAYGon79+li4cCEYY2bbZ2ZmYu7cuejQoQOqVq0Kf39/VK1aFW+99RZu3bpl9d3G39mpUyfe2xTG/duydetWtGzZEiVLlkSFChUwfPhwpKSkWG3nzK0py23tpZPjOISHh6NcuXLIy8vj/b527drB19cXiYmJgvbvihs3bmDSpElo1qwZypUrh8DAQNSpUweTJ09GTk6O1fbG45qfn4/PPvsMYWFhCAoKQvPmzbFv3z4ARefyvffeQ9WqVREYGIg2bdrg5MmTNr/LHuOtkfj4eMTHx5vdlrK82C9btgytWrVC6dKlUbp0abRq1QrLly+3+s7o6GjT50+fPo1u3bqhTJkyCAkJwRtvvIG4uDirz/Dlg6SkJEybNg2tW7dGxYoVERAQgIiICIwdOxapqalW32EsX7Gxsfjhhx9Qr149BAQEIDw8HDNmzADHcXaPBQDEx8fDx8cHXbp04X2/sLAQ5cuXR/Xq1U3fl5mZialTp6JBgwYoXbo0goODUatWLQwdOhTx8fEO9+mqrVu3okWLFggKCkKlSpUwatQopKen8x5LsdIoJA8Yb9vHxsaa5Skh5Vyn06Fjx464e/cuBg8ejPLly6NMmTLo2bMnbt++DQC4du0a+vTpg7Jly6JMmTLo378/b90CAH/88Qc6deqEkJAQBAUFoUmTJpg/fz70er1pm+XLl+O5554DAKxYscKsDBiHHixfvhw6nY43vx89ehQ9e/ZE2bJlERgYiHr16mHatGm8vcfG35eSkoKhQ4eifPnyCAoKQuvWrVU/HEONqAdLA5YvXw6DwYDRo0ejUqVKdrcNCAgw/TstLQ1t2rTBrVu30LFjRwwcOBCxsbHYtGkTduzYgd27d6Nt27ZW3/Hxxx/jxIkTeP3111GiRAmsX78egwcPxjPPPIMff/wRV65cQc+ePZGXl4e1a9eid+/euHbtGm/gN2DAAJw7dw79+vUDAERGRmLcuHGIi4vDvHnzTNtdu3YNU6dORadOnfDGG2+gVKlSiImJwdq1a7Fjxw6cPXsW4eHhAGAah3Dw4EEMHTrUVDEKvU0RGRmJ3bt3o3///ujSpQtOnDiBZcuW4fDhwzh58iSeeeYZQd/jiL10+vj4YOTIkZg6dSo2b96MwYMHm332+vXrOHLkCHr27Ilq1aqJkh4+mzdvxpIlS9CpUyd07NgRHMfh+PHjmDt3Lg4ePIhDhw7Bz8/P6nNvvvkmLl26hF69eiE3Nxdr1qzBa6+9hr///hujRo1CQUEB/v3vfyMtLQ0bNmzAK6+8gtjYWKdb2aGhoZg2bRq+++47AMD48eNN73Xs2NH073HjxmHhwoV49tlnMWLECABF5/ntt9/GuXPn8P3331t996lTp/DNN9+gU6dOGD16NM6dO4eoqChcunQJly9fRmBgoN20HTp0CPPmzUOXLl3QqlUr+Pn54dy5c/j555+xe/dunD17lvf3fvLJJzh48CBee+01dO/eHVFRUZg+fToKCgowe/Zsu/sMDw9H+/btER0djcTERKu88eeff+LBgwf49NNP4ePjA8YYunfvjhMnTuCll17CK6+8Ah8fH8THx2Pbtm0YMmSIqVyJaeXKlRg6dCiCg4MxZMgQhIaGYvv27ejatSsKCgrMeo3ESqPQPGDMN5Z5Smj9kZ6ejrZt26Jy5coYOnQobty4ge3btyMmJgZbt25Fu3bt0Lx5cwwfPhxnzpxBZGQkHj58iP3795t9z/z58zFhwgSULVsWgwcPRqlSpbBt2zZMmDABhw8fxubNm6HT6dC0aVN8+OGH+P7779GkSRP06dPH9B2OgsKNGzdi0KBBCAgIwJtvvomKFStiz549+Oqrr7B7925ER0db5fOMjAy0bdsWISEhGDJkCFJTU7FhwwZ0794dZ86cQcOGDQUdJwKLR3iIKnXs2JEBYPv27XPqc2+//TYDwKZMmWL2+o4dOxgAVqtWLWYwGEyvDx06lAFgderUYampqabXT5w4wQCw0NBQ1rZtW5aTk2N6b8OGDQwA++CDD8z2YXxCrG7duiwjI8P0ekZGBqtbty7T6XTs1KlTZq8/ePDA6jfs37+f+fj4sJEjR5q9Pm3aNAaAHThwgPe323uKEADbtWuX2XuTJ09mANj7779v9rq7TxHaS+fdu3eZr68v69ixo9V7EydOZABYVFQU7++zBICVK1eOTZs2jffvww8/ZABY9+7dzT6XmJjI8vPzrb5vxowZDABbvXq12evG42orH4SGhrJ///vfrLCw0PTe3LlzGQA2b9483u8qztZThPae4jt48CADwOrXr2+W1x4+fMjq1KnDALBDhw5Z7QMAW79+vdl3DRkyhAFg69atc7j/lJQUlp2dbZWeFStWMABs1qxZZq8by9dzzz3HkpKSTK+npaWx0NBQVqZMGd5zYWnx4sUMAJs7d67Ve/369WMA2OXLlxljjF28eJEBYH369LHaNi8vjzf9lmJjYxkAVrNmTZv5a+fOnabtMzMzWXBwMCtVqhS7fv266fWCggLWvn17BsDsWIqRRmfzAGOuPRlqzDcfffSR2etjxowx5f/vvvvO9DrHcaxHjx4MADtz5ozp9Zs3bzJfX19WsWJFdufOHbPf27ZtWwaArVy50vS68RwMHTqUN118dVJmZiYLCQlhAQEB7MKFC6bXDQYDe/PNNxkA9tVXX/H+vrFjx5pdG4x5bvTo0cIOFGGMMUYBlgbUq1ePAWAxMTGCP5Ofn88CAwNZuXLl2KNHj6ze79atm1WlY7wArFixwmr7GjVqMADs4MGDZq/r9Xrm5+fH2rdvb/a68eJpeYFmjLFVq1bxBjO2NGrUiEVERJi95k6A1bVrV6vts7OzWWhoKAsODjarWKQMsBhj7I033mA6nY79888/ptcKCgpYxYoVWZUqVcwCFXuMFaOjP8sAy5YHDx4wAGzYsGFmrxuPq2U+MBgMzM/PjwFg8fHxZu/duXOHAWBvvfUW73cV50qANXz4cAaAbdiwweq9NWvWMABs+PDhVvuwzLPF3/v4448F798Sx3EsODjYKnA2lq+lS5dafcb43sWLFx1+f0ZGBgsMDGSNGjUyez09PZ0FBASwpk2bml4zBi+DBg0SlHY+xou7vb8PP/zQtL0xwLRsdDHG2OHDh20GWO6k0dk8wJjrAVbp0qWt6tRDhw6ZglCO48zeW7lypdV5/+qrr2wGyUePHmUAWOfOnU2vuRJgGfc7ZswYq+3j4+OZr68vq1GjhtXvK1WqlFVQW1hYyHx9fVmzZs1490/40RgsDxUTE4O8vDzTOCNLnTp1AgCcP3/e6r2mTZtavWZ8OsXyvRIlSqBixYpISkriTUe7du1svnbu3Dmz16Ojo9GnTx9UqVIFfn5+pnEGly5dsvn9ruBLU+nSpdG0aVNkZWWZxlLIYfTo0WCMYfHixabXtm3bhtTUVLz99tvw9RV+F79u3bpgRY0mq7/Y2FjezzDGsHTpUrRv3x5ly5ZFiRIloNPpUK5cOQCwedwt84GPjw8qVqyIZ555xmrwujHviHkOizPmo+K3DI3s5fPmzZtbvWa85ZaRkSFo35s3b0b37t1RoUIF+Pr6QqfTwcfHB1lZWTZ/r7v7DQkJQa9evXDp0iVcuHDB9PrGjRuRn5+PIUOGmF6rX78+GjdujHXr1qF9+/aYP38+zp49K2i8l6Xu3bvbzF/G220ATGniK2dt2rSxytNipNHVPOCK2rVrW9WpxjzeuHFjq3GFfPnfXnrbtGmDwMBAt9Nrbx9hYWGoUaMGbt++jezsbLP36tSpg9KlS5u95uvri0qVKgkuF6QIjcHSgMqVKyMmJgZ3795F3bp1BX0mKysLAGyO2TIWeuN2xQUHB1u9ZqwUbb1XWFjIux++/Rtfy8zMNL22ceNGvPnmmyhdujS6d++OiIgIlCxZ0jRwU8zBuLaOCV+6pPbyyy+jRo0aWLFiBWbNmgVfX18sXrwYOp3ONI5ESuPGjcOPP/6I6tWro1evXqhSpYppHN+MGTOQn5/P+zlb+cBe3rGVR9yVlZUFHx8fVKhQweq9SpUqQafTOZ3PDQaDw/3OmzcPEydORIUKFfDyyy+jWrVqCAoKAlA0vsfZYyd0vwAwZMgQ/P7771i9ejWaNGkCAFi1ahVKlCiBQYMGmX3v/v37MX36dERGRmLChAkAgAoVKuD999/H559/jhIlSgjap1DG8lOxYkWr90qUKGEK3sVMo6t5wBWu1I+Aef63Vz/rdDpUqlQJd+/edSudQq4BN27cQFZWFsqUKWN6ne83AEW/Q2j+JEUowNKAl156CdHR0fjrr7/QuXNnQZ8xFhJbT6/cu3fPbDuppKSkWPVoGNNUfADw9OnTERgYiDNnzqB27dpm2xufYBQzTfZel/NxZ51Oh1GjRmHKlCn4448/8MILL2DPnj3o0qULatSoIem+U1NT8b///Q+NGzfGsWPHzFrl9+7ds3oiVa2Cg4PBcRzS0tKsLuqpqalgjImez/V6PWbOnIkqVarg/PnzZvtljOGbb74RdX+WXnnlFVSoUAHr1q3D3LlzkZCQgCNHjuDll1+2mgupXLlyWLhwIX744QfExMRg//79WLhwIaZNmwY/Pz9MmTJF1LQZyw/fk5QGgwEPHjzAs88+K2oalcgD7iheP/MN4E9NTXU7vWq5BngzukWoAcOGDUOJEiXw22+/IS0tze62xlZzvXr1EBgYiFOnTvE+jmt85JbvdqCYDh8+bPO1559/3vTarVu3UL9+favgKjk5mfeWnbFF60qLii9NOTk5OH/+PIKDg0UNbISkc/jw4fDz88PixYuxdOlScByHUaNGiZYGW27fvg3GGLp27Wp1y4PvGCmpRIkSNo+hMR/xPUYuVT6/f/8+MjMz0aZNG6sL+unTp5Gbmyvq/iz5+vpi4MCBuHv3Lg4cOIDVq1eDMWZzIlCgKJivX78+3nvvPdOqD9u2bRM9bcYeNb48dOzYMbMpCMRKoxJ5wB320nv8+HHk5uaapdeV+s7ePhISEnDr1i3UqFHDrPeKiIsCLA2oVasWJk2ahPv37+PVV1/lHU+Tl5eH+fPnm+YG8vf3x6BBg3D//n3MmTPHbNtdu3Zh9+7dqFWrFl566SVJ0z5z5kyzW26ZmZmYNWsWdDod3nrrLdPr4eHhuHnzpllrKy8vD2PGjOG9tVS2bFkARRWFs/bt24fdu3ebvTZ79mxkZGTgrbfego+PeMVCSDorVqyIPn36YNeuXfj5559Rvnx5s0expWJsOf/9999m410SExNF79VwV9myZXH//n3eOcOGDh0KoOiWZvHbQJmZmaZeOOM2YqlYsSKCgoJw9uxZswZMeno6PvjgA1H3ZYtxrNWqVauwevVqlCpVCm+88YbZNnFxcbzzehnLmaOpKFzRu3dvBAcHY+nSpbhx44bp9cLCQnzxxRdW24uRRiXygDsGDx4MX19fzJ8/32xsVkFBAT799FMAMFsW55lnnoFOp3OqvuvduzdCQkKwbNkyXLlyxfQ6Ywyffvop9Ho9Lb0jMbpFqBGzZs1CXl4eFixYgLp166Jz585o2LAh/Pz8EBsbi3379uHBgweYNWuW6TPGuYxmzZqFv//+G61atUJcXBw2btyIkiVLYtmyZaIGE3zq1KmDhg0bon///mCMITIyEomJifj444/RokUL03YffPABPvjgAzz//PPo378/9Ho99u7dC8YYmjRpYjaYF3g6cednn32GK1euICQkBKGhoXj//fcdpum1117D66+/jv79+yMiIgLHjx/HgQMHULNmTXz11Vei/n6h6Xz33XexceNGpKSkYMKECbLMLl2lShX069cPkZGReOGFF9ClSxekpKRg+/bt6Ny5s9UEr0rq3LkzTp8+jVdffRXt2rWDv78/2rdvb/r74IMPsHDhQjRs2BD9+vUzy2vjxo1D+/btRU2Pj48Pxo4di3nz5qFJkyZ4/fXXkZWVhZ07dyI8PBxVq1YVdX98WrRogbp162Lt2rUoLCzEkCFDUKpUKbNtzp8/j759+6Jly5Zo0KABKleujLt37yIqKgo+Pj746KOPBO/v5s2bdmdynzx5MgIDAxESEoIffvgBw4YNQ4sWLTBw4ECEhIRg+/btCAoKsrqFKUYalcgD7qhZsybmzp2LCRMmoHHjxhgwYABKlSqFP/74A9evX0fv3r3NeiNLly6NFi1a4NChQxgyZAhq164NHx8fu3OEBQcHY9GiRRg0aBBatWqFN998ExUqVMC+fftw5swZtGzZEp988olcP9k7yffAIhHDqVOn2PDhw1mtWrVYUFAQCwgIYBEREWzQoEFsz549VtunpaWxcePGsfDwcObn58fKly/P+vfvzy5dumS1rfFR8djYWKv3+B6pN+J73Nm4fW5uLps0aRKrXr068/f3Z3Xr1mU//PCD1aPMHMexX375hf3rX/9igYGBrHLlymzEiBEsJSXF5r6XL1/OGjVqxAICAqwe/bY3TcOyZctYVFQUa9GiBQsKCmLlypVjw4YNY8nJyYJ+mzPTNDhKZ/HfHxYWxgCwa9euWb3vCJ7MOWaL8TFvy2kasrOz2YQJE1hERAQLCAhgtWvXZjNnzmQFBQUMAOvQoYPZ9s7mg+LpE/JdtqZpyM7OZqNGjWJVqlRhPj4+vNssXbqUtWjRgpUsWZKVLFmStWjRgndKBFv7YMz24/B8v62goIDNnj2b1a5dmwUEBLCwsDD28ccfs+zsbN7t7ZUvR9N52DJr1izTVAm7d++2ej8hIYFNnjyZtW7dmlWsWJH5+/uzsLAw1rdvX3bs2DFB+xAyTQMAlp6ebva5LVu2sObNm7OAgABWsWJFNnLkSPbw4UOrYyNGGo2E5gHGXJ+mwTIfM2Z/GgV7+W3r1q2sQ4cOrEyZMiwgIIA1atSIzZs3j3d6luvXr7MePXqw0NBQptPpzPKLrTqJsaIpJF599VUWGhrK/P39WZ06ddiXX35pNo+do9/HmGvHy9vpGLNYs4QQEXTs2BEHDx60WhKH8EtOTkZYWBjatGmDQ4cOKZ0cQiRjnH2c77YgIZ6ExmARogLfffcd9Ho9xowZo3RSCCGEiIDGYBGikMzMTPz888+Ij4/H4sWL0aBBAwwYMEDpZBFCCBEBBViEKCQ9PR1TpkxBYGAg2rZti19++UX0SR8JIYQog8ZgEUIIIYSIjMZgEUIIIYSIjAIsQgghhBCRUYBFCCGEECIyTQ9y5zgOSUlJKFOmDHQ6ndLJIYQQQoiGMcaQnZ2NqlWrur3SiaYDrKSkJFSvXl3pZBBCCCHEgyQkJKBatWpufYemAyzjKuAJCQkIDg6WbD8hy4sWG84c5ifZPgghhBCirKysLFSvXt0UX7hD0wGW8bZgcHCwpAEWggqf7Ed9AVZaLoNOB5QPpFukhKiRblEhRtbVYVF7TVe3qnY1naF2CODnQ/UgEYcYw45okLvGVVytR4VVeqWTQYhdHGOqWpfys1MGnE7jZNvf4uvq+e2e5rGe4V+b9JhyUr7zSYgQFGARr5KnZ2iwsRCXHtIFT04lFuvRZYfB5vt3chh0iwpxJk2e8zLnPIfXd9tOjye5+4hh/kXP/a2FT+IqKtPehWMMWQXqPueSBVh5eXno06cP6tSpgyZNmqBbt264efMm77bbt29HvXr1UKtWLfTt2xdZWVlSJYt4udhs4FoG8N0lz73gAMDAv/TovF26ns1HhQzj/jYg3yC8gjuQbHvbc/eL3ttzl3ohxPZWtAETTnDQc+q+GBHijC9OcwhZoe67N5L2YL3zzju4fv06Lly4gN69e2PkyJFW2+Tk5GDEiBGIiorCzZs3UbVqVcycOVPKZKkOYwzJj6nyk9vQaD0OJbt2QddzDO8c1uOeSs/bhtvMbkDjrsXXOSy8wiEqjn8f7x42oMcudVd+3qLgSVuCRicRT7LjjvobY5IFWIGBgejRo4dpoFjr1q0RFxdntd3OnTvx/PPPo169egCAsWPHYt26dVIlS5VW/cNQdY0ecdnqvFh7qpX/MPzfAdd6si49BBbFMMw8p/5CLoXxx+z/7l9jOOxMEC8/n7vPMPucZ/c6Si0tz/q11FxGPVvFPCpk2BrnmWU638BQdU0hTqR65u9TI9nGYP3www/o3bu31et37txBeHi46f8jIiKQnJwMvd669Zufn4+srCyzP09w5sntkZRcqugI4dN5hx5fnKYLgzuqrNHj3cNFQSrHGPINDJVW6zHhOB1Xow+PGdBnrwEZ+Z5XFyc9ApIfA99dVuZ8M8aw7DqHXL3nHVtbZAmwvv76a/zzzz+YM2eOW98zZ84chISEmP5oklHirNQ8ZQv3wssGpKj0tqKn2RzLYXu8MheTfAMTND7t7H2GCqsK8Vimi86vMUXH472jHAKXFjVi9ydRgGWUklv0XyeGFqre2wf1aL1V+dv1l9OB4YcM+OqseX7bHs9hZ4Jn5kHJA6xvv/0Wmzdvxs6dO1GyZEmr98PCwhAfH2/6/7i4OFSpUgW+vtZzxkyZMgWZmZmmv4SEBEnT7g6/xYVYecMzM42Wddxu+zbTF6cMKLm0ULJ9P9YzjDvGYeRh7d7qYiqbbsGefvsMeH2P88c6OonDzLPunaOyK/WovtbxRe3nqwbczwNiZe6MX3uT6iY1+O6S9A2u5TcYTqQK38fCywbMPS9+HWUcC5hVrIrNLmB4fY8BPXZJVydmFjDFnjCVNMCaP38+1q1bh7179yI0NJR3m1deeQVnz55FTEwMAOCnn37CwIEDebcNCAgwTSrqyuSi9/MYItYVIiFH+oOtZ8CcC+q6kOoWFWLEQeVbMmo1+zyH3CenbPRhAyLWiRtsGeOSPJGyRcVVhegkwZOCqbkMsVn8ZWTEIQN8Fnt2Huq0w4CpZ9wLQB7r+cc8eZsCA8P/u2CAgcZ5WckpZPjoOIdRIjW4bmYyXBEhkBh3jMPkU/IE4MEyPAX46k4DGkcqU2dJFmAlJiZiwoQJyMjIQKdOndC0aVO0atUKADB16lT88ssvAIqWu1m8eDF69+6NWrVqITExEV9++aUkafrrLkN8DrBZw4MYGWNu3cNeeoMqOkuP9Qw/XDav5H6L4RCfo1CCBErLA6IleFKw+lo9amzgr5CWUf4hTlh6ncOkkxy22Hja1JsZG1z5IjW4av+uR0OFAgk1O/dAubwn2doN1apVs3kr4auvvjL7/169eqFXr15SJcWjzDrHYeoZDmyU+pbtUYucQoaAEsKXzZh9jsPX57UbdIutgA6FRxiwT4+yAcpOzpD/JC8VUp4iXohmcteYbfHUEnSkzHI9+u8T3ix8TI0+4oE2xjLToHZCPI0WroQUYBGPJFcgqpHx3kQFdidw2OWhT0sR4gjTREgkLgqwCHGBCAutEy/zyi4DXpXwaSkiHm8LBbILmGwPIrhSdeo5hp+uau9hCQqwCCGEEHjvckLBK/QYfUSe4N+VEGnVPwzvHdXewxIUYBFCCCFeTurgRedG+GqciDdfY3fYKcAihBBCiKZoobeRAixCCCGSoIdAiDejAIsQQoik6KEQ4o0owNIYqqgIIWKiTiYiB+M0DWJdwrSQbynAIsQNWijkhBBC5EcBloSos8lz0bklhBD1U7KupgCLEEIIKYYG5xMxUIClMVTwCSFEGjTGVXredAmjAIsQQggBNWCl5M5Eo1pFAZaEqKwSQrwZ1YHEiBZ7JsRLuFvUva+qIMR1UvZdSPHddKtQOt50aCnA0ihGfdnEgxgvaN5U+crF02sKT/99cqHjKD4KsDSGWlbEExnbC1TJE0I8BQVYxCvpLP5L1I0CL0Kk5al1oZJ1BwVYKkC9UspxtfDRKSNaQXnVeZ48AoPyg3wowFIBTy7M5CnjaabzTSwpmSXogvuUNzR2qfqRDwVYhBDV84LrHvEyFOh4Pq8KsKgHgRBCzFF1SDwZrUXooajVTYozDaynjEEsUJYgxPNQgKVR1OoUD13cCCFyo3rH83lVgEU9CIQPBauEEKItWhjq41UBFiGEEEKIHCjAIsQNWmhFEUKI0oxVpTs3kLRW31KARYgL6C4zIZ5LY9ddZ1UOAAAgAElEQVRxUcj1m73p2FKARQghhIAaTlLyxmNLARYhhBBCVK/4A2paeFiNAiwJeVNXKCGEWNLamBlCxEQBlkZRxUUI0QoNdDYAoEYxERcFWBqjlYqKEEKIdkh9bRHjKUKtoQCLEEIIIZqihbs4FGAR4gYNlHFCiJO8qZfF0yk5GJ4CLAlRIfVcWniChRAhtNATIDc6JEQMFGBpDBV8QgiRBrWbpOdN1zAKsAhxAbX6CSFEOKWCVyXragqwCCGEEEJERgEW8UrUAUWI9OQoZ3RbTxtomgaiGRQgEE9ifGjAmypfuaihrqCHQtRPDfnE01CApTFUT6kLnQ9CCCF8KMAiXo0CJG2g1jWxhfIGUSsKsFSAus+1iyp3cRif9KHjSYi06HIjHwqwiFdyt5JxJSg2Bg80xQOxpGSWoAaeNSqjRAxeFWDRBY5YoqxAPB3FT8LJeayo7vF8XhVgqRUFfIQQQuRg63LjqYE4rUXooTw1wxIiNypLhBCtoQBLQlJ2TFGnl3jo4k2ItKiMEW9EARYhMjFeZGhQMbGkZJaQY4iCVhqEWkkn0QavCrDoAkf4UKVKCJEbXYacV7wxoIV626sCLELExjRRzAkhRFnG4MibOjgowCLEBV5URxDidbyx2eSNv1lqFGARQgghoIaTHLxpWiIKsAghhBAiKbFvDWohGKYAixBCiCS02lmhhYu3N+IL0piKu8QowNIoFecpQggxQwEL8UYUYGmMNz2BQQghhGgVBViEEEIIkZTY0zRo4SYOBViEuEALhZsQQohyKMCSEN3N83w0Fo4QQggfCrA0hi7o6kDBMyGeyxurWbnqNG+6hlGARQghhIAeIpKSNx5bCrAIIcSLeVGHAiGyogCLEEKIJOS4HeSFHSOaRIs9E1FJWbdQq9M9dPzUxVjpelHdKxs15HVvuqhqlRryiaehAEtjqKJSFzofhBAiPy1UvRRgEa+mhUJKqHVNCDGnhTqBAiwVoF4Q7fKmR46JdJTMRlT9POUN5dnTzreaTxkFWIS4wJVKylgReEMlTohcpChOchRRqgY8n1cFWHSBI0SdjGWSiiZREt1NIGLyqgCLECOqRwmRHgUsRGlKZkEKsFSAetSUw0DBFvFsSuZvqtuIN6MAS0JSVmxUcRFCtIIaMepBlw75UIBFCFE9ukATQrTWsUABFiEyMQYJNC6FWKIsoS7eeD609pu1EGxRgEUIIURSGrgWyk5rAQ1xnmQB1rhx4xAREQGdTofz58/zbhMdHY2goCA0bdrU9JebmytVkqgHgfByp/KnCwchxBNIXZcZv9+bLr++Un1x//79MWnSJLRt29budnXr1rUZgBGiVhSkE09BjQRrdEyk403HVrIAq3379lJ9NSGEECI6ajdJR+xjK7SRq2RAp/gYrFu3bqFZs2Zo0aIFfvrpJ7vb5ufnIysry+yPEEKIOnlTbwUhliTrwRKiWbNmSExMREhICBITE9GjRw+UL18eAwYM4N1+zpw5mDFjhsypJIQQ4g7qGSJi4Ou1YiqeLVrRHqzg4GCEhIQAAKpVq4ZBgwbh8OHDNrefMmUKMjMzTX8JCQlyJVV1qGWoLC08IkwIIUQ5igZYycnJ4DgOAJCdnY3t27fj+eeft7l9QEAAgoODzf7UTIprsEoDdUIIIcQhua9hHrkW4ejRo1GtWjUkJiaie/fuqFWrFgBg5MiR2LZtGwAgMjISjRo1QpMmTdC6dWt069YNb7/9tlRJIoQQQogCxO5w0MJdBMnGYP3666+8ry9evNj07/fffx/vv/++VEkgRHJaKOSEEELkp/hThJ6Mbud5LpoHixDPRQ0nIgYKsDSGyj0hhBCt8qZrGAVYhBBCCJGUN3b6U4BFCCFEEnSrjVjypkCLAiyNonrLPWIdPxqLRdRODXWFlMWEiqA2qCEfyo0CLI2hyoR4ImOgSvmbECKEFhq3FGARr6aBMkrgna1fQoi2UYClAlqIxIn7jEECjUshlihLELl4yuVGC/UoBViEuEELhZwQ4hw5ijVVHeJQ83H0qgCLehCIWDylFUgIeYruJngeJc+pVwVYpAijCJMQIgM5Lm5S1GYUZxExUIAlAbUHMN9e5JROgqpQZao8Y5FRd8khzlJ5VUiIpCjAkpCUrTd3Kq59d6nWo6CKeAs15HW69UbEoLWA3RRgnTlzBn/99ZfpjfT0dIwaNQpt27bF9OnTwXHU6yEVuTONxvKopOhYEEK8CdV58jEFWB999BGOHDliemP8+PH4/fffUblyZXz77beYPXu2IgnUMq1F24QQQognUfI6bAqwrl69ipYtWwIAcnNzsWnTJnz33XfYtGkT5s6di1WrVimWSCIud/KbblEhhhzQi5YWQoSgO0yEkOK00H9hCrAeP36MkiVLAgCOHj2K/Px89O7dGwDQuHFjJCYmKpNCojqrb2oha8vDmSNhDBJoPAqx5OlZgnrz1U+uc+RN9Z8pwKpRowZ27twJAFizZg2aN2+OsmXLAgBSU1MRHBysTApFRBe4IlTZmXPlcHh7HiLEk8lRRXpbFeKN1x1f4z8+/vhjjBw5EkuWLMHDhw/NbglGR0ejcePGiiSQEEIIkYO3BT3FydVoFCvQ0sK5MgVYw4cPR61atXDq1Ck0a9YMnTp1Mm1Urlw5fPjhh4okkIhPLQ0Jxhj+e4HDqHo+KB+oheLylDe2xgghxFXe2OvvW/x/2rdvj/bt21ttNH36dLnSQ7zI3UfAZ6c4XH7IsKazr+MPEEJEJ2VbQWvtEK2ll6ib2VXNYDDgxIkTSExMRF5entmGOp0OQ4YMkTVxxDZ3KgK19L4Yk6FXSXoIIdLwxt4LIj6+fKTmy4cpwDp79iz69u2LhIQE3qVeKMBSB6qnCCGEaJXcwbYqFnseM2YMQkJCsH//fqSkpCA9Pd3s7+HDh8qlkohKzRE/IcR7MMYw97wBabnarpUOJHG48lDbv0FqarlzUsgx6Dl5EmPqwbpy5Qo2btyIDh06yLJjT6aSfEQIIaqW/BiYfIrDuQcM67todxxm5x0GAAAb5adwSryHq9fZUsv0qBUMXP239OfK1INVp04dZGVlSb5Db6LWcQcUAIqHjiUhrjOWn0KepW4ZY7iZqUwJU0tvCxFfIQdcy5BnX6YAa8GCBZgzZw5iYmLk2TNxCZV7dVBr8Gxp5Q1apJ1o07IbDLV/1+NGhny1nkaKtaZ5U/Bq6pN9//33ce/ePTRs2BBVq1ZFaGio2YY6nQ4XLlyQPYFEfN6Uwb3d0IMGdKqqQ/XSdOkg2nIlvaiiSstjqEOhj+ZppVEqJlOA1bx5c+i88QgQ4uH01Inlkf68w6GUH9Chio/jjV3AMYblNxiG1tahhI9r1wZqyxFL3hRmmAKs5cuXK5gMAgBH7zFElGaoVNJxDnSnF0rsSi+rgCG7EHi2lHZKjljHQDu/mHgKxhgMDOi52ziw2n6A5Wpe3xzLMOKQAf4+JfCf2u7ldCnLCZVBcdCdDfHxlszc3FwkJycjNzdX7vR4tQknOLT7Q293GzVWJs9v1qPaWvvpJsQeY6tWjflbbb69yMFvifTl7ZHe+F/vu/J6Uy+LXMQO4LRwiswCrO3bt6NFixYoU6YMqlWrhjJlyqBFixb4888/lUqfVyhemG9lK5cOV93WYJqNtFBICd1qKm5zHB0NQrTAFGBFRUWhd+/e8Pf3x/z587F27VrMmzcPAQEB6NWrF7Zu3apkOjWJulylEbi0EO22aa/HzJgdKF8QS0pmCWpkeBdPOd9aqEZNY7BmzJiBQYMGYfXq1WYbfPjhh/jPf/6D6dOno3fv3rInUEx0gSui9d+fbwCOpKjjR6gjFYQQrVFb3UG3RcVn6sGKiYnBW2+9xbvRkCFDaH4sIpqvzhrQVoM9UMVRXUQ8hZQXenfKiRwNwchYjrc3XOuNUG+i5nNlCrDKli2L69ev8250/fp1lC1bVrZEeTNXM0t2gfAPKp0fp53hcFQlPVAABUuEqMWjQobzD+SrG949YjDrDae6QDre2ENmCrDefPNNfPbZZ1i8eDEyMormkc/MzMTixYvxxRdfYODAgYolkjj2n2iD0kkghMhAS9cpZ0OloQcNeH5zUY+SN16QPZmae5qkYhqDNWfOHMTHx+Odd97B6NGj4evrC71eD8YY+vbti6+//lrJdGqKHBnJchcxTiwn4YX5nBCPocXyKzRYuvTQ+V+nxeNBXKO1IM0UYAUEBCAyMhKXLl3C4cOHkZ6ejrJly6Jt27Zo1KiRkmnULClaYNSqI57IWHGKVX9el3H9OkII4eNr+UKjRo0ooFKQowBKjAjele/IKmD4LcZz1lyhONWz1dtoPXC55y49aofo8F2bEgqkSDmU14WjsJyIyffs2bOCN27WrJmESfFeWuj2/PI0hx+ueE6AZaSBQ+82b/iNQvyZwIAE5nUBlqcpMDA81gOhARQ6uoLqA/n4tmjRwuFGjDHodDoYDOodSF1gKFqfK8hX24VOrcFWnnpPvSJUepo046+7HNpW1iGghLDyqu1SLS5vPxb99hmw/Q4DG+WndFI8ilzXHrHyrxbqYN/9+/crnQZRNN+ix+V0UKEjslJrQKxmyY8Zuv5pwMTGPvh/rag3CVBX0LTjDofD9xjqhwpLVUwGw7V0hjees7/otFi235G+0Lmzh2MpHM4/YBjTgPJ2cc4c0w23OLSrrEPVUmoqGc7z7dChg9JpEMXldKVTQLTKlcrUlWJv/IytcXb5BgYfHeDnI02lsu8uh8wCoJ9MF0Jb8p4Mj0p8pL3o9M2/9NBzQGQ3q+GrspH6qL22u6i7enkHYQFCg416MABslO18pZWGiBgl78VtRcfPUYCl7dDBdUKywsD9BjQvr8PpN2yXMy0cP+VqCQU4usB5C43UdV4ncKkeDZ8BLvUXtxfWmN27/VlU8du7EBL7fr9NpccSHREihLOX3fT8opx1Oo1Der746ZGD75kzZ9C8eXOUKVMGOgeRR1ZWlkzJIsQ7udIT+6iQoZSfl7caiOicXbuVYwxV1+ixqmMJdKvm49RnCbGlRZR2BwD7VqlSBQAwYcIEhwEWUQ+56y1G7VRJHL3H4c8EhtktXB+v8TAfKEVDD72GWmvpfAOQkgv89wJnCrCM6NIin5THDJVKqu+Apxcos18lj4Rv1apVAQDTp09XMBlEKKqoPEvnHQYUcHArwPIkjAFx2QwRZSijK02JIRV01t2nd7EtLPV57rGrqCfKnd3wpVHNTX+7gzHi4uKwb98+PHz4UK70EEK82JLrHJ5br0dslpqrTXXpsUuPfIPrx4tu41kr9Lwp/zTHE7KlKcCaMGECxo8fb3pjy5YtqFu3Ll5++WXUrl0bZ86cUSSBWhAZy6FVlPXM0caKKzqJg25RIR7kqSPLiNVQWXjZgJrrC0X6NkKA29lF/72fr46yogU7ExiuevBT1BkK3Foafki74368ha0aQs8xpOWqo/4wBVhbtmzBCy+8YHrjs88+Q48ePXDx4kW0bNkSX3zxhSIJ1IL3jxpwMu3pCbU8tRtji16JzVbHSRcrFeOPc6YLoreS44zmFDJ02aFH8mN15B9C5GScNsKW0BXWjVt3HUz2vLJ2+8n1x+DhvXPj/uZQcbWwPGHgGB67ek9VAFOAlZycjLCwMADArVu3cP36dXzxxRdo2LAhxo0bh9OnT0uWCE9lvF9szNAlaACVxxDrTArJEgeTGfYnMSy97uE1IyFPPNYzzL+k7vxuvDOhldvZU04VHc+kx+J+76NChlQneoyEbulqHbv3rvB88/ZBA0otEz9ANzIFWCEhIUhNTQUA7N27F2XLlkXz5s0BAP7+/sjNzZUsEZ7O8OReoZBVQRxlPlvjJe4+ci5NzqJxGtLwxOOqW/T0tvGtLIbhB6WrwIg4fr9VFCwUcurIkJGxyqTDmTbwgSe9XDcy7aeVYwwZHnzLu+0felQS2GOkNutuSXteTAFW+/btMXXqVPzvf//D3Llz0adPH9NG169fN/VuEecZx58KXHbNJY8UyN+WP+fuI4aTqeppdWYWMOgWFeLoPenSpIU+SSWr9o+PG7DshvMp8MTAUw5bYjlceOD8wVvypHc0T0A98v5Rg1kQbY+zKdHiaXeU5q/PcXhmpR4GlQSvYjv/wLXPMQeF3BOOlinAWrBgASpXrozJkycjLCwMs2fPNm20atUqtGvXTpEEegJjuXJ1BRSOMZRZXogdd54GCmJdgP5OKWq53rcYgN84shCD9zsXtf1rkx6ttqpncOjtJ/PiruVppXhC4VWDd4+o53wfSubw+y31BPhK6LvPgKabzcutM3ldyLb/u+r8MXZU9W2Ok65EnkrjzOpOsQitzvfeLfptas+ZWlvsWQtMS+U8++yzsLXw8+7duxEYGChborRGaLeyq0OwDAzIKQS+ucCJMldJ8XJk7Ir/J5OhfODTL7/0ELj0kGFtZ+Hfmynz0z6P9QwlfbVdXLU+LE+sJ7xcOQ7x2QxjjhqwpVsJBJTQocP2omBvQE1aCkgOukWFyBuu/tXWWkZJu0QUNdaUIbTKUPL88Oa4xMREnDp1ComJiQCA4OBg+Pv7y5owb1L84qLW6y3fBVDptHbd4X7viSu/4cIDhs1xam+Peha+SvKbi5zHT1HAR4qg3NXvfCzy0ARjMt6KVk/PqC18h8zRbS81ULre9iZmAdZvv/2G8PBwhIeHo3Xr1ggPD0f16tXx66+/KpU+r2OveKqt6CqdnmOpwlLgbJ3nqJJsullveiLHqe/lSY8G6mMiA6du44mcZ4oHV5Qd3bPyH/GfpiPaZQqw5syZg3fffRcdO3ZEVFQUjh07hqioKHTq1Aljx47FnDlzlEynKJxdvFQtxGhxLIlxr8dF6mNm4IoGpC+/IV7PkNZvv1lafZPTRAtZDJ78KxtuUt/kvB5WVFzmSvEq/pnTaZ6cc9VF6ukexGAKsBYuXIhPPvkEK1aswOuvv46WLVvi9ddfx8qVK/Hxxx9j4cKFCibTu0gx8dl3l8Xvchcz4xY8iatWiBhgycHdM+VMEBiTAexPcj9vbLptfYwTcxjmXVT/bRk+zbbocTVdOxe2KzLc0uy9x7V7d8739tp/X22B27qbHA4mi1PHqLUB5yVtMFFIfQ5NAVZWVha6du3Ku9HLL7+M7Gz1Ttk9/m/nLgzHBd5aEkrsc1RqmR6PCnmefBMp2UoVwA+OGvDf8+q7iDtz/rILlK29XBnzYvn7NvAEWP+JNmDiCQ6cRmvnZRoLzN0h5KKwLd6586jWYEFsgw8Y0HG7dR109n7R8XLlODhbYq6mF/XWx0p0SW3Bs2ybJ1NzlWUKsLp37459+/bxbrR371507uzE42Qyc7Zy3XBb+TMy7m8DxtkJDItfSD2l7vvxKufS2CV3iXm273nofLvGxW2L57XzD5iqb0nKubbnjjscRh9+Wl7fcLGHqLj7eQwSrtLhEsbzb3tZwOUnozmGoKWF2JWgjgPQfIvz59PVevmvJzON/50iTV2olTrKlTMvdnUkdfVmesZ25MiRGD16NFJTU9GnTx9UrFgRqamp2LJlC/bv349ff/0VZ8+eNX2wWbNm0qZMQfceFy1LMqWpD3QCapCnFRETtD0ALLxSVLh+eLGE4HTxVX7FnU7j8O4RDsd7l4Cvq5NuOUGns5EQBSTkMJT2A54JePq7PSUwVcrzm/X4pa0PRtcXnkfFIuTcydlQslwPL8rJHiI+FVYp19OQVWwYmDsXGUeftfX2Yz2QZwAWSDB0QW7OHr8ST7o1DDLXnaccjA/zll5MOZkCrJ49ewIAVqxYgRUrVkCn05m1Xl977TUAT4MIg0H7BcOW0UcM2BbPMLq+D8oJmP4r+cnaTkuuM4ysp3PyiSAnu/LtvDfjLIcz9xkyC2BKd1ou84qCE7ZOjyolgaT/81M6KbILW6dH0v/5okpJ8U+0cbLWx3qGRW4+KOEMp2cAV0mg7447OQyx2Qwdqtifr0mK32rMOVIdR0+sglz9TcYVPeQOsNTm4kP778tRpqXuJDAFWAcOHJBuLxqjd/E6Ep9jfqaEFMBPTzq3M2fzgnFV8YbP2N9ufxJDm0ri7ddV0U/W9zqRyqH1VgNuDPBF7RBhVVmyjUVMPeHi60hMBpMkwDJ2hH59jsPs8+IHWAaOIT5H9K/VpCaRemQUSDchprOMual4A82ZRX29hbNHpMSTA2rwnmGDvNr9wd+DO/2M53TemAKsDh06KJkOr7XhNoc3IqwrVL5CK1bVxvc9X5zm8Pnz8t8KsuXQk0Dr4kMmOMAi4jMGWLkS1Xlfn+cw9QyHFR3cy3ue0Etrb1b8nEKGRpv0+PMVX0V/6/hj4mQEYx2k5dPm6nkw9mA5Gn/HGMOqfxgG1tTBX8qFbFVm5jnPiTytruzXrl3DqlWr8PXXX+PevXsAgJs3b6r6KUJC+BirpIwCZrXQqumWiIvfKRY5qk13AnOdxX/FZnx6S4qpSRy5lwsMi9bGE1eXHjLE5QC/uXCbVsxzJ/VtLU8IlB0ReovwWCrD0IMGLLgkT8ChtrUIHeUFLdyZMAVYjx8/xuDBg9GwYUMMHz4cX375JZKSkgAAU6ZMwcyZMxVLpFLcPX9CP6+FjCI1W2UpI9/9795wm2GySE8vWp4qd8+dEqfemX0ae7DUfuFz9TysKDbztoFjuPdY3YXxZpa606e08w8YopPU2QPS4smTiqZB7naSWcgxvLStqLcwS+R5aS1zUL63DwaTkCnAmjhxIvbv34+dO3ciKyvLbPB1jx49sGvXLkUSqAS1XUuMZ0KsciDW75PjOI087PotieKHa1eCOitdezjGZJ+XyjKPHU0pekHuUUE77jg/nlGoLbH8eeGL0xyqrFF3j9b2O9LkB1d7dNXm+c16dHqyRulPVw0YeUj68yn0mF14MqjbV0APVpZIi6gL8d5Recc8idXxoPZGH1Cs3ty0aRPmzp2Ll19+2Wph54iICMTFxcmdNsWotZI5IfIEqcSxu48YskSeXFRoxdA4Uo/QFfJe8CccNw8+jDPHy12ZSTkOY9sd/u8+mKxc+VLLtSI22/4xEBrvc4zh24sG5D7JvkLPppjtifeOclhyXbyntN3ZtjjjLUKlmnxHUxjyit2SdzR9g6v0HF2vTAFWTk4OqlSpwrvRo0ePZEuQlJwtEEpWemJ3XFyWYXkOtRF6/uwd6mpr9WjmwiSEQhnTeCrNurq9kg5ky7xs3Q9X+Kt9V8uClupYGaaOs+lahoPApti/r/AsC3SSJ/84wxhAv7KTvzfjr7ucUw2N6CSGT048ffJ0oY18VdypNA4P3RgS8Eihzkdn62o19Lz8dFXa8C4xh8FviR5/xLu+n7gcQLfIcQUYtEy9vc6mAKtx48aIjIzk3WjHjh144YUXZEuUlhRvCexMYPjTonXMGDON8/jlGodckQbzCinUr+7kz3hiXfPUUFHI4VbW03+L8ZP33WUYftD83Fx8IMIXS8jVc52vwBPXxoHzzlIywPr3X8IPVCbP7aNz98VJh60gpeufBow8ZD+NxY96ocV1Nc5BzxgAtIwyIC3P4WY2GW9nSyG7wLpuF6v+23PXwQSg4uzGjOX5EZtxyqJoBXuFjVSx2POXX36JJUuWYMiQIdixYwd0Oh1OnjyJTz75BEuXLsXnn3+uYDLd12hTIT496VxtLyRrrLn5dKsz9xl6Wsz4fLVYz9H3lznMOW8ZgDmVJKcyy65E5TO3N8rVMyy8bLA7ieyyG0Xv8W1xXKIlNJSgxPhZy2VPLC+MtigZYClNyBisBBFvZGitZnr3iAE9dxtQQAPCBZFqnUU53BbxQRJTgNWzZ0+sX78eR44cQZ8+fcAYw9ixY7FhwwasWbMGXbp0EW2nSricDsETGtqqZ/vvs27eOaq6Ld9Xqhvb28nZ2/bNBQ7jjnH428UWdZttBvxy1fWuHyG9BZYcDih1MS3uXI/23eWw+h/rEnYylcMMJyYjHCCwd0gd03vyr+4gZva97uB2pD2W5cjdS5FWesGTnkxiLOX8hLa48v15TtwpkeIUDIm2Xebc2Z/U+eVEKofnN4t3kTarU/r374/Y2FjExMTgyJEjuHr1Ku7cuYP+/fuLtkOtSS722HZkLLVetKR4YXR3TFvSI4acQmFfYlyou3gdd8PGRc1WfTHmqOu9WFKM23I5wHKjM67bnwbeirrTDgOmn7XoCbbzPUJPvWUP1tY4Di2j5G8RzZN43qNvLwoLOPnGz7lajmx9zN3r5Z0c+evkW1kMukWFuPBAmn3/97zB9HAJUDQZL1/j3p6gZXrcl2gx9GMpHLbGKdPLnijy+bbMf3dEXlWCt9FWp04dvPjii6hXr564e9OgKBcyEs1rJcxxkZ6KzMiX/oA/u1aPMsv1OODCmIJdCRzqbtTj8D3p05may9A4UvygwNWWoxruqAgtj5a/cdwxg2RPWNlzlCefyJWK4sdq6XXpLqLG/bj7u/rulX+Q3+knecK42LjY9f2UU5xVr2tkLMPBZM6pACMtV9h2zib/xW0G9BF43PmOTYGNbGU5GTSf4vMZOjruHbcrf7tILb3iotlsY44bZ4g2CFyk7xFKaKXlSoXA9xl3f5/QWzeOvH1Q3ErW3rIw77gwL9etJ/f07bW2xer6TuQZJyPkqx3tX+k7Oe48G+KoRjCO0fK4ylAgZuPf6QKeGiyeL4rXEbY+madn+Cfz6bvuBidiPTTkjr775AnyOm434AUJe1SlvP2WXqwRbJzYNMeip913iR6XH4p3Po3Trtj6xi9OGSRvuHhcndJPpswuh2dWFKLXbvMCJeWTMvYsvaF8RWZLko1FnotzpvJ4X+aJ9wDxWsFSLVnmauV7TKReSsvK2JK942f5nuVPMT6YYnmL0NEqAmkWCx/POW/AAZXOIu4I3/k1NdjsHNvfb/P/XlsP2Iw6bECd3/Wm/Sk5Bisum+GRxNOgNI0sxCERe65TBKKGjk0AAB+KSURBVPZKuSI9Hxh7RJq6b0SxJ1DtHY1LTgRYQup9e6RYvN6SZAHWuHHjEBERAZ1Oh/Pnz9vcbsmSJahduzZq1qyJUaNGobBQ5ol/eDxWvmcRQNHir384MXOzqdKSKD1a4+pxuJEpfNtVNxmyn7T0DRzDD5cNgntbDieLX8CVWhP2WAqHu4/UGYQLnYvLMsBytETJwP3mF6PPTnHovMNzGnh8LA8l31jBh/kM31/mz9unXZxCQwzJFssgPbdeL9ki5kDR1A7G2duNfr1mQP8nnQByDCWJEfBAQ/Fs//M1cesk4zXpgRvTb9gixlhTqatLyQKs/v3748iRIwgPD7e5TWxsLL788kscPnwYN2/eREpKCn777TepkiTItXQm69wdtlpwDm/zubHPrEKGByIMgLSXOfMN1gssS8WVVrCYKTO2UDfFMnx4jMPqm/yVlOXhmHhC/ACLb6oBOe6ivLjN4NbYL3vnUMhaafY+7+ogd0ekGkQsNmdSKcb8SPa+w7hMjBLjVD87JW/wG8yzCsNyie4E2KrPl0k4jk4IvvMclw2nngLWMt4AizGGpKQk6PWuV5jt27dHtWrV7G6zadMm9OrVC5UrV4ZOp8O7776LdevWubxPMdzINM8RUke4SlQ0NzKB8qvc76azlfS3D+oRuFSP/9h5VNcey1svzhD6pJ8U8p78XFuTa46182SgWLdK+IKEdn/I0yXrzizc9vwR7/ic2itHloGtrcksnQ2wtBFeCSPkpx9PZdC7eb32NS50zITvl9g34biBtz53ewoNAbOou+KvJGb1FLAzIp0YZ51dwOz2dNkacC8WswBr9+7daN26NQIDAxEWFoaLFy8CAN555x2sWbNG9J3fuXPHrIcrIiICd+7csbl9fn4+srKyzP7cEZ3E2Z31Wa7gx9HFVWsVubGVtv4Ww8obHBKcfLTW0XgbS8UPn61bE0I+6y5XHtsW+wLD931SjtuQg5BZzh1N0zD+2NPvsNXD4mx3fkou8FgFg6ydxdexnCswBo+yE+wKORK+Tyo7dwM1tfrRzSVo0l14InpxjDIH859MJnjKDzH132ewO7zidrFJTl/dpWxPmalOWbduHXr06IHnnnsOP/30Ezju6Q+oWbMmli1bJnli7M18DQBz5sxBSEiI6a969eq8280TeNI77TBYzfqsRi//yf97uuwQN+2r/uHAWZyDXD2zes1ISHAw9KABr+12nM7iQea3lzhMOvk0/+UUMgz8S49MAU81Fb94NHLxlpWrl8wFTgZ37uzLHd44jYiQwNvZXsTUXKCrBsdcWY7rvJHJv1yLswPR7TWMjMtNGXuwpF6qRSpfuzkwuvjUNHzFsKIIdxakklnA8OLWp+mr87sen0gwzEGI9tv5y922eM7sGiDWQzauMgVYM2fOxPjx47Fu3ToMGzbMbKN//etfuHz5sug7DwsLQ3x8vOn/4+PjERYWZnP7KVOmIDMz0/SXkJDAu50UY1uUZGtMWPHJ6MTwVrQBG2+bf2fJZXpMOene8XS2R8pyIdLIWIYNtxnW2hjbpPRtBsuARcoAZomdMRXDD+pRb6P8FfTOBM8ob7by0aQTtoOoY6kMsU8mnpTCnRwGn0WFiHew9IgzWc6d9f7sEVIOjWOwnO34K+SY1ZyEziw+LZav3Li1ZekAT/2t5g7RfXeZoIBFzKVmnGW5SoHS1wZTgHX79m306NGDd6NSpUohM9OJR6sE6tevH7Zt24Z79+6BMYZffvkFAwcOtLl9QEAAgoODzf7EUHyiyuKtNZ3Oduvt3H3mcIJLW+866qmz91kxvX1Qj/kWs0bzBUNRbqyILkRarnTjdxwRc301Z7ky7mqrnVs0yxSaSqOHwt3wgDgVqa3z8f8u2s//WySc1XpvIgMDsDtR/iD2ypN1VFNFvMVsHOfm7PMv/z3P4Y29BrN5ksYqMJ2KmIpPuaNkUCKmjbc51Nyg3l44e4ZG6/GXg4W3nWUKsCpXroyYmBjejS5evGj3aUA+o0ePRrVq1ZCYmIju3bujVq1aAICRI0di27ZtAIAaNWpgxowZeOmll1CrVi1UqFABo0ePdvW3mOm3Vy+4VWmvVWIZC/3xJNhotkWP1x0s/plvsC44jAELJF4KQyh3n2hxJkA4es/2bz6QzFB1jTRPoAlh66k/OSjdwhJK7bcVnUme2Md8ggp6zKXMR1PPiPf7jGV17gXnvtMY5OUWq2/defT/ZKr1/pcoNJYJABpsUq7+s4cx20NE+FxNV1dF4cxKEiv/YfhV5Dzga/zH4MGDMX36dNSrVw8dO3YEAOh0Oly+fBnffPMNxowZ49QX//rrr7yvL1682Oz/R40ahVGjRjmZbMc2xwk/sra6ZfnyVa89BrBRRXHpkRSGI3Ym/ryZBd4lBZSaLFRMR+wETHycmUDOGQ8FPipvb1DtfTdvmcg9WWL4ukLED/Jz6jPn7QzA77JD7/LC1HL75oJBNfPUuUNIL7bWOPOLflMwmAGAVlut6+WRhw3o95zjwrz2lvhpt/XksTvEyGKtthpw4QFD/gjn6htSxNSDNX36dLz44ovo1q0bKleuDAB49dVX0aRJE7zwwguYPHmyYol0R6yArtfiUa4YmdJyAsLihK5G76iY833OeOGZfU76yqvdH/Jd6IzHgu83T7QYH2OrtX0tQ9w0FWcrz3S0MRCzOFcmOuRbkNTRBJf2VogXeyyfI+88mS1ayCSIlj61MR5Qa+GKswvHr/hHa79QGKnaJmKOiUt+bD434jYB04bIyZVr1oUnDd6HeQwxdkb/nEpjkk9lIJf9d+X/IaYeLH9/f2zduhUHDhzA3r17cf/+fZQtWxZdu3ZF165dZU+YWK5mMDwXbL8YG0Q+7lsc9J4JKQ8nXHj6wXihXHCZw/w2JZz+PKD+x85rrjevONU4BYHQI6jU7UEllyfZdJvDvifjHM4/ACJKi/O9lrN0u0LOwxLv5NQl3s7d6Q/c8Y2TtzPlkPKYYe9dhv/Udm2u8HW3GNZ2Bl7cppek98xIrlye9IjZXesVKBq/2q4K/zauTI8hhK/lC506dUKnTp0k2ZmaFJ/5liuWDSwvPkpdjISuVi62ccc4fNDQteDMltvZ4t0SuG3xNJUUxcLdXkxXevbUPBbrsZ5h+x1xzp+QOa1c8fttdQYsuz3kCUtnZBXwv570iHnE7V01GLjfgOhk+wGWkGvXdfGfXeMltHS6Woqbb9HjXi7wTUv7AWfbbfz1T9mV0mRMqwArKSkJiYmJyMuzHpjSvn17SRIhpUIO+J3nnvlz65Ur6cXzfaKCT7HJ6dwDab73sV59wUnxW86HJFhv0F3OBpATj3OSnT9P94oKnrCUm60nc59dq2x0dfmh4220MjQu48kUFUtiOJuB1L826TGpsWSr4anKPQF3Mgo44GSavCfYFGDdvn0bQ4YMwfHjxwFYD8LU6XQwGLRXWcy/xOEwz2rmYiwU6So5TrGYXZ5KVzrGCoQvHQeTGV6qJCzEKv5Ep70pDcTsteyw3YAfX+Sv5JiNf8tl310Ozco5/rFi3H4j5gTfRnYiLyo9cN6VvbtT1piT+1RyoWmpjDxsQIi/7feX/yNfA6/BxkK8WcO8rtNZ/NcRd6tee/npF5EXshbCFGCNGjUKiYmJWLp0KRo0aAB/fztnTUMeSnRvVe0aKDDhpFKEFsppKl5gdMQh+dPW7U8DOlVRtv8vS4GGjqsPlijBmZjJcoZ2LRDSq2TL7kTt/V4p2MsjYs1hlqdnKHBQRYnxINHgA+qto11hCrBOnjyJFStWoG/fvkqmR3RCKqji21hWsjqeajdinYLdXwIJ6TLVih0ijf+RyrFUhtecmyYOgDou6AmPlJ30Vu4nGAF1HHcp2HrgQ82/V23P1Cj5AIir5GikFHLAkGjHwY/lhNEqO72yM/XnPfvssyhRQtzBzVqTp2dIL5ZBKq7m7wWK53lM3h1K34JTuw0OBjArXSk6Wp9slgzTZjgrW4FlRuxJk7FBoHR+AZy4ZaKCtHq771xYY9QVvQSs2aokIZN2/nBF2bpObddSU4A1e/Zs/Pe//8XDh2702WqUsRLrvtOAoQc9q4tSDJ4yD4qU9HbW/lBjb6IzT/PJcY13ZaFsV6mhElZBEojKaPEWL7HPdItw+fLlSExMREREBJo2bYrQ0FCzDXU6HbZu3Sp7At3lTJY9xDMYfsNtdUYXcl4kxO6xE5vQAGBHgnQHTY3zcdnyT9bTnlohR4SqffUrmmpG2e6uf+/TfuNUDcG3XNJyPe/HzlPJMnRGpgArJyfHtF4gAGRnO1i+3YPYK1RKjBEhzuELjPmkK7SgtC1KXQ4vPQSqlVJo50QSi2IYWlRQNg1yLAG2R8aB7XqOwdfHc+/Rjj8mPCAOWaHu25dGamvomgKsAwcOKJkOyQiZjkHOye+8qYUktgwbExgSQmxTV5vePQdkbPDuuMPQO8JzAyxnHjCgy5ZrPH4WMiETeZ6zsxAuUQ85K1dvYfnUj1LUkg612HCLg25RodmKE65yZdktb7W52DJndoZVKioqzpNCZs/mm5KSgkqVKmH+/Pl2N9TpdPjoo49kSpZno14s13jaYbsncAyElIGl2m6bkiJR8UUX0Uk2Frd2hloDBeKaIdEG1CyjdCqEic1m0C0qxLNeOiTBNz4+HpUqVcLEiRPtbujJAZac9Q89dk2MYgUOc1TbwE1PpZayqZZ0EOIu4xjmu16yJJwl35YtWwIAOI4qcaXczKImphBy9fxpoYcxV20zND7Rd6/6B8PyBTAXVTRMgDEgX8QH8tTzy7RFzcdNK0G4mo+hHDx+DJYQSufVPyWcPoB4pnZ/qPOR+C1x6s/LfAF0iyh5A0NHQfy9x+J/pyegB120Relrq9J8i/+PwWDAiRMnkJiYiLy8PKuN33rrLdkSRuzzgrqU2HHGAxeuVZJKOwSJBTnzvbcHB2Lw9mNoCrDOnj2Lvn37IiEhgXdVdp1O57EBFtWtpLgbmZQjivOWo6H1i4FWbhsRdcigB1wkZwqwxowZg5CQEKxYsQINGjSAv7+/kukixIpcF/oHVPEQiVEwpH6e3rDYc1f6X+jpx9ARU4B15coVbNy4ER06dFAyPYQQlfG0WCA6Wflq3xvGSxEiZKJvT2Ya5F6nTh1kZWUpmRZCiAp5WiyQp87nAwghHsYUYC1YsABz5sxBTEyMkulRBLUmCfFuHKPbdoQQcfk2btzY9D/Jyclo2LAhqlatitDQULMNdTodLly4IHf6CCEKO0dPLBKiGtQhoB2+zZs3VzoNXoUKB9GaBC+ZhVnOsknVACGez3fZsmVKp4G4wBsDNTX/5Jf/VP8M5kQ76HYlsUWn8876X4toJncFUNnwPFczlE4BcZecQc3JNKoFCPF0pgBrxIgRGDBgAO9GgwYNwjvvvCNbogjhQ6024ikiY21nZuqhUAc6BcRdpgBrz5496NevH+9Gffv2xe7du2VLlCfT6cSZV+jvFCr+hJCnKCjzHnQLWRtMAVZaWhoqVKjAu1G5cuWQkpIiW6I8nRj14PY7nAjfQghRGwqU1IFiGOIuU4D17LPP4sSJE7wbnThxAlWqVJEtUcQxCq8IERddUAkhYjIFWIMGDcLs2bPx+++/m22wceNGfP311xg8eLDsiZPL9UylU+C85Te8r5nrfb+YEOHotpG4qL4h7jIFWFOnTkXHjh0xcOBAlClTBnXq1EGZMmUwcOBAdOjQAdOmTVMynYQQogmXHtKlmRBSbLFnf39/bN++HXv37sX+/fvx4MEDlCtXDl27dkWXLl2UTCMhAOgWDtGGllHuz4lGvVGEaJ+v5QvdunVDt27dlEgLIXZRvwDRAj0NkCSEgCfAAoDHjx8jLy/P6vWyZctKniBCCFGCWjqNYrMZHuQrnQqilvxgiZ4y1Q5TgMUYw+zZs/HLL78gOTmZd2ODwSBbwgghxBtdeKh0CghAPebEfaZB7gsWLMC8efPw3nvvgTGGzz//HFOnTkWdOnUQERGBRYsWKZlOj0GtD9cdvkcHjxAin1obCpVOghWa6V87TAHWkiVLMGPGDEyaNAkA0KdPH0ybNg1XrlxB/fr1cfPmTcUS6WmobBBCiPrdylI6BUTLTAFWXFwcmjZtihIlSsDPzw8ZGUWr1/r4+GDs2LFYvny5UmkkhBBCCNEUU4BVrlw55OTkAADCwsJw9uxZ00b379/H48eP5U+dh1Lr4ElCiHbRbSNC1MU0yP2ll17CqVOn0KNHDwwePBjTp0/HvXv34Ofnh0WLFtFcWCKiepAQQoiraJ40bTAFWNOnT8fdu3cBAJ999hkyMjKwbt065Obmolu3bli4cKFiifQkVDAI8WzUgCKEAMUCrLp166Ju3boAgICAAHz//ff4/vvvFUsYIUQ6FOdb03rj53Y2hXaEqImP400IIYQIZVAozpl7gaaQFxONaSPu8h0+fLigDXU6HZYsWSJxcpQTGUuVE/EedO0gRLseWC+0QlTINzIyEjVr1gRzEK7rtN5/7kD/fTRLPSGEkCJqveQxBiQ8UjoVRAjfnJwcGAwGDB48GAMHDkR4eLjSafJ41PVMiPpsjaeCSQgRj09sbCz+7//+D+vWrUONGjXQtm1b/PTTT7h//77SaSOEENnkqG9VFKIgaggTd/mEhYVh0qRJOH/+PC5fvoxOnTrhu+++Q9WqVfHqq69i586dSqfRo8y/xKl+/IueU3sKCSHEO6n11iWxZvYUYf369TFz5kxcvHgR48ePx969e2mRZwncyFR3ALPihrrTRwghhKidaR4sg8GAPXv2YP369YiKioKfnx9GjBiBkSNHKpk+ooA8pZ4zJ4QQQjyE76FDh7Bu3Tps3LgR+fn56N27N9auXYvu3bvD19fX8TcQQgghHkat7cz/3979h8RdP3Acf11e2Ip05NLJvNNt561Cu9uti2WFK5B+sFYwqgVjuVraH9E3+mctiE2+kIOi+BbUDJZ/JMhqFoyiP4xRE/ojRxNBGDvd2H0WN+2r7Nz6bk659/cPv33IeV9d+v6kl88HHOzu/bmPb/HDe0/vPn6OcwVzh/+RRx7RY489po8//lhPPPGEbrrppoWeEwAAC2rbUS7dg/nxZzIZdXZ26rvvvptxQ5/Pp3Q6/RdNC4CXOE8WALzlf/PNNxd6DkvOKToVAIC/Nf/evXsXeg4A/mJcCRoAvMWHPQMAAFhGYAEAAFhGYAEAAFhGYAEAAFhGYAEAAFhGYAEAAFhGYAEAAFhGYAEAAFhGYAEAAFhGYAEAAFhGYGEaH58EDADAvBBYmMaYhZ4BAAC5jcACAACwjMACAACwjMACAACwjMAClpii/IWeAQD8/RFYwBJzA38lCgCeI7AAAAAsI7CAJYarcACA9wgsTMOFRgEAmB9PAyuRSKimpkbhcFjxeFx9fX3Ttvn++++1bNkyRaNR93b58mUvp4VZnP/PQs8AAIDc5vdy542NjWpoaFB9fb0OHz6s+vp6dXd3T9tu3bp16unp8XIq+BP+eSKz0FMAACCnefYK1tDQkI4fP67t27dLkrZu3SrHcdTf3+/VlwRwHfgoJADwnmeB5TiOSktL5fdPvkjm8/kUDAaVTCanbTswMKBYLKZ4PK6PPvro/+5zbGxMo6OjU24AAACLjadvEV7LZPnVORaL6dy5cyosLNS5c+f0+OOPa8WKFXrmmWembdvc3Kympqa/YqoAAABz5tkrWIFAQKlUShMTE5Im48pxHAWDwSnbFRQUqLCwUJJUVlam5557Tl1dXVn3uWfPHqXTaffmOI5X0wcAAJgzzwKruLhYsVhMbW1tkqSOjg6VlZUpFApN2S6VSimTmTyp+uLFi/r666+1fv36rPvMz89XQUHBlBuAP4dTsADAe55epqGlpUUtLS0Kh8Pav3+/WltbJUm7du3SkSNHJE2GV3V1tSKRiDZu3Ki6ujrt3LnTy2kBAAB4ymeynRiVI0ZHRyffXvzXv6VlvJoFXI+ifGl4bKFnAQCL0OVR6R8rlE6n5/0uGVdyBwAAsIzAApaYnH3JGgByCIEFAABgGYEFAABgGYEFLDG8RQgA3iOwAAAALCOwAAAALCOwAAAALCOwgCUmdy8tDAC5g8ACAACwjMACAACwjMAClpgLVxd6BgDw90dgAQAAWEZgAQAAWEZgAQAAWEZgAQAAWEZgAQAAWEZgAQAAWEZgAQAAWEZgAQAAWEZgAQAAWEZgAQAAWEZgAQAAWEZgAQAAWEZgAQAAWEZgAQAAWEZgAQAAWEZgAQAAWEZgAQAAWEZgAQAAWEZgAQAAWEZgAQAAWEZgAQAAWEZgAQAAWEZgAQAAWEZgAQAAWEZgAQAAWEZgAQAAWEZgAQAAWEZgAQAAWEZgAQAAWEZgAQAAWEZgAQAAWEZgAQAAWEZgAQAAWEZgAQAAWEZgAQAAWEZgAQAAWEZgAQAAWEZgAQAAWEZgAQAAWEZgAQAAWEZgAQAAWEZgAQAAWEZgAQAAWEZgAQAAWEZgAQAAWEZgAQAAWEZgAQAAWEZgAQAAWEZgAQAAWEZgAQAAWEZgAQAAWEZgAQAAWEZgAQAAWEZgAQAAWEZgAQAAWEZgAQAAWEZgAQAAWEZgAQAAWEZgAQAAWEZgAQAAWEZgAQAAWEZgAQAAWEZgAQAAWEZgAQAAWEZgAQAAWEZgAQAAWOZpYCUSCdXU1CgcDisej6uvry/rdgcPHlRlZaXWrl2rl156SePj415OCwAAwFOeBlZjY6MaGhp06tQp7d69W/X19dO2OXPmjN566y11dXWpv79fg4OD+uSTT7ycFgAAgKc8C6yhoSEdP35c27dvlyRt3bpVjuOov79/ynaHDx/Wli1btHLlSvl8Pr388stqb2/3aloAAACe83u1Y8dxVFpaKr9/8kv4fD4Fg0Elk0mFQiF3u2QyqfLycvd+RUWFkslk1n2OjY1pbGzMvZ9Opyf/ceWiB98BAABYUv7XE8aYee/Ks8DK5nomPNM2zc3Nampqmj6we/V8pgUAAOAaHh5WYWHhvPbhWWAFAgGlUilNTEzI7/fLGCPHcRQMBqdsFwwGNTAw4N4/e/bstG1+t2fPHr3++uvu/Uwmo5GRERUVFcnn83nzjSDnjI6OKhAIyHEcFRQULPR0sAhwTCAbjgtcK51OKxgM6rbbbpv3vjwLrOLiYsViMbW1tam+vl4dHR0qKyub8vagNHlu1gMPPKB9+/appKREBw4c0LZt27LuMz8/X/n5+VMeW758uVffAnJcQUEBiyam4JhANhwXuNYNN8z/FHVP/4qwpaVFLS0tCofD2r9/v1pbWyVJu3bt0pEjRyRJa9asUVNTk+6//36FQiHdfvvtamxs9HJaAAAAnvIZG2dyAYvI6OioCgsLlU6n+a0UkjgmkB3HBa5l85jI27dv3z470wIWj7y8PG3atMn9K1aAYwLZcFzgWraOCV7BAgAAsIzPIgQAALCMwAIAALCMwAIAALCMwMKid+XKFT311FMKh8OKRCKqq6tzP9Ny06ZNWr16taLRqKLRqN5//333eUNDQ3r00UdVWVmpqqoqHTt27LrGkBsqKiq0bt0692d/6NAhSVIikVBNTY3C4bDi8bj6+vrc58x1DIvf8PCweyxEo1GFw2H5/X6NjIywTiwxr776qioqKuTz+dTT0+M+7sXaMOO6YYBF7vLly+abb74xmUzGGGPMhx9+aGpra40xxtTW1pqvvvoq6/N27txp9u7da4wx5qeffjKrVq0yV69enXUMuaG8vNycOHFi2uMPPfSQaW1tNcYY88UXX5h77rln3mPIPe+8847ZvHmzMYZ1Yqn54YcfjOM409YIL9aGmcYILOSc7u5uU15eboyZeeG85ZZbTCqVcu/H43HT2dk56xhyQ7bAGhwcNLfeeqsZHx83xhiTyWRMSUmJSSQScx5DbrrzzjvdtYF1Ymn64xrhxdow27rBW4TIOR988IGefPJJ9/4bb7yh6upqPfvsszp9+rSkybcLxsfHtXLlSne7iooKJZPJGceQW3bs2KHq6mq9+OKL+vXXX+U4jkpLS93r1/h8PgWDQSWTyTmPIff8+OOPGhkZ0ebNm93HWCeWNi/WhtnWDQILOeXtt99WIpFQc3OzJOmzzz7TyZMn1dvbqwcffHDKgnrtB4CbP1zybaYx5IZjx46pt7dXP//8s1asWKHnn38+63Yz/WznOobF7eDBg9qxY4f7Hx/rBLLxYm344xiBhZzx7rvv6ssvv9S3336rm2++WZIUCAQkTS6Er7zyik6fPq3h4WEVFRUpLy9P58+fd59/9uxZBYPBGceQO37/ed1444167bXX1NXVpUAgoFQqpYmJCUmTi53jOAoGg3MeQ265dOmSPv/8c73wwgvuY6wT8GJtmG3dILCQE9577z21t7ers7NTy5cvlyRNTExocHDQ3aajo0MlJSUqKiqSJD399NM6cOCAJKm7u1u//PKLamtrZx3D4vfbb7/pwoUL7v329natX79excXFisViamtrkzR5TJSVlSkUCs15DLnl0KFDikQiuuOOOySxTmCSF2vDrOuGt6eYAfPnOI6RZNasWWMikYiJRCLm3nvvNZcuXTIbNmwwVVVV5u677zYPP/yw6enpcZ93/vx5U1dXZ0KhkLnrrrvM0aNHr2sMi9/AwICJRqOmurraVFVVmS1btpgzZ84YY4w5efKk2bhxo6msrDQbNmwwvb297vPmOobccd9995lPP/3Uvc86sfQ0NDSYVatWmby8PFNcXGzWrl1rjPFmbZhpjM8iBAAAsIy3CAEAACz7L1JhEs39DvVCAAAAAElFTkSuQmCC\" />"
      ]
     },
     "execution_count": 2,
     "metadata": {},
     "output_type": "execute_result"
    }
   ],
   "source": [
    "#Checamos compatibilidad \n",
    "@time dnorm = errHam2D(10_000);\n",
    "plot(eachindex(dnorm), dnorm, title = \"Compatibility Hamiltonian vs Eqs of motion\")\n",
    "yaxis!(\"Machine epsilons\")"
   ]
  },
  {
   "cell_type": "code",
   "execution_count": 3,
   "metadata": {
    "collapsed": false
   },
   "outputs": [
    {
     "data": {
      "text/plain": [
       "4-element Array{Float64,1}:\n",
       " 1.6053\n",
       " 0.0   \n",
       " 0.0   \n",
       " 4.0   "
      ]
     },
     "execution_count": 3,
     "metadata": {},
     "output_type": "execute_result"
    }
   ],
   "source": [
    "#Esta es la condición inicial que se aproximó en 1D\n",
    "c2 = condini2D(2.577, 0.0, 0.0, 0.0, 0.0)\n",
    "c1 = condini1D(2.577,0.0)"
   ]
  },
  {
   "cell_type": "markdown",
   "metadata": {},
   "source": [
    "## Hacemos el comparativo de los integradores en 1D y 2D"
   ]
  },
  {
   "cell_type": "code",
   "execution_count": 4,
   "metadata": {
    "collapsed": false
   },
   "outputs": [
    {
     "name": "stderr",
     "output_type": "stream",
     "text": [
      "\u001b[1m\u001b[33mWARNING: \u001b[39m\u001b[22m\u001b[33mMaximum number of integration steps reached; exiting.\u001b[39m\n",
      "\u001b[1m\u001b[33mWARNING: \u001b[39m\u001b[22m"
     ]
    },
    {
     "name": "stdout",
     "output_type": "stream",
     "text": [
      "  3.042676 seconds (32.21 M allocations: 3.298 GiB, 20.99% gc time)\n"
     ]
    },
    {
     "name": "stderr",
     "output_type": "stream",
     "text": [
      "\u001b[33mMaximum number of integration steps reached; exiting.\u001b[39m\n"
     ]
    }
   ],
   "source": [
    "t2, x2 = taylorinteg(undrivenHelium2D!, c2, t0, 1.0, order, abs_tol, maxsteps=5)\n",
    "@time t2, x2 = taylorinteg(undrivenHelium2D!, c2, t0, 100.0, order, abs_tol, maxsteps = 5_000);"
   ]
  },
  {
   "cell_type": "code",
   "execution_count": 5,
   "metadata": {
    "collapsed": false
   },
   "outputs": [
    {
     "name": "stderr",
     "output_type": "stream",
     "text": [
      "\u001b[1m\u001b[33mWARNING: \u001b[39m\u001b[22m\u001b[33mMaximum number of integration steps reached; exiting.\u001b[39m\n",
      "\u001b[1m\u001b[33mWARNING: \u001b[39m\u001b[22m\u001b[33mMaximum number of integration steps reached; exiting.\u001b[39m\n"
     ]
    }
   ],
   "source": [
    "t1, x1 = taylorinteg(undrivenHelium1D!, c1, t0, 1.0, order, abs_tol, maxsteps=5)\n",
    "@time t1, x1 = taylorinteg(undrivenHelium1D!, c1, t0, 100.0, order, abs_tol, maxsteps = 5_000);"
   ]
  },
  {
   "cell_type": "code",
   "execution_count": 6,
   "metadata": {
    "collapsed": false
   },
   "outputs": [
    {
     "data": {
      "text/plain": [
       "(16.922700133915505, 16.922700133915068)"
      ]
     },
     "execution_count": 6,
     "metadata": {},
     "output_type": "execute_result"
    }
   ],
   "source": [
    "t1[end], t2[end]"
   ]
  },
  {
   "cell_type": "code",
   "execution_count": 7,
   "metadata": {
    "collapsed": false
   },
   "outputs": [
    {
     "data": {
      "text/plain": [
       "4-element Array{Float64,1}:\n",
       " 45.6067 \n",
       "  1.16784\n",
       " 35.193  \n",
       "  2.0694 "
      ]
     },
     "execution_count": 7,
     "metadata": {},
     "output_type": "execute_result"
    }
   ],
   "source": [
    "x1[end,:]"
   ]
  },
  {
   "cell_type": "code",
   "execution_count": 8,
   "metadata": {
    "collapsed": false
   },
   "outputs": [
    {
     "data": {
      "text/plain": [
       "8-element Array{Float64,1}:\n",
       " 45.6067 \n",
       "  0.0    \n",
       "  1.16784\n",
       "  0.0    \n",
       " 35.193  \n",
       "  0.0    \n",
       "  2.0694 \n",
       "  0.0    "
      ]
     },
     "execution_count": 8,
     "metadata": {},
     "output_type": "execute_result"
    }
   ],
   "source": [
    "x2[end,:]"
   ]
  },
  {
   "cell_type": "code",
   "execution_count": 9,
   "metadata": {
    "collapsed": false
   },
   "outputs": [
    {
     "data": {
      "text/plain": [
       "-2.9103830456733704e-11"
      ]
     },
     "execution_count": 9,
     "metadata": {},
     "output_type": "execute_result"
    }
   ],
   "source": [
    "regHam1D(x1[end,:])"
   ]
  },
  {
   "cell_type": "code",
   "execution_count": 10,
   "metadata": {
    "collapsed": false
   },
   "outputs": [
    {
     "data": {
      "text/plain": [
       "-3.637978807091713e-12"
      ]
     },
     "execution_count": 10,
     "metadata": {},
     "output_type": "execute_result"
    }
   ],
   "source": [
    "regHam2D(x2[end,:])"
   ]
  }
 ],
 "metadata": {
  "kernelspec": {
   "display_name": "Julia 0.6.0-rc3",
   "language": "julia",
   "name": "julia-0.6"
  },
  "language_info": {
   "file_extension": ".jl",
   "mimetype": "application/julia",
   "name": "julia",
   "version": "0.6.0"
  }
 },
 "nbformat": 4,
 "nbformat_minor": 0
}
