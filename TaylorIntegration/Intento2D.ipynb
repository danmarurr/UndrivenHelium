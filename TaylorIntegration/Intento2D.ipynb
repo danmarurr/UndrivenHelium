{
 "cells": [
  {
   "cell_type": "code",
   "execution_count": 1,
   "metadata": {
    "collapsed": false
   },
   "outputs": [
    {
     "data": {
      "text/plain": [
       "500000"
      ]
     },
     "execution_count": 1,
     "metadata": {},
     "output_type": "execute_result"
    }
   ],
   "source": [
    "using TaylorIntegration, TaylorSeries\n",
    "using Plots, LaTeXStrings\n",
    "# plotly()\n",
    "pyplot(grid = :false, legend = :false)\n",
    "const λ = 1.0\n",
    "const Z = 2.0\n",
    "const order = 30\n",
    "const t0 = 0.0\n",
    "const t_max = 0.5 \n",
    "const abs_tol = 1.0E-20\n",
    "const steps = 500000"
   ]
  },
  {
   "cell_type": "code",
   "execution_count": 2,
   "metadata": {
    "collapsed": false
   },
   "outputs": [
    {
     "data": {
      "text/plain": [
       "f (generic function with 2 methods)"
      ]
     },
     "execution_count": 2,
     "metadata": {},
     "output_type": "execute_result"
    }
   ],
   "source": [
    "#Regularización KS\n",
    "f(x, y) = [x^2 - y^2, 2x*y]\n",
    "f(v) = f(v...)"
   ]
  },
  {
   "cell_type": "code",
   "execution_count": 3,
   "metadata": {
    "collapsed": false
   },
   "outputs": [
    {
     "data": {
      "text/plain": [
       "undrivenHelium1D! (generic function with 1 method)"
      ]
     },
     "execution_count": 3,
     "metadata": {},
     "output_type": "execute_result"
    }
   ],
   "source": [
    "#Ecuaciones de movimiento 1D\n",
    "function undrivenHelium1D!(τ, q, dq)\n",
    "    Q₁, Q₂, P₁, P₂ = q\n",
    "    \n",
    "    t1 = Q₁^2\n",
    "    t2 = Q₂^2\n",
    "    t = t1 * t2\n",
    "    R12 = t1 - t2\n",
    "    aR12 = abs(R12)\n",
    "    RRR = aR12^3\n",
    "    c1 = R12/RRR\n",
    "    c2 = 1 + 1/aR12\n",
    "    #@show c2\n",
    "    dq[1] = 0.25*t2*P₁\n",
    "    dq[3] = 2*Q₁*(-0.125*P₂^2 + Z  - t2*c2  + t*c1)\n",
    "    dq[2] = 0.25*t1*P₂\n",
    "    dq[4] = 2*Q₂*(-0.125*P₁^2 + Z  - t1*c2 - t*c1)\n",
    "\n",
    "#    return [t, q₁, q₂, p₁, p₂] \n",
    "    nothing\n",
    "end"
   ]
  },
  {
   "cell_type": "code",
   "execution_count": 4,
   "metadata": {
    "collapsed": false
   },
   "outputs": [
    {
     "data": {
      "text/plain": [
       "regHam (generic function with 2 methods)"
      ]
     },
     "execution_count": 4,
     "metadata": {},
     "output_type": "execute_result"
    }
   ],
   "source": [
    "function undrivenHelium2D!{T<:Number}(τ::T, q::Array{T,1}, dq::Array{T,1})\n",
    "    Q₁x, Q₁y, Q₂x, Q₂y, P₁x, P₁y, P₂x, P₂y = q\n",
    "    \n",
    "    #Cantidades auxiliares\n",
    "    Q₁² = Q₁x^2 + Q₁y^2\n",
    "    Q₂² = Q₂x^2 + Q₂y^2\n",
    "    P₁² = P₁x^2 + P₁y^2\n",
    "    P₂² = P₂x^2 + P₂y^2\n",
    "    t = Q₁²*Q₂²\n",
    "    rf = f(Q₁x, Q₁y) - f(Q₂x, Q₂y)\n",
    "    f₁, f₂ = rf\n",
    "    fs = f₁^2 + f₂^2\n",
    "    nf = sqrt(fs)\n",
    "    c1 = 1 + 1/nf\n",
    "    nf³ = nf^3\n",
    "    factor1 = t/nf³\n",
    "    s1 = -0.125P₂² + Z - Q₂²*c1\n",
    "    s2 = factor1*f₁\n",
    "    s3 = -0.125P₁² + Z - Q₁²*c1\n",
    "    #@show c1\n",
    "    dq[1], dq[2] = 0.25*Q₂²*[P₁x, P₁y]\n",
    "    dq[3], dq[4] = 0.25*Q₁²*[P₂x, P₂y]\n",
    "    dq[5] = 2*Q₁x*(s1 + s2) + factor1*f₂*Q₁y\n",
    "    dq[6] = 2*Q₁y*(s1 - s2) + factor1*f₂*Q₁x\n",
    "    dq[7] = 2*Q₂x*(s3 - s2) - factor1*f₂*Q₂y\n",
    "    dq[8] = 2*Q₂y*(s3 + s2) - factor1*f₂*Q₂x\n",
    "    nothing\n",
    "end\n",
    "\n",
    "\n",
    "var1 = set_variables(\"q₁x q₁y q₂x q₂y p₁x p₁y p₂x p₂y\", order = 1)\n",
    "\n",
    "function condini1D{T<:Number}(x10::T, px10::T)\n",
    "    @assert x10 != 0\n",
    "    Q1 = sqrt(x10)\n",
    "    Q2 = 0.0\n",
    "    P1 = 2*px10*sqrt(x10)    \n",
    "    P2 = sqrt(8Z)    \n",
    "    return [Q1, Q2, P1, P2]\n",
    "end\n",
    "\n",
    "\n",
    "function condini2D{T<:Number}(q₁x::T, q₁y::T, p₁x::T, p₁y::T, P₂y::T)\n",
    "    @assert (q₁x > 0 || q₁y > 0) && P₂y^2 <= 8Z\n",
    "    Q₁x = sqrt(sqrt(4q₁x^2 + q₁y^2) + 2q₁x)/2\n",
    "    Q₁y = q₁y/(2Q₁x)\n",
    "    Q₂x = 0.0\n",
    "    Q₂y = 0.0\n",
    "    P₁x = 2(Q₁x*p₁x + Q₁y*p₁y)\n",
    "    P₁y = 2(Q₁x*p₁y - Q₁y*p₁x)\n",
    "    P₂x = sqrt(8Z - P₂y^2)\n",
    "    return T[Q₁x, Q₁y, Q₂x, Q₂y, P₁x, P₁y, P₂x, P₂y]\n",
    "end\n",
    "\n",
    "\n",
    "\n",
    "\n",
    "function regHam(q₁x, q₁y, q₂x, q₂y, p₁x, p₁y, p₂x, p₂y)\n",
    "    #Cantidades auxiliares\n",
    "    Q₁² = q₁x^2 + q₁y^2\n",
    "    Q₂² = q₂x^2 + q₂y^2\n",
    "    P₁² = p₁x^2 + p₁y^2\n",
    "    P₂² = p₂x^2 + p₂y^2\n",
    "    t = Q₁²*Q₂²\n",
    "    rf = f(q₁x, q₁y) - f(q₂x, q₂y)\n",
    "    f₁, f₂ = rf\n",
    "    nf = (f₁^2 + f₂^2)^(1/2)\n",
    "    \n",
    "    H = 0.125*(P₁²*Q₂² + P₂²*Q₁²) - Z*(Q₁² + Q₂²) + t*(1.0 + 1.0/nf)\n",
    "    return H\n",
    "end\n",
    "\n",
    "\n",
    "regHam(v) = regHam(v...)"
   ]
  },
  {
   "cell_type": "code",
   "execution_count": 5,
   "metadata": {
    "collapsed": false
   },
   "outputs": [
    {
     "data": {
      "text/plain": [
       "4-element Array{Float64,1}:\n",
       " 1.6053\n",
       " 2.5   \n",
       " 3.2   \n",
       " 4.0   "
      ]
     },
     "execution_count": 5,
     "metadata": {},
     "output_type": "execute_result"
    }
   ],
   "source": [
    "a1 =  condini1D(2.577, 0.0) + Float64[0, 2.5, 3.2,0]"
   ]
  },
  {
   "cell_type": "code",
   "execution_count": 6,
   "metadata": {
    "collapsed": false
   },
   "outputs": [
    {
     "data": {
      "text/plain": [
       "8-element Array{Float64,1}:\n",
       " 1.6053\n",
       " 0.0   \n",
       " 2.5   \n",
       " 0.0   \n",
       " 3.2   \n",
       " 0.0   \n",
       " 4.0   \n",
       " 0.0   "
      ]
     },
     "execution_count": 6,
     "metadata": {},
     "output_type": "execute_result"
    }
   ],
   "source": [
    "a2 = condini2D(2.577, 0.0, 0.0, 0.0, 0.0) + Float64[0.0, 0, 2.5, 0.0, 3.2, 0.0, 0.0, 0.0]"
   ]
  },
  {
   "cell_type": "code",
   "execution_count": 7,
   "metadata": {
    "collapsed": false
   },
   "outputs": [],
   "source": [
    "b1, b2 = similar(a1), similar(a2)\n",
    "undrivenHelium1D!(0.0, a1, b1)\n",
    "undrivenHelium2D!(0.0, a2, b2)"
   ]
  },
  {
   "cell_type": "code",
   "execution_count": 8,
   "metadata": {
    "collapsed": false
   },
   "outputs": [
    {
     "data": {
      "text/plain": [
       "4-element Array{Float64,1}:\n",
       "   5.0    \n",
       "   2.577  \n",
       " -29.3625 \n",
       "  -6.82374"
      ]
     },
     "execution_count": 8,
     "metadata": {},
     "output_type": "execute_result"
    }
   ],
   "source": [
    "b1"
   ]
  },
  {
   "cell_type": "code",
   "execution_count": 9,
   "metadata": {
    "collapsed": false
   },
   "outputs": [
    {
     "data": {
      "text/plain": [
       "8-element Array{Float64,1}:\n",
       "   5.0    \n",
       "   0.0    \n",
       "   2.577  \n",
       "   0.0    \n",
       " -29.3625 \n",
       "   0.0    \n",
       "  -6.82374\n",
       "  -0.0    "
      ]
     },
     "execution_count": 9,
     "metadata": {},
     "output_type": "execute_result"
    }
   ],
   "source": [
    "b2"
   ]
  },
  {
   "cell_type": "code",
   "execution_count": 10,
   "metadata": {
    "collapsed": false
   },
   "outputs": [
    {
     "data": {
      "text/plain": [
       "errHam (generic function with 1 method)"
      ]
     },
     "execution_count": 10,
     "metadata": {},
     "output_type": "execute_result"
    }
   ],
   "source": [
    "function errHam(N::Int)\n",
    "    srand(487293456)\n",
    "    J = vcat(  hcat(zeros(4,4), eye(4,4)), hcat(-eye(4,4), zeros(4,4))  )\n",
    "    \n",
    "    dnorm = zeros(N)\n",
    "    \n",
    "    for j in 1:N\n",
    "        al = condini2D(rand(5)...)\n",
    "        #al = rand(8)\n",
    "        meq = similar(al)\n",
    "        alt = al + var1\n",
    "        ene = J*∇(regHam(alt))\n",
    "        ene1 = Float64[ene[k].coeffs[1].coeffs[1] for k in 1:8]\n",
    "        undrivenHelium2D!(0.0, al, meq)\n",
    "        dnorm[j] = norm(meq - ene1)/eps()\n",
    "    end\n",
    "    return dnorm  \n",
    "end\n"
   ]
  },
  {
   "cell_type": "code",
   "execution_count": 11,
   "metadata": {
    "collapsed": false
   },
   "outputs": [
    {
     "name": "stdout",
     "output_type": "stream",
     "text": [
      "  1.547787 seconds (1.49 M allocations: 79.903 MiB, 2.33% gc time)\n"
     ]
    },
    {
     "data": {
      "text/html": [
       "<img src=\"data:image/png;base64,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\" />"
      ]
     },
     "execution_count": 11,
     "metadata": {},
     "output_type": "execute_result"
    }
   ],
   "source": [
    "@time dnorm = errHam(100);\n",
    "plot(eachindex(dnorm), dnorm, title = \"Compatibility Hamiltonian vs Eqs of motion\")\n",
    "yaxis!(\"Machine epsilons\")"
   ]
  },
  {
   "cell_type": "code",
   "execution_count": 12,
   "metadata": {
    "collapsed": false
   },
   "outputs": [
    {
     "data": {
      "text/plain": [
       "4-element Array{Float64,1}:\n",
       " 1.6053\n",
       " 0.0   \n",
       " 0.0   \n",
       " 4.0   "
      ]
     },
     "execution_count": 12,
     "metadata": {},
     "output_type": "execute_result"
    }
   ],
   "source": [
    "#Esta es la condición inicial que se aproximó en 1D\n",
    "c2 = condini2D(2.577, 0.0, 0.0, 0.0, 0.0)\n",
    "c1 = condini1D(2.577,0.0)"
   ]
  },
  {
   "cell_type": "markdown",
   "metadata": {},
   "source": [
    "## Hacemos el comparativo de los integradores en 1D y 2D"
   ]
  },
  {
   "cell_type": "code",
   "execution_count": 13,
   "metadata": {
    "collapsed": false
   },
   "outputs": [
    {
     "name": "stderr",
     "output_type": "stream",
     "text": [
      "\u001b[1m\u001b[33mWARNING: \u001b[39m\u001b[22m\u001b[33mMaximum number of integration steps reached; exiting.\u001b[39m\n",
      "\u001b[1m\u001b[33mWARNING: \u001b[39m\u001b[22m"
     ]
    },
    {
     "name": "stdout",
     "output_type": "stream",
     "text": [
      "  3.101183 seconds (32.21 M allocations: 3.298 GiB, 24.70% gc time)\n"
     ]
    },
    {
     "name": "stderr",
     "output_type": "stream",
     "text": [
      "\u001b[33mMaximum number of integration steps reached; exiting.\u001b[39m\n"
     ]
    }
   ],
   "source": [
    "t2, x2 = taylorinteg(undrivenHelium2D!, c2, t0, 1.0, order, abs_tol, maxsteps=5)\n",
    "@time t2, x2 = taylorinteg(undrivenHelium2D!, c2, t0, 100.0, order, abs_tol, maxsteps = 5_000);"
   ]
  },
  {
   "cell_type": "code",
   "execution_count": 14,
   "metadata": {
    "collapsed": false
   },
   "outputs": [
    {
     "name": "stderr",
     "output_type": "stream",
     "text": [
      "\u001b[1m\u001b[33mWARNING: \u001b[39m\u001b[22m\u001b[33mMaximum number of integration steps reached; exiting.\u001b[39m\n",
      "\u001b[1m\u001b[33mWARNING: \u001b[39m\u001b[22m\u001b[33mMaximum number of integration steps reached; exiting.\u001b[39m\n"
     ]
    },
    {
     "name": "stdout",
     "output_type": "stream",
     "text": [
      "  1.338778 seconds (14.66 M allocations: 1.512 GiB, 21.83% gc time)\n"
     ]
    }
   ],
   "source": [
    "t1, x1 = taylorinteg(undrivenHelium1D!, c1, t0, 1.0, order, abs_tol, maxsteps=5)\n",
    "@time t1, x1 = taylorinteg(undrivenHelium1D!, c1, t0, 100.0, order, abs_tol, maxsteps = 5_000);"
   ]
  },
  {
   "cell_type": "code",
   "execution_count": 15,
   "metadata": {
    "collapsed": false
   },
   "outputs": [
    {
     "data": {
      "text/plain": [
       "regHam (generic function with 3 methods)"
      ]
     },
     "execution_count": 15,
     "metadata": {},
     "output_type": "execute_result"
    }
   ],
   "source": [
    "function regHam(Q₁, Q₂, P₁, P₂)\n",
    "    #Cantidades auxiliares\n",
    "    P₁² = P₁^2\n",
    "    P₂² = P₂^2\n",
    "    Q₁² = Q₁^2\n",
    "    Q₂² = Q₂^2\n",
    "    nf = abs(Q₁² - Q₂²)\n",
    "    \n",
    "    H = 0.125*(P₁²*Q₂² + P₂²*Q₁²) - Z*(Q₁² + Q₂²) + Q₁²*Q₂²*(1.0 + 1.0/nf)\n",
    "    return H\n",
    "end"
   ]
  },
  {
   "cell_type": "code",
   "execution_count": 16,
   "metadata": {
    "collapsed": false
   },
   "outputs": [
    {
     "data": {
      "text/plain": [
       "(16.922700133915505, 16.922700133915068)"
      ]
     },
     "execution_count": 16,
     "metadata": {},
     "output_type": "execute_result"
    }
   ],
   "source": [
    "t1[end], t2[end]"
   ]
  },
  {
   "cell_type": "code",
   "execution_count": 17,
   "metadata": {
    "collapsed": false
   },
   "outputs": [
    {
     "data": {
      "text/plain": [
       "4-element Array{Float64,1}:\n",
       " 45.6067 \n",
       "  1.16784\n",
       " 35.193  \n",
       "  2.0694 "
      ]
     },
     "execution_count": 17,
     "metadata": {},
     "output_type": "execute_result"
    }
   ],
   "source": [
    "x1[end,:]"
   ]
  },
  {
   "cell_type": "code",
   "execution_count": 18,
   "metadata": {
    "collapsed": false
   },
   "outputs": [
    {
     "data": {
      "text/plain": [
       "8-element Array{Float64,1}:\n",
       " 45.6067 \n",
       "  0.0    \n",
       "  1.16784\n",
       "  0.0    \n",
       " 35.193  \n",
       "  0.0    \n",
       "  2.0694 \n",
       "  0.0    "
      ]
     },
     "execution_count": 18,
     "metadata": {},
     "output_type": "execute_result"
    }
   ],
   "source": [
    "x2[end,:]"
   ]
  },
  {
   "cell_type": "code",
   "execution_count": 19,
   "metadata": {
    "collapsed": false
   },
   "outputs": [
    {
     "data": {
      "text/plain": [
       "-2.9103830456733704e-11"
      ]
     },
     "execution_count": 19,
     "metadata": {},
     "output_type": "execute_result"
    }
   ],
   "source": [
    "regHam(x1[end,:])"
   ]
  },
  {
   "cell_type": "code",
   "execution_count": 20,
   "metadata": {
    "collapsed": false
   },
   "outputs": [
    {
     "data": {
      "text/plain": [
       "-3.637978807091713e-12"
      ]
     },
     "execution_count": 20,
     "metadata": {},
     "output_type": "execute_result"
    }
   ],
   "source": [
    "regHam(x2[end,:])"
   ]
  }
 ],
 "metadata": {
  "kernelspec": {
   "display_name": "Julia 0.6.0-rc3",
   "language": "julia",
   "name": "julia-0.6"
  },
  "language_info": {
   "file_extension": ".jl",
   "mimetype": "application/julia",
   "name": "julia",
   "version": "0.6.0"
  }
 },
 "nbformat": 4,
 "nbformat_minor": 0
}
