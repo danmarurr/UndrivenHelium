{
 "cells": [
  {
   "cell_type": "code",
   "execution_count": 1,
   "metadata": {
    "collapsed": false
   },
   "outputs": [
    {
     "data": {
      "text/plain": [
       "500000"
      ]
     },
     "execution_count": 1,
     "metadata": {},
     "output_type": "execute_result"
    }
   ],
   "source": [
    "using TaylorIntegration, ValidatedNumerics, TaylorSeries\n",
    "using Plots, LaTeXStrings\n",
    "# plotly()\n",
    "pyplot(grid = :false, legend = :false)\n",
    "const λ = 1.0\n",
    "const Z = 2.0\n",
    "const order = 30\n",
    "const t0 = 0.0\n",
    "const t_max = 0.5 \n",
    "const abs_tol = 1.0E-20\n",
    "const steps = 500000"
   ]
  },
  {
   "cell_type": "code",
   "execution_count": 2,
   "metadata": {
    "collapsed": false
   },
   "outputs": [
    {
     "data": {
      "text/plain": [
       "f (generic function with 2 methods)"
      ]
     },
     "execution_count": 2,
     "metadata": {},
     "output_type": "execute_result"
    }
   ],
   "source": [
    "f(x, y) = [x^2 - y^2, 2x*y]\n",
    "f(v) = f(v...)"
   ]
  },
  {
   "cell_type": "code",
   "execution_count": 3,
   "metadata": {
    "collapsed": false
   },
   "outputs": [
    {
     "data": {
      "text/plain": [
       "regHam (generic function with 2 methods)"
      ]
     },
     "execution_count": 3,
     "metadata": {},
     "output_type": "execute_result"
    }
   ],
   "source": [
    "function undrivenHelium{T<:Real}(τ::T, q::Array{T,1})\n",
    "    t, Q1x, Q1y, Q2x, Q2y, P1x, P1y, P2x, P2y = q\n",
    "    \n",
    "    #Cantidades auxiliares\n",
    "    Q₁² = Q1x^2 + Q1y^2\n",
    "    Q₂² = Q2x^2 + Q2y^2\n",
    "    P₁² = P1x^2 + P1y^2\n",
    "    P₂² = P2x^2 + P2y^2\n",
    "    t = Q₁²*Q₂²\n",
    "    rf = f(Q1x, Q1y) - f(Q2x, Q2y)\n",
    "    f₁, f₂ = rf\n",
    "    fs = f₁^2 + f₂^2\n",
    "    nf = (fs)^(1/2)\n",
    "    nf³ = (fs)^(3/2)\n",
    "    factor1 = 2t/nf³\n",
    "    \n",
    "    q1x, q1y = 0.25*Q₂²*[P1x, P1y]\n",
    "    q2x, q2y = 0.25*Q₁²*[P2x, P2y]\n",
    "    p1x, p1y = 2*(-0.125P₂² + Z - Q₂²*(1 + 1/nf))*[Q1x, Q1y]\n",
    "    + factor1*(f₁*[Q1x, -Q1y] + f₂*[Q1y, Q1x])\n",
    "    \n",
    "    p2x, p2y = 2*(-0.125P₁² + Z - Q₁²*(1 + 1/nf))*[Q2x, Q2y]\n",
    "    - factor1*(f₁*[Q2x, -Q2y] + f₂*[Q2y, Q2x]) \n",
    "   \n",
    "    return T[t, q1x, q1y, q2x, q2y, p1x, p1y, p2x, p2y]\n",
    "end\n",
    "undrivenHelium(v) = undrivenHelium(zero(eltype(v)), v)\n",
    "\n",
    "\n",
    "var1 = set_variables(\"t q1x q1y q2x q2y p1x p1y p2x p2y\", order = 1)\n",
    "\n",
    "\n",
    "#function condini(x10::Float64, px10::Float64)\n",
    "#    @assert x10 != 0\n",
    "#    Q1 = sqrt(x10)\n",
    "#    Q2 = 0.0\n",
    "#    P1 = px10*sqrt(x10)    \n",
    "#    P2 = sqrt(nf³8Z)    \n",
    "#    return [0, Q1, Q2, P1, P2]\n",
    "#end\n",
    "\n",
    "function regHam{T<:Any}(t::T, q1x::T, q1y::T, q2x::T, q2y::T, p1x::T, p1y::T, p2x::T, p2y::T)\n",
    "    #Cantidades auxiliares\n",
    "    Q₁² = q1x^2 + q1y^2\n",
    "    Q₂² = q2x^2 + q2y^2\n",
    "    P₁² = p1x^2 + p1y^2\n",
    "    P₂² = p2x^2 + p2y^2\n",
    "    t = Q₁²*Q₂²\n",
    "    rf = f(q1x, q1y) - f(q2x, q2y)\n",
    "    f₁, f₂ = rf\n",
    "    nf = (f₁^2 + f₂^2)^(1/2)\n",
    "    \n",
    "    H = 0.125*(P₁²*Q₂² + P₂²*Q₁²) - Z*(Q₁² + Q₂²) + t*(1.0 + 1.0/nf)\n",
    "    return H\n",
    "end\n",
    "\n",
    "\n",
    "regHam(v) = regHam(v...)"
   ]
  },
  {
   "cell_type": "code",
   "execution_count": 4,
   "metadata": {
    "collapsed": false
   },
   "outputs": [
    {
     "data": {
      "text/plain": [
       "errHam (generic function with 1 method)"
      ]
     },
     "execution_count": 4,
     "metadata": {},
     "output_type": "execute_result"
    }
   ],
   "source": [
    "function errHam(N::Int)\n",
    "    srand(487293456)\n",
    "    J = [0 0 0 0 0 0 0 0 0; 0 0 0 0 0 1 0 0 0; 0 0 0 0 0 0 1 0 0; \n",
    "    0 0 0 0 0 0 0 1 0; 0 0 0 0 0 0 0 0 1; 0 -1 0 0 0 0 0 0 0; \n",
    "    0 0 -1 0 0 0 0 0 0; 0 0 0 -1 0 0 0 0 0; 0 0 0 0 -1 0 0 0 0]\n",
    "    \n",
    "    dnorm = zeros(N)\n",
    "    \n",
    "    for j in 1:N\n",
    "        al = 10*rand(9)\n",
    "        alt = al + var1\n",
    "        ene = J*∇(regHam(alt))\n",
    "        ene1 = Float64[ene[k].coeffs[1].coeffs[1] for k in 1:9]\n",
    "        meq = undrivenHelium(al)\n",
    "        meq[1] = 0\n",
    "        dnorm[j] = norm(meq - ene1) \n",
    "    end\n",
    "    return dnorm  \n",
    "end\n"
   ]
  },
  {
   "cell_type": "code",
   "execution_count": 5,
   "metadata": {
    "collapsed": false
   },
   "outputs": [
    {
     "name": "stdout",
     "output_type": "stream",
     "text": [
      "  0.859675 seconds (1.80 M allocations: 89.453 MB, 3.14% gc time)\n"
     ]
    },
    {
     "data": {
      "text/html": [
       "<img src=\"data:image/png;base64,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\" />"
      ]
     },
     "execution_count": 5,
     "metadata": {},
     "output_type": "execute_result"
    }
   ],
   "source": [
    "@time dnorm = errHam(100);\n",
    "plot(eachindex(dnorm), dnorm, title = \"Compatibility Hamiltonian vs Eqs of motion\")\n"
   ]
  },
  {
   "cell_type": "code",
   "execution_count": 6,
   "metadata": {
    "collapsed": false
   },
   "outputs": [
    {
     "data": {
      "text/plain": [
       "(8118.1056419370625,0.020022097327834103)"
      ]
     },
     "execution_count": 6,
     "metadata": {},
     "output_type": "execute_result"
    }
   ],
   "source": [
    "maximum(dnorm), minimum(dnorm)"
   ]
  },
  {
   "cell_type": "code",
   "execution_count": null,
   "metadata": {
    "collapsed": false
   },
   "outputs": [],
   "source": [
    "#Haremos malavares con metaprogramming para ver varias órbitas\n",
    "nombret(n::Int) = Symbol( string(\"t\", n) )\n",
    "nombreq(n::Int) = Symbol( string(\"q\", n) )\n",
    "\n",
    "function orbits(rs = 2:10)\n",
    "    N = length(rs)\n",
    "    # Checo que `n` sea >= 1\n",
    "    @assert N >= 0  \n",
    "\n",
    "    for j = 1:N\n",
    "        ex = quote \n",
    "                $(nombret(j)), $(nombreq(j)) = \n",
    "                taylorinteg(undrivenHelium, condini(Float64($(rs[j])), 0.0), t0, \n",
    "                15.0, order, abs_tol, maxsteps=steps) \n",
    "             end\n",
    "        eval(ex)  \n",
    "    end\n",
    "end"
   ]
  },
  {
   "cell_type": "markdown",
   "metadata": {},
   "source": [
    "The final state:"
   ]
  },
  {
   "cell_type": "code",
   "execution_count": null,
   "metadata": {
    "collapsed": false
   },
   "outputs": [],
   "source": [
    "orbits()"
   ]
  },
  {
   "cell_type": "code",
   "execution_count": null,
   "metadata": {
    "collapsed": false
   },
   "outputs": [],
   "source": [
    "t1[end], q1[end,:]"
   ]
  },
  {
   "cell_type": "code",
   "execution_count": null,
   "metadata": {
    "collapsed": false
   },
   "outputs": [],
   "source": [
    "regHam(q1[end,:])"
   ]
  },
  {
   "cell_type": "code",
   "execution_count": null,
   "metadata": {
    "collapsed": false
   },
   "outputs": [],
   "source": [
    "ene = zeros(t1)\n",
    "for j in eachindex(ene)\n",
    "    ene[j] = abs(regHam(q1[j,:]))\n",
    "end"
   ]
  },
  {
   "cell_type": "code",
   "execution_count": null,
   "metadata": {
    "collapsed": false
   },
   "outputs": [],
   "source": [
    "plot(q1[:,1], ene, title =L\"Absolute Error of Energy $q_1=2$\")\n",
    "xlabel!(L\"t\")\n",
    "ylabel!(L\"\\delta E\")"
   ]
  },
  {
   "cell_type": "code",
   "execution_count": null,
   "metadata": {
    "collapsed": false
   },
   "outputs": [],
   "source": [
    "function ksv(Q, P)\n",
    "    v₁ = P/Q\n",
    "    return v₁\n",
    "end\n",
    "ks(Q) = Q^2"
   ]
  },
  {
   "cell_type": "code",
   "execution_count": null,
   "metadata": {
    "collapsed": false
   },
   "outputs": [],
   "source": [
    "xs1 = map(ks, q1[:,2])\n",
    "vxs1 = Float64[ksv(q1[j,2], q1[j, 4]) for j in eachindex(t1)]\n",
    "xs2 = map(ks, q2[:,2])\n",
    "vxs2 = Float64[ksv(q2[j,2], q2[j, 4]) for j in eachindex(t2)]\n",
    "xs3 = map(ks, q3[:,2])\n",
    "vxs3 = Float64[ksv(q3[j,2], q3[j, 4]) for j in eachindex(t3)]\n",
    "xs4 = map(ks, q4[:,2])\n",
    "vxs4 = Float64[ksv(q4[j,2], q4[j, 4]) for j in eachindex(t4)]\n",
    "xs5 = map(ks, q5[:,2])\n",
    "vxs5 = Float64[ksv(q5[j,2], q5[j, 4]) for j in eachindex(t5)]\n",
    "xs6 = map(ks, q6[:,2])\n",
    "vxs6 = Float64[ksv(q6[j,2], q6[j, 4]) for j in eachindex(t6)]\n",
    "xs7 = map(ks, q7[:,2])\n",
    "vxs7 = Float64[ksv(q7[j,2], q7[j, 4]) for j in eachindex(t7)]\n",
    "xs8 = map(ks, q8[:,2])\n",
    "vxs8 = Float64[ksv(q8[j,2], q8[j, 4]) for j in eachindex(t8)]\n",
    "xs9 = map(ks, q9[:,2])\n",
    "vxs9 = Float64[ksv(q9[j,2], q9[j, 4]) for j in eachindex(t9)];"
   ]
  },
  {
   "cell_type": "code",
   "execution_count": null,
   "metadata": {
    "collapsed": false
   },
   "outputs": [],
   "source": [
    "plot(xs1, vxs1, label = L\"q = 2\", title = L\"Poincaré Section $Z = 2$,  $r_{2_0} =0$\", legend =:true)\n",
    "plot!(xs2, vxs2, label = L\"q = 3\")\n",
    "plot!(xs3, vxs3, label = L\"q = 4\")\n",
    "plot!(xs4, vxs4, label = L\"q = 5\")\n",
    "plot!(xs5, vxs5, label = L\"q = 6\")\n",
    "plot!(xs6, vxs6, label = L\"q = 7\")\n",
    "plot!(xs7, vxs7, label = L\"q = 8\")\n",
    "plot!(xs8, vxs8, label = L\"q = 9\")\n",
    "plot!(xs9, vxs9, label = L\"q = 10\")\n",
    "xaxis!([0,20])\n",
    "xlabel!(L\"x\")\n",
    "ylabel!(L\"p_x\")\n",
    "yaxis!([-1,1])"
   ]
  },
  {
   "cell_type": "code",
   "execution_count": null,
   "metadata": {
    "collapsed": false
   },
   "outputs": [],
   "source": [
    "function HamU(t, Q₁, P₁, Q₂, P₂)\n",
    "    #Cantidades auxiliares\n",
    "    P₁² = P₁^2\n",
    "    P₂² = P₂^2\n",
    "    Q₁² = Q₁^2\n",
    "    Q₂² = Q₂^2\n",
    "    nq = abs(Q₁ - Q₂)\n",
    "    \n",
    "    H = 0.5*(P₁² + P₂²) - Z*(1/abs(Q₁)+1/abs(Q₂)) + 1.0/nq\n",
    "    return H\n",
    "end\n",
    "HamU(v) = HamU(v...)"
   ]
  },
  {
   "cell_type": "code",
   "execution_count": null,
   "metadata": {
    "collapsed": false
   },
   "outputs": [],
   "source": [
    "ene1 = zeros(t1)\n",
    "for j in 2:length(t1)\n",
    "    ene1[j] = abs(HamU(q1[j,:]) + 1)\n",
    "end"
   ]
  },
  {
   "cell_type": "code",
   "execution_count": null,
   "metadata": {
    "collapsed": false
   },
   "outputs": [],
   "source": [
    "plot(q1[:,1], ene1, title =\"Error de energía, espacio de configuración original\")\n",
    "xlabel!(L\"t\")\n",
    "ylabel!(L\"\\delta E\")"
   ]
  }
 ],
 "metadata": {
  "kernelspec": {
   "display_name": "Julia 0.5.0",
   "language": "julia",
   "name": "julia-0.5"
  },
  "language_info": {
   "file_extension": ".jl",
   "mimetype": "application/julia",
   "name": "julia",
   "version": "0.5.0"
  }
 },
 "nbformat": 4,
 "nbformat_minor": 0
}
