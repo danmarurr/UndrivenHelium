{
 "cells": [
  {
   "cell_type": "code",
   "execution_count": 1,
   "metadata": {
    "collapsed": false,
    "scrolled": false
   },
   "outputs": [],
   "source": [
    "using TaylorSeries\n",
    "include(\"UndrivenHelium.jl\")\n",
    "#include(\"Integ.jl\")\n",
    "using Plots, LaTeXStrings\n",
    "# plotly()\n",
    "pyplot(grid = :false, size=(600,600), color=:black, markersize = 0.3 )\n",
    "const Z = 2.0\n",
    "const order = 34\n",
    "const t0 = 0.0\n",
    "const t_max = 0.5 \n",
    "const abs_tol = 1.0E-20\n",
    "const steps = 8_000;"
   ]
  },
  {
   "cell_type": "code",
   "execution_count": 2,
   "metadata": {
    "collapsed": false
   },
   "outputs": [
    {
     "data": {
      "text/plain": [
       "taylorintegps (generic function with 2 methods)"
      ]
     },
     "execution_count": 2,
     "metadata": {},
     "output_type": "execute_result"
    }
   ],
   "source": [
    "include(\"Integ.jl\")"
   ]
  },
  {
   "cell_type": "code",
   "execution_count": 3,
   "metadata": {
    "collapsed": false
   },
   "outputs": [
    {
     "data": {
      "text/plain": [
       "4-element Array{TaylorSeries.TaylorN{Float64},1}:\n",
       "  2.4084019598065436 + 1.0 ξ₁ + 𝒪(‖x‖⁴)\n",
       "                       1.0 ξ₂ + 𝒪(‖x‖⁴)\n",
       "                       1.0 ξ₃ + 𝒪(‖x‖⁴)\n",
       "                 4.0 + 1.0 ξ₄ + 𝒪(‖x‖⁴)"
      ]
     },
     "execution_count": 3,
     "metadata": {},
     "output_type": "execute_result"
    }
   ],
   "source": [
    "x0 = condini1D(Float64[5.8004, 0.0]...)\n",
    "ξ = set_variables(\"ξ\", numvars=length(x0), order=3)\n",
    "x0TN = x0+ξ"
   ]
  },
  {
   "cell_type": "code",
   "execution_count": 4,
   "metadata": {
    "collapsed": false
   },
   "outputs": [
    {
     "name": "stderr",
     "output_type": "stream",
     "text": [
      "\u001b[1m\u001b[33mWARNING: \u001b[39m\u001b[22m\u001b[33mMaximum number of integration steps reached; exiting.\u001b[39m"
     ]
    },
    {
     "name": "stdout",
     "output_type": "stream",
     "text": [
      " 50.478434 seconds (562.84 M allocations: 37.332 GiB, 25.70% gc time)\n"
     ]
    },
    {
     "name": "stderr",
     "output_type": "stream",
     "text": [
      "\n"
     ]
    }
   ],
   "source": [
    "@time t, x, tp, xp = taylorintegps(undrivenHelium1D!, x0TN, t0, 120.0, order, abs_tol; maxsteps = 50);"
   ]
  },
  {
   "cell_type": "code",
   "execution_count": 6,
   "metadata": {
    "collapsed": true
   },
   "outputs": [],
   "source": [
    "@taylorize_ode function undrivenHelium11D!(τ, q, dq) \n",
    "    t1 = q[1]^2\n",
    "    t2 = q[2]^2\n",
    "    t = t1 * t2\n",
    "    #dq[1] = t\n",
    "    R12 = t1 - t2\n",
    "    aR12 = abs(R12)\n",
    "    #aR12 = sqrt(R12^2)\n",
    "    RRR = aR12^3\n",
    "    c1 = R12/RRR\n",
    "    f1 = (1 + 1/aR12)\n",
    "    f2 = t*c1\n",
    "   \n",
    "    dq[1] = 0.25*(t2*q[3])\n",
    "    dq[3] = (2*q[1])*(((-0.125*q[4]^2) + Z) - ((t2*f1) - f2))\n",
    "    dq[2] = 0.25*(t1*q[4])\n",
    "    dq[4] = (2*q[2])*(((-0.125*q[3]^2) + Z) - ((t1*f1) + f2))\n",
    "\n",
    "#    return [t, q₁, q₂, p₁, p₂] \n",
    "    return nothing\n",
    "end"
   ]
  },
  {
   "cell_type": "code",
   "execution_count": 7,
   "metadata": {
    "collapsed": false
   },
   "outputs": [
    {
     "ename": "LoadError",
     "evalue": "\u001b[91mMethodError: no method matching isless(::TaylorSeries.TaylorN{Float64}, ::TaylorSeries.TaylorN{Float64})\u001b[0m\nClosest candidates are:\n  isless(\u001b[91m::PyCall.PyObject\u001b[39m, ::Any) at /home/daniel/.julia/v0.6/PyCall/src/pyoperators.jl:71\n  isless(::Any, \u001b[91m::PyCall.PyObject\u001b[39m) at /home/daniel/.julia/v0.6/PyCall/src/pyoperators.jl:72\u001b[39m",
     "output_type": "error",
     "traceback": [
      "\u001b[91mMethodError: no method matching isless(::TaylorSeries.TaylorN{Float64}, ::TaylorSeries.TaylorN{Float64})\u001b[0m\nClosest candidates are:\n  isless(\u001b[91m::PyCall.PyObject\u001b[39m, ::Any) at /home/daniel/.julia/v0.6/PyCall/src/pyoperators.jl:71\n  isless(::Any, \u001b[91m::PyCall.PyObject\u001b[39m) at /home/daniel/.julia/v0.6/PyCall/src/pyoperators.jl:72\u001b[39m",
      "",
      "Stacktrace:",
      " [1] \u001b[1mabs!\u001b[22m\u001b[22m at \u001b[1m/home/daniel/.julia/v0.6/TaylorSeries/src/functions.jl:161\u001b[22m\u001b[22m [inlined]",
      " [2] \u001b[1mjetcoeffs!\u001b[22m\u001b[22m\u001b[1m(\u001b[22m\u001b[22m::Type{Val{undrivenHelium11D!}}, ::Float64, ::Array{TaylorSeries.Taylor1{TaylorSeries.TaylorN{Float64}},1}, ::Array{TaylorSeries.Taylor1{TaylorSeries.TaylorN{Float64}},1}\u001b[1m)\u001b[22m\u001b[22m at \u001b[1m/home/daniel/.julia/v0.6/TaylorIntegration/src/parse_eqs.jl:350\u001b[22m\u001b[22m",
      " [3] \u001b[1mtaylorstep!\u001b[22m\u001b[22m\u001b[1m(\u001b[22m\u001b[22m::Function, ::Array{TaylorSeries.Taylor1{TaylorSeries.TaylorN{Float64}},1}, ::Array{TaylorSeries.Taylor1{TaylorSeries.TaylorN{Float64}},1}, ::Array{TaylorSeries.Taylor1{TaylorSeries.TaylorN{Float64}},1}, ::Float64, ::Float64, ::Array{TaylorSeries.TaylorN{Float64},1}, ::Int64, ::Float64, ::Array{Float64,1}\u001b[1m)\u001b[22m\u001b[22m at \u001b[1m/home/daniel/.julia/v0.6/TaylorIntegration/src/jettransport.jl:201\u001b[22m\u001b[22m",
      " [4] \u001b[1m#taylorintegps#5\u001b[22m\u001b[22m\u001b[1m(\u001b[22m\u001b[22m::Int64, ::Float64, ::Int64, ::Function, ::Function, ::Array{TaylorSeries.TaylorN{Float64},1}, ::Float64, ::Float64, ::Int64, ::Float64\u001b[1m)\u001b[22m\u001b[22m at \u001b[1m/home/daniel/Documents/2017-2/Tesis/UndrivenHelium/TaylorIntegration/Integ.jl:355\u001b[22m\u001b[22m",
      " [5] \u001b[1m(::#kw##taylorintegps)\u001b[22m\u001b[22m\u001b[1m(\u001b[22m\u001b[22m::Array{Any,1}, ::#taylorintegps, ::Function, ::Array{TaylorSeries.TaylorN{Float64},1}, ::Float64, ::Float64, ::Int64, ::Float64\u001b[1m)\u001b[22m\u001b[22m at \u001b[1m./<missing>:0\u001b[22m\u001b[22m",
      " [6] \u001b[1minclude_string\u001b[22m\u001b[22m\u001b[1m(\u001b[22m\u001b[22m::String, ::String\u001b[1m)\u001b[22m\u001b[22m at \u001b[1m./loading.jl:515\u001b[22m\u001b[22m"
     ]
    }
   ],
   "source": [
    "@time t1, x1, tp1, xp1 = taylorintegps(undrivenHelium11D!, x0TN, t0, 120.0, order, abs_tol; maxsteps = 50);"
   ]
  },
  {
   "cell_type": "code",
   "execution_count": null,
   "metadata": {
    "collapsed": true
   },
   "outputs": [],
   "source": [
    "#Cargamos soluciones en archivos de texto\n",
    "xvSv = Array{Float64,2}[]\n",
    "xvSv2 = Array{Float64,2}[]\n",
    "\n",
    "\n",
    "for j in 1:5000\n",
    "    dir =string(\"MonteCarlo/xvSv\",string(j),\".csv\")\n",
    "    x = readcsv(dir)\n",
    "    push!(xvSv, x)\n",
    "end\n",
    "\n",
    "for j in 1:800\n",
    "    dir =string(\"Circ/xvSv\",string(j),\".csv\")\n",
    "    x = readcsv(dir)\n",
    "    push!(xvSv2, x)\n",
    "end"
   ]
  },
  {
   "cell_type": "code",
   "execution_count": null,
   "metadata": {
    "collapsed": true
   },
   "outputs": [],
   "source": [
    "xsv = copy(xvSv)\n",
    "x0 = xvSv[1]\n",
    "for k in 1:length(xvSv)\n",
    "    xsv[k] -= x0\n",
    "end\n",
    "\n",
    "xsv2 = copy(xvSv2)\n",
    "x0 = xvSv2[1]\n",
    "for k in 1:length(xvSv2)\n",
    "    xsv2[k] -= x0\n",
    "end"
   ]
  },
  {
   "cell_type": "code",
   "execution_count": null,
   "metadata": {
    "collapsed": false
   },
   "outputs": [],
   "source": [
    "#Vemos si las cosas se salen de control\n",
    "poincareuh = @animate for i=1:157\n",
    "    scatter(map(x->x[i,1], xvSv), map(x->x[i,3], xvSv), label=\"$(i)-th iterate\", m=(1,stroke(0)))\n",
    "    scatter!(map(x->x[i,1], xvSv2), map(x->x[i,3], xvSv2), label=\"$(i)-th iterate\", m=(1,stroke(0)), color = :red)\n",
    "    xlims!(5.8003997,5.8004053)\n",
    "    ylims!(-0.00000025,0.00000025)\n",
    "    xlabel!(\"x\")\n",
    "    ylabel!(\"pₓ\")\n",
    "    title!(\"UH Poincaré map near at point (5.8004, 0.0)\")\n",
    "end\n",
    "gif(poincareuh, \"./poincareuh2.gif\", fps = 2)"
   ]
  },
  {
   "cell_type": "code",
   "execution_count": null,
   "metadata": {
    "collapsed": false
   },
   "outputs": [],
   "source": [
    "poincareuh = @animate for i=1:15:157\n",
    "    scatter(map(x->x[i,1], xvSv), map(x->x[i,3], xvSv), label=\"$(i)-th iterate\", m=(1,stroke(0)))\n",
    "    scatter!(map(x->x[i,1], xvSv2), map(x->x[i,3], xvSv2), label=\"$(i)-th iterate\", m=(1,stroke(0)), color = :red)\n",
    "    xlims!(5.8003997,5.8004053)\n",
    "    ylims!(-0.00000025,0.00000025)\n",
    "    xlabel!(\"x\")\n",
    "    ylabel!(\"pₓ\")\n",
    "    title!(\"UH Poincaré map near at point (5.8004, 0.0)\")\n",
    "end\n",
    "gif(poincareuh, \"./poincareuh3.gif\", fps = 2)"
   ]
  },
  {
   "cell_type": "code",
   "execution_count": null,
   "metadata": {
    "collapsed": false
   },
   "outputs": [],
   "source": [
    "\n",
    "x0 = Float64[5.8004, 0.00000000]\n",
    "circ_inis = Array{Array{Float64,1},1}(5000)\n",
    "circ_inis[1] = x0\n",
    "for i in 2:5000\n",
    "    rand1 = rand(); rand2 = rand()\n",
    "    x_ini = x0 + 0.00000002*[rand1*cos(2pi*rand2),rand1*sin(2pi*rand2)]\n",
    "    circ_inis[i] = x_ini\n",
    "end"
   ]
  },
  {
   "cell_type": "code",
   "execution_count": null,
   "metadata": {
    "collapsed": false
   },
   "outputs": [],
   "source": [
    "scatter(map(x->x[1,1], xvSv), map(x->x[1,3], xvSv), label=\"$(1)-th iterate\", m=(2,stroke(0)))\n",
    "scatter!(map(x->x[134,1], xvSv), map(x->x[134,3], xvSv), label=\"$(134)-th iterate\", m=(2,stroke(0)), color = :red)\n",
    "scatter!(map(x->x[1], circ_inis), map(x->x[2], circ_inis), label=\"Interseccion\", m=(2,stroke(0)), color = :blue)"
   ]
  },
  {
   "cell_type": "code",
   "execution_count": null,
   "metadata": {
    "collapsed": false
   },
   "outputs": [],
   "source": [
    "\n",
    "#Vemos la evolución del volumen\n",
    "poincareuh = @animate for i=1:157\n",
    "    scatter(map(x->x[i,1], xsv), map(x->x[i,3], xsv), label=\"$(i)-th iterate\", m=(2,stroke(0)))\n",
    "    #scatter!(map(x->x[i,1], xsv2), map(x->x[i,3], xsv2), label=\"$(i)-th iterate\", m=(1,stroke(0)), color = :red)\n",
    "    xlims!(-0.0000005,0.0000005)\n",
    "    ylims!(-0.0000005,0.0000005)\n",
    "    xlabel!(\"x\")\n",
    "    ylabel!(\"pₓ\")\n",
    "    title!(\"UH Poincaré map near at point (5.8004, 0.0)\")\n",
    "end\n",
    "gif(poincareuh, \"./poincareuh3.gif\", fps = 2)"
   ]
  },
  {
   "cell_type": "code",
   "execution_count": null,
   "metadata": {
    "collapsed": false
   },
   "outputs": [],
   "source": [
    "function psundriven{T<:Number}(x10::T, px10::T; tol::Float64 = 1e-20, tmax = 100.0, maxsteps1 = 5_000 )\n",
    "    c1 = condini1D(x10, px10)\n",
    "    t, x, tp, xp = taylorintegps(undrivenHelium1D!, c1, t0, tmax, order, abs_tol; maxsteps = maxsteps1)\n",
    "    \n",
    "    xpm = similar(xp)\n",
    "    xpm[:,1] = map(ks, xp[:,1])\n",
    "    xpm[:,3] = Float64[ksv(xp[k,1], xp[k, 3]) for k in eachindex(tp)]\n",
    "    xpm[:,2] = map(ks, xp[:,2])\n",
    "    xpm[:,4] = Float64[ksv(xp[k,2], xp[k, 4]) for k in eachindex(tp)]\n",
    "\n",
    "    return xpm, t, x\n",
    "end\n",
    "function ksv(Q, P)\n",
    "    v₁ = P/2Q\n",
    "    return v₁\n",
    "end\n",
    "ks(Q) = Q^2"
   ]
  },
  {
   "cell_type": "code",
   "execution_count": null,
   "metadata": {
    "collapsed": false
   },
   "outputs": [],
   "source": [
    "xvSv3 = Array{Float64,2}[]\n",
    "\n",
    "#Comentado, pues ya se calculó\n",
    "contador = 0\n",
    "@time for x in circ_inis\n",
    "    xtemp = Float64[x[1], 0.0, x[2], Inf]\n",
    "    xp, t, xt = psundriven(x[1], x[2]; tmax = 120.0, maxsteps1 = 5_000 )\n",
    "    push!(xvSv3, vcat(xtemp', xp))\n",
    "    contador += 1\n",
    "    if mod(contador, 500) == 0\n",
    "        println(string(contador), \" de 5000\")\n",
    "    end\n",
    "end\n",
    "\n",
    "contador = 1\n",
    "for x in xvSv3\n",
    "    dir =string(\"MonteCarlo2/xvSv\",string(contador),\".csv\")\n",
    "    writecsv(dir, x)\n",
    "    contador += 1\n",
    "end\n",
    "\n",
    "#for j in 1:5000\n",
    "#    dir =string(\"MonteCarlo2/xvSv\",string(j),\".csv\")\n",
    "#    x = readcsv(dir)\n",
    "#    push!(xvSv3, x)\n",
    "#end"
   ]
  },
  {
   "cell_type": "code",
   "execution_count": null,
   "metadata": {
    "collapsed": true
   },
   "outputs": [],
   "source": [
    "x0 = Float64[5.8004000, 0.00]\n",
    "circ_inis2 = Array{Array{Float64,1},1}(5000)\n",
    "circ_inis2[1] = x0\n",
    "for i in 2:5000\n",
    "    rand1 = rand(); rand2 = rand()\n",
    "    x_ini = x0 + 0.000000006*[rand1*cos(2pi*rand2),rand1*sin(2pi*rand2)]\n",
    "    circ_inis2[i] = x_ini\n",
    "end"
   ]
  },
  {
   "cell_type": "code",
   "execution_count": null,
   "metadata": {
    "collapsed": false
   },
   "outputs": [],
   "source": [
    "scatter(map(x->x[1,1], xvSv3), map(x->x[1,3], xvSv3), label=\"$(1)-th iterate\", m=(2,stroke(0)))\n",
    "scatter!(map(x->x[134,1], xvSv3), map(x->x[134,3], xvSv3), label=\"$(134)-th iterate\", m=(2,stroke(0)), color = :red)\n",
    "scatter!(map(x->x[1], circ_inis2), map(x->x[2], circ_inis2), label=\"Interseccion\", m=(2,stroke(0)), color = :blue)"
   ]
  },
  {
   "cell_type": "code",
   "execution_count": null,
   "metadata": {
    "collapsed": false
   },
   "outputs": [],
   "source": [
    "xvSv4 = Array{Float64,2}[]\n",
    "contador = 0\n",
    "@time for x in circ_inis2\n",
    "    xtemp = Float64[x[1], 0.0, x[2], Inf]\n",
    "    xp, t, xt = psundriven(x[1], x[2]; tmax = 120.0, maxsteps1 = 5_000 )\n",
    "    push!(xvSv4, vcat(xtemp', xp))\n",
    "    contador += 1\n",
    "    if mod(contador, 500) == 0\n",
    "        println(string(contador), \" de 5000\")\n",
    "    end\n",
    "end"
   ]
  },
  {
   "cell_type": "code",
   "execution_count": null,
   "metadata": {
    "collapsed": true
   },
   "outputs": [],
   "source": [
    "contador = 1\n",
    "for x in xvSv4\n",
    "    dir =string(\"MonteCarlo3/xvSv\",string(contador),\".csv\")\n",
    "    writecsv(dir, x)\n",
    "    contador += 1\n",
    "end\n",
    "\n"
   ]
  },
  {
   "cell_type": "code",
   "execution_count": null,
   "metadata": {
    "collapsed": false
   },
   "outputs": [],
   "source": [
    "scatter(map(x->x[1,1], xvSv4), map(x->x[1,3], xvSv4), label=\"$(1)-th iterate\", m=(2,stroke(0)))\n",
    "scatter!(map(x->x[16,1], xvSv4), map(x->x[16,3], xvSv4), label=\"$(16)-th iterate\", m=(2,stroke(0)), color = :red)"
   ]
  },
  {
   "cell_type": "code",
   "execution_count": null,
   "metadata": {
    "collapsed": true
   },
   "outputs": [],
   "source": [
    "xvSv4 = Array{Float64,2}[]\n",
    "for j in 1:5000\n",
    "    dir =string(\"MonteCarlo3/xvSv\",string(j),\".csv\")\n",
    "    x = readcsv(dir)\n",
    "    push!(xvSv4, x)\n",
    "end"
   ]
  },
  {
   "cell_type": "code",
   "execution_count": null,
   "metadata": {
    "collapsed": false
   },
   "outputs": [],
   "source": [
    "scatter(map(x->x[1,1], xvSv4), map(x->x[1,3], xvSv4), label=\"$(1)-th iterate\", m=(2,stroke(0)))\n",
    "scatter!(map(x->x[134,1], xvSv4), map(x->x[134,3], xvSv4), label=\"$(16)-th iterate\", m=(2,stroke(0)), color = :red)"
   ]
  },
  {
   "cell_type": "code",
   "execution_count": null,
   "metadata": {
    "collapsed": true
   },
   "outputs": [],
   "source": []
  }
 ],
 "metadata": {
  "kernelspec": {
   "display_name": "Julia 0.6.0",
   "language": "julia",
   "name": "julia-0.6"
  },
  "language_info": {
   "file_extension": ".jl",
   "mimetype": "application/julia",
   "name": "julia",
   "version": "0.6.0"
  }
 },
 "nbformat": 4,
 "nbformat_minor": 0
}
