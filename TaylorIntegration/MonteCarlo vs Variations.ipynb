{
 "cells": [
  {
   "cell_type": "code",
   "execution_count": 1,
   "metadata": {
    "collapsed": false,
    "scrolled": false
   },
   "outputs": [
    {
     "name": "stderr",
     "output_type": "stream",
     "text": [
      "\u001b[1m\u001b[36mINFO: \u001b[39m\u001b[22m\u001b[36mRecompiling stale cache file /home/daniel/.julia/lib/v0.6/TaylorSeries.ji for module TaylorSeries.\n",
      "\u001b[39m"
     ]
    }
   ],
   "source": [
    "using TaylorSeries\n",
    "include(\"UndrivenHelium.jl\")\n",
    "#include(\"Integ.jl\")\n",
    "using Plots, LaTeXStrings\n",
    "# plotly()\n",
    "pyplot(grid = :false, size=(600,600), color=:black, markersize = 0.3 )\n",
    "const Z = 2.0\n",
    "const order = 34\n",
    "const t0 = 0.0\n",
    "const t_max = 0.5 \n",
    "const abs_tol = 1.0E-20\n",
    "const steps = 8_000;"
   ]
  },
  {
   "cell_type": "code",
   "execution_count": 2,
   "metadata": {
    "collapsed": false
   },
   "outputs": [
    {
     "data": {
      "text/plain": [
       "taylorintegps (generic function with 2 methods)"
      ]
     },
     "execution_count": 2,
     "metadata": {},
     "output_type": "execute_result"
    }
   ],
   "source": [
    "include(\"Integ.jl\")"
   ]
  },
  {
   "cell_type": "code",
   "execution_count": 3,
   "metadata": {
    "collapsed": false
   },
   "outputs": [
    {
     "data": {
      "text/plain": [
       "4-element Array{TaylorSeries.TaylorN{Float64},1}:\n",
       "  2.4084019598065436 + 1.0 ξ₁ + 𝒪(‖x‖⁴)\n",
       "                       1.0 ξ₂ + 𝒪(‖x‖⁴)\n",
       "                       1.0 ξ₃ + 𝒪(‖x‖⁴)\n",
       "                 4.0 + 1.0 ξ₄ + 𝒪(‖x‖⁴)"
      ]
     },
     "execution_count": 3,
     "metadata": {},
     "output_type": "execute_result"
    }
   ],
   "source": [
    "x0 = condini1D(Float64[5.8004, 0.0]...)\n",
    "ξ = set_variables(\"ξ\", numvars=length(x0), order=3)\n",
    "x0TN = x0+ξ"
   ]
  },
  {
   "cell_type": "code",
   "execution_count": 4,
   "metadata": {
    "collapsed": false
   },
   "outputs": [
    {
     "name": "stderr",
     "output_type": "stream",
     "text": [
      "\u001b[1m\u001b[33mWARNING: \u001b[39m\u001b[22m\u001b[33mMaximum number of integration steps reached; exiting.\u001b[39m\n"
     ]
    },
    {
     "name": "stdout",
     "output_type": "stream",
     "text": [
      " 56.265733 seconds (562.83 M allocations: 37.331 GiB, 25.12% gc time)\n"
     ]
    }
   ],
   "source": [
    "@time t, x, tp, xp = taylorintegps(undrivenHelium1D!, x0TN, t0, 120.0, order, abs_tol; maxsteps = 50);"
   ]
  },
  {
   "cell_type": "code",
   "execution_count": 5,
   "metadata": {
    "collapsed": true
   },
   "outputs": [],
   "source": [
    "@taylorize_ode function undrivenHelium11D!(τ, q, dq) \n",
    "    t1 = q[1]^2\n",
    "    t2 = q[2]^2\n",
    "    t = t1 * t2\n",
    "    #dq[1] = t\n",
    "    R12 = t1 - t2\n",
    "    aR12 = abs(R12)\n",
    "    #aR12 = sqrt(R12^2)\n",
    "    RRR = aR12^3\n",
    "    c1 = R12/RRR\n",
    "    f1 = (1 + 1/aR12)\n",
    "    f2 = t*c1\n",
    "   \n",
    "    dq[1] = 0.25*(t2*q[3])\n",
    "    dq[3] = (2*q[1])*(((-0.125*q[4]^2) + Z) - ((t2*f1) - f2))\n",
    "    dq[2] = 0.25*(t1*q[4])\n",
    "    dq[4] = (2*q[2])*(((-0.125*q[3]^2) + Z) - ((t1*f1) + f2))\n",
    "\n",
    "#    return [t, q₁, q₂, p₁, p₂] \n",
    "    return nothing\n",
    "end"
   ]
  },
  {
   "cell_type": "code",
   "execution_count": 7,
   "metadata": {
    "collapsed": false
   },
   "outputs": [
    {
     "data": {
      "text/plain": [
       "quote  # /home/daniel/.julia/v0.6/TaylorIntegration/src/parse_eqs.jl, line 396:\n",
       "    (TaylorIntegration.eval)(function undrivenHelium11D!(τ, q, dq) # In[7], line 2:\n",
       "            t1 = q[1] ^ 2 # In[7], line 3:\n",
       "            t2 = q[2] ^ 2 # In[7], line 4:\n",
       "            t = t1 * t2 # In[7], line 6:\n",
       "            R12 = t1 - t2 # In[7], line 7:\n",
       "            aR12 = abs(R12) # In[7], line 9:\n",
       "            RRR = aR12 ^ 3 # In[7], line 10:\n",
       "            c1 = R12 / RRR # In[7], line 11:\n",
       "            f1 = 1 + 1 / aR12 # In[7], line 12:\n",
       "            f2 = t * c1 # In[7], line 14:\n",
       "            dq[1] = 0.25 * (t2 * q[3]) # In[7], line 15:\n",
       "            dq[3] = (2 * q[1]) * ((-0.125 * q[4] ^ 2 + Z) - (t2 * f1 - f2)) # In[7], line 16:\n",
       "            dq[2] = 0.25 * (t1 * q[4]) # In[7], line 17:\n",
       "            dq[4] = (2 * q[2]) * ((-0.125 * q[3] ^ 2 + Z) - (t1 * f1 + f2)) # In[7], line 20:\n",
       "            return nothing\n",
       "        end) # /home/daniel/.julia/v0.6/TaylorIntegration/src/parse_eqs.jl, line 397:\n",
       "    (TaylorIntegration.eval)(function TaylorIntegration.jetcoeffs!{T <: Number, S <: Number}(::Type{Val{undrivenHelium11D!}}, __t0::T, __x::Vector{Taylor1{S}}, __dx::Vector{Taylor1{S}})\n",
       "            order = __x[1].order\n",
       "            __tT = Taylor1([__t0, one(T)], order)\n",
       "            t1 = Taylor1(constant_term(__x[1]) ^ constant_term(2), order)\n",
       "            t2 = Taylor1(constant_term(__x[2]) ^ constant_term(2), order)\n",
       "            t = Taylor1(constant_term(t1) * constant_term(t2), order)\n",
       "            R12 = Taylor1(constant_term(t1) - constant_term(t2), order)\n",
       "            aR12 = Taylor1(abs(constant_term(R12)), order)\n",
       "            RRR = Taylor1(constant_term(aR12) ^ constant_term(3), order)\n",
       "            c1 = Taylor1(constant_term(R12) / constant_term(RRR), order)\n",
       "            tmp844 = Taylor1(constant_term(1) / constant_term(aR12), order)\n",
       "            f1 = Taylor1(constant_term(1) + constant_term(tmp844), order)\n",
       "            f2 = Taylor1(constant_term(t) * constant_term(c1), order)\n",
       "            tmp848 = Taylor1(constant_term(t2) * constant_term(__x[3]), order)\n",
       "            __dx[1] = Taylor1(constant_term(0.25) * constant_term(tmp848), order)\n",
       "            tmp851 = Taylor1(constant_term(2) * constant_term(__x[1]), order)\n",
       "            tmp854 = Taylor1(constant_term(__x[4]) ^ constant_term(2), order)\n",
       "            tmp855 = Taylor1(constant_term(-0.125) * constant_term(tmp854), order)\n",
       "            tmp856 = Taylor1(constant_term(tmp855) + constant_term(Z), order)\n",
       "            tmp857 = Taylor1(constant_term(t2) * constant_term(f1), order)\n",
       "            tmp858 = Taylor1(constant_term(tmp857) - constant_term(f2), order)\n",
       "            tmp859 = Taylor1(constant_term(tmp856) - constant_term(tmp858), order)\n",
       "            __dx[3] = Taylor1(constant_term(tmp851) * constant_term(tmp859), order)\n",
       "            tmp862 = Taylor1(constant_term(t1) * constant_term(__x[4]), order)\n",
       "            __dx[2] = Taylor1(constant_term(0.25) * constant_term(tmp862), order)\n",
       "            tmp865 = Taylor1(constant_term(2) * constant_term(__x[2]), order)\n",
       "            tmp868 = Taylor1(constant_term(__x[3]) ^ constant_term(2), order)\n",
       "            tmp869 = Taylor1(constant_term(-0.125) * constant_term(tmp868), order)\n",
       "            tmp870 = Taylor1(constant_term(tmp869) + constant_term(Z), order)\n",
       "            tmp871 = Taylor1(constant_term(t1) * constant_term(f1), order)\n",
       "            tmp872 = Taylor1(constant_term(tmp871) + constant_term(f2), order)\n",
       "            tmp873 = Taylor1(constant_term(tmp870) - constant_term(tmp872), order)\n",
       "            __dx[4] = Taylor1(constant_term(tmp865) * constant_term(tmp873), order)\n",
       "            begin \n",
       "                $(Expr(:inbounds, true))\n",
       "                for __idx = eachindex(__x) # /home/daniel/.julia/v0.6/TaylorIntegration/src/parse_eqs.jl, line 350:\n",
       "                    __x[__idx].coeffs[2] = __dx[__idx].coeffs[1]\n",
       "                end\n",
       "                $(Expr(:inbounds, :pop))\n",
       "            end\n",
       "            for ord = 1:order - 1\n",
       "                ordnext = ord + 1\n",
       "                TaylorSeries.pow!(t1, __x[1], 2, ord)\n",
       "                TaylorSeries.pow!(t2, __x[2], 2, ord)\n",
       "                TaylorSeries.mul!(t, t1, t2, ord)\n",
       "                TaylorSeries.subst!(R12, t1, t2, ord)\n",
       "                TaylorSeries.abs!(aR12, R12, ord)\n",
       "                TaylorSeries.pow!(RRR, aR12, 3, ord)\n",
       "                TaylorSeries.div!(c1, R12, RRR, ord)\n",
       "                TaylorSeries.div!(tmp844, 1, aR12, ord)\n",
       "                TaylorSeries.add!(f1, 1, tmp844, ord)\n",
       "                TaylorSeries.mul!(f2, t, c1, ord)\n",
       "                TaylorSeries.mul!(tmp848, t2, __x[3], ord)\n",
       "                TaylorSeries.mul!(__dx[1], 0.25, tmp848, ord)\n",
       "                TaylorSeries.mul!(tmp851, 2, __x[1], ord)\n",
       "                TaylorSeries.pow!(tmp854, __x[4], 2, ord)\n",
       "                TaylorSeries.mul!(tmp855, -0.125, tmp854, ord)\n",
       "                TaylorSeries.add!(tmp856, tmp855, Z, ord)\n",
       "                TaylorSeries.mul!(tmp857, t2, f1, ord)\n",
       "                TaylorSeries.subst!(tmp858, tmp857, f2, ord)\n",
       "                TaylorSeries.subst!(tmp859, tmp856, tmp858, ord)\n",
       "                TaylorSeries.mul!(__dx[3], tmp851, tmp859, ord)\n",
       "                TaylorSeries.mul!(tmp862, t1, __x[4], ord)\n",
       "                TaylorSeries.mul!(__dx[2], 0.25, tmp862, ord)\n",
       "                TaylorSeries.mul!(tmp865, 2, __x[2], ord)\n",
       "                TaylorSeries.pow!(tmp868, __x[3], 2, ord)\n",
       "                TaylorSeries.mul!(tmp869, -0.125, tmp868, ord)\n",
       "                TaylorSeries.add!(tmp870, tmp869, Z, ord)\n",
       "                TaylorSeries.mul!(tmp871, t1, f1, ord)\n",
       "                TaylorSeries.add!(tmp872, tmp871, f2, ord)\n",
       "                TaylorSeries.subst!(tmp873, tmp870, tmp872, ord)\n",
       "                TaylorSeries.mul!(__dx[4], tmp865, tmp873, ord)\n",
       "                begin \n",
       "                    $(Expr(:inbounds, true))\n",
       "                    for __idx = eachindex(__x) # /home/daniel/.julia/v0.6/TaylorIntegration/src/parse_eqs.jl, line 355:\n",
       "                        __x[__idx].coeffs[ordnext + 1] = __dx[__idx].coeffs[ordnext] / ordnext\n",
       "                    end\n",
       "                    $(Expr(:inbounds, :pop))\n",
       "                end\n",
       "            end\n",
       "            return nothing\n",
       "        end)\n",
       "end"
      ]
     },
     "execution_count": 7,
     "metadata": {},
     "output_type": "execute_result"
    }
   ],
   "source": [
    "@macroexpand @taylorize_ode function undrivenHelium11D!(τ, q, dq) \n",
    "    t1 = q[1]^2\n",
    "    t2 = q[2]^2\n",
    "    t = t1 * t2\n",
    "    #dq[1] = t\n",
    "    R12 = t1 - t2\n",
    "    aR12 = abs(R12)\n",
    "    #aR12 = sqrt(R12^2)\n",
    "    RRR = aR12^3\n",
    "    c1 = R12/RRR\n",
    "    f1 = (1 + 1/aR12)\n",
    "    f2 = t*c1\n",
    "   \n",
    "    dq[1] = 0.25*(t2*q[3])\n",
    "    dq[3] = (2*q[1])*(((-0.125*q[4]^2) + Z) - ((t2*f1) - f2))\n",
    "    dq[2] = 0.25*(t1*q[4])\n",
    "    dq[4] = (2*q[2])*(((-0.125*q[3]^2) + Z) - ((t1*f1) + f2))\n",
    "\n",
    "#    return [t, q₁, q₂, p₁, p₂] \n",
    "    return nothing\n",
    "end"
   ]
  },
  {
   "cell_type": "code",
   "execution_count": 6,
   "metadata": {
    "collapsed": false
   },
   "outputs": [
    {
     "name": "stderr",
     "output_type": "stream",
     "text": [
      "\u001b[1m\u001b[33mWARNING: \u001b[39m\u001b[22m\u001b[33mMaximum number of integration steps reached; exiting.\u001b[39m\n"
     ]
    },
    {
     "name": "stdout",
     "output_type": "stream",
     "text": [
      "  6.189036 seconds (45.92 M allocations: 3.043 GiB, 22.38% gc time)\n"
     ]
    }
   ],
   "source": [
    "@time t1, x1, tp1, xp1 = taylorintegps(undrivenHelium11D!, x0TN, t0, 120.0, order, abs_tol; maxsteps = 50);"
   ]
  },
  {
   "cell_type": "code",
   "execution_count": null,
   "metadata": {
    "collapsed": true
   },
   "outputs": [],
   "source": [
    "#Cargamos soluciones en archivos de texto\n",
    "xvSv = Array{Float64,2}[]\n",
    "xvSv2 = Array{Float64,2}[]\n",
    "\n",
    "\n",
    "for j in 1:5000\n",
    "    dir =string(\"MonteCarlo/xvSv\",string(j),\".csv\")\n",
    "    x = readcsv(dir)\n",
    "    push!(xvSv, x)\n",
    "end\n",
    "\n",
    "for j in 1:800\n",
    "    dir =string(\"Circ/xvSv\",string(j),\".csv\")\n",
    "    x = readcsv(dir)\n",
    "    push!(xvSv2, x)\n",
    "end"
   ]
  },
  {
   "cell_type": "code",
   "execution_count": null,
   "metadata": {
    "collapsed": true
   },
   "outputs": [],
   "source": [
    "xsv = copy(xvSv)\n",
    "x0 = xvSv[1]\n",
    "for k in 1:length(xvSv)\n",
    "    xsv[k] -= x0\n",
    "end\n",
    "\n",
    "xsv2 = copy(xvSv2)\n",
    "x0 = xvSv2[1]\n",
    "for k in 1:length(xvSv2)\n",
    "    xsv2[k] -= x0\n",
    "end"
   ]
  },
  {
   "cell_type": "code",
   "execution_count": null,
   "metadata": {
    "collapsed": false
   },
   "outputs": [],
   "source": [
    "#Vemos si las cosas se salen de control\n",
    "poincareuh = @animate for i=1:157\n",
    "    scatter(map(x->x[i,1], xvSv), map(x->x[i,3], xvSv), label=\"$(i)-th iterate\", m=(1,stroke(0)))\n",
    "    scatter!(map(x->x[i,1], xvSv2), map(x->x[i,3], xvSv2), label=\"$(i)-th iterate\", m=(1,stroke(0)), color = :red)\n",
    "    xlims!(5.8003997,5.8004053)\n",
    "    ylims!(-0.00000025,0.00000025)\n",
    "    xlabel!(\"x\")\n",
    "    ylabel!(\"pₓ\")\n",
    "    title!(\"UH Poincaré map near at point (5.8004, 0.0)\")\n",
    "end\n",
    "gif(poincareuh, \"./poincareuh2.gif\", fps = 2)"
   ]
  },
  {
   "cell_type": "code",
   "execution_count": null,
   "metadata": {
    "collapsed": false
   },
   "outputs": [],
   "source": [
    "poincareuh = @animate for i=1:15:157\n",
    "    scatter(map(x->x[i,1], xvSv), map(x->x[i,3], xvSv), label=\"$(i)-th iterate\", m=(1,stroke(0)))\n",
    "    scatter!(map(x->x[i,1], xvSv2), map(x->x[i,3], xvSv2), label=\"$(i)-th iterate\", m=(1,stroke(0)), color = :red)\n",
    "    xlims!(5.8003997,5.8004053)\n",
    "    ylims!(-0.00000025,0.00000025)\n",
    "    xlabel!(\"x\")\n",
    "    ylabel!(\"pₓ\")\n",
    "    title!(\"UH Poincaré map near at point (5.8004, 0.0)\")\n",
    "end\n",
    "gif(poincareuh, \"./poincareuh3.gif\", fps = 2)"
   ]
  },
  {
   "cell_type": "code",
   "execution_count": null,
   "metadata": {
    "collapsed": false
   },
   "outputs": [],
   "source": [
    "\n",
    "x0 = Float64[5.8004, 0.00000000]\n",
    "circ_inis = Array{Array{Float64,1},1}(5000)\n",
    "circ_inis[1] = x0\n",
    "for i in 2:5000\n",
    "    rand1 = rand(); rand2 = rand()\n",
    "    x_ini = x0 + 0.00000002*[rand1*cos(2pi*rand2),rand1*sin(2pi*rand2)]\n",
    "    circ_inis[i] = x_ini\n",
    "end"
   ]
  },
  {
   "cell_type": "code",
   "execution_count": null,
   "metadata": {
    "collapsed": false
   },
   "outputs": [],
   "source": [
    "scatter(map(x->x[1,1], xvSv), map(x->x[1,3], xvSv), label=\"$(1)-th iterate\", m=(2,stroke(0)))\n",
    "scatter!(map(x->x[134,1], xvSv), map(x->x[134,3], xvSv), label=\"$(134)-th iterate\", m=(2,stroke(0)), color = :red)\n",
    "scatter!(map(x->x[1], circ_inis), map(x->x[2], circ_inis), label=\"Interseccion\", m=(2,stroke(0)), color = :blue)"
   ]
  },
  {
   "cell_type": "code",
   "execution_count": null,
   "metadata": {
    "collapsed": false
   },
   "outputs": [],
   "source": [
    "\n",
    "#Vemos la evolución del volumen\n",
    "poincareuh = @animate for i=1:157\n",
    "    scatter(map(x->x[i,1], xsv), map(x->x[i,3], xsv), label=\"$(i)-th iterate\", m=(2,stroke(0)))\n",
    "    #scatter!(map(x->x[i,1], xsv2), map(x->x[i,3], xsv2), label=\"$(i)-th iterate\", m=(1,stroke(0)), color = :red)\n",
    "    xlims!(-0.0000005,0.0000005)\n",
    "    ylims!(-0.0000005,0.0000005)\n",
    "    xlabel!(\"x\")\n",
    "    ylabel!(\"pₓ\")\n",
    "    title!(\"UH Poincaré map near at point (5.8004, 0.0)\")\n",
    "end\n",
    "gif(poincareuh, \"./poincareuh3.gif\", fps = 2)"
   ]
  },
  {
   "cell_type": "code",
   "execution_count": null,
   "metadata": {
    "collapsed": false
   },
   "outputs": [],
   "source": [
    "function psundriven{T<:Number}(x10::T, px10::T; tol::Float64 = 1e-20, tmax = 100.0, maxsteps1 = 5_000 )\n",
    "    c1 = condini1D(x10, px10)\n",
    "    t, x, tp, xp = taylorintegps(undrivenHelium1D!, c1, t0, tmax, order, abs_tol; maxsteps = maxsteps1)\n",
    "    \n",
    "    xpm = similar(xp)\n",
    "    xpm[:,1] = map(ks, xp[:,1])\n",
    "    xpm[:,3] = Float64[ksv(xp[k,1], xp[k, 3]) for k in eachindex(tp)]\n",
    "    xpm[:,2] = map(ks, xp[:,2])\n",
    "    xpm[:,4] = Float64[ksv(xp[k,2], xp[k, 4]) for k in eachindex(tp)]\n",
    "\n",
    "    return xpm, t, x\n",
    "end\n",
    "function ksv(Q, P)\n",
    "    v₁ = P/2Q\n",
    "    return v₁\n",
    "end\n",
    "ks(Q) = Q^2"
   ]
  },
  {
   "cell_type": "code",
   "execution_count": null,
   "metadata": {
    "collapsed": false
   },
   "outputs": [],
   "source": [
    "xvSv3 = Array{Float64,2}[]\n",
    "\n",
    "#Comentado, pues ya se calculó\n",
    "contador = 0\n",
    "@time for x in circ_inis\n",
    "    xtemp = Float64[x[1], 0.0, x[2], Inf]\n",
    "    xp, t, xt = psundriven(x[1], x[2]; tmax = 120.0, maxsteps1 = 5_000 )\n",
    "    push!(xvSv3, vcat(xtemp', xp))\n",
    "    contador += 1\n",
    "    if mod(contador, 500) == 0\n",
    "        println(string(contador), \" de 5000\")\n",
    "    end\n",
    "end\n",
    "\n",
    "contador = 1\n",
    "for x in xvSv3\n",
    "    dir =string(\"MonteCarlo2/xvSv\",string(contador),\".csv\")\n",
    "    writecsv(dir, x)\n",
    "    contador += 1\n",
    "end\n",
    "\n",
    "#for j in 1:5000\n",
    "#    dir =string(\"MonteCarlo2/xvSv\",string(j),\".csv\")\n",
    "#    x = readcsv(dir)\n",
    "#    push!(xvSv3, x)\n",
    "#end"
   ]
  },
  {
   "cell_type": "code",
   "execution_count": null,
   "metadata": {
    "collapsed": true
   },
   "outputs": [],
   "source": [
    "x0 = Float64[5.8004000, 0.00]\n",
    "circ_inis2 = Array{Array{Float64,1},1}(5000)\n",
    "circ_inis2[1] = x0\n",
    "for i in 2:5000\n",
    "    rand1 = rand(); rand2 = rand()\n",
    "    x_ini = x0 + 0.000000006*[rand1*cos(2pi*rand2),rand1*sin(2pi*rand2)]\n",
    "    circ_inis2[i] = x_ini\n",
    "end"
   ]
  },
  {
   "cell_type": "code",
   "execution_count": null,
   "metadata": {
    "collapsed": false
   },
   "outputs": [],
   "source": [
    "scatter(map(x->x[1,1], xvSv3), map(x->x[1,3], xvSv3), label=\"$(1)-th iterate\", m=(2,stroke(0)))\n",
    "scatter!(map(x->x[134,1], xvSv3), map(x->x[134,3], xvSv3), label=\"$(134)-th iterate\", m=(2,stroke(0)), color = :red)\n",
    "scatter!(map(x->x[1], circ_inis2), map(x->x[2], circ_inis2), label=\"Interseccion\", m=(2,stroke(0)), color = :blue)"
   ]
  },
  {
   "cell_type": "code",
   "execution_count": null,
   "metadata": {
    "collapsed": false
   },
   "outputs": [],
   "source": [
    "xvSv4 = Array{Float64,2}[]\n",
    "contador = 0\n",
    "@time for x in circ_inis2\n",
    "    xtemp = Float64[x[1], 0.0, x[2], Inf]\n",
    "    xp, t, xt = psundriven(x[1], x[2]; tmax = 120.0, maxsteps1 = 5_000 )\n",
    "    push!(xvSv4, vcat(xtemp', xp))\n",
    "    contador += 1\n",
    "    if mod(contador, 500) == 0\n",
    "        println(string(contador), \" de 5000\")\n",
    "    end\n",
    "end"
   ]
  },
  {
   "cell_type": "code",
   "execution_count": null,
   "metadata": {
    "collapsed": true
   },
   "outputs": [],
   "source": [
    "contador = 1\n",
    "for x in xvSv4\n",
    "    dir =string(\"MonteCarlo3/xvSv\",string(contador),\".csv\")\n",
    "    writecsv(dir, x)\n",
    "    contador += 1\n",
    "end\n",
    "\n"
   ]
  },
  {
   "cell_type": "code",
   "execution_count": null,
   "metadata": {
    "collapsed": false
   },
   "outputs": [],
   "source": [
    "scatter(map(x->x[1,1], xvSv4), map(x->x[1,3], xvSv4), label=\"$(1)-th iterate\", m=(2,stroke(0)))\n",
    "scatter!(map(x->x[16,1], xvSv4), map(x->x[16,3], xvSv4), label=\"$(16)-th iterate\", m=(2,stroke(0)), color = :red)"
   ]
  },
  {
   "cell_type": "code",
   "execution_count": null,
   "metadata": {
    "collapsed": true
   },
   "outputs": [],
   "source": [
    "xvSv4 = Array{Float64,2}[]\n",
    "for j in 1:5000\n",
    "    dir =string(\"MonteCarlo3/xvSv\",string(j),\".csv\")\n",
    "    x = readcsv(dir)\n",
    "    push!(xvSv4, x)\n",
    "end"
   ]
  },
  {
   "cell_type": "code",
   "execution_count": null,
   "metadata": {
    "collapsed": false
   },
   "outputs": [],
   "source": [
    "scatter(map(x->x[1,1], xvSv4), map(x->x[1,3], xvSv4), label=\"$(1)-th iterate\", m=(2,stroke(0)))\n",
    "scatter!(map(x->x[134,1], xvSv4), map(x->x[134,3], xvSv4), label=\"$(16)-th iterate\", m=(2,stroke(0)), color = :red)"
   ]
  },
  {
   "cell_type": "code",
   "execution_count": null,
   "metadata": {
    "collapsed": true
   },
   "outputs": [],
   "source": []
  }
 ],
 "metadata": {
  "kernelspec": {
   "display_name": "Julia 0.6.0",
   "language": "julia",
   "name": "julia-0.6"
  },
  "language_info": {
   "file_extension": ".jl",
   "mimetype": "application/julia",
   "name": "julia",
   "version": "0.6.0"
  }
 },
 "nbformat": 4,
 "nbformat_minor": 0
}
