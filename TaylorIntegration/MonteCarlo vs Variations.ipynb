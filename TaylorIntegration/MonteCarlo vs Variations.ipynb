{
 "cells": [
  {
   "cell_type": "code",
   "execution_count": 1,
   "metadata": {
    "collapsed": false,
    "scrolled": false
   },
   "outputs": [],
   "source": [
    "#using TaylorSeries\n",
    "include(\"UndrivenHelium.jl\")\n",
    "#include(\"Integ.jl\")\n",
    "using Plots, LaTeXStrings\n",
    "# plotly()\n",
    "pyplot(grid = :false, size=(600,600), color=:black, markersize = 0.3 )\n",
    "const Z = 2.0\n",
    "const order = 34\n",
    "const t0 = 0.0\n",
    "const t_max = 0.5 \n",
    "const abs_tol = 1.0E-20\n",
    "const steps = 8_000;"
   ]
  },
  {
   "cell_type": "code",
   "execution_count": 2,
   "metadata": {
    "collapsed": false
   },
   "outputs": [
    {
     "data": {
      "text/plain": [
       "taylorintegps (generic function with 1 method)"
      ]
     },
     "execution_count": 2,
     "metadata": {},
     "output_type": "execute_result"
    }
   ],
   "source": [
    "include(\"Integ.jl\")"
   ]
  },
  {
   "cell_type": "code",
   "execution_count": 3,
   "metadata": {
    "collapsed": true
   },
   "outputs": [],
   "source": [
    "#Cargamos soluciones en archivos de texto\n",
    "xvSv = Array{Float64,2}[]\n",
    "xvSv2 = Array{Float64,2}[]\n",
    "\n",
    "\n",
    "for j in 1:2000\n",
    "    dir =string(\"MonteCarlo/xvSv\",string(j),\".csv\")\n",
    "    x = readcsv(dir)\n",
    "    push!(xvSv, x)\n",
    "end\n",
    "\n",
    "for j in 1:500\n",
    "    dir =string(\"Circ/xvSv\",string(j),\".csv\")\n",
    "    x = readcsv(dir)\n",
    "    push!(xvSv2, x)\n",
    "end"
   ]
  },
  {
   "cell_type": "code",
   "execution_count": 7,
   "metadata": {
    "collapsed": false
   },
   "outputs": [
    {
     "data": {
      "text/plain": [
       "157×4 Array{Float64,2}:\n",
       " 5.8004   0.0           2.20985e-8   Inf         \n",
       " 5.8004   0.0           1.15114e-7  -Inf         \n",
       " 5.8004   3.08149e-33   1.87641e-7     3.60288e16\n",
       " 5.8004   0.0           2.2677e-7   -Inf         \n",
       " 5.8004   0.0           2.25537e-7   Inf         \n",
       " 5.8004   0.0           1.84161e-7  -Inf         \n",
       " 5.8004   0.0           1.10007e-7   Inf         \n",
       " 5.80041  0.0           1.62724e-8  -Inf         \n",
       " 5.8004   0.0          -8.0358e-8    Inf         \n",
       " 5.8004   0.0          -1.62686e-7  -Inf         \n",
       " 5.8004   0.0          -2.16057e-7   Inf         \n",
       " 5.8004   0.0          -2.30974e-7  -Inf         \n",
       " 5.8004   0.0          -2.04779e-7   Inf         \n",
       " ⋮                                               \n",
       " 5.8004   0.0          -2.0618e-7   -Inf         \n",
       " 5.8004   0.0          -1.4453e-7    Inf         \n",
       " 5.8004   7.70372e-34  -5.71542e-8     7.20576e16\n",
       " 5.8004   0.0           4.0394e-8    Inf         \n",
       " 5.8004   0.0           1.30752e-7  -Inf         \n",
       " 5.8004   0.0           1.97839e-7   Inf         \n",
       " 5.8004   0.0           2.29712e-7  -Inf         \n",
       " 5.8004   0.0           2.20699e-7   Inf         \n",
       " 5.8004   7.70372e-34   1.72405e-7     7.20576e16\n",
       " 5.8004   7.70372e-34   9.34248e-8    -7.20576e16\n",
       " 5.80041  0.0          -2.18386e-9  -Inf         \n",
       " 5.8004   0.0          -9.74038e-8   Inf         "
      ]
     },
     "execution_count": 7,
     "metadata": {},
     "output_type": "execute_result"
    }
   ],
   "source": [
    "LOL = xvSv2[1]\n",
    "LOL2 = xvSv2[2]"
   ]
  },
  {
   "cell_type": "code",
   "execution_count": 8,
   "metadata": {
    "collapsed": false
   },
   "outputs": [
    {
     "data": {
      "text/plain": [
       "157×4 Array{Float64,2}:\n",
       "  1.54679e-9   0.0           4.70926e-8   NaN\n",
       "  2.12569e-7   0.0           4.2843e-8    NaN\n",
       "  3.85756e-7   3.08149e-33   3.09678e-8  -Inf\n",
       "  4.90284e-7   0.0           1.35808e-8   NaN\n",
       "  5.07547e-7   0.0          -6.22347e-9   NaN\n",
       "  4.34473e-7  -3.08149e-33  -2.492e-8    -Inf\n",
       "  2.84068e-7   0.0          -3.91811e-8   NaN\n",
       "  8.31029e-8   0.0          -4.64684e-8   NaN\n",
       " -1.32653e-7   0.0          -4.54849e-8   NaN\n",
       " -3.24799e-7   0.0          -3.64058e-8   NaN\n",
       " -4.59135e-7   0.0          -2.08468e-8   NaN\n",
       " -5.1175e-7    0.0          -1.57736e-9   NaN\n",
       " -4.7328e-7    0.0           1.79729e-8   NaN\n",
       "  ⋮                                          \n",
       " -4.75814e-7   0.0           1.73979e-8   NaN\n",
       " -3.55458e-7   0.0           3.38964e-8   NaN\n",
       " -1.71836e-7   7.70372e-34   4.43618e-8   Inf\n",
       "  4.23716e-8   0.0           4.69313e-8   NaN\n",
       "  2.49037e-7   0.0           4.11476e-8   NaN\n",
       "  4.11377e-7   0.0           2.80402e-8   NaN\n",
       "  5.00497e-7   0.0           9.94189e-9   NaN\n",
       "  5.00535e-7   0.0          -9.92589e-9   NaN\n",
       "  4.11483e-7   7.70372e-34  -2.8027e-8    Inf\n",
       "  2.49193e-7   7.70372e-34  -4.11396e-8  -Inf\n",
       "  4.25498e-8  -7.70372e-34  -4.69299e-8  -Inf\n",
       " -1.71667e-7   0.0          -4.43673e-8   NaN"
      ]
     },
     "execution_count": 8,
     "metadata": {},
     "output_type": "execute_result"
    }
   ],
   "source": [
    "LOL2 -= LOL"
   ]
  },
  {
   "cell_type": "code",
   "execution_count": 4,
   "metadata": {
    "collapsed": false
   },
   "outputs": [
    {
     "data": {
      "text/plain": [
       "157×4 Array{Float64,2}:\n",
       " 5.8004   0.0           2.20985e-8   Inf         \n",
       " 5.8004   0.0           1.15114e-7  -Inf         \n",
       " 5.8004   3.08149e-33   1.87641e-7     3.60288e16\n",
       " 5.8004   0.0           2.2677e-7   -Inf         \n",
       " 5.8004   0.0           2.25537e-7   Inf         \n",
       " 5.8004   0.0           1.84161e-7  -Inf         \n",
       " 5.8004   0.0           1.10007e-7   Inf         \n",
       " 5.80041  0.0           1.62724e-8  -Inf         \n",
       " 5.8004   0.0          -8.0358e-8    Inf         \n",
       " 5.8004   0.0          -1.62686e-7  -Inf         \n",
       " 5.8004   0.0          -2.16057e-7   Inf         \n",
       " 5.8004   0.0          -2.30974e-7  -Inf         \n",
       " 5.8004   0.0          -2.04779e-7   Inf         \n",
       " ⋮                                               \n",
       " 5.8004   0.0          -2.0618e-7   -Inf         \n",
       " 5.8004   0.0          -1.4453e-7    Inf         \n",
       " 5.8004   7.70372e-34  -5.71542e-8     7.20576e16\n",
       " 5.8004   0.0           4.0394e-8    Inf         \n",
       " 5.8004   0.0           1.30752e-7  -Inf         \n",
       " 5.8004   0.0           1.97839e-7   Inf         \n",
       " 5.8004   0.0           2.29712e-7  -Inf         \n",
       " 5.8004   0.0           2.20699e-7   Inf         \n",
       " 5.8004   7.70372e-34   1.72405e-7     7.20576e16\n",
       " 5.8004   7.70372e-34   9.34248e-8    -7.20576e16\n",
       " 5.80041  0.0          -2.18386e-9  -Inf         \n",
       " 5.8004   0.0          -9.74038e-8   Inf         "
      ]
     },
     "execution_count": 4,
     "metadata": {},
     "output_type": "execute_result"
    }
   ],
   "source": [
    "xvSv2[2]"
   ]
  },
  {
   "cell_type": "code",
   "execution_count": 9,
   "metadata": {
    "collapsed": true
   },
   "outputs": [],
   "source": [
    "xsv = copy(xvSv)\n",
    "x0 = xvSv[1]\n",
    "for k in 1:length(xvSv)\n",
    "    xsv[k] -= x0\n",
    "end\n",
    "\n",
    "xsv2 = copy(xvSv2)\n",
    "x0 = xvSv2[1]\n",
    "for k in 1:length(xvSv2)\n",
    "    xsv2[k] -= x0\n",
    "end"
   ]
  },
  {
   "cell_type": "code",
   "execution_count": 12,
   "metadata": {
    "collapsed": false
   },
   "outputs": [
    {
     "name": "stderr",
     "output_type": "stream",
     "text": [
      "\u001b[1m\u001b[36mINFO: \u001b[39m\u001b[22m\u001b[36mSaved animation to /home/daniel/Documents/2017-2/Tesis/UndrivenHelium/TaylorIntegration/poincareuh2.gif\n",
      "\u001b[39m"
     ]
    },
    {
     "data": {
      "text/html": [
       "<img src=\"poincareuh2.gif?0.5647913357144472>\" />"
      ],
      "text/plain": [
       "Plots.AnimatedGif(\"/home/daniel/Documents/2017-2/Tesis/UndrivenHelium/TaylorIntegration/poincareuh2.gif\")"
      ]
     },
     "execution_count": 12,
     "metadata": {},
     "output_type": "execute_result"
    }
   ],
   "source": [
    "#Vemos si las cosas se salen de control\n",
    "poincareuh = @animate for i=1:157\n",
    "    scatter(map(x->x[i,1], xvSv), map(x->x[i,3], xvSv), label=\"$(i)-th iterate\", m=(1,stroke(0)))\n",
    "    scatter!(map(x->x[i,1], xvSv2), map(x->x[i,3], xvSv2), label=\"$(i)-th iterate\", m=(1,stroke(0)), color = :red)\n",
    "    xlims!(5.8003997,5.8004053)\n",
    "    ylims!(-0.00000025,0.00000025)\n",
    "    xlabel!(\"x\")\n",
    "    ylabel!(\"pₓ\")\n",
    "    title!(\"UH Poincaré map near at point (5.8004, 0.0)\")\n",
    "end\n",
    "gif(poincareuh, \"./poincareuh2.gif\", fps = 2)"
   ]
  },
  {
   "cell_type": "code",
   "execution_count": 26,
   "metadata": {
    "collapsed": false
   },
   "outputs": [
    {
     "name": "stderr",
     "output_type": "stream",
     "text": [
      "\u001b[1m\u001b[36mINFO: \u001b[39m\u001b[22m\u001b[36mSaved animation to /home/daniel/Documents/2017-2/Tesis/UndrivenHelium/TaylorIntegration/poincareuh4.gif\n",
      "\u001b[39m"
     ]
    },
    {
     "data": {
      "text/html": [
       "<img src=\"poincareuh4.gif?0.9520444163200192>\" />"
      ],
      "text/plain": [
       "Plots.AnimatedGif(\"/home/daniel/Documents/2017-2/Tesis/UndrivenHelium/TaylorIntegration/poincareuh4.gif\")"
      ]
     },
     "execution_count": 26,
     "metadata": {},
     "output_type": "execute_result"
    }
   ],
   "source": [
    "poincareuh = @animate for i=1:15:157\n",
    "    scatter(map(x->x[i,1], xvSv), map(x->x[i,3], xvSv), label=\"$(i)-th iterate\", m=(1,stroke(0)))\n",
    "    scatter!(map(x->x[i,1], xvSv2), map(x->x[i,3], xvSv2), label=\"$(i)-th iterate\", m=(1,stroke(0)), color = :red)\n",
    "    xlims!(5.8003997,5.8004053)\n",
    "    ylims!(-0.00000025,0.00000025)\n",
    "    xlabel!(\"x\")\n",
    "    ylabel!(\"pₓ\")\n",
    "    title!(\"UH Poincaré map near at point (5.8004, 0.0)\")\n",
    "end\n",
    "gif(poincareuh, \"./poincareuh4.gif\", fps = 2)"
   ]
  },
  {
   "cell_type": "code",
   "execution_count": 32,
   "metadata": {
    "collapsed": false
   },
   "outputs": [
    {
     "data": {
      "text/html": [
       "<img src=\"data:image/png;base64,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\" />"
      ]
     },
     "execution_count": 32,
     "metadata": {},
     "output_type": "execute_result"
    }
   ],
   "source": [
    "scatter(map(x->x[1,1], xvSv), map(x->x[1,3], xvSv), label=\"$(1)-th iterate\", m=(2,stroke(0)))\n",
    "scatter!(map(x->x[16,1], xvSv), map(x->x[16,3], xvSv), label=\"$(16)-th iterate\", m=(2,stroke(0)), color = :red)"
   ]
  },
  {
   "cell_type": "code",
   "execution_count": 24,
   "metadata": {
    "collapsed": false
   },
   "outputs": [
    {
     "name": "stderr",
     "output_type": "stream",
     "text": [
      "\u001b[1m\u001b[36mINFO: \u001b[39m\u001b[22m\u001b[36mSaved animation to /home/daniel/Documents/2017-2/Tesis/UndrivenHelium/TaylorIntegration/poincareuh3.gif\n",
      "\u001b[39m"
     ]
    },
    {
     "data": {
      "text/html": [
       "<img src=\"poincareuh3.gif?0.210623841157348>\" />"
      ],
      "text/plain": [
       "Plots.AnimatedGif(\"/home/daniel/Documents/2017-2/Tesis/UndrivenHelium/TaylorIntegration/poincareuh3.gif\")"
      ]
     },
     "execution_count": 24,
     "metadata": {},
     "output_type": "execute_result"
    }
   ],
   "source": [
    "\n",
    "#Vemos la evolución del volumen\n",
    "poincareuh = @animate for i=1:157\n",
    "    scatter(map(x->x[i,1], xsv), map(x->x[i,3], xsv), label=\"$(i)-th iterate\", m=(2,stroke(0)))\n",
    "    #scatter!(map(x->x[i,1], xsv2), map(x->x[i,3], xsv2), label=\"$(i)-th iterate\", m=(1,stroke(0)), color = :red)\n",
    "    xlims!(-0.0000005,0.0000005)\n",
    "    ylims!(-0.0000005,0.0000005)\n",
    "    xlabel!(\"x\")\n",
    "    ylabel!(\"pₓ\")\n",
    "    title!(\"UH Poincaré map near at point (5.8004, 0.0)\")\n",
    "end\n",
    "gif(poincareuh, \"./poincareuh3.gif\", fps = 2)"
   ]
  }
 ],
 "metadata": {
  "kernelspec": {
   "display_name": "Julia 0.6.0-rc3",
   "language": "julia",
   "name": "julia-0.6"
  },
  "language_info": {
   "file_extension": ".jl",
   "mimetype": "application/julia",
   "name": "julia",
   "version": "0.6.0"
  }
 },
 "nbformat": 4,
 "nbformat_minor": 0
}
