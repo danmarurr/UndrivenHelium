{
 "cells": [
  {
   "cell_type": "code",
   "execution_count": 1,
   "metadata": {
    "collapsed": false
   },
   "outputs": [
    {
     "data": {
      "text/plain": [
       "500000"
      ]
     },
     "execution_count": 1,
     "metadata": {},
     "output_type": "execute_result"
    }
   ],
   "source": [
    "using TaylorSeries, TaylorIntegration\n",
    "using Plots, LaTeXStrings\n",
    "# plotly()\n",
    "pyplot(grid = :false, legend = :false, size=(600,600), color=:black, markersize = 0.3 )\n",
    "const Z = 2.0\n",
    "const order = 20\n",
    "const t0 = 0.0\n",
    "const t_max = 0.5 \n",
    "const abs_tol = 1.0E-20\n",
    "const steps = 500_000"
   ]
  },
  {
   "cell_type": "code",
   "execution_count": 2,
   "metadata": {
    "collapsed": false
   },
   "outputs": [
    {
     "data": {
      "text/plain": [
       "regHam (generic function with 2 methods)"
      ]
     },
     "execution_count": 2,
     "metadata": {},
     "output_type": "execute_result"
    }
   ],
   "source": [
    "function undrivenHelium!(τ, q, dq)\n",
    "    Q₁, Q₂, P₁, P₂ = q\n",
    "    \n",
    "    t1 = Q₁^2\n",
    "    t2 = Q₂^2\n",
    "    t = t1 * t2\n",
    "    R12 = t1 - t2\n",
    "    aR12 = abs(R12)\n",
    "    RRR = aR12^3\n",
    "    c1 = R12/RRR\n",
    "   \n",
    "    dq[1] = 0.25*t2*P₁\n",
    "    dq[3] = 2*Q₁*(-0.125*P₂^2 + Z  - t2 - t2/aR12 + t*c1)\n",
    "    dq[2] = 0.25*t1*P₂\n",
    "    dq[4] = 2*Q₂*(-0.125*P₁^2 + Z  - t1 - t1/aR12 - t*c1)\n",
    "\n",
    "#    return [t, q₁, q₂, p₁, p₂] \n",
    "    nothing\n",
    "end\n",
    "\n",
    "var1 = set_variables(\"t q1 q2 p1 p2\", order = 1)\n",
    "\n",
    "\n",
    "function condini(x10::Float64, px10::Float64)\n",
    "    @assert x10 != 0\n",
    "    Q1 = sqrt(x10)\n",
    "    Q2 = 0.0\n",
    "    P1 = px10*sqrt(x10)    \n",
    "    P2 = sqrt(8Z)    \n",
    "    return Float64[Q1, Q2, P1, P2]\n",
    "end\n",
    "\n",
    "function regHam(t, Q₁, Q₂, P₁, P₂)\n",
    "    #Cantidades auxiliares\n",
    "    P₁² = P₁^2\n",
    "    P₂² = P₂^2\n",
    "    Q₁² = Q₁^2\n",
    "    Q₂² = Q₂^2\n",
    "    nf = abs(Q₁² - Q₂²)\n",
    "    \n",
    "    H = 0.125*(P₁²*Q₂² + P₂²*Q₁²) - Z*(Q₁² + Q₂²) + Q₁²*Q₂²*(1.0 + 1.0/nf)\n",
    "    return H\n",
    "end\n",
    "\n",
    "\n",
    "regHam(v) = regHam(v...)"
   ]
  },
  {
   "cell_type": "code",
   "execution_count": 3,
   "metadata": {
    "collapsed": false
   },
   "outputs": [
    {
     "data": {
      "text/plain": [
       "vareqs_taylorinteg (generic function with 1 method)"
      ]
     },
     "execution_count": 3,
     "metadata": {},
     "output_type": "execute_result"
    }
   ],
   "source": [
    "function vareqs_taylorinteg{T<:Number}(f, q0::Array{T,1}, t0::T, tmax::T,\n",
    "        order::Int, abstol::T; maxsteps::Int=500)\n",
    "    # Allocation\n",
    "    const tv = Array{T}(maxsteps+1)\n",
    "    dof = length(q0)\n",
    "    const xv = Array{T}(dof, maxsteps+1)\n",
    "    const jt = eye(T, dof)\n",
    "    const vT = zeros(T, order+1)\n",
    "    vT[2] = one(T)\n",
    "\n",
    "    # NOTE: This changes GLOBALLY internal parameters of TaylorN\n",
    "    global _δv = set_variables(\"δ\", order=1, numvars=dof)\n",
    "\n",
    "    # Initial conditions\n",
    "    @inbounds tv[1] = t0\n",
    "    for ind in 1:dof\n",
    "        @inbounds xv[ind,1] = q0[ind]\n",
    "    end\n",
    "    const x0 = vcat(q0, reshape(jt, dof*dof))\n",
    "    nx0 = dof*(dof+1)\n",
    "    t00 = t0\n",
    "\n",
    "    # Initialize the vector of Taylor1 expansions\n",
    "    const x = Array{Taylor1{T}}(nx0)\n",
    "    for i in eachindex(x0)\n",
    "        @inbounds x[i] = Taylor1( x0[i], order )\n",
    "    end\n",
    "\n",
    "    #Allocate auxiliary arrays\n",
    "    const dx = Array{Taylor1{T}}(nx0)\n",
    "    const xaux = Array{Taylor1{T}}(nx0)\n",
    "    const δx = Array{TaylorN{Taylor1{T}}}(dof)\n",
    "    const dδx = Array{TaylorN{Taylor1{T}}}(dof)\n",
    "    const jac = Array{Taylor1{T}}(dof,dof)\n",
    "    for i in eachindex(jac)\n",
    "        @inbounds jac[i] = zero(x[1])\n",
    "    end\n",
    "\n",
    "    #auxiliary arrays for symplectic structure tests\n",
    "    const δSv = Array{T}(maxsteps+1); δSv[1] = zero(T)\n",
    "    auxJn = Int(dof/2)\n",
    "    const J_n = vcat(  hcat(zeros(auxJn,auxJn), eye(auxJn,auxJn)), hcat(-eye(auxJn,auxJn), zeros(auxJn,auxJn))  )\n",
    "\n",
    "    # Integration\n",
    "    nsteps = 1\n",
    "    while t0 < tmax\n",
    "        δt = TaylorIntegration.liap_taylorstep!(f, x, dx, xaux, δx, dδx, jac, t0, tmax, x0, order, abstol, vT)\n",
    "        for ind in eachindex(jt)\n",
    "            @inbounds jt[ind] = x0[dof+ind]\n",
    "        end\n",
    "        t0 += δt\n",
    "        tspan = t0-t00\n",
    "        nsteps += 1\n",
    "        @inbounds tv[nsteps] = t0\n",
    "        @inbounds for ind in 1:dof\n",
    "            xv[ind,nsteps] = x0[ind]\n",
    "        end\n",
    "        δSv[nsteps] = norm( jt'*J_n*jt-J_n, Inf)\n",
    "        if nsteps > maxsteps\n",
    "            warn(\"\"\"\n",
    "            Maximum number of integration steps reached; exiting.\n",
    "            \"\"\")\n",
    "            break\n",
    "        end\n",
    "    end\n",
    "\n",
    "    return view(tv,1:nsteps),  view(transpose(xv),1:nsteps,:),  view(δSv,1:nsteps)\n",
    "end"
   ]
  },
  {
   "cell_type": "code",
   "execution_count": null,
   "metadata": {
    "collapsed": true
   },
   "outputs": [],
   "source": [
    "x0"
   ]
  },
  {
   "cell_type": "code",
   "execution_count": 4,
   "metadata": {
    "collapsed": false
   },
   "outputs": [
    {
     "data": {
      "text/plain": [
       "4-element Array{Float64,1}:\n",
       " 1.60312\n",
       " 0.0    \n",
       " 0.0    \n",
       " 4.0    "
      ]
     },
     "execution_count": 4,
     "metadata": {},
     "output_type": "execute_result"
    }
   ],
   "source": [
    "#Initial conditions\n",
    "c1 = condini(2.57, 0.0)"
   ]
  },
  {
   "cell_type": "code",
   "execution_count": 11,
   "metadata": {
    "collapsed": false
   },
   "outputs": [
    {
     "data": {
      "text/plain": [
       "318-element SubArray{Float64,1,Array{Float64,1},Tuple{UnitRange{Int64}},true}:\n",
       "  0.0      \n",
       "  0.0949279\n",
       "  0.189856 \n",
       "  0.284784 \n",
       "  0.379712 \n",
       "  0.47464  \n",
       "  0.569568 \n",
       "  0.664495 \n",
       "  0.759423 \n",
       "  0.854351 \n",
       "  0.949279 \n",
       "  1.04421  \n",
       "  1.13914  \n",
       "  ⋮        \n",
       " 29.0479   \n",
       " 29.1429   \n",
       " 29.2378   \n",
       " 29.3327   \n",
       " 29.4277   \n",
       " 29.5226   \n",
       " 29.6175   \n",
       " 29.7124   \n",
       " 29.8074   \n",
       " 29.9023   \n",
       " 29.9972   \n",
       " 30.0      "
      ]
     },
     "execution_count": 11,
     "metadata": {},
     "output_type": "execute_result"
    }
   ],
   "source": [
    "tvS"
   ]
  },
  {
   "cell_type": "code",
   "execution_count": 8,
   "metadata": {
    "collapsed": false
   },
   "outputs": [
    {
     "name": "stdout",
     "output_type": "stream",
     "text": [
      "  5.164946 seconds (57.32 M allocations: 5.815 GiB, 17.73% gc time)\n"
     ]
    },
    {
     "name": "stderr",
     "output_type": "stream",
     "text": [
      "\u001b[1m\u001b[33mWARNING: \u001b[39m\u001b[22m\u001b[33mMaximum number of integration steps reached; exiting.\u001b[39m\n"
     ]
    }
   ],
   "source": [
    "@time t1, x1 = taylorinteg(undrivenHelium!, c1, 0.0, 30.0, 25, 1e-20, maxsteps=30000 );  "
   ]
  },
  {
   "cell_type": "code",
   "execution_count": 9,
   "metadata": {
    "collapsed": false
   },
   "outputs": [
    {
     "data": {
      "text/plain": [
       "30001×4 SubArray{Float64,2,Array{Float64,2},Tuple{UnitRange{Int64},Base.Slice{Base.OneTo{Int64}}},false}:\n",
       "   1.60312   0.0         0.0         4.0      \n",
       "   1.60312   0.276405   -0.0033146   3.95213  \n",
       "   1.60308   0.496706   -0.0176984   3.83571  \n",
       "   1.60289   0.678943   -0.0388874   3.66518  \n",
       "   1.60246   0.824189   -0.0539517   3.45254  \n",
       "   1.60186   0.946972   -0.0483036   3.18103  \n",
       "   1.60149   1.03795    -0.0102858   2.88229  \n",
       "   1.60178   1.10858     0.0668074   2.54466  \n",
       "   1.60321   1.16312     0.18684     2.16577  \n",
       "   1.60621   1.20414     0.348527    1.74891  \n",
       "   1.61115   1.23372     0.545863    1.30003  \n",
       "   1.61838   1.25347     0.770835    0.823581 \n",
       "   1.62868   1.26429     1.02137     0.308276 \n",
       "   ⋮                                          \n",
       " 100.18     -0.0967868  77.8763     -3.98991  \n",
       " 100.18     -0.974705   77.8769     -2.79754  \n",
       " 100.183    -1.36364    77.8793     -0.0414106\n",
       " 100.187    -1.00537    77.8817      2.70256  \n",
       " 100.187    -0.133927   77.8823      3.98066  \n",
       " 100.188     0.810602   77.8826      3.21665  \n",
       " 100.19      1.34029    77.8846      0.738209 \n",
       " 100.194     1.14737    77.8873     -2.16191  \n",
       " 100.195     0.341318   77.8883     -3.87269  \n",
       " 100.195    -0.65065    77.8884     -3.51536  \n",
       " 100.197    -1.30027    77.8902     -1.20588  \n",
       " 100.201    -1.23833    77.8928      1.67535  "
      ]
     },
     "execution_count": 9,
     "metadata": {},
     "output_type": "execute_result"
    }
   ],
   "source": [
    "x1"
   ]
  },
  {
   "cell_type": "code",
   "execution_count": 5,
   "metadata": {
    "collapsed": false
   },
   "outputs": [
    {
     "name": "stdout",
     "output_type": "stream",
     "text": [
      "  5.764419 seconds (47.55 M allocations: 3.338 GiB, 16.81% gc time)\n"
     ]
    }
   ],
   "source": [
    "@time tvS, xvS, δSv = vareqs_taylorinteg(undrivenHelium!, c1, 0.0, 30.0, 25, 1e-20, maxsteps=30000 );  "
   ]
  },
  {
   "cell_type": "code",
   "execution_count": 6,
   "metadata": {
    "collapsed": false
   },
   "outputs": [
    {
     "data": {
      "text/plain": [
       "1.1324508642222405e-16"
      ]
     },
     "execution_count": 6,
     "metadata": {},
     "output_type": "execute_result"
    }
   ],
   "source": [
    "norm(δSv,Inf)"
   ]
  },
  {
   "cell_type": "code",
   "execution_count": 7,
   "metadata": {
    "collapsed": false
   },
   "outputs": [
    {
     "data": {
      "text/plain": [
       "318×4 SubArray{Float64,2,Array{Float64,2},Tuple{UnitRange{Int64},Base.Slice{Base.OneTo{Int64}}},false}:\n",
       " 1.60312  0.0          0.0         4.0    \n",
       " 1.60312  0.24322     -0.00227463  3.96315\n",
       " 1.60312  0.24322     -0.00227463  3.96315\n",
       " 1.60312  0.24322     -0.00227463  3.96315\n",
       " 1.60312  0.24322     -0.00227463  3.96315\n",
       " 1.60312  0.24322     -0.00227463  3.96315\n",
       " 1.60312  0.24322     -0.00227463  3.96315\n",
       " 1.60312  0.24322     -0.00227463  3.96315\n",
       " 1.60312  0.24322     -0.00227463  3.96315\n",
       " 1.60312  0.24322     -0.00227463  3.96315\n",
       " 1.60312  0.24322     -0.00227463  3.96315\n",
       " 1.60312  0.24322     -0.00227463  3.96315\n",
       " 1.60312  0.24322     -0.00227463  3.96315\n",
       " ⋮                                        \n",
       " 1.60312  0.24322     -0.00227463  3.96315\n",
       " 1.60312  0.24322     -0.00227463  3.96315\n",
       " 1.60312  0.24322     -0.00227463  3.96315\n",
       " 1.60312  0.24322     -0.00227463  3.96315\n",
       " 1.60312  0.24322     -0.00227463  3.96315\n",
       " 1.60312  0.24322     -0.00227463  3.96315\n",
       " 1.60312  0.24322     -0.00227463  3.96315\n",
       " 1.60312  0.24322     -0.00227463  3.96315\n",
       " 1.60312  0.24322     -0.00227463  3.96315\n",
       " 1.60312  0.24322     -0.00227463  3.96315\n",
       " 1.60312  0.24322     -0.00227463  3.96315\n",
       " 1.60312  0.00713661  -5.88136e-8  3.99997"
      ]
     },
     "execution_count": 7,
     "metadata": {},
     "output_type": "execute_result"
    }
   ],
   "source": [
    "xvS"
   ]
  },
  {
   "cell_type": "code",
   "execution_count": 8,
   "metadata": {
    "collapsed": false
   },
   "outputs": [
    {
     "data": {
      "text/plain": [
       "poincare2 (generic function with 2 methods)"
      ]
     },
     "execution_count": 8,
     "metadata": {},
     "output_type": "execute_result"
    }
   ],
   "source": [
    "#Poincare functions\n",
    "function poincare{T<:Number}(f!, g, q0::Array{T,1}, t0::T, tmax::T,\n",
    "        order::Int, abstol::T; maxsteps::Int=500, nriter::Int=5)\n",
    "\n",
    "    # Allocation\n",
    "    const tv = Array{T}(maxsteps+1)\n",
    "    dof = length(q0)\n",
    "    const xv = Array{T}(dof, maxsteps+1)\n",
    "    const vT = zeros(T, order+1)\n",
    "    vT[2] = one(T)\n",
    "\n",
    "    # Initialize the vector of Taylor1 expansions\n",
    "    const x = Array{Taylor1{T}}(dof)\n",
    "    const dx = Array{Taylor1{T}}(dof)\n",
    "    const xaux = Array{Taylor1{T}}(dof)\n",
    "    for i in eachindex(q0)\n",
    "        @inbounds x[i] = Taylor1( q0[i], order )\n",
    "    end\n",
    "\n",
    "    # Initial conditions\n",
    "    @inbounds tv[1] = t0\n",
    "    @inbounds xv[:,1] .= q0\n",
    "    x0 = copy(q0)\n",
    "\n",
    "    #Some auxiliary arrays for root-finding/event detection/Poincaré surface of section evaluation\n",
    "    const g_val = Taylor1(zero(T), order)\n",
    "    const g_val_old = Taylor1(zero(T), order)\n",
    "    const slope = zero(T)\n",
    "    const dt_li = zero(T)\n",
    "    const dt_nr = zero(T)\n",
    "    const δt = zero(T)\n",
    "    const δt_old = zero(T)\n",
    "\n",
    "    const x_g_Dg_D2g = vcat(x, dx, zero(x[1]), zero(x[1]))\n",
    "    const x_g_Dg_D2g_val = Array{T}( length(x_g_Dg_D2g) )\n",
    "\n",
    "    const tvS = similar(tv)\n",
    "    const xvS = similar(xv)\n",
    "    const gvS = similar(tv)\n",
    "\n",
    "    #auxiliary range object for Newton-Raphson iterations\n",
    "    const nrinds = 1:nriter\n",
    "\n",
    "    # Integration\n",
    "    nsteps = 1\n",
    "    nevents = 1 #number of detected events\n",
    "    while t0 < tmax\n",
    "        δt_old = δt\n",
    "        δt = TaylorIntegration.taylorstep!(f!, x, dx, xaux, t0, tmax, x0, order, abstol, vT)\n",
    "        g_val = g(t0, x, dx)\n",
    "        if g_val_old[1]*g_val[1] < zero(T)\n",
    "\n",
    "            #first guess: linear interpolation\n",
    "            slope = (g_val[1]-g_val_old[1])/δt_old\n",
    "            dt_li = -(g_val[1]/slope)\n",
    "\n",
    "            x_g_Dg_D2g[1:dof] = x\n",
    "            x_g_Dg_D2g[dof+1:2dof] = dx\n",
    "            x_g_Dg_D2g[2dof+1] = g_val\n",
    "            x_g_Dg_D2g[2dof+2] = derivative(g_val)\n",
    "\n",
    "            #Newton-Raphson iterations\n",
    "            dt_nr = dt_li\n",
    "            evaluate!(x_g_Dg_D2g[2dof+1:2dof+2], dt_nr, view(x_g_Dg_D2g_val,2dof+1:2dof+2))\n",
    "\n",
    "            for i in eachindex(nrinds)\n",
    "                dt_nr = dt_nr-x_g_Dg_D2g_val[2dof+1]/x_g_Dg_D2g_val[2dof+2]\n",
    "                evaluate!(x_g_Dg_D2g[2dof+1:2dof+2], dt_nr, view(x_g_Dg_D2g_val,2dof+1:2dof+2))\n",
    "            end\n",
    "            evaluate!(x_g_Dg_D2g[1:2dof], dt_nr, view(x_g_Dg_D2g_val,1:2dof))\n",
    "\n",
    "            tvS[nevents] = t0+dt_nr\n",
    "            xvS[:,nevents] .= view(x_g_Dg_D2g_val,1:dof)\n",
    "            gvS[nevents] = x_g_Dg_D2g_val[2dof+1]\n",
    "\n",
    "            nevents += 1\n",
    "        end\n",
    "        g_val_old = deepcopy(g_val)\n",
    "        for i in eachindex(x0)\n",
    "            @inbounds x[i][1] = x0[i]\n",
    "        end\n",
    "        t0 += δt\n",
    "        nsteps += 1\n",
    "        @inbounds tv[nsteps] = t0\n",
    "        @inbounds xv[:,nsteps] .= x0\n",
    "        if nsteps > maxsteps\n",
    "            warn(\"\"\"\n",
    "            Maximum number of integration steps reached; exiting.\n",
    "            \"\"\")\n",
    "            break\n",
    "        end\n",
    "    end\n",
    "\n",
    "    return view(tv,1:nsteps), view(transpose(xv),1:nsteps,:), view(tvS,1:nevents-1), view(transpose(xvS),1:nevents-1,:), view(gvS,1:nevents-1)\n",
    "end\n",
    "\n",
    "#poincare + jet transport\n",
    "function poincare{T<:Number}(f!, g, q0::Array{TaylorN{T},1}, t0::T, tmax::T,\n",
    "        order::Int, abstol::T; maxsteps::Int=500, nriter::Int=5)\n",
    "\n",
    "    # Allocation\n",
    "    const tv = Array{T}(maxsteps+1)\n",
    "    dof = length(q0)\n",
    "    const xv = Array{TaylorN{T}}(dof, maxsteps+1)\n",
    "    const vT = zeros(T, order+1)\n",
    "    vT[2] = one(T)\n",
    "\n",
    "    # Initialize the vector of Taylor1 expansions\n",
    "    const x = Array{Taylor1{TaylorN{T}}}(dof)\n",
    "    const dx = Array{Taylor1{TaylorN{T}}}(dof)\n",
    "    const xaux = Array{Taylor1{TaylorN{T}}}(dof)\n",
    "    for i in eachindex(q0)\n",
    "        @inbounds x[i] = Taylor1( q0[i], order )\n",
    "    end\n",
    "\n",
    "    # Initial conditions\n",
    "    @inbounds tv[1] = t0\n",
    "    @inbounds xv[:,1] .= q0\n",
    "    x0 = copy(q0)\n",
    "\n",
    "    #Some auxiliary arrays for root-finding/event detection/Poincaré surface of section evaluation\n",
    "    zeroTN = zero(q0[1])\n",
    "    const g_val = Taylor1(zeroTN, order)\n",
    "    const g_val_old = Taylor1(zeroTN, order)\n",
    "    const slope = zeroTN\n",
    "    const dt_li = zeroTN\n",
    "    const dt_nr = zeroTN\n",
    "    const δt = zeroTN\n",
    "    const δt_old = zeroTN\n",
    "\n",
    "    const x_g_Dg_D2g = vcat(x, dx, zero(x[1]), zero(x[1]))\n",
    "    const x_g_Dg_D2g_val = Array{TaylorN{T}}( length(x_g_Dg_D2g) )\n",
    "\n",
    "    const tvS = Array{TaylorN{T}}( length(tv) )\n",
    "    const xvS = similar(xv)\n",
    "    const gvS = similar(tvS)\n",
    "\n",
    "    #auxiliary range object for Newton-Raphson iterations\n",
    "    const nrinds = 1:nriter\n",
    "\n",
    "    # Integration\n",
    "    nsteps = 1\n",
    "    nevents = 1 #number of detected events\n",
    "    while t0 < tmax\n",
    "        δt_old = δt\n",
    "        δt = TaylorIntegration.taylorstep!(f!, x, dx, xaux, t0, tmax, x0, order, abstol, vT)\n",
    "        g_val = g(t0, x, dx)\n",
    "        if g_val_old[1][1][1]*g_val[1][1][1] < zero(T)\n",
    "\n",
    "            #first guess: linear interpolation\n",
    "            slope = (g_val[1]-g_val_old[1])/δt_old\n",
    "            dt_li = -(g_val[1]/slope)\n",
    "\n",
    "            x_g_Dg_D2g[1:dof] = x\n",
    "            x_g_Dg_D2g[dof+1:2dof] = dx\n",
    "            x_g_Dg_D2g[2dof+1] = g_val\n",
    "            x_g_Dg_D2g[2dof+2] = derivative(g_val)\n",
    "\n",
    "            #Newton-Raphson iterations\n",
    "            dt_nr = dt_li\n",
    "            evaluate!(x_g_Dg_D2g[2dof+1:2dof+2], dt_nr, view(x_g_Dg_D2g_val,2dof+1:2dof+2))\n",
    "\n",
    "            for i in eachindex(nrinds)\n",
    "                dt_nr = dt_nr-x_g_Dg_D2g_val[2dof+1]/x_g_Dg_D2g_val[2dof+2]\n",
    "                evaluate!(x_g_Dg_D2g[2dof+1:2dof+2], dt_nr, view(x_g_Dg_D2g_val,2dof+1:2dof+2))\n",
    "            end\n",
    "            evaluate!(x_g_Dg_D2g[1:2dof], dt_nr, view(x_g_Dg_D2g_val,1:2dof))\n",
    "\n",
    "            tvS[nevents] = t0+dt_nr\n",
    "            xvS[:,nevents] .= view(x_g_Dg_D2g_val,1:dof)\n",
    "            gvS[nevents] = x_g_Dg_D2g_val[2dof+1]\n",
    "\n",
    "            nevents += 1\n",
    "        end\n",
    "        g_val_old = deepcopy(g_val)\n",
    "        for i in eachindex(x0)\n",
    "            @inbounds x[i][1] = x0[i]\n",
    "        end\n",
    "        t0 += δt\n",
    "        nsteps += 1\n",
    "        @inbounds tv[nsteps] = t0\n",
    "        @inbounds xv[:,nsteps] .= x0\n",
    "        if nsteps > maxsteps\n",
    "            warn(\"\"\"\n",
    "            Maximum number of integration steps reached; exiting.\n",
    "            \"\"\")\n",
    "            break\n",
    "        end\n",
    "    end\n",
    "\n",
    "    return view(tv,1:nsteps), transpose(view(xv,:,1:nsteps)), view(tvS,1:nevents-1), transpose(view(xvS,:,1:nevents-1)), view(gvS,1:nevents-1)\n",
    "end\n",
    "\n",
    "function poincare2{T<:Number}(f!, g, q0::Array{T,1}, t0::T, tmax::T,\n",
    "        order::Int, abstol::T; maxsteps::Int=500, nriter::Int=5)\n",
    "\n",
    "    # Allocation\n",
    "    const tv = Array{T}(maxsteps+1)\n",
    "    dof = length(q0)\n",
    "    const xv = Array{T}(dof, maxsteps+1)\n",
    "    const vT = zeros(T, order+1)\n",
    "    vT[2] = one(T)\n",
    "\n",
    "    # Initialize the vector of Taylor1 expansions\n",
    "    const x = Array{Taylor1{T}}(dof)\n",
    "    const dx = Array{Taylor1{T}}(dof)\n",
    "    const xaux = Array{Taylor1{T}}(dof)\n",
    "    for i in eachindex(q0)\n",
    "        @inbounds x[i] = Taylor1( q0[i], order )\n",
    "    end\n",
    "\n",
    "    # Initial conditions\n",
    "    @inbounds tv[1] = t0\n",
    "    @inbounds xv[:,1] .= q0\n",
    "    x0 = copy(q0)\n",
    "\n",
    "    #Some auxiliary arrays for root-finding/event detection/Poincaré surface of section evaluation\n",
    "    const g_val = Taylor1(zero(T), order)\n",
    "    const g_val_old = Taylor1(zero(T), order)\n",
    "    const slope = zero(T)\n",
    "    const dt_li = zero(T)\n",
    "    const dt_nr = zero(T)\n",
    "    const δt = zero(T)\n",
    "    const δt_old = zero(T)\n",
    "\n",
    "    const x_g_Dg_D2g = vcat(x, dx, zero(x[1]), zero(x[1]))\n",
    "    const x_g_Dg_D2g_val = Array{T}( length(x_g_Dg_D2g) )\n",
    "\n",
    "    const tvS = similar(tv)\n",
    "    const xvS = similar(xv)\n",
    "    const gvS = similar(tv)\n",
    "\n",
    "    #auxiliary range object for Newton-Raphson iterations\n",
    "    const nrinds = 1:nriter\n",
    "\n",
    "    # Integration\n",
    "    nsteps = 1\n",
    "    nevents = 1 #number of detected events\n",
    "    while t0 < tmax\n",
    "        δt_old = δt\n",
    "        δt = TaylorIntegration.taylorstep!(f!, x, dx, xaux, t0, tmax, x0, order, abstol, vT)\n",
    "        g_val = g(t0, x, dx)\n",
    "        if g_val_old[2]*g_val[2] < zero(T)\n",
    "\n",
    "            #first guess: linear interpolation\n",
    "            slope = (g_val[2]-g_val_old[2])/δt_old\n",
    "            dt_li = -(g_val[2]/slope)\n",
    "\n",
    "            x_g_Dg_D2g[1:dof] = x\n",
    "            x_g_Dg_D2g[dof+1:2dof] = dx\n",
    "            x_g_Dg_D2g[2dof+1] = derivative(g_val)\n",
    "            x_g_Dg_D2g[2dof+2] = derivative(x_g_Dg_D2g[2dof+1])\n",
    "\n",
    "            #Newton-Raphson iterations\n",
    "            dt_nr = dt_li\n",
    "            evaluate!(x_g_Dg_D2g[2dof+1:2dof+2], dt_nr, view(x_g_Dg_D2g_val,2dof+1:2dof+2))\n",
    "\n",
    "            for i in eachindex(nrinds)\n",
    "                dt_nr = dt_nr-x_g_Dg_D2g_val[2dof+1]/x_g_Dg_D2g_val[2dof+2]\n",
    "                evaluate!(x_g_Dg_D2g[2dof+1:2dof+2], dt_nr, view(x_g_Dg_D2g_val,2dof+1:2dof+2))\n",
    "            end\n",
    "            evaluate!(x_g_Dg_D2g[1:2dof], dt_nr, view(x_g_Dg_D2g_val,1:2dof))\n",
    "\n",
    "            tvS[nevents] = t0+dt_nr\n",
    "            xvS[:,nevents] .= view(x_g_Dg_D2g_val,1:dof)\n",
    "            gvS[nevents] = x_g_Dg_D2g_val[2dof+1]\n",
    "\n",
    "            nevents += 1\n",
    "        end\n",
    "        g_val_old = deepcopy(g_val)\n",
    "        for i in eachindex(x0)\n",
    "            @inbounds x[i][1] = x0[i]\n",
    "        end\n",
    "        t0 += δt\n",
    "        nsteps += 1\n",
    "        @inbounds tv[nsteps] = t0\n",
    "        @inbounds xv[:,nsteps] .= x0\n",
    "        if nsteps > maxsteps\n",
    "            warn(\"\"\"\n",
    "            Maximum number of integration steps reached; exiting.\n",
    "            \"\"\")\n",
    "            break\n",
    "        end\n",
    "    end\n",
    "\n",
    "    return view(tv,1:nsteps), view(transpose(xv),1:nsteps,:), view(tvS,1:nevents-1), view(transpose(xvS),1:nevents-1,:), view(gvS,1:nevents-1)\n",
    "end\n",
    "\n",
    "#poincare2 + jet transport\n",
    "function poincare2{T<:Number}(f!, g, q0::Array{TaylorN{T},1}, t0::T, tmax::T,\n",
    "        order::Int, abstol::T; maxsteps::Int=500, nriter::Int=5)\n",
    "\n",
    "    # Allocation\n",
    "    const tv = Array{T}(maxsteps+1)\n",
    "    dof = length(q0)\n",
    "    const xv = Array{TaylorN{T}}(dof, maxsteps+1)\n",
    "    const vT = zeros(T, order+1)\n",
    "    vT[2] = one(T)\n",
    "\n",
    "    # Initialize the vector of Taylor1 expansions\n",
    "    const x = Array{Taylor1{TaylorN{T}}}(dof)\n",
    "    const dx = Array{Taylor1{TaylorN{T}}}(dof)\n",
    "    const xaux = Array{Taylor1{TaylorN{T}}}(dof)\n",
    "    for i in eachindex(q0)\n",
    "        @inbounds x[i] = Taylor1( q0[i], order )\n",
    "    end\n",
    "\n",
    "    # Initial conditions\n",
    "    @inbounds tv[1] = t0\n",
    "    @inbounds xv[:,1] .= q0\n",
    "    x0 = copy(q0)\n",
    "\n",
    "    #Some auxiliary arrays for root-finding/event detection/Poincaré surface of section evaluation\n",
    "    zeroTN = zero(q0[1])\n",
    "    const g_val = Taylor1(zeroTN, order)\n",
    "    const g_val_old = Taylor1(zeroTN, order)\n",
    "    const slope = zeroTN\n",
    "    const dt_li = zeroTN\n",
    "    const dt_nr = zeroTN\n",
    "    const δt = zeroTN\n",
    "    const δt_old = zeroTN\n",
    "\n",
    "    const x_g_Dg_D2g = vcat(x, dx, zero(x[1]), zero(x[1]))\n",
    "    const x_g_Dg_D2g_val = Array{TaylorN{T}}( length(x_g_Dg_D2g) )\n",
    "\n",
    "    const tvS = Array{TaylorN{T}}( length(tv) )\n",
    "    const xvS = similar(xv)\n",
    "    const gvS = similar(tvS)\n",
    "\n",
    "    #auxiliary range object for Newton-Raphson iterations\n",
    "    const nrinds = 1:nriter\n",
    "\n",
    "    # Integration\n",
    "    nsteps = 1\n",
    "    nevents = 1 #number of detected events\n",
    "    while t0 < tmax\n",
    "        δt_old = δt\n",
    "        δt = TaylorIntegration.taylorstep!(f!, x, dx, xaux, t0, tmax, x0, order, abstol, vT)\n",
    "        g_val = g(t0, x, dx)\n",
    "        if g_val_old[2][1][1]*g_val[2][1][1] < zero(T)\n",
    "\n",
    "            #first guess: linear interpolation\n",
    "            slope = (g_val[2]-g_val_old[2])/δt_old\n",
    "            dt_li = -(g_val[2]/slope)\n",
    "\n",
    "            x_g_Dg_D2g[1:dof] = x\n",
    "            x_g_Dg_D2g[dof+1:2dof] = dx\n",
    "            x_g_Dg_D2g[2dof+1] = derivative(g_val)\n",
    "            x_g_Dg_D2g[2dof+2] = derivative(x_g_Dg_D2g[2dof+1])\n",
    "\n",
    "            #Newton-Raphson iterations\n",
    "            dt_nr = dt_li\n",
    "            evaluate!(x_g_Dg_D2g[2dof+1:2dof+2], dt_nr, view(x_g_Dg_D2g_val,2dof+1:2dof+2))\n",
    "\n",
    "            for i in eachindex(nrinds)\n",
    "                dt_nr = dt_nr-x_g_Dg_D2g_val[2dof+1]/x_g_Dg_D2g_val[2dof+2]\n",
    "                evaluate!(x_g_Dg_D2g[2dof+1:2dof+2], dt_nr, view(x_g_Dg_D2g_val,2dof+1:2dof+2))\n",
    "            end\n",
    "            evaluate!(x_g_Dg_D2g[1:2dof], dt_nr, view(x_g_Dg_D2g_val,1:2dof))\n",
    "\n",
    "            tvS[nevents] = t0+dt_nr\n",
    "            xvS[:,nevents] .= view(x_g_Dg_D2g_val,1:dof)\n",
    "            gvS[nevents] = x_g_Dg_D2g_val[2dof+1]\n",
    "\n",
    "            nevents += 1\n",
    "        end\n",
    "        g_val_old = deepcopy(g_val)\n",
    "        for i in eachindex(x0)\n",
    "            @inbounds x[i][1] = x0[i]\n",
    "        end\n",
    "        t0 += δt\n",
    "        nsteps += 1\n",
    "        @inbounds tv[nsteps] = t0\n",
    "        @inbounds xv[:,nsteps] .= x0\n",
    "        if nsteps > maxsteps\n",
    "            warn(\"\"\"\n",
    "            Maximum number of integration steps reached; exiting.\n",
    "            \"\"\")\n",
    "            break\n",
    "        end\n",
    "    end\n",
    "\n",
    "    return view(tv,1:nsteps), view(transpose(xv),1:nsteps,:), view(tvS,1:nevents-1), view(transpose(xvS),1:nevents-1,:), view(gvS,1:nevents-1)\n",
    "end"
   ]
  },
  {
   "cell_type": "code",
   "execution_count": null,
   "metadata": {
    "collapsed": false
   },
   "outputs": [],
   "source": [
    "x1[end,:]"
   ]
  },
  {
   "cell_type": "code",
   "execution_count": null,
   "metadata": {
    "collapsed": false
   },
   "outputs": [],
   "source": [
    "jacobian(x1[end,:])"
   ]
  },
  {
   "cell_type": "code",
   "execution_count": null,
   "metadata": {
    "collapsed": false
   },
   "outputs": [],
   "source": [
    "length(x1)"
   ]
  },
  {
   "cell_type": "code",
   "execution_count": null,
   "metadata": {
    "collapsed": true
   },
   "outputs": [],
   "source": [
    "#Ahora obtenemos los jacobianos y las posiciones a partir de los resultados de la integración\n",
    "function separa{T<:Number}(qs::Array{TaylorN{T},1})\n",
    "    #Allocations\n",
    "    ll = length(qs)\n",
    "    xs = Array{T}(ll)\n",
    "    js = Array{Array{T,2}}(ll)\n",
    "    \n",
    "    #\n",
    "    "
   ]
  },
  {
   "cell_type": "code",
   "execution_count": null,
   "metadata": {
    "collapsed": false
   },
   "outputs": [],
   "source": [
    "x1[end,:][1][2]"
   ]
  },
  {
   "cell_type": "code",
   "execution_count": null,
   "metadata": {
    "collapsed": false,
    "scrolled": true
   },
   "outputs": [],
   "source": [
    "typeof(jacobian(x1[end,:]))"
   ]
  },
  {
   "cell_type": "code",
   "execution_count": null,
   "metadata": {
    "collapsed": true
   },
   "outputs": [],
   "source": []
  }
 ],
 "metadata": {
  "kernelspec": {
   "display_name": "Julia 0.6.0-rc3",
   "language": "julia",
   "name": "julia-0.6"
  },
  "language_info": {
   "file_extension": ".jl",
   "mimetype": "application/julia",
   "name": "julia",
   "version": "0.6.0"
  }
 },
 "nbformat": 4,
 "nbformat_minor": 0
}
