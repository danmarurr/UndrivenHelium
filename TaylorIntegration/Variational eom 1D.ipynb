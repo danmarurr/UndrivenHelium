{
 "cells": [
  {
   "cell_type": "code",
   "execution_count": 1,
   "metadata": {
    "collapsed": false
   },
   "outputs": [
    {
     "data": {
      "text/plain": [
       "500000"
      ]
     },
     "execution_count": 1,
     "metadata": {},
     "output_type": "execute_result"
    }
   ],
   "source": [
    "include(\"UndrivenHelium.jl\")\n",
    "using Plots, LaTeXStrings\n",
    "# plotly()\n",
    "pyplot(grid = :false, legend = :false, size=(600,600), color=:black, markersize = 0.3 )\n",
    "const Z = 2.0\n",
    "const order = 20\n",
    "const t0 = 0.0\n",
    "const t_max = 0.5 \n",
    "const abs_tol = 1.0E-20\n",
    "const steps = 500_000"
   ]
  },
  {
   "cell_type": "code",
   "execution_count": 2,
   "metadata": {
    "collapsed": false
   },
   "outputs": [
    {
     "data": {
      "text/plain": [
       "taylorintegps (generic function with 1 method)"
      ]
     },
     "execution_count": 2,
     "metadata": {},
     "output_type": "execute_result"
    }
   ],
   "source": [
    "include(\"Integ.jl\")"
   ]
  },
  {
   "cell_type": "code",
   "execution_count": 3,
   "metadata": {
    "collapsed": false
   },
   "outputs": [
    {
     "data": {
      "text/plain": [
       "regHam (generic function with 2 methods)"
      ]
     },
     "execution_count": 3,
     "metadata": {},
     "output_type": "execute_result"
    }
   ],
   "source": [
    "function undrivenHelium!(τ, q, dq)\n",
    "    Q₁, Q₂, P₁, P₂ = q\n",
    "    \n",
    "    t1 = Q₁^2\n",
    "    t2 = Q₂^2\n",
    "    t = t1 * t2\n",
    "    R12 = t1 - t2\n",
    "    aR12 = abs(R12)\n",
    "    RRR = aR12^3\n",
    "    c1 = R12/RRR\n",
    "   \n",
    "    dq[1] = 0.25*t2*P₁\n",
    "    dq[3] = 2*Q₁*(-0.125*P₂^2 + Z  - t2 - t2/aR12 + t*c1)\n",
    "    dq[2] = 0.25*t1*P₂\n",
    "    dq[4] = 2*Q₂*(-0.125*P₁^2 + Z  - t1 - t1/aR12 - t*c1)\n",
    "\n",
    "#    return [t, q₁, q₂, p₁, p₂] \n",
    "    nothing\n",
    "end\n",
    "\n",
    "var1 = set_variables(\"t q1 q2 p1 p2\", order = 1)\n",
    "\n",
    "\n",
    "function condini(x10::Float64, px10::Float64)\n",
    "    @assert x10 != 0\n",
    "    Q1 = sqrt(x10)\n",
    "    Q2 = 0.0\n",
    "    P1 = px10*sqrt(x10)    \n",
    "    P2 = sqrt(8Z)    \n",
    "    return Float64[Q1, Q2, P1, P2]\n",
    "end\n",
    "\n",
    "function regHam(t, Q₁, Q₂, P₁, P₂)\n",
    "    #Cantidades auxiliares\n",
    "    P₁² = P₁^2\n",
    "    P₂² = P₂^2\n",
    "    Q₁² = Q₁^2\n",
    "    Q₂² = Q₂^2\n",
    "    nf = abs(Q₁² - Q₂²)\n",
    "    \n",
    "    H = 0.125*(P₁²*Q₂² + P₂²*Q₁²) - Z*(Q₁² + Q₂²) + Q₁²*Q₂²*(1.0 + 1.0/nf)\n",
    "    return H\n",
    "end\n",
    "\n",
    "\n",
    "regHam(v) = regHam(v...)"
   ]
  },
  {
   "cell_type": "code",
   "execution_count": 4,
   "metadata": {
    "collapsed": false
   },
   "outputs": [
    {
     "data": {
      "text/plain": [
       "vareqs_taylorinteg (generic function with 1 method)"
      ]
     },
     "execution_count": 4,
     "metadata": {},
     "output_type": "execute_result"
    }
   ],
   "source": [
    "function vareqs_taylorinteg{T<:Number}(f, q0::Array{T,1}, t0::T, tmax::T,\n",
    "        order::Int, abstol::T; maxsteps::Int=500)\n",
    "    # Allocation\n",
    "    const tv = Array{T}(maxsteps+1)\n",
    "    dof = length(q0)\n",
    "    const xv = Array{T}(dof, maxsteps+1)\n",
    "    const jt = eye(T, dof)\n",
    "    const vT = zeros(T, order+1)\n",
    "    vT[2] = one(T)\n",
    "\n",
    "    # NOTE: This changes GLOBALLY internal parameters of TaylorN\n",
    "    global _δv = set_variables(\"δ\", order=1, numvars=dof)\n",
    "\n",
    "    # Initial conditions\n",
    "    @inbounds tv[1] = t0\n",
    "    for ind in 1:dof\n",
    "        @inbounds xv[ind,1] = q0[ind]\n",
    "    end\n",
    "    const x0 = vcat(q0, reshape(jt, dof*dof))\n",
    "    nx0 = dof*(dof+1)\n",
    "    t00 = t0\n",
    "\n",
    "    # Initialize the vector of Taylor1 expansions\n",
    "    const x = Array{Taylor1{T}}(nx0)\n",
    "    for i in eachindex(x0)\n",
    "        @inbounds x[i] = Taylor1( x0[i], order )\n",
    "    end\n",
    "\n",
    "    #Allocate auxiliary arrays\n",
    "    const dx = Array{Taylor1{T}}(nx0)\n",
    "    const xaux = Array{Taylor1{T}}(nx0)\n",
    "    const δx = Array{TaylorN{Taylor1{T}}}(dof)\n",
    "    const dδx = Array{TaylorN{Taylor1{T}}}(dof)\n",
    "    const jac = Array{Taylor1{T}}(dof,dof)\n",
    "    for i in eachindex(jac)\n",
    "        @inbounds jac[i] = zero(x[1])\n",
    "    end\n",
    "\n",
    "    #auxiliary arrays for symplectic structure tests\n",
    "    const δSv = Array{T}(maxsteps+1); δSv[1] = zero(T)\n",
    "    auxJn = Int(dof/2)\n",
    "    const J_n = vcat(  hcat(zeros(auxJn,auxJn), eye(auxJn,auxJn)), hcat(-eye(auxJn,auxJn), zeros(auxJn,auxJn))  )\n",
    "\n",
    "    # Integration\n",
    "    nsteps = 1\n",
    "    while t0 < tmax\n",
    "        δt = TaylorIntegration.liap_taylorstep!(f, x, dx, xaux, δx, dδx, jac, t0, tmax, x0, order, abstol, vT)\n",
    "        for ind in eachindex(jt)\n",
    "            @inbounds jt[ind] = x0[dof+ind]\n",
    "        end\n",
    "        t0 += δt\n",
    "        tspan = t0-t00\n",
    "        nsteps += 1\n",
    "        @inbounds tv[nsteps] = t0\n",
    "        @inbounds for ind in 1:dof\n",
    "            xv[ind,nsteps] = x0[ind]\n",
    "        end\n",
    "        δSv[nsteps] = norm( jt'*J_n*jt-J_n, Inf)\n",
    "        if nsteps > maxsteps\n",
    "            warn(\"\"\"\n",
    "            Maximum number of integration steps reached; exiting.\n",
    "            \"\"\")\n",
    "            break\n",
    "        end\n",
    "    end\n",
    "\n",
    "    return view(tv,1:nsteps),  view(transpose(xv),1:nsteps,:),  view(δSv,1:nsteps)\n",
    "end"
   ]
  },
  {
   "cell_type": "code",
   "execution_count": 5,
   "metadata": {
    "collapsed": false
   },
   "outputs": [
    {
     "data": {
      "text/plain": [
       "4-element Array{Float64,1}:\n",
       " 2.40849\n",
       " 0.0    \n",
       " 0.0    \n",
       " 4.0    "
      ]
     },
     "execution_count": 5,
     "metadata": {},
     "output_type": "execute_result"
    }
   ],
   "source": [
    "#Initial conditions\n",
    "c1 = condini1D(5.8008, 0.0)"
   ]
  },
  {
   "cell_type": "code",
   "execution_count": 6,
   "metadata": {
    "collapsed": false
   },
   "outputs": [
    {
     "name": "stdout",
     "output_type": "stream",
     "text": [
      "  0.798140 seconds (1.85 M allocations: 165.639 MiB, 4.81% gc time)\n"
     ]
    }
   ],
   "source": [
    "@time t1, x1 = taylorinteg(undrivenHelium1D!, c1, 0.0, 30.0, 25, 1e-20, maxsteps=30000 );  "
   ]
  },
  {
   "cell_type": "code",
   "execution_count": 7,
   "metadata": {
    "collapsed": false
   },
   "outputs": [
    {
     "data": {
      "text/plain": [
       "646×4 SubArray{Float64,2,Array{Float64,2},Tuple{UnitRange{Int64},Base.Slice{Base.OneTo{Int64}}},false}:\n",
       " 2.40849   0.0        0.0           4.0       \n",
       " 2.40848   0.402178  -0.00305927    3.86299   \n",
       " 2.40843   0.728654  -0.0174123     3.52292   \n",
       " 2.40814   0.98353   -0.0394506     3.05424   \n",
       " 2.40744   1.17535   -0.0586786     2.50155   \n",
       " 2.4064    1.31122   -0.0654073     1.9017    \n",
       " 2.4053    1.4002    -0.0558369     1.27905   \n",
       " 2.40447   1.45047   -0.0320742     0.643888  \n",
       " 2.40417   1.4668     0.000157396  -0.00373739\n",
       " 2.40451   1.44849    0.0336889    -0.681299  \n",
       " 2.40532   1.39833    0.0562282    -1.29604   \n",
       " 2.40635   1.3152     0.0652751    -1.87949   \n",
       " 2.40732   1.19522    0.0602748    -2.4285    \n",
       " ⋮                                            \n",
       " 2.40428   1.45283   -0.0297413     0.595727  \n",
       " 2.40402   1.46664    0.00338748   -0.0631939 \n",
       " 2.4044    1.44648    0.0354459    -0.717089  \n",
       " 2.40523   1.39478    0.057254     -1.32768   \n",
       " 2.40627   1.30978    0.0655538    -1.90968   \n",
       " 2.40724   1.18735    0.0598408    -2.4579    \n",
       " 2.40791   1.02266    0.0436059    -2.95946   \n",
       " 2.40824   0.81094    0.0236743    -3.39559   \n",
       " 2.40834   0.546106   0.00768663   -3.74208   \n",
       " 2.40835   0.214637   0.000604667  -3.96163   \n",
       " 2.40835  -0.173354  -0.00011341   -3.97502   \n",
       " 2.40835  -0.48117   -0.00506859   -3.80182   "
      ]
     },
     "execution_count": 7,
     "metadata": {},
     "output_type": "execute_result"
    }
   ],
   "source": [
    "x1"
   ]
  },
  {
   "cell_type": "code",
   "execution_count": 8,
   "metadata": {
    "collapsed": false
   },
   "outputs": [
    {
     "name": "stdout",
     "output_type": "stream",
     "text": [
      "  9.484365 seconds (100.89 M allocations: 7.062 GiB, 23.71% gc time)\n"
     ]
    }
   ],
   "source": [
    "@time tvS, xvS, δSv, mv = vartaylorinteg(undrivenHelium1D!, c1, 0.0, 30.0, 25, 1e-20, maxsteps=30000 );  "
   ]
  },
  {
   "cell_type": "code",
   "execution_count": 9,
   "metadata": {
    "collapsed": false
   },
   "outputs": [
    {
     "data": {
      "text/plain": [
       "NaN"
      ]
     },
     "execution_count": 9,
     "metadata": {},
     "output_type": "execute_result"
    }
   ],
   "source": [
    "norm(δSv,Inf)"
   ]
  },
  {
   "cell_type": "code",
   "execution_count": 10,
   "metadata": {
    "collapsed": false
   },
   "outputs": [
    {
     "data": {
      "text/html": [
       "<img src=\"data:image/png;base64,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\" />"
      ]
     },
     "execution_count": 10,
     "metadata": {},
     "output_type": "execute_result"
    }
   ],
   "source": [
    "plot(tvS, δSv/eps(), title = \"Symplecticity numerical error\", color = :blue)\n",
    "yaxis!(L\"$||M^tJM - J||$ (Machine Epsilons)\")\n",
    "xaxis!(\"time\")"
   ]
  },
  {
   "cell_type": "code",
   "execution_count": 11,
   "metadata": {
    "collapsed": false
   },
   "outputs": [
    {
     "data": {
      "text/plain": [
       "646×4 SubArray{Float64,2,Array{Float64,2},Tuple{UnitRange{Int64},Base.Slice{Base.OneTo{Int64}}},false}:\n",
       " 2.40849   0.0        0.0           4.0       \n",
       " 2.40848   0.402178  -0.00305927    3.86299   \n",
       " 2.40843   0.728654  -0.0174123     3.52292   \n",
       " 2.40814   0.98353   -0.0394506     3.05424   \n",
       " 2.40744   1.17535   -0.0586786     2.50155   \n",
       " 2.4064    1.31122   -0.0654073     1.9017    \n",
       " 2.4053    1.4002    -0.0558369     1.27905   \n",
       " 2.40447   1.45047   -0.0320742     0.643888  \n",
       " 2.40417   1.4668     0.000157396  -0.00373739\n",
       " 2.40451   1.44849    0.0336889    -0.681299  \n",
       " 2.40532   1.39833    0.0562282    -1.29604   \n",
       " 2.40635   1.3152     0.0652751    -1.87949   \n",
       " 2.40732   1.19522    0.0602748    -2.4285    \n",
       " ⋮                                            \n",
       " 2.40428   1.45283   -0.0297413     0.595727  \n",
       " 2.40402   1.46664    0.00338748   -0.0631939 \n",
       " 2.4044    1.44648    0.0354459    -0.717089  \n",
       " 2.40523   1.39478    0.057254     -1.32768   \n",
       " 2.40627   1.30978    0.0655538    -1.90968   \n",
       " 2.40724   1.18735    0.0598408    -2.4579    \n",
       " 2.40791   1.02266    0.0436059    -2.95946   \n",
       " 2.40824   0.81094    0.0236743    -3.39559   \n",
       " 2.40834   0.546106   0.00768663   -3.74208   \n",
       " 2.40835   0.214637   0.000604667  -3.96163   \n",
       " 2.40835  -0.173354  -0.00011341   -3.97502   \n",
       " 2.40835  -0.48117   -0.00506859   -3.80182   "
      ]
     },
     "execution_count": 11,
     "metadata": {},
     "output_type": "execute_result"
    }
   ],
   "source": [
    "xvS"
   ]
  }
 ],
 "metadata": {
  "kernelspec": {
   "display_name": "Julia 0.6.0-rc3",
   "language": "julia",
   "name": "julia-0.6"
  },
  "language_info": {
   "file_extension": ".jl",
   "mimetype": "application/julia",
   "name": "julia",
   "version": "0.6.0"
  }
 },
 "nbformat": 4,
 "nbformat_minor": 0
}
