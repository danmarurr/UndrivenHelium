{
 "cells": [
  {
   "cell_type": "code",
   "execution_count": 1,
   "metadata": {
    "collapsed": true
   },
   "outputs": [],
   "source": [
    "using TaylorSeries"
   ]
  },
  {
   "cell_type": "code",
   "execution_count": 2,
   "metadata": {
    "collapsed": false
   },
   "outputs": [
    {
     "data": {
      "text/plain": [
       "eqs1 (generic function with 1 method)"
      ]
     },
     "execution_count": 2,
     "metadata": {},
     "output_type": "execute_result"
    }
   ],
   "source": [
    "function eqs1(t, x, dx)\n",
    "    dx[1] = x[2]^2 - x[1]\n",
    "    dx[2] = - x[1]-2x[2]\n",
    "    nothing\n",
    "end"
   ]
  },
  {
   "cell_type": "code",
   "execution_count": 3,
   "metadata": {
    "collapsed": false
   },
   "outputs": [
    {
     "data": {
      "text/plain": [
       "2-element Array{TaylorSeries.TaylorN{Float64},1}:\n",
       "  1.0 x + 𝒪(‖x‖⁵)\n",
       "  1.0 y + 𝒪(‖x‖⁵)"
      ]
     },
     "execution_count": 3,
     "metadata": {},
     "output_type": "execute_result"
    }
   ],
   "source": [
    "x, y = set_variables(\"x y\", order=4)"
   ]
  },
  {
   "cell_type": "code",
   "execution_count": 4,
   "metadata": {
    "collapsed": true
   },
   "outputs": [],
   "source": [
    "x0 = [0.0+x, 0.0+y]\n",
    "dx0 = similar(x0)\n",
    "eqs1(0.0, x0, dx0)"
   ]
  },
  {
   "cell_type": "code",
   "execution_count": 5,
   "metadata": {
    "collapsed": false
   },
   "outputs": [
    {
     "data": {
      "text/plain": [
       "2-element Array{TaylorSeries.TaylorN{Float64},1}:\n",
       "  - 1.0 x + 1.0 y² + 𝒪(‖x‖⁵)\n",
       "   - 1.0 x - 2.0 y + 𝒪(‖x‖⁵)"
      ]
     },
     "execution_count": 5,
     "metadata": {},
     "output_type": "execute_result"
    }
   ],
   "source": [
    "dx0"
   ]
  },
  {
   "cell_type": "code",
   "execution_count": 7,
   "metadata": {
    "collapsed": false
   },
   "outputs": [
    {
     "name": "stdout",
     "output_type": "stream",
     "text": [
      "search: \u001b[1mj\u001b[22m\u001b[1ma\u001b[22m\u001b[1mc\u001b[22m\u001b[1mo\u001b[22m\u001b[1mb\u001b[22m\u001b[1mi\u001b[22m\u001b[1ma\u001b[22m\u001b[1mn\u001b[22m\n",
      "\n"
     ]
    },
    {
     "data": {
      "text/markdown": [
       "```\n",
       "    jacobian(vf)\n",
       "    jacobian(vf, [vals])\n",
       "```\n",
       "\n",
       "Compute the jacobian matrix of `vf`, a vector of `TaylorN` polynomials, evaluated at the vector `vals`. If `vals` is ommited, it is evaluated at zero.\n"
      ],
      "text/plain": [
       "```\n",
       "    jacobian(vf)\n",
       "    jacobian(vf, [vals])\n",
       "```\n",
       "\n",
       "Compute the jacobian matrix of `vf`, a vector of `TaylorN` polynomials, evaluated at the vector `vals`. If `vals` is ommited, it is evaluated at zero.\n"
      ]
     },
     "execution_count": 7,
     "metadata": {},
     "output_type": "execute_result"
    }
   ],
   "source": [
    "?jacobian"
   ]
  },
  {
   "cell_type": "code",
   "execution_count": 6,
   "metadata": {
    "collapsed": false
   },
   "outputs": [
    {
     "data": {
      "text/plain": [
       "2×2 Array{Float64,2}:\n",
       " -1.0   0.0\n",
       " -1.0  -2.0"
      ]
     },
     "execution_count": 6,
     "metadata": {},
     "output_type": "execute_result"
    }
   ],
   "source": [
    "jacobian(dx0, [0, 0])"
   ]
  },
  {
   "cell_type": "code",
   "execution_count": 12,
   "metadata": {
    "collapsed": false
   },
   "outputs": [
    {
     "data": {
      "text/plain": [
       "2×2 Array{Float64,2}:\n",
       " 1.0  0.0\n",
       " 0.0  1.0"
      ]
     },
     "execution_count": 12,
     "metadata": {},
     "output_type": "execute_result"
    }
   ],
   "source": [
    "jacobian(x0)"
   ]
  },
  {
   "cell_type": "code",
   "execution_count": null,
   "metadata": {
    "collapsed": true
   },
   "outputs": [],
   "source": []
  }
 ],
 "metadata": {
  "kernelspec": {
   "display_name": "Julia 0.5.0",
   "language": "julia",
   "name": "julia-0.5"
  },
  "language_info": {
   "file_extension": ".jl",
   "mimetype": "application/julia",
   "name": "julia",
   "version": "0.5.0"
  }
 },
 "nbformat": 4,
 "nbformat_minor": 0
}
