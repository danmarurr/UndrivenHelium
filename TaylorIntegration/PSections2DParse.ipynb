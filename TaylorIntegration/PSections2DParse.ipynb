{
 "cells": [
  {
   "cell_type": "code",
   "execution_count": 1,
   "metadata": {
    "collapsed": false,
    "scrolled": false
   },
   "outputs": [],
   "source": [
    "#using TaylorSeries\n",
    "include(\"UndrivenHeliumParse.jl\")\n",
    "#include(\"Integ.jl\")\n",
    "using Plots, LaTeXStrings\n",
    "# plotly()\n",
    "pyplot(grid = :false, legend = :false, size=(600,600), color=:black, markersize = 0.3 )\n",
    "const Z = 2.0\n",
    "const order = 36\n",
    "const t0 = 0.0\n",
    "const t_max = 0.5 \n",
    "const abs_tol = 1.0E-22\n",
    "const steps = 500_000;"
   ]
  },
  {
   "cell_type": "markdown",
   "metadata": {},
   "source": [
    "## Revisamos compatibilidad hamiltoniano vs ecs de movimiento"
   ]
  },
  {
   "cell_type": "code",
   "execution_count": null,
   "metadata": {
    "collapsed": false
   },
   "outputs": [],
   "source": [
    "#@time dnorm= errHam2D(10_000);\n",
    "plot(eachindex(dnorm), dnorm, title = \"Compatibility Hamiltonian vs Eqs of motion\")\n",
    "xaxis!(\"Machine epsilons\")"
   ]
  },
  {
   "cell_type": "markdown",
   "metadata": {},
   "source": [
    "# Incluimos funciones para obtener secciones de Poincaré"
   ]
  },
  {
   "cell_type": "code",
   "execution_count": 2,
   "metadata": {
    "collapsed": true
   },
   "outputs": [],
   "source": [
    "@taylorize_ode function undrivenHelium2Dp!(τ, q, dq)\n",
    "      \n",
    "    #Cantidades auxiliares\n",
    "    Q₁² = q[1]^2 + q[2]^2\n",
    "    Q₂² = q[3]^2 + q[4]^2\n",
    "    P₁² = q[5]^2 + q[6]^2\n",
    "    P₂² = q[7]^2 + q[8]^2\n",
    "    t = Q₁²*Q₂²\n",
    "    f₁ = (q[1]^2 - q[2]^2) - (q[3]^2 - q[4]^2)\n",
    "    f₂ = 2(q[1]*q[2]) - 2(q[3]*q[4])\n",
    "    fs = f₁^2 + f₂^2\n",
    "    nf = sqrt(fs)\n",
    "    c1 = 1 + 1/nf\n",
    "    nf³ = nf^3\n",
    "    factor1 = t/nf³\n",
    "    s1 = -0.125P₂² + (Z - Q₂²*c1)\n",
    "    s2 = factor1*f₁\n",
    "    s3 = -0.125P₁² + (Z - Q₁²*c1)\n",
    "    #@show c1\n",
    "    dq[1] = 0.25(Q₂²*q[5])\n",
    "    dq[2] = 0.25(Q₂²*q[6])\n",
    "    dq[3] = 0.25(Q₁²*q[7])\n",
    "    dq[4] = 0.25(Q₁²*q[8])\n",
    "    dq[5] = 2q[1]*(s1 + s2) + (factor1*f₂)*q[2]\n",
    "    dq[6] = 2q[2]*(s1 - s2) + (factor1*f₂)*q[1]\n",
    "    dq[7] = 2q[3]*(s3 - s2) - (factor1*f₂)*q[4]\n",
    "    dq[8] = 2q[4]*(s3 + s2) - (factor1*f₂)*q[3]\n",
    "    return nothing\n",
    "end"
   ]
  },
  {
   "cell_type": "code",
   "execution_count": 3,
   "metadata": {
    "collapsed": false
   },
   "outputs": [
    {
     "data": {
      "text/plain": [
       "taylorintegps (generic function with 2 methods)"
      ]
     },
     "execution_count": 3,
     "metadata": {},
     "output_type": "execute_result"
    }
   ],
   "source": [
    "include(\"Integ.jl\")"
   ]
  },
  {
   "cell_type": "code",
   "execution_count": null,
   "metadata": {
    "collapsed": false
   },
   "outputs": [],
   "source": [
    "#condini2D(q₁x::T, q₁y::T, p₁x::T, p₁y::T, P₂y::T) where T<:Number in Main at /home/daniel/Documents/2017-2/Tesis/UndrivenHelium/TaylorIntegration/UndrivenHeliumParse.jl:110()\n",
    "c1 = condini2D(5.8, 0, 0., 0.0, 0.0)"
   ]
  },
  {
   "cell_type": "code",
   "execution_count": null,
   "metadata": {
    "collapsed": false
   },
   "outputs": [],
   "source": [
    "regHam2D(c1)"
   ]
  },
  {
   "cell_type": "code",
   "execution_count": null,
   "metadata": {
    "collapsed": false
   },
   "outputs": [],
   "source": [
    "t1p, x1p = taylorinteg(undrivenHelium2Dp!, c1, t0, 1.0, order, abs_tol, maxsteps=100)\n",
    "@time t1p, x1p = taylorinteg(undrivenHelium2Dp!, c1, t0, 120.0, order, abs_tol, maxsteps=10_000);"
   ]
  },
  {
   "cell_type": "code",
   "execution_count": null,
   "metadata": {
    "collapsed": false
   },
   "outputs": [],
   "source": [
    "t1, x1 = taylorinteg(undrivenHelium2D!, c1, t0, 1.0, order, abs_tol, maxsteps=100)\n",
    "@time t1, x1 = taylorinteg(undrivenHelium2D!, c1, t0, 120.0, order, abs_tol, maxsteps=10_000);"
   ]
  },
  {
   "cell_type": "code",
   "execution_count": null,
   "metadata": {
    "collapsed": false
   },
   "outputs": [],
   "source": [
    "length(t1p), length(t1)"
   ]
  },
  {
   "cell_type": "code",
   "execution_count": null,
   "metadata": {
    "collapsed": false
   },
   "outputs": [],
   "source": [
    "norm(x1-x1p, Inf)"
   ]
  },
  {
   "cell_type": "code",
   "execution_count": null,
   "metadata": {
    "collapsed": true
   },
   "outputs": [],
   "source": []
  },
  {
   "cell_type": "code",
   "execution_count": null,
   "metadata": {
    "collapsed": false
   },
   "outputs": [],
   "source": [
    "ene1 = zeros(t1)\n",
    "ene2 = zeros(t1)\n",
    "for j in eachindex(ene1)\n",
    "    ene1[j] = abs(regHam2D(x1p[j,:]))/eps()\n",
    "end\n",
    "for j in eachindex(ene2)\n",
    "    ene2[j] = abs(regHam2D(x1[j,:]))/eps()\n",
    "end"
   ]
  },
  {
   "cell_type": "code",
   "execution_count": null,
   "metadata": {
    "collapsed": false
   },
   "outputs": [],
   "source": [
    "plot(t1, ene1, title =L\"Absolute Error of Energy $q_1=2$\", color = :black)\n",
    "#plot!(t2, ene2, title =L\"Absolute Error of Energy $q_1=2$\",color=:red, label=L\"Cálculo con Sección de Poincaré\")\n",
    "xaxis!(L\"t\")\n",
    "yaxis!(L\"\\delta E\")\n"
   ]
  },
  {
   "cell_type": "code",
   "execution_count": null,
   "metadata": {
    "collapsed": false
   },
   "outputs": [],
   "source": [
    "plot(t1, norm.(x1[:,1]), title =L\"Absolute Error of Energy $q_1=2$\", color = :black)"
   ]
  },
  {
   "cell_type": "code",
   "execution_count": null,
   "metadata": {
    "collapsed": false
   },
   "outputs": [],
   "source": [
    "minimum(norm.(x1[:,1] - x1[:,3]))"
   ]
  },
  {
   "cell_type": "code",
   "execution_count": null,
   "metadata": {
    "collapsed": false
   },
   "outputs": [],
   "source": [
    "plot(t2, ene2, title =L\"Absolute Error of Energy $q_1=2$\")\n",
    "xlabel!(L\"t\")\n",
    "ylabel!(L\"\\delta E\")"
   ]
  },
  {
   "cell_type": "code",
   "execution_count": null,
   "metadata": {
    "collapsed": false
   },
   "outputs": [],
   "source": [
    "maximum(ene1)"
   ]
  }
 ],
 "metadata": {
  "kernelspec": {
   "display_name": "Julia 0.6.0",
   "language": "julia",
   "name": "julia-0.6"
  },
  "language_info": {
   "file_extension": ".jl",
   "mimetype": "application/julia",
   "name": "julia",
   "version": "0.6.0"
  }
 },
 "nbformat": 4,
 "nbformat_minor": 0
}
