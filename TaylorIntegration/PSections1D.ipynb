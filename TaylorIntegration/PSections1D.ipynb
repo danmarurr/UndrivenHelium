{
 "cells": [
  {
   "cell_type": "code",
   "execution_count": 1,
   "metadata": {
    "collapsed": false
   },
   "outputs": [
    {
     "data": {
      "text/plain": [
       "500000"
      ]
     },
     "execution_count": 1,
     "metadata": {},
     "output_type": "execute_result"
    }
   ],
   "source": [
    "using TaylorSeries, TaylorIntegration\n",
    "using Plots, LaTeXStrings\n",
    "# plotly()\n",
    "pyplot(grid = :false, legend = :false, size=(600,600), color=:black, markersize = 0.3 )\n",
    "const Z = 2.0\n",
    "const order = 20\n",
    "const t0 = 0.0\n",
    "const t_max = 0.5 \n",
    "const abs_tol = 1.0E-20\n",
    "const steps = 500_000"
   ]
  },
  {
   "cell_type": "code",
   "execution_count": 2,
   "metadata": {
    "collapsed": false
   },
   "outputs": [
    {
     "data": {
      "text/plain": [
       "errHam (generic function with 1 method)"
      ]
     },
     "execution_count": 2,
     "metadata": {},
     "output_type": "execute_result"
    }
   ],
   "source": [
    "function undrivenHelium!(τ, q, dq)\n",
    "    tT, Q₁, Q₂, P₁, P₂ = q\n",
    "    \n",
    "    t1 = Q₁^2\n",
    "    t2 = Q₂^2\n",
    "    t = t1 * t2\n",
    "    dq[1] = t\n",
    "    R12 = t1 - t2\n",
    "    aR12 = abs(R12)\n",
    "    RRR = aR12^3\n",
    "    c1 = R12/RRR\n",
    "    f1 = (1 + 1/aR12)\n",
    "    f2 = t*c1\n",
    "   \n",
    "    dq[2] = 0.25*t2*P₁\n",
    "    dq[4] = 2*Q₁*(-0.125*P₂^2 + Z  - t2*f1 + f2)\n",
    "    dq[3] = 0.25*t1*P₂\n",
    "    dq[5] = 2*Q₂*(-0.125*P₁^2 + Z  - t1*f1 - f2)\n",
    "\n",
    "#    return [t, q₁, q₂, p₁, p₂] \n",
    "    nothing\n",
    "end\n",
    "#undrivenHelium(v) = undrivenHelium(0, v)\n",
    "\n",
    "\n",
    "var1 = set_variables(\"t q1 q2 p1 p2\", order = 1)\n",
    "\n",
    "\n",
    "function condini(x10::Float64, px10::Float64)\n",
    "    @assert x10 != 0\n",
    "    Q1 = sqrt(x10)\n",
    "    Q2 = 0.0\n",
    "    P1 = px10*sqrt(x10)    \n",
    "    P2 = sqrt(8Z)    \n",
    "    return [0, Q1, Q2, P1, P2]\n",
    "end\n",
    "\n",
    "function regHam(t, Q₁, Q₂, P₁, P₂)\n",
    "    #Cantidades auxiliares\n",
    "    P₁² = P₁^2\n",
    "    P₂² = P₂^2\n",
    "    Q₁² = Q₁^2\n",
    "    Q₂² = Q₂^2\n",
    "    nf = abs(Q₁² - Q₂²)\n",
    "    \n",
    "    H = 0.125*(P₁²*Q₂² + P₂²*Q₁²) - Z*(Q₁² + Q₂²) + Q₁²*Q₂²*(1.0 + 1.0/nf)\n",
    "    return H\n",
    "end\n",
    "\n",
    "\n",
    "regHam(v) = regHam(v...)\n",
    "\n",
    "function errHam(N::Int)\n",
    "    srand(487293456)\n",
    "    J = [0 0 0 0 0; 0 0 0 1 0; 0 0 0 0 1; 0 -1 0 0 0; 0 0 -1 0 0 ]\n",
    "    \n",
    "    dnorm = zeros(N)\n",
    "    als = typeof(zeros(5))[]\n",
    "\n",
    "    for j in 1:N\n",
    "        al = 10*rand(5)\n",
    "        meq = similar(al)\n",
    "        #al = [BigFloat(x) for x in al1]\n",
    "        alt = al + var1\n",
    "        ene = J*∇(regHam(alt))\n",
    "        ene1 = [ene[k].coeffs[1].coeffs[1] for k in 1:5]\n",
    "        undrivenHelium!(0.0, al, meq)\n",
    "        push!(als, al)\n",
    "        meq[1] = 0\n",
    "        dnorm[j] = norm(meq - ene1) \n",
    "    end\n",
    "    return dnorm, als \n",
    "end"
   ]
  },
  {
   "cell_type": "code",
   "execution_count": 3,
   "metadata": {
    "collapsed": false
   },
   "outputs": [
    {
     "name": "stdout",
     "output_type": "stream",
     "text": [
      " 16.195338 seconds (355.00 M allocations: 18.965 GB, 31.76% gc time)\n"
     ]
    },
    {
     "data": {
      "text/html": [
       "<img src=\"data:image/png;base64,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\" />"
      ]
     },
     "execution_count": 3,
     "metadata": {},
     "output_type": "execute_result"
    }
   ],
   "source": [
    "@time dnorm, als= errHam(100_000);\n",
    "plot(eachindex(dnorm), dnorm, title = \"Compatibility Hamiltonian vs Eqs of motion\")"
   ]
  },
  {
   "cell_type": "code",
   "execution_count": 4,
   "metadata": {
    "collapsed": false
   },
   "outputs": [
    {
     "data": {
      "text/plain": [
       "q2sign (generic function with 1 method)"
      ]
     },
     "execution_count": 4,
     "metadata": {},
     "output_type": "execute_result"
    }
   ],
   "source": [
    "function q2sign(xold, x0, tol)\n",
    "    if abs(xold[3]) < tol\n",
    "        sq2o = 0\n",
    "    else\n",
    "        sq2o = sign(xold[3])\n",
    "    end\n",
    "    \n",
    "    if abs(x0[3]) < tol\n",
    "        sq2 = 0\n",
    "    else\n",
    "        sq2 = sign(x0[3])\n",
    "    end\n",
    "    if abs(xold[5]) < tol\n",
    "        sp2o = 0\n",
    "    else\n",
    "        sp2o = sign(xold[5])\n",
    "    end\n",
    "    \n",
    "    if abs(x0[5]) < tol\n",
    "        sp2 = 0\n",
    "    else\n",
    "        sp2 = sign(x0[5])\n",
    "    end\n",
    "    return sq2o, sq2, sp2o, sp2\n",
    "end\n",
    "    "
   ]
  },
  {
   "cell_type": "code",
   "execution_count": 5,
   "metadata": {
    "collapsed": false
   },
   "outputs": [
    {
     "data": {
      "text/plain": [
       "taylorintegps (generic function with 1 method)"
      ]
     },
     "execution_count": 5,
     "metadata": {},
     "output_type": "execute_result"
    }
   ],
   "source": [
    "###Implementamos nuevo código \n",
    "\n",
    "function taylorintegps{T<:Number}(f!, q0::Array{T,1}, t0::T, tmax::T,\n",
    "    order::Int, abstol::T; maxsteps::Int=500, tol = 1e-10, tsteps = 100)\n",
    "\n",
    "    # Allocation\n",
    "    const tv = Array{T}(maxsteps+1)\n",
    "    dof = length(q0)\n",
    "    const xv = Array{T}(dof, maxsteps+1)\n",
    "    const vT = zeros(T, order+1)\n",
    "    vT[2] = one(T)\n",
    "\n",
    "    # Initialize the vector of Taylor1 expansions\n",
    "    const x = Array{Taylor1{T}}(dof)\n",
    "    const dx = Array{Taylor1{T}}(dof)\n",
    "    const xaux = Array{Taylor1{T}}(dof)\n",
    "    for i in eachindex(q0)\n",
    "        @inbounds x[i] = Taylor1( q0[i], order )\n",
    "    end\n",
    "\n",
    "    # Initial conditions\n",
    "    @inbounds tv[1] = t0\n",
    "    @inbounds xv[:,1] .= q0\n",
    "    x0 = copy(q0)\n",
    "\n",
    "    # Integration\n",
    "    \n",
    "    nsteps = 1\n",
    "    sum1 = q0[3]/maxsteps\n",
    "    δtn = Inf\n",
    "    while t0 < tmax\n",
    "        xold = copy(x0)\n",
    "        δt = TaylorIntegration.taylorstep!(f!, x, dx, xaux, t0, tmax, x0, order, abstol, vT)\n",
    "        sq2o, sq2, sp2o, sp2 = q2sign(xold, x0, tol)\n",
    "        steps1 = 0\n",
    "        x00 = copy(x0)\n",
    "        bool1 = false\n",
    "        \n",
    "        while sq2o*sq2 == -1 || (sp2o*sp2 == -1 && abs(xold[3]) < tol)\n",
    "            bool1 = true\n",
    "            q2T = x[3]\n",
    "            dq2T = derivative(q2T)\n",
    "            δtn = copy(δt)\n",
    "            for nc in 1:20\n",
    "                δtn = δtn - evaluate(q2T, δtn)/evaluate(dq2T, δtn)\n",
    "            end\n",
    "            \n",
    "            evaluate!(x, δtn, x0)\n",
    "            sq2o, sq2, sp2o, sp2 = q2sign(xold, x0, tol)\n",
    "            steps1 += 1\n",
    "            \n",
    "            if steps1  ≥ tsteps\n",
    "                break\n",
    "            end\n",
    "        end\n",
    "            \n",
    "        if bool1 == true\n",
    "            nsteps += 1\n",
    "            @inbounds tv[nsteps] = t0 + δtn\n",
    "            @inbounds xv[:,nsteps] .= x0\n",
    "            x0 = x00\n",
    "        end\n",
    "        if nsteps >= maxsteps\n",
    "            warn(\"\"\"\n",
    "            Maximum number of integration steps reached; exiting.\n",
    "            \"\"\")\n",
    "            break\n",
    "        end\n",
    "        \n",
    "        for i in eachindex(x0)\n",
    "            @inbounds x[i][1] = x0[i]\n",
    "        end\n",
    "        t0 += δt\n",
    "        nsteps += 1\n",
    "        @inbounds tv[nsteps] = t0\n",
    "        @inbounds xv[:,nsteps] .= x0\n",
    "        if nsteps >= maxsteps\n",
    "            warn(\"\"\"\n",
    "            Maximum number of integration steps reached; exiting.\n",
    "            \"\"\")\n",
    "            break\n",
    "        end\n",
    "    end\n",
    "\n",
    "    return view(tv,1:nsteps), view(transpose(xv),1:nsteps,:)\n",
    "end"
   ]
  },
  {
   "cell_type": "code",
   "execution_count": 6,
   "metadata": {
    "collapsed": false
   },
   "outputs": [
    {
     "data": {
      "text/plain": [
       "5-element Array{Float64,1}:\n",
       " 0.0    \n",
       " 1.41421\n",
       " 0.0    \n",
       " 0.0    \n",
       " 4.0    "
      ]
     },
     "execution_count": 6,
     "metadata": {},
     "output_type": "execute_result"
    }
   ],
   "source": [
    "c1 = condini(2.0, 0.0)"
   ]
  },
  {
   "cell_type": "code",
   "execution_count": 7,
   "metadata": {
    "collapsed": false
   },
   "outputs": [
    {
     "name": "stdout",
     "output_type": "stream",
     "text": [
      "  6.424563 seconds (89.50 M allocations: 6.850 GB, 30.18% gc time)\n"
     ]
    }
   ],
   "source": [
    "t1, x1 = taylorinteg(undrivenHelium!, c1, t0, 1.0, order, abs_tol, maxsteps=100_000)\n",
    "@time t1, x1 = taylorinteg(undrivenHelium!, c1, t0, 15.0, order, abs_tol, maxsteps=100_000);"
   ]
  },
  {
   "cell_type": "code",
   "execution_count": 8,
   "metadata": {
    "collapsed": false
   },
   "outputs": [
    {
     "name": "stdout",
     "output_type": "stream",
     "text": [
      "  6.391995 seconds (90.06 M allocations: 6.869 GB, 29.58% gc time)\n"
     ]
    }
   ],
   "source": [
    "t2, x2 = taylorintegps(undrivenHelium!, c1, t0, 1.0, order, abs_tol, maxsteps=100_000)\n",
    "@time t2, x2 = taylorintegps(undrivenHelium!, c1, t0, 15.0, order, abs_tol, maxsteps=100_000);"
   ]
  },
  {
   "cell_type": "code",
   "execution_count": 9,
   "metadata": {
    "collapsed": false
   },
   "outputs": [
    {
     "data": {
      "text/plain": [
       "(39742,43722)"
      ]
     },
     "execution_count": 9,
     "metadata": {},
     "output_type": "execute_result"
    }
   ],
   "source": [
    "length(t1), length(t2)"
   ]
  },
  {
   "cell_type": "code",
   "execution_count": 10,
   "metadata": {
    "collapsed": false
   },
   "outputs": [],
   "source": [
    "ene1 = zeros(t1)\n",
    "ene2 = zeros(t2)\n",
    "for j in eachindex(ene1)\n",
    "    ene1[j] = abs(regHam(x1[j,:]))\n",
    "end\n",
    "for j in eachindex(ene2)\n",
    "    ene2[j] = abs(regHam(x2[j,:]))\n",
    "end"
   ]
  },
  {
   "cell_type": "code",
   "execution_count": 11,
   "metadata": {
    "collapsed": false
   },
   "outputs": [
    {
     "data": {
      "text/html": [
       "<img src=\"data:image/png;base64,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\" />"
      ]
     },
     "execution_count": 11,
     "metadata": {},
     "output_type": "execute_result"
    }
   ],
   "source": [
    "plot(x1[:,1], ene1, title =L\"Absolute Error of Energy $q_1=2$\")\n",
    "plot!(x2[:,1], ene2, title =L\"Absolute Error of Energy $q_1=2$\",color=:red )\n",
    "xlabel!(L\"t\")\n",
    "ylabel!(L\"\\delta E\")\n",
    "#xlims!(0,5000)"
   ]
  },
  {
   "cell_type": "code",
   "execution_count": 12,
   "metadata": {
    "collapsed": false
   },
   "outputs": [
    {
     "data": {
      "text/html": [
       "<img src=\"data:image/png;base64,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\" />"
      ]
     },
     "execution_count": 12,
     "metadata": {},
     "output_type": "execute_result"
    }
   ],
   "source": [
    "plot(x2[:,1], ene2/eps(), title =L\"Absolute Error of Energy $q_1=2$\")\n",
    "xlabel!(L\"t\")\n",
    "ylabel!(L\"\\delta E\")\n",
    "xlims!(0,5000)"
   ]
  },
  {
   "cell_type": "code",
   "execution_count": 13,
   "metadata": {
    "collapsed": false
   },
   "outputs": [
    {
     "data": {
      "text/plain": [
       "1.837179297581315e-10"
      ]
     },
     "execution_count": 13,
     "metadata": {},
     "output_type": "execute_result"
    }
   ],
   "source": [
    "maximum(ene1)"
   ]
  },
  {
   "cell_type": "code",
   "execution_count": 14,
   "metadata": {
    "collapsed": false
   },
   "outputs": [
    {
     "data": {
      "text/plain": [
       "psundriven (generic function with 2 methods)"
      ]
     },
     "execution_count": 14,
     "metadata": {},
     "output_type": "execute_result"
    }
   ],
   "source": [
    "function psundriven(x10::Float64, px10::Float64, tol::Float64 = 1e-20)\n",
    "    c1 = condini(x10, px10)\n",
    "    t, x = taylorintegps(undrivenHelium!, c1, t0, 100.0, order, abs_tol)\n",
    "    ps = zeros(x)\n",
    "    ts = zeros(t)\n",
    "    count = 0\n",
    "    for j in eachindex(ts)\n",
    "        if abs(x[j,3]) < tol\n",
    "            count += 1\n",
    "            ts[count] = t[j]\n",
    "            ps[count, :] = x[j, :]\n",
    "        end\n",
    "    end\n",
    "    return ps[1:count, :], t, x\n",
    "end"
   ]
  },
  {
   "cell_type": "code",
   "execution_count": 15,
   "metadata": {
    "collapsed": false
   },
   "outputs": [
    {
     "data": {
      "text/plain": [
       "ks (generic function with 1 method)"
      ]
     },
     "execution_count": 15,
     "metadata": {},
     "output_type": "execute_result"
    }
   ],
   "source": [
    "#Haremos malavares con metaprogramming para ver varias órbitas\n",
    "nombret(n::Int) = Symbol( string(\"t\", n) )\n",
    "nombreps(n::Int) = Symbol( string(\"ps\", n) )\n",
    "nombreq(n::Int) = Symbol( string(\"q\", n) )\n",
    "nombrexs(n::Int) = Symbol( string(\"xs\", n) )\n",
    "nombrevxs(n::Int) = Symbol( string(\"vxs\", n) )\n",
    "nombreys(n::Int) = Symbol( string(\"ys\", n) )\n",
    "nombrevys(n::Int) = Symbol( string(\"vys\", n) )\n",
    "\n",
    "function orbits(nmin, rs = 2:10)\n",
    "    N = length(rs)\n",
    "    # Checo que `n` sea >= 1\n",
    "    @assert N >= 0  \n",
    "\n",
    "    for j = nmin:(N+nmin - 1)\n",
    "        ex1 = quote \n",
    "            $(nombreps(j)), $(nombret(j)), $(nombreq(j))  = \n",
    "                psundriven(Float64($(rs[j])), 0.0)\n",
    "             end\n",
    "        ex2 = quote \n",
    "            $(nombrexs(j)) = map(ks, $(nombreps(j))[:,2])*0.8/1.8\n",
    "             end\n",
    "        \n",
    "        ex3 = quote \n",
    "                 $(nombrevxs(j)) =  \n",
    "            Float64[ksv($(nombreps(j))[k,2], $(nombreps(j))[k, 4]) \n",
    "                 for k in eachindex($(nombreps(j))[:, 4])]*0.8/1.8\n",
    "             end\n",
    "        ex4 = quote \n",
    "            $(nombreys(j)) = map(ks, $(nombreq(j))[:,3])*0.8/1.8\n",
    "             end\n",
    "        \n",
    "        ex5 = quote \n",
    "            $(nombrevys(j)) =  \n",
    "                 Float64[ksv($(nombreq(j))[k,3], $(nombreq(j))[k, 5]) \n",
    "                 for k in eachindex($(nombret(j)))]*0.8/1.8\n",
    "             end\n",
    "        eval(ex1)\n",
    "        eval(ex2)\n",
    "        eval(ex3)\n",
    "        eval(ex4)\n",
    "        eval(ex5)\n",
    "    end\n",
    "end\n",
    "\n",
    "function plottingps(nmax,xmin::Float64=0.0, xmax::Float64=20.0, \n",
    "    ymin::Float64=-1.0, ymax::Float64=1.0)\n",
    "    scatter(xs1, vxs1, label = L\"q = 2\", title = L\"Poincaré Section $Z = 2$,  $r_{2_0} =0$\")\n",
    "    for j in 2:nmax\n",
    "        ex = quote\n",
    "            scatter!($(nombrexs(j)), $(nombrevxs(j)))\n",
    "        end\n",
    "        eval(ex)\n",
    "    end\n",
    "    xaxis!([0,20])\n",
    "    xlabel!(L\"x\")\n",
    "    ylabel!(L\"p_x\")\n",
    "    yaxis!([ymin, ymax])\n",
    "    xaxis!([xmin, xmax])\n",
    "end\n",
    "\n",
    "function ksv(Q, P)\n",
    "    v₁ = P/Q\n",
    "    return v₁\n",
    "end\n",
    "ks(Q) = Q^2"
   ]
  },
  {
   "cell_type": "code",
   "execution_count": 16,
   "metadata": {
    "collapsed": false
   },
   "outputs": [
    {
     "name": "stderr",
     "output_type": "stream",
     "text": [
      "\u001b[1m\u001b[31mWARNING: Maximum number of integration steps reached; exiting.\u001b[0m\n",
      "\u001b[1m\u001b[31mWARNING: Maximum number of integration steps reached; exiting.\u001b[0m\n",
      "\u001b[1m\u001b[31mWARNING: Maximum number of integration steps reached; exiting.\u001b[0m\n",
      "\u001b[1m\u001b[31mWARNING: Maximum number of integration steps reached; exiting.\u001b[0m\n",
      "\u001b[1m\u001b[31mWARNING: Maximum number of integration steps reached; exiting.\u001b[0m\n",
      "\u001b[1m\u001b[31mWARNING: Maximum number of integration steps reached; exiting.\u001b[0m\n",
      "\u001b[1m\u001b[31mWARNING: Maximum number of integration steps reached; exiting.\u001b[0m\n",
      "\u001b[1m\u001b[31mWARNING: Maximum number of integration steps reached; exiting.\u001b[0m\n",
      "\u001b[1m\u001b[31mWARNING: Maximum number of integration steps reached; exiting.\u001b[0m\n",
      "\u001b[1m\u001b[31mWARNING: Maximum number of integration steps reached; exiting.\u001b[0m\n",
      "\u001b[1m\u001b[31mWARNING: Maximum number of integration steps reached; exiting.\u001b[0m\n",
      "\u001b[1m\u001b[31mWARNING: Maximum number of integration steps reached; exiting.\u001b[0m\n",
      "\u001b[1m\u001b[31mWARNING: Maximum number of integration steps reached; exiting.\u001b[0m\n",
      "\u001b[1m\u001b[31mWARNING: Maximum number of integration steps reached; exiting.\u001b[0m\n",
      "\u001b[1m\u001b[31mWARNING: Maximum number of integration steps reached; exiting.\u001b[0m\n",
      "\u001b[1m\u001b[31mWARNING: Maximum number of integration steps reached; exiting.\u001b[0m\n",
      "\u001b[1m\u001b[31mWARNING: Maximum number of integration steps reached; exiting.\u001b[0m\n",
      "\u001b[1m\u001b[31mWARNING: Maximum number of integration steps reached; exiting.\u001b[0m\n",
      "\u001b[1m\u001b[31mWARNING: Maximum number of integration steps reached; exiting.\u001b[0m\n",
      "\u001b[1m\u001b[31mWARNING: Maximum number of integration steps reached; exiting.\u001b[0m\n",
      "\u001b[1m\u001b[31mWARNING: Maximum number of integration steps reached; exiting.\u001b[0m\n",
      "\u001b[1m\u001b[31mWARNING: Maximum number of integration steps reached; exiting.\u001b[0m\n",
      "\u001b[1m\u001b[31mWARNING: Maximum number of integration steps reached; exiting.\u001b[0m\n",
      "\u001b[1m\u001b[31mWARNING: Maximum number of integration steps reached; exiting.\u001b[0m\n",
      "\u001b[1m\u001b[31mWARNING: Maximum number of integration steps reached; exiting.\u001b[0m\n",
      "\u001b[1m\u001b[31mWARNING: Maximum number of integration steps reached; exiting.\u001b[0m\n",
      "\u001b[1m\u001b[31mWARNING: Maximum number of integration steps reached; exiting.\u001b[0m\n",
      "\u001b[1m\u001b[31mWARNING: Maximum number of integration steps reached; exiting.\u001b[0m\n",
      "\u001b[1m\u001b[31mWARNING: Maximum number of integration steps reached; exiting.\u001b[0m\n",
      "\u001b[1m\u001b[31mWARNING: Maximum number of integration steps reached; exiting.\u001b[0m\n"
     ]
    },
    {
     "name": "stdout",
     "output_type": "stream",
     "text": [
      "  4.994758 seconds (34.39 M allocations: 2.590 GB, 18.10% gc time)\n"
     ]
    },
    {
     "name": "stderr",
     "output_type": "stream",
     "text": [
      "\u001b[1m\u001b[31mWARNING: Maximum number of integration steps reached; exiting.\u001b[0m\n"
     ]
    }
   ],
   "source": [
    "@time orbits(1,2:0.1:5)\n",
    "NM = length(2:0.1:5);"
   ]
  },
  {
   "cell_type": "code",
   "execution_count": 17,
   "metadata": {
    "collapsed": false
   },
   "outputs": [
    {
     "name": "stdout",
     "output_type": "stream",
     "text": [
      "  0.375076 seconds (275.89 k allocations: 11.937 MB)\n"
     ]
    },
    {
     "data": {
      "text/html": [
       "<img src=\"data:image/png;base64,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\" />"
      ]
     },
     "execution_count": 17,
     "metadata": {},
     "output_type": "execute_result"
    }
   ],
   "source": [
    "#@time plottingps(NM, 2.5, 2.7, -0.05, 0.05)\n",
    "@time plottingps(NM, 2.5, 2., -0.5, 0.5)"
   ]
  },
  {
   "cell_type": "code",
   "execution_count": null,
   "metadata": {
    "collapsed": true
   },
   "outputs": [],
   "source": []
  }
 ],
 "metadata": {
  "kernelspec": {
   "display_name": "Julia 0.5.3-pre",
   "language": "julia",
   "name": "julia-0.5"
  },
  "language_info": {
   "file_extension": ".jl",
   "mimetype": "application/julia",
   "name": "julia",
   "version": "0.5.3"
  }
 },
 "nbformat": 4,
 "nbformat_minor": 0
}
