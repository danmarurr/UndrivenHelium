{
 "cells": [
  {
   "cell_type": "code",
   "execution_count": 1,
   "metadata": {
    "collapsed": false
   },
   "outputs": [
    {
     "data": {
      "text/plain": [
       "500000"
      ]
     },
     "execution_count": 1,
     "metadata": {},
     "output_type": "execute_result"
    }
   ],
   "source": [
    "using TaylorSeries, TaylorIntegration\n",
    "using Plots, LaTeXStrings\n",
    "# plotly()\n",
    "pyplot(grid = :false, legend = :false, size=(600,600), color=:black, markersize = 0.3 )\n",
    "const Z = 2.0\n",
    "const order = 20\n",
    "const t0 = 0.0\n",
    "const t_max = 0.5 \n",
    "const abs_tol = 1.0E-20\n",
    "const steps = 500_000"
   ]
  },
  {
   "cell_type": "code",
   "execution_count": 2,
   "metadata": {
    "collapsed": false
   },
   "outputs": [
    {
     "data": {
      "text/plain": [
       "errHam (generic function with 1 method)"
      ]
     },
     "execution_count": 2,
     "metadata": {},
     "output_type": "execute_result"
    }
   ],
   "source": [
    "function undrivenHelium!(τ, q, dq)\n",
    "    tT, Q₁, Q₂, P₁, P₂ = q\n",
    "    \n",
    "    t1 = Q₁^2\n",
    "    t2 = Q₂^2\n",
    "    t = t1 * t2\n",
    "    dq[1] = t\n",
    "    R12 = t1 - t2\n",
    "    aR12 = abs(R12)\n",
    "    RRR = aR12^3\n",
    "    c1 = R12/RRR\n",
    "    f1 = (1 + 1/aR12)\n",
    "    f2 = t*c1\n",
    "   \n",
    "    dq[2] = 0.25*t2*P₁\n",
    "    dq[4] = 2*Q₁*(-0.125*P₂^2 + Z  - t2*f1 + f2)\n",
    "    dq[3] = 0.25*t1*P₂\n",
    "    dq[5] = 2*Q₂*(-0.125*P₁^2 + Z  - t1*f1 - f2)\n",
    "\n",
    "#    return [t, q₁, q₂, p₁, p₂] \n",
    "    nothing\n",
    "end\n",
    "#undrivenHelium(v) = undrivenHelium(0, v)\n",
    "\n",
    "\n",
    "var1 = set_variables(\"t q1 q2 p1 p2\", order = 1)\n",
    "\n",
    "\n",
    "function condini(x10::Float64, px10::Float64)\n",
    "    @assert x10 != 0\n",
    "    Q1 = sqrt(x10)\n",
    "    Q2 = 0.0\n",
    "    P1 = px10*sqrt(x10)    \n",
    "    P2 = sqrt(8Z)    \n",
    "    return [0, Q1, Q2, P1, P2]\n",
    "end\n",
    "\n",
    "function regHam(t, Q₁, Q₂, P₁, P₂)\n",
    "    #Cantidades auxiliares\n",
    "    P₁² = P₁^2\n",
    "    P₂² = P₂^2\n",
    "    Q₁² = Q₁^2\n",
    "    Q₂² = Q₂^2\n",
    "    nf = abs(Q₁² - Q₂²)\n",
    "    \n",
    "    H = 0.125*(P₁²*Q₂² + P₂²*Q₁²) - Z*(Q₁² + Q₂²) + Q₁²*Q₂²*(1.0 + 1.0/nf)\n",
    "    return H\n",
    "end\n",
    "\n",
    "\n",
    "regHam(v) = regHam(v...)\n",
    "\n",
    "function errHam(N::Int)\n",
    "    srand(487293456)\n",
    "    J = [0 0 0 0 0; 0 0 0 1 0; 0 0 0 0 1; 0 -1 0 0 0; 0 0 -1 0 0 ]\n",
    "    \n",
    "    dnorm = zeros(N)\n",
    "    als = typeof(zeros(5))[]\n",
    "\n",
    "    for j in 1:N\n",
    "        al = 10*rand(5)\n",
    "        meq = similar(al)\n",
    "        #al = [BigFloat(x) for x in al1]\n",
    "        alt = al + var1\n",
    "        ene = J*∇(regHam(alt))\n",
    "        ene1 = [ene[k].coeffs[1].coeffs[1] for k in 1:5]\n",
    "        undrivenHelium!(0.0, al, meq)\n",
    "        push!(als, al)\n",
    "        meq[1] = 0\n",
    "        dnorm[j] = norm(meq - ene1) \n",
    "    end\n",
    "    return dnorm, als \n",
    "end"
   ]
  },
  {
   "cell_type": "code",
   "execution_count": 3,
   "metadata": {
    "collapsed": false
   },
   "outputs": [
    {
     "name": "stdout",
     "output_type": "stream",
     "text": [
      " 17.644495 seconds (355.00 M allocations: 18.965 GB, 30.61% gc time)\n"
     ]
    },
    {
     "data": {
      "text/html": [
       "<img src=\"data:image/png;base64,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\" />"
      ]
     },
     "execution_count": 3,
     "metadata": {},
     "output_type": "execute_result"
    }
   ],
   "source": [
    "@time dnorm, als= errHam(100_000);\n",
    "plot(eachindex(dnorm), dnorm, title = \"Compatibility Hamiltonian vs Eqs of motion\")"
   ]
  },
  {
   "cell_type": "code",
   "execution_count": 4,
   "metadata": {
    "collapsed": false
   },
   "outputs": [
    {
     "data": {
      "text/plain": [
       "q2sign (generic function with 1 method)"
      ]
     },
     "execution_count": 4,
     "metadata": {},
     "output_type": "execute_result"
    }
   ],
   "source": [
    "function q2sign(xold, x0, tol)\n",
    "    if abs(xold[3]) < tol\n",
    "        sq2o = 0\n",
    "    else\n",
    "        sq2o = sign(xold[3])\n",
    "    end\n",
    "    \n",
    "    if abs(x0[3]) < tol\n",
    "        sq2 = 0\n",
    "    else\n",
    "        sq2 = sign(x0[3])\n",
    "    end\n",
    "    if abs(xold[5]) < tol\n",
    "        sp2o = 0\n",
    "    else\n",
    "        sp2o = sign(xold[5])\n",
    "    end\n",
    "    \n",
    "    if abs(x0[5]) < tol\n",
    "        sp2 = 0\n",
    "    else\n",
    "        sp2 = sign(x0[5])\n",
    "    end\n",
    "    return sq2o, sq2, sp2o, sp2\n",
    "end\n",
    "    "
   ]
  },
  {
   "cell_type": "code",
   "execution_count": 5,
   "metadata": {
    "collapsed": false
   },
   "outputs": [
    {
     "data": {
      "text/plain": [
       "taylorintegps (generic function with 1 method)"
      ]
     },
     "execution_count": 5,
     "metadata": {},
     "output_type": "execute_result"
    }
   ],
   "source": [
    "###Implementamos nuevo código \n",
    "\n",
    "function taylorintegps{T<:Number}(f!, q0::Array{T,1}, t0::T, tmax::T,\n",
    "    order::Int, abstol::T; maxsteps::Int=500, tol = 1e-10, tsteps = 100)\n",
    "\n",
    "    # Allocation\n",
    "    const tv = Array{T}(maxsteps+1)\n",
    "    dof = length(q0)\n",
    "    const xv = Array{T}(dof, maxsteps+1)\n",
    "    const vT = zeros(T, order+1)\n",
    "    vT[2] = one(T)\n",
    "\n",
    "    # Initialize the vector of Taylor1 expansions\n",
    "    const x = Array{Taylor1{T}}(dof)\n",
    "    const dx = Array{Taylor1{T}}(dof)\n",
    "    const xaux = Array{Taylor1{T}}(dof)\n",
    "    for i in eachindex(q0)\n",
    "        @inbounds x[i] = Taylor1( q0[i], order )\n",
    "    end\n",
    "\n",
    "    # Initial conditions\n",
    "    @inbounds tv[1] = t0\n",
    "    @inbounds xv[:,1] .= q0\n",
    "    x0 = copy(q0)\n",
    "\n",
    "    # Integration\n",
    "    \n",
    "    nsteps = 1\n",
    "    #sum1 = q0[3]/maxsteps\n",
    "    δtn = Inf\n",
    "    while t0 < tmax\n",
    "        xold = copy(x0)\n",
    "        δt = TaylorIntegration.taylorstep!(f!, x, dx, xaux, t0, tmax, x0, order, abstol, vT)\n",
    "        sq2o, sq2, sp2o, sp2 = q2sign(xold, x0, tol)\n",
    "        steps1 = 0\n",
    "        x00 = copy(x0)\n",
    "        bool1 = false\n",
    "        \n",
    "        while sq2o*sq2 == -1 || (sp2o*sp2 == -1 && abs(xold[3]) < tol)\n",
    "            bool1 = true\n",
    "            q2T = x[3]\n",
    "            \n",
    "            dq2T = derivative(q2T)\n",
    "            δtn = copy(δt)\n",
    "            for nc in 1:20\n",
    "                δtn = δtn - evaluate(q2T, δtn)/evaluate(dq2T, δtn)\n",
    "            end\n",
    "            \n",
    "            evaluate!(x, δtn, x0)\n",
    "            sq2o, sq2, sp2o, sp2 = q2sign(xold, x0, tol)\n",
    "            steps1 += 1\n",
    "            \n",
    "            if steps1  ≥ tsteps\n",
    "                break\n",
    "            end\n",
    "        end\n",
    "            \n",
    "        if bool1 == true\n",
    "            nsteps += 1\n",
    "            @inbounds tv[nsteps] = t0 + δtn\n",
    "            @inbounds xv[:,nsteps] .= x0\n",
    "            x0 = x00\n",
    "        end\n",
    "        if nsteps >= maxsteps\n",
    "            warn(\"\"\"\n",
    "            Maximum number of integration steps reached; exiting.\n",
    "            \"\"\")\n",
    "            break\n",
    "        end\n",
    "        \n",
    "        for i in eachindex(x0)\n",
    "            @inbounds x[i][1] = x0[i]\n",
    "        end\n",
    "        t0 += δt\n",
    "        nsteps += 1\n",
    "        @inbounds tv[nsteps] = t0\n",
    "        @inbounds xv[:,nsteps] .= x0\n",
    "        if nsteps >= maxsteps\n",
    "            warn(\"\"\"\n",
    "            Maximum number of integration steps reached; exiting.\n",
    "            \"\"\")\n",
    "            break\n",
    "        end\n",
    "    end\n",
    "\n",
    "    return view(tv,1:nsteps), view(transpose(xv),1:nsteps,:)\n",
    "end"
   ]
  },
  {
   "cell_type": "code",
   "execution_count": 6,
   "metadata": {
    "collapsed": false
   },
   "outputs": [
    {
     "data": {
      "text/plain": [
       "5-element Array{Float64,1}:\n",
       " 0.0    \n",
       " 1.41421\n",
       " 0.0    \n",
       " 0.0    \n",
       " 4.0    "
      ]
     },
     "execution_count": 6,
     "metadata": {},
     "output_type": "execute_result"
    }
   ],
   "source": [
    "c1 = condini(2.0, 0.0)"
   ]
  },
  {
   "cell_type": "code",
   "execution_count": 9,
   "metadata": {
    "collapsed": false
   },
   "outputs": [
    {
     "name": "stdout",
     "output_type": "stream",
     "text": [
      "  0.026162 seconds (225.34 k allocations: 17.648 MB, 35.59% gc time)\n"
     ]
    },
    {
     "name": "stderr",
     "output_type": "stream",
     "text": [
      "\u001b[1m\u001b[31mWARNING: Maximum number of integration steps reached; exiting.\u001b[0m\n"
     ]
    }
   ],
   "source": [
    "t1, x1 = taylorinteg(undrivenHelium!, c1, t0, 1.0, order, abs_tol, maxsteps=100)\n",
    "@time t1, x1 = taylorinteg(undrivenHelium!, c1, t0, 15.0, order, abs_tol, maxsteps=100);"
   ]
  },
  {
   "cell_type": "code",
   "execution_count": 10,
   "metadata": {
    "collapsed": false
   },
   "outputs": [
    {
     "name": "stdout",
     "output_type": "stream",
     "text": [
      "x = TaylorSeries.Taylor1{Float64}[ 1.829608517802968 + 0.0034789157329662593 t - 0.2903485174175467 t² + 8.072203354731627 t³ + 0.4438042655953075 t⁴ - 7.926163739395276 t⁵ + 14.319915374783065 t⁶ + 2.7341430538107625 t⁷ - 30.482855913753504 t⁸ + 15.370374436610089 t⁹ + 20.946623623845635 t¹⁰ - 56.98809879179616 t¹¹ + 8.225472982624959 t¹² + 69.58105949288606 t¹³ - 68.07993045617378 t¹⁴ - 23.883738071943974 t¹⁵ + 124.95222025261808 t¹⁶ - 56.57600506560919 t¹⁷ - 88.1449233895457 t¹⁸ + 136.3228541039077 t¹⁹ - 17.5587736931181 t²⁰ + 𝒪(t²¹), 1.7012875919810755 + 0.0008715022299290702 t - 0.07273556311999348 t² + 2.0222381137409156 t³ + 0.10612687881682219 t⁴ - 1.8172927243961259 t⁵ + 1.2651314671791285 t⁶ - 0.004226466870362909 t⁷ - 0.25504555491008274 t⁸ + 0.4758831692676856 t⁹ + 0.9958412457616831 t¹⁰ - 0.5637500966814089 t¹¹ - 0.8770374285715351 t¹² - 7.703783989178904 t¹³ - 5.562602384151327 t¹⁴ - 4.357029096085044 t¹⁵ - 20.73460041919726 t¹⁶ + 3.4139883408304192 t¹⁷ + 17.39907517300763 t¹⁸ + 35.09824321393475 t¹⁹ + 46.35597346993319 t²⁰ + 𝒪(t²¹), 0.034669231911921145 - 2.893494020177847 t - 0.07540364861999824 t² + 2.140049611457563 t³ - 1.7587041766752187 t⁴ + 0.43988158780527986 t⁵ + 4.64484908145758 t⁶ + 0.14617607417926745 t⁷ - 1.8925981908759621 t⁸ + 6.326839515853465 t⁹ - 0.5537457230702223 t¹⁰ - 6.260815665696821 t¹¹ + 0.46516175554657063 t¹² - 2.633995583214931 t¹³ - 14.355404324375339 t¹⁴ - 8.208137715043692 t¹⁵ - 2.430349372692304 t¹⁶ - 11.042282774682649 t¹⁷ + 18.720010785755836 t¹⁸ + 17.726230575841775 t¹⁹ + 86.73749104854427 t²⁰ + 𝒪(t²¹), 2.900280842115305 + 7.387800811605817e-5 t - 0.006263907146958351 t² + 0.18507029073851286 t³ - 0.6746172838930312 t⁴ + 11.280263036386996 t⁵ - 0.8181632387475503 t⁶ + 12.10631660805724 t⁷ + 0.7849853980433819 t⁸ + 7.4058786921967545 t⁹ - 47.63494436425567 t¹⁰ - 24.871426566811863 t¹¹ - 98.7084049048104 t¹² - 124.98481140618097 t¹³ - 86.47816377175077 t¹⁴ - 110.92031931947125 t¹⁵ + 276.40856990490244 t¹⁶ + 201.34898286853098 t¹⁷ + 1612.8367894850976 t¹⁸ + 968.7146392863187 t¹⁹ + 3782.8703146198177 t²⁰ + 𝒪(t²¹), - 3.998776317397349 - 0.20431716579295078 t + 8.530862817489147 t² - 0.2421202154321235 t³ + 4.766030726423952 t⁴ + 9.286182075572686 t⁵ + 12.411510586639643 t⁶ - 10.817955422513423 t⁷ + 20.308242396793652 t⁸ - 21.751080291010435 t⁹ - 27.416742150095594 t¹⁰ - 70.67928845721447 t¹¹ - 69.06457240392542 t¹² - 131.54434169438667 t¹³ - 140.48997000879007 t¹⁴ + 69.9251317709649 t¹⁵ - 15.048870725795691 t¹⁶ + 898.803792811155 t¹⁷ + 609.4471017314285 t¹⁸ + 2820.5055300152935 t¹⁹ + 1316.1709848967237 t²⁰ + 𝒪(t²¹)]\n",
      "x = TaylorSeries.Taylor1{Float64}[ 4.683307884844182 + 0.00327321569110137 t - 0.710813660505091 t² + 51.434465116391586 t³ + 4.172995860861079 t⁴ - 185.64704799589381 t⁵ + 314.08102304058735 t⁶ + 322.24586095893073 t⁷ - 2644.08446007062 t⁸ + 1128.5038656904553 t⁹ + 9511.978317985939 t¹⁰ - 20958.938799941654 t¹¹ - 13734.187904154716 t¹² + 127468.33423328525 t¹³ - 105042.44662443097 t¹⁴ - 418613.75506442063 t¹⁵ + 1.1443195494317734e6 t¹⁶ + 294858.2563280653 t¹⁷ - 5.842450756086078e6 t¹⁸ + 7.028318594308455e6 t¹⁹ + 1.6456346159212034e7 t²⁰ + 𝒪(t²¹), 2.316235375320967 + 0.000616017428741163 t - 0.1337748698498458 t² + 9.679991633423851 t³ + 0.7757621654622905 t⁴ - 34.10597224476401 t⁵ + 29.070763080663607 t⁶ + 51.09863836839397 t⁷ - 234.9465759669214 t⁸ + 61.19188701688198 t⁹ + 728.9492149972231 t¹⁰ - 1465.8186366379944 t¹¹ - 1345.3060192339224 t¹² + 7515.031502768079 t¹³ - 4423.0359178676545 t¹⁴ - 19408.894973285613 t¹⁵ + 67096.15671132259 t¹⁶ + 29771.71118948523 t¹⁷ - 261114.80332987744 t¹⁸ + 268878.7571774732 t¹⁹ + 435992.9665373629 t²⁰ + 𝒪(t²¹), - 0.02470043615500611 + 5.3639694413276375 t + 0.21358821103233475 t² - 15.565248266090869 t³ + 11.05392319515654 t⁴ + 8.856881208009643 t⁵ - 122.92790556746793 t⁶ + 20.59484273822495 t⁷ + 360.1293075059801 t⁸ - 603.061704415057 t⁹ - 404.3522251026371 t¹⁰ + 4041.0860207246947 t¹¹ - 2100.8367587480066 t¹² - 11482.005334132276 t¹³ + 26944.95436408738 t¹⁴ + 5999.248869062913 t¹⁵ - 146252.35219865091 t¹⁶ + 126436.70771160476 t¹⁷ + 359199.17506294086 t¹⁸ - 1.1284222610481735e6 t¹⁹ + 258965.37176180835 t²⁰ + 𝒪(t²¹), 4.038720017871839 + 0.0005474298601936965 t - 0.11890632851063604 t² + 8.611624388844787 t³ - 0.5353483080252694 t⁴ + 22.730815313865 t⁵ + 38.797312354760784 t⁶ - 82.09911742573517 t⁷ - 253.69967783236783 t⁸ - 639.5101055873355 t⁹ - 1099.8495081431684 t¹⁰ - 2261.4986690753076 t¹¹ + 3976.462765863353 t¹² + 20807.178021974945 t¹³ + 38884.530548760034 t¹⁴ + 103589.5013552711 t¹⁵ + 109624.47518425477 t¹⁶ - 242556.69959321164 t¹⁷ - 1.3010529712805392e6 t¹⁸ - 3.406136023094917e6 t¹⁹ - 7.191628848250344e6 t²⁰ + 𝒪(t²¹), 3.999271662750403 + 0.3163671985731144 t - 34.353652657206155 t² - 0.40614240988958733 t³ + 23.704161324859857 t⁴ - 143.34283883798233 t⁵ - 23.685462816872903 t⁶ + 697.4365505467471 t⁷ - 125.63880941030843 t⁸ - 719.4501517954674 t⁹ + 6545.009154752328 t¹⁰ + 338.3834896252951 t¹¹ - 24736.468019969452 t¹² + 9490.071590975229 t¹³ - 16162.711543837677 t¹⁴ - 280498.21549951675 t¹⁵ - 6070.729471245481 t¹⁶ + 959049.3603270123 t¹⁷ + 62774.8758243178 t¹⁸ + 2.76723984453151e6 t¹⁹ + 1.5076356621240964e7 t²⁰ + 𝒪(t²¹)]\n",
      "x = TaylorSeries.Taylor1{Float64}[ 7.7710880892259295 + 0.0005498018495983603 t - 0.530169262996209 t² + 170.40536767289717 t³ + 6.957695368742771 t⁴ - 1348.8895491356402 t⁵ + 2245.35291194754 t⁶ + 4857.8114795401225 t⁷ - 41815.580470117005 t⁸ + 15238.544550475293 t⁹ + 337962.05244294467 t¹⁰ - 755359.6494449652 t¹¹ - 1.3366904178995702e6 t¹² + 1.0307482085393708e7 t¹³ - 6.495572737280905e6 t¹⁴ - 7.943795957473609e7 t¹⁵ + 2.1079315823316476e8 t¹⁶ + 2.8584105929340583e8 t¹⁷ - 2.5135201567335796e9 t¹⁸ + 2.2356414573043947e9 t¹⁹ + 1.8112654709928677e10 t²⁰ + 𝒪(t²¹), 2.8277447311466406 + 8.134443758156693e-5 t - 0.07843975320569166 t² + 25.211865853378118 t³ + 1.0269459770642209 t⁴ - 198.6221401850437 t⁵ + 179.71521337542143 t⁶ + 696.4149936236373 t⁷ - 3487.8658084848234 t⁸ + 251.2532341648441 t⁹ + 26490.447917594756 t¹⁰ - 48766.40211073844 t¹¹ - 104996.74682609989 t¹² + 653535.7191758164 t¹³ - 155709.02709642108 t¹⁴ - 4.558744249092997e6 t¹⁵ + 1.075665648189862e7 t¹⁶ + 1.6572715388615921e7 t¹⁷ - 1.360149032051044e8 t¹⁸ + 6.525701613527085e7 t¹⁹ + 8.821638350750625e8 t²⁰ + 𝒪(t²¹), 0.008292068792320556 - 7.995971884591635 t - 0.16259921832885693 t² + 52.338459095531476 t³ - 35.23774151589767 t⁴ - 82.14141646956519 t⁵ + 885.9183104196092 t⁶ - 210.29955474237497 t⁷ - 6148.962155444037 t⁸ + 10171.720024958613 t⁹ + 18955.7119929446 t¹⁰ - 147419.51886223702 t¹¹ + 72243.61106073337 t¹² + 1.070846969698525e6 t¹³ - 2.356361536502211e6 t¹⁴ - 3.3291845116335284e6 t¹⁵ + 2.8518049951255377e7 t¹⁶ - 2.368797611303199e7 t¹⁷ - 2.0096006662867367e8 t¹⁸ + 5.28995569401636e8 t¹⁹ + 5.218149864483606e8 t²⁰ + 𝒪(t²¹), 4.732188755759749 + 8.749827573312132e-5 t - 0.08437465335085588 t² + 27.120479568250385 t³ + 0.3554045931364691 t⁴ - 69.30696864043796 t⁵ + 247.06605549674657 t⁶ - 702.3809289528315 t⁷ - 4546.388606201655 t⁸ - 3041.4735382359177 t⁹ + 13508.067536188339 t¹⁰ + 9207.196197320083 t¹¹ + 158588.08815713288 t¹² + 1.2665056585118512e6 t¹³ + 285708.9228341245 t¹⁴ - 6.93163698867628e6 t¹⁵ - 7.805886679525556e6 t¹⁶ - 7.387634240640539e7 t¹⁷ - 2.6077166900198603e8 t¹⁸ + 2.4478387817603448e8 t¹⁹ + 2.311720676615559e9 t²⁰ + 𝒪(t²¹), - 3.999915769393542 - 0.16244757745242364 t + 78.32368364762694 t² + 0.802605334608861 t³ - 195.30027701990272 t⁴ + 698.6705223740033 t⁵ - 15.189289372126723 t⁶ - 8000.008710766073 t⁷ + 2602.1447786049903 t⁸ + 31432.817570240302 t⁹ - 125468.1537283225 t¹⁰ - 4403.2302181245705 t¹¹ + 1.5543452574571818e6 t¹² - 1.0072556550418658e6 t¹³ - 5.916846761806567e6 t¹⁴ + 2.4118551772777095e7 t¹⁵ - 2.378685254879041e7 t¹⁶ - 3.114528173736044e8 t¹⁷ + 2.6185366975062242e8 t¹⁸ + 1.24034397373928e9 t¹⁹ - 3.565698113266034e9 t²⁰ + 𝒪(t²¹)]\n",
      "  0.159647 seconds (240.10 k allocations: 18.289 MB, 4.53% gc time)\n"
     ]
    },
    {
     "name": "stderr",
     "output_type": "stream",
     "text": [
      "\u001b[1m\u001b[31mWARNING: Maximum number of integration steps reached; exiting.\u001b[0m\n"
     ]
    }
   ],
   "source": [
    "t2, x2 = taylorintegps(undrivenHelium!, c1, t0, 1.0, order, abs_tol, maxsteps=100)\n",
    "@time t2, x2 = taylorintegps(undrivenHelium!, c1, t0, 15.0, order, abs_tol, maxsteps=100);"
   ]
  },
  {
   "cell_type": "code",
   "execution_count": null,
   "metadata": {
    "collapsed": false
   },
   "outputs": [],
   "source": [
    "length(t1), length(t2)"
   ]
  },
  {
   "cell_type": "code",
   "execution_count": null,
   "metadata": {
    "collapsed": false
   },
   "outputs": [],
   "source": [
    "ene1 = zeros(t1)\n",
    "ene2 = zeros(t2)\n",
    "for j in eachindex(ene1)\n",
    "    ene1[j] = abs(regHam(x1[j,:]))\n",
    "end\n",
    "for j in eachindex(ene2)\n",
    "    ene2[j] = abs(regHam(x2[j,:]))\n",
    "end"
   ]
  },
  {
   "cell_type": "code",
   "execution_count": null,
   "metadata": {
    "collapsed": false
   },
   "outputs": [],
   "source": [
    "plot(x1[:,1], ene1, title =L\"Absolute Error of Energy $q_1=2$\")\n",
    "plot!(x2[:,1], ene2, title =L\"Absolute Error of Energy $q_1=2$\",color=:red )\n",
    "xlabel!(L\"t\")\n",
    "ylabel!(L\"\\delta E\")\n",
    "#xlims!(0,5000)"
   ]
  },
  {
   "cell_type": "code",
   "execution_count": null,
   "metadata": {
    "collapsed": false
   },
   "outputs": [],
   "source": [
    "plot(x2[:,1], ene2/eps(), title =L\"Absolute Error of Energy $q_1=2$\")\n",
    "xlabel!(L\"t\")\n",
    "ylabel!(L\"\\delta E\")\n",
    "xlims!(0,5000)"
   ]
  },
  {
   "cell_type": "code",
   "execution_count": null,
   "metadata": {
    "collapsed": false
   },
   "outputs": [],
   "source": [
    "maximum(ene1)"
   ]
  },
  {
   "cell_type": "code",
   "execution_count": null,
   "metadata": {
    "collapsed": false
   },
   "outputs": [],
   "source": [
    "function psundriven(x10::Float64, px10::Float64, tol::Float64 = 1e-20)\n",
    "    c1 = condini(x10, px10)\n",
    "    t, x = taylorintegps(undrivenHelium!, c1, t0, 100.0, order, abs_tol)\n",
    "    ps = zeros(x)\n",
    "    ts = zeros(t)\n",
    "    count = 0\n",
    "    for j in eachindex(ts)\n",
    "        if abs(x[j,3]) < tol\n",
    "            count += 1\n",
    "            ts[count] = t[j]\n",
    "            ps[count, :] = x[j, :]\n",
    "        end\n",
    "    end\n",
    "    return ps[1:count, :], t, x\n",
    "end"
   ]
  },
  {
   "cell_type": "code",
   "execution_count": null,
   "metadata": {
    "collapsed": false
   },
   "outputs": [],
   "source": [
    "#Haremos malavares con metaprogramming para ver varias órbitas\n",
    "nombret(n::Int) = Symbol( string(\"t\", n) )\n",
    "nombreps(n::Int) = Symbol( string(\"ps\", n) )\n",
    "nombreq(n::Int) = Symbol( string(\"q\", n) )\n",
    "nombrexs(n::Int) = Symbol( string(\"xs\", n) )\n",
    "nombrevxs(n::Int) = Symbol( string(\"vxs\", n) )\n",
    "nombreys(n::Int) = Symbol( string(\"ys\", n) )\n",
    "nombrevys(n::Int) = Symbol( string(\"vys\", n) )\n",
    "\n",
    "function orbits(nmin, rs = 2:10)\n",
    "    N = length(rs)\n",
    "    # Checo que `n` sea >= 1\n",
    "    @assert N >= 0  \n",
    "\n",
    "    for j = nmin:(N+nmin - 1)\n",
    "        ex1 = quote \n",
    "            $(nombreps(j)), $(nombret(j)), $(nombreq(j))  = \n",
    "                psundriven(Float64($(rs[j])), 0.0)\n",
    "             end\n",
    "        ex2 = quote \n",
    "            $(nombrexs(j)) = map(ks, $(nombreps(j))[:,2])*0.8/1.8\n",
    "             end\n",
    "        \n",
    "        ex3 = quote \n",
    "                 $(nombrevxs(j)) =  \n",
    "            Float64[ksv($(nombreps(j))[k,2], $(nombreps(j))[k, 4]) \n",
    "                 for k in eachindex($(nombreps(j))[:, 4])]*0.8/1.8\n",
    "             end\n",
    "        ex4 = quote \n",
    "            $(nombreys(j)) = map(ks, $(nombreq(j))[:,3])*0.8/1.8\n",
    "             end\n",
    "        \n",
    "        ex5 = quote \n",
    "            $(nombrevys(j)) =  \n",
    "                 Float64[ksv($(nombreq(j))[k,3], $(nombreq(j))[k, 5]) \n",
    "                 for k in eachindex($(nombret(j)))]*0.8/1.8\n",
    "             end\n",
    "        eval(ex1)\n",
    "        eval(ex2)\n",
    "        eval(ex3)\n",
    "        eval(ex4)\n",
    "        eval(ex5)\n",
    "    end\n",
    "end\n",
    "\n",
    "function plottingps(nmax,xmin::Float64=0.0, xmax::Float64=20.0, \n",
    "    ymin::Float64=-1.0, ymax::Float64=1.0)\n",
    "    scatter(xs1, vxs1, label = L\"q = 2\", title = L\"Poincaré Section $Z = 2$,  $r_{2_0} =0$\")\n",
    "    for j in 2:nmax\n",
    "        ex = quote\n",
    "            scatter!($(nombrexs(j)), $(nombrevxs(j)))\n",
    "        end\n",
    "        eval(ex)\n",
    "    end\n",
    "    xaxis!([0,20])\n",
    "    xlabel!(L\"x\")\n",
    "    ylabel!(L\"p_x\")\n",
    "    yaxis!([ymin, ymax])\n",
    "    xaxis!([xmin, xmax])\n",
    "end\n",
    "\n",
    "function ksv(Q, P)\n",
    "    v₁ = P/Q\n",
    "    return v₁\n",
    "end\n",
    "ks(Q) = Q^2"
   ]
  },
  {
   "cell_type": "code",
   "execution_count": null,
   "metadata": {
    "collapsed": false
   },
   "outputs": [],
   "source": [
    "@time orbits(1,2:0.1:5)\n",
    "NM = length(2:0.1:5);"
   ]
  },
  {
   "cell_type": "code",
   "execution_count": null,
   "metadata": {
    "collapsed": false
   },
   "outputs": [],
   "source": [
    "#@time plottingps(NM, 2.5, 2.7, -0.05, 0.05)\n",
    "@time plottingps(NM, 2.5, 2., -0.5, 0.5)"
   ]
  },
  {
   "cell_type": "code",
   "execution_count": null,
   "metadata": {
    "collapsed": true
   },
   "outputs": [],
   "source": []
  }
 ],
 "metadata": {
  "kernelspec": {
   "display_name": "Julia 0.5.3-pre",
   "language": "julia",
   "name": "julia-0.5"
  },
  "language_info": {
   "file_extension": ".jl",
   "mimetype": "application/julia",
   "name": "julia",
   "version": "0.5.3"
  }
 },
 "nbformat": 4,
 "nbformat_minor": 0
}
