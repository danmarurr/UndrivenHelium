{
 "cells": [
  {
   "cell_type": "code",
   "execution_count": 1,
   "metadata": {
    "collapsed": false
   },
   "outputs": [
    {
     "data": {
      "text/plain": [
       "500000"
      ]
     },
     "execution_count": 1,
     "metadata": {},
     "output_type": "execute_result"
    }
   ],
   "source": [
    "using TaylorSeries, TaylorIntegration\n",
    "using Plots, LaTeXStrings\n",
    "# plotly()\n",
    "pyplot(grid = :false, legend = :false, size=(600,600), color=:black, markersize = 0.3 )\n",
    "const Z = 2.0\n",
    "const order = 20\n",
    "const t0 = 0.0\n",
    "const t_max = 0.5 \n",
    "const abs_tol = 1.0E-20\n",
    "const steps = 500_000"
   ]
  },
  {
   "cell_type": "code",
   "execution_count": 2,
   "metadata": {
    "collapsed": false
   },
   "outputs": [
    {
     "data": {
      "text/plain": [
       "errHam (generic function with 1 method)"
      ]
     },
     "execution_count": 2,
     "metadata": {},
     "output_type": "execute_result"
    }
   ],
   "source": [
    "function undrivenHelium!(τ, q, dq)\n",
    "    tT, Q₁, Q₂, P₁, P₂ = q\n",
    "    \n",
    "    t1 = Q₁^2\n",
    "    t2 = Q₂^2\n",
    "    t = t1 * t2\n",
    "    dq[1] = t\n",
    "    R12 = t1 - t2\n",
    "    aR12 = abs(R12)\n",
    "    RRR = aR12^3\n",
    "    c1 = R12/RRR\n",
    "    f1 = (1 + 1/aR12)\n",
    "    f2 = t*c1\n",
    "   \n",
    "    dq[2] = 0.25*t2*P₁\n",
    "    dq[4] = 2*Q₁*(-0.125*P₂^2 + Z  - t2*f1 + f2)\n",
    "    dq[3] = 0.25*t1*P₂\n",
    "    dq[5] = 2*Q₂*(-0.125*P₁^2 + Z  - t1*f1 - f2)\n",
    "\n",
    "#    return [t, q₁, q₂, p₁, p₂] \n",
    "    nothing\n",
    "end\n",
    "#undrivenHelium(v) = undrivenHelium(0, v)\n",
    "\n",
    "\n",
    "var1 = set_variables(\"t q1 q2 p1 p2\", order = 1)\n",
    "\n",
    "\n",
    "function condini(x10::Float64, px10::Float64)\n",
    "    @assert x10 != 0\n",
    "    Q1 = sqrt(x10)\n",
    "    Q2 = 0.0\n",
    "    P1 = px10*sqrt(x10)    \n",
    "    P2 = sqrt(8Z)    \n",
    "    return [0, Q1, Q2, P1, P2]\n",
    "end\n",
    "\n",
    "function regHam(t, Q₁, Q₂, P₁, P₂)\n",
    "    #Cantidades auxiliares\n",
    "    P₁² = P₁^2\n",
    "    P₂² = P₂^2\n",
    "    Q₁² = Q₁^2\n",
    "    Q₂² = Q₂^2\n",
    "    nf = abs(Q₁² - Q₂²)\n",
    "    \n",
    "    H = 0.125*(P₁²*Q₂² + P₂²*Q₁²) - Z*(Q₁² + Q₂²) + Q₁²*Q₂²*(1.0 + 1.0/nf)\n",
    "    return H\n",
    "end\n",
    "\n",
    "\n",
    "regHam(v) = regHam(v...)\n",
    "\n",
    "function errHam(N::Int)\n",
    "    srand(487293456)\n",
    "    J = [0 0 0 0 0; 0 0 0 1 0; 0 0 0 0 1; 0 -1 0 0 0; 0 0 -1 0 0 ]\n",
    "    \n",
    "    dnorm = zeros(N)\n",
    "    als = typeof(zeros(5))[]\n",
    "\n",
    "    for j in 1:N\n",
    "        al = 10*rand(5)\n",
    "        meq = similar(al)\n",
    "        #al = [BigFloat(x) for x in al1]\n",
    "        alt = al + var1\n",
    "        ene = J*∇(regHam(alt))\n",
    "        ene1 = [ene[k].coeffs[1].coeffs[1] for k in 1:5]\n",
    "        undrivenHelium!(0.0, al, meq)\n",
    "        push!(als, al)\n",
    "        meq[1] = 0\n",
    "        dnorm[j] = norm(meq - ene1) \n",
    "    end\n",
    "    return dnorm, als \n",
    "end"
   ]
  },
  {
   "cell_type": "code",
   "execution_count": 3,
   "metadata": {
    "collapsed": false
   },
   "outputs": [
    {
     "name": "stdout",
     "output_type": "stream",
     "text": [
      " 17.133324 seconds (313.58 M allocations: 17.554 GiB, 37.24% gc time)\n"
     ]
    },
    {
     "data": {
      "text/html": [
       "<img src=\"data:image/png;base64,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\" />"
      ]
     },
     "execution_count": 3,
     "metadata": {},
     "output_type": "execute_result"
    }
   ],
   "source": [
    "@time dnorm, als= errHam(100_000);\n",
    "plot(eachindex(dnorm), dnorm, title = \"Compatibility Hamiltonian vs Eqs of motion\")"
   ]
  },
  {
   "cell_type": "code",
   "execution_count": 4,
   "metadata": {
    "collapsed": false
   },
   "outputs": [
    {
     "data": {
      "text/plain": [
       "q2sign (generic function with 1 method)"
      ]
     },
     "execution_count": 4,
     "metadata": {},
     "output_type": "execute_result"
    }
   ],
   "source": [
    "function q2sign(xold, x0, tol)\n",
    "    if abs(xold[3]) < tol\n",
    "        sq2o = 0\n",
    "    else\n",
    "        sq2o = sign(xold[3])\n",
    "    end\n",
    "    \n",
    "    if abs(x0[3]) < tol\n",
    "        sq2 = 0\n",
    "    else\n",
    "        sq2 = sign(x0[3])\n",
    "    end\n",
    "    if abs(xold[5]) < tol\n",
    "        sp2o = 0\n",
    "    else\n",
    "        sp2o = sign(xold[5])\n",
    "    end\n",
    "    \n",
    "    if abs(x0[5]) < tol\n",
    "        sp2 = 0\n",
    "    else\n",
    "        sp2 = sign(x0[5])\n",
    "    end\n",
    "    return sq2o, sq2, sp2o, sp2\n",
    "end\n",
    "    "
   ]
  },
  {
   "cell_type": "code",
   "execution_count": 5,
   "metadata": {
    "collapsed": false
   },
   "outputs": [
    {
     "data": {
      "text/plain": [
       "taylorintegps (generic function with 1 method)"
      ]
     },
     "execution_count": 5,
     "metadata": {},
     "output_type": "execute_result"
    }
   ],
   "source": [
    "###Implementamos nuevo código \n",
    "\n",
    "function taylorintegps{T<:Number}(f!, q0::Array{T,1}, t0::T, tmax::T,\n",
    "    order::Int, abstol::T; maxsteps::Int=5000, tol = 1e-20, tsteps = 1000)\n",
    "\n",
    "    # Allocation\n",
    "    const tv = Array{T}(maxsteps+1)\n",
    "    dof = length(q0)\n",
    "    const xv = Array{T}(dof, maxsteps+1)\n",
    "    const vT = zeros(T, order+1)\n",
    "    vT[2] = one(T)\n",
    "\n",
    "    # Initialize the vector of Taylor1 expansions\n",
    "    const x = Array{Taylor1{T}}(dof)\n",
    "    const dx = Array{Taylor1{T}}(dof)\n",
    "    const xaux = Array{Taylor1{T}}(dof)\n",
    "    for i in eachindex(q0)\n",
    "        @inbounds x[i] = Taylor1( q0[i], order )\n",
    "    end\n",
    "\n",
    "    # Initial conditions\n",
    "    @inbounds tv[1] = t0\n",
    "    @inbounds xv[:,1] .= q0\n",
    "    x0 = copy(q0)\n",
    "\n",
    "    # Integration\n",
    "    \n",
    "    nsteps = 1\n",
    "    #sum1 = q0[3]/maxsteps\n",
    "    δtn = Inf\n",
    "    while t0 < tmax\n",
    "        xold = copy(x0)\n",
    "        δt = TaylorIntegration.taylorstep!(f!, x, dx, xaux, t0, tmax, x0, order, abstol, vT)\n",
    "        sq2o, sq2, sp2o, sp2 = q2sign(xold, x0, tol)\n",
    "        steps1 = 0\n",
    "        x00 = copy(x0)\n",
    "        bool1 = false\n",
    "        \n",
    "        while sq2o*sq2 == -1 || (sp2o*sp2 == -1 && abs(xold[3]) < tol)\n",
    "            bool1 = true\n",
    "            q2T = x[3]\n",
    "            \n",
    "            dq2T = derivative(q2T)\n",
    "            δtn = copy(δt)\n",
    "            for nc in 1:20\n",
    "                δtn = δtn - evaluate(q2T, δtn)/evaluate(dq2T, δtn)\n",
    "            end\n",
    "            \n",
    "            evaluate!(x, δtn, x0)\n",
    "            sq2o, sq2, sp2o, sp2 = q2sign(xold, x0, tol)\n",
    "            steps1 += 1\n",
    "            \n",
    "            if steps1  ≥ tsteps\n",
    "                break\n",
    "            end\n",
    "        end\n",
    "            \n",
    "        if bool1 == true\n",
    "            nsteps += 1\n",
    "            @inbounds tv[nsteps] = t0 + δtn\n",
    "            @inbounds xv[:,nsteps] .= x0\n",
    "            x0 = x00\n",
    "        end\n",
    "        if nsteps >= maxsteps\n",
    "            warn(\"\"\"\n",
    "            Maximum number of integration steps reached; exiting.\n",
    "            \"\"\")\n",
    "            break\n",
    "        end\n",
    "        \n",
    "        for i in eachindex(x0)\n",
    "            @inbounds x[i][1] = x0[i]\n",
    "        end\n",
    "        t0 += δt\n",
    "        nsteps += 1\n",
    "        @inbounds tv[nsteps] = t0\n",
    "        @inbounds xv[:,nsteps] .= x0\n",
    "        if nsteps >= maxsteps\n",
    "            warn(\"\"\"\n",
    "            Maximum number of integration steps reached; exiting.\n",
    "            \"\"\")\n",
    "            break\n",
    "        end\n",
    "    end\n",
    "\n",
    "    return view(tv,1:nsteps), view(transpose(xv),1:nsteps,:)\n",
    "end"
   ]
  },
  {
   "cell_type": "code",
   "execution_count": 6,
   "metadata": {
    "collapsed": false
   },
   "outputs": [
    {
     "data": {
      "text/plain": [
       "5-element Array{Float64,1}:\n",
       " 0.0    \n",
       " 1.41421\n",
       " 0.0    \n",
       " 0.0    \n",
       " 4.0    "
      ]
     },
     "execution_count": 6,
     "metadata": {},
     "output_type": "execute_result"
    }
   ],
   "source": [
    "c1 = condini(2.0, 0.0)"
   ]
  },
  {
   "cell_type": "code",
   "execution_count": 7,
   "metadata": {
    "collapsed": false
   },
   "outputs": [
    {
     "name": "stderr",
     "output_type": "stream",
     "text": [
      "\u001b[1m\u001b[33mWARNING: \u001b[39m\u001b[22m\u001b[33mMaximum number of integration steps reached; exiting.\u001b[39m\n"
     ]
    },
    {
     "name": "stdout",
     "output_type": "stream",
     "text": [
      "  0.292008 seconds (264.90 k allocations: 20.679 MiB, 4.22% gc time)\n"
     ]
    }
   ],
   "source": [
    "t1, x1 = taylorinteg(undrivenHelium!, c1, t0, 1.0, order, abs_tol, maxsteps=100)\n",
    "@time t1, x1 = taylorinteg(undrivenHelium!, c1, t0, 15.0, order, abs_tol, maxsteps=100);"
   ]
  },
  {
   "cell_type": "code",
   "execution_count": 8,
   "metadata": {
    "collapsed": false
   },
   "outputs": [
    {
     "name": "stdout",
     "output_type": "stream",
     "text": [
      "  0.011700 seconds (191.26 k allocations: 16.169 MiB)\n"
     ]
    },
    {
     "name": "stderr",
     "output_type": "stream",
     "text": [
      "\u001b[1m\u001b[33mWARNING: \u001b[39m\u001b[22m\u001b[33mMaximum number of integration steps reached; exiting.\u001b[39m\n"
     ]
    }
   ],
   "source": [
    "t2, x2 = taylorintegps(undrivenHelium!, c1, t0, 1.0, order, abs_tol, maxsteps=100)\n",
    "@time t2, x2 = taylorintegps(undrivenHelium!, c1, t0, 15.0, order, abs_tol, maxsteps=100);"
   ]
  },
  {
   "cell_type": "code",
   "execution_count": 9,
   "metadata": {
    "collapsed": false
   },
   "outputs": [
    {
     "data": {
      "text/plain": [
       "(101, 100)"
      ]
     },
     "execution_count": 9,
     "metadata": {},
     "output_type": "execute_result"
    }
   ],
   "source": [
    "length(t1), length(t2)"
   ]
  },
  {
   "cell_type": "code",
   "execution_count": 10,
   "metadata": {
    "collapsed": false
   },
   "outputs": [],
   "source": [
    "ene1 = zeros(t1)\n",
    "ene2 = zeros(t2)\n",
    "for j in eachindex(ene1)\n",
    "    ene1[j] = abs(regHam(x1[j,:]))\n",
    "end\n",
    "for j in eachindex(ene2)\n",
    "    ene2[j] = abs(regHam(x2[j,:]))\n",
    "end"
   ]
  },
  {
   "cell_type": "code",
   "execution_count": 11,
   "metadata": {
    "collapsed": false
   },
   "outputs": [
    {
     "data": {
      "text/html": [
       "<img src=\"data:image/png;base64,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\" />"
      ]
     },
     "execution_count": 11,
     "metadata": {},
     "output_type": "execute_result"
    }
   ],
   "source": [
    "plot(x1[:,1], ene1, title =L\"Absolute Error of Energy $q_1=2$\")\n",
    "plot!(x2[:,1], ene2, title =L\"Absolute Error of Energy $q_1=2$\",color=:red )\n",
    "xlabel!(L\"t\")\n",
    "ylabel!(L\"\\delta E\")\n",
    "#xlims!(0,5000)"
   ]
  },
  {
   "cell_type": "code",
   "execution_count": 12,
   "metadata": {
    "collapsed": false
   },
   "outputs": [
    {
     "data": {
      "text/html": [
       "<img src=\"data:image/png;base64,iVBORw0KGgoAAAANSUhEUgAAAlgAAAJYCAYAAAC+ZpjcAAAABHNCSVQICAgIfAhkiAAAAAlwSFlzAAAPYQAAD2EBqD+naQAAIABJREFUeJzt3XuQVOWd+OFvDwh4myFBUZCb3DSKgheUeAEsRd2YjSToRl0viBF1sxLLjdGkUiuuCuoaY2Iq6kYdoxgNiUquxmCioFGMRgUl6wpGYAQJUWSGaOT6/v6wZn6MM8AA70x34/NUdRVzTp8+b58zDR9Onz5dSCmlAAAgm4piDwAAYHsjsNhuPPHEE1EoFGLixIlFHceCBQuiUCjE2LFjizoOttyaNWti4sSJMWDAgOjYsWMUCoWYNm1asYcFlCGBRVkYN25cFAqF6NKlS6xatarYw2kTbRWM9UG4qVufPn1adQyl4lvf+lZcddVV0b179/jqV78aV155Zey7774bvb9tt/1bvHhx3HzzzXH88cdHr169okOHDrHnnnvGmDFj4tlnny328Chh7Ys9ANicv//97zF16tQoFAqxfPnymDZtWnzxi18s9rC2O/369Yszzzyz2XmdO3du49EUxy9/+cvYZZddYvr06dGhQ4cWL2fbbb9uueWWuP7666Nfv34xatSo6Nq1a8ybNy+mTZsW06ZNix/96Ef+PqJZAouS98ADD8R7770Xl156adx8881x5513+gutFfTv37/ob68W25IlS6JLly5bFFcRtt327LDDDosnnngiRowY0Wj6k08+Gccee2xcdNFFMXr06OjYsWORRkip8hYhJe/OO++M9u3bx9e+9rU45phj4rHHHouFCxducpmnnnoqRo4cGbvuumt07tw5xowZE/Pnz29yvwcffDBGjBgRXbt2jU6dOkX37t3juOOOiwcffLDJfaurq+Pwww+PXXbZJXbZZZc4/PDD4+67727x87j77rujUCg0u8xH3w6cOHFiHHPMMRERcdVVVzV6y2nBggWNlp05c2b88z//c+y2227RsWPHGDBgQHzzm9+M999/v8Vj2xIbjvXpp5+O448/Pjp37hyFQqFF8+u1dHu29PE2piXrmThxYhQKhXjjjTdi4cKFrfr23obP5/nnn49Ro0bFrrvuGlVVVfH5z3++yf6t19L93JLttXbt2pg8eXL069cvOnXqFP3794/JkyfHX/7yl0bnD06fPj0KhUJ8+ctfbnZMr7/+elRUVMQJJ5zQ4uf//vvvx9VXXx0DBw6MTp06Rd++feNb3/pWvPDCC1EoFOKyyy5r8WO1hS984QtN4ioi4uijj45jjjkm3n333Xj55ZeLMDJKncCipP35z3+OWbNmxfHHHx977LFHnH322ZFSiurq6o0uM2vWrDj22GOjqqoqLr744hgxYkQ8/PDDccQRR8Rf/vKXhvvdeuutccopp8S8efPi85//fFx66aVx4oknxtKlS+Phhx9u9JgTJkyIcePGxeLFi+O8886L8847LxYvXhznnntufOUrX8n+vEeOHBnnnHNORESMGDEirrzyyobbhm853XbbbTFy5Mj4wx/+ECeddFJMmDAh9tprr7j22mtj1KhRsXr16uxjq/f000/HyJEjo1AoxPjx4+Nf/uVfWjx/a7bn5tbXnJauZ+TIkXHllVdGVVVVVFVVNWzrSy65ZCu3zuY999xzMXz48OjQoUNccMEFceihh8a0adPiuOOOiw8++KDRfbdmP29qe40bNy6+8Y1vRETEl7/85TjxxBPj29/+dpPne9xxx0W/fv3ivvvuazbY77jjjkgpxfnnn9+i57xy5coYMWJE/Od//mf07NkzvvKVr8RBBx0Ul112WcN4DjrooBY9VinYYYcdIiKifXtvBtGMBCXs0ksvTRGR7r///pRSSitXrkw777xz6tWrV1q3bl2j+z7++OMpIlJEpNtuu63RvNtuuy1FRPrsZz/bMO3ggw9OHTp0SH/961+brPftt99u+POMGTNSRKRPfepTacWKFQ3Tly9fngYOHJgiIs2cObNh+htvvJEiIp1zzjmNHrO6ujpFRKqurm6yvvqxX3nllZuctqG5c+em9u3bp8GDBzcab0opTZ48OUVEuvHGG5tddkP14+3Xr1+68sorm7098sgjTcYVEemuu+7a6HPZ2Pwt3Z6be7yN2dL1pJRS7969U+/evVu8ji3ddh99Pg888ECjeWeddVaj3/eUtnw/b257PfbYYyki0pAhQ9J7773XMH3JkiVpjz32aPK7e/3116eISHfffXejx1mzZk3q1q1b6tq1a1q9enWLttcpp5ySKioq0r333tto+n//9383jHnu3LkteqxN+fa3v73R/dHc7cUXX9zidSxcuDB17Ngx7bnnnmnt2rXbPGa2PwKLkrV69eq0++67p8rKyvT+++83TD/zzDNTRKRHH3200f3r/2EZOHBgk/hat25dGjhwYCoUCmnZsmUppQ8Da+edd07Lly/f5DjGjRuXIiL9+Mc/bjLvvvvuSxGRxo0b1zCtrQJrwoQJzUZC/fPdfffd0yGHHLLJ57bheDd1+8pXvtJkXAcddFCzj7e5+Vu6PTf3eBuzpetJaesDq6XbbsPnM3z48CaPVz/v0ksvbZi2pft5c9tr7NixKSLSQw891GTepEmTmvzuLlu2LHXo0CEdddRRje47bdq0FBHpsssua37jfMTvfve7FBHpwgsvbDJv2bJlKSLSjjvumCVWevfuvdn9suGtudfkpqxevToNHz48RUS65557tnm8bJ8c16Rk/exnP4u//e1vcd5558WOO+7YMP3ss8+OKVOmxF133RXHH398k+WOPPLIqKho/O53RUVFHHHEEfHaa6/F7Nmz47jjjovTTjstvva1r8WgQYPijDPOiGOOOSaOOuqoqKysbLTsiy++GBEfvo30UfXnSb300kvb+nS32KxZsyIi4tFHH43f/e53TebvsMMO8eqrr7b48U444YT4zW9+0+L7H3bYYVs1f2u35+bWl2s9W2NLt11ExCGHHNJkWo8ePSIiYsWKFQ3TtnY/b2x7zZ49OyIijjrqqCbzjjzyyCbTdt999/jCF74QDzzwQLz66qsNl6244447IiLiS1/6UrPr+ajvfe97ERHxta99rcm8Ll26RETEAQccEO3atWuY/tBDD8Wtt94af/rTn+Ldd9+NN954o0XnxW3sPLYc1q9fH2PHjo2ZM2fG+eefH2eddVarrYvyJrAoWXfeeWdEfBhUGzr22GNjr732imnTpsXy5cvjk5/8ZKP5e+yxR7OPVz+9trY2IiIuu+yy6NKlS9x6663xrW99K2688cZo3759nHTSSfHtb3879t5774iIqKuri4qKith9992bfcxCoRB1dXXb9mS3wvLlyyMi4tprr23zdUdsfDtvbv7Wbs/NrS/XetrKR0M+4v+fy7Nu3bqGaVu7nze3/XfbbbcWL3PBBRfEAw88EHfccUfceOONsWTJknjkkUdixIgRMXDgwBaN57HHHov+/fs3vK42tGTJkohoev7Ve++9F8OHD4+TTz45Lr744hatpzWtX78+xo0bFz/60Y/izDPPjNtuu63YQ6KECSxK0ptvvhm//e1vIyKa/QRPvSlTpsSECRMaTfvrX//a7H3rp1dVVTVMGzduXIwbNy7eeeedePLJJ+P++++PqVOnxrx582LOnDnRrl27qKysjPXr18ff/va36Nq1a6PHXLZsWaSUmv3H8qPqj6qtXbu2ybz66NsS9eusq6uLXXfddYuX31ab+xTfxuZv7fZs6acGt3U9pWZr9/Pmtv/bb7/dJD439toZOXJk7LvvvnHPPffEpEmTorq6OtatW9fik9tXrFgRK1eujEMPPbTZ+Y899lhERAwZMqTR9PqjQ6+88kqL1lPv5ptvbnQUcHNGjx7dZN0ftX79+jj33HPjnnvuidNPPz3uvvvuJkfKYUMCi5JUXV0d69evj6OOOir22WefJvPXrl0bP/zhD+POO+9sElh/+MMfYv369Y3+8lu/fn08/fTTUSgUYvDgwU0er0uXLjF69OgYPXp0vP322/H73/8+5s+fH/vss08cdNBB8eKLL8YTTzzR5JNrTzzxREQ0/YehOZ/4xCci4sMrQ39U/dtZG6p/q2TDoxkbOvzww+OFF16IWbNmxahRoza7/lKRa3uWynpaW+79PHjw4HjxxRfjD3/4Q4wePbrRvKeffnqjy40fPz4uvfTSmDZtWtx1113xiU98IsaMGdOiddZfV6z+aNyGVq9eHTfccENE5PsE4c0337zZS7lsqE+fPpv8Xdgwrr74xS/Gvffe2+itTGhWkc8BgybWr1+f9t5771QoFNLrr7++0ft9+tOfThGRnnvuuZTSln+K8PHHH0/r169vdL/Vq1enIUOGpIhIb7zxRkrp/38abb/99ku1tbUN912xYkXad999U0SkGTNmNEzf2EnuixcvToVCIe27777pH//4R8P01157LXXu3LnJCe2vvPJKs49T7+WXX07t27dP++yzT1q4cGGT+e+++2564YUXml12Q/XjPeGEEzZ735Q2f/L95uZv6fbc3ONtzJauJ6WtP8m9pdsupU0/n+Z+d7Z0P29ue02fPr3hJPgNPzzy1ltvpT333HOjv3PvvPNO6tSpU+revXuKiDRhwoQWP+eUPty2FRUVac6cOQ3TPvjgg3T66aeniEgVFRWNPtW4oZdffrnRa7ItrVu3Lp1zzjkpItKpp56a1qxZ0+ZjoDw5gkXJ+f3vfx9vvPFGjBgxIvr27bvR+5177rnxzDPPxJ133tnorYcTTjghJkyYEL/+9a9j//33j7lz58YvfvGL2G233eI73/lOw/1Gjx4dlZWVMWzYsOjdu3esWbMmpk+fHn/+85/jlFNOaTiZdvjw4XHxxRfHLbfcEoMGDYoxY8ZESikefPDBePPNN2PChAkxfPjwzT6v7t27x+mnnx4/+tGP4pBDDokTTzwxli1bFg8//HCceOKJTS5uuu+++0b37t3jgQceiI4dO0aPHj2iUCjExRdfHFVVVTFo0KD4/ve/HxdddFHss88+8ZnPfCb69esXK1eujL/85S8xY8aMGDt2bIvPE5k/f/4mr0Z+xRVXRKdOnVr0WJuSa3uWynoiWnfb5d7Pxx13XPzrv/5r3HfffXHAAQfE6NGjY9WqVTF16tQ4/PDD4xe/+EWzb3198pOfjFNPPTXuvffeiGj5ye31vvrVr8bFF18cw4cPj9NOOy06deoUP//5z6Nv377RqVOn2HvvvWOnnXbaosdsC//1X/8VP/zhD2OXXXaJgQMHxjXXXNPkPi15i5GPoSIHHjRR/z/azX10ura2Nu24446pqqoqvf/++43+5/7kk0+mESNGpJ133jlVVlamz3/+82nevHmNlv/+97+fPve5z6XevXunTp06pS5duqTDDjss3Xrrrc1e1+euu+5KQ4cOTTvttFPaaaed0tChQ5u9ztDGjmCllNL777+fJkyYkPbYY4/UsWPHdOCBB6b77rtvo0cdZs2alUaMGJF23XXXhqNzH/1f/B//+Md02mmnpe7du6cddtgh7bbbbunggw9OV1xxRfrf//3fTW7DDce7udu7776bUtr2I1j1Wro9t/YI1pauJ6XWuUzDhttuc89nU787Ld3PLdlea9asSVdffXXae++9U4cOHVLfvn3TpEmT0rPPPtvspSXq1V9Da9iwYS3eRvXWr1+frr766rTXXnulDh06pH333Tddf/316dVXX00RkU4//fSNLlvMI1j1R682ddvSyzzw8VBIKaXWijcAyscdd9wR559/fsMRs4+68cYb47LLLos777wzxo0bl2WdDz30UIwZMyZuuOGGjX5NziuvvBIHHHBAiy/TAKXAW4QAHzNLly5tuFRFvcWLF8c111wT7dq1i89+9rNNlvnggw/ie9/7XnziE5+I0047LdtY6q/L1dxbbMuXL49FixbF66+/HhEffnXWihUrolevXk0uzwKlRmABfMxcd9118atf/SqOPvro6Nq1ayxatCh++ctfxsqVK2PixInRs2fPhvs+9dRTMWPGjHj00Udj4cKFMXny5KznStVf7LW5TxD+/Oc/j3PPPbfh55NOOikiPvyUcf0XUkOp8hYhwMfMb37zm7jpppti9uzZ8e6770anTp3iwAMPjH/7t3+LM844o9F9J06cGFdddVXstttucdZZZ8UNN9yQ9cuN+/TpE2vXro0333wz22NCKRBYAACZuQwtAEBmAgsAIDOBBQCQWVl+inD9+vWxZMmS2HXXXbf4C2ABAFoipRQrV66M7t27b/GXe5dlYC1ZsqTRx4gBAFpLTU1N9OjRY4uWKcvA2nXXXSMi4uyzz45bbrmlyKMBALZHdXV10bNnz4bu2BJlGVj1bwt26NAhKisrizwaAGB7tjWnIznJHQAgM4EFAJCZwAIAyExgAQBkJrAAADITWAAAmQksAIDMBBYAQGYCCwAgM4EFAJCZwAIAyExgAQBkJrAAADITWAAAmQksAIDMBBYAQGYCCwAgM4EFAJCZwAIAyExgAQBkJrAAADITWAAAmQksAIDMBBYAQGYCCwAgM4EFAJCZwAIAyExgAQBkJrAAADITWAAAmQksAIDMyjqwCoVCsYcAANBEWQcWAEApElgAAJkJLACAzAQWAEBmAgsAIDOBBQCQmcACAMhMYAEAZCawAAAyK+vASikVewgAAE2UdWABAJQigQUAkJnAAgDITGABAGRW1oH1k5/8pNhDAABooqwDq7a2tthDAABooqwDCwCgFAksAIDMBBYAQGYCCwAgM4EFAJCZwAIAyExgAQBkJrAAADITWAAAmQksAIDMBBYAQGYCCwAgM4EFAJCZwAIAyExgAQBkJrAAADITWAAAmQksAIDMBBYAQGYCCwAgM4EFAJCZwAIAyExgAQBkJrAAADITWAAAmQksAIDMBBYAQGYCCwAgM4EFAJCZwAIAyExgAQBkJrAAADITWAAAmQksAIDM2iywqquro1AoxLRp0yIiYtmyZXHiiSfGgAEDYtCgQTFz5sy2GgoAQKtqk8BauHBh/OAHP4hhw4Y1TLviiiti2LBhMW/evKiuro4zzjgj1qxZ0xbDAQBoVa0eWOvXr4/zzjsvbrnllujYsWPD9KlTp8aFF14YERFDhw6N7t27x4wZM1p7OAAAra59a6/gpptuiiOPPDIOOeSQhmnvvPNOrFmzJvbcc8+GaX369IlFixY1+xirVq2KVatWNfxcV1fXegMGANhGrRpYc+fOjZ/+9Kfx5JNPNplXKBQa/ZxS2ujjTJ48Oa666qrs4wMAaA2t+hbhzJkzY+HChTFgwIDo06dPzJo1K8aPHx9Tp06Ndu3axdKlSxvuu3DhwujVq1ezj/P1r389amtrG241NTWtOWwAgG1SSJs6dJTZyJEj45JLLonRo0fH2LFjo0+fPjFx4sR47rnnYvTo0bFgwYLYYYcdNvs4dXV1UVVVFRGbPvIFALC16nujtrY2Kisrt2jZVj8Ha2Ouv/76OOuss2LAgAHRoUOHmDJlSoviCgCg1LXpEaxcHMECAFrbthzBciV3AIDMBBYAQGYCCwAgM4EFAJCZwAIAyExgAQBkJrAAADITWAAAmQksAIDMBBYAQGYCCwAgM4EFAJCZwAIAyExgAQBkJrAAADITWAAAmQksAIDMBBYAQGYCCwAgM4EFAJCZwAIAyExgAQBkJrAAADITWAAAmQksAIDMBBYAQGYCCwAgM4EFAJCZwAIAyExgAQBkJrAAADITWAAAmQksAIDMBBYAQGYCCwAgM4EFAJCZwAIAyExgAQBkJrAAADITWAAAmQksAIDMBBYAQGYCCwAgM4EFAJCZwAIAyExgAQBkJrAAADITWAAAmQksAIDMBBYAQGYCCwAgM4EFAJCZwAIAyExgAQBkJrAAADITWAAAmQksAIDMBBYAQGYCCwAgM4EFAJCZwAIAyExgAQBkJrAAADITWAAAmQksAIDMBBYAQGYCCwAgM4EFAJCZwAIAyExgAQBkJrAAADITWAAAmQksAIDMBBYAQGYCCwAgM4EFAJCZwAIAyExgAQBkJrAAADITWAAAmQksAIDMBBYAQGYCCwAgM4EFAJCZwAIAyExgAQBkJrAAADITWAAAmQksAIDMBBYAQGYCCwAgM4EFAJCZwAIAyExgAQBkJrAAADITWAAAmQksAIDMBBYAQGYCCwAgM4EFAJCZwAIAyKzVA+v444+PAw88MIYMGRJHH310vPjiixERMW/evDjiiCNi4MCBMXTo0Jg7d25rDwUAoE20emBNnTo15syZEy+99FJceumlMXbs2IiIuOCCC2L8+PHx2muvxeWXX94wHQCg3LV6YHXu3Lnhz7W1tVEoFGLZsmXx/PPPx5lnnhkREWPGjImampqYP39+aw8HAKDVtW+LlZx99tnx+OOPR0TEr3/966ipqYlu3bpF+/Yfrr5QKESvXr1i0aJF0b9//ybLr1q1KlatWtXwc11dXVsMGwBgq7TJSe733HNP1NTUxDXXXBOXX355s/dJKW10+cmTJ0dVVVXDrWfPnq01VACAbVZImyqbVrDjjjvGggULYsCAAbF8+fJo3759pJSiW7du8dRTT7X4CFZ9ZLXx8AGAj4m6urqoqqqK2traqKys3KJlW/UI1ooVK2LJkiUNP0+bNi26dOkSXbt2jYMPPjimTJkSEREPPvhg9OjRo9m4iojo2LFjVFZWNroBAJSqVj0Hq7a2Nk499dT4xz/+ERUVFbH77rvHL3/5yygUCnH77bfH2LFjY9KkSVFZWRnV1dWtORQAgDbT5m8R5lB/yC7CW4QAQOso2bcIAQA+jgQWAEBmAgsAIDOBBQCQmcACAMhMYAEAZCawAAAyE1gAAJkJLACAzAQWAEBmAgsAIDOBBQCQmcACAMhMYAEAZCawAAAyE1gAAJkJLACAzAQWAEBmAgsAIDOBBQCQmcACAMhMYAEAZCawAAAyE1gAAJkJLACAzAQWAEBmAgsAIDOBBQCQmcACAMhMYAEAZCawAAAyE1gAAJkJLACAzAQWAEBmAgsAIDOBBQCQmcACAMhMYAEAZCawAAAyE1gAAJkJLACAzAQWAEBmAgsAIDOBBQCQmcACAMhMYAEAZCawAAAyE1gAAJkJLACAzAQWAEBmAgsAIDOBBQCQmcACAMis4qqrrop33nmn2OMAANhuVPzXf/1XvP76640m3nXXXfH3v/+9SEMCAChvFSmlRhPWrVsX559/frz22muNpr/yyitxyimntOXYAADKUrPnYH00uiIi3nvvvXj44YdbfUAAAOXOSe4AAJlVREQUCoVijwMAYLvRPiLiwgsvjEMPPTQGDRoU++67bxQKBdEFALCV2n/jG9+Il19+OX7729/GD37wg4YZn/vc5+KAAw6I/fffP/bff/9YvXp1EYcJAFA+CmmDM9rr6upizpw5MWfOnJg9e3bMmTMnXnnllXjvvfc+vHOhEOvWrSvaYOvV1dVFVVVVRDR/Qj4AwLaq743a2tqorKzcomXbb/hDZWVlHHXUUXHUUUc1utP8+fNj9uzZ8fLLL2/7aAEAtnOFGTNmpIqKioaoSinFM888E2+//Xb07t07Bg8eXOQhNlVflLvttlv87W9/K/ZwAIDt0LYcwaq45JJL4pVXXomIiFWrVsXRRx8dRx99dIwePToOPvjg6NWrV1x33XXeigMAaKGKefPmxX777RcREd/5znfilVdeibvuuitmz54djz76aJxyyilx7bXXxrHHHhurVq0q8nABAEpfRUVFRVRUfHi90Z/85Cdx7bXXxjnnnBMHHHBAHHfccXHTTTfF7Nmz47XXXourr766yMMFACh9Ff37948//elPsWjRonjppZdixIgRTe7Ut2/fuOqqq+K+++4rwhABAMpLxYUXXhiXX355fPrTn44ddtgh7rjjjmbv2K1bt3jrrbfaeHgAAOWn4vzzz4+77747TjrppJgxY0YsXbo0TjjhhHjsscdizZo1ERGxbNmyuPHGG6Nv375FHi4AQOlrdKHRiIi1a9fGZZddFrfccktEfHhtrNra2qioqIgHHnggxowZU5SBbshlGgCA1rYtl2loElj13nrrrfjZz34WCxYsiMrKyjj55JNj//33zzLgbSWwAIDWlu1K7hvq1q1bXHjhhds8OACAj5uKYg8AAGB7I7AAADITWAAAmQksAIDMBBYAQGYCCwAgM4EFAJCZwAIAyKysA+uEE04o9hAAAJoo68D693//92IPAQCgibIOrEKhUOwhAAA0UdaBBQBQigQWAEBmAgsAIDOBBQCQmcACAMhMYAEAZCawAAAyE1gAAJmVdWC50CgAUIrKOrAAAEqRwAIAyExgAQBkJrAAADITWAAAmQksAIDMBBYAQGYCCwAgM4EFAJBZqwbWBx98EKNHj46BAwfG4MGDY9SoUTF//vyIiFi2bFmceOKJMWDAgBg0aFDMnDmzNYcCANBmWv0I1vjx4+P//u//Yvbs2XHyySfHl770pYiIuOKKK2LYsGExb968qK6ujjPOOCPWrFnT2sMBAGh1rRpYnTp1is985jMN3xk4bNiwWLBgQURETJ06NS688MKIiBg6dGh07949ZsyY0ZrDAQBoE+3bcmXf/e534+STT4533nkn1qxZE3vuuWfDvD59+sSiRYuaXW7VqlWxatWqhp/r6upafawAAFurzU5ynzRpUsybNy8mT54cEdFwVKteSmmjy06ePDmqqqoabj179mzVsQIAbIs2Cawbb7wxHnrooXjkkUdip512ii5dukS7du1i6dKlDfdZuHBh9OrVq9nlv/71r0dtbW3Draampi2GDQCwVVo9sG666aa4//77Y/r06dG5c+eG6aeeemrcdtttERHx3HPPxeLFi2PEiBHNPkbHjh2jsrKy0Q0AoFS16jlYb775ZvzHf/xH9O3bN4455piI+DCWnn322bj++uvjrLPOigEDBkSHDh1iypQpscMOO7TmcAAA2kSrBlaPHj02em7VHnvsEb/97W9bc/UAAEXhSu4AAJkJLACAzAQWAEBmAgu5svWrAAANoElEQVQAIDOBBQCQmcACAMhMYAEAZCawAAAyE1gAAJkJLACAzAQWAEBmZR1YhUKh2EMAAGiirAMLAKAUCSwAgMwEFgBAZgILACAzgQUAkJnAAgDITGABAGQmsAAAMhNYAACZCSwAgMwEFgBAZgILACAzgQUAkJnAAgDITGABAGQmsAAAMhNYAACZCSwAgMwEFgBAZgILACAzgQUAkJnAAgDITGABAGQmsAAAMhNYAACZCSwAgMzKOrBWrlxZ7CEAADRR1oG1cOHCYg8BAKCJsg6sxx9/vNhDAABooqwDCwCgFAksAIDMBBYAQGYCCwAgM4EFAJCZwAIAyExgAQBkJrAAADITWAAAmQksAIDMBBYAQGYCCwAgs7IOrEKhUOwhAAA0UdaBBQBQigQWAEBmAgsAIDOBBQCQmcACAMhMYAEAZCawAAAyK+vASikVewgAAE2UdWABAJQigQUAkJnAAgDITGABAGRW1oHly54BgFJU1oEFAFCKBBYAQGYCCwAgs7IOLOdgAQClqKwDCwCgFAksAIDMyjqwfBchAFCKyjqwAABKkcACAMhMYAEAZCawAAAyK+vAch0sAKAUlXVgAQCUIoEFAJCZwAIAyExgAQBkJrAAADIr68BaunRpsYcAANBEWQfWunXrij0EAIAmyjqwAABKkcACAMhMYAEAZCawAAAyK+vA8l2EAEApElgAAJmVdWABAJQigQUAkJnAAgDIrKwDyzlYAEApKuvAateuXbGHAADQRFkHFgBAKRJYAACZCSwAgMwEFgBAZmUdWD5FCACUolYNrAkTJkSfPn2iUCjESy+91DB93rx5ccQRR8TAgQNj6NChMXfu3NYcBgBAm2rVwDrllFPiqaeeit69ezeafsEFF8T48ePjtddei8svvzzGjh3bmsMAAGhTrRpYw4cPjx49ejSatmzZsnj++efjzDPPjIiIMWPGRE1NTcyfP3+LH99bhABAKWrzc7BqamqiW7du0b59+4j4MJJ69eoVixYt2ugyq1atirq6ukY3AIBSVRInuaeUNjl/8uTJUVVV1XDr2bNnG40MAGDLtXlg9ezZM956661Yu3ZtRHwYVzU1NdGrV6+NLvP1r389amtrG241NTUR4S1CAKA0tXlgde3aNQ4++OCYMmVKREQ8+OCD0aNHj+jfv/9Gl+nYsWNUVlY2ugEAlKpWDawLLrggevToEW+++WaccMIJDRF1++23x+233x4DBw6M6667Lqqrq1tzGAAAbap9az747bff3uz0ffbZJ5555pnWXDUAQNGUxEnuAADbk7IOLCe5AwClqKwDa3OXdwAAKIayDiwAgFIksAAAMivrwHIOFgBQiso6sAAASlFZB5YjWABAKSrrwAIAKEUCCwAgM4EFAJCZwAIAyKysA8tJ7gBAKSrrwAIAKEUCCwAgM4EFAJCZwAIAyKysA+uII44o9hAAAJoo68A65ZRTij0EAIAmyjqwAABKkcACAMhMYAEAZCawAAAyE1gAAJkJLACAzAQWAEBmAgsAIDOBBQCQmcACAMhMYAEAZCawAAAyE1gAAJkJLACAzAQWAEBmAgsAIDOBBQCQmcACAMhMYAEAZCawAAAyE1gAAJkJLACAzAQWAEBmAgsAIDOBBQCQmcACAMhMYAEAZCawAAAyE1gAAJkJLACAzAQWAEBmAgsAIDOBBQCQmcACAMhMYAEAZCawAAAyE1gAAJkJLACAzAQWAEBmAgsAIDOBBQCQmcACAMhMYAEAZCawAAAyE1gAAJkJLACAzAQWAEBmAgsAIDOBBQCQmcACAMhMYAEAZCawAAAyE1gAAJkJLACAzAQWAEBmAgsAIDOBBQCQmcACAMhMYAEAZCawAAAyE1gAAJkJLACAzAQWAEBmAgsAIDOBBQCQmcACAMhMYAEAZCawAAAyE1gAAJkJLACAzAQWAEBmAgsAIDOBBQCQmcACAMhMYAEAZCawAAAyE1gAAJkJLACAzAQWAEBmAgsAIDOBBQCQmcACAMhMYAEAZFbUwJo3b14cccQRMXDgwBg6dGjMnTu3mMMBAMiiqIF1wQUXxPjx4+O1116Lyy+/PMaOHVvM4QAAZFG0wFq2bFk8//zzceaZZ0ZExJgxY6Kmpibmz59frCEBAGTRvlgrrqmpiW7dukX79h8OoVAoRK9evWLRokXRv3//RvddtWpVrFq1quHn2traiIhYuXJl1NXVtd2gAYCPjfrGSClt8bJFC6zmbOwJTJ48Oa666qom0wcPHtzaQwIAPubeeeedqKqq2qJlCmlrsiyDZcuWRf/+/WP58uXRvn37SClFt27d4qmnntrsEawVK1ZE7969Y9GiRVv8hGl7dXV10bNnz6ipqYnKyspiD4fNsL/Ki/1VXuyv8lJbWxu9evWKd999Nzp37rxFyxbtCFbXrl3j4IMPjilTpsTYsWPjwQcfjB49ejSJq4iIjh07RseOHZtMr6qq8gtaRiorK+2vMmJ/lRf7q7zYX+WlomLLT1kv6luEt99+e4wdOzYmTZoUlZWVUV1dXczhAABkUdTA2meffeKZZ54p5hAAALJrN3HixInFHsTWaNeuXYwcObLhU4iUNvurvNhf5cX+Ki/2V3nZ2v1VtJPcAQC2V76LEAAgM4EFAJCZwAIAyKzsAmvevHlxxBFHxMCBA2Po0KExd+7cYg/pY2fChAnRp0+fKBQK8dJLLzVM39S+2dp5bLsPPvggRo8eHQMHDozBgwfHqFGjGr7zc9myZXHiiSfGgAEDYtCgQTFz5syG5bZ2Htvm+OOPjwMPPDCGDBkSRx99dLz44osR4fVV6qqrq6NQKMS0adMiwmurVPXp0yf22WefGDJkSAwZMiR+/OMfR0Qrvb5SmTnmmGNSdXV1Simln/zkJ+nQQw8t7oA+hmbMmJFqampS796904svvtgwfVP7Zmvnse3+8Y9/pF/96ldp/fr1KaWUbrnlljRixIiUUkrnnntuuvLKK1NKKf3xj39Me+21V1q9evU2zWPbvPvuuw1/fuihh9KBBx6YUvL6KmULFixIn/70p9OwYcPSww8/nFLy2ipVH/13q15rvL7KKrD++te/pl133TWtWbMmpZTS+vXr0x577JHmzZtX5JF9PG34i7qpfbO182gdzz33XOrdu3dKKaWdd945vfXWWw3zhg4dmqZPn75N88inuro6DR482OurhK1bty4de+yx6fnnn08jRoxoCCyvrdLUXGC11uurrC7CUVNTE926dWu4FkWhUIhevXrFokWLmv2KHdrOpvZNVVXVVs2zT1vHd7/73Tj55JPjnXfeiTVr1sSee+7ZMK9Pnz6xaNGirZ5HHmeffXY8/vjjERHx61//2uurhN10001x5JFHxiGHHNIwzWurtJ199tmRUorDDjssrrvuulZ7fZXdOVgflVzGq2Rtat9s7Ty2zaRJk2LevHkxefLkiPjwL4QNbbjtt3Ye2+6ee+6JmpqauOaaa+Lyyy9v9j5eX8U3d+7c+OlPfxrf/OY3m8zz2ipNM2fOjDlz5sQLL7wQu+22W5xzzjnN3i/H66usAqtnz57x1ltvxdq1ayPiwydSU1MTvXr1KvLI2NS+2dp55HXjjTfGQw89FI888kjstNNO0aVLl2jXrl0sXbq04T4LFy6MXr16bfU88jrnnHPi8ccfjx49enh9laCZM2fGwoULY8CAAdGnT5+YNWtWjB8/PqZOneq1VaLqt+UOO+wQl1xySTz55JOt9u9XWQVW165d4+CDD44pU6ZERMSDDz4YPXr0cKi7BGxq32ztPPK56aab4v7774/p06dH586dG6afeuqpcdttt0VExHPPPReLFy+OESNGbNM8tt6KFStiyZIlDT9PmzYtunTp4vVVoi666KJ46623YsGCBbFgwYIYNmxY/M///E9cdNFFXlsl6L333osVK1Y0/Hz//ffHQQcd1Hqvr9wnkLW2V199NQ0bNiwNGDAgHXLIIWnOnDnFHtLHzvjx49Nee+2V2rVrl7p27Zr69euXUtr0vtnaeWy7mpqaFBGpb9++afDgwWnw4MHpsMMOSymltHTp0jRq1KjUv3//tN9++6Xf//73Dctt7Ty23oIFC9LQoUPToEGD0oEHHpiOPfbYhhNyvb5K34YnuXttlZ7XX389DRkyJB1wwAFp0KBB6XOf+1x64403Ukqt8/ryXYQAAJmV1VuEAADlQGABAGQmsAAAMhNYAACZCSwAgMwEFgBAZgILACAzgQUAkJnAArZ7CxYsiIkTJ0ZdXV2xhwJ8TAgsYLs3ffr0uOGGG2KXXXYp9lCAjwmBBWz3Zs+eHfvvv39UVPgrD2gb7Ys9AIDW1K1bt1i6dGlERBQKhYiIuPfee+PMM88s5rCA7Zwvewa2a88++2yMGjUqxo0bF6eddlpEROy3335RWVlZ5JEB2zNHsIDtWu/evWPlypXxT//0TzFs2LBiDwf4mHBCArBdmz17dkREDB48uMgjAT5OBBawXZs9e3Z07do19txzz2IPBfgYEVjAdu2ll15y9ApocwIL2K69+uqr8alPfarYwwA+ZgQWsF2rrKyMp59+Op544omYNWtWrFmzpthDAj4GXKYB2K49/fTTccEFF8Srr74a7dq1i7///e/Rvr0PUAOtS2ABAGTmLUIAgMwEFgBAZv8P3A0YWaQ+LlQAAAAASUVORK5CYII=\" />"
      ]
     },
     "execution_count": 12,
     "metadata": {},
     "output_type": "execute_result"
    }
   ],
   "source": [
    "plot(x2[:,1], ene2/eps(), title =L\"Absolute Error of Energy $q_1=2$\")\n",
    "xlabel!(L\"t\")\n",
    "ylabel!(L\"\\delta E\")\n",
    "xlims!(0,5000)"
   ]
  },
  {
   "cell_type": "code",
   "execution_count": 13,
   "metadata": {
    "collapsed": false
   },
   "outputs": [
    {
     "data": {
      "text/plain": [
       "1.2434497875801753e-14"
      ]
     },
     "execution_count": 13,
     "metadata": {},
     "output_type": "execute_result"
    }
   ],
   "source": [
    "maximum(ene1)"
   ]
  },
  {
   "cell_type": "code",
   "execution_count": 14,
   "metadata": {
    "collapsed": false
   },
   "outputs": [
    {
     "data": {
      "text/plain": [
       "psundriven (generic function with 2 methods)"
      ]
     },
     "execution_count": 14,
     "metadata": {},
     "output_type": "execute_result"
    }
   ],
   "source": [
    "function psundriven(x10::Float64, px10::Float64, tol::Float64 = 1e-20)\n",
    "    c1 = condini(x10, px10)\n",
    "    t, x = taylorintegps(undrivenHelium!, c1, t0, 100.0, order, abs_tol)\n",
    "    ps = zeros(x)\n",
    "    ts = zeros(t)\n",
    "    count = 0\n",
    "    for j in eachindex(ts)\n",
    "        if abs(x[j,3]) < tol\n",
    "            count += 1\n",
    "            ts[count] = t[j]\n",
    "            ps[count, :] = x[j, :]\n",
    "        end\n",
    "    end\n",
    "    return ps[1:count, :], t, x\n",
    "end"
   ]
  },
  {
   "cell_type": "code",
   "execution_count": 15,
   "metadata": {
    "collapsed": false
   },
   "outputs": [
    {
     "data": {
      "text/plain": [
       "ks (generic function with 1 method)"
      ]
     },
     "execution_count": 15,
     "metadata": {},
     "output_type": "execute_result"
    }
   ],
   "source": [
    "#Haremos malavares con metaprogramming para ver varias órbitas\n",
    "nombret(n::Int) = Symbol( string(\"t\", n) )\n",
    "nombreps(n::Int) = Symbol( string(\"ps\", n) )\n",
    "nombreq(n::Int) = Symbol( string(\"q\", n) )\n",
    "nombrexs(n::Int) = Symbol( string(\"xs\", n) )\n",
    "nombrevxs(n::Int) = Symbol( string(\"vxs\", n) )\n",
    "nombreys(n::Int) = Symbol( string(\"ys\", n) )\n",
    "nombrevys(n::Int) = Symbol( string(\"vys\", n) )\n",
    "\n",
    "function orbits(nmin, rs = 2:10)\n",
    "    N = length(rs)\n",
    "    # Checo que `n` sea >= 1\n",
    "    @assert N >= 0  \n",
    "\n",
    "    for j = nmin:(N+nmin - 1)\n",
    "        ex1 = quote \n",
    "            $(nombreps(j)), $(nombret(j)), $(nombreq(j))  = \n",
    "                psundriven(Float64($(rs[j])), 0.0)\n",
    "             end\n",
    "        ex2 = quote \n",
    "            $(nombrexs(j)) = map(ks, $(nombreps(j))[:,2])*0.8/1.8\n",
    "             end\n",
    "        \n",
    "        ex3 = quote \n",
    "                 $(nombrevxs(j)) =  \n",
    "            Float64[ksv($(nombreps(j))[k,2], $(nombreps(j))[k, 4]) \n",
    "                 for k in eachindex($(nombreps(j))[:, 4])]*0.8/1.8\n",
    "             end\n",
    "        ex4 = quote \n",
    "            $(nombreys(j)) = map(ks, $(nombreq(j))[:,3])*0.8/1.8\n",
    "             end\n",
    "        \n",
    "        ex5 = quote \n",
    "            $(nombrevys(j)) =  \n",
    "                 Float64[ksv($(nombreq(j))[k,3], $(nombreq(j))[k, 5]) \n",
    "                 for k in eachindex($(nombret(j)))]*0.8/1.8\n",
    "             end\n",
    "        eval(ex1)\n",
    "        eval(ex2)\n",
    "        eval(ex3)\n",
    "        eval(ex4)\n",
    "        eval(ex5)\n",
    "    end\n",
    "end\n",
    "\n",
    "function plottingps(nmax,xmin::Float64=0.0, xmax::Float64=20.0, \n",
    "    ymin::Float64=-1.0, ymax::Float64=1.0)\n",
    "    scatter(xs1, vxs1, label = L\"q = 2\", title = L\"Poincaré Section $Z = 2$,  $r_{2_0} =0$\")\n",
    "    for j in 2:nmax\n",
    "        ex = quote\n",
    "            scatter!($(nombrexs(j)), $(nombrevxs(j)))\n",
    "        end\n",
    "        eval(ex)\n",
    "    end\n",
    "    xaxis!([0,20])\n",
    "    xlabel!(L\"x\")\n",
    "    ylabel!(L\"p_x\")\n",
    "    yaxis!([ymin, ymax])\n",
    "    xaxis!([xmin, xmax])\n",
    "end\n",
    "\n",
    "function ksv(Q, P)\n",
    "    v₁ = P/Q\n",
    "    return v₁\n",
    "end\n",
    "ks(Q) = Q^2"
   ]
  },
  {
   "cell_type": "code",
   "execution_count": 16,
   "metadata": {
    "collapsed": false
   },
   "outputs": [
    {
     "name": "stderr",
     "output_type": "stream",
     "text": [
      "\u001b[1m\u001b[33mWARNING: \u001b[39m\u001b[22m\u001b[33mMaximum number of integration steps reached; exiting.\u001b[39m\n",
      "\u001b[1m\u001b[33mWARNING: \u001b[39m\u001b[22m\u001b[33mMaximum number of integration steps reached; exiting.\u001b[39m\n",
      "\u001b[1m\u001b[33mWARNING: \u001b[39m\u001b[22m\u001b[33mMaximum number of integration steps reached; exiting.\u001b[39m\n",
      "\u001b[1m\u001b[33mWARNING: \u001b[39m\u001b[22m\u001b[33mMaximum number of integration steps reached; exiting.\u001b[39m\n",
      "\u001b[1m\u001b[33mWARNING: \u001b[39m\u001b[22m\u001b[33mMaximum number of integration steps reached; exiting.\u001b[39m\n",
      "\u001b[1m\u001b[33mWARNING: \u001b[39m\u001b[22m\u001b[33mMaximum number of integration steps reached; exiting.\u001b[39m\n",
      "\u001b[1m\u001b[33mWARNING: \u001b[39m\u001b[22m\u001b[33mMaximum number of integration steps reached; exiting.\u001b[39m\n",
      "\u001b[1m\u001b[33mWARNING: \u001b[39m\u001b[22m\u001b[33mMaximum number of integration steps reached; exiting.\u001b[39m\n",
      "\u001b[1m\u001b[33mWARNING: \u001b[39m\u001b[22m\u001b[33mMaximum number of integration steps reached; exiting.\u001b[39m\n",
      "\u001b[1m\u001b[33mWARNING: \u001b[39m\u001b[22m\u001b[33mMaximum number of integration steps reached; exiting.\u001b[39m\n",
      "\u001b[1m\u001b[33mWARNING: \u001b[39m\u001b[22m\u001b[33mMaximum number of integration steps reached; exiting.\u001b[39m\n",
      "\u001b[1m\u001b[33mWARNING: \u001b[39m\u001b[22m\u001b[33mMaximum number of integration steps reached; exiting.\u001b[39m\n",
      "\u001b[1m\u001b[33mWARNING: \u001b[39m\u001b[22m\u001b[33mMaximum number of integration steps reached; exiting.\u001b[39m\n",
      "\u001b[1m\u001b[33mWARNING: \u001b[39m\u001b[22m\u001b[33mMaximum number of integration steps reached; exiting.\u001b[39m\n",
      "\u001b[1m\u001b[33mWARNING: \u001b[39m\u001b[22m\u001b[33mMaximum number of integration steps reached; exiting.\u001b[39m\n",
      "\u001b[1m\u001b[33mWARNING: \u001b[39m\u001b[22m\u001b[33mMaximum number of integration steps reached; exiting.\u001b[39m\n"
     ]
    },
    {
     "name": "stdout",
     "output_type": "stream",
     "text": [
      " 55.314099 seconds (637.49 M allocations: 51.777 GiB, 28.73% gc time)\n"
     ]
    }
   ],
   "source": [
    "@time orbits(1,2:0.1:10)\n",
    "NM = length(2:0.1:10);"
   ]
  },
  {
   "cell_type": "code",
   "execution_count": 17,
   "metadata": {
    "collapsed": false
   },
   "outputs": [
    {
     "name": "stdout",
     "output_type": "stream",
     "text": [
      "  0.438180 seconds (243.63 k allocations: 11.905 MiB, 2.10% gc time)\n"
     ]
    },
    {
     "data": {
      "text/html": [
       "<img src=\"data:image/png;base64,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\" />"
      ]
     },
     "execution_count": 17,
     "metadata": {},
     "output_type": "execute_result"
    }
   ],
   "source": [
    "@time plottingps(NM, 2.57, 2.59, -0.01, 0.01)"
   ]
  }
 ],
 "metadata": {
  "kernelspec": {
   "display_name": "Julia 0.6.0-rc3",
   "language": "julia",
   "name": "julia-0.6"
  },
  "language_info": {
   "file_extension": ".jl",
   "mimetype": "application/julia",
   "name": "julia",
   "version": "0.6.0"
  }
 },
 "nbformat": 4,
 "nbformat_minor": 0
}
