{
 "cells": [
  {
   "cell_type": "code",
   "execution_count": 1,
   "metadata": {
    "collapsed": false
   },
   "outputs": [
    {
     "data": {
      "text/plain": [
       "500000"
      ]
     },
     "execution_count": 1,
     "metadata": {},
     "output_type": "execute_result"
    }
   ],
   "source": [
    "using TaylorSeries, TaylorIntegration\n",
    "using Plots, LaTeXStrings\n",
    "# plotly()\n",
    "pyplot(grid = :false, legend = :false, size=(600,600), color=:black, markersize = 0.3 )\n",
    "const Z = 2.0\n",
    "const order = 20\n",
    "const t0 = 0.0\n",
    "const t_max = 0.5 \n",
    "const abs_tol = 1.0E-20\n",
    "const steps = 500_000"
   ]
  },
  {
   "cell_type": "code",
   "execution_count": 2,
   "metadata": {
    "collapsed": false
   },
   "outputs": [
    {
     "data": {
      "text/plain": [
       "errHam (generic function with 1 method)"
      ]
     },
     "execution_count": 2,
     "metadata": {},
     "output_type": "execute_result"
    }
   ],
   "source": [
    "function undrivenHelium!(τ, q, dq)\n",
    "    tT, Q₁, Q₂, P₁, P₂ = q\n",
    "    \n",
    "    t1 = Q₁^2\n",
    "    t2 = Q₂^2\n",
    "    t = t1 * t2\n",
    "    dq[1] = t\n",
    "    R12 = t1 - t2\n",
    "    aR12 = abs(R12)\n",
    "    RRR = aR12^3\n",
    "    c1 = R12/RRR\n",
    "    f1 = (1 + 1/aR12)\n",
    "    f2 = t*c1\n",
    "   \n",
    "    dq[2] = 0.25*t2*P₁\n",
    "    dq[4] = 2*Q₁*(-0.125*P₂^2 + Z  - t2*f1 + f2)\n",
    "    dq[3] = 0.25*t1*P₂\n",
    "    dq[5] = 2*Q₂*(-0.125*P₁^2 + Z  - t1*f1 - f2)\n",
    "\n",
    "#    return [t, q₁, q₂, p₁, p₂] \n",
    "    nothing\n",
    "end\n",
    "#undrivenHelium(v) = undrivenHelium(0, v)\n",
    "\n",
    "\n",
    "var1 = set_variables(\"t q1 q2 p1 p2\", order = 1)\n",
    "\n",
    "\n",
    "function condini(x10::Float64, px10::Float64)\n",
    "    @assert x10 != 0\n",
    "    Q1 = sqrt(x10)\n",
    "    Q2 = 0.0\n",
    "    P1 = px10*sqrt(x10)    \n",
    "    P2 = sqrt(8Z)    \n",
    "    return [0, Q1, Q2, P1, P2]\n",
    "end\n",
    "\n",
    "function regHam(t, Q₁, Q₂, P₁, P₂)\n",
    "    #Cantidades auxiliares\n",
    "    P₁² = P₁^2\n",
    "    P₂² = P₂^2\n",
    "    Q₁² = Q₁^2\n",
    "    Q₂² = Q₂^2\n",
    "    nf = abs(Q₁² - Q₂²)\n",
    "    \n",
    "    H = 0.125*(P₁²*Q₂² + P₂²*Q₁²) - Z*(Q₁² + Q₂²) + Q₁²*Q₂²*(1.0 + 1.0/nf)\n",
    "    return H\n",
    "end\n",
    "\n",
    "\n",
    "regHam(v) = regHam(v...)\n",
    "\n",
    "function errHam(N::Int)\n",
    "    srand(487293456)\n",
    "    J = [0 0 0 0 0; 0 0 0 1 0; 0 0 0 0 1; 0 -1 0 0 0; 0 0 -1 0 0 ]\n",
    "    \n",
    "    dnorm = zeros(N)\n",
    "    als = typeof(zeros(5))[]\n",
    "\n",
    "    for j in 1:N\n",
    "        al = 10*rand(5)\n",
    "        meq = similar(al)\n",
    "        #al = [BigFloat(x) for x in al1]\n",
    "        alt = al + var1\n",
    "        ene = J*∇(regHam(alt))\n",
    "        ene1 = [ene[k].coeffs[1].coeffs[1] for k in 1:5]\n",
    "        undrivenHelium!(0.0, al, meq)\n",
    "        push!(als, al)\n",
    "        meq[1] = 0\n",
    "        dnorm[j] = norm(meq - ene1) \n",
    "    end\n",
    "    return dnorm, als \n",
    "end"
   ]
  },
  {
   "cell_type": "code",
   "execution_count": 3,
   "metadata": {
    "collapsed": false
   },
   "outputs": [
    {
     "name": "stdout",
     "output_type": "stream",
     "text": [
      " 15.752828 seconds (355.00 M allocations: 18.965 GB, 32.22% gc time)\n"
     ]
    },
    {
     "data": {
      "text/html": [
       "<img src=\"data:image/png;base64,iVBORw0KGgoAAAANSUhEUgAAAlgAAAJYCAYAAAC+ZpjcAAAABHNCSVQICAgIfAhkiAAAAAlwSFlzAAAPYQAAD2EBqD+naQAAIABJREFUeJzt3Xl0VPX9//HXZCEJS4IEAkGyCCGAZROMgiCbC66IBUU8soggahWtqEBbCyh+Fb+CVvx+FRVwoSJFXBCrqFWW1o21KhXZQhK2sCfYAknI5/cH35mfQyYhkHeYGXk+zsk55N47cz8zc+fmmdw7FzngF6x79+5Okt+0WbNmOUlu1qxZlb6ftLQ0l5aWVqn7CbQsyhfoNfr888+dJDd+/PjgDKocvLa/PEVFRW78+PEuIyPD1ahRw0ly77zzTrCHdUpOZd+G6hMhhKWVK1fqtttuU/PmzVWrVi3FxcWpWbNmGjRokD755JNgD++0mTBhgjwejxYvXhzsoVTodI3T4/GoZcuW5c7fsmWLPB6PrrjiimodR3VJT09Xenp6sIdxRvJuOxV9heNrM2XKFE2cOFGNGzfWAw88oPHjx1f4Hgom72swdOjQYA8FlRAV7AHg5JSWluqBBx7Q008/raioKPXq1Ut9+vRRdHS0Nm/erA8++ECzZ8/WI488oocffjjYww261157Tf/5z3+qfD9/+9vfqmVZ2L1GpwOvrdSsWTPdcsstAefVrVv3NI+m6hYuXKjatWvrk08+UY0aNYI9nCq5/vrr1alTJyUnJwd7KBCBFXb+8Ic/6Omnn1b79u311ltvqVmzZn7zDx06pOeee0579+4N0ghDS2pqqsn9HP88Wy0Lu9fodOC1lTIyMjRhwoRgD8PM9u3blZiYGPZxJUkJCQlKSEgI9jDwfzhEGEY2btyoJ598UomJifroo48C7uzj4uL04IMPauLEiX7T9+zZo/vuu0/nnHOOYmJilJSUpBtvvFHff/99mfsYOnSoPB6PNm/erKeeekqZmZmKi4vTueeeqzfffFOSVFRUpN///vdKT09XbGys2rZtqw8//LDMffXo0UMej0eHDx/W2LFjlZqaqtjYWLVq1UrTpk2Tc85v+YKCAk2ePFndu3dX48aNVaNGDTVu3FiDBw/Wpk2byty393H27Nkz4GEK7/rL89577+mCCy5QzZo11aBBAw0bNkz5+fllljuZQ1PHL1vROEtLS5WWlqbExEQdPnw44P1dfPHFioqK0tatWyu1/lOxfv16PfTQQ+rQoYMSExMVGxurzMxMjR07Vj/99FOZ5b3P65EjR/S73/1OqampiouLU8eOHfXpp59KOvZa/uY3v1Hjxo0VGxurzp0765tvvin3viriPTSSk5OjnJwcv8NSx/+wnzVrli688ELVrl1btWvX1oUXXqhXXnmlzH0uXrzYd/sVK1bosssuU506dZSQkKDrr79eW7ZsKXObQNvB9u3bNX78eHXq1ElJSUmKiYlRenq67rrrLu3atavMfXjfX9nZ2Xr22WfVsmVLxcTEKC0tTRMnTlRpaWmFz4Uk5eTkKCIiQpdccknA+cXFxapfv75SUlJ891dQUKA//vGPOvfcc1W7dm3Fx8crIyNDQ4YMUU5OzgnXearee+89ZWVlKS4uTg0bNtSIESO0f//+gM+l1Rgrsw14D9tnZ2f7bVOVeZ97PB716NFD27Zt080336z69eurTp06uvrqq7V582ZJ0g8//KC+ffuqXr16qlOnjvr37x9w3yJJ77//vnr27KmEhATFxcWpXbt2mjp1qkpKSnzLvPLKKzrnnHMkSa+++qrfe8B76sErr7wij8cTcHv/xz/+oauvvlr16tVTbGysWrZsqfHjxwf867H38eXn52vIkCGqX7++4uLi1KlTp5A/HSOU8BesMPLKK6/o6NGjGjlypBo2bFjhsjExMb5/7969W507d9amTZvUo0cP3XTTTcrOztZbb72lDz74QIsWLVLXrl3L3Mf999+vr7/+Wtdee60iIyP15ptv6uabb9ZZZ52l5557TmvXrtXVV1+tw4cP64033tB1112nH374IWD43XjjjVq9erX69esnSZo/f75GjRqlLVu2aMqUKb7lfvjhB/3xj39Uz549df3116tWrVpat26d3njjDX3wwQdatWqV0tLSJMl3HsKSJUs0ZMgQ346xsocp5s+fr0WLFql///665JJL9PXXX2vWrFlatmyZvvnmG5111lmVup8TqWicERERGj58uP74xz/q7bff1s033+x32x9//FF///vfdfXVV6tJkyYm4wnk7bff1owZM9SzZ0/16NFDpaWl+uqrrzR58mQtWbJES5cuVXR0dJnbDRgwQN9995369OmjQ4cO6c9//rOuueYaffHFFxoxYoSKiop0ww03aPfu3Zo7d66uuOIKZWdnn/Rv2XXr1tX48eP1zDPPSJLuu+8+37wePXr4/j1q1ChNmzZNZ599tm677TZJx17nW2+9VatXr9af/vSnMve9fPlyPfnkk+rZs6dGjhyp1atX691339V3332n77//XrGxsRWObenSpZoyZYouueQSXXjhhYqOjtbq1av1/PPPa9GiRVq1alXAx/vggw9qyZIluuaaa9S7d2+9++67mjBhgoqKivTYY49VuM60tDR169ZNixcv1tatW8tsG3/961+1d+9ejRkzRhEREXLOqXfv3vr666/VpUsXXXHFFYqIiFBOTo4WLFigQYMG+d5Xll577TUNGTJE8fHxGjRokOrWrauFCxfq0ksvVVFRkd9fjazGWNltwLvdHL9NVXb/sX//fnXt2lWNGjXSkCFDtH79ei1cuFDr1q3Te++9p4svvlgdO3bUsGHDtHLlSs2fP1/79u3TZ5995nc/U6dO1ejRo1WvXj3dfPPNqlWrlhYsWKDRo0dr2bJlevvtt+XxeNS+fXvde++9+tOf/qR27dqpb9++vvs4URTOmzdPAwcOVExMjAYMGKCkpCR9/PHHeuSRR7Ro0SItXry4zHZ+4MABde3aVQkJCRo0aJB27dqluXPnqnfv3lq5cqVat25dqefpjBbkk+xxEnr06OEkuU8//fSkbnfrrbc6SW7cuHF+0z/44AMnyWVkZLijR4/6pg8ZMsRJcpmZmW7Xrl2+6V9//bWT5OrWreu6du3qfvrpJ9+8uXPnOknunnvu8VuH9xNiLVq0cAcOHPBNP3DggGvRooXzeDxu+fLlftP37t1b5jF89tlnLiIiwg0fPtxv+vjx450k9/nnnwd87BV9ilCS++ijj/zmjR071klyd999t9/0qn6KsKJxbtu2zUVFRbkePXqUmffAAw84Se7dd98N+PiOJ8klJia68ePHB/y69957nSTXu3dvv9tt3brVHTlypMz9TZw40Ulys2fP9pvufV7L2w7q1q3rbrjhBldcXOybN3nyZCfJTZkyJeB9/Vx5nyKs6FN8S5YscZJcq1at/La1ffv2uczMTCfJLV26tMw6JLk333zT774GDRrkJLk5c+accP35+fnu4MGDZcbz6quvOklu0qRJftO9769zzjnHbd++3Td99+7drm7duq5OnToBX4vjvfzyy06Smzx5cpl5/fr1c5Lc999/75xz7ttvv3WSXN++fcsse/jw4YDjP152draT5Jo1a1bu9vXhhx/6li8oKHDx8fGuVq1a7scff/RNLyoqct26dXOS/J5LizGe7Dbg3Kl9MtS73fz2t7/1m37nnXf6tv9nnnnGN720tNRdddVVTpJbuXKlb/rGjRtdVFSUS0pKcrm5uX6Pt2vXrk6Se+2113zTva/BkCFDAo4r0D6poKDAJSQkuJiYGPfPf/7TN/3o0aNuwIABTpJ75JFHAj6+u+66y+9ng3ebGzlyZOWeqDMcgRVGWrZs6SS5devWVfo2R44ccbGxsS4xMdH9+9//LjP/sssuK7PT8f4AePXVV8ss37RpUyfJLVmyxG96SUmJi46Odt26dfOb7v3hefwPaOece/311wPGTHnatGnj0tPT/aZVJbAuvfTSMssfPHjQ1a1b18XHx/vtWKozsJxz7vrrr3cej8dt2LDBN62oqMglJSW55ORkv1CpiHfHeKKv4wOrPHv37nWS3NChQ/2me5/X47eDo0ePuujoaCfJ5eTk+M3Lzc11ktzgwYMD3tfPnUpgDRs2zElyc+fOLTPvz3/+s5Pkhg0bVmYdx2+zP593//33V3r9xystLXXx8fFlwtn7/po5c2aZ23jnffvttye8/wMHDrjY2FjXpk0bv+n79+93MTExrn379r5p3ngZOHBgpcYeiPeHe0Vf9957r295b2Ae/0uXc84tW7as3MCqyhhPdhtw7tQDq3bt2mX2qUuXLvVFaGlpqd+81157rczr/sgjj5Qbyf/4xz+cJNerVy/ftFMJLO9677zzzjLL5+TkuKioKNe0adMyj69WrVplora4uNhFRUW5Dh06BFw//HEO1i/cunXrdPjwYd95Rsfr2bOnJGnNmjVl5rVv377MNO+nU46fFxkZqaSkJG3fvj3gOC6++OJyp61evdpv+uLFi9W3b18lJycrOjrad57Bd999V+79n4pAY6pdu7bat2+vwsJC37kUp8PIkSPlnNPLL7/sm7ZgwQLt2rVLt956q6KiKn80v0WLFnLHfnkq85WdnR3wNs45zZw5U926dVO9evUUGRkpj8ejxMRESSr3eT9+O4iIiFBSUpLOOuusMieve7cdy9fw57zb0c8PGXpVtJ137NixzDTvIbcDBw5Uat1vv/22evfurQYNGigqKkoej0cREREqLCws9/FWdb0JCQnq06ePvvvuO/3zn//0TZ83b56OHDmiQYMG+aa1atVKbdu21Zw5c9StWzdNnTpVq1atqtT5Xsfr3bt3uduX93CbJN+YAr3POnfuXGabthjjqW4Dp6J58+Zl9qnebbxt27ZlzisMtP1XNN7OnTsrNja2yuOtaB2pqalq2rSpNm/erIMHD/rNy8zMVO3atf2mRUVFqWHDhpV+X5zpOAcrjDRq1Ejr1q3Ttm3b1KJFi0rdprCwUJLKPWfL+6b3Lvdz8fHxZaZ5d4rlzSsuLg64nkDr904rKCjwTZs3b54GDBig2rVrq3fv3kpPT1fNmjV9J25anoxb3nMSaFzV7fLLL1fTpk316quvatKkSYqKitLLL78sj8fjO4+kOo0aNUrPPfecUlJS1KdPHyUnJ/vO45s4caKOHDkS8HblbQcVbTvlbSNVVVhYqIiICDVo0KDMvIYNG8rj8Zz0dn706NETrnfKlCl64IEH1KBBA11++eVq0qSJ4uLiJB07v+dkn7vKrleSBg0apL/85S+aPXu22rVrJ0l6/fXXFRkZqYEDB/rd72effaYJEyZo/vz5Gj16tCSpQYMGuvvuu/X73/9ekZGRlVpnZXnfP0lJSWXmRUZG+uLdcoynug2cilPZP0r+239F+2ePx6OGDRtq27ZtVRpnZX4GrF+/XoWFhapTp45veqDHIB17HJXdPs90BFYY6dKlixYvXqy//e1v6tWrV6Vu432TlPfplZ07d/otV13y8/PL/EXDO6afnwA8YcIExcbGauXKlWrevLnf8t5PMFqOqaLpp/Pjzh6PRyNGjNC4ceP0/vvv6/zzz9fHH3+sSy65RE2bNq3Wde/atUv/8z//o7Zt2+rLL7/0+618586dZT6RGqri4+NVWlqq3bt3l/mhvmvXLjnnzLfzkpISPfroo0pOTtaaNWv81uuc05NPPmm6vuNdccUVatCggebMmaPJkycrLy9Pf//733X55ZeXuRZSYmKipk2bpmeffVbr1q3TZ599pmnTpmn8+PGKjo7WuHHjTMfmff8E+iTl0aNHtXfvXp199tmmYwzGNlAVP98/BzqBf9euXVUeb6j8DDgTcYgwjAwdOlSRkZF68cUXtXv37gqX9f7W3LJlS8XGxmr58uUBP47r/chtoMOBlpYtW1butPPOO883bdOmTWrVqlWZuNqxY0fAQ3be32hP5TeqQGP66aeftGbNGsXHx5uGTWXGOWzYMEVHR+vll1/WzJkzVVpaqhEjRpiNoTybN2+Wc06XXnppmUMegZ6jYIqMjCz3OfRuR4E+Rl5d2/mePXtUUFCgzp07l/mBvmLFCh06dMh0fceLiorSTTfdpG3btunzzz/X7Nmz5Zwr90Kg0rGYb9WqlX7zm9/4/teHBQsWmI/N+xe1QNvQl19+6XcJAqsxBmMbqIqKxvvVV1/p0KFDfuM9lf1dRevIy8vTpk2b1LRpU7+/XsEGgRVGMjIy9NBDD2nPnj268sorA55Pc/jwYU2dOtV3baAaNWpo4MCB2rNnjx5//HG/ZT/66CMtWrRIGRkZ6tKlS7WO/dFHH/U75FZQUKBJkybJ4/Fo8ODBvulpaWnauHGj329bhw8f1p133hnw0FK9evUkHdtRnKxPP/1UixYt8pv22GOP6cCBAxo8eLAiIuzeHpUZZ1JSkvr27auPPvpIzz//vOrXr+/3Uezq4v3N+YsvvvA732Xr1q3mf9Woqnr16mnPnj0Brxk2ZMgQSccOaf78MFBBQYHvr3DeZawkJSUpLi5Oq1at8vsFZv/+/brnnntM11Ue77lWr7/+umbPnq1atWrp+uuv91tmy5YtAa/r5X2fnehSFKfiuuuuU3x8vGbOnKn169f7phcXF+sPf/hDmeUtxhiMbaAqbr75ZkVFRWnq1Kl+52YVFRVpzJgxkuT33+KcddZZ8ng8J7W/u+6665SQkKBZs2Zp7dq1vunOOY0ZM0YlJSX81zvVhEOEYWbSpEk6fPiwnn76abVo0UK9evVS69atFR0drezsbH366afau3evJk2a5LuN91pGkyZN0hdffKELL7xQW7Zs0bx581SzZk3NmjXLNCYCyczMVOvWrdW/f3855zR//nxt3bpV999/v7KysnzL3XPPPbrnnnt03nnnqX///iopKdEnn3wi55zatWvndzKv9P8v3Pm73/1Oa9euVUJCgurWrau77777hGO65pprdO2116p///5KT0/XV199pc8//1zNmjXTI488Yvr4KzvOO+64Q/PmzVN+fr5Gjx59Wq4unZycrH79+mn+/Pk6//zzdckllyg/P18LFy5Ur169ylzgNZh69eqlFStW6Morr9TFF1+sGjVqqFu3br6ve+65R9OmTVPr1q3Vr18/v21t1KhR6tatm+l4IiIidNddd2nKlClq166drr32WhUWFurDDz9UWlqaGjdubLq+QLKystSiRQu98cYbKi4u1qBBg1SrVi2/ZdasWaNf//rXuuCCC3TuueeqUaNG2rZtm959911FRETot7/9baXXt3Hjxgqv5D527FjFxsYqISFBzz77rIYOHaqsrCzddNNNSkhI0MKFCxUXF1fmEKbFGIOxDVRFs2bNNHnyZI0ePVpt27bVjTfeqFq1aun999/Xjz/+qOuuu87vr5G1a9dWVlaWli5dqkGDBql58+aKiIio8Bph8fHxeumllzRw4EBdeOGFGjBggBo0aKBPP/1UK1eu1AUXXKAHH3zwdD3kM8vp+8AiLC1fvtwNGzbMZWRkuLi4OBcTE+PS09PdwIED3ccff1xm+d27d7tRo0a5tLQ0Fx0d7erXr+/69+/vvvvuuzLLej8qnp2dXWZeoI/UewX6uLN3+UOHDrmHHnrIpaSkuBo1argWLVq4Z599tsxHmUtLS90LL7zgfvWrX7nY2FjXqFEjd9ttt7n8/Pxy1/3KK6+4Nm3auJiYmDIf/a7oMg2zZs1y7777rsvKynJxcXEuMTHRDR061O3YsaNSj+1kLtNwonH+/PGnpqY6Se6HH34oM/9E9H/XHCuP92Pex1+m4eDBg2706NEuPT3dxcTEuObNm7tHH33UFRUVOUmue/fufsuf7Hbw8/FV5r7Ku0zDwYMH3YgRI1xycrKLiIgIuMzMmTNdVlaWq1mzpqtZs6bLysoKeEmE8tbhXPkfhw/02IqKitxjjz3mmjdv7mJiYlxqaqq7//773cGDBwMuX9H760SX8yjPpEmTfJdKWLRoUZn5eXl5buzYsa5Tp04uKSnJ1ahRw6Wmprpf//rX7ssvv6zUOipzmQZJbv/+/X63e+edd1zHjh1dTEyMS0pKcsOHD3f79u0r89xYjNGrstuAc6d+mYbjt2PnKr6MQkXb23vvvee6d+/u6tSp42JiYlybNm3clClTAl6e5ccff3RXXXWVq1u3rvN4PH7bS3n7JOeOXULiyiuvdHXr1nU1atRwmZmZ7uGHH/a7jt2JHp9zp/Z8nak8zh33f5UAhnr06KElS5aU+S9xENiOHTuUmpqqzp07a+nSpcEeDlBtvFcfD3RYEPgl4BwsIIQ888wzKikp0Z133hnsoQAAqoBzsIAgKygo0PPPP6+cnBy9/PLLOvfcc3XjjTcGe1gAgCogsIAg279/v8aNG6fY2Fh17dpVL7zwgvlFHwEApxfnYAEAABjjHCwAAABjBBYAAIAxAgsAAMDYL/ok99LSUm3fvl116tSRx+MJ9nAAAECIcc7p4MGDaty4sen/avKLDqzt27crJSUl2MMAAAAhLi8vT02aNDG7v190YHn/d/C8vDzFx8cHeTQAAOB0SUhIkHTsWoMVKSwsVEpKiq8ZrPyiA8t7WDA+Pp7AAgDgDFTZn//WpxJxkjsAAIAxAgsAAMAYgQUAAGCMwAIAADBGYAEAABgjsAAAAIwRWAAAAMYILAAAAGMEFgAAgDECCwAAwBiBBQAAYIzAAgAAMEZgAQAAGCOwAAAAjBFYAAAAxggsAAAAYwQWAACAMQILAADAGIEFAABgjMACAAAwRmABAAAYI7AAAACMEVgAAADGCCwAAABjBBYAAIAxAgsAAMAYgQUAAGCMwAIAADBGYAEAABgjsAAAAIwRWAAAAMYILAAAAGMEFgAAgDECCwAAwBiBBQAAYIzAAgAAMEZgAQAAGCOwAAAAjBFYAAAAxggsAAAAYwQWAACAMQILAADAGIEFAABgjMACAAAwRmABAAAYI7AAAACMEVgAAADGCCwAAABjBBYAAIAxAgsAAMAYgQUAAGCMwAIAADBGYAEAABgjsAAAAIwRWAAAAMYILAAAAGMEFgAAgDECCwAAwBiBBQAAYIzAAgAAMEZgAQAAGCOwAAAAjBFYAAAAxggsAAAAYwQWAACAMQILAADAGIEFAABgjMACAAAwRmABAAAYI7AAAACMEVgAAADGCCwAAABjBBYAAIAxAgsAAMAYgQUAAGCMwAIAADBGYAEAABgjsAAAAIwRWAAAAMYILAAAAGMEFgAAgDECCwAAwBiBBQAAYIzAAgAAMEZgAQAAGCOwAAAAjBFYAAAAxggsAAAAYwQWAACAMQILAADAGIEFAABgjMACAAAwRmABAAAYI7AAAACMEVgAAADGCCwAAABjBBYAAIAxAgsAAMAYgQUAAGCMwAIAADBGYAEAABgjsAAAAIwRWAAAAMYILAAAAGMEFgAAgDECCwAAwBiBBQAAYIzAAgAAMEZgAQAAGCOwAAAAjBFYAAAAxggsAAAAYwQWAACAMQILAADAGIEFAABgjMACAAAwRmABAAAYI7AAAACMEVgAAADGfIG1YcMGXXTRRcrMzFRWVpbWrl0b8AYzZsxQ8+bN1axZM40YMULFxcVVmrdlyxb16NFDCQkJat++/UmtDwAAIBT5AmvkyJG6/fbbtX79eo0ZM0ZDhw4ts3B2drYefvhhLVu2TBs3blR+fr5efPHFKs2Lj4/XpEmT9MYbb5zU+gAAAEJVhCTt2rVLK1as0C233CJJ6tevn/Ly8rRx40a/hd966y316dNHjRo1ksfj0R133KE5c+ZUaV69evXUtWtX1apVq8zgKrodAABAqIqQpLy8PCUnJysqKkqS5PF4lJqaqtzcXL+Fc3NzlZaW5vs+PT3dt8ypzqvIyd7uyJEjKiws9PsCAAA43co9yd05d8IbV7TMqc471fVJ0uOPP66EhATfV0pKyimtBwAAoCoiJCklJUU7duxQSUmJpGMhk5eXp9TUVL+FU1NTlZOT4/s+JyfHt8ypzqvIyd5u3LhxKigo8H3l5eWdcB0AAADWIiQpKSlJHTp00OzZsyVJ8+fPV5MmTZSRkeG3cL9+/bRgwQLt3LlTzjm98MILuummm6o0ryIne7uYmBjFx8f7fQEAAJxuvkOE06dP1/Tp05WZmaknnnhCs2bNkiQNHz5cCxYskCQ1bdpUEydOVJcuXZSRkaEGDRpo5MiRVZr3n//8R02aNNENN9ygf/3rX2rSpInGjRt3wtsBAACEKo871ROiwkBhYaESEhJUUFDAX7MAADiDeDweSSc+f7u6WoEruQMAABgjsAAAAIwRWAAAAMYILAAAAGMEFgAAgDECCwAAwBiBBQAAYIzAAgAAMEZgAQAAGCOwAAAAjBFYAAAAxggsAAAAYwQWAACAMQILAADAGIEFAABgjMACAAAwRmABAAAYI7AAAACMEVgAAADGCCwAAABjBBYAAIAxAgsAAMAYgQUAAGCMwAIAADBGYAEAABgjsAAAAIwRWAAAAMYILAAAAGMEFgAAgDECCwAAwBiBBQAAYIzAAgAAMEZgAQAAGCOwAAAAjBFYAAAAxggsAAAAYwQWAACAMQILAADAGIEFAABgjMACAAAwRmABAAAYI7AAAACMEVgAAADGCCwAAABjBBYAAIAxAgsAAMAYgQUAAGCMwAIAADBGYAEAABgjsAAAAIwRWAAAAMYILAAAAGMEFgAAgDECCwAAwBiBBQAAYIzAAgAAMEZgAQAAGCOwAAAAjBFYAAAAxggsAAAAYwQWAACAMQILAADAGIEFAABgjMACAAAwRmABAAAYI7AAAACMEVgAAADGCCwAAABjBBYAAIAxAgsAAMAYgQUAAGCMwAIAADBGYAEAABgjsAAAAIwRWAAAAMYILAAAAGMEFgAAgDECCwAAwBiBBQAAYIzAAgAAMEZgAQAAGCOwAAAAjBFYAAAAxggsAAAAYwQWAACAMQILAADAGIEFAABgjMACAAAwRmABAAAYI7AAAACMEVgAAADGCCwAAABjBBYAAIAxAgsAAMAYgQUAAGCMwAI0Vnk4AAASuElEQVQAADBGYAEAABgjsAAAAIwRWAAAAMYILAAAAGMEFgAAgDECCwAAwBiBBQAAYIzAAgAAMEZgAQAAGCOwAAAAjBFYAAAAxggsAAAAYwQWAACAMQILAADAGIEFAABgjMACAAAwRmABAAAYI7AAAACMEVgAAADGCCwAAABjBBYAAIAxAgsAAMAYgQUAAGCMwAIAADBGYAEAABgjsAAAAIwRWAAAAMYILAAAAGMEFgAAgDECCwAAwBiBBQAAYIzAAgAAMEZgAQAAGCOwAAAAjBFYAAAAxggsAAAAYwQWAACAMQILAADAGIEFAABgjMACAAAwRmABAAAYI7AAAACMEVgAAADGCCwAAABjBBYAAIAxAgsAAMAYgQUAAGCMwAIAADBGYAEAABgjsAAAAIwRWAAAAMYILAAAAGMEFgAAgDECCwAAwBiBBQAAYIzAAgAAMEZgAQAAGCOwAAAAjBFYAAAAxggsAAAAYwQWAACAMQILAADAGIEFAABgjMACAAAwRmABAAAYI7AAAACMEVgAAADGCCwAAABjBBYAAIAxAgsAAMAYgQUAAGCMwAIAADBGYAEAABgjsAAAAIwRWAAAAMYILAAAAGMEFgAAgDECCwAAwBiBBQAAYIzAAgAAMEZgAQAAGCOwAAAAjBFYAAAAxggsAAAAYwQWAACAMQILAADAGIEFAABgjMACAAAwRmABAAAYI7AAAACMEVgAAADGCCwAAABjBBYAAIAxAgsAAMAYgQUAAGCMwAIAADBGYAEAABgjsAAAAIwRWAAAAMYILAAAAGMEFgAAgDECCwAAwBiBBQAAYIzAAgAAMEZgAQAAGCOwAAAAjBFYAAAAxggsAAAAYwQWAACAMQILAADAmC+wNmzYoIsuukiZmZnKysrS2rVrA95gxowZat68uZo1a6YRI0aouLi42uYtXrxYcXFxat++ve/r0KFD5k8CAACAJV9gjRw5UrfffrvWr1+vMWPGaOjQoWUWzs7O1sMPP6xly5Zp48aNys/P14svvlht8ySpRYsWWrNmje8rLi6uOp8PAACAKouQpF27dmnFihW65ZZbJEn9+vVTXl6eNm7c6LfwW2+9pT59+qhRo0byeDy64447NGfOnGqbBwAAEI4iJCkvL0/JycmKioqSJHk8HqWmpio3N9dv4dzcXKWlpfm+T09P9y1THfMkadOmTerQoYOysrL0v//7vxU+mCNHjqiwsNDvCwAA4HSLKm+Gc+6EN65oGYt5HTp00NatW5WQkKCtW7fqqquuUv369XXjjTcGvO3jjz+uiRMnnnDcAAAA1SlCklJSUrRjxw6VlJRIOhY5eXl5Sk1N9Vs4NTVVOTk5vu9zcnJ8y1THvPj4eCUkJEiSmjRpooEDB2rZsmXlPphx48apoKDA95WXl3eyzwcAAECVRUhSUlKSOnTooNmzZ0uS5s+fryZNmigjI8Nv4X79+mnBggXauXOnnHN64YUXdNNNN1XbvB07dqi0tFSSdPDgQS1cuFDnnXdeuQ8mJiZG8fHxfl8AAACnm+9ThNOnT9f06dOVmZmpJ554QrNmzZIkDR8+XAsWLJAkNW3aVBMnTlSXLl2UkZGhBg0aaOTIkdU2b/78+WrTpo3atWunTp066bLLLtOtt956+p4dAACAU+BxlTnZKkwVFhYqISFBBQUF/DULAIAziMfjkXTic8qrqxW4kjsAAIAxAgsAAMAYgQUAAGCMwAIAADBGYAEAABgjsAAAAIwRWAAAAMYILAAAAGMEFgAAgDECCwAAwBiBBQAAYIzAAgAAMEZgAQAAGCOwAAAAjBFYAAAAxggsAAAAYwQWAACAMQILAADAGIEFAABgjMACAAAwRmABAAAYI7AAAACMEVgAAADGCCwAAABjBBYAAIAxAgsAAMAYgQUAAGCMwAIAADBGYAEAABgjsAAAAIwRWAAAAMYILAAAAGMEFgAAgDECCwAAwBiBBQAAYIzAAgAAMEZgAQAAGCOwAAAAjBFYAAAAxggsAAAAYwQWAACAMQILAADAGIEFAABgjMACAAAwRmABAAAYI7AAAACMEVgAAADGCCwAAABjBBYAAIAxAgsAAMAYgQUAAGCMwAIAADBGYAEAABgjsAAAAIwRWAAAAMYILAAAAGMEFgAAgDECCwAAwBiBBQAAYIzAAgAAMEZgAQAAGCOwAAAAjBFYAAAAxggsAAAAYwQWAACAMQILAADAGIEFAABgjMACAAAwRmABAAAYI7AAAACMEVgAAADGCCwAAABjBBYAAIAxAgsAAMAYgQUAAGCMwAIAADBGYAEAABgjsAAAAIwRWAAAAMYILAAAAGMEFgAAgDECCwAAwBiBBQAAYIzAAgAAMEZgAQAAGCOwAAAAjBFYAAAAxggsAAAAYwQWAACAMQILAADAGIEFAABgjMACAAAwRmABAAAYI7AAAACMEVgAAADGCCwAAABjBBYAAIAxAgsAAMAYgQUAAGCMwAIAADBGYAEAABgjsAAAAIwRWAAAAMYILAAAAGMEFgAAgDECCwAAwBiBBQAAYIzAAgAAMEZgAQAAGCOwAAAAjBFYAAAAxggsAAAAYwQWAACAMQILAADAGIEFAABgjMACAAAwRmCFqMOHD2vGjBlyzgV7KAAA4CQRWCFq8uTJGj58uFatWhXsoQAAgJNEYIWowsJCSVJRUVGQRwIAAE4WgQUAAGCMwApxnIMFAED4IbBClMfjCfYQAADAKSKwAAAAjBFYIY5DhAAAhB8CCwAAwBiBFaI4BwsAgPBFYAEAABgjsEIc52ABABB+CKwQxSFCAADCF4EFAABgjMAKcRwiBAAg/BBYIYpDhAAAhC8CCwAAwBiBBQAAYIzACnGcgwUAQPghsEIU52ABABC+CCwAAABjBFaI4xAhAADhh8AKURwiBAAgfBFYAAAAxggsAAAAYwRWiOMcLAAAwg+BFaI4BwsAgPBFYAEAABgjsEIchwgBAAg/BFaI4hAhAADhi8ACAAAwRmCFOA4RAgAQfggsAAAAYwRWiOIcLAAAwheBBQAAYIzACnGcgwUAQPghsEIUhwgBAAhfBBYAAIAxAivEcYgQAIDwQ2CFKA4RAgAQvggsAAAAYwQWAACAMQIrxHEOFgAA4YfAClGcgwUAQPgisAAAAIwRWCGOQ4QAAIQfAitEcYgQAIDwRWCFKP5yBQBA+CKwQhyhBQBA+CGwAAAAjBFYIYpzsAAACF8EFgAAgDECK8RxDhYAAOGHwApRHCIEACB8EVgAAADGCKwQxyFCAADCD4EFAABgjMAKUZyDBQBA+CKwAAAAjBFYIY5zsAAACD8EVojiECEAAOGLwAIAADBGYIU4DhECABB+CKwQxSFCAADCF4EFAABgjMAKcRwiBAAg/BBYAAAAxgisEMU5WAAAhC8CCwAAwBiBFeI4BwsAgPBDYIUoDhECABC+CCwAAABjBFaI4xAhAADhh8ACAAAwRmCFKM7BAgAgfBFYAAAAxgisEMc5WAAAhB8CK0RxiBAAgPBFYCFs/PWvf9WSJUuCPQwAAE4oKtgDQMU4RPj/XX311ZJ4TgAAoY+/YAEAABgjsEIU52ABABC+CKwQx+EwAADCD4EFAABgjMAKURwiBAAgfBFYAAAAxgisEMc5WAAAhB8CK0RxiBAAgPBFYAEAABgjsEIchwgB4MyxatUqLV26NNjDgAFfYG3YsEEXXXSRMjMzlZWVpbVr1wa8wYwZM9S8eXM1a9ZMI0aMUHFxcdDmAQhvR44cUUlJSbCHEdJeeuklzZw5M9jDwGnSsWNHde/ePdjDgAFfYI0cOVK333671q9frzFjxmjo0KFlFs7OztbDDz+sZcuWaePGjcrPz9eLL74YlHm/dJyDVT3+9a9/afXq1cEeBv5PbGysunbtGuxhhLTbb79dt912W7CHETTZ2dn66aefgj0M4KRFSNKuXbu0YsUK3XLLLZKkfv36KS8vTxs3bvRb+K233lKfPn3UqFEjeTwe3XHHHZozZ05Q5v2S7NmzR0eOHAn2MM4Iv/rVr9ShQ4dgDwM/8/XXXwd7CNUiJiZGTzzxRMB5u3fv1uTJk6t8CsCZcApB06ZNdfnll+vHH39UkyZNdODAgWAPqUqcc9q+fXuwh1Ghqm5XTz31lCIjI0+4jqKioiqtJ9RFSVJeXp6Sk5MVFRUl6dhfT1JTU5Wbm6uMjAzfwrm5uUpLS/N9n56ertzc3KDMC+TIkSN+oVJQUCBJateunSIiQvd0s82bN0s6tiM5flr//v39pkNq1qxZSNwH7PwSX4+ioiKNGzdOL730Upl53vf3+PHjdfbZZ1fq/o5/jkpKSpSbm6vIyEi//eQv0ZdffqmWLVtKkhITE5Wenh7cAVWB97WPj49X/fr1y10uWO+J4uJi5eXlKTo6WikpKZW+3c9/jnn/XdFjCPRzr7qc6LmsWbOmJPtfWKLKm1GZFVW0zOmeJ0mPP/64Jk6cWGb6li1bKrxdqPBucJWdfqayeD54TkPLL/n1qOixHTlypNKPvbzljh49+ot+/o5XWlr6i3i8hYWFKiwsLHd+sB9jcXHxKY3h57epzO1Px+Os7Dr27t2rhIQEs/VGSVJKSop27NihkpISRUVFyTmnvLw8paam+i2cmpqqTZs2+b7PycnxLXO65wUybtw43X///b7vS0tLtW/fPiUmJnJO0xmssLBQKSkpysvLU3x8fLCHgyBiW4AX2wK8CgoKlJqaqnr16tnesfs/3bt3d7NmzXLOOTdv3jzXsWNHd7xNmza55ORkt2PHDldaWuquvfZaN23atKDMAyqroKDASXIFBQXBHgqCjG0BXmwL8KqubcF3YtL06dM1ffp0ZWZm6oknntCsWbMkScOHD9eCBQskHTtWOnHiRHXp0kUZGRlq0KCBRo4cGZR5AAAAocrj3BnwMRSc0QoLC5WQkKCCggIOBZzh2BbgxbYAr+raFiInTJgwwezegBAVGRmpHj16+D4pizMX2wK82BbgVR3bAn/BAgAAMBa6F4cCAAAIUwQWAACAMQILAADAGIGFsHD48GH17dtXmZmZateunS677DLf/5XZo0cPnXPOOWrfvr3at2+vp59+2ne7Xbt26YorrlDz5s3VunVrLV26tMrzEFzp6elq0aKF7/WeO3euJGnDhg266KKLlJmZqaysLK1du9Z3m+qYh+Dau3evbxto3769MjMzFRUVpX379rFPOAOMGjVK6enp8ng8WrNmjW/66d4PVLiPML2qFlBNDh065D744ANXWlrqnHNu2rRprnv37s65YxfJfeeddwLe7tZbb3Xjx493zjn3zTffuLPPPtsVFRVVaR6CKy0tza1evbrM9J49e/pdLPn888+v1nkILf/93//trrnmGucc+4QzwZIlS1xeXl6Z/cHp3g9UNI/AQlhavny5S0tLc85VvDOtVauW27Fjh+/7rKws98knn1RpHoIrUGDl5+e7OnXquOLiYuecc6Wlpa5hw4Zuw4YN1TIPoadVq1a+/QD7hDPHz/cHp3s/cKJ9BIcIEZaeffZZXXfddb7vx44dqzZt2mjAgAG+/9hz7969Ki4uVqNGjXzLpaenKzc395TnITQMHjxYbdq00W233abdu3crLy9PycnJvmvYeDwepaamKjc3t1rmIbR88cUX2rdvn6655hrfNPYJZ57TvR840T6CwELY+a//+i9t2LBBjz/+uCTp9ddf17p16/Ttt9/q4osv9tvJHv+ffLufXfbtVOchuJYuXapvv/1Wq1atUv369TVkyJCAy1X0mlXHPATPjBkzNHjwYN8POvYJ8Drd+4GfzyOwEFaeeuopvf322/rwww9Vs2ZNSVJKSoqkYzvAu+++W5s3b9bevXuVmJioyMhI7dy503f7nJwcpaamnvI8BJ/3dYiOjtZ9992nZcuWKSUlRTt27FBJSYmkYzu5vLw8paamVss8hI6ffvpJf/nLXzRs2DDfNPYJZ6bTvR840T6CwELYmDp1qubMmaNPPvlEdevWlSSVlJQoPz/ft8z8+fPVsGFDJSYmSpJuuOEGvfDCC5Kk5cuXa9u2berevXuV5iF4/v3vf+vAgQO+7+fMmaPzzjtPSUlJ6tChg2bPni3p2HbQpEkTZWRkVMs8hI65c+eqXbt2atmypST2CWey070fOOE+olrOOgOM5eXlOUmuadOmrl27dq5du3buggsucD/99JPr2LGja926tWvbtq3r1auXW7Nmje92O3fudJdddpnLyMhw5557rvvss8+qPA/Bs2nTJte+fXvXpk0b17p1a9enTx+XnZ3tnHNu3bp1rlOnTq558+auY8eO7ttvv/XdrjrmITR07tzZzZw50/c9+4Qzw+233+7OPvtsFxkZ6ZKSklyzZs2cc6d/P1DRPP4vQgAAAGMcIgQAADD2/wBbTiPUH9jYlQAAAABJRU5ErkJggg==\" />"
      ]
     },
     "execution_count": 3,
     "metadata": {},
     "output_type": "execute_result"
    }
   ],
   "source": [
    "@time dnorm, als= errHam(100_000);\n",
    "plot(eachindex(dnorm), dnorm, title = \"Compatibility Hamiltonian vs Eqs of motion\")"
   ]
  },
  {
   "cell_type": "code",
   "execution_count": 4,
   "metadata": {
    "collapsed": false
   },
   "outputs": [
    {
     "data": {
      "text/plain": [
       "q2sign (generic function with 1 method)"
      ]
     },
     "execution_count": 4,
     "metadata": {},
     "output_type": "execute_result"
    }
   ],
   "source": [
    "function q2sign(xold, x0, tol)\n",
    "    if abs(xold[3]) < tol\n",
    "        sq2o = 0\n",
    "    else\n",
    "        sq2o = sign(xold[3])\n",
    "    end\n",
    "    \n",
    "    if abs(x0[3]) < tol\n",
    "        sq2 = 0\n",
    "    else\n",
    "        sq2 = sign(x0[3])\n",
    "    end\n",
    "    if abs(xold[5]) < tol\n",
    "        sp2o = 0\n",
    "    else\n",
    "        sp2o = sign(xold[5])\n",
    "    end\n",
    "    \n",
    "    if abs(x0[5]) < tol\n",
    "        sp2 = 0\n",
    "    else\n",
    "        sp2 = sign(x0[5])\n",
    "    end\n",
    "    return sq2o, sq2, sp2o, sp2\n",
    "end\n",
    "    "
   ]
  },
  {
   "cell_type": "code",
   "execution_count": 5,
   "metadata": {
    "collapsed": false
   },
   "outputs": [
    {
     "data": {
      "text/plain": [
       "taylorintegps (generic function with 1 method)"
      ]
     },
     "execution_count": 5,
     "metadata": {},
     "output_type": "execute_result"
    }
   ],
   "source": [
    "###Implementamos nuevo código \n",
    "\n",
    "function taylorintegps{T<:Number}(f!, q0::Array{T,1}, t0::T, tmax::T,\n",
    "    order::Int, abstol::T; maxsteps::Int=5000, tol = 1e-20, tsteps = 1000)\n",
    "\n",
    "    # Allocation\n",
    "    const tv = Array{T}(maxsteps+1)\n",
    "    dof = length(q0)\n",
    "    const xv = Array{T}(dof, maxsteps+1)\n",
    "    const vT = zeros(T, order+1)\n",
    "    vT[2] = one(T)\n",
    "\n",
    "    # Initialize the vector of Taylor1 expansions\n",
    "    const x = Array{Taylor1{T}}(dof)\n",
    "    const dx = Array{Taylor1{T}}(dof)\n",
    "    const xaux = Array{Taylor1{T}}(dof)\n",
    "    for i in eachindex(q0)\n",
    "        @inbounds x[i] = Taylor1( q0[i], order )\n",
    "    end\n",
    "\n",
    "    # Initial conditions\n",
    "    @inbounds tv[1] = t0\n",
    "    @inbounds xv[:,1] .= q0\n",
    "    x0 = copy(q0)\n",
    "\n",
    "    # Integration\n",
    "    \n",
    "    nsteps = 1\n",
    "    #sum1 = q0[3]/maxsteps\n",
    "    δtn = Inf\n",
    "    while t0 < tmax\n",
    "        xold = copy(x0)\n",
    "        δt = TaylorIntegration.taylorstep!(f!, x, dx, xaux, t0, tmax, x0, order, abstol, vT)\n",
    "        sq2o, sq2, sp2o, sp2 = q2sign(xold, x0, tol)\n",
    "        steps1 = 0\n",
    "        x00 = copy(x0)\n",
    "        bool1 = false\n",
    "        \n",
    "        while sq2o*sq2 == -1 || (sp2o*sp2 == -1 && abs(xold[3]) < tol)\n",
    "            bool1 = true\n",
    "            q2T = x[3]\n",
    "            \n",
    "            dq2T = derivative(q2T)\n",
    "            δtn = copy(δt)\n",
    "            for nc in 1:20\n",
    "                δtn = δtn - evaluate(q2T, δtn)/evaluate(dq2T, δtn)\n",
    "            end\n",
    "            \n",
    "            evaluate!(x, δtn, x0)\n",
    "            sq2o, sq2, sp2o, sp2 = q2sign(xold, x0, tol)\n",
    "            steps1 += 1\n",
    "            \n",
    "            if steps1  ≥ tsteps\n",
    "                break\n",
    "            end\n",
    "        end\n",
    "            \n",
    "        if bool1 == true\n",
    "            nsteps += 1\n",
    "            @inbounds tv[nsteps] = t0 + δtn\n",
    "            @inbounds xv[:,nsteps] .= x0\n",
    "            x0 = x00\n",
    "        end\n",
    "        if nsteps >= maxsteps\n",
    "            warn(\"\"\"\n",
    "            Maximum number of integration steps reached; exiting.\n",
    "            \"\"\")\n",
    "            break\n",
    "        end\n",
    "        \n",
    "        for i in eachindex(x0)\n",
    "            @inbounds x[i][1] = x0[i]\n",
    "        end\n",
    "        t0 += δt\n",
    "        nsteps += 1\n",
    "        @inbounds tv[nsteps] = t0\n",
    "        @inbounds xv[:,nsteps] .= x0\n",
    "        if nsteps >= maxsteps\n",
    "            warn(\"\"\"\n",
    "            Maximum number of integration steps reached; exiting.\n",
    "            \"\"\")\n",
    "            break\n",
    "        end\n",
    "    end\n",
    "\n",
    "    return view(tv,1:nsteps), view(transpose(xv),1:nsteps,:)\n",
    "end"
   ]
  },
  {
   "cell_type": "code",
   "execution_count": 6,
   "metadata": {
    "collapsed": false
   },
   "outputs": [
    {
     "data": {
      "text/plain": [
       "5-element Array{Float64,1}:\n",
       " 0.0    \n",
       " 1.41421\n",
       " 0.0    \n",
       " 0.0    \n",
       " 4.0    "
      ]
     },
     "execution_count": 6,
     "metadata": {},
     "output_type": "execute_result"
    }
   ],
   "source": [
    "c1 = condini(2.0, 0.0)"
   ]
  },
  {
   "cell_type": "code",
   "execution_count": 7,
   "metadata": {
    "collapsed": false
   },
   "outputs": [
    {
     "name": "stderr",
     "output_type": "stream",
     "text": [
      "\u001b[1m\u001b[31mWARNING: Maximum number of integration steps reached; exiting.\u001b[0m\n"
     ]
    },
    {
     "name": "stdout",
     "output_type": "stream",
     "text": [
      "  0.056984 seconds (237.59 k allocations: 18.415 MB, 14.23% gc time)\n"
     ]
    }
   ],
   "source": [
    "t1, x1 = taylorinteg(undrivenHelium!, c1, t0, 1.0, order, abs_tol, maxsteps=100)\n",
    "@time t1, x1 = taylorinteg(undrivenHelium!, c1, t0, 15.0, order, abs_tol, maxsteps=100);"
   ]
  },
  {
   "cell_type": "code",
   "execution_count": 8,
   "metadata": {
    "collapsed": false
   },
   "outputs": [
    {
     "name": "stdout",
     "output_type": "stream",
     "text": [
      "  0.019358 seconds (217.67 k allocations: 16.991 MB, 40.15% gc time)\n"
     ]
    },
    {
     "name": "stderr",
     "output_type": "stream",
     "text": [
      "\u001b[1m\u001b[31mWARNING: Maximum number of integration steps reached; exiting.\u001b[0m\n"
     ]
    }
   ],
   "source": [
    "t2, x2 = taylorintegps(undrivenHelium!, c1, t0, 1.0, order, abs_tol, maxsteps=100)\n",
    "@time t2, x2 = taylorintegps(undrivenHelium!, c1, t0, 15.0, order, abs_tol, maxsteps=100);"
   ]
  },
  {
   "cell_type": "code",
   "execution_count": 9,
   "metadata": {
    "collapsed": false
   },
   "outputs": [
    {
     "data": {
      "text/plain": [
       "100×5 SubArray{Float64,2,Array{Float64,2},Tuple{UnitRange{Int64},Colon},false}:\n",
       " 0.0          1.41421   0.0          0.0           4.0    \n",
       " 0.000868728  1.41421   0.13755     -0.000607237   3.99044\n",
       " 0.00619026   1.41421   0.264338    -0.00418633    3.96363\n",
       " 0.0182472    1.4142    0.378248    -0.0117006     3.9222 \n",
       " 0.0381527    1.41416   0.482377    -0.0226595     3.8661 \n",
       " 0.0689987    1.41404   0.585547    -0.0364233     3.78744\n",
       " 0.102864     1.41386   0.666367    -0.0471018     3.70361\n",
       " 0.140687     1.41362   0.736571    -0.0533288     3.60853\n",
       " 0.182807     1.41334   0.799936    -0.0526527     3.49782\n",
       " 0.231416     1.41305   0.860396    -0.040875      3.36089\n",
       " 0.27687      1.41288   0.908224    -0.017945      3.2216 \n",
       " 0.323787     1.41287   0.950896     0.0192841     3.06421\n",
       " 0.37228      1.41315   0.989232     0.073924      2.88479\n",
       " ⋮                                                        \n",
       " 7.24188      2.74799   1.05425      4.63614      -2.21791\n",
       " 7.43498      2.77743   0.93435      4.67338      -2.70815\n",
       " 7.58216      2.79961   0.79043      4.70017      -3.1342 \n",
       " 7.68816      2.81544   0.613111     4.71852      -3.50677\n",
       " 7.74378      2.8237    0.429203     4.72777      -3.767  \n",
       " 7.76766      2.82724   0.216811     4.73164      -3.94196\n",
       " 7.77109      2.82774   0.00829207   4.73219      -3.99992\n",
       " 7.77109      2.82774   0.0          4.73219      -4.0    \n",
       " 7.77461      2.82827  -0.218771     4.73275      -3.9409 \n",
       " 7.79911      2.83189  -0.432802     4.73672      -3.76295\n",
       " 7.86296      2.84129  -0.633196     4.74729      -3.47128\n",
       " 7.96448      2.85617  -0.795986     4.7646       -3.12043"
      ]
     },
     "execution_count": 9,
     "metadata": {},
     "output_type": "execute_result"
    }
   ],
   "source": [
    "x2"
   ]
  },
  {
   "cell_type": "code",
   "execution_count": 10,
   "metadata": {
    "collapsed": false
   },
   "outputs": [
    {
     "data": {
      "text/plain": [
       "(101,100)"
      ]
     },
     "execution_count": 10,
     "metadata": {},
     "output_type": "execute_result"
    }
   ],
   "source": [
    "length(t1), length(t2)"
   ]
  },
  {
   "cell_type": "code",
   "execution_count": 11,
   "metadata": {
    "collapsed": false
   },
   "outputs": [],
   "source": [
    "ene1 = zeros(t1)\n",
    "ene2 = zeros(t2)\n",
    "for j in eachindex(ene1)\n",
    "    ene1[j] = abs(regHam(x1[j,:]))\n",
    "end\n",
    "for j in eachindex(ene2)\n",
    "    ene2[j] = abs(regHam(x2[j,:]))\n",
    "end"
   ]
  },
  {
   "cell_type": "code",
   "execution_count": 12,
   "metadata": {
    "collapsed": false
   },
   "outputs": [
    {
     "data": {
      "text/html": [
       "<img src=\"data:image/png;base64,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\" />"
      ]
     },
     "execution_count": 12,
     "metadata": {},
     "output_type": "execute_result"
    }
   ],
   "source": [
    "plot(x1[:,1], ene1, title =L\"Absolute Error of Energy $q_1=2$\")\n",
    "plot!(x2[:,1], ene2, title =L\"Absolute Error of Energy $q_1=2$\",color=:red )\n",
    "xlabel!(L\"t\")\n",
    "ylabel!(L\"\\delta E\")\n",
    "#xlims!(0,5000)"
   ]
  },
  {
   "cell_type": "code",
   "execution_count": 13,
   "metadata": {
    "collapsed": false
   },
   "outputs": [
    {
     "data": {
      "text/html": [
       "<img src=\"data:image/png;base64,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\" />"
      ]
     },
     "execution_count": 13,
     "metadata": {},
     "output_type": "execute_result"
    }
   ],
   "source": [
    "plot(x2[:,1], ene2/eps(), title =L\"Absolute Error of Energy $q_1=2$\")\n",
    "xlabel!(L\"t\")\n",
    "ylabel!(L\"\\delta E\")\n",
    "xlims!(0,5000)"
   ]
  },
  {
   "cell_type": "code",
   "execution_count": 14,
   "metadata": {
    "collapsed": false
   },
   "outputs": [
    {
     "data": {
      "text/plain": [
       "1.0658141036401503e-14"
      ]
     },
     "execution_count": 14,
     "metadata": {},
     "output_type": "execute_result"
    }
   ],
   "source": [
    "maximum(ene1)"
   ]
  },
  {
   "cell_type": "code",
   "execution_count": 15,
   "metadata": {
    "collapsed": false
   },
   "outputs": [
    {
     "data": {
      "text/plain": [
       "psundriven (generic function with 2 methods)"
      ]
     },
     "execution_count": 15,
     "metadata": {},
     "output_type": "execute_result"
    }
   ],
   "source": [
    "function psundriven(x10::Float64, px10::Float64, tol::Float64 = 1e-20)\n",
    "    c1 = condini(x10, px10)\n",
    "    t, x = taylorintegps(undrivenHelium!, c1, t0, 100.0, order, abs_tol)\n",
    "    ps = zeros(x)\n",
    "    ts = zeros(t)\n",
    "    count = 0\n",
    "    for j in eachindex(ts)\n",
    "        if abs(x[j,3]) < tol\n",
    "            count += 1\n",
    "            ts[count] = t[j]\n",
    "            ps[count, :] = x[j, :]\n",
    "        end\n",
    "    end\n",
    "    return ps[1:count, :], t, x\n",
    "end"
   ]
  },
  {
   "cell_type": "code",
   "execution_count": 18,
   "metadata": {
    "collapsed": false
   },
   "outputs": [
    {
     "name": "stderr",
     "output_type": "stream",
     "text": [
      "WARNING: Method definition nombret(Int64) in module Main at In[16]:2 overwritten at In[18]:2.\n",
      "WARNING: Method definition nombreps(Int64) in module Main at In[16]:3 overwritten at In[18]:3.\n",
      "WARNING: Method definition nombreq(Int64) in module Main at In[16]:4 overwritten at In[18]:4.\n",
      "WARNING: Method definition nombrexs(Int64) in module Main at In[16]:5 overwritten at In[18]:5.\n",
      "WARNING: Method definition nombrevxs(Int64) in module Main at In[16]:6 overwritten at In[18]:6.\n",
      "WARNING: Method definition nombreys(Int64) in module Main at In[16]:7 overwritten at In[18]:7.\n",
      "WARNING: Method definition nombrevys(Int64) in module Main at In[16]:8 overwritten at In[18]:8.\n"
     ]
    },
    {
     "data": {
      "text/plain": [
       "ks (generic function with 1 method)"
      ]
     },
     "execution_count": 18,
     "metadata": {},
     "output_type": "execute_result"
    }
   ],
   "source": [
    "#Haremos malavares con metaprogramming para ver varias órbitas\n",
    "nombret(n::Int) = Symbol( string(\"t\", n) )\n",
    "nombreps(n::Int) = Symbol( string(\"ps\", n) )\n",
    "nombreq(n::Int) = Symbol( string(\"q\", n) )\n",
    "nombrexs(n::Int) = Symbol( string(\"xs\", n) )\n",
    "nombrevxs(n::Int) = Symbol( string(\"vxs\", n) )\n",
    "nombreys(n::Int) = Symbol( string(\"ys\", n) )\n",
    "nombrevys(n::Int) = Symbol( string(\"vys\", n) )\n",
    "\n",
    "function orbits(nmin, rs = 2:10)\n",
    "    N = length(rs)\n",
    "    # Checo que `n` sea >= 1\n",
    "    @assert N >= 0  \n",
    "\n",
    "    for j = nmin:(N+nmin - 1)\n",
    "        ex1 = quote \n",
    "            $(nombreps(j)), $(nombret(j)), $(nombreq(j))  = \n",
    "                psundriven(Float64($(rs[j])), 0.0)\n",
    "             end\n",
    "        ex2 = quote \n",
    "            $(nombrexs(j)) = map(ks, $(nombreps(j))[:,2])*0.8/1.8\n",
    "             end\n",
    "        \n",
    "        ex3 = quote \n",
    "                 $(nombrevxs(j)) =  \n",
    "            Float64[ksv($(nombreps(j))[k,2], $(nombreps(j))[k, 4]) \n",
    "                 for k in eachindex($(nombreps(j))[:, 4])]*0.8/1.8\n",
    "             end\n",
    "        ex4 = quote \n",
    "            $(nombreys(j)) = map(ks, $(nombreq(j))[:,3])*0.8/1.8\n",
    "             end\n",
    "        \n",
    "        ex5 = quote \n",
    "            $(nombrevys(j)) =  \n",
    "                 Float64[ksv($(nombreq(j))[k,3], $(nombreq(j))[k, 5]) \n",
    "                 for k in eachindex($(nombret(j)))]*0.8/1.8\n",
    "             end\n",
    "        eval(ex1)\n",
    "        eval(ex2)\n",
    "        eval(ex3)\n",
    "        eval(ex4)\n",
    "        eval(ex5)\n",
    "    end\n",
    "end\n",
    "\n",
    "function plottingps(nmax,xmin::Float64=0.0, xmax::Float64=20.0, \n",
    "    ymin::Float64=-1.0, ymax::Float64=1.0)\n",
    "    scatter(xs1, vxs1, label = L\"q = 2\", title = L\"Poincaré Section $Z = 2$,  $r_{2_0} =0$\")\n",
    "    for j in 2:nmax\n",
    "        ex = quote\n",
    "            scatter!($(nombrexs(j)), $(nombrevxs(j)))\n",
    "        end\n",
    "        eval(ex)\n",
    "    end\n",
    "    xaxis!([0,20])\n",
    "    xlabel!(L\"x\")\n",
    "    ylabel!(L\"p_x\")\n",
    "    yaxis!([ymin, ymax])\n",
    "    xaxis!([xmin, xmax])\n",
    "end\n",
    "\n",
    "function ksv(Q, P)\n",
    "    v₁ = P/Q\n",
    "    return v₁\n",
    "end\n",
    "ks(Q) = Q^2"
   ]
  },
  {
   "cell_type": "code",
   "execution_count": 19,
   "metadata": {
    "collapsed": false
   },
   "outputs": [
    {
     "name": "stderr",
     "output_type": "stream",
     "text": [
      "\u001b[1m\u001b[31mWARNING: Maximum number of integration steps reached; exiting.\u001b[0m\n",
      "\u001b[1m\u001b[31mWARNING: Maximum number of integration steps reached; exiting.\u001b[0m\n",
      "\u001b[1m\u001b[31mWARNING: Maximum number of integration steps reached; exiting.\u001b[0m\n",
      "\u001b[1m\u001b[31mWARNING: Maximum number of integration steps reached; exiting.\u001b[0m\n",
      "\u001b[1m\u001b[31mWARNING: Maximum number of integration steps reached; exiting.\u001b[0m\n",
      "\u001b[1m\u001b[31mWARNING: Maximum number of integration steps reached; exiting.\u001b[0m\n",
      "\u001b[1m\u001b[31mWARNING: Maximum number of integration steps reached; exiting.\u001b[0m\n",
      "\u001b[1m\u001b[31mWARNING: Maximum number of integration steps reached; exiting.\u001b[0m\n",
      "\u001b[1m\u001b[31mWARNING: Maximum number of integration steps reached; exiting.\u001b[0m\n",
      "\u001b[1m\u001b[31mWARNING: Maximum number of integration steps reached; exiting.\u001b[0m\n",
      "\u001b[1m\u001b[31mWARNING: Maximum number of integration steps reached; exiting.\u001b[0m\n",
      "\u001b[1m\u001b[31mWARNING: Maximum number of integration steps reached; exiting.\u001b[0m\n",
      "\u001b[1m\u001b[31mWARNING: Maximum number of integration steps reached; exiting.\u001b[0m\n",
      "\u001b[1m\u001b[31mWARNING: Maximum number of integration steps reached; exiting.\u001b[0m\n",
      "\u001b[1m\u001b[31mWARNING: Maximum number of integration steps reached; exiting.\u001b[0m\n",
      "\u001b[1m\u001b[31mWARNING: Maximum number of integration steps reached; exiting.\u001b[0m\n"
     ]
    },
    {
     "name": "stdout",
     "output_type": "stream",
     "text": [
      " 57.298441 seconds (720.55 M allocations: 54.323 GB, 26.47% gc time)\n"
     ]
    }
   ],
   "source": [
    "@time orbits(1,2:0.1:10)\n",
    "NM = length(2:0.1:10);"
   ]
  },
  {
   "cell_type": "code",
   "execution_count": 28,
   "metadata": {
    "collapsed": false
   },
   "outputs": [
    {
     "name": "stdout",
     "output_type": "stream",
     "text": [
      "  0.079228 seconds (186.86 k allocations: 7.934 MB)\n"
     ]
    },
    {
     "data": {
      "text/html": [
       "<img src=\"data:image/png;base64,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\" />"
      ]
     },
     "execution_count": 28,
     "metadata": {},
     "output_type": "execute_result"
    }
   ],
   "source": [
    "@time plottingps(NM, 2.57, 2.59, -0.01, 0.01)"
   ]
  }
 ],
 "metadata": {
  "kernelspec": {
   "display_name": "Julia 0.5.3-pre",
   "language": "julia",
   "name": "julia-0.5"
  },
  "language_info": {
   "file_extension": ".jl",
   "mimetype": "application/julia",
   "name": "julia",
   "version": "0.5.3"
  }
 },
 "nbformat": 4,
 "nbformat_minor": 0
}
