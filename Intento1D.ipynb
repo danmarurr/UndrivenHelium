{
 "cells": [
  {
   "cell_type": "code",
   "execution_count": 1,
   "metadata": {
    "collapsed": false
   },
   "outputs": [
    {
     "data": {
      "text/plain": [
       "Plots.PyPlotBackend()"
      ]
     },
     "execution_count": 1,
     "metadata": {},
     "output_type": "execute_result"
    }
   ],
   "source": [
    "using Plots, TaylorSeries\n",
    "pyplot(legend = :false)"
   ]
  },
  {
   "cell_type": "code",
   "execution_count": 2,
   "metadata": {
    "collapsed": false
   },
   "outputs": [
    {
     "data": {
      "text/plain": [
       "1.0e-20"
      ]
     },
     "execution_count": 2,
     "metadata": {},
     "output_type": "execute_result"
    }
   ],
   "source": [
    "const λ = 1.0\n",
    "const Z = 2.0\n",
    "const _ordenTaylor = 20\n",
    "const _epsAbs = 1.0e-20"
   ]
  },
  {
   "cell_type": "code",
   "execution_count": 3,
   "metadata": {
    "collapsed": false
   },
   "outputs": [
    {
     "data": {
      "text/plain": [
       "stepsize (generic function with 1 method)"
      ]
     },
     "execution_count": 3,
     "metadata": {},
     "output_type": "execute_result"
    }
   ],
   "source": [
    "# Returns stepsize of the integration and a vector with the updated values of the dependent\n",
    "# variables\n",
    "function taylorStepper{T<:Real}( jetEqs::Function, vec0::Array{T,1} )\n",
    "    \n",
    "    n = length( vec0 )\n",
    "\n",
    "    vec0T = Array(Taylor1{T},n)\n",
    "    @simd for i in eachindex(vec0)\n",
    "        @inbounds vec0T[i] = Taylor1([vec0[i]], _ordenTaylor)\n",
    "    end\n",
    "\n",
    "    # Jets\n",
    "    vec1T = jetEqs( vec0 )\n",
    "    \n",
    "    # Step-size\n",
    "    hh = Inf\n",
    "    for i in eachindex(vec1T)\n",
    "        @inbounds h1 = stepsize( vec1T[i], _epsAbs )\n",
    "        hh = min( hh, h1 )\n",
    "    end\n",
    "    \n",
    "    # Values at t0+h\n",
    "    @simd for i in eachindex(vec0)\n",
    "        @inbounds vec0[i] = evaluate( vec1T[i], hh )\n",
    "    end\n",
    "    \n",
    "    return hh, vec0\n",
    "end\n",
    "\n",
    "# Returns the maximum step size from epsilon and the last two coefficients of the x-Taylor series \n",
    "function stepsize{T<:Real}(x::Taylor1{T}, epsilon::Float64)\n",
    "    ord = x.order\n",
    "    h = Inf\n",
    "    for k in [ord-1, ord]\n",
    "        kinv = 1.0/k\n",
    "        aux = abs( x.coeffs[k+1] )\n",
    "        h = min(h, (epsilon/aux)^kinv)\n",
    "    end\n",
    "    return h\n",
    "end"
   ]
  },
  {
   "cell_type": "markdown",
   "metadata": {},
   "source": [
    "Aquí implementaremos el hamiltoniano regularizado, con $E = -1$, debe cumplirse que $H = 0 \\ \\forall t$, primero, tomaremos una función auxiliar:"
   ]
  },
  {
   "cell_type": "code",
   "execution_count": 4,
   "metadata": {
    "collapsed": false
   },
   "outputs": [
    {
     "data": {
      "text/plain": [
       "ks (generic function with 1 method)"
      ]
     },
     "execution_count": 4,
     "metadata": {},
     "output_type": "execute_result"
    }
   ],
   "source": [
    "ks(Q) = Q^2"
   ]
  },
  {
   "cell_type": "code",
   "execution_count": 5,
   "metadata": {
    "collapsed": false
   },
   "outputs": [
    {
     "data": {
      "text/plain": [
       "regHam (generic function with 2 methods)"
      ]
     },
     "execution_count": 5,
     "metadata": {},
     "output_type": "execute_result"
    }
   ],
   "source": [
    "function regHam(Q₁, Q₂, P₁, P₂)\n",
    "    #Cantidades auxiliares\n",
    "    P₁² = P₁^2\n",
    "    P₂² = P₂^2\n",
    "    Q₁² = Q₁^2\n",
    "    Q₂² = Q₂^2\n",
    "    nf = abs(ks(Q₁) - ks(Q₂))\n",
    "    \n",
    "    H = 0.125*(P₁²*Q₂² + P₂²*Q₁²) - Z*(Q₁² + Q₂²) + Q₁²*Q₂²*(1.0 + 1.0/nf)\n",
    "    return H\n",
    "end\n"
   ]
  },
  {
   "cell_type": "markdown",
   "metadata": {},
   "source": [
    "Implementaremos también la función para regresar las velocidades al espacio fase de la configuración original... "
   ]
  },
  {
   "cell_type": "code",
   "execution_count": 6,
   "metadata": {
    "collapsed": false
   },
   "outputs": [
    {
     "data": {
      "text/plain": [
       "ksv (generic function with 1 method)"
      ]
     },
     "execution_count": 6,
     "metadata": {},
     "output_type": "execute_result"
    }
   ],
   "source": [
    "function ksv(Q, P)\n",
    "    v₁ = (Q*P)/(2*Q^2)\n",
    "    return v₁\n",
    "end"
   ]
  },
  {
   "cell_type": "code",
   "execution_count": 7,
   "metadata": {
    "collapsed": false
   },
   "outputs": [
    {
     "data": {
      "text/plain": [
       "jetundriven (generic function with 1 method)"
      ]
     },
     "execution_count": 7,
     "metadata": {},
     "output_type": "execute_result"
    }
   ],
   "source": [
    "function jetundriven{T<:Real}( vec::Array{T,1} )\n",
    "\n",
    "    tT = Taylor1(vec[1], _ordenTaylor)\n",
    "    Q1T = Taylor1(vec[2], _ordenTaylor)\n",
    "    P1T = Taylor1(vec[3], _ordenTaylor)\n",
    "    Q2T = Taylor1(vec[4], _ordenTaylor)\n",
    "    P2T = Taylor1(vec[5], _ordenTaylor)\n",
    "    \n",
    "    # Auxiliary quantities\n",
    "    sQ1 = zeros( T, _ordenTaylor+1 )\n",
    "    sP1 = zeros( T, _ordenTaylor+1 )\n",
    "    sQ2 = zeros( T, _ordenTaylor+1 )\n",
    "    sP2 = zeros( T, _ordenTaylor+1 )\n",
    "    f1 = zeros( T, _ordenTaylor+1 )\n",
    "    f12 = zeros( T, _ordenTaylor+1 )\n",
    "    nfQ = zeros( T, _ordenTaylor+1 )\n",
    "    rnfQ = zeros( T, _ordenTaylor+1 )\n",
    "    n3fQ = zeros( T, _ordenTaylor+1 )\n",
    "\n",
    "    dotQ1 = zeros( T, _ordenTaylor+1 )\n",
    "    dotP1 = zeros( T, _ordenTaylor+1 )\n",
    "    dotQ2 = zeros( T, _ordenTaylor+1 )\n",
    "    dotP2 = zeros( T, _ordenTaylor+1 )\n",
    "        \n",
    "    s11P1 = zeros( T, _ordenTaylor+1 )\n",
    "    s1P1 = zeros( T, _ordenTaylor+1 )\n",
    "    P1d1 = zeros( T, _ordenTaylor+1 )\n",
    "    s12P1 = zeros( T, _ordenTaylor+1 )\n",
    "    s2m2P1 = zeros( T, _ordenTaylor+1 )\n",
    "    P1d2 = zeros( T, _ordenTaylor+1 )\n",
    "    s2P1 = zeros( T, _ordenTaylor+1 )\n",
    "    \n",
    "    \n",
    "    s11P2 = zeros( T, _ordenTaylor+1 )\n",
    "    P2d1 = zeros( T, _ordenTaylor+1 )\n",
    "    s1P2 = zeros( T, _ordenTaylor+1 )\n",
    "    s12P2 = zeros( T, _ordenTaylor+1 )\n",
    "    s2m2P2 = zeros( T, _ordenTaylor+1 )\n",
    "    P2d2 = zeros( T, _ordenTaylor+1 )\n",
    "    s2P2 = zeros( T, _ordenTaylor+1 )\n",
    "    \n",
    "    # Now the implementation\n",
    "    for k = 0:_ordenTaylor-1\n",
    "        knext = k+1\n",
    "        # The right-hand size of the eqs of motion\n",
    "        # This is more adpated for this problem, and avoids many superflous operations\n",
    "        #@show \"That's ok\"\n",
    "        sQ1[knext] = TaylorSeries.squareHomogCoef(k, Q1T.coeffs)\n",
    "        sP1[knext] = TaylorSeries.squareHomogCoef(k, P1T.coeffs)\n",
    "        sQ2[knext] = TaylorSeries.squareHomogCoef(k, Q2T.coeffs)\n",
    "        sP2[knext] = TaylorSeries.squareHomogCoef(k, P2T.coeffs)\n",
    "        \n",
    "        f1[knext] = sQ1[knext] - sQ2[knext]  \n",
    "        f12[knext] = TaylorSeries.squareHomogCoef(k, f1)\n",
    "        nfQ[knext] = TaylorSeries.powHomogCoef(k, f12, 0.5, nfQ, 0)\n",
    "        n3fQ[knext] = TaylorSeries.powHomogCoef(k, f12, 1.5, n3fQ, 0)\n",
    "        n2Qs[knext] = TaylorSeries.mulHomogCoef(k, sQ1, sQ2)\n",
    "        \n",
    "        P1d1[knext] = TaylorSeries.divHomogCoef(k, sQ2, nfQ, P1d1, 0)\n",
    "        s11P1[knext] = -0.125*sP2[knext] + Z - P1d1[knext] - sQ2[knext]\n",
    "        s1P1[knext] = 2.0*TaylorSeries.mulHomogCoef(k, Q1T.coeffs, s11P1)\n",
    "        P1d2[knext] = TaylorSeries.divHomogCoef(k, f1, n3fQ, P1d2, 0)\n",
    "        s2m2P1[knext] = 2*TaylorSeries.mulHomogCoef(k, P1d2, Q1T.coeffs)\n",
    "        s2P1[knext] = TaylorSeries.mulHomogCoef(k, n2Qs, s2m2P1)\n",
    "        \n",
    "        \n",
    "        \n",
    "        P2d1[knext] = TaylorSeries.divHomogCoef(k, sQ1, nfQ, P2d1, 0)\n",
    "        s11P2[knext] = -0.125*sP1[knext] + Z - P2d1[knext] - sQ1[knext]\n",
    "        s1P2[knext] = 2.0*TaylorSeries.mulHomogCoef(k, Q2T.coeffs, s11P2)\n",
    "        s2m2P2[knext] = -2*TaylorSeries.mulHomogCoef(k, P1d2, Q21T.coeffs)\n",
    "        s2P2[knext] = TaylorSeries.mulHomogCoef(k, n2Qs, s2m2P2)\n",
    "        \n",
    "    \n",
    "        dotQ1[knext] = 0.25*TaylorSeries.mulHomogCoef(k,sQ2, P1T.coeffs)\n",
    "        dotP1[knext] = s1P1[knext] + s2P1[knext]\n",
    "        dotQ2[knext] = 0.25*TaylorSeries.mulHomogCoef(k,n2Q1, P2T.coeffs)        \n",
    "        dotP2[knext] = s1P2[knext] + s2P2[knext]             \n",
    "        dott[knext] = n2Qs[knext]\n",
    "        \n",
    "        #@show \"That's ok\"\n",
    "        Q1T.coeffs[knext + 1] = dotQ1[knext]/knext        \n",
    "        P1T.coeffs[knext + 1] = dotP1[knext]/knext        \n",
    "        Q2T.coeffs[knext + 1] = dotQ2[knext]/knext        \n",
    "        P2T.coeffs[knext + 1] = dotP2[knext]/knext        \n",
    "        tT.coeffs[knext + 1] = dott[knext]/knext\n",
    "    end\n",
    "    \n",
    "    return Taylor1[tT, Q1T, P1T, Q2T, P2]\n",
    "end"
   ]
  },
  {
   "cell_type": "code",
   "execution_count": 8,
   "metadata": {
    "collapsed": false
   },
   "outputs": [
    {
     "data": {
      "text/plain": [
       "undrivenIntegration (generic function with 1 method)"
      ]
     },
     "execution_count": 8,
     "metadata": {},
     "output_type": "execute_result"
    }
   ],
   "source": [
    "function undrivenIntegration(x10::Float64, px10::Float64, time_max::Float64, jetEqs::Function )\n",
    "    \n",
    "    Q₁, Q₂, P₁, P₂ = condini(x10, px10)\n",
    "    τ₀ = 0.0\n",
    "    t0 = 0.0\n",
    "    \n",
    "    ene0 = regHam(Q₁, Q₂, P₁, P₂)\n",
    "        \n",
    "    Q1v, Q2v, P1v, P2v = Float64[], Float64[], Float64[], Float64[]\n",
    "    tv, τv = Float64[], Float64[]\n",
    "    DeneV= Float64[]\n",
    "    push!(tv, t0)\n",
    "    push!(τv, τ₀)\n",
    "    push!(Q1v, Q₁)\n",
    "    push!(P1v, P₁)\n",
    "    push!(Q2v, Q₂)\n",
    "    push!(P2v, P₂)\n",
    "       \n",
    "    push!(DeneV, zero(Float64))\n",
    "    \n",
    "    # This is the main loop; we include a minimum step size for security\n",
    "    dτ = 1.0\n",
    "    while dτ < time_max && dτ>1.0e-8\n",
    "        #Preparamos el vector para integrar\n",
    "        temp1 = Float64[t0, Q₁ , Q₂, P₁, P₂,]\n",
    "        # Here we integrate\n",
    "        dτ, (t, Q1, P1, Q2, P2) = taylorStepper( jetEqs, temp1);\n",
    "        \n",
    "        τ₀ += dτ\n",
    "        push!(tv, t)\n",
    "        push!(τv, τ₀)\n",
    "        push!(Q1v, Q1)        \n",
    "        push!(P1v, P1)        \n",
    "        push!(Q2v, Q2)        \n",
    "        push!(P2v, P2)\n",
    "        eneEnd = regHam(Q1, P1, Q2, P2)\n",
    "        \n",
    "        dEne = abs(eneEnd)\n",
    "        \n",
    "        push!(DeneV, dEne)\n",
    "        temp1 = Float64[t, Q1, P1, Q2, P2]\n",
    "    end\n",
    "\n",
    "    return τv, tv, Q1v, P1v, Q2v, P2v, DeneV\n",
    "end"
   ]
  },
  {
   "cell_type": "markdown",
   "metadata": {},
   "source": [
    "Para la configuración de $Zee$ en 1D necesitamos que $y_1, y_2 = 0$; $p_{y_1}, p_{y_2} = 0$, además, necesitamos la condición de que la partícula 2 colisione con el núcleo, por lo que $x_2 = 0$ sobre las coordenadas $(\\mathbf{P}, \\mathbf{Q})$ implican que:\n",
    "\n",
    "\\begin{align}\n",
    "    x_1 = x_{1_0} &\\Leftrightarrow Q_{11}^2 - Q_{12}^2 = x_{1_0}\\\\\n",
    "    y_1 = 0 &\\Leftrightarrow 2Q_{11}Q_{12} = 0\\\\\n",
    "    x_2 = 0 &\\Leftrightarrow Q_{21}^2 - Q_{22}^2 = x_{2_0}\\\\\n",
    "    y_2 = 0 &\\Leftrightarrow 2Q_{21}Q_{22} = 0 \\\\\n",
    "    p_{x_1} = px_{1_0} &\\Leftrightarrow \\frac{Q_{11}P_{11} - Q_{12}P_{12}}{2R_1^2} = px_{1_0}\\\\\n",
    "    p_{y_1} = 0 &\\Leftrightarrow \\frac{Q_{12}P_{11} + Q_{11}P_{12}}{2R_1^2} = 0\\\\\n",
    "    p_{x_2} = px_{2_0} &\\Leftrightarrow \\frac{Q_{21}P_{21} - Q_{22}P_{22}}{2R_2^2} = px_{2_0}\\\\\n",
    "    p_{y_2} = 0 &\\Leftrightarrow \\frac{Q_{22}P_{21} + Q_{21}P_{22}}{2R_2^2} = 0\n",
    "\\end{align}\n",
    "\n",
    "\n",
    "A partir de esto, podemos concluir que:\n",
    "\n",
    "\\begin{align}\n",
    "    Q_{11} &= \\sqrt{x_{1_0}}\\\\\n",
    "    Q_{12} &= 0\\\\\n",
    "    Q_{21} &= 0\\\\\n",
    "    Q_{22} &= 0\\\\\n",
    "    P_{11} &= \\frac{2R_1^2px_{1_0}}{Q_{11}}\\\\\n",
    "    P_{12} &= 0\\\\\n",
    "    P_{22} &= 0\n",
    "\\end{align}\n",
    "\n",
    "Para las condiciones sobre los momento $P_{21} = 0$ de la partícula 2, debemos considerar la condición sobre la energía del sistema (considerando el hamiltoniano regularizado $H^{SC}$), pues recordemos que se debe cumplir que $H = 0$. Usando las condiciones ya encontradas se halla que debe cumplirse que $|P_2|^2 = Z = 2$, entonces:\n",
    "\n",
    "\\begin{align}\n",
    "    Q_{11} &= \\sqrt{x_{1_0}}\\\\\n",
    "    Q_{12} &= 0\\\\\n",
    "    Q_{21} &= 0\\\\\n",
    "    Q_{22} &= 0\\\\\n",
    "    P_{11} &= \\frac{2x_{1_0}p_{x_{1}}}{\\sqrt{x_{1_0}}}\\\\\n",
    "    P_{12} &= 0\\\\\n",
    "    P_{21} &= \\sqrt{Z}\\\\\n",
    "    P_{22} &= 0\n",
    "\\end{align}\n"
   ]
  },
  {
   "cell_type": "code",
   "execution_count": 9,
   "metadata": {
    "collapsed": false
   },
   "outputs": [
    {
     "data": {
      "text/plain": [
       "condini (generic function with 1 method)"
      ]
     },
     "execution_count": 9,
     "metadata": {},
     "output_type": "execute_result"
    }
   ],
   "source": [
    "function condini(x10::Float64, px10::Float64)\n",
    "    @assert x10 != 0\n",
    "    Q1 = sqrt(x10)\n",
    "    Q2 = 0.0\n",
    "    P1 = 2*x10*px10/sqrt(x10)    \n",
    "    P2 = sqrt(Z)    \n",
    "    return Q1, Q2, P1, P2\n",
    "end"
   ]
  },
  {
   "cell_type": "code",
   "execution_count": 10,
   "metadata": {
    "collapsed": false
   },
   "outputs": [
    {
     "data": {
      "text/plain": [
       "([0.83666,0.0],[0.0,0.0],[0.669328,0.0],[1.41421,0.0])"
      ]
     },
     "execution_count": 10,
     "metadata": {},
     "output_type": "execute_result"
    }
   ],
   "source": [
    "condini(0.7, 0.4)"
   ]
  },
  {
   "cell_type": "code",
   "execution_count": 11,
   "metadata": {
    "collapsed": false
   },
   "outputs": [
    {
     "ename": "LoadError",
     "evalue": "InterruptException:",
     "output_type": "error",
     "traceback": [
      "InterruptException:",
      "",
      " in vect(::Float64, ::Vararg{Float64,N}) at ./abstractarray.jl:21",
      " in macro expansion at ./In[3]:9 [inlined]",
      " in macro expansion at ./simdloop.jl:73 [inlined]",
      " in taylorStepper(::#jetundriven, ::Array{Float64,1}) at ./In[3]:8",
      " in undrivenIntegration(::Float64, ::Float64, ::Float64, ::Function) at ./In[8]:36"
     ]
    }
   ],
   "source": [
    "@time tv, τv, Q11v, Q12v, P11v, P12v, Q21v, Q22v, P21v, P22v, \n",
    "DeneV = undrivenIntegration(5.1, 1.4, 2.1, jetundriven)"
   ]
  }
 ],
 "metadata": {
  "kernelspec": {
   "display_name": "Julia 0.5.0",
   "language": "julia",
   "name": "julia-0.5"
  },
  "language_info": {
   "file_extension": ".jl",
   "mimetype": "application/julia",
   "name": "julia",
   "version": "0.5.0"
  }
 },
 "nbformat": 4,
 "nbformat_minor": 0
}
