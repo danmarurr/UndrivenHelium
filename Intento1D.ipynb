{
 "cells": [
  {
   "cell_type": "markdown",
   "metadata": {},
   "source": [
    "3655-9102-2UVYT3"
   ]
  },
  {
   "cell_type": "code",
   "execution_count": 1,
   "metadata": {
    "collapsed": false
   },
   "outputs": [
    {
     "data": {
      "text/plain": [
       "1.0e-20"
      ]
     },
     "execution_count": 1,
     "metadata": {},
     "output_type": "execute_result"
    }
   ],
   "source": [
    "const λ = 1.0\n",
    "const Z = 2.0\n",
    "const _ordenTaylor = 20\n",
    "const ɛ = 1.0e-20"
   ]
  },
  {
   "cell_type": "code",
   "execution_count": 2,
   "metadata": {
    "collapsed": false
   },
   "outputs": [
    {
     "data": {
      "text/plain": [
       "Plots.PyPlotBackend()"
      ]
     },
     "execution_count": 2,
     "metadata": {},
     "output_type": "execute_result"
    }
   ],
   "source": [
    "using Plots, TaylorSeries, LaTeXStrings\n",
    "pyplot(legend = :false, grid = :false)"
   ]
  },
  {
   "cell_type": "code",
   "execution_count": 32,
   "metadata": {
    "collapsed": false
   },
   "outputs": [
    {
     "name": "stderr",
     "output_type": "stream",
     "text": [
      "WARNING: Method definition taylorStepper(Function, Array{#T<:Real, 1}) in module Main at In[28]:5 overwritten at In[32]:5.\n",
      "WARNING: Method definition stepsize(TaylorSeries.Taylor1{#T<:Real}, Float64) in module Main at In[28]:32 overwritten at In[32]:32.\n",
      "WARNING: Method definition jetundriven(Array{#T<:Real, 1}) in module Main at In[28]:45 overwritten at In[32]:45.\n",
      "WARNING: Method definition condini(Float64, Float64) in module Main at In[28]:145 overwritten at In[32]:145.\n"
     ]
    },
    {
     "data": {
      "text/plain": [
       "condini (generic function with 1 method)"
      ]
     },
     "execution_count": 32,
     "metadata": {},
     "output_type": "execute_result"
    }
   ],
   "source": [
    "# Returns stepsize of the integration and a vector with the updated values of the dependent\n",
    "# variables\n",
    "function taylorStepper{T<:Real}( jetEqs::Function, vec0::Array{T,1} )\n",
    "    \n",
    "    n = length( vec0 )\n",
    "\n",
    "    vec0T = Array(Taylor1{T},n)\n",
    "    @simd for i in eachindex(vec0)\n",
    "        @inbounds vec0T[i] = Taylor1([vec0[i]], _ordenTaylor)\n",
    "    end\n",
    "\n",
    "    # Jets\n",
    "    vec1T = jetEqs( vec0 )\n",
    "    \n",
    "    # Step-size\n",
    "    hh = Inf\n",
    "    for i in eachindex(vec1T)\n",
    "        @inbounds h1 = stepsize( vec1T[i], ɛ )\n",
    "        hh = min( hh, h1 )\n",
    "    end\n",
    "    \n",
    "    # Values at t0+h\n",
    "    @simd for i in eachindex(vec0)\n",
    "        @inbounds vec0[i] = evaluate( vec1T[i], hh )\n",
    "    end\n",
    "    \n",
    "    return hh, vec0\n",
    "end\n",
    "\n",
    "# Returns the maximum step size from epsilon and the last two coefficients of the x-Taylor series \n",
    "function stepsize{T<:Real}(x::Taylor1{T}, epsilon::Float64)\n",
    "    ord = x.order\n",
    "    h = Inf\n",
    "    for k in [ord-1, ord]\n",
    "        kinv = 1.0/k\n",
    "        aux = abs( x.coeffs[k+1] )\n",
    "        h = min(h, (epsilon/aux)^kinv)\n",
    "    end\n",
    "    return h\n",
    "end\n",
    "\n",
    "\n",
    "function jetundriven{T<:Real}( vec::Array{T,1} )\n",
    "\n",
    "    tT = Taylor1(vec[1], _ordenTaylor)\n",
    "    Q1T = Taylor1(vec[2], _ordenTaylor)\n",
    "    P1T = Taylor1(vec[3], _ordenTaylor)\n",
    "    Q2T = Taylor1(vec[4], _ordenTaylor)\n",
    "    P2T = Taylor1(vec[5], _ordenTaylor)\n",
    "    \n",
    "    # Auxiliary quantities\n",
    "    sQ1 = zeros( T, _ordenTaylor+1 )\n",
    "    sP1 = zeros( T, _ordenTaylor+1 )\n",
    "    cQ1 = zeros( T, _ordenTaylor+1 )\n",
    "    cQ2 = zeros( T, _ordenTaylor+1 )\n",
    "    sQ2 = zeros( T, _ordenTaylor+1 )\n",
    "    sP2 = zeros( T, _ordenTaylor+1 )\n",
    "    f = zeros( T, _ordenTaylor+1 )\n",
    "    absf = zeros( T, _ordenTaylor+1 )\n",
    "    absf3 = zeros( T, _ordenTaylor+1 )\n",
    "    \n",
    "   \n",
    "    \n",
    "    \n",
    "    s11P1 = zeros( T, _ordenTaylor+1 )\n",
    "    s1P1 = zeros( T, _ordenTaylor+1 )\n",
    "    P1d1 = zeros( T, _ordenTaylor+1 )\n",
    "    s21P1 = zeros( T, _ordenTaylor+1 )\n",
    "    div2 = zeros( T, _ordenTaylor+1 )\n",
    "    s2P1 = zeros( T, _ordenTaylor+1 )\n",
    "        \n",
    "    s11P2 = zeros( T, _ordenTaylor+1 )\n",
    "    s1P2 = zeros( T, _ordenTaylor+1 )\n",
    "    P2d1 = zeros( T, _ordenTaylor+1 )\n",
    "    s21P2 = zeros( T, _ordenTaylor+1 )\n",
    "    s2P2 = zeros( T, _ordenTaylor+1 )\n",
    "    \n",
    "    \n",
    "    dotQ1 = zeros( T, _ordenTaylor+1 )\n",
    "    dotP1 = zeros( T, _ordenTaylor+1 )\n",
    "    dotQ2 = zeros( T, _ordenTaylor+1 )\n",
    "    dotP2 = zeros( T, _ordenTaylor+1 )\n",
    "    dott = zeros( T, _ordenTaylor+1 )\n",
    "    \n",
    "    \n",
    "    \n",
    "    # Now the implementation\n",
    "    for k = 0:_ordenTaylor-1\n",
    "        knext = k+1\n",
    "        # The right-hand size of the eqs of motion\n",
    "        # This is more adpated for this problem, and avoids many superflous operations\n",
    "           \n",
    "        sQ1[knext] = TaylorSeries.squareHomogCoef(k, Q1T.coeffs)\n",
    "        sP1[knext] = TaylorSeries.squareHomogCoef(k, P1T.coeffs)\n",
    "        sQ2[knext] = TaylorSeries.squareHomogCoef(k, Q2T.coeffs)\n",
    "        sP2[knext] = TaylorSeries.squareHomogCoef(k, P2T.coeffs)\n",
    "        cQ1[knext] = TaylorSeries.powHomogCoef(k, Q1T.coeffs, 3, cQ1, 0)\n",
    "        cQ2[knext] = TaylorSeries.powHomogCoef(k, Q2T.coeffs, 3, cQ2, 0)\n",
    "        \n",
    "               \n",
    "        \n",
    "        \n",
    "        f[knext] = sQ1[knext] - sQ2[knext]  \n",
    "        absf[knext] = sign(f[1])*f[knext]\n",
    "        absf3[knext] = TaylorSeries.powHomogCoef(k, f, 3, absf3, 0)\n",
    "        \n",
    "       \n",
    "        \n",
    "        \n",
    "        P1d1[knext] = TaylorSeries.divHomogCoef(k, sQ2, absf, P1d1, 0)\n",
    "        s11P1[knext] = -0.125*sP2[knext] + Z - P1d1[knext] - sQ2[knext]\n",
    "        s1P1[knext] = 2.0*TaylorSeries.mulHomogCoef(k, Q1T.coeffs, s11P1)\n",
    "        s21P1[knext] = 2.0*TaylorSeries.mulHomogCoef(k, cQ1, sQ2)\n",
    "        div2[knext] = TaylorSeries.divHomogCoef(k, f, absf3, div2, 0)\n",
    "        s2P1[knext] = TaylorSeries.mulHomogCoef(k, s21P1, div2)\n",
    "        \n",
    "        #@show -0.125*sP2[knext] + Z - P1d1[knext] - sQ2[knext], -0.125*sP2[knext]\n",
    "        \n",
    "        \n",
    "        P2d1[knext] = TaylorSeries.divHomogCoef(k, sQ1, absf, P2d1, 0)\n",
    "        s11P2[knext] = -0.125*sP1[knext] + Z - P2d1[knext] - sQ1[knext]\n",
    "        s1P2[knext] = 2.0*TaylorSeries.mulHomogCoef(k, Q2T.coeffs, s11P2)\n",
    "        s21P2[knext] = 2.0*TaylorSeries.mulHomogCoef(k, cQ2, sQ1)\n",
    "        s2P2[knext] = TaylorSeries.mulHomogCoef(k, s21P2, div2)\n",
    "    \n",
    "        \n",
    "        dotQ1[knext] = 0.25*TaylorSeries.mulHomogCoef(k,sQ2, P1T.coeffs)\n",
    "        dotP1[knext] = s1P1[knext] + s2P1[knext]\n",
    "        dotQ2[knext] = 0.25*TaylorSeries.mulHomogCoef(k,sQ1, P2T.coeffs)        \n",
    "        dotP2[knext] = s1P2[knext] - s2P2[knext]             \n",
    "        dott[knext] = TaylorSeries.mulHomogCoef(k, sQ1, sQ2)\n",
    "        \n",
    "        #@show \"That's ok\"\n",
    "        Q1T.coeffs[knext + 1] = dotQ1[knext]/knext        \n",
    "        P1T.coeffs[knext + 1] = dotP1[knext]/knext        \n",
    "        Q2T.coeffs[knext + 1] = dotQ2[knext]/knext        \n",
    "        P2T.coeffs[knext + 1] = dotP2[knext]/knext        \n",
    "        tT.coeffs[knext + 1] = dott[knext]/knext\n",
    "    end\n",
    "    \n",
    "    return Taylor1[tT, Q1T, P1T, Q2T, P2T]\n",
    "end\n",
    "#Creamos condiciones iniciales\n",
    "function condini(x10::Float64, px10::Float64)\n",
    "    @assert x10 != 0\n",
    "    Q1 = sqrt(x10)\n",
    "    Q2 = 0.0\n",
    "    P1 = px10*sqrt(x10)    \n",
    "    P2 = sqrt(8Z)    \n",
    "    return [0, Q1, P1, Q2, P2]\n",
    "end"
   ]
  },
  {
   "cell_type": "markdown",
   "metadata": {},
   "source": [
    "Aquí implementaremos el hamiltoniano regularizado, con $E = -1$, debe cumplirse que $H = 0 \\ \\forall t$, primero, tomaremos una función auxiliar:"
   ]
  },
  {
   "cell_type": "code",
   "execution_count": 30,
   "metadata": {
    "collapsed": false
   },
   "outputs": [
    {
     "data": {
      "text/plain": [
       "5-element Array{Float64,1}:\n",
       " 0.0    \n",
       " 1.09545\n",
       " 1.09545\n",
       " 0.0    \n",
       " 4.0    "
      ]
     },
     "execution_count": 30,
     "metadata": {},
     "output_type": "execute_result"
    }
   ],
   "source": [
    "v = condini(1.2, 1.0)"
   ]
  },
  {
   "cell_type": "code",
   "execution_count": 33,
   "metadata": {
    "collapsed": false
   },
   "outputs": [
    {
     "data": {
      "text/plain": [
       "5-element Array{TaylorSeries.Taylor1,1}:\n",
       "                                0.5759999999999995 t³ + NaN t⁴ + NaN t⁵ + NaN t⁶ + NaN t⁷ + NaN t⁸ + NaN t⁹ + NaN t¹⁰ + NaN t¹¹ + NaN t¹² + NaN t¹³ + NaN t¹⁴ + NaN t¹⁵ + NaN t¹⁶ + NaN t¹⁷ + NaN t¹⁸ + NaN t¹⁹ + NaN t²⁰ + 𝒪(t²¹)\n",
       "           1.0954451150103321 + 0.1314534138012398 t³ + NaN t⁴ + NaN t⁵ + NaN t⁶ + NaN t⁷ + NaN t⁸ + NaN t⁹ + NaN t¹⁰ + NaN t¹¹ + NaN t¹² + NaN t¹³ + NaN t¹⁴ + NaN t¹⁵ + NaN t¹⁶ + NaN t¹⁷ + NaN t¹⁸ + NaN t¹⁹ + NaN t²⁰ + 𝒪(t²¹)\n",
       "  1.0954451150103321 + 2.1908902300206643 t² + NaN t³ + NaN t⁴ + NaN t⁵ + NaN t⁶ + NaN t⁷ + NaN t⁸ + NaN t⁹ + NaN t¹⁰ + NaN t¹¹ + NaN t¹² + NaN t¹³ + NaN t¹⁴ + NaN t¹⁵ + NaN t¹⁶ + NaN t¹⁷ + NaN t¹⁸ + NaN t¹⁹ + NaN t²⁰ + 𝒪(t²¹)\n",
       "                        1.1999999999999997 t + NaN t³ + NaN t⁴ + NaN t⁵ + NaN t⁶ + NaN t⁷ + NaN t⁸ + NaN t⁹ + NaN t¹⁰ + NaN t¹¹ + NaN t¹² + NaN t¹³ + NaN t¹⁴ + NaN t¹⁵ + NaN t¹⁶ + NaN t¹⁷ + NaN t¹⁸ + NaN t¹⁹ + NaN t²⁰ + 𝒪(t²¹)\n",
       "                                4.0 + NaN t² + NaN t³ + NaN t⁴ + NaN t⁵ + NaN t⁶ + NaN t⁷ + NaN t⁸ + NaN t⁹ + NaN t¹⁰ + NaN t¹¹ + NaN t¹² + NaN t¹³ + NaN t¹⁴ + NaN t¹⁵ + NaN t¹⁶ + NaN t¹⁷ + NaN t¹⁸ + NaN t¹⁹ + NaN t²⁰ + 𝒪(t²¹)"
      ]
     },
     "execution_count": 33,
     "metadata": {},
     "output_type": "execute_result"
    }
   ],
   "source": [
    "jetundriven(v)"
   ]
  },
  {
   "cell_type": "code",
   "execution_count": 35,
   "metadata": {
    "collapsed": false
   },
   "outputs": [
    {
     "data": {
      "text/plain": [
       "(Inf,[NaN,NaN,NaN,NaN,NaN])"
      ]
     },
     "execution_count": 35,
     "metadata": {},
     "output_type": "execute_result"
    }
   ],
   "source": [
    "taylorStepper(jetundriven, v)"
   ]
  },
  {
   "cell_type": "code",
   "execution_count": 4,
   "metadata": {
    "collapsed": false
   },
   "outputs": [
    {
     "data": {
      "text/plain": [
       "ks (generic function with 1 method)"
      ]
     },
     "execution_count": 4,
     "metadata": {},
     "output_type": "execute_result"
    }
   ],
   "source": [
    "ks(Q) = Q^2"
   ]
  },
  {
   "cell_type": "code",
   "execution_count": 5,
   "metadata": {
    "collapsed": false
   },
   "outputs": [
    {
     "data": {
      "text/plain": [
       "regHam (generic function with 2 methods)"
      ]
     },
     "execution_count": 5,
     "metadata": {},
     "output_type": "execute_result"
    }
   ],
   "source": [
    "function regHam(t, Q₁, P₁, Q₂, P₂)\n",
    "    #Cantidades auxiliares\n",
    "    P₁² = P₁^2\n",
    "    P₂² = P₂^2\n",
    "    Q₁² = Q₁^2\n",
    "    Q₂² = Q₂^2\n",
    "    nf = sqrt(((Q₁)^2 - (Q₂)^2)^2)\n",
    "    \n",
    "    H = 0.125*(P₁²*Q₂² + P₂²*Q₁²) - Z*(Q₁² + Q₂²) + Q₁²*Q₂²*(1.0 + 1.0/nf)\n",
    "    return H\n",
    "end\n",
    "\n",
    "\n",
    "regHam(v) = regHam(v...)"
   ]
  },
  {
   "cell_type": "code",
   "execution_count": 19,
   "metadata": {
    "collapsed": false
   },
   "outputs": [
    {
     "data": {
      "text/plain": [
       "5-element Array{Float64,1}:\n",
       " 0.0    \n",
       " 2.32379\n",
       " 2.32379\n",
       " 0.0    \n",
       " 4.0    "
      ]
     },
     "execution_count": 19,
     "metadata": {},
     "output_type": "execute_result"
    }
   ],
   "source": [
    "v = condini(5.4,1.)"
   ]
  },
  {
   "cell_type": "code",
   "execution_count": 20,
   "metadata": {
    "collapsed": false
   },
   "outputs": [
    {
     "data": {
      "text/plain": [
       "(Inf,[NaN,NaN,NaN,NaN,NaN])"
      ]
     },
     "execution_count": 20,
     "metadata": {},
     "output_type": "execute_result"
    }
   ],
   "source": [
    "taylorStepper(jetundriven, v)"
   ]
  },
  {
   "cell_type": "code",
   "execution_count": 9,
   "metadata": {
    "collapsed": false
   },
   "outputs": [
    {
     "data": {
      "text/plain": [
       "errHam (generic function with 1 method)"
      ]
     },
     "execution_count": 9,
     "metadata": {},
     "output_type": "execute_result"
    }
   ],
   "source": [
    "var1 = set_variables(\"t q1 p1 q2 p2\", order = 1)\n",
    "function errHam(N::Int)\n",
    "    dQ1 = zeros(N)\n",
    "    dQ2 = zeros(N)\n",
    "    dP1 = zeros(N)\n",
    "    dP2 = zeros(N)\n",
    "    als = typeof(zeros(5))[]\n",
    "    for j in 1:N\n",
    "        al = 10*rand(5)\n",
    "        alt = al + var1\n",
    "        ene = regHam(alt)\n",
    "        ts, meq = taylorStepper(jetundriven, al)\n",
    "        \n",
    "        dQ1[j] = abs(meq[2] - ene.coeffs[2].coeffs[3])\n",
    "        dQ2[j] = abs(meq[4] - ene.coeffs[2].coeffs[5])\n",
    "        dP1[j] = abs(meq[3] + ene.coeffs[2].coeffs[2])\n",
    "        dP2[j] = abs(meq[5] + ene.coeffs[2].coeffs[4])\n",
    "        push!(als, al)\n",
    "    end\n",
    "    return dQ1, dQ2, dP1, dP2, als        \n",
    "end"
   ]
  },
  {
   "cell_type": "code",
   "execution_count": 10,
   "metadata": {
    "collapsed": false
   },
   "outputs": [
    {
     "data": {
      "text/plain": [
       "([46.5359,13.5552,0.744034,146.088,16.214,55.89,40.7633,2.80455,7.37523,0.59959],[4.16954,75.6414,0.878443,33.2017,22.9804,18.4236,3.63582,8.90917,0.805768,2.98843],[262.693,5208.5,5.1045,1717.79,631.365,991.894,118.134,7.32157,45.473,42.4028],[120.336,6603.99,7.98252,1252.72,325.707,613.003,27.3124,26.4472,13.1255,1.34925],Array{Float64,1}[[11.4889,3.06019,3.50692,6.5514,4.61206],[5.32036,6.17387,2.74348,6.04154,7.85875],[6.39448,0.126673,4.37563,0.884261,7.1037],[17.4232,8.32848,4.71801,9.76642,0.586942],[5.25906,4.75516,-0.234752,7.97699,4.59257],[12.2752,6.03319,1.26888,9.03341,1.8326],[8.86701,1.46515,3.20326,6.44402,7.57479],[8.74196,3.33863,1.72569,1.26033,3.24526],[4.45407,1.58412,2.33737,3.51435,4.76783],[2.88089,1.39748,-0.175408,3.95787,1.85513]])"
      ]
     },
     "execution_count": 10,
     "metadata": {},
     "output_type": "execute_result"
    }
   ],
   "source": [
    "errHam(10)"
   ]
  },
  {
   "cell_type": "markdown",
   "metadata": {},
   "source": [
    "Implementaremos también la función para regresar las velocidades al espacio fase de la configuración original... "
   ]
  },
  {
   "cell_type": "code",
   "execution_count": null,
   "metadata": {
    "collapsed": false
   },
   "outputs": [],
   "source": [
    "function ksv(Q, P)\n",
    "    v₁ = (Q*P)\n",
    "    return v₁\n",
    "end\n",
    "ks(Q) = Q^2"
   ]
  },
  {
   "cell_type": "code",
   "execution_count": null,
   "metadata": {
    "collapsed": true
   },
   "outputs": [],
   "source": [
    "function undrivenHelium(τ, q)\n",
    "    t, Q₁, P₁, Q₂, P₂ = q\n",
    "    \n",
    "    t = Q₁^2*Q₂^2\n",
    "    q₁ = 0.25*Q₂^2*P₁\n",
    "    p₁ = 2Q₁*(-0.125P₂^2 + Z  - Q₂^2 - Q₂^2/abs(Q₁^2 - Q₂^2)) + 2*Q₁^3*Q₂^2*((Q₁^2 - Q₂^2)/abs(Q₁^2 - Q₂^2)^3)\n",
    "    q₂ = 0.25*Q₁^2*P₂\n",
    "    p₂ = 2Q₂*(-0.125P₁^2 + Z  - Q₁^2 - Q₁^2/abs(Q₁^2 - Q₂^2)) - 2*Q₁^2*Q₂^3*((Q₁^2 - Q₂^2)/abs(Q₁^2 - Q₂^2)^3)\n",
    "\n",
    "    return [t, q₁, p₁, q₂, p₂] \n",
    "\n",
    "end"
   ]
  },
  {
   "cell_type": "code",
   "execution_count": null,
   "metadata": {
    "collapsed": true
   },
   "outputs": [],
   "source": [
    "taylo"
   ]
  },
  {
   "cell_type": "code",
   "execution_count": 9,
   "metadata": {
    "collapsed": false
   },
   "outputs": [
    {
     "data": {
      "text/plain": [
       "condini (generic function with 1 method)"
      ]
     },
     "execution_count": 9,
     "metadata": {},
     "output_type": "execute_result"
    }
   ],
   "source": []
  },
  {
   "cell_type": "code",
   "execution_count": null,
   "metadata": {
    "collapsed": false
   },
   "outputs": [],
   "source": [
    "function undrivenIntegration(x10::Float64, px10::Float64, time_max::Float64, jetEqs::Function )\n",
    "    \n",
    "    Q₁, Q₂, P₁, P₂ = condini(x10, px10)\n",
    "    τ₀ = 0.0\n",
    "    t0 = 0.0\n",
    "    \n",
    "    ene0 = regHam(Q₁, Q₂, P₁, P₂)\n",
    "        \n",
    "    Q1v, Q2v, P1v, P2v = Float64[], Float64[], Float64[], Float64[]\n",
    "    tv, τv = Float64[], Float64[]\n",
    "    DeneV= Float64[]\n",
    "    push!(tv, t0)\n",
    "    push!(τv, τ₀)\n",
    "    push!(Q1v, Q₁)\n",
    "    push!(P1v, P₁)\n",
    "    push!(Q2v, Q₂)\n",
    "    push!(P2v, P₂)\n",
    "       \n",
    "    push!(DeneV, ene0)\n",
    "    \n",
    "    # This is the main loop; we include a minimum step size for security\n",
    "    dτ = 1.0e-7\n",
    "    while τ₀ < time_max && dτ>1.0e-8\n",
    "        #Preparamos el vector para integrar\n",
    "        temp1 = Float64[t0, Q₁ , Q₂, P₁, P₂]\n",
    "        # Here we integrate\n",
    "        dτ, (t, Q1, P1, Q2, P2) = taylorStepper( jetEqs, temp1);\n",
    "        \n",
    "        τ₀ += dτ\n",
    "        push!(tv, t)\n",
    "        push!(τv, τ₀)\n",
    "        push!(Q1v, Q1)        \n",
    "        push!(P1v, P1)        \n",
    "        push!(Q2v, Q2)        \n",
    "        push!(P2v, P2)\n",
    "        eneEnd = regHam(Q1, P1, Q2, P2)\n",
    "        \n",
    "        dEne = abs(eneEnd - ene0)\n",
    "        \n",
    "        push!(DeneV, dEne)\n",
    "        t0, Q₁ , Q₂, P₁, P₂ = copy(t), copy(Q1), copy(Q2), copy(P1), copy(P2)\n",
    "    end\n",
    "\n",
    "    return τv, tv, Q1v, P1v, Q2v, P2v, DeneV\n",
    "end"
   ]
  },
  {
   "cell_type": "markdown",
   "metadata": {},
   "source": [
    "Para la configuración de $Zee$ en 1D necesitamos que $y_1, y_2 = 0$; $p_{y_1}, p_{y_2} = 0$, además, necesitamos la condición de que la partícula 2 colisione con el núcleo, por lo que $x_2 = 0$ sobre las coordenadas $(\\mathbf{P}, \\mathbf{Q})$ implican que:\n",
    "\n",
    "\\begin{align}\n",
    "    x_1 = x_{1_0} &\\Leftrightarrow Q_{11}^2 - Q_{12}^2 = x_{1_0}\\\\\n",
    "    y_1 = 0 &\\Leftrightarrow 2Q_{11}Q_{12} = 0\\\\\n",
    "    x_2 = 0 &\\Leftrightarrow Q_{21}^2 - Q_{22}^2 = x_{2_0}\\\\\n",
    "    y_2 = 0 &\\Leftrightarrow 2Q_{21}Q_{22} = 0 \\\\\n",
    "    p_{x_1} = px_{1_0} &\\Leftrightarrow Q_{11}P_{11} - Q_{12}P_{12} = px_{1_0}\\\\\n",
    "    p_{y_1} = 0 &\\Leftrightarrow Q_{12}P_{11} + Q_{11}P_{12} = 0\\\\\n",
    "    p_{x_2} = px_{2_0} &\\Leftrightarrow Q_{21}P_{21} - Q_{22}P_{22} = px_{2_0}\\\\\n",
    "    p_{y_2} = 0 &\\Leftrightarrow Q_{22}P_{21} + Q_{21}P_{22} = 0\n",
    "\\end{align}\n",
    "\n",
    "\n",
    "A partir de esto, podemos concluir que:\n",
    "\n",
    "\\begin{align}\n",
    "    Q_{11} &= \\sqrt{x_{1_0}}\\\\\n",
    "    Q_{12} &= 0\\\\\n",
    "    Q_{21} &= 0\\\\\n",
    "    Q_{22} &= 0\\\\\n",
    "    P_{11} &= \\frac{px_{1_0}}{Q_{11}}\\\\\n",
    "    P_{12} &= 0\\\\\n",
    "    P_{22} &= 0\n",
    "\\end{align}\n",
    "\n",
    "Para las condiciones sobre los momento $P_{21} = 0$ de la partícula 2, debemos considerar la condición sobre la energía del sistema (considerando el hamiltoniano regularizado $H^{SC}$), pues recordemos que se debe cumplir que $H = 0$. Usando las condiciones ya encontradas se halla que debe cumplirse que $|P_2|^2 = Z = 2$, entonces:\n",
    "\n",
    "\\begin{align}\n",
    "    Q_{11} &= \\sqrt{x_{1_0}}\\\\\n",
    "    Q_{12} &= 0\\\\\n",
    "    Q_{21} &= 0\\\\\n",
    "    Q_{22} &= 0\\\\\n",
    "    P_{11} &= p_{x_{1}}\\sqrt{x_{1_0}}\\\\\n",
    "    P_{12} &= 0\\\\\n",
    "    P_{21} &= 2\\sqrt{2Z}\\\\\n",
    "    P_{22} &= 0\n",
    "\\end{align}\n"
   ]
  },
  {
   "cell_type": "code",
   "execution_count": null,
   "metadata": {
    "collapsed": false
   },
   "outputs": [],
   "source": [
    "@time tv, τv, Q1v, P1v, Q2v, P2v, DeneV = undrivenIntegration(5.1, 1.4, 2.5, jetundriven);"
   ]
  },
  {
   "cell_type": "code",
   "execution_count": null,
   "metadata": {
    "collapsed": false
   },
   "outputs": [],
   "source": [
    "Q1v"
   ]
  },
  {
   "cell_type": "code",
   "execution_count": null,
   "metadata": {
    "collapsed": false
   },
   "outputs": [],
   "source": [
    "DeneV"
   ]
  },
  {
   "cell_type": "code",
   "execution_count": null,
   "metadata": {
    "collapsed": false
   },
   "outputs": [],
   "source": [
    "plot(eachindex(DeneV), DeneV)"
   ]
  },
  {
   "cell_type": "code",
   "execution_count": null,
   "metadata": {
    "collapsed": false
   },
   "outputs": [],
   "source": [
    "#Con esto regreso al espacio de configuración inicial\n",
    "x1 = map(ks, Q1v)\n",
    "vx1 = Float64[ksv(Q1v[j], P1v[j]) for j in eachindex(Q1v)];"
   ]
  },
  {
   "cell_type": "code",
   "execution_count": null,
   "metadata": {
    "collapsed": false
   },
   "outputs": [],
   "source": [
    "plot(x1,vx1)"
   ]
  },
  {
   "cell_type": "code",
   "execution_count": null,
   "metadata": {
    "collapsed": true
   },
   "outputs": [],
   "source": []
  }
 ],
 "metadata": {
  "kernelspec": {
   "display_name": "Julia 0.5.0",
   "language": "julia",
   "name": "julia-0.5"
  },
  "language_info": {
   "file_extension": ".jl",
   "mimetype": "application/julia",
   "name": "julia",
   "version": "0.5.0"
  }
 },
 "nbformat": 4,
 "nbformat_minor": 0
}
