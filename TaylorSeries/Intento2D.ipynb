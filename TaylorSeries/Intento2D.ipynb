{
 "cells": [
  {
   "cell_type": "code",
   "execution_count": 1,
   "metadata": {
    "collapsed": false
   },
   "outputs": [
    {
     "data": {
      "text/plain": [
       "Plots.PyPlotBackend()"
      ]
     },
     "execution_count": 1,
     "metadata": {},
     "output_type": "execute_result"
    }
   ],
   "source": [
    "using Plots, TaylorSeries\n",
    "pyplot(legend = :false, grid = :false)"
   ]
  },
  {
   "cell_type": "code",
   "execution_count": 2,
   "metadata": {
    "collapsed": false
   },
   "outputs": [
    {
     "data": {
      "text/plain": [
       "1.0e-20"
      ]
     },
     "execution_count": 2,
     "metadata": {},
     "output_type": "execute_result"
    }
   ],
   "source": [
    "const λ = 1.0\n",
    "const Z = 2.0\n",
    "const _ordenTaylor = 20\n",
    "const _epsAbs = 1.0e-20"
   ]
  },
  {
   "cell_type": "code",
   "execution_count": 3,
   "metadata": {
    "collapsed": false
   },
   "outputs": [
    {
     "data": {
      "text/plain": [
       "stepsize (generic function with 1 method)"
      ]
     },
     "execution_count": 3,
     "metadata": {},
     "output_type": "execute_result"
    }
   ],
   "source": [
    "# Returns stepsize of the integration and a vector with the updated values of the dependent\n",
    "# variables\n",
    "function taylorStepper{T<:Real}( jetEqs::Function, vec0::Array{T,1} )\n",
    "    \n",
    "    n = length( vec0 )\n",
    "\n",
    "    vec0T = Array(Taylor1{T},n)\n",
    "    @simd for i in eachindex(vec0)\n",
    "        @inbounds vec0T[i] = Taylor1([vec0[i]], _ordenTaylor)\n",
    "    end\n",
    "\n",
    "    # Jets\n",
    "    vec1T = jetEqs( vec0 )\n",
    "    \n",
    "    # Step-size\n",
    "    hh = Inf\n",
    "    for i in eachindex(vec1T)\n",
    "        @inbounds h1 = stepsize( vec1T[i], _epsAbs )\n",
    "        hh = min( hh, h1 )\n",
    "    end\n",
    "    \n",
    "    # Values at t0+h\n",
    "    @simd for i in eachindex(vec0)\n",
    "        @inbounds vec0[i] = evaluate( vec1T[i], hh )\n",
    "    end\n",
    "    \n",
    "    return hh, vec0\n",
    "end\n",
    "\n",
    "# Returns the maximum step size from epsilon and the last two coefficients of the x-Taylor series \n",
    "function stepsize{T<:Real}(x::Taylor1{T}, epsilon::Float64)\n",
    "    ord = x.order\n",
    "    h = Inf\n",
    "    for k in [ord-1, ord]\n",
    "        kinv = 1.0/k\n",
    "        aux = abs( x.coeffs[k+1] )\n",
    "        h = min(h, (epsilon/aux)^kinv)\n",
    "    end\n",
    "    return h\n",
    "end"
   ]
  },
  {
   "cell_type": "markdown",
   "metadata": {},
   "source": [
    "Aquí implementaremos el hamiltoniano regularizado, con $E = -1$, debe cumplirse que $H = 0 \\ \\forall t$, primero, tomaremos una función auxiliar:"
   ]
  },
  {
   "cell_type": "code",
   "execution_count": 4,
   "metadata": {
    "collapsed": false
   },
   "outputs": [
    {
     "data": {
      "text/plain": [
       "ks (generic function with 1 method)"
      ]
     },
     "execution_count": 4,
     "metadata": {},
     "output_type": "execute_result"
    }
   ],
   "source": [
    "function ks(Q)\n",
    "    Q₁, Q₂ = Q\n",
    "    x₁ = Q₁^2 - Q₂^2\n",
    "    x₂ = 2Q₁*Q₂\n",
    "    return Float64[Q₁, Q₂]\n",
    "end"
   ]
  },
  {
   "cell_type": "code",
   "execution_count": 5,
   "metadata": {
    "collapsed": false
   },
   "outputs": [
    {
     "data": {
      "text/plain": [
       "regHam (generic function with 2 methods)"
      ]
     },
     "execution_count": 5,
     "metadata": {},
     "output_type": "execute_result"
    }
   ],
   "source": [
    "function regHam(Q₁, Q₂, P₁, P₂)\n",
    "    #Cantidades auxiliares\n",
    "    P₁² = norm(P₁)^2\n",
    "    P₂² = norm(P₂)^2\n",
    "    Q₁² = norm(Q₁)^2\n",
    "    Q₂² = norm(Q₂)^2\n",
    "    nf = norm(ks(Q₁) - ks(Q₂))\n",
    "    \n",
    "    H = 0.125*(P₁²*Q₂² + P₂²*Q₁²) - Z*(Q₁² + Q₂²) + Q₁²*Q₂²*(1.0 + 1.0/nf)\n",
    "    return H\n",
    "end\n",
    "\n",
    "regHam(Q11, Q12, P11, P12, Q21, Q22, P21, P22) = regHam([Q11, Q12],[Q21, Q22],[P11, P12],[P21, P22])"
   ]
  },
  {
   "cell_type": "markdown",
   "metadata": {},
   "source": [
    "Implementaremos también la función para regresar las velocidades al espacio fase de la configuración original... "
   ]
  },
  {
   "cell_type": "code",
   "execution_count": 6,
   "metadata": {
    "collapsed": false
   },
   "outputs": [
    {
     "data": {
      "text/plain": [
       "ksv (generic function with 1 method)"
      ]
     },
     "execution_count": 6,
     "metadata": {},
     "output_type": "execute_result"
    }
   ],
   "source": [
    "function ksv(Q, P)\n",
    "    Q₁, Q₂ = Q\n",
    "    P₁, P₂ = P\n",
    "    v₁ = (Q₁*P₁ - Q₂*P₂)\n",
    "    v₂ = (Q₂*P₁ + Q₁*P₂)\n",
    "    return Float64[v₁, v₂]\n",
    "end"
   ]
  },
  {
   "cell_type": "code",
   "execution_count": 7,
   "metadata": {
    "collapsed": false
   },
   "outputs": [
    {
     "data": {
      "text/plain": [
       "jetundriven (generic function with 1 method)"
      ]
     },
     "execution_count": 7,
     "metadata": {},
     "output_type": "execute_result"
    }
   ],
   "source": [
    "function jetundriven{T<:Real}( vec::Array{T,1} )\n",
    "\n",
    "    tT = Taylor1(vec[1], _ordenTaylor)\n",
    "    Q11T = Taylor1(vec[2], _ordenTaylor)\n",
    "    Q12T = Taylor1(vec[3], _ordenTaylor)\n",
    "    P11T = Taylor1(vec[4], _ordenTaylor)\n",
    "    P12T = Taylor1(vec[5], _ordenTaylor)\n",
    "    Q21T = Taylor1(vec[6], _ordenTaylor)\n",
    "    Q22T = Taylor1(vec[7], _ordenTaylor)\n",
    "    P21T = Taylor1(vec[8], _ordenTaylor)\n",
    "    P22T = Taylor1(vec[9], _ordenTaylor)\n",
    "    # Auxiliary quantities\n",
    "    sQ11 = zeros( T, _ordenTaylor+1 )\n",
    "    sQ12 = zeros( T, _ordenTaylor+1 )\n",
    "    sP11 = zeros( T, _ordenTaylor+1 )\n",
    "    sP12 = zeros( T, _ordenTaylor+1 )\n",
    "    sQ21 = zeros( T, _ordenTaylor+1 )\n",
    "    sQ22 = zeros( T, _ordenTaylor+1 )\n",
    "    sP21 = zeros( T, _ordenTaylor+1 )\n",
    "    sP22 = zeros( T, _ordenTaylor+1 )\n",
    "    Q1112 = zeros( T, _ordenTaylor+1 )\n",
    "    Q2122 = zeros( T, _ordenTaylor+1 )\n",
    "    f1Q1Q2 = zeros( T, _ordenTaylor+1 )\n",
    "    f2Q1Q2 = zeros( T, _ordenTaylor+1 )\n",
    "    f12Q1Q2 = zeros( T, _ordenTaylor+1 )\n",
    "    f22Q1Q2 = zeros( T, _ordenTaylor+1 )\n",
    "    nfQ = zeros( T, _ordenTaylor+1 )\n",
    "    rnfQ = zeros( T, _ordenTaylor+1 )\n",
    "    n3fQ = zeros( T, _ordenTaylor+1 )\n",
    "    n2Q1 = zeros( T, _ordenTaylor+1 )\n",
    "    n2Q2 = zeros( T, _ordenTaylor+1 )\n",
    "    n2P1 = zeros( T, _ordenTaylor+1 )\n",
    "    n2P2 = zeros( T, _ordenTaylor+1 )\n",
    "    dotQ11 = zeros( T, _ordenTaylor+1 )\n",
    "    dotQ12 = zeros( T, _ordenTaylor+1 )\n",
    "    dotP11 = zeros( T, _ordenTaylor+1 )\n",
    "    dotP12 = zeros( T, _ordenTaylor+1 )\n",
    "    dotQ21 = zeros( T, _ordenTaylor+1 )\n",
    "    dotQ22 = zeros( T, _ordenTaylor+1 )\n",
    "    dotP21 = zeros( T, _ordenTaylor+1 )\n",
    "    dotP22 = zeros( T, _ordenTaylor+1 )\n",
    "    \n",
    "    s11P11 = zeros( T, _ordenTaylor+1 )\n",
    "    s1P11 = zeros( T, _ordenTaylor+1 )\n",
    "    P1d1 = zeros( T, _ordenTaylor+1 )\n",
    "    pP1 = zeros( T, _ordenTaylor+1 )\n",
    "    s2m21P11 = zeros( T, _ordenTaylor+1 )\n",
    "    s2m22P11 = zeros( T, _ordenTaylor+1 )\n",
    "    P1d2 = zeros( T, _ordenTaylor+1 )\n",
    "    P1d3 = zeros( T, _ordenTaylor+1 )\n",
    "    s2P11 = zeros( T, _ordenTaylor+1 )\n",
    "    \n",
    "    s11P12 = zeros( T, _ordenTaylor+1 )\n",
    "    s1P12 = zeros( T, _ordenTaylor+1 )\n",
    "    s2m21P12 = zeros( T, _ordenTaylor+1 )\n",
    "    s2m22P12 = zeros( T, _ordenTaylor+1 )\n",
    "    s2P12 = zeros( T, _ordenTaylor+1 )\n",
    "    \n",
    "    s11P21 = zeros( T, _ordenTaylor+1 )\n",
    "    P2d1 = zeros( T, _ordenTaylor+1 )\n",
    "    s1P21 = zeros( T, _ordenTaylor+1 )\n",
    "    ppP2 = zeros( T, _ordenTaylor+1 )\n",
    "    s2m21P21 = zeros( T, _ordenTaylor+1 )\n",
    "    s2m22P21 = zeros( T, _ordenTaylor+1 )\n",
    "    P2d2 = zeros( T, _ordenTaylor+1 )\n",
    "    P2d3 = zeros( T, _ordenTaylor+1 )\n",
    "    s2P21 = zeros( T, _ordenTaylor+1 )\n",
    "    \n",
    "    s11P22 = zeros( T, _ordenTaylor+1 )\n",
    "    s1P22 = zeros( T, _ordenTaylor+1 )\n",
    "    s2m2P22 = zeros( T, _ordenTaylor+1 )\n",
    "    s2m21P22 = zeros( T, _ordenTaylor+1 )\n",
    "    s2m22P22 = zeros( T, _ordenTaylor+1 )\n",
    "    s2P22 = zeros( T, _ordenTaylor+1 )\n",
    "    n2Qs = zeros(T, _ordenTaylor+1)\n",
    "    ppP1 = zeros(T, _ordenTaylor+1)\n",
    "    s2m2P21 = zeros(T, _ordenTaylor+1)\n",
    "    dott = zeros(T, _ordenTaylor+1)\n",
    "    \n",
    "    # Now the implementation\n",
    "    for k = 0:_ordenTaylor-1\n",
    "        knext = k+1\n",
    "        # The right-hand size of the eqs of motion\n",
    "        # This is more adpated for this problem, and avoids many superflous operations\n",
    "        #@show \"That's ok\"\n",
    "        sQ11[knext] = TaylorSeries.squareHomogCoef(k, Q11T.coeffs)\n",
    "        sQ12[knext] = TaylorSeries.squareHomogCoef(k, Q12T.coeffs)\n",
    "        sP11[knext] = TaylorSeries.squareHomogCoef(k, P11T.coeffs)\n",
    "        sP12[knext] = TaylorSeries.squareHomogCoef(k, P12T.coeffs)\n",
    "        sQ21[knext] = TaylorSeries.squareHomogCoef(k, Q21T.coeffs)\n",
    "        sQ22[knext] = TaylorSeries.squareHomogCoef(k, Q22T.coeffs)\n",
    "        sP21[knext] = TaylorSeries.squareHomogCoef(k, P21T.coeffs)\n",
    "        sP22[knext] = TaylorSeries.squareHomogCoef(k, P22T.coeffs)\n",
    "        Q1112[knext] = TaylorSeries.mulHomogCoef(k, Q11T.coeffs, Q12T.coeffs)\n",
    "        Q2122[knext] = TaylorSeries.mulHomogCoef(k, Q21T.coeffs, Q22T.coeffs)\n",
    "        f1Q1Q2[knext] = sQ11[knext] - sQ12[knext] - sQ21[knext] + sQ22[knext]  \n",
    "        f2Q1Q2[knext] =2*(Q1112[knext] - Q2122[knext])\n",
    "        f12Q1Q2[knext] = TaylorSeries.squareHomogCoef(k, f1Q1Q2)\n",
    "        f22Q1Q2[knext] = TaylorSeries.squareHomogCoef(k, f2Q1Q2)\n",
    "        rnfQ[knext] = f12Q1Q2[knext] + f22Q1Q2[knext]\n",
    "        nfQ[knext] = TaylorSeries.powHomogCoef(k, rnfQ, 0.5, nfQ, 0)\n",
    "        n3fQ[knext] = TaylorSeries.powHomogCoef(k, rnfQ, 1.5, n3fQ, 0)\n",
    "        n2Q1[knext] = sQ11[knext] + sQ12[knext]\n",
    "        n2Q2[knext] = sQ21[knext] + sQ22[knext]\n",
    "        n2P1[knext] = sP11[knext] + sP12[knext]\n",
    "        n2P2[knext] = sP21[knext] + sP22[knext]\n",
    "        n2Qs[knext] = TaylorSeries.mulHomogCoef(k, n2Q1, n2Q2)\n",
    "        \n",
    "        P1d1[knext] = TaylorSeries.divHomogCoef(k, n2Q2, nfQ, P1d1, 0)\n",
    "        s11P11[knext] = -0.125*n2P2[knext] + Z - P1d1[knext] - n2Q2[knext]\n",
    "        s1P11[knext] = 2.0*TaylorSeries.mulHomogCoef(k, Q11T.coeffs, s11P11)\n",
    "        P1d2[knext] = TaylorSeries.divHomogCoef(k, f1Q1Q2, n3fQ, P1d2, 0)\n",
    "        P1d3[knext] = TaylorSeries.divHomogCoef(k, f2Q1Q2, n3fQ, P1d3, 0)\n",
    "        s2m21P11[knext] = 2*TaylorSeries.mulHomogCoef(k, P1d2, Q11T.coeffs)\n",
    "        s2m22P11[knext] = 2*TaylorSeries.mulHomogCoef(k, P1d3, Q12T.coeffs)\n",
    "        ppP1[knext] = s2m21P11[knext] + s2m22P11[knext]\n",
    "        s2P11[knext] = TaylorSeries.mulHomogCoef(k, n2Qs, ppP1)\n",
    "        \n",
    "    \n",
    "        s11P12[knext] = -0.125*n2P2[knext] + Z - P1d1[knext] - n2Q2[knext]\n",
    "        s1P12[knext] = 2.0*TaylorSeries.mulHomogCoef(k, Q12T.coeffs, s11P12)\n",
    "        s2P12[knext] = TaylorSeries.mulHomogCoef(k, n2Qs, ppP1)\n",
    "        \n",
    "        \n",
    "        P2d1[knext] = TaylorSeries.divHomogCoef(k, n2Q1, nfQ, P2d1, 0)\n",
    "        s11P21[knext] = -0.125*n2P1[knext] + Z - P2d1[knext] - n2Q1[knext]\n",
    "        s1P21[knext] = 2.0*TaylorSeries.mulHomogCoef(k, Q21T.coeffs, s11P21)\n",
    "        s2m21P21[knext] = -2*TaylorSeries.mulHomogCoef(k, P1d2, Q21T.coeffs)\n",
    "        s2m22P21[knext] = -2*TaylorSeries.mulHomogCoef(k, P1d3, Q22T.coeffs)\n",
    "        s2m2P21[knext] = s2m21P21[knext] + s2m22P21[knext]\n",
    "        s2P21[knext] = TaylorSeries.mulHomogCoef(k, n2Qs, s2m2P21)\n",
    "        \n",
    "    \n",
    "        s11P22[knext] = -0.125*n2P1[knext] + Z - P2d1[knext] - n2Q2[knext]\n",
    "        s1P22[knext] = 2.0*TaylorSeries.mulHomogCoef(k, Q22T.coeffs, s11P22)\n",
    "        s2P22[knext] = TaylorSeries.mulHomogCoef(k, n2Qs, s2m2P21)\n",
    "        \n",
    "        \n",
    "\n",
    "        dotQ11[knext] = 0.25*TaylorSeries.mulHomogCoef(k,n2Q2, P11T.coeffs)\n",
    "        dotQ12[knext] = 0.25*TaylorSeries.mulHomogCoef(k,n2Q2, P12T.coeffs)\n",
    "        dotP11[knext] = s1P11[knext] + s2P11[knext]\n",
    "        dotP12[knext] = s1P12[knext] + s2P12[knext]\n",
    "        dotQ21[knext] = 0.25*TaylorSeries.mulHomogCoef(k,n2Q1, P21T.coeffs)\n",
    "        dotQ22[knext] = 0.25*TaylorSeries.mulHomogCoef(k,n2Q1, P22T.coeffs)\n",
    "        dotP21[knext] = s1P21[knext] + s2P21[knext]\n",
    "        dotP22[knext] = s1P22[knext] + s2P22[knext]     \n",
    "        dott[knext] = n2Qs[knext]\n",
    "        \n",
    "        #@show \"That's ok\"\n",
    "        Q11T.coeffs[knext + 1] = dotQ11[knext]/knext\n",
    "        Q12T.coeffs[knext + 1] = dotQ12[knext]/knext\n",
    "        P11T.coeffs[knext + 1] = dotP11[knext]/knext\n",
    "        P12T.coeffs[knext + 1] = dotP12[knext]/knext\n",
    "        Q21T.coeffs[knext + 1] = dotQ21[knext]/knext\n",
    "        Q22T.coeffs[knext + 1] = dotQ22[knext]/knext\n",
    "        P21T.coeffs[knext + 1] = dotP21[knext]/knext\n",
    "        P22T.coeffs[knext + 1] = dotP22[knext]/knext\n",
    "        tT.coeffs[knext + 1] = dott[knext]/knext\n",
    "    end\n",
    "    \n",
    "    return Taylor1[tT, Q11T, Q12T, P11T, P12T, Q21T, Q22T, P21T, P22T]\n",
    "end"
   ]
  },
  {
   "cell_type": "code",
   "execution_count": 8,
   "metadata": {
    "collapsed": false
   },
   "outputs": [
    {
     "data": {
      "text/plain": [
       "undrivenIntegration (generic function with 1 method)"
      ]
     },
     "execution_count": 8,
     "metadata": {},
     "output_type": "execute_result"
    }
   ],
   "source": [
    "function undrivenIntegration(x10::Float64, px10::Float64, time_max::Float64, jetEqs::Function )\n",
    "    \n",
    "    Q₁, Q₂, P₁, P₂ = condini(x10, px10)\n",
    "    τ₀ = 0.0\n",
    "    t0 = 0.0\n",
    "    Q11₀, Q12₀ = Q₁\n",
    "    P11₀, P12₀ = P₁\n",
    "    Q21₀, Q22₀ = Q₂\n",
    "    P21₀, P22₀ = P₂\n",
    "    \n",
    "    ene0 = regHam(Q₁, Q₂, P₁, P₂)\n",
    "        \n",
    "    Q11v, Q12v, P11v, P12v = Float64[], Float64[], Float64[], Float64[]\n",
    "    Q21v, Q22v, P21v, P22v = Float64[], Float64[], Float64[], Float64[]\n",
    "    tv, τv = Float64[], Float64[]\n",
    "    DeneV= Float64[]\n",
    "    push!(tv, t0)\n",
    "    push!(τv, τ₀)\n",
    "    push!(Q11v, Q11₀)\n",
    "    push!(Q12v, Q12₀)\n",
    "    push!(P11v, P11₀)\n",
    "    push!(P12v, P12₀)\n",
    "    push!(Q21v, Q21₀)\n",
    "    push!(Q22v, Q22₀)\n",
    "    push!(P21v, P21₀)\n",
    "    push!(P22v, P22₀)\n",
    "       \n",
    "    push!(DeneV, zero(Float64))\n",
    "    \n",
    "    # This is the main loop; we include a minimum step size for security\n",
    "    dτ = 1.0\n",
    "    while τ₀ < time_max && dτ>1.0e-8\n",
    "        #Preparamos el vector para integrar\n",
    "        temp1 = Float64[t0, Q11₀, Q12₀, P11₀, P12₀, Q21₀, Q22₀, P21₀, P22₀]\n",
    "        # Here we integrate\n",
    "        dτ, (t, Q11, Q12, P11, P12, Q21, Q22, P21, P22) = taylorStepper( jetEqs, temp1);\n",
    "        \n",
    "        τ₀ += dτ\n",
    "        push!(tv, t)\n",
    "        push!(τv, τ₀)\n",
    "        push!(Q11v, Q11)\n",
    "        push!(Q12v, Q12)\n",
    "        push!(P11v, P11)\n",
    "        push!(P12v, P12)\n",
    "        push!(Q21v, Q21)\n",
    "        push!(Q22v, Q22)\n",
    "        push!(P21v, P21)\n",
    "        push!(P22v, P22)\n",
    "        eneEnd = regHam(Q11, Q12, P11, P12, Q21, Q22, P21, P22)\n",
    "        \n",
    "        dEne = abs(eneEnd)\n",
    "        \n",
    "        push!(DeneV, dEne)\n",
    "        t0, Q11₀, Q12₀, P11₀, P12₀, Q21₀, Q22₀, P21₀, P22₀ = copy(t), copy(Q11), copy(Q12),\n",
    "        copy(P11), copy(P12), copy(Q21), copy(Q22), copy(P21), copy(P22)\n",
    "    end\n",
    "\n",
    "    return tv, τv, Q11v, Q12v, P11v, P12v, Q21v, Q22v, P21v, P22v, DeneV\n",
    "end"
   ]
  },
  {
   "cell_type": "markdown",
   "metadata": {},
   "source": [
    "Para la configuración de $Zee$ en 1D necesitamos que $y_1, y_2 = 0$; $p_{y_1}, p_{y_2} = 0$, además, necesitamos la condición de que la partícula 2 colisione con el núcleo, por lo que $x_2 = 0$ sobre las coordenadas $(\\mathbf{P}, \\mathbf{Q})$ implican que:\n",
    "\n",
    "\\begin{align}\n",
    "    x_1 = x_{1_0} &\\Leftrightarrow Q_{11}^2 - Q_{12}^2 = x_{1_0}\\\\\n",
    "    y_1 = 0 &\\Leftrightarrow 2Q_{11}Q_{12} = 0\\\\\n",
    "    x_2 = 0 &\\Leftrightarrow Q_{21}^2 - Q_{22}^2 = x_{2_0}\\\\\n",
    "    y_2 = 0 &\\Leftrightarrow 2Q_{21}Q_{22} = 0 \\\\\n",
    "    p_{x_1} = px_{1_0} &\\Leftrightarrow Q_{11}P_{11} - Q_{12}P_{12} = px_{1_0}\\\\\n",
    "    p_{y_1} = 0 &\\Leftrightarrow Q_{12}P_{11} + Q_{11}P_{12} = 0\\\\\n",
    "    p_{x_2} = px_{2_0} &\\Leftrightarrow Q_{21}P_{21} - Q_{22}P_{22} = px_{2_0}\\\\\n",
    "    p_{y_2} = 0 &\\Leftrightarrow Q_{22}P_{21} + Q_{21}P_{22} = 0\n",
    "\\end{align}\n",
    "\n",
    "\n",
    "A partir de esto, podemos concluir que:\n",
    "\n",
    "\\begin{align}\n",
    "    Q_{11} &= \\sqrt{x_{1_0}}\\\\\n",
    "    Q_{12} &= 0\\\\\n",
    "    Q_{21} &= 0\\\\\n",
    "    Q_{22} &= 0\\\\\n",
    "    P_{11} &= \\frac{px_{1_0}}{Q_{11}}\\\\\n",
    "    P_{12} &= 0\\\\\n",
    "    P_{22} &= 0\n",
    "\\end{align}\n",
    "\n",
    "Para las condiciones sobre los momento $P_{21} = 0$ de la partícula 2, debemos considerar la condición sobre la energía del sistema (considerando el hamiltoniano regularizado $H^{SC}$), pues recordemos que se debe cumplir que $H = 0$. Usando las condiciones ya encontradas se halla que debe cumplirse que $|P_2|^2 = Z = 2$, entonces:\n",
    "\n",
    "\\begin{align}\n",
    "    Q_{11} &= \\sqrt{x_{1_0}}\\\\\n",
    "    Q_{12} &= 0\\\\\n",
    "    Q_{21} &= 0\\\\\n",
    "    Q_{22} &= 0\\\\\n",
    "    P_{11} &= p_{x_{1}}\\sqrt{x_{1_0}}\\\\\n",
    "    P_{12} &= 0\\\\\n",
    "    P_{21} &= 2\\sqrt{2Z}\\\\\n",
    "    P_{22} &= 0\n",
    "\\end{align}\n"
   ]
  },
  {
   "cell_type": "code",
   "execution_count": 9,
   "metadata": {
    "collapsed": false
   },
   "outputs": [
    {
     "data": {
      "text/plain": [
       "condini (generic function with 1 method)"
      ]
     },
     "execution_count": 9,
     "metadata": {},
     "output_type": "execute_result"
    }
   ],
   "source": [
    "function condini(x10::Float64, px10::Float64)\n",
    "    @assert x10 != 0\n",
    "    Q11 = sqrt(x10)\n",
    "    Q12 = 0.0\n",
    "    Q21 = 0.0\n",
    "    Q22 = 0.0\n",
    "    P11 = px10*sqrt(x10)\n",
    "    P12 = 0.0\n",
    "    P21 = 2*sqrt(2*Z)\n",
    "    P22 = 0.0\n",
    "    return Float64[Q11, Q12], Float64[Q21, Q22], Float64[P11, P12], Float64[P21, P22]\n",
    "end"
   ]
  },
  {
   "cell_type": "code",
   "execution_count": 10,
   "metadata": {
    "collapsed": false
   },
   "outputs": [
    {
     "data": {
      "text/plain": [
       "([2.25832,0.0],[0.0,0.0],[3.16165,0.0],[4.0,0.0])"
      ]
     },
     "execution_count": 10,
     "metadata": {},
     "output_type": "execute_result"
    }
   ],
   "source": [
    "condini(5.1, 1.4)"
   ]
  },
  {
   "cell_type": "code",
   "execution_count": 15,
   "metadata": {
    "collapsed": false
   },
   "outputs": [
    {
     "name": "stdout",
     "output_type": "stream",
     "text": [
      "  0.006435 seconds (22.56 k allocations: 2.493 MB)\n"
     ]
    }
   ],
   "source": [
    "@time tv, τv, Q11v, Q12v, P11v, P12v, Q21v, Q22v, P21v, P22v, \n",
    "DeneV = undrivenIntegration(5.1, 1.4, 2.0, jetundriven);"
   ]
  },
  {
   "cell_type": "code",
   "execution_count": 16,
   "metadata": {
    "collapsed": false
   },
   "outputs": [
    {
     "data": {
      "text/plain": [
       "92-element Array{Float64,1}:\n",
       " 0.0      \n",
       " 0.0725296\n",
       " 0.299679 \n",
       " 0.761797 \n",
       " 1.32833  \n",
       " 2.13519  \n",
       " 2.95771  \n",
       " 3.93255  \n",
       " 4.81926  \n",
       " 5.65962  \n",
       " 6.35422  \n",
       " 6.84151  \n",
       " 7.10188  \n",
       " ⋮        \n",
       " 1.3305   \n",
       " 2.00244  \n",
       " 3.12691  \n",
       " 4.66006  \n",
       " 6.22441  \n",
       " 7.69107  \n",
       " 8.90357  \n",
       " 9.5454   \n",
       " 9.58973  \n",
       " 8.97143  \n",
       " 7.80844  \n",
       " 6.12314  "
      ]
     },
     "execution_count": 16,
     "metadata": {},
     "output_type": "execute_result"
    }
   ],
   "source": [
    "DeneV"
   ]
  },
  {
   "cell_type": "code",
   "execution_count": 17,
   "metadata": {
    "collapsed": false
   },
   "outputs": [
    {
     "data": {
      "text/html": [
       "<img src=\"data:image/png;base64,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\" />"
      ]
     },
     "execution_count": 17,
     "metadata": {},
     "output_type": "execute_result"
    }
   ],
   "source": [
    "plot(Q11v, P11v)"
   ]
  },
  {
   "cell_type": "code",
   "execution_count": 14,
   "metadata": {
    "collapsed": false
   },
   "outputs": [
    {
     "ename": "LoadError",
     "evalue": "UndefVarError: P11v not defined",
     "output_type": "error",
     "traceback": [
      "UndefVarError: P11v not defined",
      ""
     ]
    }
   ],
   "source": [
    "P11v"
   ]
  },
  {
   "cell_type": "code",
   "execution_count": null,
   "metadata": {
    "collapsed": true
   },
   "outputs": [],
   "source": []
  }
 ],
 "metadata": {
  "kernelspec": {
   "display_name": "Julia 0.5.0",
   "language": "julia",
   "name": "julia-0.5"
  },
  "language_info": {
   "file_extension": ".jl",
   "mimetype": "application/julia",
   "name": "julia",
   "version": "0.5.0"
  }
 },
 "nbformat": 4,
 "nbformat_minor": 0
}
