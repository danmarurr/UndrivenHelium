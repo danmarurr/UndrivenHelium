{
 "cells": [
  {
   "cell_type": "markdown",
   "metadata": {},
   "source": [
    "Implementamos la paquetería necesaria"
   ]
  },
  {
   "cell_type": "code",
   "execution_count": 1,
   "metadata": {
    "collapsed": false
   },
   "outputs": [
    {
     "data": {
      "text/plain": [
       "Plots.PyPlotBackend()"
      ]
     },
     "execution_count": 1,
     "metadata": {},
     "output_type": "execute_result"
    }
   ],
   "source": [
    "using TaylorIntegration, ValidatedNumerics, TaylorSeries\n",
    "using Plots, LaTeXStrings\n",
    "# plotly()\n",
    "pyplot(grid = :false, legend = :false)"
   ]
  },
  {
   "cell_type": "code",
   "execution_count": 2,
   "metadata": {
    "collapsed": false
   },
   "outputs": [
    {
     "data": {
      "text/plain": [
       "500000"
      ]
     },
     "execution_count": 2,
     "metadata": {},
     "output_type": "execute_result"
    }
   ],
   "source": [
    "const λ = 1.0\n",
    "const Z = 2.0\n",
    "const order = 28\n",
    "const t0 = 0.0\n",
    "const t_max = 0.5 \n",
    "const abs_tol = 1.0E-20\n",
    "const steps = 500000"
   ]
  },
  {
   "cell_type": "code",
   "execution_count": 3,
   "metadata": {
    "collapsed": false
   },
   "outputs": [
    {
     "data": {
      "text/plain": [
       "undrivenHelium (generic function with 2 methods)"
      ]
     },
     "execution_count": 3,
     "metadata": {},
     "output_type": "execute_result"
    }
   ],
   "source": [
    "function undrivenHelium(τ, q)\n",
    "    t, Q₁, P₁, Q₂, P₂ = q\n",
    "    \n",
    "    t = Q₁^2*Q₂^2\n",
    "    q₁ = 0.25*Q₂^2*P₁\n",
    "    p₁ = 2Q₁*(-0.125P₂^2 + Z  - Q₂^2 - Q₂^2/abs(Q₁^2 - Q₂^2)) + 2*Q₁^3*Q₂^2*((Q₁^2 - Q₂^2)/abs(Q₁^2 - Q₂^2)^3)\n",
    "    q₂ = 0.25*Q₁^2*P₂\n",
    "    p₂ = 2Q₂*(-0.125P₁^2 + Z  - Q₁^2 - Q₁^2/abs(Q₁^2 - Q₂^2)) - 2*Q₁^2*Q₂^3*((Q₁^2 - Q₂^2)/abs(Q₁^2 - Q₂^2)^3)\n",
    "\n",
    "    return [t, q₁, p₁, q₂, p₂] \n",
    "\n",
    "end\n",
    "undrivenHelium(v) = undrivenHelium(0, v)"
   ]
  },
  {
   "cell_type": "code",
   "execution_count": 4,
   "metadata": {
    "collapsed": false
   },
   "outputs": [
    {
     "data": {
      "text/plain": [
       "5-element Array{TaylorSeries.TaylorN{Float64},1}:\n",
       "   1.0 t + 𝒪(‖x‖²)\n",
       "  1.0 q1 + 𝒪(‖x‖²)\n",
       "  1.0 p1 + 𝒪(‖x‖²)\n",
       "  1.0 q2 + 𝒪(‖x‖²)\n",
       "  1.0 p2 + 𝒪(‖x‖²)"
      ]
     },
     "execution_count": 4,
     "metadata": {},
     "output_type": "execute_result"
    }
   ],
   "source": [
    "var1 = set_variables(\"t q1 p1 q2 p2\", order = 1)"
   ]
  },
  {
   "cell_type": "code",
   "execution_count": 5,
   "metadata": {
    "collapsed": false
   },
   "outputs": [
    {
     "data": {
      "text/plain": [
       "condini (generic function with 1 method)"
      ]
     },
     "execution_count": 5,
     "metadata": {},
     "output_type": "execute_result"
    }
   ],
   "source": [
    "function condini(x10::Float64, px10::Float64)\n",
    "    @assert x10 != 0\n",
    "    Q1 = sqrt(x10)\n",
    "    Q2 = 0.0\n",
    "    P1 = px10*sqrt(x10)    \n",
    "    P2 = sqrt(8Z)    \n",
    "    return [0, Q1, P1, Q2, P2]\n",
    "end"
   ]
  },
  {
   "cell_type": "code",
   "execution_count": 6,
   "metadata": {
    "collapsed": false
   },
   "outputs": [
    {
     "data": {
      "text/plain": [
       "regHam (generic function with 2 methods)"
      ]
     },
     "execution_count": 6,
     "metadata": {},
     "output_type": "execute_result"
    }
   ],
   "source": [
    "function regHam(t, Q₁, P₁, Q₂, P₂)\n",
    "    #Cantidades auxiliares\n",
    "    P₁² = P₁^2\n",
    "    P₂² = P₂^2\n",
    "    Q₁² = Q₁^2\n",
    "    Q₂² = Q₂^2\n",
    "    nf = sqrt(((Q₁)^2 - (Q₂)^2)^2)\n",
    "    \n",
    "    H = 0.125*(P₁²*Q₂² + P₂²*Q₁²) - Z*(Q₁² + Q₂²) + Q₁²*Q₂²*(1.0 + 1.0/nf)\n",
    "    return H\n",
    "end\n",
    "\n",
    "\n",
    "regHam(v) = regHam(v...)"
   ]
  },
  {
   "cell_type": "code",
   "execution_count": 7,
   "metadata": {
    "collapsed": false
   },
   "outputs": [
    {
     "data": {
      "text/plain": [
       " - 3.6744628544402884 q1 + 0.0008398049580423191 p1 - 0.0041093824754036 q2 + 0.20751660672557978 p2"
      ]
     },
     "execution_count": 7,
     "metadata": {},
     "output_type": "execute_result"
    }
   ],
   "source": [
    "tay1 = (regHam(var1 + rand(5)))\n",
    "tay2 = tay1.coeffs[2]"
   ]
  },
  {
   "cell_type": "code",
   "execution_count": 8,
   "metadata": {
    "collapsed": false
   },
   "outputs": [
    {
     "data": {
      "text/plain": [
       "5-element Array{Float64,1}:\n",
       "  0.0        \n",
       " -3.67446    \n",
       "  0.000839805\n",
       " -0.00410938 \n",
       "  0.207517   "
      ]
     },
     "execution_count": 8,
     "metadata": {},
     "output_type": "execute_result"
    }
   ],
   "source": [
    "tay2.coeffs"
   ]
  },
  {
   "cell_type": "code",
   "execution_count": 7,
   "metadata": {
    "collapsed": false
   },
   "outputs": [
    {
     "data": {
      "text/plain": [
       "errHam (generic function with 1 method)"
      ]
     },
     "execution_count": 7,
     "metadata": {},
     "output_type": "execute_result"
    }
   ],
   "source": [
    "function errHam(N::Int)\n",
    "    dQ1 = zeros(N)\n",
    "    dQ2 = zeros(N)\n",
    "    dP1 = zeros(N)\n",
    "    dP2 = zeros(N)\n",
    "    als = typeof(zeros(5))[]\n",
    "    for j in 1:N\n",
    "        al = 10*rand(5)\n",
    "        alt = al + var1\n",
    "        ene = regHam(alt)\n",
    "        meq = undrivenHelium(al)\n",
    "        \n",
    "        dQ1[j] = abs(meq[2] - ene.coeffs[2].coeffs[3])\n",
    "        dQ2[j] = abs(meq[4] - ene.coeffs[2].coeffs[5])\n",
    "        dP1[j] = abs(meq[3] + ene.coeffs[2].coeffs[2])\n",
    "        dP2[j] = abs(meq[5] + ene.coeffs[2].coeffs[4])\n",
    "        push!(als, al)\n",
    "    end\n",
    "    return dQ1, dQ2, dP1, dP2, als        \n",
    "end"
   ]
  },
  {
   "cell_type": "code",
   "execution_count": 36,
   "metadata": {
    "collapsed": false
   },
   "outputs": [],
   "source": [
    "dQ1, dQ2, dP1, dP2, als = errHam(20);"
   ]
  },
  {
   "cell_type": "code",
   "execution_count": 14,
   "metadata": {
    "collapsed": false
   },
   "outputs": [
    {
     "data": {
      "text/html": [
       "<img src=\"data:image/png;base64,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\" />"
      ]
     },
     "execution_count": 14,
     "metadata": {},
     "output_type": "execute_result"
    }
   ],
   "source": [
    "plot(eachindex(dP1), dP1, label =\"P1\", title = \"\")\n",
    "plot!(eachindex(dP2), dP2, label = \"P2\",legend = :true)"
   ]
  },
  {
   "cell_type": "code",
   "execution_count": 22,
   "metadata": {
    "collapsed": false
   },
   "outputs": [
    {
     "data": {
      "text/plain": [
       "5-element Array{Float64,1}:\n",
       " 0.0    \n",
       " 3.16228\n",
       " 3.47851\n",
       " 0.0    \n",
       " 4.0    "
      ]
     },
     "execution_count": 22,
     "metadata": {},
     "output_type": "execute_result"
    }
   ],
   "source": [
    "q0 = condini(10.0, 1.1)"
   ]
  },
  {
   "cell_type": "code",
   "execution_count": 23,
   "metadata": {
    "collapsed": false
   },
   "outputs": [
    {
     "data": {
      "text/plain": [
       "0.0"
      ]
     },
     "execution_count": 23,
     "metadata": {},
     "output_type": "execute_result"
    }
   ],
   "source": [
    "regHam(q0)"
   ]
  },
  {
   "cell_type": "code",
   "execution_count": 24,
   "metadata": {
    "collapsed": false
   },
   "outputs": [
    {
     "name": "stdout",
     "output_type": "stream",
     "text": [
      "  0.695521 seconds (8.80 M allocations: 899.699 MB, 22.85% gc time)\n"
     ]
    }
   ],
   "source": [
    "t, q = taylorinteg(undrivenHelium, q0, t0, 0.01, order, abs_tol, maxsteps=2); #warm-up lap\n",
    "@time t, q = taylorinteg(undrivenHelium, q0, t0, 10.0, order, abs_tol, maxsteps=steps);"
   ]
  },
  {
   "cell_type": "markdown",
   "metadata": {},
   "source": [
    "The final state:"
   ]
  },
  {
   "cell_type": "code",
   "execution_count": 25,
   "metadata": {
    "collapsed": false
   },
   "outputs": [
    {
     "data": {
      "text/plain": [
       "(10.0,[1267.8,22.3579,16.7032,0.896604,-3.02208])"
      ]
     },
     "execution_count": 25,
     "metadata": {},
     "output_type": "execute_result"
    }
   ],
   "source": [
    "t[end], q[end,:]"
   ]
  },
  {
   "cell_type": "code",
   "execution_count": 37,
   "metadata": {
    "collapsed": false
   },
   "outputs": [
    {
     "data": {
      "text/plain": [
       "-2.2737367544323206e-12"
      ]
     },
     "execution_count": 37,
     "metadata": {},
     "output_type": "execute_result"
    }
   ],
   "source": [
    "regHam(q[end,:])"
   ]
  },
  {
   "cell_type": "code",
   "execution_count": 38,
   "metadata": {
    "collapsed": false
   },
   "outputs": [
    {
     "data": {
      "text/plain": [
       "(1697,(1697,5))"
      ]
     },
     "execution_count": 38,
     "metadata": {},
     "output_type": "execute_result"
    }
   ],
   "source": [
    "length(t), size(q)"
   ]
  },
  {
   "cell_type": "code",
   "execution_count": 32,
   "metadata": {
    "collapsed": false
   },
   "outputs": [],
   "source": [
    "ene = zeros(t)\n",
    "for j in eachindex(ene)\n",
    "    ene[j] = abs(regHam(q[j,:]))\n",
    "end"
   ]
  },
  {
   "cell_type": "code",
   "execution_count": 35,
   "metadata": {
    "collapsed": false
   },
   "outputs": [
    {
     "data": {
      "text/html": [
       "<img src=\"data:image/png;base64,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\" />"
      ]
     },
     "execution_count": 35,
     "metadata": {},
     "output_type": "execute_result"
    }
   ],
   "source": [
    "plot(eachindex(ene), ene)"
   ]
  },
  {
   "cell_type": "code",
   "execution_count": null,
   "metadata": {
    "collapsed": true
   },
   "outputs": [],
   "source": [
    "function ksv(Q, P)\n",
    "    v₁ = (Q*P)\n",
    "    return v₁\n",
    "end\n",
    "ks(Q) = Q^2"
   ]
  }
 ],
 "metadata": {
  "kernelspec": {
   "display_name": "Julia 0.5.0",
   "language": "julia",
   "name": "julia-0.5"
  },
  "language_info": {
   "file_extension": ".jl",
   "mimetype": "application/julia",
   "name": "julia",
   "version": "0.5.0"
  }
 },
 "nbformat": 4,
 "nbformat_minor": 0
}
