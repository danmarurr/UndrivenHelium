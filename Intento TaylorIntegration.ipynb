{
 "cells": [
  {
   "cell_type": "code",
   "execution_count": 23,
   "metadata": {
    "collapsed": false
   },
   "outputs": [
    {
     "data": {
      "text/plain": [
       "Plots.PyPlotBackend()"
      ]
     },
     "execution_count": 23,
     "metadata": {},
     "output_type": "execute_result"
    }
   ],
   "source": [
    "using TaylorIntegration, ValidatedNumerics, TaylorSeries\n",
    "using Plots, LaTeXStrings\n",
    "# plotly()\n",
    "pyplot(grid = :false, legend = :false)"
   ]
  },
  {
   "cell_type": "code",
   "execution_count": 2,
   "metadata": {
    "collapsed": false
   },
   "outputs": [
    {
     "data": {
      "text/plain": [
       "500000"
      ]
     },
     "execution_count": 2,
     "metadata": {},
     "output_type": "execute_result"
    }
   ],
   "source": [
    "const λ = 1.0\n",
    "const Z = 2.0\n",
    "const order = 28\n",
    "const t0 = 0.0\n",
    "const t_max = 0.5 \n",
    "const abs_tol = 1.0E-20\n",
    "const steps = 500000"
   ]
  },
  {
   "cell_type": "code",
   "execution_count": 123,
   "metadata": {
    "collapsed": false
   },
   "outputs": [
    {
     "name": "stderr",
     "output_type": "stream",
     "text": [
      "WARNING: Method definition undrivenHelium(Any, Any) in module Main at In[3]:2 overwritten at In[123]:2.\n"
     ]
    },
    {
     "data": {
      "text/plain": [
       "undrivenHelium (generic function with 2 methods)"
      ]
     },
     "execution_count": 123,
     "metadata": {},
     "output_type": "execute_result"
    }
   ],
   "source": [
    "function undrivenHelium(τ, q)\n",
    "    t, Q₁, P₁, Q₂, P₂ = q\n",
    "    \n",
    "    t = Q₁^2*Q₂^2\n",
    "    q₁ = 0.25*Q₂^2*P₁\n",
    "    p₁ = 2Q₁*(-0.125P₂^2 + Z  - Q₂^2 + Q₂^2/abs(Q₁^2 - Q₂^2)) + Q₁^2*Q₂^2*(1/(Q₁^2 - Q₂^2)^2)*2Q₁\n",
    "    q₂ = 0.25*Q₁^2*P₂\n",
    "    p₂ = 2Q₂*(-0.125P₁^2 + Z  - Q₁^2 + Q₁^2/abs(Q₁^2 - Q₂^2)) - Q₁^2*Q₂^2*(1/(Q₁^2 - Q₂^2)^2)*2Q₂\n",
    "\n",
    "    return [t, q₁, p₁, q₂, p₂] \n",
    "\n",
    "end\n",
    "undrivenHelium(v) = undrivenHelium(v[1], v[2:5])"
   ]
  },
  {
   "cell_type": "markdown",
   "metadata": {},
   "source": [
    "The Taylor integration:"
   ]
  },
  {
   "cell_type": "code",
   "execution_count": 30,
   "metadata": {
    "collapsed": false
   },
   "outputs": [
    {
     "data": {
      "text/plain": [
       "f (generic function with 1 method)"
      ]
     },
     "execution_count": 30,
     "metadata": {},
     "output_type": "execute_result"
    }
   ],
   "source": [
    "f(x, y) = x^2 + y^2"
   ]
  },
  {
   "cell_type": "code",
   "execution_count": 32,
   "metadata": {
    "collapsed": false
   },
   "outputs": [
    {
     "data": {
      "text/plain": [
       "2-element Array{TaylorSeries.TaylorN{Float64},1}:\n",
       "  1.0 x + 𝒪(‖x‖⁷)\n",
       "  1.0 y + 𝒪(‖x‖⁷)"
      ]
     },
     "execution_count": 32,
     "metadata": {},
     "output_type": "execute_result"
    }
   ],
   "source": [
    "x, y = set_variables(\"x y\")"
   ]
  },
  {
   "cell_type": "code",
   "execution_count": 125,
   "metadata": {
    "collapsed": false
   },
   "outputs": [
    {
     "data": {
      "text/plain": [
       "5-element Array{TaylorSeries.TaylorN{Float64},1}:\n",
       "   1.0 t + 𝒪(‖x‖²)\n",
       "  1.0 q1 + 𝒪(‖x‖²)\n",
       "  1.0 p1 + 𝒪(‖x‖²)\n",
       "  1.0 q2 + 𝒪(‖x‖²)\n",
       "  1.0 p2 + 𝒪(‖x‖²)"
      ]
     },
     "execution_count": 125,
     "metadata": {},
     "output_type": "execute_result"
    }
   ],
   "source": [
    "var1 = set_variables(\"t q1 p1 q2 p2\", order = 1)"
   ]
  },
  {
   "cell_type": "code",
   "execution_count": 128,
   "metadata": {
    "collapsed": false
   },
   "outputs": [
    {
     "data": {
      "text/plain": [
       " 2.1000067396000004 p2 + 𝒪(‖x‖²)"
      ]
     },
     "execution_count": 128,
     "metadata": {},
     "output_type": "execute_result"
    }
   ],
   "source": [
    "regHam(t, q1+ 1.44914, p1 + 2.17371, q2, p2 + 4.0)"
   ]
  },
  {
   "cell_type": "code",
   "execution_count": 130,
   "metadata": {
    "collapsed": false
   },
   "outputs": [
    {
     "name": "stdout",
     "output_type": "stream",
     "text": [
      "search: \u001b[1mT\u001b[22m\u001b[1ma\u001b[22m\u001b[1my\u001b[22m\u001b[1ml\u001b[22m\u001b[1mo\u001b[22m\u001b[1mr\u001b[22m\u001b[1mN\u001b[22m \u001b[1mt\u001b[22m\u001b[1ma\u001b[22m\u001b[1my\u001b[22m\u001b[1ml\u001b[22m\u001b[1mo\u001b[22m\u001b[1mr\u001b[22mi\u001b[1mn\u001b[22mteg \u001b[1mT\u001b[22m\u001b[1ma\u001b[22m\u001b[1my\u001b[22m\u001b[1ml\u001b[22m\u001b[1mo\u001b[22m\u001b[1mr\u001b[22mI\u001b[1mn\u001b[22mtegration show_params_\u001b[1mT\u001b[22m\u001b[1ma\u001b[22m\u001b[1my\u001b[22m\u001b[1ml\u001b[22m\u001b[1mo\u001b[22m\u001b[1mr\u001b[22m\u001b[1mN\u001b[22m \u001b[1mT\u001b[22m\u001b[1ma\u001b[22m\u001b[1my\u001b[22m\u001b[1ml\u001b[22m\u001b[1mo\u001b[22m\u001b[1mr\u001b[22m1\n",
      "\n"
     ]
    },
    {
     "data": {
      "text/markdown": [
       "```\n",
       "TaylorN{T<:Number} <: Number\n",
       "```\n",
       "\n",
       "DataType for polynomial expansions in many (>1) independent variables.\n",
       "\n",
       "**Fields:**\n",
       "\n",
       "  * `coeffs  :: Array{HomogeneousPolynomial{T},1}` Vector containing the\n",
       "\n",
       "`HomogeneousPolynomial` entries. The $i$-th component corresponds to the homogeneous polynomial of degree $i-1$.\n",
       "\n",
       "  * `order   :: Int`  maximum order of the polynomial expansion.\n",
       "\n",
       "```\n",
       "TaylorN(T, nv; [order=get_order()])\n",
       "TaylorN(nv; [order=get_order()])\n",
       "```\n",
       "\n",
       "Shortcut to define the `nv`-th independent `TaylorN{T}` variable as a polynomial. The order is defined through the keyword parameter `order`, whose default corresponds to `get_order()`. If `T::Type` is ommitted, `Float64` is assumend.\n"
      ],
      "text/plain": [
       "```\n",
       "TaylorN{T<:Number} <: Number\n",
       "```\n",
       "\n",
       "DataType for polynomial expansions in many (>1) independent variables.\n",
       "\n",
       "**Fields:**\n",
       "\n",
       "  * `coeffs  :: Array{HomogeneousPolynomial{T},1}` Vector containing the\n",
       "\n",
       "`HomogeneousPolynomial` entries. The $i$-th component corresponds to the homogeneous polynomial of degree $i-1$.\n",
       "\n",
       "  * `order   :: Int`  maximum order of the polynomial expansion.\n",
       "\n",
       "```\n",
       "TaylorN(T, nv; [order=get_order()])\n",
       "TaylorN(nv; [order=get_order()])\n",
       "```\n",
       "\n",
       "Shortcut to define the `nv`-th independent `TaylorN{T}` variable as a polynomial. The order is defined through the keyword parameter `order`, whose default corresponds to `get_order()`. If `T::Type` is ommitted, `Float64` is assumend.\n"
      ]
     },
     "execution_count": 130,
     "metadata": {},
     "output_type": "execute_result"
    }
   ],
   "source": [
    "?TaylorN"
   ]
  },
  {
   "cell_type": "code",
   "execution_count": 51,
   "metadata": {
    "collapsed": false
   },
   "outputs": [
    {
     "data": {
      "text/plain": [
       " 2.1000067396000004 + 𝒪(‖x‖²)"
      ]
     },
     "execution_count": 51,
     "metadata": {},
     "output_type": "execute_result"
    }
   ],
   "source": [
    "derivative(regHam(t, q1+ 1.44914, p1 + 2.17371, q2, p2 + 4.0), 5)"
   ]
  },
  {
   "cell_type": "code",
   "execution_count": 53,
   "metadata": {
    "collapsed": false
   },
   "outputs": [
    {
     "data": {
      "text/plain": [
       "5-element Array{Float64,1}:\n",
       " 0.00569683\n",
       " 1.45061   \n",
       " 2.17239   \n",
       " 0.257709  \n",
       " 4.00971   "
      ]
     },
     "execution_count": 53,
     "metadata": {},
     "output_type": "execute_result"
    }
   ],
   "source": [
    "q[2,:]"
   ]
  },
  {
   "cell_type": "code",
   "execution_count": 4,
   "metadata": {
    "collapsed": false
   },
   "outputs": [
    {
     "data": {
      "text/plain": [
       "condini (generic function with 1 method)"
      ]
     },
     "execution_count": 4,
     "metadata": {},
     "output_type": "execute_result"
    }
   ],
   "source": [
    "function condini(x10::Float64, px10::Float64)\n",
    "    @assert x10 != 0\n",
    "    Q1 = sqrt(x10)\n",
    "    Q2 = 0.0\n",
    "    P1 = px10*sqrt(x10)    \n",
    "    P2 = sqrt(8Z)    \n",
    "    return [0, Q1, P1, Q2, P2]\n",
    "end"
   ]
  },
  {
   "cell_type": "code",
   "execution_count": 5,
   "metadata": {
    "collapsed": false
   },
   "outputs": [
    {
     "data": {
      "text/plain": [
       "regHam (generic function with 2 methods)"
      ]
     },
     "execution_count": 5,
     "metadata": {},
     "output_type": "execute_result"
    }
   ],
   "source": [
    "function regHam(t, Q₁, P₁, Q₂, P₂)\n",
    "    #Cantidades auxiliares\n",
    "    P₁² = P₁^2\n",
    "    P₂² = P₂^2\n",
    "    Q₁² = Q₁^2\n",
    "    Q₂² = Q₂^2\n",
    "    nf = abs((Q₁)^2 - (Q₂)^2)\n",
    "    \n",
    "    H = 0.125*(P₁²*Q₂² + P₂²*Q₁²) - Z*(Q₁² + Q₂²) + Q₁²*Q₂²*(1.0 + 1.0/nf)\n",
    "    return H\n",
    "end\n",
    "\n",
    "\n",
    "regHam(v) = regHam(v...)"
   ]
  },
  {
   "cell_type": "code",
   "execution_count": 124,
   "metadata": {
    "collapsed": false
   },
   "outputs": [
    {
     "data": {
      "text/plain": [
       "-0.9917703555758193"
      ]
     },
     "execution_count": 124,
     "metadata": {},
     "output_type": "execute_result"
    }
   ],
   "source": [
    "regHam(rand(5))"
   ]
  },
  {
   "cell_type": "code",
   "execution_count": null,
   "metadata": {
    "collapsed": true
   },
   "outputs": [],
   "source": [
    "function errHam(N::Int)\n",
    "    dE = zeros(N)\n",
    "    for j in 1:N\n",
    "        al = rand(5)\n",
    "        alt = al + var1\n",
    "        \n",
    "end"
   ]
  },
  {
   "cell_type": "code",
   "execution_count": 118,
   "metadata": {
    "collapsed": false
   },
   "outputs": [
    {
     "data": {
      "text/plain": [
       "5-element Array{Float64,1}:\n",
       "   0.0   \n",
       "  10.02  \n",
       " -40.0799\n",
       "   0.0   \n",
       "   4.0   "
      ]
     },
     "execution_count": 118,
     "metadata": {},
     "output_type": "execute_result"
    }
   ],
   "source": [
    "q0 = condini(100.4, -4.0)"
   ]
  },
  {
   "cell_type": "code",
   "execution_count": 119,
   "metadata": {
    "collapsed": false
   },
   "outputs": [
    {
     "data": {
      "text/plain": [
       "0.0"
      ]
     },
     "execution_count": 119,
     "metadata": {},
     "output_type": "execute_result"
    }
   ],
   "source": [
    "regHam(q0)"
   ]
  },
  {
   "cell_type": "code",
   "execution_count": 120,
   "metadata": {
    "collapsed": false
   },
   "outputs": [
    {
     "name": "stderr",
     "output_type": "stream",
     "text": [
      "\u001b[1m\u001b[31mWARNING: Maximum number of integration steps reached; exiting.\u001b[0m\n"
     ]
    },
    {
     "name": "stdout",
     "output_type": "stream",
     "text": [
      "182.538442 seconds (2.47 G allocations: 230.480 GB, 21.80% gc time)\n"
     ]
    },
    {
     "name": "stderr",
     "output_type": "stream",
     "text": [
      "\u001b[1m\u001b[31mWARNING: Maximum number of integration steps reached; exiting.\u001b[0m\n"
     ]
    }
   ],
   "source": [
    "t, q = taylorinteg(undrivenHelium, q0, t0, 0.01, order, abs_tol, maxsteps=2); #warm-up lap\n",
    "@time t, q = taylorinteg(undrivenHelium, q0, t0, 100.0, order, abs_tol, maxsteps=steps);"
   ]
  },
  {
   "cell_type": "markdown",
   "metadata": {},
   "source": [
    "The final state:"
   ]
  },
  {
   "cell_type": "code",
   "execution_count": 111,
   "metadata": {
    "collapsed": false
   },
   "outputs": [
    {
     "data": {
      "text/plain": [
       "(100.0,[77447.4,31.6161,-0.0809286,0.993457,2.85097])"
      ]
     },
     "execution_count": 111,
     "metadata": {},
     "output_type": "execute_result"
    }
   ],
   "source": [
    "t[end], q[end,:]"
   ]
  },
  {
   "cell_type": "code",
   "execution_count": 112,
   "metadata": {
    "collapsed": false
   },
   "outputs": [
    {
     "data": {
      "text/plain": [
       "2.0791688171671012"
      ]
     },
     "execution_count": 112,
     "metadata": {},
     "output_type": "execute_result"
    }
   ],
   "source": [
    "regHam(q[2,:])"
   ]
  },
  {
   "cell_type": "code",
   "execution_count": 113,
   "metadata": {
    "collapsed": false
   },
   "outputs": [
    {
     "data": {
      "text/plain": [
       "(68798,(68798,5))"
      ]
     },
     "execution_count": 113,
     "metadata": {},
     "output_type": "execute_result"
    }
   ],
   "source": [
    "length(t), size(q)"
   ]
  },
  {
   "cell_type": "code",
   "execution_count": 114,
   "metadata": {
    "collapsed": false
   },
   "outputs": [
    {
     "data": {
      "text/plain": [
       "length (generic function with 95 methods)"
      ]
     },
     "execution_count": 114,
     "metadata": {},
     "output_type": "execute_result"
    }
   ],
   "source": [
    "length"
   ]
  },
  {
   "cell_type": "code",
   "execution_count": 115,
   "metadata": {
    "collapsed": false
   },
   "outputs": [],
   "source": [
    "ene = zeros(t)\n",
    "for j in eachindex(ene)\n",
    "    ene[j] = regHam(q[j,:])\n",
    "end"
   ]
  },
  {
   "cell_type": "code",
   "execution_count": 116,
   "metadata": {
    "collapsed": false
   },
   "outputs": [
    {
     "data": {
      "text/html": [
       "<img src=\"data:image/png;base64,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\" />"
      ]
     },
     "execution_count": 116,
     "metadata": {},
     "output_type": "execute_result"
    }
   ],
   "source": [
    "plot(eachindex(ene), ene)"
   ]
  },
  {
   "cell_type": "code",
   "execution_count": null,
   "metadata": {
    "collapsed": true
   },
   "outputs": [],
   "source": []
  }
 ],
 "metadata": {
  "kernelspec": {
   "display_name": "Julia 0.5.0",
   "language": "julia",
   "name": "julia-0.5"
  },
  "language_info": {
   "file_extension": ".jl",
   "mimetype": "application/julia",
   "name": "julia",
   "version": "0.5.0"
  }
 },
 "nbformat": 4,
 "nbformat_minor": 0
}
