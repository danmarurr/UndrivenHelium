{
 "cells": [
  {
   "cell_type": "code",
   "execution_count": 1,
   "metadata": {
    "collapsed": false
   },
   "outputs": [
    {
     "data": {
      "text/plain": [
       "500000"
      ]
     },
     "execution_count": 1,
     "metadata": {},
     "output_type": "execute_result"
    }
   ],
   "source": [
    "using ValidatedNumerics, TaylorSeries, TaylorIntegration\n",
    "using Plots, LaTeXStrings\n",
    "# plotly()\n",
    "pyplot(grid = :false, legend = :false)\n",
    "const λ = 1.0\n",
    "const Z = 2.0\n",
    "const order = 30\n",
    "const t0 = 0.0\n",
    "const t_max = 0.5 \n",
    "const abs_tol = 1.0E-20\n",
    "const steps = 500_000"
   ]
  },
  {
   "cell_type": "code",
   "execution_count": 2,
   "metadata": {
    "collapsed": false
   },
   "outputs": [
    {
     "data": {
      "text/plain": [
       "errHam (generic function with 1 method)"
      ]
     },
     "execution_count": 2,
     "metadata": {},
     "output_type": "execute_result"
    }
   ],
   "source": [
    "function undrivenHelium(τ, q)\n",
    "    t, Q₁, Q₂, P₁, P₂ = q\n",
    "    \n",
    "    t1 = Q₁^2\n",
    "    t2 = Q₂^2\n",
    "    t = t1 * t2\n",
    "    R12 = t1 - t2\n",
    "    q₁ = 0.25*t2*P₁\n",
    "    p₁ = 2Q₁*(-0.125P₂^2 + Z  - t2 - t2/abs(R12) + t*R12/abs(R12)^3)\n",
    "    q₂ = 0.25*t1*P₂\n",
    "    p₂ = 2Q₂*(-0.125P₁^2 + Z  - t1 - t1/abs(R12) - t*R12/abs(R12)^3)\n",
    "\n",
    "    return [t, q₁, q₂, p₁, p₂] \n",
    "\n",
    "end\n",
    "undrivenHelium(v) = undrivenHelium(0, v)\n",
    "\n",
    "\n",
    "var1 = set_variables(\"t q1 q2 p1 p2\", order = 1)\n",
    "\n",
    "\n",
    "function condini(x10::Float64, px10::Float64)\n",
    "    @assert x10 != 0\n",
    "    Q1 = sqrt(x10)\n",
    "    Q2 = 0.0\n",
    "    P1 = px10*sqrt(x10)    \n",
    "    P2 = sqrt(8Z)    \n",
    "    return [0, Q1, Q2, P1, P2]\n",
    "end\n",
    "\n",
    "function regHam(t, Q₁, Q₂, P₁, P₂)\n",
    "    #Cantidades auxiliares\n",
    "    P₁² = P₁^2\n",
    "    P₂² = P₂^2\n",
    "    Q₁² = Q₁^2\n",
    "    Q₂² = Q₂^2\n",
    "    nf = abs(Q₁² - Q₂²)\n",
    "    \n",
    "    H = 0.125*(P₁²*Q₂² + P₂²*Q₁²) - Z*(Q₁² + Q₂²) + Q₁²*Q₂²*(1.0 + 1.0/nf)\n",
    "    return H\n",
    "end\n",
    "\n",
    "\n",
    "regHam(v) = regHam(v...)\n",
    "\n",
    "function errHam(N::Int)\n",
    "    srand(487293456)\n",
    "    J = [0 0 0 0 0; 0 0 0 1 0; 0 0 0 0 1; 0 -1 0 0 0; 0 0 -1 0 0 ]\n",
    "    \n",
    "    dnorm = zeros(N)\n",
    "    \n",
    "    for j in 1:N\n",
    "        al = 10*rand(5)\n",
    "        alt = al + var1\n",
    "        ene = J*∇(regHam(alt))\n",
    "        ene1 = [ene[k].coeffs[1].coeffs[1] for k in 1:5]\n",
    "        meq = undrivenHelium(al)\n",
    "        meq[1] = 0\n",
    "        dnorm[j] = norm(meq - ene1) \n",
    "    end\n",
    "    return dnorm  \n",
    "end"
   ]
  },
  {
   "cell_type": "code",
   "execution_count": 3,
   "metadata": {
    "collapsed": false
   },
   "outputs": [
    {
     "data": {
      "text/html": [
       "<img src=\"data:image/png;base64,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\" />"
      ]
     },
     "execution_count": 3,
     "metadata": {},
     "output_type": "execute_result"
    }
   ],
   "source": [
    "dnorm = errHam(1_000);\n",
    "plot(eachindex(dnorm), dnorm, title = \"Compatibility Hamiltonian vs Eqs of motion\")"
   ]
  },
  {
   "cell_type": "code",
   "execution_count": 4,
   "metadata": {
    "collapsed": false
   },
   "outputs": [
    {
     "data": {
      "text/plain": [
       "6.507814330688532e-11"
      ]
     },
     "execution_count": 4,
     "metadata": {},
     "output_type": "execute_result"
    }
   ],
   "source": [
    "maximum(dnorm)"
   ]
  },
  {
   "cell_type": "code",
   "execution_count": 5,
   "metadata": {
    "collapsed": false
   },
   "outputs": [
    {
     "data": {
      "text/plain": [
       "q2sign (generic function with 1 method)"
      ]
     },
     "execution_count": 5,
     "metadata": {},
     "output_type": "execute_result"
    }
   ],
   "source": [
    "function q2sign(xold, x0, tol)\n",
    "    if abs(xold[3]) < tol\n",
    "        sq2o = 0\n",
    "    else\n",
    "        sq2o = sign(xold[3])\n",
    "    end\n",
    "    \n",
    "    if abs(x0[3]) < tol\n",
    "        sq2 = 0\n",
    "    else\n",
    "        sq2 = sign(x0[3])\n",
    "    end\n",
    "    if abs(xold[5]) < tol\n",
    "        sp2o = 0\n",
    "    else\n",
    "        sp2o = sign(xold[5])\n",
    "    end\n",
    "    \n",
    "    if abs(x0[5]) < tol\n",
    "        sp2 = 0\n",
    "    else\n",
    "        sp2 = sign(x0[5])\n",
    "    end\n",
    "    return sq2o, sq2, sp2o, sp2\n",
    "end\n",
    "    "
   ]
  },
  {
   "cell_type": "code",
   "execution_count": 6,
   "metadata": {
    "collapsed": false
   },
   "outputs": [
    {
     "data": {
      "text/plain": [
       "mytaylorinteg (generic function with 1 method)"
      ]
     },
     "execution_count": 6,
     "metadata": {},
     "output_type": "execute_result"
    }
   ],
   "source": [
    "###Implementamos nuevo código \n",
    "function taylorstep1!{T<:Number}(f, t0::T, t1::T, x0::Array{T,1},\n",
    "        order::Int, abstol::T)\n",
    "    @assert t1 > t0\n",
    "    # Initialize the vector of Taylor1 expansions\n",
    "    xT = Array{Taylor1{T}}(length(x0))\n",
    "    for i in eachindex(x0)\n",
    "        @inbounds xT[i] = Taylor1( x0[i], order )\n",
    "    end\n",
    "\n",
    "    # Compute the Taylor coefficients\n",
    "    TaylorIntegration.jetcoeffs!(f, t0, xT)\n",
    "\n",
    "    # Compute the step-size of the integration using `abstol`\n",
    "    δt = TaylorIntegration.stepsize(xT, abstol)\n",
    "    δt = min(δt, t1-t0)\n",
    "\n",
    "    evaluate!(xT, δt, x0)\n",
    "    return δt, xT\n",
    "end\n",
    "\n",
    "\n",
    "function mytaylorinteg{T<:Number}(f, q0::Array{T,1}, order::Int, abstol::T, t0::T, \n",
    "    tmax::T; tsteps::Int = 1000, tol::Float64=1e-20, maxsteps::Int=5000)\n",
    "\n",
    "    # Allocation\n",
    "    tv = Array{T}(maxsteps)\n",
    "    dof = length(q0)\n",
    "    xv = Array{T}(dof, maxsteps)\n",
    "\n",
    "   \n",
    "    # Initial conditions\n",
    "    @inbounds tv[1] = t0\n",
    "    @inbounds xv[:,1] = q0[:]\n",
    "    x0 = copy(q0)\n",
    "\n",
    "    # Integration\n",
    "    nsteps = 1\n",
    "    while t0 < tmax\n",
    "        xold = copy(x0)\n",
    "        δt, sT = taylorstep1!(f, t0, tmax, x0, order, abstol)\n",
    "        sq2o, sq2, sp2o, sp2 = q2sign(xold, x0, tol)\n",
    "        steps1 = 0\n",
    "        x00 = copy(x0)\n",
    "        while sq2o*sq2 == -1 || (sp2o*sp2 == -1 && abs(xold[3]) < tol)\n",
    "            q2T = sT[3]\n",
    "            dq2T = derivative(q2T)\n",
    "            δtn = copy(δt)\n",
    "            for nc in 1:20\n",
    "                δtn = δtn - evaluate(q2T, δtn)/evaluate(dq2T, δtn)\n",
    "            end\n",
    "            δt = minimum([δtn, δt])\n",
    "            evaluate!(sT, δt, x0)\n",
    "            sq2o, sq2, sp2o, sp2 = q2sign(xold, x0, tol)\n",
    "            steps1 += 1\n",
    "            if steps1  ≥ tsteps\n",
    "                break\n",
    "            end\n",
    "        end\n",
    "        t0 += δt\n",
    "                \n",
    "        if nsteps ≥ maxsteps \n",
    "            warn(\"\"\"\n",
    "            Maximum number of integration steps reached; exiting.\n",
    "            \"\"\")\n",
    "            break\n",
    "        end\n",
    "        nsteps += 1\n",
    "        @inbounds tv[nsteps] = t0\n",
    "        @inbounds xv[:,nsteps] = x0[:]\n",
    "    end\n",
    "\n",
    "    return view(tv,1:nsteps), view(xv,:,1:nsteps)'\n",
    "end"
   ]
  },
  {
   "cell_type": "code",
   "execution_count": 7,
   "metadata": {
    "collapsed": false
   },
   "outputs": [
    {
     "data": {
      "text/plain": [
       "5-element Array{Float64,1}:\n",
       " 0.0    \n",
       " 1.41421\n",
       " 0.0    \n",
       " 0.0    \n",
       " 4.0    "
      ]
     },
     "execution_count": 7,
     "metadata": {},
     "output_type": "execute_result"
    }
   ],
   "source": [
    "c1 = condini(2.0, 0.0)"
   ]
  },
  {
   "cell_type": "code",
   "execution_count": 8,
   "metadata": {
    "collapsed": false
   },
   "outputs": [
    {
     "name": "stderr",
     "output_type": "stream",
     "text": [
      "\u001b[1m\u001b[31mWARNING: Maximum number of integration steps reached; exiting.\u001b[0m\n"
     ]
    },
    {
     "data": {
      "text/plain": [
       "([0.0,0.170169,0.293022,0.389814,0.467347,0.530049,0.584848,0.629127,0.668293,0.704756  …  12.6114,12.6118,12.6123,12.6127,12.6131,12.6136,12.614,12.6144,12.6148,12.6153],\n",
       "[0.0 1.41421 … 0.0 4.0; 0.0130626 1.41421 … -0.00855838 3.9387; … ; 3292.75 48.257 … 67.932 -4.0; 3293.04 48.2591 … 67.935 -2.83647])"
      ]
     },
     "execution_count": 8,
     "metadata": {},
     "output_type": "execute_result"
    }
   ],
   "source": [
    "t, x = mytaylorinteg(undrivenHelium, c1, order, abs_tol, t0, 15.0)"
   ]
  },
  {
   "cell_type": "code",
   "execution_count": 9,
   "metadata": {
    "collapsed": false
   },
   "outputs": [],
   "source": [
    "ene = zeros(t)\n",
    "for j in eachindex(ene)\n",
    "    ene[j] = abs(regHam(x[j,:]))\n",
    "end"
   ]
  },
  {
   "cell_type": "code",
   "execution_count": 10,
   "metadata": {
    "collapsed": false
   },
   "outputs": [
    {
     "data": {
      "text/plain": [
       "5000-element Array{Float64,1}:\n",
       " 0.0        \n",
       " 7.21645e-16\n",
       " 2.22045e-16\n",
       " 4.44089e-16\n",
       " 4.44089e-16\n",
       " 4.44089e-16\n",
       " 0.0        \n",
       " 0.0        \n",
       " 8.88178e-16\n",
       " 0.0        \n",
       " 1.77636e-15\n",
       " 1.77636e-15\n",
       " 0.0        \n",
       " ⋮          \n",
       " 3.18323e-12\n",
       " 4.3201e-12 \n",
       " 4.54747e-12\n",
       " 3.86535e-12\n",
       " 5.00222e-12\n",
       " 5.00222e-12\n",
       " 4.54747e-12\n",
       " 4.09273e-12\n",
       " 2.27374e-12\n",
       " 1.81899e-12\n",
       " 1.81899e-12\n",
       " 2.27374e-12"
      ]
     },
     "execution_count": 10,
     "metadata": {},
     "output_type": "execute_result"
    }
   ],
   "source": [
    "ene"
   ]
  },
  {
   "cell_type": "code",
   "execution_count": 11,
   "metadata": {
    "collapsed": false
   },
   "outputs": [
    {
     "data": {
      "text/html": [
       "<img src=\"data:image/png;base64,iVBORw0KGgoAAAANSUhEUgAAAlgAAAGQCAYAAAByNR6YAAAABHNCSVQICAgIfAhkiAAAAAlwSFlzAAAPYQAAD2EBqD+naQAAIABJREFUeJzsnXl4FFXWxt+q7myQEAKELZAESEIQZAk4rAJBnRhcQBZZBASGJcOMIoqiM34qjDIuDKgzDowIiIAsyoCIAgLKIiJiYESWAAFCgLAEE5aEbN19vz8qVV3VXdVbek2f3/PkSVL3VtWt6tt13zrn3HM5xhgDQRAEQRAE4TZ4XzeAIAiCIAiitkECiyAIgiAIws2QwCIIgiAIgnAzJLAIgiAIgiDcDAksgiAIgiAIN0MCiyD8jN27d4PnecyZM8en7Th//jx4nsfEiRN92g7CeQwGA1577TWkpKQgPDwcOp0OmzZt8nWzCCKoIIFFEF5k4sSJ4HkesbGxqKqq8nVzvIK3BKMoCG39tG7d2qNt8BfmzZuHOXPmIC4uDs8//zxeffVVpKamatane1d7+P777/HYY48hMzMT7du3x0svvYQ7d+74ullBid7XDSCIYKGkpASfffYZeJ5HUVERNm7ciOHDh/u6WbWOpKQkjBkzRrWsfv36Xm6Nb/jqq68QFRWFHTt2QKfTObwf3bvA5tixY3j33XexZs0ahIWFIT8/H7169cJ3332HvXv3IiQkxNdNDCpIYBGEl1izZg3u3LmDZ599FgsWLMCSJUuCQmB5O5dxUlISXnnlFa+e098oKChAw4YNnRJXAN27QOcvf/kLFi9ejLCwMABAfHw8Zs2ahenTp2PJkiXIysrycQuDC3IREoSXWLJkCfR6PV544QWkp6dj586duHDhgs199u3bh/79+6NevXqIiYnBsGHDcObMGat669evR79+/dCkSRNEREQgLi4ODzzwAP773/9a1V22bBl69OiBqKgoREVFoUePHli+fLnD17F8+XLwPI9PPvnEqszSHTh79mwMGDAAHMfhtddek9xNOp0O+fn5in337NmDRx55BLGxsQgPD0dKSgr+7//+D2VlZQ63zRnkbd2/fz8yMjIQExMjiRJ75SKO3k9Hj6eFI+eZPXs2eJ5HXl4e8vLyPOrek19PdnY2HnjgAdSrVw/169fHkCFDcP78edX9HP2cHblfRqMRf//735GUlISIiAgkJyfjzTffxLlz5xTxgzt37gTP8/jzn/+s2qazZ8+C53lkZma66e74hm+//RYDBgxQhB/069dPKiO8CwksgvACJ06cwIEDB5CRkYHY2FiMGzcORqMRy5Yt09xn//79uO+++xATE4Onn34a/fv3x4YNG9C7d2/k5eVJ9RYuXIjhw4fjzJkzGDJkCJ577jlkZmbi6tWr2Lhxo+KYTz/9NP7whz+goKAAkyZNwqRJk1BQUIAJEyZgxowZDl8Px3EO1evfvz/Gjx8Pxhj69++P1157TfqRu5wWLlyI9PR07N+/Hw8//DCmT5+Oli1b4o033sDvf/97GAwGh9vmLKKI5XkeU6dOxciRIx0ud+V+2jufGo6eJz09Ha+99pokdGbPno3XXnsNzzzzjIt3xz4//fQT+vbti/DwcGRlZeGee+7Bxo0b8cADD6CyslJR15XP2db9mjBhAv7617+C4zj8+c9/RmZmJt59910888wzij563333oU2bNvj0009RXl5udY7FixeD4zhMmTLFjXfG+yQkJODy5csKgSVaszz1okLYgBEE4XGeffZZxvM8W7duHWOMsZKSEhYZGckSExOt6u7atYtxHMd4nmeLFy9WlP3nP/9hHMexRx99VNrWtWtXFh4ezq5fv251rKKiIunvPXv2MI7jWIcOHdjt27el7Tdu3GBt27ZlPM+z77//Xtqel5fHOI5jEyZMUBzz448/ZjzPs+XLl2u2ffbs2Ta3yTl+/DgLCQlhaWlprLi4WFH21ltvMZ7n2fz581X3lSO2Nzk5mb322muqP1u3brVql71r0Sp39n7aO54Wzp6HMcYSExNZq1atHD6Hs/fO8no+++wzRdm4ceMYz/Ns7dq10jZnP2d792vnzp2M4zjWtWtXVlZWJm2/cuUKa9q0KeN5XtF33377bcbzPPvkk08UxzEYDKx58+asadOmzGAwOHzPNm7cyB5//HE2a9Ys9txzz7GzZ8+ykSNHOry/JygpKbF6Dnz66aeM4zj2t7/9zUetCl5IYBGEh6mqqmKNGzdm9evXZxUVFdL2sWPHMp7n2fbt2xX1xYElNTXV6lgmk4mlpKQwnU4nPUi7du3KoqKirAYtSyZOnMh4nmeff/65VZn4EJ40aZK0zVsC6+mnn1YVCeL1Nm7cmN1zzz02r03eXp7nNX9mzJhh1a5u3bqpHs9eubP3097xtHD2PIy5LrAcvXfy60lPT7c6nlg2c+ZMaZuzn7O9+zV+/HjG8zz74osvrMr+/ve/W/XdwsJCFhYWxvr27auou3HjRsZxHHvxxRc17o418+fPZwkJCezGjRuMMcZ27NjBGjRowJ566imHjyEyevRo1qVLF4d+OnfuzO677z6njn/vvfeyJk2a2H0+EO6HgtwJwsNs3LgRhYWFmDx5MkJDQ6Xt48aNw8qVK7FkyRLcf//9Vvv17t3bahvHcejduzdyc3Pxyy+/YMCAARg5ciRmzZqFDh06YPTo0UhPT0efPn0QFRWl2Pd///sfAHNMhpz09HRFHW9y4MABAMDWrVuxY8cORRljDCEhIcjJyXH4eBkZGfj6668drn/PPfe4VO7q/bR3PnedxxWcvXcAkJaWZrWtRYsWAIAbN25I21z9nLXu15EjRwCof0/UtjVq1AhDhgzB2rVrcerUKaSkpAAAPvroI3Achz/84Q+q57Hk4MGDeP755/H1118jOjoaANC5c2cUFxejb9++Dh1DzqpVq5zex1G+/vpr7N+/Hxs2bKBZoD6ABBZBeJglS5aA4ziMHTtWsX3AgAGIi4vDF198gRs3blg9AJs0aaJ6PHH7zZs3AQAzZ85Eo0aNsHDhQsyfPx/z5s2DXq/HQw89hAULFiAxMREAcOvWLfA8j0aNGqkek+M43Lp1q6aX6zRFRUUAgLlz52rWcTTmyxW07rO9clfvp73zues83qJevXpW2/R6YWgxGo3SNlc/Z3v3v2HDhg7vM3XqVKxZswYfffQR3n77bVy+fBlbt25F//79kZSUpNkuOa+88gri4uLw+9//Xtq2d+9ecByHPn36SNvu3LmD8ePHY/78+ZLg9CaFhYWYNm0alixZgocfftjr5ycoyJ0gPMrFixexfft2AEDfvn0ViRv1ej0uXbqEiooKrFy50mrfq1evqh5T3C6+PQPA+PHjceDAARQWFmLjxo0YOnQovvjiCzzyyCNSmoR69erBZDLh+vXrVse8du0aGGOqg6UlPM+DMaYakCyKPmcQz3n79m0YjUbVH08GudsTb1rlrt5PZ8Wiuz43X+Pq52zv/v/2229WZVrfnX79+iE1NRWffPIJDAYDli5dCpPJhMmTJzt0DTdu3MCOHTuQkZGh2L5nzx60bt0aTZs2BQCsWLEC77zzDtavXw+TyeTQsd1JVVUVHn/8cbzxxhsYN26c189PCJDAIggPsmzZMphMJvTp00ea/SX/EWfYLVmyxGrfffv2WW1jjOGHH34Ax3Ho1KmTVXlMTAweffRRrF69GgMGDMDx48eRm5sLAOjSpQsAYNeuXVb7fffdd4o6toiJiQEAXLp0yars0KFDVtvEafVya4ac7t27AxBmTQYS7rqf/nIeT+Puz1ns/2rfE7VtIlOmTEFhYSE2bNiAZcuWISYmBkOGDHHonLm5uTAajejRo4di++7du3HvvfdK/48dOxavvvqqQzngxo0bh9/97ncO/dxzzz1W4k6NP/3pT5g0aRKeeOIJaduKFSscukbCjfgq+IsggoHWrVsznU7H8vLyNOv06tWL8TzPsrOzGWPK2VP/+c9/FHUXLVrEOI5jgwYNkrbt2rXL6piVlZWsc+fOjOd5lp+fzxhTzka7deuWVPfGjRssNTWV8TzP9u7dK23XCnIvKChgPM+zu+66i5WXl0vbT506xWJiYhjP84qA9mPHjqkeR+To0aMsJCSEtWvXTmqrnBs3brDDhw+r7itHbG9mZqbduozZD763V+7s/bR3PC2cPQ9jrge5O3rvGLN9PWp9x9nP2d792rFjh+oswsuXL7NmzZpZzSIUKSoqYhERESwuLk41eN8WJ0+eZBzHKSamXL58mel0OrZ06VKr+hzHsfPnzzt8fHfw3nvvsQ8//FCx7c6dO+y5557zajsICnInCI+xc+dOnDt3Dunp6UhISNCsN2HCBOzfvx9LlixRBAxnZGRg+vTp+Prrr9G+fXscPXoUmzdvRuPGjfHuu+9K9QYPHox69eqhR48eSEhIQFVVFbZv344TJ05g+PDhaNmyJQDg3nvvxVNPPYV//etf6NChA4YOHQrGGNavX49Lly5h+vTpihgSLZo1a4ZRo0Zh9erV6Nq1Kx588EFcu3YNGzZswMCBA/HZZ58p6qempqJ58+ZYs2YNQkND0aJFC3Ach6effhpRUVFo3749/v3vf2PatGlo27YtBg4ciDZt2uD27ds4e/Ysdu/ejQkTJuDf//63Q/c9NzcXs2fP1ix/6aWXFJMNXMVd99NfzgN49t65+3O+7777MHr0aKxevRp33303Bg8ejPLycnz22Wfo0aMHNm3aBJ63dtLExMRg+PDhWLFiBTiOw6RJkxy+hpSUFNx9991SHrrS0lIMHjwYjDGFBctXfPPNN3j77beRnp6OPXv2SNuvXr2Kxx57zIctC1J8q+8IovYyevRo1bw7lty6dYvVqVOHNWjQgJWXl7Ndu3YxnufZnDlz2L59+1h6ejqLiopi9evXZ8OGDWNnzpxR7L9o0SI2ePBg1qpVK1anTh0WGxvLevTowT788EPVvD4ff/wx6969O4uMjGSRkZGse/fuqikX8vLyGM/zbOLEiVZl5eXl7JlnnmHNmjVjERERrHPnzmzNmjWKtsv56aefWHp6OouOjpam/Vu+2f/8889s9OjRrEWLFiwsLIw1btyYdevWjf31r39lJ0+etHkP5e2193Pz5k3GGNNsq4i9chFH76ejx6vpeRgTLFitW7d2+NjO3jt712Or7zj6OTtyv4xGI3vjjTdYmzZtWHh4OEtKSmJvvfUW++mnnxjHcZrWKTGHVu/evR2+RyI5OTns4YcfZs8++yx79tln2cSJE1nTpk1V63rbgiVakNV+vv32W6+1gxDgGPPyQmEEQRAE4UE++ugjTJkyBQsXLsTUqVOtyufNm4dZs2Zh6dKlePLJJ2t0rgEDBqBRo0ZYt26dVZm4bFF8fHyNzkEEJhTkThAEQQQkarMFL126hNdffx16vV41PUFFRQX+9a9/ISYmBiNGjKjR+U0mEw4ePOhS/iui9kMxWARBEERA8uabb+Krr77Cvffei8aNGyM/Px+bN29GSUkJZs+ejbi4OKnuvn37sGvXLmzbtg0XLlzAm2++ifDw8Bqd/8CBAygtLbVKbPrZZ59h165d4DgOL730EtLT052K9SJqB+QiJAiCIAKSbdu2YcGCBfjll19QXFyM8PBwdOrUCdOmTbOyTs2ePRtz5sxBo0aNMG7cOLz11luqQfCOUFlZiUcffRQ///wziouL0aVLFzz33HMYNWqUOy6LqCWQwCIIgiAIgnAzFINFEARBEAThZigGK4i5fv06tm3bhsTERERERPi6OQRBEAQRkJSVlSEvLw8ZGRnSuqEksIKYbdu2YcyYMb5uBkEQBEHUClauXCktUUQCK4hJTEwEIHSIdu3a+bYxREAxY8YMLFiwwNfNIAIM6jfBw74rJjz9gwlT23GY0k5Xo2MFQr85ceIExowZI42rAAmsoEZ0C7Zr106xRAtB2CM6Opr6DOE01G+Ch8v5JuCSES3a8UhLq5nACqR+Iw+3oSB3giAIgiDcipifgON82w5fQgKLIAiCIAi3Yqr+zZPAIgiCIAiCcA+SBcuFfb8rMOH0zcBP0UkxWARBOA1lrCZcgfpN8GCq1kfOWrBuVzIM+MoIAGCTQwAEbr8hCxZBEE4TqA88wrdQvwkeRPuTsxasKpP1tkDtNySwCIIgCIJwK65asGpTUDwJLIIgCIIg3IqrFqxapK9IYBEEQRAE4V7IgkUCiyAIgiAINyNZsJwVWG5vie8ggUUQBEEQhFuRLFg26vTZZMD2i8qodhJYBEEQBEEQGtizYDHGsO8qw7M/Gr3WJm9DAosgCIIgCLdiLwbLUF0eWrNlCv0aElgEQRAEQbgVe5ncK6oNVyEWCizw87ebIYFFEARBEIRbsbcWYaUosGpT0JUFJLAIgiAIgnArZguWuoKqqFZgIRYqhCxYBEEQBEEQGlwrE6SSlgXrZqXw+3wJw5U7tUlWmSGBRRAEQRCEW3nxoMqigjL+sEfwEZ69DbT41CBtZ7VIa5HAIgiCIAjCI2jppR+vmUuMtUhUySGBRRAEQRCEVzFpiKrapLVIYBEEQRAE4RG0XH4Jkd5thy8ggUUQBEEQhEdgGjapWZ3U5YdckJkCPCCLBBZBEARBEB5BSyPpHFgF2mA7Tt7vIYFFEARBEIRbGPOdAdziKul/LRuUlmVLvnVzPlmwCIIgCIIgsCpXKYqcnSEoD35/JTuwF4ImgUUQBEEQhEfQElharkODbHsVuQgJgiAIgiCsMTopkuT1KQaLIAiCIAhCBYOTLkJ5/UBPQEoCiyAIgiAIj6DpInSgvrPizN8ggUUQBEEQhEdw1kW49YJ5h0ulwMWSwFVZJLAIgiAIgvAIWlYoLdn05x+UiqzlaoNGTf+HBBZBEARBEG7hoZbKBKKBHkdVE0hgEQRBEAThFiwtVqVV6vXKA9cw5TAksAiCIAiCcAuWqRUWHFUPwnrugOPBWWUBGu1OAosgCIIgCLfgCS1UEaAJ3UlgEQRBEAThFjyRHFQfoEolQJtNEAThO9L+WwVucRUOXQ9M1wVBcIurFIsyu4tgDmq3hAQWQRCEkxz+TfjddUMQROoShBOYHBRYes5+HRGtdQv9Ha8LrNzcXPTu3Rtt27ZF9+7dceLECdV6mzdvRrt27dC2bVsMGzYMJSUlUtmBAwfQuXNnpKam4v7778fly5c1j3/8+HGprLCwEJmZmUhJSUHHjh2xd+9eqaysrAyjR49GcnIyUlNTsX79eqmMMYannnoKSUlJSElJwQcffKBo6+uvv46kpCQkJyfj5ZdfVpQtWbIEKSkpSE5OxtSpU2E0mp3JrlxjRUUFHnvsMaSmpqJLly7IyMjAmTNnHLpGgiAIgvAkjmqh1Prq28N1wHs9a4ftx+tXMXXqVGRlZeHkyZN44YUX8OSTT1rVKS0txaRJk7Bp0yacPHkSzZo1w5w5cwAIYmfMmDF4//33kZOTg8zMTEyfPl3z+OPHj5fKXnzxRfTs2ROnTp3C0qVLMXr0aEnwzJs3D+Hh4Th9+jS2bt2KadOmobi4GACwYsUK5OTkIDc3FwcOHMA777wjCcM9e/Zg7dq1OHr0KI4dO4Zt27Zhy5YtAIBz587hlVdewb59+3D69GlcuXIFH374oVuuMScnB4cPH8ajjz6KSZMmOXSNBEHUnECd0UQQ3kDN2sRUNtr6FlkatwL1G+dVgVVYWIjs7Gw88cQTAIChQ4fiwoULOHv2rKLeli1bkJaWhuTkZADAtGnTsHr1agBAdnY2QkJC0LdvXwCC2Pjyyy9RWVlp9/jr1q1DVlYWAKBbt26Ii4vD7t27AQBr166VyhITE9G/f39s2LBB2m/y5MkAgJiYGIwYMUJqz7p16zB27FiEh4cjNDQUEydOlMrWr1+PQYMGITY2FgCQlZUllbl6jWFhYXjwwQele9WjRw+cP39e+t/WNRIEUXNW5Sof91WO+kQIIghQ+zaobnPiaxOo3zCvCqwLFy6gWbNm4HnzaePj45Gfn6+ol5+fj4SEBOn/xMREXLlyBSaTyaosMjIS0dHRKCgosHn8oqIiGAwGNG7cWCpLSEiQzq12Tm+XOXKNlrz33nsYPHgwANi9RoIgao7lw76MwrAIQoKpyCG1dxAt0VRTMeZP1ApHp5r5sbahdo1z587FmTNnMHfuXB+0iCCCk+IK5XfxDgksIsgoqWL4rsDxfAyOWrVEOCcC4P0ZvTdP1rJlS1y+fBkmk0myMuXn5yM+Pl5RLz4+Htu3b5f+P3funGSZio+PR15enlRWUlKCW7duoXnz5qhbt67q8RMSEtCgQQPo9Xpcu3ZNsvDk5eVJ505ISMD58+fRpEkTqSwjI0Nqz/nz59G9e3er/cQyEcsyufvTssyVaxSZN28eNm7ciJ07dyI8PBwA7F6jFjNmzEB0dLRi26hRozBq1Cib+xFEMDLrJ+XAQhYsItiY9r0RK3IZqv7AQc8r1ZCavUPNgqXlWVeN4XKhjZ5k9erVUkiPyM2bN63qedWCFRsbi7S0NKxYsQIA8Pnnn6Nly5Zo3bq1ot6DDz6Iw4cP49SpUwCAhQsXYuTIkQCArl27wmAwSHFFixYtwiOPPILQ0FDN47dq1QoAMHz4cCxcuBAAcPDgQRQUFKBfv34AgGHDhmHRokUABLGze/duyfU2fPhwLF68GCaTCUVFRVi7di1GjBghla1YsQJlZWWoqKjA0qVLpbYOHToUmzZtwrVr18AYw6JFi6QyV68RAObPn481a9Zg+/btiIqKUtw7W9eoxYIFC7Bp0ybFD4krgnCMUhJYRJBx6Y7w+7ZKGi01MaQmpmwlJLUKcvczhTVq1CirMXPBggVW9bxqwQIEsTB+/HjMnTsX0dHR+PjjjwEAr776KuLi4jBlyhRERkbio48+wqBBg2A0GtGhQwcsX74cAMBxHFauXIkpU6agoqICzZs3lwSV2vGXLVsmlb355psYO3YsUlJSEBYWhlWrVkGn0wEAnn/+eUycOBFJSUnQ6/X44IMP0KBBAwDA2LFj8fPPPyM5ORk8z2PmzJlo3749AKBfv34YMWIEOnToAI7jMHLkSAwcOBAA0KpVK8yePRu9evUCx3FIT0/H1KlTAcDla7x06RJmzpyJNm3aID09HYwxhIeHY//+/XavkSAI90OTColgI7x6SMm7DcSEKcvUxJDBBNyoYKgfZpZOWt8bZ92J/gzHgiGAiVDl0KFD6Nq1K7Kzs5GWlubr5hBEQGCZ/Tr7MT3SGtWSoBEiaBD7MZsc4vS+nddX4ZciqO4vLxOZnMphcQ5T1I1bVYWCO+Y6Ylnokiq825PHn/aZTVzXx+rRMNy/v2Nq42mtCHInCILwNv+9X3iN/+maBxZfIwg/5lq5dpncYtOirvB77RlrO06VxddGtPWIJp+3f2eWJ4FqBSKBRRAE4QJt6glv1H/cRwKLCC7q2AgukoshcTmcWyqxWpYuQvn/HIAomWEsUP1sJLAIgiBcoJSCr4ggY9lJE2KWV+HMLfO2uYfNK4WsPG3CrzL3YKWNdw/LIPfiCsFtKX6teFmuhkD9ppHAIgiCcIFCmZvESNnciSDglWwjblQqt/31Z7NS+s8JpWqqsLFKm8EEZLXj0bepIKQulprLdBxXK3JhkcAiCIJwge6x5hHgtwofNoQgvARvR/SI5SnVaRUrbFiwqkxAxwbA9A6CDDHJ/IA6TilOyEVIEARRi2GMYdr35lfyJnXMo41RZQD451EjNpwz4bkfjYrBgyB8jav90Z5RSVddIaRaWVgGsoswxmBggJ7nJFEm/w7peKBCZhUO1G+P1/NgEQRBBCLXy4GFJ9RHDDUP4dP7zXVndODRItJTLSMI51B7IXAEUWA1qwNcvqNSXl2hcTiHQZ05tKyrPglE/L7oObMok7fpdiXDlouBKqvMkAWLIAjCAeQxIpbYMwjQPEPCn3DVoCoKKDFuyhK5NeqNe3RoXle9nhjIrufN+8hfUhiA+qHK/wMRElgEQRAOcLNS+zFvT0CtzjXh3C2Gg4XekVq3Kxm2XCBZR6gj78nOuAtFuXS0WLlPVbU6Eq1RooDSmvtxtnoWop4zC6z5v5r7q4kB9UPN4uzjU4HZl0lgEQRBOMDfDls/5BsJ66xrDiQiX+YztF5rwO822phW5Ub+uM+IgVuNqHTVF0TUauSaytaagJaIAqrEIq/VgmpxJIol8Zha2m38buF7UG40i5ANecqYq3DZCm9/OUgCiyAIotbybYF5ADg5XAhfXTtAGAXsCSxvp8y6VO3OJH1FqCHvFs70kTCdef8ImQASU5aIgsIgZmXXOM5PhUJJqE4IaLdqHwOlaSAIgghGwqunB6nFj6jhjJXAHYjNIYFFqCHvFs70zbBqE9Ydg9ItLvZ/SwuWve9FuE5dhNSWbksCiyAIwklCq5+cWgLr1A3lhuzr3hsy7tlgwO7LwvlIYBFqKFyELliw7hiAtIZmE5OrAiuMV8+tZWL2U0IEAiSwCIIgnERvIbDEcWTOISMm7DbgWrlyZLGXoNGd/CwTc962nBGBgcsuwup+f8cAPNDCeikb3iLI3d6hw3Tq343a8l5AAosgCMJJxAenpQXr1WwTPj7FEKFTjhq+WkmHLFiEGq4GuYfLMmfKxYOWBcsRgaXTsmDVAhMWCSyCIAg7XNewSOmrf//vN4a9l80jleU09qYR5r/veDHi3XLw/N9vDNziKnCLq7D/Kpm3ghV5DzxY6Hh/DJMpBrkwYgxIXF2F9eeEY90VIxTadRFqWLAaR9QCdQUSWARBEHbZf1VdYKU1Ev64VcXQd7M5BcPGPKV4ebGz+VF7vRxew9KC9aEsE/2aM2TeClbkwntDnuNCO1Q2c1A++88E4HyJ+f//9BEq2uthOk5dYD2ZzFEMFkEQRDDw6DfK/FWSBYvnUD8UuFmprH/bIk+Q3CXT70uDB1qojqUFS77Uj7dTRxD+g/yz11ovUA25BUtrMeb+zTgpg7ulBYupJMZSE1iqcVkBuJ4nCSyCIAgnkQ8A9UKB4gpl+c4C5WAgH8TySuAxLAehFbkmPPGtAV/kmTB5j1LY/fs4uQiDFXl/rHQqTYP5b7kFSy4Myb3kAAAgAElEQVTc5d8NS4HVc5PliwoHXsVWxXHWFqzAk1e02DNBEITTyONPwnVAqR2jlDNWgppQZpEo/tVs4cSfnvFOBnkiMJD3R2f6ZriOgyh11ILTLbdbiqID15RbOAC8hpnHMsidMQRc7gayYBEEQdghIVL5v/wtnQPwz2O2R6lvC7zz/n2r0n4dgpC7jiuc0N5yC5ZW6hHL4Hd7OCpCAtGCRQKLIAjCDpktlY9K+dhy9rb9/S1dhp7i3O1AHIYIb1PlBoGlZcGy5SIEgOIK80ZOI8gdCDhjlSoksAiCIOwgDhSj23BoGqEcXGy5WDJaeHeY+P0WcgUS9pH32fvjHO+jITLFcPKGeh35d0Ot/0/Ybe6jSfUcT8IbiElzSWARBEHYgYHhnlgOqwbocXlMCDgHsyCuu09nv5IbKamyX4cg5LMIm9dxXGDJa5ZpZLGVi7AWkRzY5BCwySHStgulDI3CgTe68YgM4RSCzPAHvVRX/Ir9sZ1wwAoSWARBELUPV9dG8+YSOQDwf13okU7Yp0rmu3MmyN2e+w9QCiw1yg1CfjZRWMmPqfZ9Ed2S5d7LbuI26NtIEARhB8ZcE0vejiP52+EAfM0nvI5yFqFrcXtayzAd/k29QBRKpQbAaDKneVBMGJFZhvs0Ef5uV1/4bTlDNhAggUUQBGEHV2eI+9t6ajwH9G3K4eUuvNeta4T/II9ncibhrFxUaemygjvq29cMEBTW9XILC5bGuQbG8yidoMddMcL/5SSwCIIgah/OLD4rr6Y108pXmBjQKBxoHA6E0tM/aHE1D5bBgQSlWi5ChQVLw0VoSR09Jy2cTgKLIAiiFsLgWr4evYMC63alsAjz1/med/H9N4/h+A1hwDpzi9I6BCPy2abOCKw3/meuHB+p3rm1JlrIhZdcYNl7CQmXYrACr6+SwCIIgqjmRgXDoevWD3LmhAVLDs8B7epbb2eMYVeBebC6Vr0A9Mpc78RQbbsonOd/GvEyRPDgavqD17vxODjYepZsmMbEWbmQctSCBQDh1evNkAWLIAgigBn0jRFdN1hPVzJBOwbLlquN4zi8lmY94nx8iiH9KyP2XxVGN3GwcTHe2GnuVF9iJC2WFtSE61xfxilMx6FbrHXn1/qeWM5A1FVv4O0ILcmCRQKLIAgicDlaLCgcbnEV3v1VeKIzxrAql2HPFXX1ExOm/D/CQk+pDRxixvXvqjO8i3W0Zma5wiPxHDY+oG5OEJtUN0S1mAgSIvTeWyfT0hVoacHSerkQBVYZpWkgCIIIXORiaMaPwsijFcwr8plFMtGJbYXHanoz4WC/FFmPHOLyJH/92YQyA5NitdwpsJb202FQIo9HE6wV3vL+QptpJmFwE6FzbhahI2gdzrKviQLLXpwiWbAIgiBqAZaDQNp/q7DgV9sKq1WUcqcWdYXfc+8RHq9NIqz3uSN7G6+zzCDFd9VEYBktTAANqy1rotCTk1AdoGyktFlBTR0vWrAsxYYosOwlJg1kgUUeeIIgiGosn/WHfwMO/yaMQP/spT4SWA4Qz3XkEVeXQ/fGwghSP9Ra4PxsEUjPqv+tieApsXChiEkb1YLzdR6wmBGBhzMxWIw51lkcicECzH0w1M5qUjqeQwgPlFd31i0XTHh0mxHL+ukwJtm/bUT+3TqCIAgvYstd0jBMfeiwFFghPIexybwkcB6oXkw3QgdEVcc8XS1Tnkg0PtVE8JRqTI+3bPWMDjwJLAKA0HcdnUXoqBD7Vy91xaSzUPqOWrDEOqKrfuBWIwwMGLvL/01aJLAIgiCquV6uXaYVryR/A5cvaivSpI6w4O2diSGY05VHHb11XJeoc2oyi1BLLInNntWJB5scgvk9ddIyJSSwghs9zzm8VI69WK2UaOH3kFbqXxQrC5a0VI79QEAOZitvIEEuQoIgCAfQGgbEN/BwO64OQHDX3TFY5woSx44axWBpCSyVhI5kwSIAoe86apmyV89e4lCtWYS1GbJgEQRBOICWBUsUWGJwuy1uVAi/iyuU20UjQk1mdIliKTpUuX3nJaFgryzNhCSwKMg9qPGEwNL6nmjFYDkCx2nPTvRnyIJFEAThAFqeDNHF4Ugsi2UguogosGrkIqw+/8YHdOgrmzl45rYNgRWIoxbhNvSc46LeXv/m7ViwaiKwAhWyYBEEQTiAvYelO9x77jiGnlfGtaiJNhJYBBA4LsJAjcEigUUQBAHAZOcJbi8Wt2MD+yOG1gN31k/CjKhbla6PIqIlwjJxo6rAoiB3Ao4LLKOJIX617VTqYv/nNL4oWkHuIp0b2m9HoEEuQoIgCABXy2yX29JfR4bq0SrK/jm0RNqGPOHgBXfsH0MLUSxZDlxkwSLUmNSWQ1GFMumtFvZWMwCAhX10eOZu7XJbLsLjw/RoVkd7Xw6BGYNFFiyCIAgA0763nVfHVibpuxtwiAxxbLq5LUprsN6aGINlmW9IbWAigRXcRIUA7epz0DtowXIkNjBCz6FzQ+0erpXJHQDaxXCor5FnDrBvPfZXSGARBEEA+M1iZl/5RD2GJJqf7GVuyGtob+2/yhqcw1htYrOMbYmsTs2V0cJcINa5coeh75cG3KggpRVMMAiixWEXoY3uUT9Uu0yOZUJRZ2KwblYCMw8E3pRXElgEQRAARrdRPvFDeSBCFkRRWFZzEWJPYI1Ldv1VXXIRWhxiRX+91bnFOitOm7D3CsOWCySwggnGBGtqCO/YLEJbAuunwXqsSrefBK5FpHom99oMxWARBEFAyGoth+M4RcC45aLOrmBPYH1dA6GjJbDiqvNzyafZi+0Q3Z56etUOKsRepudqbsFKjuaQHO38d8MyVrA2EgSXSBAEYR+1OBNReOg4YHjrmgsse0cotLFUjz2+yld3EYoiUT5IijO9Tt5U1iGCB8FF6NhSOZ5ISGsZK1gbIYFFEAQBgKmEg+urB4EmEdrTz53BngWrJrz5izAKWloGIvRA98YcXu+m/bh3ZMFdovagcBE6acEalMDh7d+51mHe7Wnej1yEBEEQQYItC9bQVu5RIN4YUywHLp7j8OMg2496chEGFwxCX3R0FqE8Tuu9njokuOgun95Bh3d/NSGvxDWBZS9Xnb9BXyuCIAgIb+mWCzaLlh3L9f1cxRcCyxFIYAUXokxxPNGo+e+a9hXxUK7000BLK0JfK4IgCAiuEj0PjJTNJhQHk0g32fr7N7c/qpTXZMVnuDZw0UAQfLiapqGmbm7xfK64pR1xZ/oT9L0iCIKA4AbRc8DqAXqwyULyKDH4210znno1sUgCWn0eOWvOOi+wymSiLBgsA0TNEGOwHF3sWSGwanju21XC73ouWIUDrZ+SwCIIgoDZgiVH/N9drj2e43BsmGAO699M/aiuzNiS57FyxYVTQ6MZEWDUJNFoTS1YJdUCyxW3OwksgiCIAMRgsk5XcOKG8ET/tch9T3Yx83WDMPXySkfWJbFg6A5zCniXLFgB5nohXINfXAVucRWqTEB2IXNYYO28ZK5kGafoKmEudNR/HlU2Vv9RFYbtqMH6Uh6GBBZBEASqXYQWT8RffhPEzk+F7hNYWglBU+sLvx0Z8Gzh6Lg1OdVcMdAsA4RryD/m/deYw2katl8y7xkV6rv8CuvOmRsbV1fot+vP+W/nJYFFEAQBdQuW+LbuTgHSKFz4/ce7hMdvUj3gH915JFQvJVLppMC6fEfZOEfjxRIiSWAFMwyOp2nwl+5R5r/GKlVIYBEEQUDdgnW0WPjtTgESoefAJocgvblwstMjQvBsR53kOvyuwLmT/e83C4HloIFBfk0ksIIPxrRjsO76THAlsuq8U+5yC9aU3Fvmvy+V+q4djkICiyAIAupB7iLeeFDOuFs4iyPrEd6uZCitEupVmsOvMKkt53Bsyx2ZNYAEVvDBICyVw2CdwPPEDeF3RXXfmpDivm/Aocf02D7QTxSbh6FM7gRBEDCnaZATphMGmYfiPS+xnIn5rbfcgJgwoGhciDQIAsAzHRwfuKJkGSJIYAUnYn+vMgl93ZIqExAO9y5r06URh5rOy9VxgdFnyYJFEAQB4PNzJhy/odzWpzpv1Stpnn9UyoWSIxRXCL/vOLmfSKRMYM380YhN52kqYaDDGMP7R424WWlWH5/mmnDmlrUaEV2EgHYclhgP6G9aJhDEFUACiyAIAoAQ02GZIUHMD+WNGBRng9tF7siSWP3iRDqJaNlssCtlwKBvXFRqhN9w7jYwfb8JL/5k7kxPfGdE703W0eEf9NbZFVhVFgJrSGIQrNDsRkhgEQQRVDy4xYCROx2bjtSyrvDblWU9nMVZC5ZIaZX5b2eEYLR1EnkiwCmv7kOVFiaeogrruvc25aSYQ61UDeILhxii9X4v38RODW0VmMLO6wIrNzcXvXv3Rtu2bdG9e3ecOHFCtd7mzZvRrl07tG3bFsOGDUNJSYlUduDAAXTu3Bmpqam4//77cfnyZc3jHz9+XCorLCxEZmYmUlJS0LFjR+zdu1cqKysrw+jRo5GcnIzU1FSsX79eKmOM4amnnkJSUhJSUlLwwQcfKNr6+uuvIykpCcnJyXj55ZcVZUuWLEFKSgqSk5MxdepUGI3mp6ir1zh9+nS0atUKPM/jyJEjivP1798frVu3RlpaGtLS0vDee++pfxAEEaRsu8iw9izDU/vsK5qFfXT49iEd9DVNX+0ArluwzH+HOvFEr0sCq9YhCiXL/qqWuzaEt+8ivFkp/BZ3D0yZ4zu8LrCmTp2KrKwsnDx5Ei+88AKefPJJqzqlpaWYNGkSNm3ahJMnT6JZs2aYM2cOAEHsjBkzBu+//z5ycnKQmZmJ6dOnax5//PjxUtmLL76Inj174tSpU1i6dClGjx4tCZ558+YhPDwcp0+fxtatWzFt2jQUFwtztFesWIGcnBzk5ubiwIEDeOeddyRhuGfPHqxduxZHjx7FsWPHsG3bNmzZsgUAcO7cObzyyivYt28fTp8+jStXruDDDz+s8TUOHz4c+/btQ2JiotW94zgO7733Hg4dOoRDhw4p9iMIwsy/jttXNJEhnJROwdN0iBGGr04NHN+ntIq5PBtQPB9Re6iSBJZyu1q/0PGcFOSutVTSo98InUsUbu4Mdq8J8gXZ/RmvCqzCwkJkZ2fjiSeeAAAMHToUFy5cwNmzZxX1tmzZgrS0NCQnJwMApk2bhtWrVwMAsrOzERISgr59+wIQBNWXX36JyspKu8dft24dsrKyAADdunVDXFwcdu/eDQBYu3atVJaYmIj+/ftjw4YN0n6TJ08GAMTExGDEiBFSe9atW4exY8ciPDwcoaGhmDhxolS2fv16DBo0CLGxsQCArKwsqczVawSAPn36oHnz5lKOEktMJgpWJQhHOHBN+K68f1R40Xqps++iJlrX49C9MYeujRwfPAruAG8fMX/fnVnfrXndwBikCMcxVI8JonDSGiNEOKmeermYd6omCzS7A8ueunpAYCRA8OrT5MKFC2jWrBl43nza+Ph45OfnK+rl5+cjISFB+j8xMRFXrlyByWSyKouMjER0dDQKCgpsHr+oqAgGgwGNGzeWyhISEqRzq53T22WOXKMjzJo1C506dcKoUaNw7tw5h/YhiGCk/2ZBWE3fL4gUXwelcnBuxpal57J/Da1t9gZkwr8Rc6KJrj+5Zcqo4id0VGLfqhKW1fFVwtFA7ZW+fp64hWB4KDh6jStXrkROTg5++eUX9OnTBw8//LCHW0YQgYul68QLoVY2cVZgybO+f3RvzUe/P35P1u9AZsr3gsISXXmvHzZ/nvol2hM75H3OMukoANyuFNJ6cJxvviAurH/uF3jVztayZUtcvnwZJpNJsjLl5+cjPj5eUS8+Ph7bt2+X/j937pxkmYqPj0deXp5UVlJSglu3bqF58+aoW7eu6vETEhLQoEED6PV6XLt2TbJi5eXlSedOSEjA+fPn0aRJE6ksIyNDas/58+fRvXt3q/3EMhHLMrn707LMlWu0R1xcnPT3n/70J8ycORPFxcWIiYnR3GfGjBmIjo5WbBs1ahRGjRpl93wEEUhctVi3z+8EFqftrlFDdHECwMS2zjf+wig9Wq42D7z/yTFhkRuEGuEbcqrzuIk6aFWubcGs5iJUm81aZXJuAoW78TeBtXr1aimkR+TmzZtW9bx6y2JjY5GWloYVK1YAAD7//HO0bNkSrVu3VtR78MEHcfjwYZw6dQoAsHDhQowcORIA0LVrVxgMBil2atGiRXjkkUcQGhqqefxWrVoBEILDFy5cCAA4ePAgCgoK0K9fPwDAsGHDsGjRIgCC2Nm9ezcGDx4s7bd48WKYTCYUFRVh7dq1GDFihFS2YsUKlJWVoaKiAkuXLpXaOnToUGzatAnXrl0DYwyLFi2Syly9RlsYjUZcu3ZN+n/9+vVo2rSpTXEFAAsWLMCmTZsUPySuiNrIurPKAcfywX3EiTxSnsBZC1a4LOrYFetCi0iKw6qNiJ+q0Y5BUu3TL1cRWEbm2wB3fxNYo0aNshozFyxYYFXP65FiixYtwvjx4zF37lxER0fj448/BgC8+uqriIuLw5QpUxAZGYmPPvoIgwYNgtFoRIcOHbB8+XIAwkNk5cqVmDJlCioqKtC8eXNJUKkdf9myZVLZm2++ibFjxyIlJQVhYWFYtWoVdDrhbe3555/HxIkTkZSUBL1ejw8++AANGgjTecaOHYuff/4ZycnJ4HkeM2fORPv27QEA/fr1w4gRI9ChQwdwHIeRI0di4MCBAIBWrVph9uzZ6NWrFziOQ3p6OqZOnQoANbrGrKwsfPXVV7h69SoyMjIQFRWFU6dOoaKiAg899BAqKyvBcRxiY2OxadMmT3yMBFFryLlhfnqXVNmo6AUqjMAnpxmeu5uhY0P7I1p4YMT6Ej5Ca3agJZ+fM+HLfIY9j+j9UmAFSuZ2SzgWDAFMhCqHDh1C165dkZ2djbS0NF83hyA8zvtHjVJAu8jUVB7/yRG2PdSSw+YHfadaIpZWodwITLuLxwe9tV113GJBCb7QkZdmEbLJriW2Eo8l4upxCN8jfpYvduLx99/p0HpNFc7dVq/LJofg20sm3Pe1UbHt3C2G1msNim1/PWjEp7kmnBvlm76RucWArRfNUoVNDpGutWVdIH+07/us2nhaK4LcCYIgHEHt7fxWlfnB7WuLkNi+JhHadeRByJ54s79eTu/cgY5ouapjpz+reZU1LVg+VAu2+nn9MO+1w1lIYBEEETSUqkykOl4sE1h+Et9tyxuz4rS5ve6ITfmLRe6vCbtpTcJAp8IIHL7OcKzY+X3VBJbBZM6t5Qts9fNfi7zXDmchgUUQRNCgFmP1i+wB/Xo3/1BYtgaUq2XmwjA3NNcyo7u4PAoReNSvngdVYQSm7LUvlNU0U5VK5/N1DJa9WLIyR4PNvAwJLIIggoa6Nlwmk1M5JEb5x6y6q2XaZfJ14yyXRHEFy7HJHaKN8A1p1asAVBgZCu7YFx1qLkK1vXztIrS3ELq/BsGTwCIIImhIby6MKOvus1YREf6y0BqAi6XaI4ZBJrDU3DnOYrCYyn/2lp+OVoRdyqpd4OVG10WH5bS348XM5xascjsXQwKLIAjCx4iDR1ojDqn1lWX3xfmPwLKV0kpucRLf7Ce5kGTU8njiOoZnVWadTf/BiMe+0c4ETvgHohCpsCOwpqYKQ79ar7Hcrf3nBhhNgM5HWdwBdQvWn+8yyxd7+b58BQksgiCCBnHw4ACcGB6CKanmR6BlLJIv2XRefXRs91mVYvmTcqOwRtzivq5PfzRUx9zYivt6/5gJGzXaRPgPokXTlgUrJgxStn5HBBYAGBnzsQXLets/e+vwxe+F6/DTECwSWARBBA93qo0wYpyRfNDwH3mljbgUiki5oeauG9FF6K9uFsIaxhhuVlp/YKIQuV1lXvjZel/z35ZGqd/KGS6WWO9z7rZvF1yWW7Dky1mJfd9f+y4JLIIggoZHvxGe1BHVAiuQcj6p5YQuN9Y80D0pWhilmtWp2XEI7zFipxH1lxuw45LSNyYKrH1XmWpKEgDo1URbkTdaYcCIb62V2c4ChoOFvvuu3NvU3OaMFua/JYFFLkKCIAj/QEzAKJ+td9PHy+QAQOkEbVef2vBWbqy5BSuzJY+zI/RoWdf+gUy08Idf8Nk54XP46Zry83AkL9r8HuYJHv62xp8Wy/ub2/zf+81/iy8X5CIkCILwE0QXYYjsCdgmyjdtkVPHRjZHNW1TaVK6TFylVT0OL3exPxzYmy5PeBdLce2IzpD3eX91rVkSJrvQcL2KBctPr4MEFkEQQQdXHXwiz9weFerfUVhqY0iVyX2xY/fF8ZjRgbeaXSmHBJZ/YZmbyhEDo7y/WKboCDRccREaTAxNV1bhuwLPXzwJLIIgggp5slF7a7X5E2pjZ6XRvcH5HGd7kCaB5V+4snxNXdm6yP5q+XEUUWA54yK8XSWEBsw74nmBFUCPF4IgiJoRHQqFKyzEj18xGWOSpU3437pOFbOdM8tZeM62m6kiwC0etQ1XXIT1XBRYTW0sQO4rxBgsZ65DtNp5I+2EHz9eCIIg3EulEQiVPfW0Zlr5A5Zjxm2VIPwqE3OvBQu2A5+9YcHKucHw7+NkKgOAuYeNVjMF5bjiIpQvheSMi/CKjeWbfIUokrr81yDlc/v2kglt11XhjopZK7+E4a1fTIp9PQkJLIIggoZKk1Jg/aOH/y28l1RPfft7R61Hwyo3W5Q42LaCuPt8avT90oA/7SNTGQD89WcTHt+pLTZdsWDJraKB5CJ8tyePL3+v/L6K2eWNDNhxSbiY+7424tRNYHGOdR8audOIf/xaLbC8oH5IYBEEERSYmLCmWqhsVGpTz/8C25Oq21RmYV3722HrAePXIvdOUeftxGB5Y0C+48dWRV9QXKFdprfwD9v7eIa1Uta39Xk2CrdzMC8zvYMODycoJYs8B5zlbFo1cSO3arkSv+YsJLAIgggKROtLqJ8/9bZeFAaB32wMrHJsDcDOwnHWLsIq2QZv5E3yhpUsELhQYv9my60wZQZmty9Ehij/t+UidEf6D08jt+BZCqZQFeO0/GWEXIQEQRBuQlw6xN8Flki5Dyw5ai5CuUXJGxYscRCsMDKUVgWQD8vNxK+23wHkXfkvB+0r0/Epys5v6/O01B/JGq5rXyIXSZYuv1AVhSgX794QkAHyqCEIgqgZldUPV3+eOQiYBza1BW49jdosQrnVyhuZ3MXz/W6jAZEfk7/QlitLLhIK7Sz7tKSvDv2aOS6w5MfeMVCHUyNCtCv7CIXAcsCCJRdYNV1iyhH8/FFDEAThHgw2BJY/eUPE5KflPohA5gDkl2i7Bb3pvjtS5L1z+TO2XgjkIVjRdhLlqmljRy1Y/uoulIskKxehyn2Tu0TJRUgQBOEmsq8Lo8n3V61HlccS/WcEyWwptOV8ie/aELfKbDmSD8K9NlH6BG/jqMW1nh0Dk5qWsuX2K7hj/ttfBZY8pszaRWhdv0ohsDx/USSwCIIICg5VC6xTN5VDzbUxeqwe4D/pGhbfK7TF1vR8TzEmSRgSCsvN2wJlQeDaii1XllwiaAmxttHCbzWLzb3NeIxsoyzYnKFDznBlDnI/1VdoFG5umeWMSnsuQrJgEQRBuImSaqNMpMX6FbERnCJ1g69pEO67tkSorO1BAsu32BJY8s9Gq17D6v6k1cWTLFKVJERyaFufU1it/NWCJcfy+lVdhDSLkCAIwv2Ig1FCVACMFtX8cFV45S4o9Y7KURtISWD5lms2MqibHBAMomVLSyRZpmoQjyN/EQkEgWXZRLU2yy1Y/zpOiz0TBEG4hWZ1hN+vpAXOY2/pSWEQ2H/NPJL+b4gex4Z5ZhlZVYEl+zutkUdOS7iI/LPRmm1oV2BZCGjREiRfUicA9JVDeDvHGi32TBBEUHDlDtA6CggJhNfxaupWj5pyd0enhp5rv5r0lFtJLN1JhG9xxEUoCi8tC5eWBUs+uSEQvjKWhla1WZPOrL3oDgLnVY4gCKIGLDlpwtnbvm6Fc/xUKIwSb/5iPTJ8/4j7A/PVJlYdqLaeuXuQff2QEWdvkf9RDeZgvjFnXIQ1EVgBoK+sBNWRIvMGg4lh5o9GKxF2o8Kz/Y8EFkEQQYGjS8/4Ez9Wi5sfVFJL9G7q/se3mog6Wiyc++4Y952HMYb/yzZh1LfWMyUbhLnvPIHKpVLH6qkJrLi6yjo9mwgFWgL51a48pncw9yVLS9j0DjzSGgWCxFIy40ezctx3lUmLPMt5S+XFxZ2QwCIIgiAAaLsIW0UJsy3dhWgdUbMftKirsjHIsJeiScxfJc+sLwqjJhHmes904CXhpSWwGoVzeLen2Roqxl6J+73bUwd9APgIbdmiwjSUjqcviwQWQRCEnzLEgQSonh76TEw4x4kbDOvOMuwqqPlbv+iWKq5g2HNZebxKi8Mbg3Aao72BX7wj8lsl7iJ3+TUMM4tZR9MShNpxKfoz2y+q980wjYt56xeTw+5YVyCBRRAE4aeI40LfpsIfj7e2Hijcuaaa2vDEIAz4otsq/auaJ0AVZ67l3gL6bVYer8Li8B/meDky2Q9wVNvItaf456xOOtSpnr42rDUPY/Xtq+0Cq9TA8Pst5s7Tq4n5AsI0whWNDNhxiQQWQRBEjWhTD5jVKTAeeZ0bCr/FaeW/b8GhcQSw9j7rid+x4Z5ti2jBcidas7mKK5iVBetGpZtPXguQLFgWAkvPAaOTeMRVpyRJrc9JotlRd5gUFB8YXxWJ6+XK/++OkWd5197Pk0t+UpoGgiCCAqMpcN7KDw8JwaBvDKgyAYVlDAaT+iCxZoAOv4t130WJS490bGDeZmLuj1W5qSKatl80KSwQwYyjXlF5vTKD2TLIVOo4+hnqeNuZ3/2VMxYzUitMDIVlDBynbpkVuWMQJl1wHlibMMA0KkEQhGsYWWANGiE88NUFhsYrDThWzE2tjPkAACAASURBVFRdgSPa8Gjl5txU45I5RIeaj8lgP+jaWdTWWRRnK1pSNwjNAK4IrJkHzDJiYEtzZ+lSnTctMdK5D/HR+MCSB8/+qJRRp24CjVcaELvCgLmHtYX70B1G1TQo7iCw7iBBEISLBJrAkicXPXdbezFfd8NBOXCbmDBQLOvnnrxbv5UzKb+XnAiNwycG0NJG7kI+3FumXQDMOZ+0ZMH8HjyKxgnKdFAij8KxeqTUd+4+vtvTfIxARL6o+54rthXr1gue8RNa3b0nn3wSsbGxaNasGe666y5kZmZ65MQEQRDeJNAE1umb5r+NjNmMI3EnHKd0MYkWrJhQ9xz/8G/qg1mExgWWG9xz3kBCLnBtLe+iZenS8RxiZPnEGrmwgLjlMQINuRva3stJuYc801YCa/Pmzfjmm2/QuXNnVFSYM/MZDAYsWLAATZs2xeOPP46wsAC+8wRBBB1GFliBuz9fN4+eh3/z3nk5KLNiizFYJ2645y1fbVb8H3YbsPSU+vH/m2dCUjQXkMkuXUUunNQmBKgFuRNK5MI095btuuUeinS3etw89NBD6Nq1K3Q6HerUqSNt1+v1eP7559GjRw889NBDeOmllzzSIIIgCE8QaBYsX8HBPIDfqmQ4dJ2hwgh8c9E9g5CaKNASVwCw9ixD1w3BZcaSiwNHLViJkUAHN2bbDxSODq25G9NTOtVKYDVs2FD6e8OGDXj77bexa9culJcLcyCTk5OxatUqvP/++x5qEkEQhPsJpFmEADCguW8aK3cRRi83YN9VhlM3gXpuchGS0cU+9gSWFIMlu5nRoUC/ZgFkonUT7RvU/Hviqbtm87iPPfYYHn/8cQwZMgR/+9vf8MMPPwAAmjRpgoyMDA81iSAIwv0YmHuTcnqaT/q7fzFnR+A5YQC3zIpdp4aGgnIDwx+/N6qmaCCAz8+a8GmucM/losrSRcgYQ16J8Pd/ckzYckGowBAYizL7I55KZWv1uDEaldFeiYmJGDVqFN544w306tVL2t6iRQsPNYkgCML9BJqL0DIwt3GEej13w4GDiUGRk6pjA+CD3jUTfJvOMyw6YcJHJ+0PZ+7M7RUoDN9pxBPfCfe8qto01b0xBwODYjmXQllCzYulwMCtlDuspvxa5JnjWr2TfPjhhzh58iR69eqF3r17o3v37oiOjrbaUafzzdsVQRCEKwSai9AyMeSoNt4xv/EcYLJw5GW14xETxuGxRM5qKRtnjgsAlQ7sP7Mjj+GtebT8tAoXS107XyAjWrD6NeVw4BqDgQEh1fdPqw97Il9ZbaZxBHCtzLPnsBJYbdu2RVxcHFauXInZs2eD53k0atQIZWVl6Nu3L/r27YuGDRt6JOspQRCEpxAsWIHz3Aq3eId1Vdg4SwgPHLqu3CbeNT0HlLjoTxGFgb2cRABQL0T4HRpALl138c1FE25XCX+LblmDyWzRtDXhLXB6t+/xxr2yEljDhw/Hyy+/DAC4cuUK9u7di++//x67d+/GP//5TzDG0K5dO5SVlWH+/PleaCJBEETNYIyBIbAsWJaJNxedMGFhH897DtacsVZQoi7V89rrCNrDmeV2OlVnHw8NQkdJhsw1KwqsKhMgeoi1BJZa+gtCG3cv/6R6DssNorgCgKZNm2L48OF47733cOjQIRQXF+Prr7/GoEGDUFoahHZbgiACEnFQCqQ8WDpvjAAqqC2uzFW/74fw5vXunMUZcSsmuAxGC5YcucASMWoI3GB2EX52n1KJa60KIMcbL1tOzQuJiopCRkYGMjIyUFTkoagwgiAINyMJrCAdgJxBzRJys1LYqOeAgyrL3DiCK+JWrjFNjIEPMgUhZreXWw33XdW+/8F1d7TR8QDsuNR9YsEaPXo0du/ebVXx+nWlUz4rK8tzrSIIgnAjtUFgeWvZkkGJ1jfpm0vCDdx3laHcCGw456mJ7QLi4Pc/WQb7vNsePaVfIlpiRAtWfgnDyG/VlUMwuwgtdXdJlf19hiR63jxqdYZffvkFHTt2BACUlpZi1qxZiI6ORpMmTVCnTh0MHjwY+/btQ6dOnTzeOIIgCHcgulUCTWDdeNLsZPjiAe8EJL2aZn0eMaGluPDyr8XOj+Zari05cXWB2+P1CFExL3hoNRO/Jqz6ozBn1rddP8C6t89oXgf4Rw+l/GEeUKhWAisjIwMxMTE4cuQIunXrhs8//xz/+Mc/cOrUKZw/fx5Tp07FP/7xD6xcudLtjSEIgvAEgWrBig41N9hb3jG1NZdFgSXOZHOlKZaxW+vuUxdykSHqRw/GdffEGDTx0m2JTHfcngD7ekg42+4IPbzibraKwXrggQfw6quvIicnB/PmzUN2djZGjhyJyMhIAEBmZiYyMzMxe/ZsjzeOIAjCHQSqwJKjJTzcjdo9EgdvsciV+BXLJV/UAthtzVAMRoElClrRuGJPYNVUM3RvHJhfEGdbrWas8kQmfCuBJQookU6dOmHo0KF466230LlzZ2k7JRolCCJQEHNIhQXgYytnuB57rzB0buglgaUifERxYym0nEEunqZ34FVFmq0ZisEosHRWFizbN6EmPeTAIB1SogNTYDmLWl9iHlBYdmcRtmjRAu+88w7GjBkDjuPQvn17FBYW4sknn3RvSwiCIDxEIAustvU5tK3vvYFPzUUojutiFnZXxI5cPFUa1a1gtuK0qmq5wOJg7eYTb5F4/21Z+GoaQvS7xoGbE8NZy523upJDaRo6duyII0eOYP/+/bh48SK6dOmCpKQkT7eNIAjCLXxVvSBuIAosb6PmIhTHdVEUuSJ2xu1Szn5TE1iW6y/KuVDCMP+IER/11SE0kH29TiAJLAD/OmbEmVvq9eYdMeLkTeCR4LgtNUbVguWB8ziVB6tnz54eaAJBEIRneeoHEliOYstFuKSvDnGfGqxnRznB7K48/nwXj0O/KYe0UB7Y84j2kPS3wyYcLGSYdhdDjya1T0moDfCiZYbB3IfVeP6AUFb77opjOB2DVf37v/frMGSHUbHNnQSuTZAgCMJJwnyUHT2QkBuHxiUL//y5vTBUNK/LoXUUUFaDdRFfSdOhQThntdbi5FQed8UoPx95HdG6dcfg+rkDDUsXIeEexBeGx1p5VgI5ZcEiCIIIZCpMnpgrVLuQCywdB7DJIYryCD1Q5gaRY2lNVHPbyPWwKLC+LWDILzVhXDJX6zO7yy1YDtX3WEv8G3fEYJ28ARRVmNC3mftEFwksgiCChmCZJVUTLAWWJWE6oKii5iaVcIuDq7rIVNr1xv8Ed1hUiA5DW9Wez7NxBHCtTLlNTGVRWQOLYTDgaC+Ymsrjx2smvNTZOlbg7vXCWwObTAKLIAjCaeSJOwl1lALL+n4dug4cus6wIt2540aHAi93MQ9eYRbjmJobTLkWobLsyp3a5TdrGGYtsOpV5z676eCsglpu0Ksxi+7VAfBeICYJLIIgajWGYEygVAPkQe7uvHNVJuUsQctjq+V44hTlyrLDvzEwxsAFsKr4rZzhaDGDiQGX71iXR4cKv0/fdOx4gXsnaoYj1x3hgwkuFOROEEStZtZPnl2YuLYht2AtO+W+e2cpsBqGK8sHNLcejsYlm7dZ6q8lJxmWnQps8TxwqxH9Nxsx4CsjblSvMzhc5vYUBdb43eQjtIUjs4OToj3fDktIYBEEUatZlSuIhFfS6HHnCHKBZbm8DQDMvYdXTUZqC8YYqkyAXmZtahTOoWyCHonCKmwY0cb6oO/14nGzesFrtSzv2dcDW2D9VKhs/9u/47FGtkZjZIjlHgKVf1B3PgWwMa9GdGlkvvDyieZ7E8oDl58Q/o+ro35zlvfznGnL60+c3Nxc9O7dG23btkX37t1x4sQJ1XqbN29Gu3bt0LZtWwwbNgwlJSVS2YEDB9C5c2ekpqbi/vvvx+XLlzWPf/z4camssLAQmZmZSElJQceOHbF3716prKysDKNHj0ZycjJSU1Oxfv16qYwxhqeeegpJSUlISUnBBx98oGjr66+/jqSkJCQnJ+Pll19WlC1ZsgQpKSlITk7G1KlTYTSa30Rcvcbp06ejVatW4HkeR44cUZzP1jUSRDBytcx+HcKMvRyeobwwk9AZLBeLFgnXc5LrT21GIM9xqFN9rjIVhVVua22dACRMp7wPWu7PEEo3okDer8JkHbiOXn3NSzlqed/chdcF1tSpU5GVlYWTJ0/ihRdeUF1yp7S0FJMmTcKmTZtw8uRJNGvWDHPmzAEgiJ0xY8bg/fffR05ODjIzMzF9+nTN448fP14qe/HFF9GzZ0+cOnUKS5cuxejRoyXBM2/ePISHh+P06dPYunUrpk2bhuLiYgDAihUrkJOTg9zcXBw4cADvvPOOJAz37NmDtWvX4ujRozh27Bi2bduGLVu2AADOnTuHV155Bfv27cPp06dx5coVfPjhhzW+xuHDh2Pfvn1ITEy0une2rpEggpkK+ho4hL2YJrUlXewhWsLUMrXbWsAYMAu+X4qsy8pr2Wd67rbw29V4oWCVXVorAOh5s1VPq1t78p55VWAVFhYiOzsbTzzxBABg6NChuHDhAs6ePauot2XLFqSlpSE5ORkAMG3aNKxevRoAkJ2djZCQEPTt2xeAIKi+/PJLVFZW2j3+unXrkJWVBQDo1q0b4uLisHv3bgDA2rVrpbLExET0798fGzZskPabPHkyACAmJgYjRoyQ2rNu3TqMHTsW4eHhCA0NxcSJE6Wy9evXY9CgQYiNjQUAZGVlSWWuXiMA9OnTB82bNwdTCQq1dY0EEcyQwHKerx+0Huk5zvnEl6LA0rsgsDiO0xxAa5sh53B1dvtzI/XIGe78HLRadjscRstlzWn87S28KrAuXLiAZs2agefNp42Pj0d+fr6iXn5+PhISEqT/ExMTceXKFZhMJquyyMhIREdHo6CgwObxi4qKYDAY0LhxY6ksISFBOrfaOb1d5sg12sLeNRJEMFPbrB3eoH6o9Taec96CZdBwEQL2BZbWfra2Byri9TSp490FvgMdWwLc3stArbFgeQo1S05tIxiukSA8SW0bjL2BVvLPOwZg5WnrCPinfzBiywXl9n1XTBjznaBu1T4DR9xhWsvj1LZYJGcnD1iiNikhGNBya18tM7sGteIGPTkxwKt5sFq2bInLly/DZDJJVqb8/HzEx8cr6sXHx2P79u3S/+fOnZMsU/Hx8cjLy5PKSkpKcOvWLTRv3hx169ZVPX5CQgIaNGgAvV6Pa9euSRaevLw86dwJCQk4f/48mjRpIpVlZGRI7Tl//jy6d+9utZ9YJmJZJnd/Wpa5co22sHeNWsyYMQPR0co5rKNGjcKoUaNs7kcQgcSzd5PCcpSHWnI4c5uhR2Pr0UcUSWN3GTEmWXlP/3nMhH8eU2bDfuI7I85Xz99RExDfPqTH3iuuvUDWNtFsb4KBnIEtOXx9QXnfcm7SizgALO2rw8Q9gqiPCeOwoAePJ5Lc11lWr14thfSI3LxpnazMq90zNjYWaWlpWLFiBQDg888/R8uWLdG6dWtFvQcffBCHDx/GqVOnAAALFy7EyJEjAQBdu3aFwWCQ4ooWLVqERx55BKGhoZrHb9WqFQAhOHzhwoUAgIMHD6KgoAD9+vUDAAwbNgyLFi0CIIid3bt3Y/DgwdJ+ixcvhslkQlFREdauXYsRI0ZIZStWrEBZWRkqKiqwdOlSqa1Dhw7Fpk2bcO3aNTDGsGjRIqnM1Wu0h61r1GLBggXYtGmT4ofEFVHbSIyqXdYOT7L5QT1ODA9RndkX5owKgDLuSk0QJUVzmNDWtaGotgkstRg1Le5rbv05BHtO3djq3GpJ9ZTbn7lbh9gI9X7rylNh1KhRVmPmggULrOp5PZP7okWLMH78eMydOxfR0dH4+OOPAQCvvvoq4uLiMGXKFERGRuKjjz7CoEGDYDQa0aFDByxfvhyAYApcuXIlpkyZgoqKCjRv3lwSVGrHX7ZsmVT25ptvYuzYsUhJSUFYWBhWrVoFnU6wTz///POYOHEikpKSoNfr8cEHH6BBgwYAgLFjx+Lnn39GcnIyeJ7HzJkz0b59ewBAv379MGLECHTo0AEcx2HkyJEYOHAgAKBVq1aYPXs2evXqBY7jkJ6ejqlTpwJAja4xKysLX331Fa5evYqMjAxERUVJQs3WNRIEQdSUcCcfJ3I95m5BlHuLYftFEx5oEXhK62altRpy5v6oubaCXWCJLlJnPMeefO3iGAX3BC2HDh1C165dkZ2djbS0NF83hyA8Are4CgDAJmtkbSSc4t1fjZjxozCSWd5TtXt912dVOHFD+HvvIzr0aeq8GGr4SRWKKoS/+zfjsOuyctgKxM/2z/uM+OC4MmhqZBsOqwco7R7iPZXDJofgvaNGPLNfuf+DLThsyQzOFfDu/8qArHb/3969h0dRnv0D/87uJgQSCOcAgSRAElApJzmIiIBi8YwIiqJUoUV4Lb6+9eehfbVVLLV9qz3YFqUiCoJiEIQCAlYtJ7UiBsECcg6EQwiBACHkuLvP74/Z2Z3dzJ6S2d2Z3e/nurhCdmY3szuz89xzP8/cjwUTe1jwZakTw1fLXYTBjo1lh52Y9C/PHTCNPZa02lPzhf1ERBQz6rsxt5YEH1WtRwaros7z/423x0cAUaVRJDWcQe5aPbVxNuY/LJ/eZsPEHvIBFs7HEMlB7gywiChuOV0J+mf781SnF/Wdaq99HzzAsngFWI1rzeKsYDsAIEUjQgpnDFaYQ+ESSlgBVsS2ggEWEcUxu6v9z09na6SXazM8n+X52uDrqwOBppYhiCe9Wjd8LJzPJ5GzVcG0Twn9w2EGi4ioEQIVuKTGua6Tp0U6WxN8/WpVl2JT90Pftk17vpF0TdXKYDV8bM0Pte8qsCbqzM4hyA3jgiqSQT9PO0QUt+wBpmihxlHHAOdrg/fdVarGaDc1wIqnkELr9jKtxt5fpooZLH1E8nPkaYeI4ladEmCxMdKN+qO8UOd3Nbd0Vfm+pga68TQUS+u9aH0+/sZaaQUGPMzDF8nPLD5uxyAi0lBSJf/s1CK22xFPbBYJ93SX8EGRcAewgQzPsGDPeXlFZl0C0wqw1J/Zyck2d2DGQe6BHbvfhmYhBPTMYBERNcKZark5yvBTxZka539c0w6FMvfd2mLPSk3dC3GVwWpEF2GXVAmZrrFbDFYDy0qTkNEi+IfEQe5ERI2gVLbm1b6+lIbDHkKAdarK83/uBg+tYDGc2lZajTfHvYePZRqIiBpBacR4ta8vpSF3CMARZH6WbqkNnxeun/eTmyol67Pr7vga3aLMK6h1nIYzBovCxwCLiKgRlLafbZG+1BM+2xbYcbrKf5A1uINn3cbuh98OsWJ6bwmLRsmBVd92Erq3bOSLGYT6E8toLv/UCkD9BVLKLnhlqAVdOMaw0TgGi4goBCuKnDh40dN0KQEWr/b11c+nHtXJy4DvtLYfHHHicIX3Y03pwnpjhA0D2zc9WDMyrfcUrEyDUwCtXHdqhjImjrxxDBYRUQgmfurA8NV29+8MsCJDkiR0SPF+zDeHde9nDgxdZfd6XM/doO6ZDNZNaUTqePTaDAkD2gFT8xs2yf4aaXWA9dvBcjHSVuab8zrmWKaBiCiIKRvlwEpdOVxpwxhf6c+3pIA6xilz3b15zmcqnUjthxoHkGqydIE6JGyVLGHH3drRkdXP+3IHWAD6t5N/YUHd8CnHZHoyUGUPuGrYuDuIyPSq7QJLDslNVmU9UFEn/58ZrMg5p5omZ9wnduw46wkZbt7gaanUmZpIdcfUOIKvY1YWP2GpMgbLoeoWNF8eL/aUY1KCfNOGnhhgEZHpTdvi3cKOXS//zgArctRFRk9eBob+w7MPdpzVfk4kM1hmE2rXqb9jV6mZVecE2jWT/393Dpv0cCkTwd/aTYJTNBxL2BTcG0Rkeu8f9j4pfnVG/p1dhLGn3jOR6sKq1rlrJxrU7Xigz0UJsK7N8D6K01w9ipX1QMtkCWJ6Eu7pwSY9XJmp8md3U1f5s9Mzi8W9QURxixksY9ExOeDFjBkstUBzZSpdgb6NdcskecGlenYM6sHd5arjx8lB7kRkWn2W16PWT+P6wRGnu0FnhevYUbdXSTpe0h+t9Py/xiFgtjyl+nMJNNOAcnHge5Gg1M7q2cpc79uoGGAREbkcqRDYc97/8nXHnbhUL/+fqfrYurmrhD9eY0XL5MgEA2bPYPm7UxDwBFa+QVhGCwm7J9jQu3XktiuRaN000FQMsIjIlB7ZGrhVXXjAcynK29djRwj587+iTeQyLWYfgxWo61Q5dLW6ua9qy+yVXpRzhJ0ZLCJKdOF0+6VYI7cdFNia4siPEao2YQZr3veeVEmgOqlKw9+heYQ3KMHVuY6h3eUCIzrrE7jyuo6ITKlHy9BPghIHYeluXHZsP9Ouqkmk9ezWiZZ/n1FN6RRgvZyWwG8HW/CbQbxKiKSiS/L+ePk7/Q4mBlhEZEpv7DNhqxpH+kSwyy8UvVt7/r7Z76ML2EUoSfh5fyt6cDB7RKnLXuiFARYREYVNzzsCG+OSqiE0e4BlwqkU406aq+xFpY7j+RhgERFR2GIdYP3tWgvGdpUbRbMHKMzFxt4o17irH/fSL1PIAIuIiMIW6wBrUAcLlt0oj0uKVAHTaDF7gBgPlC7Czi0YYBERuT3xAwvmXSefzlrw3uioiHWABXhKF6w46kSdQ2DmVgcu1JovWjHfFscfJazSM1jnqYiITO8P11ghhMAdWRaM/siOAxdjvUXxL9kAN7UpxSGXHREoq3ZgY4nA3/c5IaYnxXbDwjS4PQewx5pyo7Gewa4BrkGIiMJzXiNLIUkSuqRKDa5AR3Ri4xUJj17ZMMJad3N0o65mqj+35bQ580DOn9iQ35rHaKxFIoPFAIuITOfdQ/6HBfueH80+jYqZRLvb0KKqb6bnHHLRxBptxsIMFhEltEADUX1PkIM7sAGLFiOMyyJqjEicJTgGi4hMp02y/PM/E2xoley9zPeOrD9dw1Y/Wvx90srdfuTRuzWQx+KhhsExWESU8M7XCty4Tu73S0sCstK8G6nfD/E05n3bAslWNmLR4m9OwPRk7ccTmRBAfjqPTaPgGCwiSnj/OOY5A1o02qeJPTyntcxUNmBGEO06T09+5cBPvzD24Ls6pzHuxCQZM1hElPDUdxAGC59mX81TXCT9+04rFlzviRJGdvbskTmDPJ99tY7TjwTzUJ6EP/zHidf2Grs+ep0TSObhaRhKolvPiwGOwSIiU3niK0/DqZXBUmuZxAxWJF2TYUFmqtwi3dBFcjdSVslTGRvwnjcw0jo2l2CG0p11DgZYRmJzHbt2dhESUSISPgMkggVYbMAiL8WVwKp3evaH7265VB+9gMcM5RrO1wqU1fCuSyOxufaFXcfEJ3cvEZnG3vPevwfLT7EBi7xmqgBL2R9JFu+ulsm5kdsRd+d4HwVmmNfvma/l8WHHKmO8IeSmZF8ZYBFRQvLNWDGDFXvqDJZSNDMtyXM31rIbrWjTLHJdteNzvHeyGTJY52rkn7y70jgkSe7itut4GyFPP0RkGik+d10xgxV7ymdcr0odtUwClERAsCC4qXwLoZshg3WxTv7ZjHcRGopDAPsv6Pd6PP0QkWn4Bkz+Gu9WrgHWqeaa89eUlKzVrKs80cIz/azuQCfSjcywjt4HgRkyWOWuO2FZos14/rRbvz5C3kVIRKbh23b6a58uPszIKprE9KQG///dTnmcUaQzWD1aSdh0uxWj1sp/z6FnpcgIKXN1ETKDFd+YwSIiU3AKgeJK78aTDZRxuTNYUcjSqBsyM3QRnnUFWBwjGN+4e4nIFH75jRPXrfGuzt2cOXjDUuKcaARYVlVLZoYuwhrXYcwxgvGNu5eITOHDow3HRlh8RziTYUQzg9VKVVDWDBksRXI0PhyKGQZYRGQKZmo4ybO/ohFCtFaVOzBDBkvBuQjjGwMsIjIFBljm0rqZ/DMtCvcbtFIFWO8eMs+B0oZ1sOIaAywiMgUGWOby0ystWHqDFcMzIp/DapUs4cMx5kkH3dpN/kxuy2IXoZFkpQHdW+r3egywiMgUGGCZi80i4b6eFnedrEgb3908zZkE4M5sKWqfDYVmZCcJXVP12yfmOSKJKKHpOEUYJYg6gw7IEojO2DQKj0XyTPGky+vp91JERJGjbiuf7GtBwQ3m6RKi2NhwwrgBFm8gNB5J0vdCjlVkiMgU6lQlsH7Sy4JerdlCUWCpBm3hhGAGy4gsYAaLiBJQverSklf/FIqWBp0x6YtSgfO1sd4K8qV3BosBFhGZgjrA6tIidttB5tHMoLMpX6oHNpYYs/sykVkkfW+mYYBFRKagBFjLbrQiNcmYDSfF1u4J3n2CDGEoHFZJ0nWycAZYRGQKda4Ai6EV+dPCZ8yVEUt7CD0H+ZCurBLg0LGPkAEWEZlKz1YMsUibb4BlxFim1hF8HYoNm0XfqZYYYBGRqQxozwCLtDUIsAzYSVjDAMuwrBJgZ4BFRInEacRUBBlOwwDLeBhgGRe7CIko4by6m3XcKTirT/2OIascGL7aHqOt0cYAy7isErsIiSiBHK8UOFsT660gs/qy1Fh5LGXg/d+v40wERmOzmLyL8NChQxg+fDh69eqFoUOH4vvvv9dcb+3atbjiiivQq1cvTJw4EZWVle5l27ZtQ//+/dG7d2+MGTMGJSUlfl9/79697mVlZWW45ZZbkJ+fj759+2Lr1q3uZdXV1Zg8eTLy8vLQu3dvrFixwr1MCIHHHnsMubm5yM/Px9y5c722dc6cOcjNzUVeXh6ee+45r2ULFixAfn4+8vLyMGPGDDgcnsuXSLzHUaNGoUePHhg4cCAGDhyIV1991f/OIDKBrKV2vLSTGSyKD0r7ndsqpptBGvTOYEFE2Q033CDeeecdIYQQy5cvF4MHD26wTmVlpcjIyBAHDhwQQggxa9Ys8dRTTwkhhHA6pafVKQAAIABJREFUnSI3N1ds3rxZCCHEK6+8Iu65556QXn/atGli9uzZQgghtm/fLrp27SrsdrsQQogXX3xRTJ06VQghRFFRkejYsaMoLy8XQgixaNEiMWbMGCGEEOXl5SI7O1vs3btXCCHE5s2bRZ8+fUR1dbWora0VgwYNEuvWrRNCCHHkyBHRpUsXcebMGSGEEHfeead47bXXIvoeR40aJVavXh10PwghRGFhoQAgCgsLQ1qfKBbwRp3XP6JAfI8Xox0zBy84Bd6oE/866Yj1ppCPFwvtotPixh0vWu1pVDNYZWVlKCwsxAMPPAAAmDBhAo4fP44jR454rbd+/XoMHDgQeXl5AIBHH30US5cuBQAUFhYiKSkJ119/PQBgxowZWLNmDerq6oK+/rJlyzBz5kwAwKBBg5CZmYnNmzcDAAoKCtzLcnJyMGrUKKxcudL9vOnTpwMA2rRpg0mTJrm3Z9myZZgyZQpSUlKQnJyMadOmuZetWLEC48aNQ4cOHQAAM2fOdC+L1HsEAKeTV/sUH2p9LieXj2G3CpmbckTzXljjMXWZhuPHj6Nz586wWDx/NisrC8XFxV7rFRcXIzs72/17Tk4OTp8+DafT2WBZWloa0tPTcerUqYCvX15eDrvdjo4dO7qXZWdnu/+21t+M9rKmvkfFM888g379+uH+++9HUVERiMzqdJX37xO6c9gomZtyQ6zECMtwWKZBg0iAW7hDfY9LlizBvn37sGvXLlx33XW4/fbbI7xlRJHDooykByO1ER8dl3sYGF8ZT2PLNFyqE/jH0YZPtGmsGzHdunVDSUkJnE6nOwNTXFyMrKwsr/WysrLwySefuH8vKipyZ22ysrJw9OhR97LKykpUVFSgS5cuSE1N1Xz97OxstG3bFjabDWfOnHFnsY4ePer+29nZ2Th27BgyMjLcy8aOHevenmPHjmHo0KENnqcsU/guU3fd+S7T8z0qr5uZmel+3k9/+lM8+eSTOH/+PNq0aeN3v/zsZz9Denq612P3338/7r//fr/PIYoGdnZTuP50jQWzdzhxoc7zWL0TSDZA7/KlOoEnvuJRbVShDnJfunSpe0gPABypENhz6mLDFXUZGRaG0aNHi4ULFwohhPjggw80B7lfunRJZGRkiP379wshtAeAb9q0SQghxMsvv+w1ADzQ60+dOlW88MILQgghvv76a69B7i+88IJ7kPuRI0dERkaGOHfunBBCiIULF4oxY8YIh8Mhzp07J7Kzs8Xu3buFEEJs2rRJ9OnTR1RVVYmamhoxaNAg8dFHH7lfJzMzU5SWlgqn0ynuvPNOMXfu3Ii9R7vdLkpLS93rLV++XOTk5PjdFxzkTka3+5zTPVB5zg57rDeHTKTHUs8g9xq7M9abI4QQoqLWczxvOcVB7kbz1912kbIg/EHuv9xuF3h2W4P2NKoZLACYN28eHn74Ybz00ktIT0/HwoULAQDPP/88MjMz8cgjjyAtLQ1vvvkmxo0bB4fDgT59+mDRokUAAEmSsGTJEjzyyCOora1Fly5dsHjxYr+v//bbb7uX/e53v8OUKVOQn5+PZs2a4d1334XVKl/WPPXUU5g2bRpyc3Nhs9kwd+5ctG3bFgAwZcoUfPPNN8jLy4PFYsGTTz6Jq666CgAwcuRITJo0CX369IEkSbjvvvtw6623AgC6d++O2bNn49prr4UkSRg9ejRmzJgBABF5j7W1tbjttttQV1cHSZLQoUMHrF69Wvd9SBRplfUCJVWeCZ4BIC0pdttD5mNV9cEZqIfQjWOwjMcqAfZGJBj9HV6SEEY89CgaduzYgauvvhqFhYUYOHBgrDeHyE2aXw8A+MNQC/7fNvmM9+YIK37cOy6GjVIUXPFBPfZdkP9fNdWG5rbYRzQX6wRaL5Iry39+hxXDO/F4NpI3vndi5ucOOKeHdzX37HYHXvpHIfCboV7tKfcuERnWOwc9l5PMYFE4vDJYsdsML0xnGJtVko+VcPNOTj+rM8AiIsPaVe75f/OoD2ggMzNiF6G6IWYXofHYXBFRuLWw/K3OAIuITMEojSSZw3eq4DxtYXQnfJ6y0Y6Raxr+TfUhnMTW13CUoDxpQfDjZdMpJ6T59aioE/i/XdoDt3hNSESmkGKA2+yJQrHkkPbVgDqDNaAdU1hGE05W8d1DclB1vNL/OoyhicgUmjHAIpNTh102CwMso6kKI9EZSkKdARYRmQLHrJDZ+RsMTcZQWR/+Dgp0XmKARUSG4uRgK4pTSoB1X09eLRhRvc5F9hlgEZGhcP5BilfKpcOP8tj0GlE4vbahXAdyLxORofgGWMrYq54tedVPxvbJCSdKqrxb3lqHQMFhOTVySa6fy4meDSqcgCiUPDvvIiQiQ6nxCbC23G7FkI68FqTw9EoH9mvMvxtJP1zvQH6692NzvnVizrdO9Gkj4fAluVlu0yy620Whsep8muFZi4gMxTeDxeCKGmPvPZ78QWoUUwlHL3n/frZG/lnn9HQr9WA21pAac6YJtCeZwSIiQymvjfUWUDywqG7vumwH6p0CSREqjVBlF6h0df+pq4BX1Amcq5EfOHlZuJdZGV8ZUlhjsEJ5vUZvCRFRBAxcGd2q25QYHv08cndPjFhjR8YS+bhVB1iZ79nxQZH8wB3/dLjvUtO7K4r0oXf8zd1MRIY1sH2st4DixYqjkSv/seOs9uNKVkthd22CjRksQ7I2otieJAEjOmk/jwEWERmWhfdbkU7O1wIixjXW7EoGi4e1ITW2TIO/5zHAIqKgVhTJE5vWOQQm/8uOfivqvR6LlLz04OsQhWr6Vn26CbOX1uORreF3ZSt/n12ExtSpeejrLjoon/fWFTv91sTibiZKMLUOgXcPOcOqmD53j3zpfdkOLD0s8F05MMPVWFysi8hm4u/XWTF/BCcgpMbbdbcN6272HEML9utzMVBcCczfF/5r1TODZWi3ZUmwSkD7lNCfs+Ko8DvgnQEWUYKZvsWBBzc68K9ToTcQVa4L/2rVRfs5191+l+obrq+HCd0lpCaxJaLG69tOQucWxjuGLJxY05AkScKMKyzomhr6c5zC/xyTDLCIEsziQ/LZwLdeTyDbzsjPqdboYVl/XOcJvFxaJ0fkZSnBMEancFggB0wOpzwc4tDFwBeiDuG/ZAMDLKIEoh7ke9kefhdHtcawk1lfRibAilDJIkowNrZyFAaLJAdYJ6vk4RDPfRN43B4zWEQEwHObOOC5oykc1REc0O5LYjcK6SCJrRyFQQmwqlwXk82DlGN3CgF/p0UeekQJpEaVgVJOCicvC/zpP46QBr2vP669ztpjThyv1Cf4uilTwuAODK5IH5EMsM7WCAxdxcK48cQiAU54svW+tcwq6wXGrvPsc4cAHH7OnQywiBKIeiJlJa39fKEDT3zlxOEK7eeouxWfL2yY9rqqjVyleuRafRoaCUBOmi4vRYROLfR9PWXqGwDosNiOr8tiW1uL9KVksJRs/fIi7/1772cO/POk5zF5vJaf14rYVhKR4agDLOVW8ZOX5Z9zvtUeaxCs+dhzXv5ZUuV5bNc5gZYL61FRF37jYxccN0P6SbJImJavX0a0MV3rZB7KIHet8aYAcKba+3enALsIicg7wPr2nHxW2HBC/vnOQe2zRKjDrtS1fd4+4ERlPbC9TODj405sPBV6q/RlqUBxZcirEwXF4XwUKncGSxVgKVn8ogqBep8R7Q4GWEQEeN/tsvSwwJGK4NHTYj+Bl69aVfCmjHsZu96Bmzc4cMNHoVfQrnEAX5Sy24X0w/iKQuXpIvQ8tuyIfD7qUWDHd+Xe6wfKYAUZH09E8cT3duKymuCBzPcXQgt21HcoKpPZNuamw/x04JZuvPYj/dgsEoJ3doemqdmw+h+z2TUy30HuAHA4wIWoRfI+93kt03fTiMjIfAOsSI0nacoYKqcAmvHMRDqyGSiFZWOBN0PzlGnwnCwD3YkqSRzkTkRoeKV13ZqGXXedl9TjgX/Jl2+HLgq88l34UZhWgybNr0dRCF2S9U7WLiJ98aYJCpUF8oVnjc+QB39lbCzgGCwiU/vspBPVjai87uuC666+BddrT6L8zgEnTlcD7x2W19txtnF/099ktsrAen+EEDhWyQCL9MUAi0KVliRPaq9ONCZZAgRREgMsItO6XC8wZp0D//1l6APF/TlXI/+8M1s7Anpos/ffCNabkeITpyl321j9nFkuBymVVeAaTLqphIPcST9G6iIkY2uVLKGy3ns4RZJF8jucQgoQYHG0HZHBKZWEdwTJ/oRiwqdyANUmGejcwrt2lS9pfr3/hS5pSd6p9LIaoGNzuQ6WllOXA7+Hi64MW3ktAyzSDzNYFKpWSfLtEJdUp7+AGSwwg0VkWpWurE99Iwek1zkETvoENlaL5HVSGNYx+CV+2RTP9Vhakvzzv67wPoUUHHaiyu5/bq7/nA8cOKW4+hajOOUhJQCjZLBaMKVheMmuU5pv2Rl/56RAGSwGWEQGp2SwGttGtF5kR9f37Fh9zDtCU1ckntQz+Ku3T/GsM9MVWCmBlsIiAWlv2xtML6F491CwAEv+yQCL9KRnBqspsdo4P13zZBxKGQ71KSjJ4v+OawkN785WMMAiMrjKevnb+1054PD3TQ5AKZi38qh+NRmUQezJPmeQC3VNqza02TX2yt9tz0SNoWcG68ilxh/hwcYgUuwph4r6VFvjkOcg1GKRJGawiMym1cJ6LHJNOaM4frnxr7fwgP+GoS7I+HnlyvvBXAm/Gmhxn4SSrcCBe21YdqOcenrum+CRke9UE2qvfy8//8E8nppIP7dnycdTM+2bZ8PygsaE5/5M6C5hqKr7/bGreFwbnZLBUp+mpm524F+ntM9bg9pLrINFZDaX6uUJmCtVV719ljf9ErjghoatTEtXV9+YTO1LfaWsw+LRNsy+2uo+CTWzSMhLl3BPD0uDOwoVfxjqfZoJJTs1qD27Ukg/V7WV8Ew/C7qmNv21KoLf++E2PEPCV+M8A6/GZLLJNTrlzKMOpwLlLFsm8y5CIlPZ75qeprQaXhmsy3bg6zNODOnY+BN1isa3fnpvCzo0l3B3joQdZ4FBq7wDuXYp3gGPMh4hOYSMwB6fge2hjK/yV0eLqLEsEnC4oumvUxtGtRQexuajlKYJdRyo4GTPRE0jhMCiA07YGzEGqjF/q/cHcoBzqd4zBksx9B9Nq4fVIcX795eHWmC1SJjQ3QJJkpCXHvw1TrjuSlSPwarxs1l56d7NzKEQGrnrOrFpIn2tKJKvCr4+07QBfoUBiu92bO79u5LpbdMMuC6Dx7QZaI3BCkSAARZRk7y4w4mHNzuQtMAetJZTU12sC/w7EHgck9o3ZQ0bk8xU+RTyv/3lr3+3VO8Tf6tkCf+tGity/kcNU15LDzcMsPy5r6f3SqFseWoSGyPS1xFXYF9WE5nX75oKlD6YBDE9Ce+NllO7ylFc/qMkbL2THUZmoHUXYSB+ZtABwACLKCQv7PAEKrMCVFSv06G+wLla79/3XWj4mmdDbCSGrGq4rco4FGW2+FSN836qqvxCoGruwboIt9xuRdtm3o9V6TDlD1G4lKMuGjWxlL/FywTzaUwGyx8GWERhWnlU+yv1VakTzd6yY9OppnVBLDno/fzFGrWj1DWsApE0zvAW14PnXVXT26U0XKd9M/X6/l/fN/ul9nRfC0Z0tqBVsrzONa67qTYcZ4BF0adc+2wrE5Dm1+P/dnpffPRZXg9pfj3u+qf/G0kCzW6gNSha6/tHxhZugBVoPQZYRD6+KXPiSIXnW1Ne0/AbJHzywjvOCqxzBQ77LzYtgHj/SPAArbQ6tL8RaNLk865MWfuUhq1Ay2TPY1rVpysesuH9G6zo286z3tqx3umsTNUdW/vvseGTW62wSv5PSMps9T/uxVaJImeLq9baOz4XMnvOyz//cazpFwDK6YFHsvlolWm4z08h5itbe4LpWVc1XIcBFsW987UCl+tDO2merREYvMqBAR96rmL/sqdhwNPlXe+r3KtX2vHrb+X1koLNkBzEiRBqXV2oDb4OEPiOp3LXa7Rr1nDZj/I878GicRneMlnCJJ+xVQPaea+nrp6d31pCWpKErqn+U+rKnYnXd+JpiSJHyWQFuvhoDPU1FzNY5mXRCLD8XRRKkme/t2vGAIsSUNt37CHXj+qwWF5PXetm3veeAEspuHm6Gpi+RV731g3er93UMR5T8+Wv5cF7PamjLi2815m+1QFpfj1+823j7yhUtrO1RoDVzCppjs0KpLnP+qkaH4QE/wGWMtciJ+alSFIuOsK9EPrRxtBr0DGDZV5adbD8zkMIwKn+xQdPZZQQjlZqP15RJ1DtGnR9oVb7W1TqGu9UON6GOYM83WBv7hdwOAXW+4wpulDXtC6GGodAVpqn+CcA/G6IFa8O83xdlQDQX+V0IQTOVAuM7Sp/6+cOb/hVXzzaisWjrJoZKkB+v6tuCr30dRvVFdyfh1nwQK5GgCX5v+vGHqHMApFanesrE+5xpjUW0h8Ocjcvzxgsz/72VxxZUg150NrXPJVRQktfZMfAlfKVaZt3vK9QlS9Yt1Rg1pUWDGwvoZNPJqlO44v3+L+bNsh9/j6B4krvTM6+CwL/3Sf0YOf1753IWGJHeS0wPkfCg7kNv+qZqVLAKWl6tZYwLie8U0Q317irx/tYYdPIEISUwWKrRBFU52oRI5kpZReheWmNwQqYwWKARYmqVvXN+KpUO/DZd0H7uW/vl58rIBcKBBoOCC8PcSxUKIQQ+P0uT5ef+guuVQtL8ftdDlTZBV7e5YDDKXDtP+z46Rfye91eJpBkkWtbnZtig/Mnka3Fc+BeGyof9v83AmWwlK4bzvNMkfSfcvnnl6X63s3qdRehu9FlhGU2yh4rUd2prVUqBwC+Kwfe2CefsTTv2NZ524gM42KdwJxvPc31mTALDG49LT+31uF/ktgnt2mPgfLX3RjIgYvAM197tlddP+rn/eSv6h1ZDb/Fz3ztxJSNDjz9tRP/PCnw7zPef1vpCmmbIkGK8CV1ik0KWCQ0UAZruavStm+ZCiI9LPWZgzOcknWhzODw5gjP69+ZLeGajhLG5zDAMpvcVvI+O6C6G/ygxuwTK8Z4H0/MYFHCOFMt0HqRHZtUM6Bf8ilhoy54+d05z/8nu27JXXRQHsdUVuNdjPOZfp6vzfuHPc9bdZPVPUnxRj8zrweiHiT+P33k6WvEdLkydNc0+XVXj7VpBnvKOLEdGtN4GGleP61N+bDICWl+vXvOwqw0A20wxY27mxDsVGhkkB9y3Wmr3IU7uovn9dulSPj3OBs6NOexbDZd0ySkWL3ngPU1LlvC3d2Dh08MsCguZSyRx1N9XuqZ0sW3npV64tfX9nqyJguu90Qwyh2EQzp6TpSzr7bgjRENo5yclhL+7BqI3jI5/G0+XeXZvts0MlUKrdILX7jep9ag9ytbG+ckL0neGayVRU68sEN+Q/P3ud7DAJ6WSH/hjLk6UiFQpqo1d0EjwFIytdWu76ORLmSoaZrbPBetWjSPJXYRUiLQmq6muQ2odcUe93xqR8/36/HJCU8w8ndXP/r03hJSVKOsny+UH89r5XmsmVXCpB7e36ZlN1rRr52Enq71qkO/o9tNPYnzmEz9vpqDOhjnzG+VPHfk1DsF7v7U4R4To/CdWodID/7ultXSs8COvGWeL7FvNiOjOTDBlRF71jWnJ8uLxI/zQcbWat2Iwy5CSggFRxoGWBfrgKe2OXG2RmB5kcCRS8D/2+ad7Um2AH+7Vs5MTcv3/rr4zrnnO8nxPT3kB5Sq51VhBlg7z+k74FbNSFfW318A/rRb/tz9fUbWJhZqJQrF4CAXHuobS3yv2f4yzIobMi0Q05PwvwOsENOTwgrgyNy0gmkGWJSQerT0/F8pJKolpyWQ7IpGLvpcsfoGKf4mOVbGUc34PLQCoEopCN9ipfHudzsduBxgjANRpNU75Tp2DqfwO4hdCAGnEHD43Pqa3oghABQ/mMGihKVMuXJla2BoRwmH70sK/ASXAxc9/x/c3vvr0twnoFJfrbZRdWkp1aEDlVVQrDnmhPVNO0qqBEqqQtpELykhlsUKNF1OrHxQ5MTlxIopyWB2ngNsC+ywLbAjaYH2wfjgRgesb9oxeJX3lygttFMKxalqjXMqAyxKCIWuO+l2T7Thq3FySumjsaEX6QSAsd3kr0YzK3Dsfptmt9WJyTZceMiG8h9pn219J4T29c8T8vKTl73X235X4G1VJlV+dVho7ync7spoSLNJmtv1xA94SqLYUs/N+d5h7e+wv7ItFH/UFf87Npd/9m8XWncwz2YUVz4/7cTcvUrhN8+X4NYs7UP9v66wYGRneb3/TPDUSWjmWv0vw6x+ywZkpkpIT/b/Rdt5LvC2KuM6fDNMPVoG/vLelmXBP2+x4ie9JQzrqL3uj3tJ+Ivrjkatq61Ys0jylEC+PjvJGlgUW1qzM/jSmqWA4pM64L4r2+J6jAEWJZjvzgmMWOM/mth4m/dl59qxVrx2ndXd/ZfbyrPsijYSvr3bhum9G38iDVabUFnue8dKKN0PN3W1wCJJWPVDKz4cIw+y/YXrbqZPb7XizettaO4aKGDEDNamEqFZUqIszGKwRHpKsjSsl6eF0zkljtMByjWoad3jENl5M4ii6K97PMFVwQ0Nc/ijulhQNkXCicvAq7sduNFVGPDtkVZsKRFe5RmA0NPA/ly2CwSa7tXpqgilTLdzU6aEqfkW90D7UHRsLmF8d3n9J35gQUmVwHWd5N+VQK0uhCrU0fLRWCtu+1jeT5+ebLhdheN5SqLYaW71zIkZiJHuzKXoyXTNtaoVTHEMFsW1lqopWkZ01j4Dtk+R0L+dhLdH2twBVacWEu7tqd9XYYjr9u9Jn2ln087WCHxZ6nRnsEpdBQ1fG27F/RqTMoeqfYr8vpq5zv4Tukt4tr8FU/ON8zX311Wr6NSCLRfFTkqI8T1rXiWG0X7aEa1Hta5jeblIcSM/Xf75VF8LOsewoV71Qyu6vGtHS5+uvoo6gdf2OvGL7d6XyE+75h9sl6LvdiRZJMwZzNG4RKGqC3G8IrsIE0OSTyBddEmOorR2v9ahwzicDOuzk/IcdYVloXVxna0BOqQAvx8a26CicwsJt3ST0Ket52tYZRd4cpujQXClxto6RLGlNSWOFmawEoPvvQwLD3i3RXMGeQ4ErVaKhwlFnBAC0vx6r387zwnc8bEd/VfU+y1nMHmjfE1w/drQRmmfrZUDLCNItcGrkGb39+3uufb8MVMl6KVLl8Z6E8iEzH7cXNla/skAK7piddwIePa5lplXeA4Ercv6qB8mhw4dwvDhw9GrVy8MHToU33//veZ6a9euxRVXXIFevXph4sSJqKysdC/btm0b+vfvj969e2PMmDEoKSnx+/p79+51LysrK8Mtt9yC/Px89O3bF1u3bnUvq66uxuTJk5GXl4fevXtjxYoV7mVCCDz22GPIzc1Ffn4+5s6d67Wtc+bMQW5uLvLy8vDcc895LVuwYAHy8/ORl5eHGTNmwOHwJBKj/R5jYdBKOyxvNgyQBnxox9pigV3lwIYTDQOParvAGdfdG1V2QJpfj+Gr5aKc0vx6fFjkxOkqgSf+7YA0vx7/u92BsmqB9inGCFLaNAO+OSvw5/84UFrleS/xIhInPHWZDIpPZg+wlDMVuwijK1bHzaV67QHtVXb5SFAPA9Gq3BH1AGvGjBmYOXMm9u/fj6effhoPPfRQg3UuX76Mn/zkJ1i9ejX279+Pzp0748UXXwQgBzsPPvgg/vKXv2Dfvn245ZZb8Pjjj/t9/Ycffti97Oc//zmGDRuGAwcO4K233sLkyZPdAc8rr7yClJQUHDx4EBs2bMCjjz6K8+fPAwAWL16Mffv24dChQ9i2bRtefvlld2C4ZcsWFBQUYPfu3dizZw8+/vhjrF+/HgBQVFSEX/3qV/jiiy9w8OBBnD59Gm+88UbM3qOeVh11Yk+5QGW9aJCBOlcjcLle4M19TnfRz0Bu3eDALtdcfJtOOXH7BjveOdiwK+3LUoEu78rB2hNfOdD5Xbt7Xrvf7nTivcMCdoPcMJdkkVBeC/zsKyc6vWvAOgkG0yoJXl2qREakNKK8izAxfFmq3aAoJWbUd3xrHRNRDbDKyspQWFiIBx54AAAwYcIEHD9+HEeOHPFab/369Rg4cCDy8vIAAI8++qg7gi0sLERSUhKuv/56AHKwsWbNGtTV1QV9/WXLlmHmzJkAgEGDBiEzMxObN28GABQUFLiX5eTkYNSoUVi5cqX7edOnTwcAtGnTBpMmTXJvz7JlyzBlyhSkpKQgOTkZ06ZNcy9bsWIFxo0bhw4dOgAAZs6c6V4Wi/cYqs9POzF6rd3dnTd0lSdAOFsjcOqywPhPHOizwo6WC+UMlTS/Hs9ud8DuFGi/2I60hXZM3+oJ7NKS5MrnYrp2kaf+H9rx868dGP2RAx8dF5j5eeB7pY9Vaj/u7wsRbbd05Rk4HKHcGk/UVEqtuMZKc92pzDqjia1Co1aa1jER1Zz88ePH0blzZ1gsnoM8KysLxcXF6NGjh/ux4uJiZGdnu3/PycnB6dOn4XQ6GyxLS0tDeno6Tp06hfLycr+v37p1a9jtdnTs2NG9LDs7G8XFxX7/ZqBl27Ztcy8bMWKE17KCgoJGvWak36M//zzuxEvldqwo0g5Ovi6Tu+WCeWmnEy/tbNhSvjvaismq8gM3dpFwRWsJN3eT8OBGh3tg6f/tavjcj2+xYuz6wBm4u7IlrDrmyoDdboy75pRaVBQaBlgUDU3NPKW6WkwGWIkj1F0d8wArUoLN+RYPIvEeq6vlgUG/WL0X6Ozdwv3PDyQMbm9BRb3AfwXJJgXyzXgrpAoJO3Z4Hvt9Z9d/zgIfXyUwdJX/AKr9GRvmZTmxu1zgb3safgajuwC/bG/Dzm+9Tz9eAAAHQElEQVTtOHoJSD1lxY4Sg5z9joXeNXhlG2DHDvN8HS9evIgd6p0ahoGX7dhxFkiyAvWuXT84w1zvnxqnKceNHtJOOYFj/s9nA9oD3571//ycFAk4JrBnpxXNOBAraqJ+3KjO3Rl2YPdJ78XD1Ocr17rVjoPyz2rPgNuontG6deuGkpISOJ1OdwamuLgYWVlZXutlZWXhk08+cf9eVFTkztpkZWXh6NGj7mWVlZWoqKhAly5dkJqaqvn62dnZaNu2LWw2G86cOePO8Bw9etT9t7Ozs3Hs2DFkZGS4l40dO9a9PceOHcPQoUMbPE9ZpvBdpu7+9F0W7ffoy/033mo4Du7Pms8I36DfNO35Vwd5/kYAV6t+H9zEvxcre+H9Pszg6qubtsXqnOi/Yb73T43T1OMmkr4Nsvwt189rTXqeMbNYHTefaTymdb76X9fPo0ePYvjw4QCiHGB16NABAwcOxOLFi/HQQw9h+fLl6Natm1f3IADcfPPNmDVrFg4cOID8/Hy8/vrruO+++wDIH7LdbsfmzZsxcuRIzJs3D3fccQeSk5P9vn737t0BAPfccw9ef/11PP/889i+fTtOnTqFkSNHAgAmTpyIefPmYciQISgqKsLmzZvx+uuvu583f/58TJw4ERcuXEBBQQE++ugj97JZs2bhscceg8ViwVtvvYXZs2cDkMdHjRgxAi+88AI6dOiAefPmud9HLN6jr7Fjx2LJkiXIyclB8+bNddvPREREiaS6utorMQMAEFG2f/9+MWzYMJGfny8GDx4s9uzZI4QQ4le/+pX4+9//7l5vzZo1onfv3iIvL0+MHz9eVFRUuJd99dVXom/fvqJXr15i9OjR4sSJE35ff/fu3e5lpaWl4oc//KHIy8sTffr0EZs3b3Yvu3z5spg0aZLo2bOn6NWrl1i+fLl7mcPhELNmzRI9evQQubm54q9//avXe/r1r38tevToIXr27CmeffZZr2Vvvvmm6Nmzp8jNzRXTp08Xdrs9Zu+RiIiIokMSIgEGMBERERFFEevREhEREemMAVaCCrWiPsW/xx9/HN27d4fFYsF3333nfjxSMx9QfKitrcX48ePRu3dvDBgwAGPHjsXhw4cB8NihwMaOHYv+/ftjwIABGDlyJHbu3AkgDo+bmHZQUszccMMN4p133hFCCLF8+XIxePDgGG8RxcrWrVvFyZMnRffu3cWuXbvcj0+bNk3Mnj1bCCHE9u3bRdeuXd1jCF988UUxdepUIYQQRUVFomPHjqK8vFwIIcSiRYvEmDFjhBBClJeXi+zsbLF3795oviWKgpqaGrF+/Xr373/729/EqFGjhBBCTJ06lccO+XXx4kX3/1euXCn69esnhIi/44YBVgI6c+aMSE9PFw6Hw/1Yp06dxOHDh2O4VRRrOTk5XgFWWlqaKC0tdf8+dOhQ8dlnnwkhhLjqqqvEtm3b3MvuvfdesWDBAiGEELfddpsoKChwL3v66afFL3/5y0hvPsXYN998I7p37y6E4LFDoXv77bfFwIEDhRDxd9ywsl8CCrWiPiWu8vLyiMx8QPHr1VdfxV133cVjh0Ly0EMPYePGjZAkCevWrYvL44ZjsIiIqEleeuklHD58GC+99FKsN4VMYtGiRSguLsacOXPw9NNPA4i/WVkYYCUgdUV9hVZFfUpc6lkBFFozH2gtCzS7AcWfV155BatWrcKGDRuQkpLCY4fCMmXKFGzatAkAkJSUFFfHDQOsBKSuBg/Ab0V9SmzKrAAA/M58AMA988Fdd93lft78+fPhdDpRXl6OgoICTJo0KTZvgiLqj3/8I95//3188sknaNmypftxHjvkz8WLF1FSUuL+fdWqVWjXrh3atm0bf8dNrAeBUWwEqgZPiWXGjBmia9euIikpSXTq1Enk5eUJISI38wHFhxMnTghJkkRubq4YMGCA6N+/v7jmmmuEEDx2yL9jx46JIUOGiL59+4p+/fqJm266yX1zTbwdN6zkTkRERKQzdhESERER6YwBFhEREZHOGGARERER6YwBFhEREZHOGGARERER6YwBFhEREZHOGGARERER6YwBFhEREZHOGGARERER6YwBFhEREZHOGGARERnYqVOn8IMf/CDWm0FEYWKARURkYJ9++im6desW680gojAxwCIiMrAtW7Zg1KhRsd4MIgoTAywiIgNat24dnnrqKbz33ns4ePAgfvGLX0AIEevNIqIQSYLfWCIiQyopKUGvXr1w8eJFSJIU680hojAwg0VEZFCff/45rrnmGgZXRCbEAIuIyKC2bt2KESNGxHoziKgRGGARERnU559/7g6wPv300xhvDRGFgwEWEZFB7d+/H1dffTUOHz6M4uLiWG8OEYWBg9yJiAzq8ccfR9euXdG8eXPMmjUr1ptDRGFggEVERESkM3YREhEREemMARYRERGRzhhgEREREemMARYRERGRzhhgEREREemMARYRERGRzv4/dg9ZxdUANDsAAAAASUVORK5CYII=\" />"
      ]
     },
     "execution_count": 11,
     "metadata": {},
     "output_type": "execute_result"
    }
   ],
   "source": [
    "plot(x[:,1], ene, title =L\"Absolute Error of Energy $q_1=2$\")\n",
    "xlabel!(L\"t\")\n",
    "ylabel!(L\"\\delta E\")"
   ]
  },
  {
   "cell_type": "code",
   "execution_count": 12,
   "metadata": {
    "collapsed": false
   },
   "outputs": [
    {
     "data": {
      "text/plain": [
       "2.319211489520967e-11"
      ]
     },
     "execution_count": 12,
     "metadata": {},
     "output_type": "execute_result"
    }
   ],
   "source": [
    "maximum(ene)"
   ]
  },
  {
   "cell_type": "code",
   "execution_count": 13,
   "metadata": {
    "collapsed": false
   },
   "outputs": [
    {
     "data": {
      "text/plain": [
       "psundriven (generic function with 2 methods)"
      ]
     },
     "execution_count": 13,
     "metadata": {},
     "output_type": "execute_result"
    }
   ],
   "source": [
    "function psundriven(x10::Float64, px10::Float64, tol::Float64 = 1e-20)\n",
    "    c1 = condini(x10, px10)\n",
    "    t, x = mytaylorinteg(undrivenHelium, c1, order, abs_tol, t0, 15.0)\n",
    "    ps = zeros(x)\n",
    "    ts = zeros(t)\n",
    "    count = 0\n",
    "    for j in eachindex(ts)\n",
    "        if abs(x[j,3]) < tol\n",
    "            count += 1\n",
    "            ts[count] = t[j]\n",
    "            ps[count, :] = x[j, :]\n",
    "        end\n",
    "    end\n",
    "    return ts[1:count], ps[1:count, :]\n",
    "end"
   ]
  },
  {
   "cell_type": "code",
   "execution_count": 21,
   "metadata": {
    "collapsed": false
   },
   "outputs": [
    {
     "name": "stderr",
     "output_type": "stream",
     "text": [
      "WARNING: Method definition nombret(Int64) in module Main at In[19]:2 overwritten at In[21]:2.\n",
      "WARNING: Method definition nombreq(Int64) in module Main at In[19]:3 overwritten at In[21]:3.\n",
      "WARNING: Method definition orbits() in module Main at In[19]:6 overwritten at In[21]:6.\n",
      "WARNING: Method definition orbits(Any) in module Main at In[19]:6 overwritten at In[21]:6.\n"
     ]
    },
    {
     "data": {
      "text/plain": [
       "orbits (generic function with 2 methods)"
      ]
     },
     "execution_count": 21,
     "metadata": {},
     "output_type": "execute_result"
    }
   ],
   "source": [
    "#Haremos malavares con metaprogramming para ver varias órbitas\n",
    "nombret(n::Int) = Symbol( string(\"t\", n) )\n",
    "nombreq(n::Int) = Symbol( string(\"q\", n) )\n",
    "\n",
    "function orbits(rs = 2:10)\n",
    "    N = length(rs)\n",
    "    # Checo que `n` sea >= 1\n",
    "    @assert N >= 0  \n",
    "\n",
    "    for j = 1:N\n",
    "        ex = quote \n",
    "                $(nombret(j)), $(nombreq(j)) = \n",
    "                psundriven(Float64($(rs[j])), 0.0) \n",
    "             end\n",
    "        eval(ex)  \n",
    "    end\n",
    "end"
   ]
  },
  {
   "cell_type": "code",
   "execution_count": 15,
   "metadata": {
    "collapsed": false
   },
   "outputs": [
    {
     "data": {
      "text/plain": [
       "ks (generic function with 1 method)"
      ]
     },
     "execution_count": 15,
     "metadata": {},
     "output_type": "execute_result"
    }
   ],
   "source": [
    "function ksv(Q, P)\n",
    "    v₁ = P/Q\n",
    "    return v₁\n",
    "end\n",
    "ks(Q) = Q^2"
   ]
  },
  {
   "cell_type": "code",
   "execution_count": 22,
   "metadata": {
    "collapsed": false
   },
   "outputs": [
    {
     "name": "stderr",
     "output_type": "stream",
     "text": [
      "\u001b[1m\u001b[31mWARNING: Maximum number of integration steps reached; exiting.\u001b[0m\n"
     ]
    }
   ],
   "source": [
    "orbits()"
   ]
  },
  {
   "cell_type": "code",
   "execution_count": 23,
   "metadata": {
    "collapsed": false
   },
   "outputs": [],
   "source": [
    "xs1 = map(ks, q1[:,2])\n",
    "vxs1 = Float64[ksv(q1[j,2], q1[j, 4]) for j in eachindex(t1)]\n",
    "xs2 = map(ks, q2[:,2])\n",
    "vxs2 = Float64[ksv(q2[j,2], q2[j, 4]) for j in eachindex(t2)]\n",
    "xs3 = map(ks, q3[:,2])\n",
    "vxs3 = Float64[ksv(q3[j,2], q3[j, 4]) for j in eachindex(t3)]\n",
    "xs4 = map(ks, q4[:,2])\n",
    "vxs4 = Float64[ksv(q4[j,2], q4[j, 4]) for j in eachindex(t4)]\n",
    "xs5 = map(ks, q5[:,2])\n",
    "vxs5 = Float64[ksv(q5[j,2], q5[j, 4]) for j in eachindex(t5)]\n",
    "xs6 = map(ks, q6[:,2])\n",
    "vxs6 = Float64[ksv(q6[j,2], q6[j, 4]) for j in eachindex(t6)]\n",
    "xs7 = map(ks, q7[:,2])\n",
    "vxs7 = Float64[ksv(q7[j,2], q7[j, 4]) for j in eachindex(t7)]\n",
    "xs8 = map(ks, q8[:,2])\n",
    "vxs8 = Float64[ksv(q8[j,2], q8[j, 4]) for j in eachindex(t8)]\n",
    "xs9 = map(ks, q9[:,2])\n",
    "vxs9 = Float64[ksv(q9[j,2], q9[j, 4]) for j in eachindex(t9)];"
   ]
  },
  {
   "cell_type": "code",
   "execution_count": 27,
   "metadata": {
    "collapsed": false
   },
   "outputs": [
    {
     "data": {
      "text/html": [
       "<img src=\"data:image/png;base64,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\" />"
      ]
     },
     "execution_count": 27,
     "metadata": {},
     "output_type": "execute_result"
    }
   ],
   "source": [
    "plot(xs1, vxs1, label = L\"q = 2\", title = L\"Poincaré Section $Z = 2$,  $r_{2_0} =0$\", legend =:true)\n",
    "plot!(xs2, vxs2, label = L\"q = 3\")\n",
    "plot!(xs3, vxs3, label = L\"q = 4\")\n",
    "plot!(xs4, vxs4, label = L\"q = 5\")\n",
    "plot!(xs5, vxs5, label = L\"q = 6\")\n",
    "plot!(xs6, vxs6, label = L\"q = 7\")\n",
    "plot!(xs7, vxs7, label = L\"q = 8\")\n",
    "plot!(xs8, vxs8, label = L\"q = 9\")\n",
    "plot!(xs9, vxs9, label = L\"q = 10\")\n",
    "xaxis!([0,20])\n",
    "xlabel!(L\"x\")\n",
    "ylabel!(L\"p_x\")\n",
    "yaxis!([-1,2])\n",
    "xaxis!([0,100])"
   ]
  },
  {
   "cell_type": "code",
   "execution_count": null,
   "metadata": {
    "collapsed": true
   },
   "outputs": [],
   "source": []
  }
 ],
 "metadata": {
  "kernelspec": {
   "display_name": "Julia 0.5.0",
   "language": "julia",
   "name": "julia-0.5"
  },
  "language_info": {
   "file_extension": ".jl",
   "mimetype": "application/julia",
   "name": "julia",
   "version": "0.5.0"
  }
 },
 "nbformat": 4,
 "nbformat_minor": 0
}
